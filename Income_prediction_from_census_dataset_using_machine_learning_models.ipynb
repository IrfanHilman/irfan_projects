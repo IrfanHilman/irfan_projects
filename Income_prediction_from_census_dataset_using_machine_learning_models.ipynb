{
  "nbformat": 4,
  "nbformat_minor": 0,
  "metadata": {
    "colab": {
      "provenance": [],
      "collapsed_sections": [
        "v6PVLxFPn63H",
        "o_g5AE_Mn_IS",
        "7QFWQvupoEaU"
      ]
    },
    "kernelspec": {
      "name": "python3",
      "display_name": "Python 3"
    },
    "language_info": {
      "name": "python"
    }
  },
  "cells": [
    {
      "cell_type": "markdown",
      "source": [
        "Muhammad Irfan Hilman\n",
        "\n",
        "FTDS Batch 16"
      ],
      "metadata": {
        "id": "tb9XO8gZpeqq"
      }
    },
    {
      "cell_type": "markdown",
      "source": [
        "# I. Perkenalan\n"
      ],
      "metadata": {
        "id": "TpwdGUlBnxQS"
      }
    },
    {
      "cell_type": "markdown",
      "source": [
        "Seorang data scientist ditugaskan untuk menganalisa dataset sensus kependudukan. Tujuan dari kegiatan tsb adalah untuk menyelidiki hubungan antara tingkat penghasilan dengan parameter2 terkait seperti umur, pekerjaan, pendidikan, status, ras, jenis kelamin, jam kerja dan asal negara. Diharapkan dari analisa tsb diperoleh insight2 penting untuk nantinya digunakan pemerintah untuk membuat kebijakan membangun perekonomian. \n",
        "\n",
        "Kegiatan analisa menggunakan metode regresi logistik dan support vector machine (SVM) dengan menggunakan bauran data numerik dan kategorikal. Target yang digunakan adalah penghasilan yang dibagi menjadi diatas 50,000 USD (>50K) dan dibawah 50,000 USD (<=50K) sehingga digolongkan sebagai data kategorikal. Di sisi lain, fitur yang digunakan berupa data numerik dan kategorikal sehingga harus melalui fase pemrosesan seperti scaling dan encoding. Dataset yang digunakan adalah ml_datasets.census_adult_income yang berasal dari bigquery-public-data. Untuk mencari metode terbaik akan dilakukan beberapa variasi hyperparameter dari SVM, yaitu kernel rbf, linear dan polynomial dengan C=1 dan C=100. Hasil dari SVM ini juga akan dibandingkan dengan hasil dari regresi logistik menggunakan analisa statistik dari model performance."
      ],
      "metadata": {
        "id": "sxXpfIO3Mh_p"
      }
    },
    {
      "cell_type": "markdown",
      "source": [
        "Pertama2, untuk mendownload dataset dari Big Query akan digunakan melalui code SQL berikut:\n",
        "\n",
        "SELECT age, workclass, education, education_num, marital_status, occupation, relationship, race, sex, capital_gain, capital_loss, hours_per_week, native_country, income_bracket, \n",
        "\n",
        "FROM `bigquery-public-data.ml_datasets.census_adult_income`\n",
        "\n",
        "WHERE workclass NOT LIKE '%?%'\n",
        "\n",
        "AND hours_per_week < 100\n",
        "\n",
        "LIMIT 19930\n"
      ],
      "metadata": {
        "id": "6R8Qa5hVtNKp"
      }
    },
    {
      "cell_type": "markdown",
      "source": [
        "# II. Import Libraries\n",
        "\n",
        "Cell pertama pada notebook harus berisi dan hanya berisi semua library yang digunakan dalam project."
      ],
      "metadata": {
        "id": "d7WB8KBHn1jT"
      }
    },
    {
      "cell_type": "code",
      "source": [
        "# Install package feature-engine untuk keperluan handling outlier\n",
        "!pip install feature-engine"
      ],
      "metadata": {
        "colab": {
          "base_uri": "https://localhost:8080/"
        },
        "id": "Nn_w62YyU00E",
        "outputId": "851a12a7-2cbe-4b1e-9195-e11f68405d3c"
      },
      "execution_count": 1,
      "outputs": [
        {
          "output_type": "stream",
          "name": "stdout",
          "text": [
            "Looking in indexes: https://pypi.org/simple, https://us-python.pkg.dev/colab-wheels/public/simple/\n",
            "Collecting feature-engine\n",
            "  Downloading feature_engine-1.5.2-py2.py3-none-any.whl (290 kB)\n",
            "\u001b[K     |████████████████████████████████| 290 kB 12.0 MB/s \n",
            "\u001b[?25hRequirement already satisfied: scikit-learn>=1.0.0 in /usr/local/lib/python3.8/dist-packages (from feature-engine) (1.0.2)\n",
            "Requirement already satisfied: scipy>=1.4.1 in /usr/local/lib/python3.8/dist-packages (from feature-engine) (1.7.3)\n",
            "Requirement already satisfied: numpy>=1.18.2 in /usr/local/lib/python3.8/dist-packages (from feature-engine) (1.21.6)\n",
            "Requirement already satisfied: pandas>=1.0.3 in /usr/local/lib/python3.8/dist-packages (from feature-engine) (1.3.5)\n",
            "Requirement already satisfied: statsmodels>=0.11.1 in /usr/local/lib/python3.8/dist-packages (from feature-engine) (0.12.2)\n",
            "Requirement already satisfied: pytz>=2017.3 in /usr/local/lib/python3.8/dist-packages (from pandas>=1.0.3->feature-engine) (2022.6)\n",
            "Requirement already satisfied: python-dateutil>=2.7.3 in /usr/local/lib/python3.8/dist-packages (from pandas>=1.0.3->feature-engine) (2.8.2)\n",
            "Requirement already satisfied: six>=1.5 in /usr/local/lib/python3.8/dist-packages (from python-dateutil>=2.7.3->pandas>=1.0.3->feature-engine) (1.15.0)\n",
            "Requirement already satisfied: threadpoolctl>=2.0.0 in /usr/local/lib/python3.8/dist-packages (from scikit-learn>=1.0.0->feature-engine) (3.1.0)\n",
            "Requirement already satisfied: joblib>=0.11 in /usr/local/lib/python3.8/dist-packages (from scikit-learn>=1.0.0->feature-engine) (1.2.0)\n",
            "Requirement already satisfied: patsy>=0.5 in /usr/local/lib/python3.8/dist-packages (from statsmodels>=0.11.1->feature-engine) (0.5.3)\n",
            "Installing collected packages: feature-engine\n",
            "Successfully installed feature-engine-1.5.2\n"
          ]
        }
      ]
    },
    {
      "cell_type": "code",
      "source": [
        "# Import library2 yang dibutuhkan \n",
        "import pandas as pd\n",
        "import numpy as np\n",
        "import matplotlib.pyplot as plt\n",
        "import seaborn as sns\n",
        "from sklearn.model_selection import train_test_split\n",
        "from sklearn.preprocessing import OrdinalEncoder, LabelEncoder, OneHotEncoder\n",
        "from sklearn.feature_selection import chi2, SelectKBest\n",
        "from sklearn.preprocessing import MinMaxScaler\n",
        "from feature_engine.outliers import Winsorizer\n",
        "from sklearn.metrics import accuracy_score, confusion_matrix, ConfusionMatrixDisplay, classification_report\n",
        "from sklearn.linear_model import LogisticRegression\n",
        "from sklearn.svm import SVC"
      ],
      "metadata": {
        "id": "cvhBqcpnuu0I"
      },
      "execution_count": 2,
      "outputs": []
    },
    {
      "cell_type": "markdown",
      "source": [
        "# III. Data Loading\n",
        "\n",
        "Bagian ini berisi proses penyiapan data sebelum dilakukan eksplorasi data lebih lanjut. Proses Data Loading dapat berupa memberi nama baru untuk setiap kolom, mengecek ukuran dataset, dll."
      ],
      "metadata": {
        "id": "v6PVLxFPn63H"
      }
    },
    {
      "cell_type": "code",
      "source": [
        "# Load dataset h8dsft_P1G2_Irfan_Hilman.csv yang sudah diupload ke repo GitHub. Store dataset ke dalam df\n",
        "df = pd.read_csv('https://raw.githubusercontent.com/IrfanHilman/FTDS_Hacktiv8_Batch_16/main/h8dsft_P1G2_Irfan_Hilman.csv')\n",
        "\n",
        "# Tampilkan 5 baris pertama\n",
        "df.head()"
      ],
      "metadata": {
        "colab": {
          "base_uri": "https://localhost:8080/",
          "height": 0
        },
        "id": "ZusBUxh-ucC1",
        "outputId": "0bd5cb51-ad30-46d5-e97e-b50c4c1497eb"
      },
      "execution_count": 5,
      "outputs": [
        {
          "output_type": "execute_result",
          "data": {
            "text/plain": [
              "   age          workclass      education  education_num       marital_status  \\\n",
              "0   18       Never-worked   Some-college             10        Never-married   \n",
              "1   37            Private           12th              8   Married-civ-spouse   \n",
              "2   39   Self-emp-not-inc        HS-grad              9   Married-civ-spouse   \n",
              "3   29            Private        HS-grad              9   Married-civ-spouse   \n",
              "4   64            Private        HS-grad              9   Married-civ-spouse   \n",
              "\n",
              "  occupation relationship                 race      sex  capital_gain  \\\n",
              "0          ?    Own-child                White     Male             0   \n",
              "1      Sales         Wife   Asian-Pac-Islander   Female             0   \n",
              "2      Sales         Wife                Black   Female             0   \n",
              "3      Sales         Wife                White   Female             0   \n",
              "4      Sales         Wife                White   Female             0   \n",
              "\n",
              "   capital_loss  hours_per_week       native_country income_bracket  \n",
              "0             0               4        United-States          <=50K  \n",
              "1             0              33                    ?          <=50K  \n",
              "2             0              54   Dominican-Republic           >50K  \n",
              "3             0              18        United-States          <=50K  \n",
              "4             0              21        United-States          <=50K  "
            ],
            "text/html": [
              "\n",
              "  <div id=\"df-f130aaee-8ae8-4b76-ac47-2b9556a86bd1\">\n",
              "    <div class=\"colab-df-container\">\n",
              "      <div>\n",
              "<style scoped>\n",
              "    .dataframe tbody tr th:only-of-type {\n",
              "        vertical-align: middle;\n",
              "    }\n",
              "\n",
              "    .dataframe tbody tr th {\n",
              "        vertical-align: top;\n",
              "    }\n",
              "\n",
              "    .dataframe thead th {\n",
              "        text-align: right;\n",
              "    }\n",
              "</style>\n",
              "<table border=\"1\" class=\"dataframe\">\n",
              "  <thead>\n",
              "    <tr style=\"text-align: right;\">\n",
              "      <th></th>\n",
              "      <th>age</th>\n",
              "      <th>workclass</th>\n",
              "      <th>education</th>\n",
              "      <th>education_num</th>\n",
              "      <th>marital_status</th>\n",
              "      <th>occupation</th>\n",
              "      <th>relationship</th>\n",
              "      <th>race</th>\n",
              "      <th>sex</th>\n",
              "      <th>capital_gain</th>\n",
              "      <th>capital_loss</th>\n",
              "      <th>hours_per_week</th>\n",
              "      <th>native_country</th>\n",
              "      <th>income_bracket</th>\n",
              "    </tr>\n",
              "  </thead>\n",
              "  <tbody>\n",
              "    <tr>\n",
              "      <th>0</th>\n",
              "      <td>18</td>\n",
              "      <td>Never-worked</td>\n",
              "      <td>Some-college</td>\n",
              "      <td>10</td>\n",
              "      <td>Never-married</td>\n",
              "      <td>?</td>\n",
              "      <td>Own-child</td>\n",
              "      <td>White</td>\n",
              "      <td>Male</td>\n",
              "      <td>0</td>\n",
              "      <td>0</td>\n",
              "      <td>4</td>\n",
              "      <td>United-States</td>\n",
              "      <td>&lt;=50K</td>\n",
              "    </tr>\n",
              "    <tr>\n",
              "      <th>1</th>\n",
              "      <td>37</td>\n",
              "      <td>Private</td>\n",
              "      <td>12th</td>\n",
              "      <td>8</td>\n",
              "      <td>Married-civ-spouse</td>\n",
              "      <td>Sales</td>\n",
              "      <td>Wife</td>\n",
              "      <td>Asian-Pac-Islander</td>\n",
              "      <td>Female</td>\n",
              "      <td>0</td>\n",
              "      <td>0</td>\n",
              "      <td>33</td>\n",
              "      <td>?</td>\n",
              "      <td>&lt;=50K</td>\n",
              "    </tr>\n",
              "    <tr>\n",
              "      <th>2</th>\n",
              "      <td>39</td>\n",
              "      <td>Self-emp-not-inc</td>\n",
              "      <td>HS-grad</td>\n",
              "      <td>9</td>\n",
              "      <td>Married-civ-spouse</td>\n",
              "      <td>Sales</td>\n",
              "      <td>Wife</td>\n",
              "      <td>Black</td>\n",
              "      <td>Female</td>\n",
              "      <td>0</td>\n",
              "      <td>0</td>\n",
              "      <td>54</td>\n",
              "      <td>Dominican-Republic</td>\n",
              "      <td>&gt;50K</td>\n",
              "    </tr>\n",
              "    <tr>\n",
              "      <th>3</th>\n",
              "      <td>29</td>\n",
              "      <td>Private</td>\n",
              "      <td>HS-grad</td>\n",
              "      <td>9</td>\n",
              "      <td>Married-civ-spouse</td>\n",
              "      <td>Sales</td>\n",
              "      <td>Wife</td>\n",
              "      <td>White</td>\n",
              "      <td>Female</td>\n",
              "      <td>0</td>\n",
              "      <td>0</td>\n",
              "      <td>18</td>\n",
              "      <td>United-States</td>\n",
              "      <td>&lt;=50K</td>\n",
              "    </tr>\n",
              "    <tr>\n",
              "      <th>4</th>\n",
              "      <td>64</td>\n",
              "      <td>Private</td>\n",
              "      <td>HS-grad</td>\n",
              "      <td>9</td>\n",
              "      <td>Married-civ-spouse</td>\n",
              "      <td>Sales</td>\n",
              "      <td>Wife</td>\n",
              "      <td>White</td>\n",
              "      <td>Female</td>\n",
              "      <td>0</td>\n",
              "      <td>0</td>\n",
              "      <td>21</td>\n",
              "      <td>United-States</td>\n",
              "      <td>&lt;=50K</td>\n",
              "    </tr>\n",
              "  </tbody>\n",
              "</table>\n",
              "</div>\n",
              "      <button class=\"colab-df-convert\" onclick=\"convertToInteractive('df-f130aaee-8ae8-4b76-ac47-2b9556a86bd1')\"\n",
              "              title=\"Convert this dataframe to an interactive table.\"\n",
              "              style=\"display:none;\">\n",
              "        \n",
              "  <svg xmlns=\"http://www.w3.org/2000/svg\" height=\"24px\"viewBox=\"0 0 24 24\"\n",
              "       width=\"24px\">\n",
              "    <path d=\"M0 0h24v24H0V0z\" fill=\"none\"/>\n",
              "    <path d=\"M18.56 5.44l.94 2.06.94-2.06 2.06-.94-2.06-.94-.94-2.06-.94 2.06-2.06.94zm-11 1L8.5 8.5l.94-2.06 2.06-.94-2.06-.94L8.5 2.5l-.94 2.06-2.06.94zm10 10l.94 2.06.94-2.06 2.06-.94-2.06-.94-.94-2.06-.94 2.06-2.06.94z\"/><path d=\"M17.41 7.96l-1.37-1.37c-.4-.4-.92-.59-1.43-.59-.52 0-1.04.2-1.43.59L10.3 9.45l-7.72 7.72c-.78.78-.78 2.05 0 2.83L4 21.41c.39.39.9.59 1.41.59.51 0 1.02-.2 1.41-.59l7.78-7.78 2.81-2.81c.8-.78.8-2.07 0-2.86zM5.41 20L4 18.59l7.72-7.72 1.47 1.35L5.41 20z\"/>\n",
              "  </svg>\n",
              "      </button>\n",
              "      \n",
              "  <style>\n",
              "    .colab-df-container {\n",
              "      display:flex;\n",
              "      flex-wrap:wrap;\n",
              "      gap: 12px;\n",
              "    }\n",
              "\n",
              "    .colab-df-convert {\n",
              "      background-color: #E8F0FE;\n",
              "      border: none;\n",
              "      border-radius: 50%;\n",
              "      cursor: pointer;\n",
              "      display: none;\n",
              "      fill: #1967D2;\n",
              "      height: 32px;\n",
              "      padding: 0 0 0 0;\n",
              "      width: 32px;\n",
              "    }\n",
              "\n",
              "    .colab-df-convert:hover {\n",
              "      background-color: #E2EBFA;\n",
              "      box-shadow: 0px 1px 2px rgba(60, 64, 67, 0.3), 0px 1px 3px 1px rgba(60, 64, 67, 0.15);\n",
              "      fill: #174EA6;\n",
              "    }\n",
              "\n",
              "    [theme=dark] .colab-df-convert {\n",
              "      background-color: #3B4455;\n",
              "      fill: #D2E3FC;\n",
              "    }\n",
              "\n",
              "    [theme=dark] .colab-df-convert:hover {\n",
              "      background-color: #434B5C;\n",
              "      box-shadow: 0px 1px 3px 1px rgba(0, 0, 0, 0.15);\n",
              "      filter: drop-shadow(0px 1px 2px rgba(0, 0, 0, 0.3));\n",
              "      fill: #FFFFFF;\n",
              "    }\n",
              "  </style>\n",
              "\n",
              "      <script>\n",
              "        const buttonEl =\n",
              "          document.querySelector('#df-f130aaee-8ae8-4b76-ac47-2b9556a86bd1 button.colab-df-convert');\n",
              "        buttonEl.style.display =\n",
              "          google.colab.kernel.accessAllowed ? 'block' : 'none';\n",
              "\n",
              "        async function convertToInteractive(key) {\n",
              "          const element = document.querySelector('#df-f130aaee-8ae8-4b76-ac47-2b9556a86bd1');\n",
              "          const dataTable =\n",
              "            await google.colab.kernel.invokeFunction('convertToInteractive',\n",
              "                                                     [key], {});\n",
              "          if (!dataTable) return;\n",
              "\n",
              "          const docLinkHtml = 'Like what you see? Visit the ' +\n",
              "            '<a target=\"_blank\" href=https://colab.research.google.com/notebooks/data_table.ipynb>data table notebook</a>'\n",
              "            + ' to learn more about interactive tables.';\n",
              "          element.innerHTML = '';\n",
              "          dataTable['output_type'] = 'display_data';\n",
              "          await google.colab.output.renderOutput(dataTable, element);\n",
              "          const docLink = document.createElement('div');\n",
              "          docLink.innerHTML = docLinkHtml;\n",
              "          element.appendChild(docLink);\n",
              "        }\n",
              "      </script>\n",
              "    </div>\n",
              "  </div>\n",
              "  "
            ]
          },
          "metadata": {},
          "execution_count": 5
        }
      ]
    },
    {
      "cell_type": "code",
      "source": [
        "# Tampilkan 5 baris terakhir\n",
        "df.tail()"
      ],
      "metadata": {
        "colab": {
          "base_uri": "https://localhost:8080/",
          "height": 0
        },
        "id": "4S-1S-t_u7eC",
        "outputId": "3a3d8afb-46cc-47a0-ff8d-80566032055b"
      },
      "execution_count": 6,
      "outputs": [
        {
          "output_type": "execute_result",
          "data": {
            "text/plain": [
              "       age workclass education  education_num       marital_status  \\\n",
              "19925   25   Private   HS-grad              9   Married-civ-spouse   \n",
              "19926   23   Private   HS-grad              9   Married-civ-spouse   \n",
              "19927   46   Private   HS-grad              9   Married-civ-spouse   \n",
              "19928   40   Private   HS-grad              9   Married-civ-spouse   \n",
              "19929   59   Private   HS-grad              9   Married-civ-spouse   \n",
              "\n",
              "              occupation relationship    race    sex  capital_gain  \\\n",
              "19925   Transport-moving      Husband   Black   Male             0   \n",
              "19926   Transport-moving      Husband   White   Male             0   \n",
              "19927   Transport-moving      Husband   Black   Male             0   \n",
              "19928   Transport-moving      Husband   White   Male             0   \n",
              "19929   Transport-moving      Husband   White   Male             0   \n",
              "\n",
              "       capital_loss  hours_per_week  native_country income_bracket  \n",
              "19925             0              40   United-States          <=50K  \n",
              "19926             0              40   United-States          <=50K  \n",
              "19927             0              40   United-States          <=50K  \n",
              "19928             0              40   United-States          <=50K  \n",
              "19929             0              40   United-States           >50K  "
            ],
            "text/html": [
              "\n",
              "  <div id=\"df-a9ae1ca9-acd2-474d-b866-f7a64de1ff2c\">\n",
              "    <div class=\"colab-df-container\">\n",
              "      <div>\n",
              "<style scoped>\n",
              "    .dataframe tbody tr th:only-of-type {\n",
              "        vertical-align: middle;\n",
              "    }\n",
              "\n",
              "    .dataframe tbody tr th {\n",
              "        vertical-align: top;\n",
              "    }\n",
              "\n",
              "    .dataframe thead th {\n",
              "        text-align: right;\n",
              "    }\n",
              "</style>\n",
              "<table border=\"1\" class=\"dataframe\">\n",
              "  <thead>\n",
              "    <tr style=\"text-align: right;\">\n",
              "      <th></th>\n",
              "      <th>age</th>\n",
              "      <th>workclass</th>\n",
              "      <th>education</th>\n",
              "      <th>education_num</th>\n",
              "      <th>marital_status</th>\n",
              "      <th>occupation</th>\n",
              "      <th>relationship</th>\n",
              "      <th>race</th>\n",
              "      <th>sex</th>\n",
              "      <th>capital_gain</th>\n",
              "      <th>capital_loss</th>\n",
              "      <th>hours_per_week</th>\n",
              "      <th>native_country</th>\n",
              "      <th>income_bracket</th>\n",
              "    </tr>\n",
              "  </thead>\n",
              "  <tbody>\n",
              "    <tr>\n",
              "      <th>19925</th>\n",
              "      <td>25</td>\n",
              "      <td>Private</td>\n",
              "      <td>HS-grad</td>\n",
              "      <td>9</td>\n",
              "      <td>Married-civ-spouse</td>\n",
              "      <td>Transport-moving</td>\n",
              "      <td>Husband</td>\n",
              "      <td>Black</td>\n",
              "      <td>Male</td>\n",
              "      <td>0</td>\n",
              "      <td>0</td>\n",
              "      <td>40</td>\n",
              "      <td>United-States</td>\n",
              "      <td>&lt;=50K</td>\n",
              "    </tr>\n",
              "    <tr>\n",
              "      <th>19926</th>\n",
              "      <td>23</td>\n",
              "      <td>Private</td>\n",
              "      <td>HS-grad</td>\n",
              "      <td>9</td>\n",
              "      <td>Married-civ-spouse</td>\n",
              "      <td>Transport-moving</td>\n",
              "      <td>Husband</td>\n",
              "      <td>White</td>\n",
              "      <td>Male</td>\n",
              "      <td>0</td>\n",
              "      <td>0</td>\n",
              "      <td>40</td>\n",
              "      <td>United-States</td>\n",
              "      <td>&lt;=50K</td>\n",
              "    </tr>\n",
              "    <tr>\n",
              "      <th>19927</th>\n",
              "      <td>46</td>\n",
              "      <td>Private</td>\n",
              "      <td>HS-grad</td>\n",
              "      <td>9</td>\n",
              "      <td>Married-civ-spouse</td>\n",
              "      <td>Transport-moving</td>\n",
              "      <td>Husband</td>\n",
              "      <td>Black</td>\n",
              "      <td>Male</td>\n",
              "      <td>0</td>\n",
              "      <td>0</td>\n",
              "      <td>40</td>\n",
              "      <td>United-States</td>\n",
              "      <td>&lt;=50K</td>\n",
              "    </tr>\n",
              "    <tr>\n",
              "      <th>19928</th>\n",
              "      <td>40</td>\n",
              "      <td>Private</td>\n",
              "      <td>HS-grad</td>\n",
              "      <td>9</td>\n",
              "      <td>Married-civ-spouse</td>\n",
              "      <td>Transport-moving</td>\n",
              "      <td>Husband</td>\n",
              "      <td>White</td>\n",
              "      <td>Male</td>\n",
              "      <td>0</td>\n",
              "      <td>0</td>\n",
              "      <td>40</td>\n",
              "      <td>United-States</td>\n",
              "      <td>&lt;=50K</td>\n",
              "    </tr>\n",
              "    <tr>\n",
              "      <th>19929</th>\n",
              "      <td>59</td>\n",
              "      <td>Private</td>\n",
              "      <td>HS-grad</td>\n",
              "      <td>9</td>\n",
              "      <td>Married-civ-spouse</td>\n",
              "      <td>Transport-moving</td>\n",
              "      <td>Husband</td>\n",
              "      <td>White</td>\n",
              "      <td>Male</td>\n",
              "      <td>0</td>\n",
              "      <td>0</td>\n",
              "      <td>40</td>\n",
              "      <td>United-States</td>\n",
              "      <td>&gt;50K</td>\n",
              "    </tr>\n",
              "  </tbody>\n",
              "</table>\n",
              "</div>\n",
              "      <button class=\"colab-df-convert\" onclick=\"convertToInteractive('df-a9ae1ca9-acd2-474d-b866-f7a64de1ff2c')\"\n",
              "              title=\"Convert this dataframe to an interactive table.\"\n",
              "              style=\"display:none;\">\n",
              "        \n",
              "  <svg xmlns=\"http://www.w3.org/2000/svg\" height=\"24px\"viewBox=\"0 0 24 24\"\n",
              "       width=\"24px\">\n",
              "    <path d=\"M0 0h24v24H0V0z\" fill=\"none\"/>\n",
              "    <path d=\"M18.56 5.44l.94 2.06.94-2.06 2.06-.94-2.06-.94-.94-2.06-.94 2.06-2.06.94zm-11 1L8.5 8.5l.94-2.06 2.06-.94-2.06-.94L8.5 2.5l-.94 2.06-2.06.94zm10 10l.94 2.06.94-2.06 2.06-.94-2.06-.94-.94-2.06-.94 2.06-2.06.94z\"/><path d=\"M17.41 7.96l-1.37-1.37c-.4-.4-.92-.59-1.43-.59-.52 0-1.04.2-1.43.59L10.3 9.45l-7.72 7.72c-.78.78-.78 2.05 0 2.83L4 21.41c.39.39.9.59 1.41.59.51 0 1.02-.2 1.41-.59l7.78-7.78 2.81-2.81c.8-.78.8-2.07 0-2.86zM5.41 20L4 18.59l7.72-7.72 1.47 1.35L5.41 20z\"/>\n",
              "  </svg>\n",
              "      </button>\n",
              "      \n",
              "  <style>\n",
              "    .colab-df-container {\n",
              "      display:flex;\n",
              "      flex-wrap:wrap;\n",
              "      gap: 12px;\n",
              "    }\n",
              "\n",
              "    .colab-df-convert {\n",
              "      background-color: #E8F0FE;\n",
              "      border: none;\n",
              "      border-radius: 50%;\n",
              "      cursor: pointer;\n",
              "      display: none;\n",
              "      fill: #1967D2;\n",
              "      height: 32px;\n",
              "      padding: 0 0 0 0;\n",
              "      width: 32px;\n",
              "    }\n",
              "\n",
              "    .colab-df-convert:hover {\n",
              "      background-color: #E2EBFA;\n",
              "      box-shadow: 0px 1px 2px rgba(60, 64, 67, 0.3), 0px 1px 3px 1px rgba(60, 64, 67, 0.15);\n",
              "      fill: #174EA6;\n",
              "    }\n",
              "\n",
              "    [theme=dark] .colab-df-convert {\n",
              "      background-color: #3B4455;\n",
              "      fill: #D2E3FC;\n",
              "    }\n",
              "\n",
              "    [theme=dark] .colab-df-convert:hover {\n",
              "      background-color: #434B5C;\n",
              "      box-shadow: 0px 1px 3px 1px rgba(0, 0, 0, 0.15);\n",
              "      filter: drop-shadow(0px 1px 2px rgba(0, 0, 0, 0.3));\n",
              "      fill: #FFFFFF;\n",
              "    }\n",
              "  </style>\n",
              "\n",
              "      <script>\n",
              "        const buttonEl =\n",
              "          document.querySelector('#df-a9ae1ca9-acd2-474d-b866-f7a64de1ff2c button.colab-df-convert');\n",
              "        buttonEl.style.display =\n",
              "          google.colab.kernel.accessAllowed ? 'block' : 'none';\n",
              "\n",
              "        async function convertToInteractive(key) {\n",
              "          const element = document.querySelector('#df-a9ae1ca9-acd2-474d-b866-f7a64de1ff2c');\n",
              "          const dataTable =\n",
              "            await google.colab.kernel.invokeFunction('convertToInteractive',\n",
              "                                                     [key], {});\n",
              "          if (!dataTable) return;\n",
              "\n",
              "          const docLinkHtml = 'Like what you see? Visit the ' +\n",
              "            '<a target=\"_blank\" href=https://colab.research.google.com/notebooks/data_table.ipynb>data table notebook</a>'\n",
              "            + ' to learn more about interactive tables.';\n",
              "          element.innerHTML = '';\n",
              "          dataTable['output_type'] = 'display_data';\n",
              "          await google.colab.output.renderOutput(dataTable, element);\n",
              "          const docLink = document.createElement('div');\n",
              "          docLink.innerHTML = docLinkHtml;\n",
              "          element.appendChild(docLink);\n",
              "        }\n",
              "      </script>\n",
              "    </div>\n",
              "  </div>\n",
              "  "
            ]
          },
          "metadata": {},
          "execution_count": 6
        }
      ]
    },
    {
      "cell_type": "code",
      "source": [
        "# Delete missing values dari df\n",
        "df.dropna(inplace=True)"
      ],
      "metadata": {
        "id": "EtjDItEMvB6S"
      },
      "execution_count": 7,
      "outputs": []
    },
    {
      "cell_type": "markdown",
      "source": [
        "Selanjutnya kita akan mencari apakah ada label2 lain dalam dataset yang tidak standar. Misalnya '?' pada kolom occupation dan native_country"
      ],
      "metadata": {
        "id": "fwdiWMLjSnqC"
      }
    },
    {
      "cell_type": "code",
      "source": [
        "# Hitung jumlah masing2 label pada kolom occupation\n",
        "df.occupation.value_counts()"
      ],
      "metadata": {
        "colab": {
          "base_uri": "https://localhost:8080/"
        },
        "id": "rpemR7-jvOv5",
        "outputId": "01ed8e8d-fc6b-4ecd-94b8-694ddb021665"
      },
      "execution_count": 8,
      "outputs": [
        {
          "output_type": "execute_result",
          "data": {
            "text/plain": [
              " Adm-clerical         3328\n",
              " Craft-repair         3032\n",
              " Other-service        2982\n",
              " Prof-specialty       2708\n",
              " Sales                2377\n",
              " Exec-managerial      2249\n",
              " Tech-support          758\n",
              " Farming-fishing       620\n",
              " Protective-serv       524\n",
              " Transport-moving      519\n",
              " Handlers-cleaners     407\n",
              " Machine-op-inspct     283\n",
              " Priv-house-serv       130\n",
              " ?                       7\n",
              " Armed-Forces            6\n",
              "Name: occupation, dtype: int64"
            ]
          },
          "metadata": {},
          "execution_count": 8
        }
      ]
    },
    {
      "cell_type": "markdown",
      "source": [
        "Terdapat 7 baris data berisi '?'. Karena proporsi ini cukup kecil, akan dilakukan penghapusan data"
      ],
      "metadata": {
        "id": "tyafwR5eS99G"
      }
    },
    {
      "cell_type": "code",
      "source": [
        "# Delete baris yang mengandung label '?' dalam kolom occupation\n",
        "df = df.drop(df.index[[list(df.loc[df['occupation'].str.contains('\\?', case=False)].index)]])"
      ],
      "metadata": {
        "colab": {
          "base_uri": "https://localhost:8080/"
        },
        "id": "5mG5nwPa6Kbi",
        "outputId": "4e62fa71-26a9-4eef-fc4e-49ddb15c767d"
      },
      "execution_count": 9,
      "outputs": [
        {
          "output_type": "stream",
          "name": "stderr",
          "text": [
            "/usr/local/lib/python3.8/dist-packages/pandas/core/indexes/base.py:4616: FutureWarning: Using a non-tuple sequence for multidimensional indexing is deprecated; use `arr[tuple(seq)]` instead of `arr[seq]`. In the future this will be interpreted as an array index, `arr[np.array(seq)]`, which will result either in an error or a different result.\n",
            "  result = getitem(key)\n"
          ]
        }
      ]
    },
    {
      "cell_type": "markdown",
      "source": [
        "Kita juga akan mengecek data '?'pada kolom native_country"
      ],
      "metadata": {
        "id": "iPe__uyeTRYT"
      }
    },
    {
      "cell_type": "code",
      "source": [
        "# Menghitung jumlah masing2 label pada kolom native_country\n",
        "df.native_country.value_counts()"
      ],
      "metadata": {
        "colab": {
          "base_uri": "https://localhost:8080/"
        },
        "id": "ww1Gi18j6j0x",
        "outputId": "a1460c9a-2766-43ca-ab16-e743dacf84f5"
      },
      "execution_count": 10,
      "outputs": [
        {
          "output_type": "execute_result",
          "data": {
            "text/plain": [
              " United-States                 17777\n",
              " Mexico                          395\n",
              " ?                               354\n",
              " Philippines                     153\n",
              " Puerto-Rico                      84\n",
              " El-Salvador                      75\n",
              " Canada                           71\n",
              " Germany                          70\n",
              " India                            68\n",
              " Jamaica                          67\n",
              " Cuba                             67\n",
              " England                          56\n",
              " Vietnam                          51\n",
              " China                            49\n",
              " South                            43\n",
              " Dominican-Republic               42\n",
              " Japan                            40\n",
              " Italy                            39\n",
              " Guatemala                        39\n",
              " Poland                           34\n",
              " Haiti                            33\n",
              " Taiwan                           32\n",
              " Columbia                         32\n",
              " Iran                             24\n",
              " Nicaragua                        22\n",
              " Peru                             21\n",
              " Portugal                         20\n",
              " Greece                           16\n",
              " Hong                             15\n",
              " Ecuador                          15\n",
              " Trinadad&Tobago                  14\n",
              " France                           14\n",
              " Ireland                          14\n",
              " Thailand                         13\n",
              " Yugoslavia                       12\n",
              " Cambodia                         11\n",
              " Outlying-US(Guam-USVI-etc)        9\n",
              " Laos                              9\n",
              " Honduras                          9\n",
              " Hungary                           8\n",
              " Scotland                          6\n",
              "Name: native_country, dtype: int64"
            ]
          },
          "metadata": {},
          "execution_count": 10
        }
      ]
    },
    {
      "cell_type": "markdown",
      "source": [
        "Data '?' termasuk dalam 3 label teratas dengan jumlah terbesar, meskipun jaraknya sangat jauh dari label 'United-States'. Oleh karena itu, data tidak perlu dihapus namun diganti dengan 'United-States' karena label 'United-States' adalah modus data pada kolom native_country"
      ],
      "metadata": {
        "id": "E0MKYW69TgJE"
      }
    },
    {
      "cell_type": "code",
      "source": [
        "# Ubah data '?' dengan 'United-States' pada kolom native_country\n",
        "df.loc[df['native_country'].str.contains('\\?'), 'native_country'] = ' United-States'"
      ],
      "metadata": {
        "id": "D4LLaxCc6_5Y"
      },
      "execution_count": 11,
      "outputs": []
    },
    {
      "cell_type": "markdown",
      "source": [
        "# IV. EDA\n",
        "\n",
        "Bagian ini berisi eksplorasi data pada dataset diatas dengan menggunakan query, grouping, visualisasi sederhana, dan lain sebagainya."
      ],
      "metadata": {
        "id": "o_g5AE_Mn_IS"
      }
    },
    {
      "cell_type": "code",
      "source": [
        "# Tampilkan lagi head dari df\n",
        "df.head()"
      ],
      "metadata": {
        "colab": {
          "base_uri": "https://localhost:8080/",
          "height": 0
        },
        "id": "wbnIKuxTSjjl",
        "outputId": "5b4d7b6e-028f-43f0-daa4-189a702607b0"
      },
      "execution_count": 12,
      "outputs": [
        {
          "output_type": "execute_result",
          "data": {
            "text/plain": [
              "   age          workclass education  education_num       marital_status  \\\n",
              "1   37            Private      12th              8   Married-civ-spouse   \n",
              "2   39   Self-emp-not-inc   HS-grad              9   Married-civ-spouse   \n",
              "3   29            Private   HS-grad              9   Married-civ-spouse   \n",
              "4   64            Private   HS-grad              9   Married-civ-spouse   \n",
              "5   31            Private   HS-grad              9   Married-civ-spouse   \n",
              "\n",
              "  occupation relationship                 race      sex  capital_gain  \\\n",
              "1      Sales         Wife   Asian-Pac-Islander   Female             0   \n",
              "2      Sales         Wife                Black   Female             0   \n",
              "3      Sales         Wife                White   Female             0   \n",
              "4      Sales         Wife                White   Female             0   \n",
              "5      Sales         Wife                White   Female             0   \n",
              "\n",
              "   capital_loss  hours_per_week       native_country income_bracket  \n",
              "1             0              33        United-States          <=50K  \n",
              "2             0              54   Dominican-Republic           >50K  \n",
              "3             0              18        United-States          <=50K  \n",
              "4             0              21        United-States          <=50K  \n",
              "5             0              18        United-States          <=50K  "
            ],
            "text/html": [
              "\n",
              "  <div id=\"df-6512501c-7484-433b-aad5-2e039167fe11\">\n",
              "    <div class=\"colab-df-container\">\n",
              "      <div>\n",
              "<style scoped>\n",
              "    .dataframe tbody tr th:only-of-type {\n",
              "        vertical-align: middle;\n",
              "    }\n",
              "\n",
              "    .dataframe tbody tr th {\n",
              "        vertical-align: top;\n",
              "    }\n",
              "\n",
              "    .dataframe thead th {\n",
              "        text-align: right;\n",
              "    }\n",
              "</style>\n",
              "<table border=\"1\" class=\"dataframe\">\n",
              "  <thead>\n",
              "    <tr style=\"text-align: right;\">\n",
              "      <th></th>\n",
              "      <th>age</th>\n",
              "      <th>workclass</th>\n",
              "      <th>education</th>\n",
              "      <th>education_num</th>\n",
              "      <th>marital_status</th>\n",
              "      <th>occupation</th>\n",
              "      <th>relationship</th>\n",
              "      <th>race</th>\n",
              "      <th>sex</th>\n",
              "      <th>capital_gain</th>\n",
              "      <th>capital_loss</th>\n",
              "      <th>hours_per_week</th>\n",
              "      <th>native_country</th>\n",
              "      <th>income_bracket</th>\n",
              "    </tr>\n",
              "  </thead>\n",
              "  <tbody>\n",
              "    <tr>\n",
              "      <th>1</th>\n",
              "      <td>37</td>\n",
              "      <td>Private</td>\n",
              "      <td>12th</td>\n",
              "      <td>8</td>\n",
              "      <td>Married-civ-spouse</td>\n",
              "      <td>Sales</td>\n",
              "      <td>Wife</td>\n",
              "      <td>Asian-Pac-Islander</td>\n",
              "      <td>Female</td>\n",
              "      <td>0</td>\n",
              "      <td>0</td>\n",
              "      <td>33</td>\n",
              "      <td>United-States</td>\n",
              "      <td>&lt;=50K</td>\n",
              "    </tr>\n",
              "    <tr>\n",
              "      <th>2</th>\n",
              "      <td>39</td>\n",
              "      <td>Self-emp-not-inc</td>\n",
              "      <td>HS-grad</td>\n",
              "      <td>9</td>\n",
              "      <td>Married-civ-spouse</td>\n",
              "      <td>Sales</td>\n",
              "      <td>Wife</td>\n",
              "      <td>Black</td>\n",
              "      <td>Female</td>\n",
              "      <td>0</td>\n",
              "      <td>0</td>\n",
              "      <td>54</td>\n",
              "      <td>Dominican-Republic</td>\n",
              "      <td>&gt;50K</td>\n",
              "    </tr>\n",
              "    <tr>\n",
              "      <th>3</th>\n",
              "      <td>29</td>\n",
              "      <td>Private</td>\n",
              "      <td>HS-grad</td>\n",
              "      <td>9</td>\n",
              "      <td>Married-civ-spouse</td>\n",
              "      <td>Sales</td>\n",
              "      <td>Wife</td>\n",
              "      <td>White</td>\n",
              "      <td>Female</td>\n",
              "      <td>0</td>\n",
              "      <td>0</td>\n",
              "      <td>18</td>\n",
              "      <td>United-States</td>\n",
              "      <td>&lt;=50K</td>\n",
              "    </tr>\n",
              "    <tr>\n",
              "      <th>4</th>\n",
              "      <td>64</td>\n",
              "      <td>Private</td>\n",
              "      <td>HS-grad</td>\n",
              "      <td>9</td>\n",
              "      <td>Married-civ-spouse</td>\n",
              "      <td>Sales</td>\n",
              "      <td>Wife</td>\n",
              "      <td>White</td>\n",
              "      <td>Female</td>\n",
              "      <td>0</td>\n",
              "      <td>0</td>\n",
              "      <td>21</td>\n",
              "      <td>United-States</td>\n",
              "      <td>&lt;=50K</td>\n",
              "    </tr>\n",
              "    <tr>\n",
              "      <th>5</th>\n",
              "      <td>31</td>\n",
              "      <td>Private</td>\n",
              "      <td>HS-grad</td>\n",
              "      <td>9</td>\n",
              "      <td>Married-civ-spouse</td>\n",
              "      <td>Sales</td>\n",
              "      <td>Wife</td>\n",
              "      <td>White</td>\n",
              "      <td>Female</td>\n",
              "      <td>0</td>\n",
              "      <td>0</td>\n",
              "      <td>18</td>\n",
              "      <td>United-States</td>\n",
              "      <td>&lt;=50K</td>\n",
              "    </tr>\n",
              "  </tbody>\n",
              "</table>\n",
              "</div>\n",
              "      <button class=\"colab-df-convert\" onclick=\"convertToInteractive('df-6512501c-7484-433b-aad5-2e039167fe11')\"\n",
              "              title=\"Convert this dataframe to an interactive table.\"\n",
              "              style=\"display:none;\">\n",
              "        \n",
              "  <svg xmlns=\"http://www.w3.org/2000/svg\" height=\"24px\"viewBox=\"0 0 24 24\"\n",
              "       width=\"24px\">\n",
              "    <path d=\"M0 0h24v24H0V0z\" fill=\"none\"/>\n",
              "    <path d=\"M18.56 5.44l.94 2.06.94-2.06 2.06-.94-2.06-.94-.94-2.06-.94 2.06-2.06.94zm-11 1L8.5 8.5l.94-2.06 2.06-.94-2.06-.94L8.5 2.5l-.94 2.06-2.06.94zm10 10l.94 2.06.94-2.06 2.06-.94-2.06-.94-.94-2.06-.94 2.06-2.06.94z\"/><path d=\"M17.41 7.96l-1.37-1.37c-.4-.4-.92-.59-1.43-.59-.52 0-1.04.2-1.43.59L10.3 9.45l-7.72 7.72c-.78.78-.78 2.05 0 2.83L4 21.41c.39.39.9.59 1.41.59.51 0 1.02-.2 1.41-.59l7.78-7.78 2.81-2.81c.8-.78.8-2.07 0-2.86zM5.41 20L4 18.59l7.72-7.72 1.47 1.35L5.41 20z\"/>\n",
              "  </svg>\n",
              "      </button>\n",
              "      \n",
              "  <style>\n",
              "    .colab-df-container {\n",
              "      display:flex;\n",
              "      flex-wrap:wrap;\n",
              "      gap: 12px;\n",
              "    }\n",
              "\n",
              "    .colab-df-convert {\n",
              "      background-color: #E8F0FE;\n",
              "      border: none;\n",
              "      border-radius: 50%;\n",
              "      cursor: pointer;\n",
              "      display: none;\n",
              "      fill: #1967D2;\n",
              "      height: 32px;\n",
              "      padding: 0 0 0 0;\n",
              "      width: 32px;\n",
              "    }\n",
              "\n",
              "    .colab-df-convert:hover {\n",
              "      background-color: #E2EBFA;\n",
              "      box-shadow: 0px 1px 2px rgba(60, 64, 67, 0.3), 0px 1px 3px 1px rgba(60, 64, 67, 0.15);\n",
              "      fill: #174EA6;\n",
              "    }\n",
              "\n",
              "    [theme=dark] .colab-df-convert {\n",
              "      background-color: #3B4455;\n",
              "      fill: #D2E3FC;\n",
              "    }\n",
              "\n",
              "    [theme=dark] .colab-df-convert:hover {\n",
              "      background-color: #434B5C;\n",
              "      box-shadow: 0px 1px 3px 1px rgba(0, 0, 0, 0.15);\n",
              "      filter: drop-shadow(0px 1px 2px rgba(0, 0, 0, 0.3));\n",
              "      fill: #FFFFFF;\n",
              "    }\n",
              "  </style>\n",
              "\n",
              "      <script>\n",
              "        const buttonEl =\n",
              "          document.querySelector('#df-6512501c-7484-433b-aad5-2e039167fe11 button.colab-df-convert');\n",
              "        buttonEl.style.display =\n",
              "          google.colab.kernel.accessAllowed ? 'block' : 'none';\n",
              "\n",
              "        async function convertToInteractive(key) {\n",
              "          const element = document.querySelector('#df-6512501c-7484-433b-aad5-2e039167fe11');\n",
              "          const dataTable =\n",
              "            await google.colab.kernel.invokeFunction('convertToInteractive',\n",
              "                                                     [key], {});\n",
              "          if (!dataTable) return;\n",
              "\n",
              "          const docLinkHtml = 'Like what you see? Visit the ' +\n",
              "            '<a target=\"_blank\" href=https://colab.research.google.com/notebooks/data_table.ipynb>data table notebook</a>'\n",
              "            + ' to learn more about interactive tables.';\n",
              "          element.innerHTML = '';\n",
              "          dataTable['output_type'] = 'display_data';\n",
              "          await google.colab.output.renderOutput(dataTable, element);\n",
              "          const docLink = document.createElement('div');\n",
              "          docLink.innerHTML = docLinkHtml;\n",
              "          element.appendChild(docLink);\n",
              "        }\n",
              "      </script>\n",
              "    </div>\n",
              "  </div>\n",
              "  "
            ]
          },
          "metadata": {},
          "execution_count": 12
        }
      ]
    },
    {
      "cell_type": "markdown",
      "source": [
        "Pada bagian ini kita akan membedah informasi mengenai masing2 kolom, dimulai dari kolom 'age'"
      ],
      "metadata": {
        "id": "qAtW-WpIUEAp"
      }
    },
    {
      "cell_type": "code",
      "source": [
        "# Plot kolom 'age' dalam bentuk histogram \n",
        "plt.hist(df.age, \n",
        "         histtype ='bar', color='r', edgecolor='k')\n",
        "plt.title('Histogram of Age')\n",
        "plt.xlabel('Age')\n",
        "plt.ylabel('Count')\n",
        "plt.legend(['age'], loc='upper right')"
      ],
      "metadata": {
        "colab": {
          "base_uri": "https://localhost:8080/",
          "height": 0
        },
        "id": "EyVVqmFvT1L_",
        "outputId": "ecba90df-ea0f-4f73-8abf-2a902304a7d3"
      },
      "execution_count": 13,
      "outputs": [
        {
          "output_type": "execute_result",
          "data": {
            "text/plain": [
              "<matplotlib.legend.Legend at 0x7f3794c99760>"
            ]
          },
          "metadata": {},
          "execution_count": 13
        },
        {
          "output_type": "display_data",
          "data": {
            "text/plain": [
              "<Figure size 432x288 with 1 Axes>"
            ],
            "image/png": "[encoded data removed]"
          },
          "metadata": {
            "needs_background": "light"
          }
        }
      ]
    },
    {
      "cell_type": "markdown",
      "source": [
        "Terlihat jika dataset didominasi oleh responden berusia muda, yakni antara 20-40 tahun. Hal ini cukup mewakili karena rentang umur tsb merupakan usia produktif. Berikutnya kita akan melihat persebaran data pada kolom 'workclass'"
      ],
      "metadata": {
        "id": "GrhQI7rVUbY9"
      }
    },
    {
      "cell_type": "code",
      "source": [
        "# Plot pie chart untuk kolom 'workclass'\n",
        "palette_color = sns.color_palette('bright')\n",
        "label1 = list(pd.DataFrame(df['workclass'].value_counts()).index)\n",
        "plt.figure(figsize = (5, 5))\n",
        "plt.title('Composition of Workclass')\n",
        "plt.pie(pd.DataFrame(df['workclass'].value_counts()),colors=palette_color, autopct='%.0f%%', wedgeprops={\"edgecolor\":\"k\"})\n",
        "plt.legend(label1, loc='upper right',bbox_to_anchor=(1.5,1))\n",
        "plt.show()"
      ],
      "metadata": {
        "colab": {
          "base_uri": "https://localhost:8080/",
          "height": 0
        },
        "id": "fyHhzv6VXAUy",
        "outputId": "ad600eb3-d224-4b1c-9c3f-0ac776e276bb"
      },
      "execution_count": 14,
      "outputs": [
        {
          "output_type": "stream",
          "name": "stderr",
          "text": [
            "<ipython-input-14-8621f29d86a1>:6: MatplotlibDeprecationWarning: Non-1D inputs to pie() are currently squeeze()d, but this behavior is deprecated since 3.1 and will be removed in 3.3; pass a 1D array instead.\n",
            "  plt.pie(pd.DataFrame(df['workclass'].value_counts()),colors=palette_color, autopct='%.0f%%', wedgeprops={\"edgecolor\":\"k\"})\n"
          ]
        },
        {
          "output_type": "display_data",
          "data": {
            "text/plain": [
              "<Figure size 360x360 with 1 Axes>"
            ],
            "image/png": "[encoded data removed]"
          },
          "metadata": {}
        }
      ]
    },
    {
      "cell_type": "markdown",
      "source": [
        "Sebagian besar responden bekerja di sektor swasta (Private), yakni 74%, diikuti dengan pegawai negeri (Local-gov) sebanyak 8% dan mandiri (Self-emp-not-inc) sebanyak 7%. Berikutnya kita akan menyelidiki data status pernikahan"
      ],
      "metadata": {
        "id": "INqj_uskU6zF"
      }
    },
    {
      "cell_type": "code",
      "source": [
        "# Tampilkan pie chart dari kolom marital_status\n",
        "label2 = list(pd.DataFrame(df['marital_status'].value_counts()).index)\n",
        "plt.figure(figsize = (5, 5))\n",
        "plt.title('Composition of Marital Status')\n",
        "plt.pie(pd.DataFrame(df['marital_status'].value_counts()),colors=palette_color, autopct='%.0f%%', wedgeprops={\"edgecolor\":\"k\"})\n",
        "plt.legend(label2, loc='upper right',bbox_to_anchor=(1.5,1))\n",
        "plt.show()"
      ],
      "metadata": {
        "colab": {
          "base_uri": "https://localhost:8080/",
          "height": 0
        },
        "id": "gW33rCIrclAU",
        "outputId": "2f0fcacf-f3dc-4723-b6ff-905b8508aa05"
      },
      "execution_count": 15,
      "outputs": [
        {
          "output_type": "stream",
          "name": "stderr",
          "text": [
            "<ipython-input-15-16577fe4d4ae>:5: MatplotlibDeprecationWarning: Non-1D inputs to pie() are currently squeeze()d, but this behavior is deprecated since 3.1 and will be removed in 3.3; pass a 1D array instead.\n",
            "  plt.pie(pd.DataFrame(df['marital_status'].value_counts()),colors=palette_color, autopct='%.0f%%', wedgeprops={\"edgecolor\":\"k\"})\n"
          ]
        },
        {
          "output_type": "display_data",
          "data": {
            "text/plain": [
              "<Figure size 360x360 with 1 Axes>"
            ],
            "image/png": "[encoded data removed]"
          },
          "metadata": {}
        }
      ]
    },
    {
      "cell_type": "markdown",
      "source": [
        "Sebagian besar responden sudah menikah (41%), namun cukup banyak responden yang belum menikah (37%). Hal ini cukup wajar karena sebagian besar responden berusia muda. Sebanyak 14% responden telah bercerai. Berikutnya, kita akan melihat data mengenai jenis pekerjaan."
      ],
      "metadata": {
        "id": "WslmXtTnaCrs"
      }
    },
    {
      "cell_type": "code",
      "source": [
        "# Buat histogram untuk kolom occupation\n",
        "plt.hist(df.occupation, \n",
        "         histtype ='bar', color='g', edgecolor='k')\n",
        "plt.title('Histogram of Occupation')\n",
        "plt.xlabel('Occupation')\n",
        "plt.ylabel('Count')\n",
        "plt.xticks(rotation=90)\n",
        "plt.legend(['Occupation'], loc='upper right')"
      ],
      "metadata": {
        "colab": {
          "base_uri": "https://localhost:8080/",
          "height": 0
        },
        "id": "ATY2hZznc9_C",
        "outputId": "8ffb7731-80b8-4660-ffb2-b18595307540"
      },
      "execution_count": 16,
      "outputs": [
        {
          "output_type": "execute_result",
          "data": {
            "text/plain": [
              "<matplotlib.legend.Legend at 0x7f3794763820>"
            ]
          },
          "metadata": {},
          "execution_count": 16
        },
        {
          "output_type": "display_data",
          "data": {
            "text/plain": [
              "<Figure size 432x288 with 1 Axes>"
            ],
            "image/png": "[encoded data removed]"
          },
          "metadata": {
            "needs_background": "light"
          }
        }
      ]
    },
    {
      "cell_type": "markdown",
      "source": [
        "Sebagian besar responden bekerja sebagai Sales dan sekretaris (Adm-clerical), diikuti dengan sektor jasa. Responden dengan jenis pekerjaan paling sedikit adalah tentara (Armed-Forces). Selanjutnya kita akan melihat data mengenai tingkat pendidikan responden."
      ],
      "metadata": {
        "id": "1pv1UBo3ad9C"
      }
    },
    {
      "cell_type": "code",
      "source": [
        "# Plot pie chart untuk kolom education\n",
        "label22 = list(pd.DataFrame(df['education'].value_counts()).index)\n",
        "plt.figure(figsize = (5, 5))\n",
        "plt.title('Composition of Education')\n",
        "plt.pie(pd.DataFrame(df['education'].value_counts()), colors=palette_color, autopct='%.0f%%', wedgeprops={\"edgecolor\":\"k\"})\n",
        "plt.legend(label22, loc='upper right',bbox_to_anchor=(1.5,1))\n",
        "plt.show()"
      ],
      "metadata": {
        "colab": {
          "base_uri": "https://localhost:8080/",
          "height": 0
        },
        "id": "suWvPt7feEOZ",
        "outputId": "784121c7-250b-4674-e045-c409c522e305"
      },
      "execution_count": 17,
      "outputs": [
        {
          "output_type": "stream",
          "name": "stderr",
          "text": [
            "<ipython-input-17-4167c9eeb859>:5: MatplotlibDeprecationWarning: Non-1D inputs to pie() are currently squeeze()d, but this behavior is deprecated since 3.1 and will be removed in 3.3; pass a 1D array instead.\n",
            "  plt.pie(pd.DataFrame(df['education'].value_counts()), colors=palette_color, autopct='%.0f%%', wedgeprops={\"edgecolor\":\"k\"})\n"
          ]
        },
        {
          "output_type": "display_data",
          "data": {
            "text/plain": [
              "<Figure size 360x360 with 1 Axes>"
            ],
            "image/png": "[encoded data removed]"
          },
          "metadata": {}
        }
      ]
    },
    {
      "cell_type": "markdown",
      "source": [
        "Sebagian besar responden adalah lulusan SMA (HS-grad) sebanyak 32%, lalu diikuti dengan S1 (24% dan 16%). Hanya sebagian kecil responden memiliki tingkat pendidikan pascasarjana (<8%)."
      ],
      "metadata": {
        "id": "UiTGGvUzbCIj"
      }
    },
    {
      "cell_type": "markdown",
      "source": [
        "Berikutnya kita ingin mengetahui komposisi ras dari responden"
      ],
      "metadata": {
        "id": "epXMdHX4b5Rl"
      }
    },
    {
      "cell_type": "code",
      "source": [
        "# Plot pie chart untuk kolom race\n",
        "label3 = list(pd.DataFrame(df['race'].value_counts()).index)\n",
        "plt.figure(figsize = (5, 5))\n",
        "plt.title('Composition of Race')\n",
        "plt.pie(pd.DataFrame(df['race'].value_counts()), colors=palette_color, autopct='%.0f%%', wedgeprops={\"edgecolor\":\"k\"})\n",
        "plt.legend(label3, loc='upper right',bbox_to_anchor=(1.5,1))\n",
        "plt.show()"
      ],
      "metadata": {
        "colab": {
          "base_uri": "https://localhost:8080/",
          "height": 0
        },
        "id": "mE8JTihaedLT",
        "outputId": "19f54058-577c-4e90-b437-21f2c90e8c36"
      },
      "execution_count": 18,
      "outputs": [
        {
          "output_type": "stream",
          "name": "stderr",
          "text": [
            "<ipython-input-18-240310208e9b>:5: MatplotlibDeprecationWarning: Non-1D inputs to pie() are currently squeeze()d, but this behavior is deprecated since 3.1 and will be removed in 3.3; pass a 1D array instead.\n",
            "  plt.pie(pd.DataFrame(df['race'].value_counts()), colors=palette_color, autopct='%.0f%%', wedgeprops={\"edgecolor\":\"k\"})\n"
          ]
        },
        {
          "output_type": "display_data",
          "data": {
            "text/plain": [
              "<Figure size 360x360 with 1 Axes>"
            ],
            "image/png": "[encoded data removed]"
          },
          "metadata": {}
        }
      ]
    },
    {
      "cell_type": "markdown",
      "source": [
        "Sebagian besar responded merupakan ras kulit putih (White) yakni sebesar 84%, diikuti kulit hitam (Black) sebanyak 11%. Dari data ini, maka diperkirakan sebagian besar responden berasal dari Amerika Serikat atau negara2 Eropa. Berikutnya, kita akan melihat persebaran gender."
      ],
      "metadata": {
        "id": "PIWlKuFUcIKN"
      }
    },
    {
      "cell_type": "code",
      "source": [
        "# Plot pie chart untuk kolom sex\n",
        "label4 = list(pd.DataFrame(df['sex'].value_counts()).index)\n",
        "plt.figure(figsize = (5, 5))\n",
        "plt.title('Composition of Gender')\n",
        "plt.pie(pd.DataFrame(df['sex'].value_counts()), colors=palette_color, autopct='%.0f%%', wedgeprops={\"edgecolor\":\"k\"})\n",
        "plt.legend(label4, loc='upper right',bbox_to_anchor=(1.5,1))\n",
        "plt.show()"
      ],
      "metadata": {
        "colab": {
          "base_uri": "https://localhost:8080/",
          "height": 0
        },
        "id": "vt8ucQzwelRo",
        "outputId": "6279fc24-3b59-4620-a362-d60a6bef41aa"
      },
      "execution_count": 19,
      "outputs": [
        {
          "output_type": "stream",
          "name": "stderr",
          "text": [
            "<ipython-input-19-3d686afc6d67>:5: MatplotlibDeprecationWarning: Non-1D inputs to pie() are currently squeeze()d, but this behavior is deprecated since 3.1 and will be removed in 3.3; pass a 1D array instead.\n",
            "  plt.pie(pd.DataFrame(df['sex'].value_counts()), colors=palette_color, autopct='%.0f%%', wedgeprops={\"edgecolor\":\"k\"})\n"
          ]
        },
        {
          "output_type": "display_data",
          "data": {
            "text/plain": [
              "<Figure size 360x360 with 1 Axes>"
            ],
            "image/png": "[encoded data removed]"
          },
          "metadata": {}
        }
      ]
    },
    {
      "cell_type": "markdown",
      "source": [
        "Dari pie chart diatas, 60% responden adalah laki2. Hal ini cukup wajar karena stereotype mengenai peran laki2 di tengah masyarakat adalah untuk bekerja. Melihat cukup banyak responden yang sudah menikah, diperkirakan jika sebagian wanita lebih memilih menjadi ibu rumah tangga. Berikutnya, kita akan melihat negara asal dari responden."
      ],
      "metadata": {
        "id": "mxUD-oOucqqk"
      }
    },
    {
      "cell_type": "code",
      "source": [
        "# Plot pie chart untuk kolom native_country\n",
        "label44 = list(pd.DataFrame(df['native_country'].value_counts().head(10)).index)\n",
        "plt.figure(figsize = (5, 5))\n",
        "plt.title('Composition of Native Country')\n",
        "plt.pie(pd.DataFrame(df['native_country'].value_counts().head(10)), labels=label44, colors=palette_color, autopct='%.0f%%', wedgeprops={\"edgecolor\":\"k\"})\n",
        "plt.show()"
      ],
      "metadata": {
        "colab": {
          "base_uri": "https://localhost:8080/",
          "height": 0
        },
        "id": "lSA-kdPfe4Lk",
        "outputId": "e60134e8-d555-4053-ffb3-32dc2437c123"
      },
      "execution_count": 20,
      "outputs": [
        {
          "output_type": "stream",
          "name": "stderr",
          "text": [
            "<ipython-input-20-0d6de53723b4>:5: MatplotlibDeprecationWarning: Non-1D inputs to pie() are currently squeeze()d, but this behavior is deprecated since 3.1 and will be removed in 3.3; pass a 1D array instead.\n",
            "  plt.pie(pd.DataFrame(df['native_country'].value_counts().head(10)), labels=label44, colors=palette_color, autopct='%.0f%%', wedgeprops={\"edgecolor\":\"k\"})\n"
          ]
        },
        {
          "output_type": "display_data",
          "data": {
            "text/plain": [
              "<Figure size 360x360 with 1 Axes>"
            ],
            "image/png": "[encoded data removed]"
          },
          "metadata": {}
        }
      ]
    },
    {
      "cell_type": "markdown",
      "source": [
        "Sesuai perkiraan sebelumnya, terlihat jika komposisi responden terbanyak adalah dari Amerika Serikat (95%). Oleh karena itu, analisa dan predictive model mengenai tingkat penghasilan dan parameter2 terkait dalam penelitian ini akan lebih banyak berlaku untuk masyarakat di Amerika Serikat. "
      ],
      "metadata": {
        "id": "UTpLkgv1g0MG"
      }
    },
    {
      "cell_type": "code",
      "source": [
        "# Tampilkan pie chart komposisi income_bracket\n",
        "label5 = list(pd.DataFrame(df['income_bracket'].value_counts()).index)\n",
        "plt.figure(figsize = (5, 5))\n",
        "plt.title('Composition of Income Bracket')\n",
        "plt.pie(pd.DataFrame(df['income_bracket'].value_counts()), colors=palette_color, autopct='%.0f%%', wedgeprops={\"edgecolor\":\"k\"})\n",
        "plt.legend(label5, loc='upper right',bbox_to_anchor=(1.5,1))\n",
        "plt.show()"
      ],
      "metadata": {
        "colab": {
          "base_uri": "https://localhost:8080/",
          "height": 0
        },
        "id": "WpdC-CiFfDVx",
        "outputId": "4384339a-c404-402e-e3ab-5fcebde8d48a"
      },
      "execution_count": 21,
      "outputs": [
        {
          "output_type": "stream",
          "name": "stderr",
          "text": [
            "<ipython-input-21-4957e608aced>:5: MatplotlibDeprecationWarning: Non-1D inputs to pie() are currently squeeze()d, but this behavior is deprecated since 3.1 and will be removed in 3.3; pass a 1D array instead.\n",
            "  plt.pie(pd.DataFrame(df['income_bracket'].value_counts()), colors=palette_color, autopct='%.0f%%', wedgeprops={\"edgecolor\":\"k\"})\n"
          ]
        },
        {
          "output_type": "display_data",
          "data": {
            "text/plain": [
              "<Figure size 360x360 with 1 Axes>"
            ],
            "image/png": "[encoded data removed]"
          },
          "metadata": {}
        }
      ]
    },
    {
      "cell_type": "markdown",
      "source": [
        "Terlihat dari diagram diatas, 80% dari responden memiliki income dibawah 50,000 USD"
      ],
      "metadata": {
        "id": "x7jSOEw75nes"
      }
    },
    {
      "cell_type": "code",
      "source": [
        "# Hitung jumlah masing2 label income_bracket\n",
        "df.income_bracket.value_counts()"
      ],
      "metadata": {
        "colab": {
          "base_uri": "https://localhost:8080/"
        },
        "id": "MLTIoxfriDBz",
        "outputId": "f98804d7-f146-4f96-fc45-4d3d2f554f13"
      },
      "execution_count": 22,
      "outputs": [
        {
          "output_type": "execute_result",
          "data": {
            "text/plain": [
              " <=50K    15959\n",
              " >50K      3964\n",
              "Name: income_bracket, dtype: int64"
            ]
          },
          "metadata": {},
          "execution_count": 22
        }
      ]
    },
    {
      "cell_type": "code",
      "source": [
        "# Hitung rata2 usia pada masing2 income bracket\n",
        "df.groupby('income_bracket')['age'].mean()"
      ],
      "metadata": {
        "colab": {
          "base_uri": "https://localhost:8080/"
        },
        "id": "JE45jstvhPek",
        "outputId": "552c96c0-9ed4-40ec-93c9-87036ff9ec77"
      },
      "execution_count": 23,
      "outputs": [
        {
          "output_type": "execute_result",
          "data": {
            "text/plain": [
              "income_bracket\n",
              " <=50K    36.381603\n",
              " >50K     44.724268\n",
              "Name: age, dtype: float64"
            ]
          },
          "metadata": {},
          "execution_count": 23
        }
      ]
    },
    {
      "cell_type": "markdown",
      "source": [
        "Terlihat jika rata2 usia berbanding lurus terhadap income. Rata2 usia pada income <= 50,000 USD adalah 36 tahun, sedangkan pada income > 50,000 USD adalah 44 tahun. Semakin bertambah usia, semakin besar income seseorang"
      ],
      "metadata": {
        "id": "VIYaaUV66AMK"
      }
    },
    {
      "cell_type": "code",
      "source": [
        "# Kelompokkan jenis pekerjaan terhadap income bracket\n",
        "df.groupby('income_bracket')['occupation'].value_counts()"
      ],
      "metadata": {
        "colab": {
          "base_uri": "https://localhost:8080/"
        },
        "id": "7pyGecFige3F",
        "outputId": "35534656-ae14-4ffb-fe31-a80864f1ce97"
      },
      "execution_count": 24,
      "outputs": [
        {
          "output_type": "execute_result",
          "data": {
            "text/plain": [
              "income_bracket  occupation        \n",
              " <=50K           Adm-clerical         2934\n",
              "                 Other-service        2881\n",
              "                 Craft-repair         2436\n",
              "                 Sales                1938\n",
              "                 Prof-specialty       1684\n",
              "                 Exec-managerial      1383\n",
              "                 Farming-fishing       568\n",
              "                 Tech-support          550\n",
              "                 Transport-moving      428\n",
              "                 Handlers-cleaners     396\n",
              "                 Protective-serv       364\n",
              "                 Machine-op-inspct     263\n",
              "                 Priv-house-serv       129\n",
              "                 Armed-Forces            5\n",
              " >50K            Prof-specialty       1024\n",
              "                 Exec-managerial       866\n",
              "                 Craft-repair          596\n",
              "                 Sales                 439\n",
              "                 Adm-clerical          394\n",
              "                 Tech-support          208\n",
              "                 Protective-serv       160\n",
              "                 Other-service         101\n",
              "                 Transport-moving       91\n",
              "                 Farming-fishing        52\n",
              "                 Machine-op-inspct      20\n",
              "                 Handlers-cleaners      11\n",
              "                 Armed-Forces            1\n",
              "                 Priv-house-serv         1\n",
              "Name: occupation, dtype: int64"
            ]
          },
          "metadata": {},
          "execution_count": 24
        }
      ]
    },
    {
      "cell_type": "markdown",
      "source": [
        "Bisa dilihat jika sebagian besar jenis pekerjaan berpenghasilan tinggi adalah pekerjaan spesialis (Prof-specialty) dan eksekutif-manajer (Exec-managerial). Sementara itu, pekerjaan seperti administrasi (Adm-clerical), jasa (Other-service), pertukangan (Craft-repair) dan Sales cenderung memiliki income <= 50,000 USD. Meskipun demikian, sebagian orang yang bekerja di bidang pertukangan (Craft-repair) dan Sales juga ada yang berpenghasilan > 50,000 USD."
      ],
      "metadata": {
        "id": "xvJ-aSH46cob"
      }
    },
    {
      "cell_type": "code",
      "source": [
        "# Kelompokkan ras berdasarkan income bracket\n",
        "df.groupby('income_bracket')['race'].value_counts()"
      ],
      "metadata": {
        "colab": {
          "base_uri": "https://localhost:8080/"
        },
        "id": "TrqrxI9bhVgP",
        "outputId": "c395f50b-e1fe-43c8-c7d8-1f7d440eb492"
      },
      "execution_count": 25,
      "outputs": [
        {
          "output_type": "execute_result",
          "data": {
            "text/plain": [
              "income_bracket  race               \n",
              " <=50K           White                 13188\n",
              "                 Black                  1910\n",
              "                 Asian-Pac-Islander      530\n",
              "                 Amer-Indian-Eskimo      177\n",
              "                 Other                   154\n",
              " >50K            White                  3514\n",
              "                 Black                   238\n",
              "                 Asian-Pac-Islander      182\n",
              "                 Amer-Indian-Eskimo       18\n",
              "                 Other                    12\n",
              "Name: race, dtype: int64"
            ]
          },
          "metadata": {},
          "execution_count": 25
        }
      ]
    },
    {
      "cell_type": "markdown",
      "source": [
        "Secara keseluruhan, sulit ditarik hubungan antara ras dan penghasilan"
      ],
      "metadata": {
        "id": "XNu4O8jC7JuC"
      }
    },
    {
      "cell_type": "code",
      "source": [
        "# Kelompokkan gender berdasarkan income\n",
        "df.groupby('income_bracket')['sex'].value_counts()"
      ],
      "metadata": {
        "colab": {
          "base_uri": "https://localhost:8080/"
        },
        "id": "Dd0zL7k1hv7q",
        "outputId": "03da49f9-fc91-42b4-b88a-97989707549d"
      },
      "execution_count": 26,
      "outputs": [
        {
          "output_type": "execute_result",
          "data": {
            "text/plain": [
              "income_bracket  sex    \n",
              " <=50K           Male      8726\n",
              "                 Female    7233\n",
              " >50K            Male      3177\n",
              "                 Female     787\n",
              "Name: sex, dtype: int64"
            ]
          },
          "metadata": {},
          "execution_count": 26
        }
      ]
    },
    {
      "cell_type": "markdown",
      "source": [
        "Disini kita bisa melihat jika laki2 cenderung memiliki income lebih besar dari wanita. Pada income bracket >50,000 USD, proporsi laki2 jauh lebih besar dibandingkan dengan wanita."
      ],
      "metadata": {
        "id": "LffYzTBP7fGy"
      }
    },
    {
      "cell_type": "code",
      "source": [
        "# Kelompokkan asal negara berdasarkan income\n",
        "income_native = pd.DataFrame(df.groupby('income_bracket')['native_country'].value_counts())"
      ],
      "metadata": {
        "id": "Nazu67mdh41w"
      },
      "execution_count": 27,
      "outputs": []
    },
    {
      "cell_type": "code",
      "source": [
        "# Tampilkan urutan negara teratas dengan income <= 50,000 USD\n",
        "income_native.loc[' <=50K'].head()"
      ],
      "metadata": {
        "colab": {
          "base_uri": "https://localhost:8080/",
          "height": 0
        },
        "id": "OG7eCZqzjsXx",
        "outputId": "9e9aca2b-6f41-4038-b610-31073f25860e"
      },
      "execution_count": 28,
      "outputs": [
        {
          "output_type": "execute_result",
          "data": {
            "text/plain": [
              "                native_country\n",
              "native_country                \n",
              " United-States           14464\n",
              " Mexico                    377\n",
              " Philippines               104\n",
              " Puerto-Rico                76\n",
              " El-Salvador                71"
            ],
            "text/html": [
              "\n",
              "  <div id=\"df-a578d9d5-0edb-4674-bb66-2c3d78ea404d\">\n",
              "    <div class=\"colab-df-container\">\n",
              "      <div>\n",
              "<style scoped>\n",
              "    .dataframe tbody tr th:only-of-type {\n",
              "        vertical-align: middle;\n",
              "    }\n",
              "\n",
              "    .dataframe tbody tr th {\n",
              "        vertical-align: top;\n",
              "    }\n",
              "\n",
              "    .dataframe thead th {\n",
              "        text-align: right;\n",
              "    }\n",
              "</style>\n",
              "<table border=\"1\" class=\"dataframe\">\n",
              "  <thead>\n",
              "    <tr style=\"text-align: right;\">\n",
              "      <th></th>\n",
              "      <th>native_country</th>\n",
              "    </tr>\n",
              "    <tr>\n",
              "      <th>native_country</th>\n",
              "      <th></th>\n",
              "    </tr>\n",
              "  </thead>\n",
              "  <tbody>\n",
              "    <tr>\n",
              "      <th>United-States</th>\n",
              "      <td>14464</td>\n",
              "    </tr>\n",
              "    <tr>\n",
              "      <th>Mexico</th>\n",
              "      <td>377</td>\n",
              "    </tr>\n",
              "    <tr>\n",
              "      <th>Philippines</th>\n",
              "      <td>104</td>\n",
              "    </tr>\n",
              "    <tr>\n",
              "      <th>Puerto-Rico</th>\n",
              "      <td>76</td>\n",
              "    </tr>\n",
              "    <tr>\n",
              "      <th>El-Salvador</th>\n",
              "      <td>71</td>\n",
              "    </tr>\n",
              "  </tbody>\n",
              "</table>\n",
              "</div>\n",
              "      <button class=\"colab-df-convert\" onclick=\"convertToInteractive('df-a578d9d5-0edb-4674-bb66-2c3d78ea404d')\"\n",
              "              title=\"Convert this dataframe to an interactive table.\"\n",
              "              style=\"display:none;\">\n",
              "        \n",
              "  <svg xmlns=\"http://www.w3.org/2000/svg\" height=\"24px\"viewBox=\"0 0 24 24\"\n",
              "       width=\"24px\">\n",
              "    <path d=\"M0 0h24v24H0V0z\" fill=\"none\"/>\n",
              "    <path d=\"M18.56 5.44l.94 2.06.94-2.06 2.06-.94-2.06-.94-.94-2.06-.94 2.06-2.06.94zm-11 1L8.5 8.5l.94-2.06 2.06-.94-2.06-.94L8.5 2.5l-.94 2.06-2.06.94zm10 10l.94 2.06.94-2.06 2.06-.94-2.06-.94-.94-2.06-.94 2.06-2.06.94z\"/><path d=\"M17.41 7.96l-1.37-1.37c-.4-.4-.92-.59-1.43-.59-.52 0-1.04.2-1.43.59L10.3 9.45l-7.72 7.72c-.78.78-.78 2.05 0 2.83L4 21.41c.39.39.9.59 1.41.59.51 0 1.02-.2 1.41-.59l7.78-7.78 2.81-2.81c.8-.78.8-2.07 0-2.86zM5.41 20L4 18.59l7.72-7.72 1.47 1.35L5.41 20z\"/>\n",
              "  </svg>\n",
              "      </button>\n",
              "      \n",
              "  <style>\n",
              "    .colab-df-container {\n",
              "      display:flex;\n",
              "      flex-wrap:wrap;\n",
              "      gap: 12px;\n",
              "    }\n",
              "\n",
              "    .colab-df-convert {\n",
              "      background-color: #E8F0FE;\n",
              "      border: none;\n",
              "      border-radius: 50%;\n",
              "      cursor: pointer;\n",
              "      display: none;\n",
              "      fill: #1967D2;\n",
              "      height: 32px;\n",
              "      padding: 0 0 0 0;\n",
              "      width: 32px;\n",
              "    }\n",
              "\n",
              "    .colab-df-convert:hover {\n",
              "      background-color: #E2EBFA;\n",
              "      box-shadow: 0px 1px 2px rgba(60, 64, 67, 0.3), 0px 1px 3px 1px rgba(60, 64, 67, 0.15);\n",
              "      fill: #174EA6;\n",
              "    }\n",
              "\n",
              "    [theme=dark] .colab-df-convert {\n",
              "      background-color: #3B4455;\n",
              "      fill: #D2E3FC;\n",
              "    }\n",
              "\n",
              "    [theme=dark] .colab-df-convert:hover {\n",
              "      background-color: #434B5C;\n",
              "      box-shadow: 0px 1px 3px 1px rgba(0, 0, 0, 0.15);\n",
              "      filter: drop-shadow(0px 1px 2px rgba(0, 0, 0, 0.3));\n",
              "      fill: #FFFFFF;\n",
              "    }\n",
              "  </style>\n",
              "\n",
              "      <script>\n",
              "        const buttonEl =\n",
              "          document.querySelector('#df-a578d9d5-0edb-4674-bb66-2c3d78ea404d button.colab-df-convert');\n",
              "        buttonEl.style.display =\n",
              "          google.colab.kernel.accessAllowed ? 'block' : 'none';\n",
              "\n",
              "        async function convertToInteractive(key) {\n",
              "          const element = document.querySelector('#df-a578d9d5-0edb-4674-bb66-2c3d78ea404d');\n",
              "          const dataTable =\n",
              "            await google.colab.kernel.invokeFunction('convertToInteractive',\n",
              "                                                     [key], {});\n",
              "          if (!dataTable) return;\n",
              "\n",
              "          const docLinkHtml = 'Like what you see? Visit the ' +\n",
              "            '<a target=\"_blank\" href=https://colab.research.google.com/notebooks/data_table.ipynb>data table notebook</a>'\n",
              "            + ' to learn more about interactive tables.';\n",
              "          element.innerHTML = '';\n",
              "          dataTable['output_type'] = 'display_data';\n",
              "          await google.colab.output.renderOutput(dataTable, element);\n",
              "          const docLink = document.createElement('div');\n",
              "          docLink.innerHTML = docLinkHtml;\n",
              "          element.appendChild(docLink);\n",
              "        }\n",
              "      </script>\n",
              "    </div>\n",
              "  </div>\n",
              "  "
            ]
          },
          "metadata": {},
          "execution_count": 28
        }
      ]
    },
    {
      "cell_type": "markdown",
      "source": [
        "Amerika Serikat menempati urutan teratas pada asal negara dengan penghasilan <= 50,000 USD. Namun, tidak berarti Amerika Serikat cenderung berpenghasilan rendah. Untuk membuktikannya, mari kita check urutan negara teratas dengan penghasilan > 50,000 USD"
      ],
      "metadata": {
        "id": "Fog6JzNs8ATu"
      }
    },
    {
      "cell_type": "code",
      "source": [
        "income_native.loc[' >50K'].head()"
      ],
      "metadata": {
        "colab": {
          "base_uri": "https://localhost:8080/",
          "height": 0
        },
        "id": "0P7W-0FMkcqj",
        "outputId": "c45d22a6-a146-45d8-e864-fe5ea7865848"
      },
      "execution_count": 29,
      "outputs": [
        {
          "output_type": "execute_result",
          "data": {
            "text/plain": [
              "                native_country\n",
              "native_country                \n",
              " United-States            3667\n",
              " Philippines                49\n",
              " India                      23\n",
              " England                    19\n",
              " Canada                     18"
            ],
            "text/html": [
              "\n",
              "  <div id=\"df-353a616b-386f-4184-bfc0-7c2e04ff7438\">\n",
              "    <div class=\"colab-df-container\">\n",
              "      <div>\n",
              "<style scoped>\n",
              "    .dataframe tbody tr th:only-of-type {\n",
              "        vertical-align: middle;\n",
              "    }\n",
              "\n",
              "    .dataframe tbody tr th {\n",
              "        vertical-align: top;\n",
              "    }\n",
              "\n",
              "    .dataframe thead th {\n",
              "        text-align: right;\n",
              "    }\n",
              "</style>\n",
              "<table border=\"1\" class=\"dataframe\">\n",
              "  <thead>\n",
              "    <tr style=\"text-align: right;\">\n",
              "      <th></th>\n",
              "      <th>native_country</th>\n",
              "    </tr>\n",
              "    <tr>\n",
              "      <th>native_country</th>\n",
              "      <th></th>\n",
              "    </tr>\n",
              "  </thead>\n",
              "  <tbody>\n",
              "    <tr>\n",
              "      <th>United-States</th>\n",
              "      <td>3667</td>\n",
              "    </tr>\n",
              "    <tr>\n",
              "      <th>Philippines</th>\n",
              "      <td>49</td>\n",
              "    </tr>\n",
              "    <tr>\n",
              "      <th>India</th>\n",
              "      <td>23</td>\n",
              "    </tr>\n",
              "    <tr>\n",
              "      <th>England</th>\n",
              "      <td>19</td>\n",
              "    </tr>\n",
              "    <tr>\n",
              "      <th>Canada</th>\n",
              "      <td>18</td>\n",
              "    </tr>\n",
              "  </tbody>\n",
              "</table>\n",
              "</div>\n",
              "      <button class=\"colab-df-convert\" onclick=\"convertToInteractive('df-353a616b-386f-4184-bfc0-7c2e04ff7438')\"\n",
              "              title=\"Convert this dataframe to an interactive table.\"\n",
              "              style=\"display:none;\">\n",
              "        \n",
              "  <svg xmlns=\"http://www.w3.org/2000/svg\" height=\"24px\"viewBox=\"0 0 24 24\"\n",
              "       width=\"24px\">\n",
              "    <path d=\"M0 0h24v24H0V0z\" fill=\"none\"/>\n",
              "    <path d=\"M18.56 5.44l.94 2.06.94-2.06 2.06-.94-2.06-.94-.94-2.06-.94 2.06-2.06.94zm-11 1L8.5 8.5l.94-2.06 2.06-.94-2.06-.94L8.5 2.5l-.94 2.06-2.06.94zm10 10l.94 2.06.94-2.06 2.06-.94-2.06-.94-.94-2.06-.94 2.06-2.06.94z\"/><path d=\"M17.41 7.96l-1.37-1.37c-.4-.4-.92-.59-1.43-.59-.52 0-1.04.2-1.43.59L10.3 9.45l-7.72 7.72c-.78.78-.78 2.05 0 2.83L4 21.41c.39.39.9.59 1.41.59.51 0 1.02-.2 1.41-.59l7.78-7.78 2.81-2.81c.8-.78.8-2.07 0-2.86zM5.41 20L4 18.59l7.72-7.72 1.47 1.35L5.41 20z\"/>\n",
              "  </svg>\n",
              "      </button>\n",
              "      \n",
              "  <style>\n",
              "    .colab-df-container {\n",
              "      display:flex;\n",
              "      flex-wrap:wrap;\n",
              "      gap: 12px;\n",
              "    }\n",
              "\n",
              "    .colab-df-convert {\n",
              "      background-color: #E8F0FE;\n",
              "      border: none;\n",
              "      border-radius: 50%;\n",
              "      cursor: pointer;\n",
              "      display: none;\n",
              "      fill: #1967D2;\n",
              "      height: 32px;\n",
              "      padding: 0 0 0 0;\n",
              "      width: 32px;\n",
              "    }\n",
              "\n",
              "    .colab-df-convert:hover {\n",
              "      background-color: #E2EBFA;\n",
              "      box-shadow: 0px 1px 2px rgba(60, 64, 67, 0.3), 0px 1px 3px 1px rgba(60, 64, 67, 0.15);\n",
              "      fill: #174EA6;\n",
              "    }\n",
              "\n",
              "    [theme=dark] .colab-df-convert {\n",
              "      background-color: #3B4455;\n",
              "      fill: #D2E3FC;\n",
              "    }\n",
              "\n",
              "    [theme=dark] .colab-df-convert:hover {\n",
              "      background-color: #434B5C;\n",
              "      box-shadow: 0px 1px 3px 1px rgba(0, 0, 0, 0.15);\n",
              "      filter: drop-shadow(0px 1px 2px rgba(0, 0, 0, 0.3));\n",
              "      fill: #FFFFFF;\n",
              "    }\n",
              "  </style>\n",
              "\n",
              "      <script>\n",
              "        const buttonEl =\n",
              "          document.querySelector('#df-353a616b-386f-4184-bfc0-7c2e04ff7438 button.colab-df-convert');\n",
              "        buttonEl.style.display =\n",
              "          google.colab.kernel.accessAllowed ? 'block' : 'none';\n",
              "\n",
              "        async function convertToInteractive(key) {\n",
              "          const element = document.querySelector('#df-353a616b-386f-4184-bfc0-7c2e04ff7438');\n",
              "          const dataTable =\n",
              "            await google.colab.kernel.invokeFunction('convertToInteractive',\n",
              "                                                     [key], {});\n",
              "          if (!dataTable) return;\n",
              "\n",
              "          const docLinkHtml = 'Like what you see? Visit the ' +\n",
              "            '<a target=\"_blank\" href=https://colab.research.google.com/notebooks/data_table.ipynb>data table notebook</a>'\n",
              "            + ' to learn more about interactive tables.';\n",
              "          element.innerHTML = '';\n",
              "          dataTable['output_type'] = 'display_data';\n",
              "          await google.colab.output.renderOutput(dataTable, element);\n",
              "          const docLink = document.createElement('div');\n",
              "          docLink.innerHTML = docLinkHtml;\n",
              "          element.appendChild(docLink);\n",
              "        }\n",
              "      </script>\n",
              "    </div>\n",
              "  </div>\n",
              "  "
            ]
          },
          "metadata": {},
          "execution_count": 29
        }
      ]
    },
    {
      "cell_type": "markdown",
      "source": [
        "Terlihat jika Amerika Serikat juga mendominasi pada asal negara dengan penghasilan >50,000 USD. Oleh karena itu, sulit disimpulkan mengenai hubungan antara negara asal dan income."
      ],
      "metadata": {
        "id": "eQZEtGr98UfO"
      }
    },
    {
      "cell_type": "markdown",
      "source": [
        "# V. Data Preprocessing\n",
        "\n",
        "Bagian ini berisi proses penyiapan data untuk proses pelatihan model, seperti pembagian data menjadi train-dev-test, transformasi data (normalisasi, encoding, dll.), dan proses-proses lain yang dibutuhkan."
      ],
      "metadata": {
        "id": "7QFWQvupoEaU"
      }
    },
    {
      "cell_type": "markdown",
      "source": [
        "Pada bagian sebelumnya telah dilakukan EDA untuk menganalisa secara garis besar hubungan masing2 variabel pada dataset. Sekarang saatnya melakukan preprocessing supaya dataset siap untuk menjalani proses pemodelan. Diantara langkah preprocessing tsb adalah feature selection, yakni seleksi terhadap fitur yang tidak berkorelasi thd target. Jumlah fitur harus dibatasi menjadi fitur2 yg memiliki korelasi tinggi dengan target, karena jika terlalu banyak dapat menyebabkan overfitting model."
      ],
      "metadata": {
        "id": "U3feKkrb8p3L"
      }
    },
    {
      "cell_type": "code",
      "source": [
        "# Tampilkan lagi 5 baris teratas pada df\n",
        "df.head()"
      ],
      "metadata": {
        "colab": {
          "base_uri": "https://localhost:8080/",
          "height": 0
        },
        "id": "vovb4bk8noeM",
        "outputId": "f90642a2-77e0-4765-f6c2-04661f2d6ffa"
      },
      "execution_count": 30,
      "outputs": [
        {
          "output_type": "execute_result",
          "data": {
            "text/plain": [
              "   age          workclass education  education_num       marital_status  \\\n",
              "1   37            Private      12th              8   Married-civ-spouse   \n",
              "2   39   Self-emp-not-inc   HS-grad              9   Married-civ-spouse   \n",
              "3   29            Private   HS-grad              9   Married-civ-spouse   \n",
              "4   64            Private   HS-grad              9   Married-civ-spouse   \n",
              "5   31            Private   HS-grad              9   Married-civ-spouse   \n",
              "\n",
              "  occupation relationship                 race      sex  capital_gain  \\\n",
              "1      Sales         Wife   Asian-Pac-Islander   Female             0   \n",
              "2      Sales         Wife                Black   Female             0   \n",
              "3      Sales         Wife                White   Female             0   \n",
              "4      Sales         Wife                White   Female             0   \n",
              "5      Sales         Wife                White   Female             0   \n",
              "\n",
              "   capital_loss  hours_per_week       native_country income_bracket  \n",
              "1             0              33        United-States          <=50K  \n",
              "2             0              54   Dominican-Republic           >50K  \n",
              "3             0              18        United-States          <=50K  \n",
              "4             0              21        United-States          <=50K  \n",
              "5             0              18        United-States          <=50K  "
            ],
            "text/html": [
              "\n",
              "  <div id=\"df-199b52ea-8dec-40ce-9fe6-ee601ae21c9d\">\n",
              "    <div class=\"colab-df-container\">\n",
              "      <div>\n",
              "<style scoped>\n",
              "    .dataframe tbody tr th:only-of-type {\n",
              "        vertical-align: middle;\n",
              "    }\n",
              "\n",
              "    .dataframe tbody tr th {\n",
              "        vertical-align: top;\n",
              "    }\n",
              "\n",
              "    .dataframe thead th {\n",
              "        text-align: right;\n",
              "    }\n",
              "</style>\n",
              "<table border=\"1\" class=\"dataframe\">\n",
              "  <thead>\n",
              "    <tr style=\"text-align: right;\">\n",
              "      <th></th>\n",
              "      <th>age</th>\n",
              "      <th>workclass</th>\n",
              "      <th>education</th>\n",
              "      <th>education_num</th>\n",
              "      <th>marital_status</th>\n",
              "      <th>occupation</th>\n",
              "      <th>relationship</th>\n",
              "      <th>race</th>\n",
              "      <th>sex</th>\n",
              "      <th>capital_gain</th>\n",
              "      <th>capital_loss</th>\n",
              "      <th>hours_per_week</th>\n",
              "      <th>native_country</th>\n",
              "      <th>income_bracket</th>\n",
              "    </tr>\n",
              "  </thead>\n",
              "  <tbody>\n",
              "    <tr>\n",
              "      <th>1</th>\n",
              "      <td>37</td>\n",
              "      <td>Private</td>\n",
              "      <td>12th</td>\n",
              "      <td>8</td>\n",
              "      <td>Married-civ-spouse</td>\n",
              "      <td>Sales</td>\n",
              "      <td>Wife</td>\n",
              "      <td>Asian-Pac-Islander</td>\n",
              "      <td>Female</td>\n",
              "      <td>0</td>\n",
              "      <td>0</td>\n",
              "      <td>33</td>\n",
              "      <td>United-States</td>\n",
              "      <td>&lt;=50K</td>\n",
              "    </tr>\n",
              "    <tr>\n",
              "      <th>2</th>\n",
              "      <td>39</td>\n",
              "      <td>Self-emp-not-inc</td>\n",
              "      <td>HS-grad</td>\n",
              "      <td>9</td>\n",
              "      <td>Married-civ-spouse</td>\n",
              "      <td>Sales</td>\n",
              "      <td>Wife</td>\n",
              "      <td>Black</td>\n",
              "      <td>Female</td>\n",
              "      <td>0</td>\n",
              "      <td>0</td>\n",
              "      <td>54</td>\n",
              "      <td>Dominican-Republic</td>\n",
              "      <td>&gt;50K</td>\n",
              "    </tr>\n",
              "    <tr>\n",
              "      <th>3</th>\n",
              "      <td>29</td>\n",
              "      <td>Private</td>\n",
              "      <td>HS-grad</td>\n",
              "      <td>9</td>\n",
              "      <td>Married-civ-spouse</td>\n",
              "      <td>Sales</td>\n",
              "      <td>Wife</td>\n",
              "      <td>White</td>\n",
              "      <td>Female</td>\n",
              "      <td>0</td>\n",
              "      <td>0</td>\n",
              "      <td>18</td>\n",
              "      <td>United-States</td>\n",
              "      <td>&lt;=50K</td>\n",
              "    </tr>\n",
              "    <tr>\n",
              "      <th>4</th>\n",
              "      <td>64</td>\n",
              "      <td>Private</td>\n",
              "      <td>HS-grad</td>\n",
              "      <td>9</td>\n",
              "      <td>Married-civ-spouse</td>\n",
              "      <td>Sales</td>\n",
              "      <td>Wife</td>\n",
              "      <td>White</td>\n",
              "      <td>Female</td>\n",
              "      <td>0</td>\n",
              "      <td>0</td>\n",
              "      <td>21</td>\n",
              "      <td>United-States</td>\n",
              "      <td>&lt;=50K</td>\n",
              "    </tr>\n",
              "    <tr>\n",
              "      <th>5</th>\n",
              "      <td>31</td>\n",
              "      <td>Private</td>\n",
              "      <td>HS-grad</td>\n",
              "      <td>9</td>\n",
              "      <td>Married-civ-spouse</td>\n",
              "      <td>Sales</td>\n",
              "      <td>Wife</td>\n",
              "      <td>White</td>\n",
              "      <td>Female</td>\n",
              "      <td>0</td>\n",
              "      <td>0</td>\n",
              "      <td>18</td>\n",
              "      <td>United-States</td>\n",
              "      <td>&lt;=50K</td>\n",
              "    </tr>\n",
              "  </tbody>\n",
              "</table>\n",
              "</div>\n",
              "      <button class=\"colab-df-convert\" onclick=\"convertToInteractive('df-199b52ea-8dec-40ce-9fe6-ee601ae21c9d')\"\n",
              "              title=\"Convert this dataframe to an interactive table.\"\n",
              "              style=\"display:none;\">\n",
              "        \n",
              "  <svg xmlns=\"http://www.w3.org/2000/svg\" height=\"24px\"viewBox=\"0 0 24 24\"\n",
              "       width=\"24px\">\n",
              "    <path d=\"M0 0h24v24H0V0z\" fill=\"none\"/>\n",
              "    <path d=\"M18.56 5.44l.94 2.06.94-2.06 2.06-.94-2.06-.94-.94-2.06-.94 2.06-2.06.94zm-11 1L8.5 8.5l.94-2.06 2.06-.94-2.06-.94L8.5 2.5l-.94 2.06-2.06.94zm10 10l.94 2.06.94-2.06 2.06-.94-2.06-.94-.94-2.06-.94 2.06-2.06.94z\"/><path d=\"M17.41 7.96l-1.37-1.37c-.4-.4-.92-.59-1.43-.59-.52 0-1.04.2-1.43.59L10.3 9.45l-7.72 7.72c-.78.78-.78 2.05 0 2.83L4 21.41c.39.39.9.59 1.41.59.51 0 1.02-.2 1.41-.59l7.78-7.78 2.81-2.81c.8-.78.8-2.07 0-2.86zM5.41 20L4 18.59l7.72-7.72 1.47 1.35L5.41 20z\"/>\n",
              "  </svg>\n",
              "      </button>\n",
              "      \n",
              "  <style>\n",
              "    .colab-df-container {\n",
              "      display:flex;\n",
              "      flex-wrap:wrap;\n",
              "      gap: 12px;\n",
              "    }\n",
              "\n",
              "    .colab-df-convert {\n",
              "      background-color: #E8F0FE;\n",
              "      border: none;\n",
              "      border-radius: 50%;\n",
              "      cursor: pointer;\n",
              "      display: none;\n",
              "      fill: #1967D2;\n",
              "      height: 32px;\n",
              "      padding: 0 0 0 0;\n",
              "      width: 32px;\n",
              "    }\n",
              "\n",
              "    .colab-df-convert:hover {\n",
              "      background-color: #E2EBFA;\n",
              "      box-shadow: 0px 1px 2px rgba(60, 64, 67, 0.3), 0px 1px 3px 1px rgba(60, 64, 67, 0.15);\n",
              "      fill: #174EA6;\n",
              "    }\n",
              "\n",
              "    [theme=dark] .colab-df-convert {\n",
              "      background-color: #3B4455;\n",
              "      fill: #D2E3FC;\n",
              "    }\n",
              "\n",
              "    [theme=dark] .colab-df-convert:hover {\n",
              "      background-color: #434B5C;\n",
              "      box-shadow: 0px 1px 3px 1px rgba(0, 0, 0, 0.15);\n",
              "      filter: drop-shadow(0px 1px 2px rgba(0, 0, 0, 0.3));\n",
              "      fill: #FFFFFF;\n",
              "    }\n",
              "  </style>\n",
              "\n",
              "      <script>\n",
              "        const buttonEl =\n",
              "          document.querySelector('#df-199b52ea-8dec-40ce-9fe6-ee601ae21c9d button.colab-df-convert');\n",
              "        buttonEl.style.display =\n",
              "          google.colab.kernel.accessAllowed ? 'block' : 'none';\n",
              "\n",
              "        async function convertToInteractive(key) {\n",
              "          const element = document.querySelector('#df-199b52ea-8dec-40ce-9fe6-ee601ae21c9d');\n",
              "          const dataTable =\n",
              "            await google.colab.kernel.invokeFunction('convertToInteractive',\n",
              "                                                     [key], {});\n",
              "          if (!dataTable) return;\n",
              "\n",
              "          const docLinkHtml = 'Like what you see? Visit the ' +\n",
              "            '<a target=\"_blank\" href=https://colab.research.google.com/notebooks/data_table.ipynb>data table notebook</a>'\n",
              "            + ' to learn more about interactive tables.';\n",
              "          element.innerHTML = '';\n",
              "          dataTable['output_type'] = 'display_data';\n",
              "          await google.colab.output.renderOutput(dataTable, element);\n",
              "          const docLink = document.createElement('div');\n",
              "          docLink.innerHTML = docLinkHtml;\n",
              "          element.appendChild(docLink);\n",
              "        }\n",
              "      </script>\n",
              "    </div>\n",
              "  </div>\n",
              "  "
            ]
          },
          "metadata": {},
          "execution_count": 30
        }
      ]
    },
    {
      "cell_type": "markdown",
      "source": [
        "Banyak angka 0 pada kolom capital_gain dan capital_loss. Angka tsb bukanlah data yg baik karena tidak bisa digunakan untuk memprediksi fitur. Mari kita lihat proporsi data dengan angka 0 pada masing2 kolom tsb."
      ],
      "metadata": {
        "id": "4lEeLVjo890Q"
      }
    },
    {
      "cell_type": "code",
      "source": [
        "# Hitung proporsi data dengan angka 0 pada kolom capital gain\n",
        "print('Proportion of 0 capital gain data is:')\n",
        "df.capital_gain.value_counts().head(1)[0]/df.capital_gain.value_counts().sum()"
      ],
      "metadata": {
        "colab": {
          "base_uri": "https://localhost:8080/"
        },
        "id": "mhGMsHfFprVB",
        "outputId": "31358f82-81b4-4ab3-d68a-d8bc1fc5e54e"
      },
      "execution_count": 31,
      "outputs": [
        {
          "output_type": "stream",
          "name": "stdout",
          "text": [
            "Proportion of 0 capital gain data is:\n"
          ]
        },
        {
          "output_type": "execute_result",
          "data": {
            "text/plain": [
              "0.9288761732670783"
            ]
          },
          "metadata": {},
          "execution_count": 31
        }
      ]
    },
    {
      "cell_type": "code",
      "source": [
        "# Hitung proporsi data dengan angka 0 pada kolom capital loss\n",
        "print('Composition of 0 capital loss data is:')\n",
        "df.capital_loss.value_counts().head(1)[0]/df.capital_loss.value_counts().sum()"
      ],
      "metadata": {
        "colab": {
          "base_uri": "https://localhost:8080/"
        },
        "id": "Vdj86BLNs2Kz",
        "outputId": "c0ad4699-5ef1-494a-ffe5-eb2ac264f439"
      },
      "execution_count": 32,
      "outputs": [
        {
          "output_type": "stream",
          "name": "stdout",
          "text": [
            "Composition of 0 capital loss data is:\n"
          ]
        },
        {
          "output_type": "execute_result",
          "data": {
            "text/plain": [
              "0.9580886412688852"
            ]
          },
          "metadata": {},
          "execution_count": 32
        }
      ]
    },
    {
      "cell_type": "markdown",
      "source": [
        "Kedua hasil perhitungan diatas menandakan proporsi angka 0 sangatlah besar untuk masing2 kolom. Untuk kolom capital gain, proporsi angka 0 adalah 93% dan untuk kolom capital loss, proporsi adalah 96%. Oleh karena itu, kolom capital_gain dan capital_loss akan dihilangkan dari df karena sebagian besar hanya berisi angka 0."
      ],
      "metadata": {
        "id": "Timp-7vu9T7V"
      }
    },
    {
      "cell_type": "code",
      "source": [
        "# Hilangkan kolom capital_gain dan capital_loss pada df dan store hasilnya pada df_1\n",
        "df_1 = df.drop(['capital_gain','capital_loss'], axis=1)"
      ],
      "metadata": {
        "id": "GW8AhCxptbHa"
      },
      "execution_count": 33,
      "outputs": []
    },
    {
      "cell_type": "markdown",
      "source": [
        "Mulai sekarang, df_1 akan digunakan untuk menyimpan dataset hasil feature selection. Selain issue mengenai fitur yang tidak berkorelasi, terdapat juga issue cardinality pada kolom kategorical dimana jumlah label unique terlalu banyak, sehingga perlu dikurangi untuk menghasilkan model yang good-fit. Oleh karena itu akan dilakukan proses cardinality reduction"
      ],
      "metadata": {
        "id": "Wrzd7xNb-ZDw"
      }
    },
    {
      "cell_type": "code",
      "source": [
        "# Tampilkan label unique pada df_1\n",
        "df_1.select_dtypes(exclude='number').nunique()"
      ],
      "metadata": {
        "colab": {
          "base_uri": "https://localhost:8080/"
        },
        "id": "LDBVSfgR9BLW",
        "outputId": "58e17759-c6ae-4f9e-f809-9aac3001e8b7"
      },
      "execution_count": 34,
      "outputs": [
        {
          "output_type": "execute_result",
          "data": {
            "text/plain": [
              "workclass          7\n",
              "education         16\n",
              "marital_status     7\n",
              "occupation        14\n",
              "relationship       6\n",
              "race               5\n",
              "sex                2\n",
              "native_country    40\n",
              "income_bracket     2\n",
              "dtype: int64"
            ]
          },
          "metadata": {},
          "execution_count": 34
        }
      ]
    },
    {
      "cell_type": "markdown",
      "source": [
        "Cukup banyak cardinality pada masing2 kolom kategorikal"
      ],
      "metadata": {
        "id": "mCw_N6pz_Ecj"
      }
    },
    {
      "cell_type": "code",
      "source": [
        "# Hitung jumlah label unik pada kolom education\n",
        "df_1.education.value_counts()"
      ],
      "metadata": {
        "colab": {
          "base_uri": "https://localhost:8080/"
        },
        "id": "aSz6abKv9Tj5",
        "outputId": "fa7c3412-9278-413f-e868-667f0e3393e8"
      },
      "execution_count": 35,
      "outputs": [
        {
          "output_type": "execute_result",
          "data": {
            "text/plain": [
              " HS-grad         6344\n",
              " Some-college    4744\n",
              " Bachelors       3143\n",
              " Masters          976\n",
              " Assoc-voc        918\n",
              " 11th             770\n",
              " Assoc-acdm       701\n",
              " 10th             568\n",
              " 7th-8th          380\n",
              " 9th              302\n",
              " 12th             288\n",
              " Prof-school      258\n",
              " Doctorate        200\n",
              " 5th-6th          188\n",
              " 1st-4th          108\n",
              " Preschool         35\n",
              "Name: education, dtype: int64"
            ]
          },
          "metadata": {},
          "execution_count": 35
        }
      ]
    },
    {
      "cell_type": "markdown",
      "source": [
        "Label pada kolom education akan direduksi menjadi: School, Bachelors, Vocation, Masters dan Doctorate."
      ],
      "metadata": {
        "id": "tVW3avVu_N51"
      }
    },
    {
      "cell_type": "code",
      "source": [
        "# Kurangi cardinality pada kolom education\n",
        "df_1[['education']] = df_1[['education']].replace([' HS-grad',' 11th',' 10th',' 7th-8th',' 9th',' 12th',\n",
        "                                               ' 5th-6th',' 1st-4th',' Preschool'], ' School')\n",
        "df_1[['education']] = df_1[['education']].replace([' Some-college',' Bachelors'], ' Bachelors')\n",
        "df_1[['education']] = df_1[['education']].replace([' Assoc-voc',' Assoc-acdm',' Prof-school'], ' Vocation')"
      ],
      "metadata": {
        "id": "80xsNMZj9tvz"
      },
      "execution_count": 36,
      "outputs": []
    },
    {
      "cell_type": "code",
      "source": [
        "# Tampilkan kolom education\n",
        "df_1.education.value_counts()"
      ],
      "metadata": {
        "colab": {
          "base_uri": "https://localhost:8080/"
        },
        "id": "sAb1uygEC8VK",
        "outputId": "deb8e584-c4db-44eb-fe11-d04d249b16c3"
      },
      "execution_count": 37,
      "outputs": [
        {
          "output_type": "execute_result",
          "data": {
            "text/plain": [
              " School       8983\n",
              " Bachelors    7887\n",
              " Vocation     1877\n",
              " Masters       976\n",
              " Doctorate     200\n",
              "Name: education, dtype: int64"
            ]
          },
          "metadata": {},
          "execution_count": 37
        }
      ]
    },
    {
      "cell_type": "markdown",
      "source": [
        "Sekarang hanya ada 5 label pada kolom education"
      ],
      "metadata": {
        "id": "VtAHTkvv_cn-"
      }
    },
    {
      "cell_type": "code",
      "source": [
        "# Tampilkan jumlah masing2 label pada kolom workclass\n",
        "df_1.workclass.value_counts()"
      ],
      "metadata": {
        "colab": {
          "base_uri": "https://localhost:8080/"
        },
        "id": "wlkL_ad0DvI-",
        "outputId": "f26f28a5-5cba-489a-f9b9-e99bc09829d1"
      },
      "execution_count": 38,
      "outputs": [
        {
          "output_type": "execute_result",
          "data": {
            "text/plain": [
              " Private             14646\n",
              " Local-gov            1535\n",
              " Self-emp-not-inc     1437\n",
              " State-gov            1049\n",
              " Federal-gov           756\n",
              " Self-emp-inc          491\n",
              " Without-pay             9\n",
              "Name: workclass, dtype: int64"
            ]
          },
          "metadata": {},
          "execution_count": 38
        }
      ]
    },
    {
      "cell_type": "markdown",
      "source": [
        "Jumlah label akan dibatasi menjadi Private, Public Servant dan Self-Employed"
      ],
      "metadata": {
        "id": "Lb9zIPOD_oP7"
      }
    },
    {
      "cell_type": "code",
      "source": [
        "# Kurangi cardinality pada kolom workclass\n",
        "df_1[['workclass']] = df_1[['workclass']].replace([' Local-gov',' State-gov',' Federal-gov'], ' Public Servant')\n",
        "df_1[['workclass']] = df_1[['workclass']].replace([' Self-emp-not-inc',' Self-emp-inc',' Without-pay'], ' Self-employed')"
      ],
      "metadata": {
        "id": "-J5IFL3cD4FH"
      },
      "execution_count": 39,
      "outputs": []
    },
    {
      "cell_type": "code",
      "source": [
        "# Tampilkan kolom workclass hasil reduction\n",
        "df_1.workclass.value_counts()"
      ],
      "metadata": {
        "colab": {
          "base_uri": "https://localhost:8080/"
        },
        "id": "-l6iADcXEaj3",
        "outputId": "e6779a8b-01ca-4f95-cc56-7bb33ce54450"
      },
      "execution_count": 40,
      "outputs": [
        {
          "output_type": "execute_result",
          "data": {
            "text/plain": [
              " Private           14646\n",
              " Public Servant     3340\n",
              " Self-employed      1937\n",
              "Name: workclass, dtype: int64"
            ]
          },
          "metadata": {},
          "execution_count": 40
        }
      ]
    },
    {
      "cell_type": "code",
      "source": [
        "# Tampilkan jumlah masing2 label pada kolom marital_status\n",
        "df_1.marital_status.value_counts()"
      ],
      "metadata": {
        "colab": {
          "base_uri": "https://localhost:8080/"
        },
        "id": "nQGHBxeNEg9h",
        "outputId": "6a4b3ff5-77e9-4118-fd0d-8f0fad5b8897"
      },
      "execution_count": 41,
      "outputs": [
        {
          "output_type": "execute_result",
          "data": {
            "text/plain": [
              " Married-civ-spouse       8102\n",
              " Never-married            7276\n",
              " Divorced                 2876\n",
              " Separated                 693\n",
              " Widowed                   686\n",
              " Married-spouse-absent     275\n",
              " Married-AF-spouse          15\n",
              "Name: marital_status, dtype: int64"
            ]
          },
          "metadata": {},
          "execution_count": 41
        }
      ]
    },
    {
      "cell_type": "markdown",
      "source": [
        "Cardinality pada kolom marital_status akan dikurangi menjadi Married, Never Married dan Previously Married."
      ],
      "metadata": {
        "id": "5KwOPlhHAGsK"
      }
    },
    {
      "cell_type": "code",
      "source": [
        "# Kurangi cardinality pada kolom marital_status\n",
        "df_1[['marital_status']] = df_1[['marital_status']].replace([' Married-civ-spouse',' Married-spouse-absent',' Married-AF-spouse'], ' Married')\n",
        "df_1[['marital_status']] = df_1[['marital_status']].replace([' Divorced',' Separated',' Widowed'], ' Previously Married')"
      ],
      "metadata": {
        "id": "-R4VGvx9EpT4"
      },
      "execution_count": 42,
      "outputs": []
    },
    {
      "cell_type": "code",
      "source": [
        "# Tampilkan kolom marital_status setelah reduction\n",
        "df_1.marital_status.value_counts()"
      ],
      "metadata": {
        "colab": {
          "base_uri": "https://localhost:8080/"
        },
        "id": "p_1mGPEMFKkn",
        "outputId": "35b72637-afff-46f5-fbaf-4d8e2f6be242"
      },
      "execution_count": 43,
      "outputs": [
        {
          "output_type": "execute_result",
          "data": {
            "text/plain": [
              " Married               8392\n",
              " Never-married         7276\n",
              " Previously Married    4255\n",
              "Name: marital_status, dtype: int64"
            ]
          },
          "metadata": {},
          "execution_count": 43
        }
      ]
    },
    {
      "cell_type": "code",
      "source": [
        "# Tampilkan jumlah masing2 label pada kolom occupation\n",
        "df_1.occupation.value_counts()"
      ],
      "metadata": {
        "colab": {
          "base_uri": "https://localhost:8080/"
        },
        "id": "TdHmv-_oFSJP",
        "outputId": "e749e0b5-401b-4625-eced-d68c5d56d1d4"
      },
      "execution_count": 44,
      "outputs": [
        {
          "output_type": "execute_result",
          "data": {
            "text/plain": [
              " Adm-clerical         3328\n",
              " Craft-repair         3032\n",
              " Other-service        2982\n",
              " Prof-specialty       2708\n",
              " Sales                2377\n",
              " Exec-managerial      2249\n",
              " Tech-support          758\n",
              " Farming-fishing       620\n",
              " Protective-serv       524\n",
              " Transport-moving      519\n",
              " Handlers-cleaners     407\n",
              " Machine-op-inspct     283\n",
              " Priv-house-serv       130\n",
              " Armed-Forces            6\n",
              "Name: occupation, dtype: int64"
            ]
          },
          "metadata": {},
          "execution_count": 44
        }
      ]
    },
    {
      "cell_type": "markdown",
      "source": [
        "Label yang berhubungan dengan service pada kolom occupation akan dikelompokkan menjadi 'Service' untuk mengurangi jenis label."
      ],
      "metadata": {
        "id": "5MNcB-miAgQn"
      }
    },
    {
      "cell_type": "code",
      "source": [
        "# Kelompokkan jenis2 pekerjaan yg berhubungan dgn service menjadi 'Service'\n",
        "df_1[['occupation']] = df_1[['occupation']].replace([' Craft-repair',' Other-service',' Protective-serv',\n",
        "                                                 ' Handlers-cleaners', ' Priv-house-serv'], ' Service')"
      ],
      "metadata": {
        "id": "CVDw1hb9Flds"
      },
      "execution_count": 45,
      "outputs": []
    },
    {
      "cell_type": "code",
      "source": [
        "# Tampilkan jumlah masing2 label pada kolom occupation setelah reduction\n",
        "df_1.occupation.value_counts()"
      ],
      "metadata": {
        "colab": {
          "base_uri": "https://localhost:8080/"
        },
        "id": "S-qde4WbGFoC",
        "outputId": "4b0f6a59-ed6c-404c-822c-d5de1a292abf"
      },
      "execution_count": 46,
      "outputs": [
        {
          "output_type": "execute_result",
          "data": {
            "text/plain": [
              " Service              7075\n",
              " Adm-clerical         3328\n",
              " Prof-specialty       2708\n",
              " Sales                2377\n",
              " Exec-managerial      2249\n",
              " Tech-support          758\n",
              " Farming-fishing       620\n",
              " Transport-moving      519\n",
              " Machine-op-inspct     283\n",
              " Armed-Forces            6\n",
              "Name: occupation, dtype: int64"
            ]
          },
          "metadata": {},
          "execution_count": 46
        }
      ]
    },
    {
      "cell_type": "code",
      "source": [
        "# Tampilkan jumlah masing2 label pada kolom relationship\n",
        "df_1.relationship.value_counts()"
      ],
      "metadata": {
        "colab": {
          "base_uri": "https://localhost:8080/"
        },
        "id": "xXVGsJJuHC7O",
        "outputId": "db327566-d66d-4656-df92-9f2f23287fdb"
      },
      "execution_count": 47,
      "outputs": [
        {
          "output_type": "execute_result",
          "data": {
            "text/plain": [
              " Husband           6834\n",
              " Not-in-family     5176\n",
              " Own-child         3677\n",
              " Unmarried         2440\n",
              " Wife              1129\n",
              " Other-relative     667\n",
              "Name: relationship, dtype: int64"
            ]
          },
          "metadata": {},
          "execution_count": 47
        }
      ]
    },
    {
      "cell_type": "markdown",
      "source": [
        "Menurut personal judgement, jenis2 label pada kolom relationship sudah terwakili oleh jenis2 label pada marital_status, sehingga kolom relationship akan di-drop"
      ],
      "metadata": {
        "id": "6RwsUXztBAnL"
      }
    },
    {
      "cell_type": "code",
      "source": [
        "# Drop kolom relationship\n",
        "df_1 = df_1.drop(['relationship'], axis=1)"
      ],
      "metadata": {
        "id": "ifH7E1uFHJBD"
      },
      "execution_count": 48,
      "outputs": []
    },
    {
      "cell_type": "code",
      "source": [
        "# Tampilkan jumlah masing2 label pada kolom race\n",
        "df_1.race.value_counts()"
      ],
      "metadata": {
        "colab": {
          "base_uri": "https://localhost:8080/"
        },
        "id": "6SIRe7DrHRpI",
        "outputId": "088769c3-ec2a-41d2-daa2-7ebac7809c26"
      },
      "execution_count": 49,
      "outputs": [
        {
          "output_type": "execute_result",
          "data": {
            "text/plain": [
              " White                 16702\n",
              " Black                  2148\n",
              " Asian-Pac-Islander      712\n",
              " Amer-Indian-Eskimo      195\n",
              " Other                   166\n",
              "Name: race, dtype: int64"
            ]
          },
          "metadata": {},
          "execution_count": 49
        }
      ]
    },
    {
      "cell_type": "markdown",
      "source": [
        "Label Asian-Pac-Islander dan Amer-Indian-Eskimo akan dikelompkkan menjadi Other karena jumlahnya hanya sedikit."
      ],
      "metadata": {
        "id": "TQ66mFNqBYI6"
      }
    },
    {
      "cell_type": "code",
      "source": [
        "# Kelompokkan menjadi Other\n",
        "df_1[['race']] = df_1[['race']].replace([' Amer-Indian-Eskimo',' Other'], ' Other')"
      ],
      "metadata": {
        "id": "m5pr6uXcHd00"
      },
      "execution_count": 50,
      "outputs": []
    },
    {
      "cell_type": "code",
      "source": [
        "# Tampilkan jumlah masing2 label pada kolom native_country\n",
        "df_1.native_country.value_counts()"
      ],
      "metadata": {
        "colab": {
          "base_uri": "https://localhost:8080/"
        },
        "id": "LPZ5MFI4HryD",
        "outputId": "e6f8385f-a3f4-48e6-cc80-f4c6b5dbb6f3"
      },
      "execution_count": 51,
      "outputs": [
        {
          "output_type": "execute_result",
          "data": {
            "text/plain": [
              " United-States                 18131\n",
              " Mexico                          395\n",
              " Philippines                     153\n",
              " Puerto-Rico                      84\n",
              " El-Salvador                      75\n",
              " Canada                           71\n",
              " Germany                          70\n",
              " India                            68\n",
              " Cuba                             67\n",
              " Jamaica                          67\n",
              " England                          56\n",
              " Vietnam                          51\n",
              " China                            49\n",
              " South                            43\n",
              " Dominican-Republic               42\n",
              " Japan                            40\n",
              " Guatemala                        39\n",
              " Italy                            39\n",
              " Poland                           34\n",
              " Haiti                            33\n",
              " Columbia                         32\n",
              " Taiwan                           32\n",
              " Iran                             24\n",
              " Nicaragua                        22\n",
              " Peru                             21\n",
              " Portugal                         20\n",
              " Greece                           16\n",
              " Hong                             15\n",
              " Ecuador                          15\n",
              " Trinadad&Tobago                  14\n",
              " France                           14\n",
              " Ireland                          14\n",
              " Thailand                         13\n",
              " Yugoslavia                       12\n",
              " Cambodia                         11\n",
              " Outlying-US(Guam-USVI-etc)        9\n",
              " Honduras                          9\n",
              " Laos                              9\n",
              " Hungary                           8\n",
              " Scotland                          6\n",
              "Name: native_country, dtype: int64"
            ]
          },
          "metadata": {},
          "execution_count": 51
        }
      ]
    },
    {
      "cell_type": "markdown",
      "source": [
        "Karena cardinality pada kolom native_country terlalu besar, akan dilakukan pengelompokkan negara menjadi benua asalnya, yakni: United States, South America, Asia, Europe dan Canada"
      ],
      "metadata": {
        "id": "TW_afJyFB3Be"
      }
    },
    {
      "cell_type": "code",
      "source": [
        "# Kelompokkan negara2 menjadi benua asalnya\n",
        "df_1[['native_country']] = df_1[['native_country']].replace([' Mexico',' Puerto-Rico',' El-Salvador',' Cuba',\n",
        "                                                             ' Jamaica',' South',' Dominican-Republic',' Guatemala',\n",
        "                                                             ' Haiti', ' Columbia', ' Nicaragua',' Peru', ' Ecuador',\n",
        "                                                             ' Trinadad&Tobago', ' Outlying-US(Guam-USVI-etc)',\n",
        "                                                             ' Honduras'], ' South America')\n",
        "df_1[['native_country']] = df_1[['native_country']].replace([' Philippines',' India',' Vietnam', ' China', ' Japan',\n",
        "                                                             ' Taiwan',' Hong', ' Iran', ' Thailand', ' Cambodia', ' Laos'], ' Asia')\n",
        "df_1[['native_country']] = df_1[['native_country']].replace([' Germany',' England',' Italy', ' Poland', ' Portugal',\n",
        "                                                             ' Greece',' France',' Ireland', ' Yugoslavia', ' Hungary',\n",
        "                                                             ' Scotland'], ' Europe')"
      ],
      "metadata": {
        "id": "Kedg7grpHzyi"
      },
      "execution_count": 52,
      "outputs": []
    },
    {
      "cell_type": "code",
      "source": [
        "# Tampilkan kolom native_country setelah cardinality reduction\n",
        "df_1.native_country.value_counts()"
      ],
      "metadata": {
        "colab": {
          "base_uri": "https://localhost:8080/"
        },
        "id": "GpQ9NSd-J0I8",
        "outputId": "3a21ad04-e43e-4f3f-ba47-aa1f8b628700"
      },
      "execution_count": 53,
      "outputs": [
        {
          "output_type": "execute_result",
          "data": {
            "text/plain": [
              " United-States    18131\n",
              " South America      967\n",
              " Asia               465\n",
              " Europe             289\n",
              " Canada              71\n",
              "Name: native_country, dtype: int64"
            ]
          },
          "metadata": {},
          "execution_count": 53
        }
      ]
    },
    {
      "cell_type": "markdown",
      "source": [
        "Sekarang mari kita tinjau kembali kolom2 kategorikal hasil dari cardinality reduction."
      ],
      "metadata": {
        "id": "pY4Eoi-XCTyF"
      }
    },
    {
      "cell_type": "code",
      "source": [
        "# Tampilkan kolom2 kategorical pada df_1\n",
        "df_1.select_dtypes(exclude='number').nunique()"
      ],
      "metadata": {
        "colab": {
          "base_uri": "https://localhost:8080/"
        },
        "id": "58KgN6QIKf-b",
        "outputId": "6c685394-7de5-4aac-f841-9a4d0e4ea778"
      },
      "execution_count": 54,
      "outputs": [
        {
          "output_type": "execute_result",
          "data": {
            "text/plain": [
              "workclass          3\n",
              "education          5\n",
              "marital_status     3\n",
              "occupation        10\n",
              "race               4\n",
              "sex                2\n",
              "native_country     5\n",
              "income_bracket     2\n",
              "dtype: int64"
            ]
          },
          "metadata": {},
          "execution_count": 54
        }
      ]
    },
    {
      "cell_type": "markdown",
      "source": [
        "Jumlah cardinality sudah jauh berkurang dari sebelumnya"
      ],
      "metadata": {
        "id": "ux2qDgs9CdZ9"
      }
    },
    {
      "cell_type": "markdown",
      "source": [
        "Berikutnya akan dilakukan scaling pada kolom numerical menggunakan MinMaxScaler. Scaling akan mentransformasi nilai numerik pada kolom menjadi berada pada range 0-1. Scaling adalah prosedur umum pada pemodelan regresi dan machine learning, supaya tidak ada pembobotan lebih besar pada angka2 besar dibandingkan angka2 kecil, yg akan mengurangi performance model. Pertama2 akan dilakukan reset_index pada df_1, lalu pembagian df_1 menjadi kolom numerik dan kategorikal. Untuk kolom numerik akan dilakukan scaling. Kemudian kolom numerik dan kategorikan akan disatukan lagi menggunakan inner join on index."
      ],
      "metadata": {
        "id": "2A-RwnLtCk1O"
      }
    },
    {
      "cell_type": "code",
      "source": [
        "# Reset index pada df_1\n",
        "df_1.reset_index(inplace=True, drop=True)"
      ],
      "metadata": {
        "id": "tZB8BNsGcg73"
      },
      "execution_count": 55,
      "outputs": []
    },
    {
      "cell_type": "code",
      "source": [
        "# Bagi df_1 menjadi dataset numerik dan dataset kategorikal\n",
        "df_1_cat = df_1.select_dtypes(exclude='number')\n",
        "df_1_num = df_1.select_dtypes(include='number')"
      ],
      "metadata": {
        "id": "5ntv_zrPbFan"
      },
      "execution_count": 56,
      "outputs": []
    },
    {
      "cell_type": "code",
      "source": [
        "# Pendefinisian scaler menggunakan MinMaxScaler\n",
        "sc=MinMaxScaler()\n",
        "# Fitting scaler pada dataset numerik\n",
        "sc.fit(df_1_num)\n",
        "# Transform dataset numerik menjadi nilai scaled\n",
        "df_1_num_scaled=sc.transform(df_1_num)"
      ],
      "metadata": {
        "id": "RbMkuCdmbL7i"
      },
      "execution_count": 57,
      "outputs": []
    },
    {
      "cell_type": "code",
      "source": [
        "# Tambahkan nama kolom pada dataset numerik hasil scaling\n",
        "df_1_num_scaled = pd.DataFrame(df_1_num_scaled, columns = df_1_num.columns)"
      ],
      "metadata": {
        "id": "AESzrO0HbkPx"
      },
      "execution_count": 58,
      "outputs": []
    },
    {
      "cell_type": "code",
      "source": [
        "# Lakukan inner join dataset kategorikal dan dataset numerik hasil scaling. Store hasilnya pada df1\n",
        "df1 = pd.merge(df_1_cat, df_1_num_scaled, left_index=True, right_index=True)"
      ],
      "metadata": {
        "id": "r3LVJVQIb0F1"
      },
      "execution_count": 59,
      "outputs": []
    },
    {
      "cell_type": "markdown",
      "source": [
        "Berikutnya, akan dilakukan pembagian dataset menjadi dataset fitur (X) dan dataset target (y)"
      ],
      "metadata": {
        "id": "ev89FkUvD-on"
      }
    },
    {
      "cell_type": "code",
      "source": [
        "# Buat dataset fitur\n",
        "X = df1.drop('income_bracket',axis=1)\n",
        "# Buat dataset target yg hanya berisi kolom income_bracket\n",
        "y = df1['income_bracket']"
      ],
      "metadata": {
        "id": "26_REF2EKxrv"
      },
      "execution_count": 60,
      "outputs": []
    },
    {
      "cell_type": "markdown",
      "source": [
        "Lalu lakukanlah train_test_split untuk membagi masing2 dataset X dan y menjadi testing set dan training set. Ukuran testing set adalah 20% dan training set adalag 80%. Gunakan stratify supaya proporsi antara label pada training set dan testing set kolom target seimbang. "
      ],
      "metadata": {
        "id": "4o_VBTGUERh_"
      }
    },
    {
      "cell_type": "code",
      "source": [
        "# Lakukan train_test_split\n",
        "X_train, X_test, y_train, y_test = train_test_split(X, y, test_size=0.2, stratify=y, random_state=101)"
      ],
      "metadata": {
        "id": "92aM1gd0LIb_"
      },
      "execution_count": 61,
      "outputs": []
    },
    {
      "cell_type": "markdown",
      "source": [
        "Berikutnya akan dilakukan encoding pada kolom kategorikal pada fitur dan target dataset. Tujuan dari encoding ini adalah untuk mengecek korelasi antar data kategorikal menggunakan chi-square. Metode yang digunakan adalah OrdinalEncoder pada training & testing set fitur dan LabelEncoder pada training & testing set target. Kedua metode encoding tsb akan menghasilkan output yg sama, yakni mengubah label menjadi angka2 diskrit dengan range sesuai jumlah label."
      ],
      "metadata": {
        "id": "tL7mIxkUFIbO"
      }
    },
    {
      "cell_type": "code",
      "source": [
        "# Bagi training dan testing dataset menjadi dataset berisi data numerik dan dataset berisi data kategorikal\n",
        "X_train_cat = X_train.select_dtypes(exclude='number')\n",
        "X_train_num = X_train.select_dtypes(include='number')\n",
        "X_test_cat = X_test.select_dtypes(exclude='number')\n",
        "X_test_num = X_test.select_dtypes(include='number')"
      ],
      "metadata": {
        "id": "k1wVJzIiNKq8"
      },
      "execution_count": 62,
      "outputs": []
    },
    {
      "cell_type": "code",
      "source": [
        "# Lakukan OrdinalEncoder pada training dataset kategorikal dari fitur\n",
        "oe = OrdinalEncoder()\n",
        "oe.fit(X_train_cat)\n",
        "X_train_enc = oe.transform(X_train_cat)\n",
        "X_test_enc = oe.transform(X_test_cat)"
      ],
      "metadata": {
        "id": "fj8Jj6v-MTxI"
      },
      "execution_count": 63,
      "outputs": []
    },
    {
      "cell_type": "code",
      "source": [
        "# Lakukan LabelEncoder pada training dataset kategorikal dari target\n",
        "le = LabelEncoder()\n",
        "le.fit(y_train)\n",
        "y_train_enc = le.transform(y_train)\n",
        "y_test_enc = le.transform(y_test)"
      ],
      "metadata": {
        "id": "gTBjBn6sMYul"
      },
      "execution_count": 64,
      "outputs": []
    },
    {
      "cell_type": "markdown",
      "source": [
        "Hasil label encoder adalah 1 untuk income >50K dan 0 untuk income <=50K"
      ],
      "metadata": {
        "id": "mTFMU8yd6na7"
      }
    },
    {
      "cell_type": "markdown",
      "source": [
        "Setelah proses encoding selesai, akan dilakukan pengecekan chi-square (chi2) menggunakan fungsi SelectKBest. Chi2 bertujuan untuk mengecek apakah terdapat korelasi signifikan antara fitur dengan target jika fitur dan target sama2 berupa data kategorikal."
      ],
      "metadata": {
        "id": "KWYLQ9NQIZ8R"
      }
    },
    {
      "cell_type": "code",
      "source": [
        "# Lakukan pengecekan korelasi antara fitur dan target menggunakan Chi-Square\n",
        "fs = SelectKBest(score_func=chi2, k='all')\n",
        "fs.fit(X_train_enc, y_train_enc)\n",
        "X_train_fs = fs.transform(X_train_enc)\n",
        "X_test_fs = fs.transform(X_test_enc)"
      ],
      "metadata": {
        "id": "93Ri7ShmMVxg"
      },
      "execution_count": 65,
      "outputs": []
    },
    {
      "cell_type": "code",
      "source": [
        "# Print nilai masing2 fitur dan plot dalam bar chart\n",
        "for i in range(len(fs.scores_)):\n",
        "\tprint('Feature %d: %f' % (i, fs.scores_[i]))\n",
        "\n",
        "plt.bar([i for i in range(len(fs.scores_))], fs.scores_)\n",
        "plt.show()"
      ],
      "metadata": {
        "colab": {
          "base_uri": "https://localhost:8080/",
          "height": 0
        },
        "id": "6xBVMTBaOPcg",
        "outputId": "2da3f475-2a8f-413f-e65f-157b9cbde7ec"
      },
      "execution_count": 66,
      "outputs": [
        {
          "output_type": "stream",
          "name": "stdout",
          "text": [
            "Feature 0: 310.917180\n",
            "Feature 1: 140.812185\n",
            "Feature 2: 1730.466159\n",
            "Feature 3: 33.623808\n",
            "Feature 4: 7.869152\n",
            "Feature 5: 277.189511\n",
            "Feature 6: 0.686257\n"
          ]
        },
        {
          "output_type": "display_data",
          "data": {
            "text/plain": [
              "<Figure size 432x288 with 1 Axes>"
            ],
            "image/png": "[encoded data removed]"
          },
          "metadata": {
            "needs_background": "light"
          }
        }
      ]
    },
    {
      "cell_type": "code",
      "source": [
        "# Perjelas nama masing2 fitur\n",
        "for i in range(len(fs.scores_)):\n",
        "\tprint('Feature %d: %s' % (i, X_train_cat.columns[i]))"
      ],
      "metadata": {
        "colab": {
          "base_uri": "https://localhost:8080/"
        },
        "id": "crKn0WkERe4I",
        "outputId": "e2a93711-2f1c-4dcf-b265-19c637e12b45"
      },
      "execution_count": 67,
      "outputs": [
        {
          "output_type": "stream",
          "name": "stdout",
          "text": [
            "Feature 0: workclass\n",
            "Feature 1: education\n",
            "Feature 2: marital_status\n",
            "Feature 3: occupation\n",
            "Feature 4: race\n",
            "Feature 5: sex\n",
            "Feature 6: native_country\n"
          ]
        }
      ]
    },
    {
      "cell_type": "markdown",
      "source": [
        "Berdasarkan nilai Chi-Square, hanya fitur marital_status, workclass, sex dan education yg memiliki korelasi lumayan besar dengan target (income_bracket). Oleh karena itu, hanya kolom2 ini yg akan dipakai."
      ],
      "metadata": {
        "id": "d2ubzYLSI7Ov"
      }
    },
    {
      "cell_type": "code",
      "source": [
        "# Drop kolom2 kategorikal yg mempunyai korelasi rendah dengan target. Lakukan pada training set\n",
        "X_train = X_train.drop(['occupation','race','native_country'], axis=1)"
      ],
      "metadata": {
        "id": "tIXyOdzjSER2"
      },
      "execution_count": 68,
      "outputs": []
    },
    {
      "cell_type": "code",
      "source": [
        "# Drop kolom2 kategorikal yg mempunyai korelasi rendah dengan target. Lakukan pada testing set\n",
        "X_test = X_test.drop(['occupation','race','native_country'], axis=1)"
      ],
      "metadata": {
        "id": "RpZbGbJfSeav"
      },
      "execution_count": 69,
      "outputs": []
    },
    {
      "cell_type": "markdown",
      "source": [
        "Berikutnya akan dilakukan handling outliers yg dilakukan menggunakan metode capping dengan fungsi Winsorizer. Capping akan membatas dataset yg dianalisa sesuai batas2 data outlier tanpa menghapus data tsb. Kelebihan metode ini adalah data2 outlier tidak perlu dihapus sehingga berguna jika jumlah outliers cukup banyak. Metode capping menggunakan nilai IQR, karena kita mengasumsikan distribusi data tidak Gaussian."
      ],
      "metadata": {
        "id": "okuLDKo7JkFj"
      }
    },
    {
      "cell_type": "code",
      "source": [
        "# Lakukan handling outliers dengan metode capping menggunakan fungsi Winsorizer\n",
        "windsoriser = Winsorizer(capping_method='iqr', \n",
        "                          tail='both', \n",
        "                          fold=1.5,\n",
        "                          variables=['age', 'education_num', 'hours_per_week'])\n",
        "\n",
        "windsoriser.fit(X_train)\n",
        "\n",
        "# Store dataset hasil capping ke dalam X_train_t dan X_test_t \n",
        "X_train_t = windsoriser.transform(X_train)\n",
        "X_test_t = windsoriser.transform(X_test)"
      ],
      "metadata": {
        "id": "5yUIiUF0UnpW"
      },
      "execution_count": 70,
      "outputs": []
    },
    {
      "cell_type": "code",
      "source": [
        "# Tampilkan statistical desc masing2 dataset sebelum dan sesudah capping\n",
        "print('X_train - Before Capping')\n",
        "print(X_train.describe())\n",
        "print('X_train - After Capping')\n",
        "print(X_train_t.describe())\n",
        "print('X_test - Before Capping')\n",
        "print(X_test.describe())\n",
        "print('X_test - After Capping')\n",
        "print(X_test_t.describe())"
      ],
      "metadata": {
        "colab": {
          "base_uri": "https://localhost:8080/"
        },
        "id": "ZrY2BxfWVvn1",
        "outputId": "a10452a4-17a4-4b0c-e937-9dc97ca8386e"
      },
      "execution_count": 71,
      "outputs": [
        {
          "output_type": "stream",
          "name": "stdout",
          "text": [
            "X_train - Before Capping\n",
            "                age  education_num  hours_per_week\n",
            "count  15938.000000   15938.000000    15938.000000\n",
            "mean       0.287855       0.601297        0.364529\n",
            "std        0.190756       0.166777        0.118304\n",
            "min        0.000000       0.000000        0.000000\n",
            "25%        0.123288       0.533333        0.346939\n",
            "50%        0.260274       0.600000        0.397959\n",
            "75%        0.410959       0.733333        0.397959\n",
            "max        1.000000       1.000000        1.000000\n",
            "X_train - After Capping\n",
            "                age  education_num  hours_per_week\n",
            "count  15938.000000   15938.000000    15938.000000\n",
            "mean       0.287542       0.604231        0.369780\n",
            "std        0.189743       0.159011        0.055752\n",
            "min        0.000000       0.233333        0.270408\n",
            "25%        0.123288       0.533333        0.346939\n",
            "50%        0.260274       0.600000        0.397959\n",
            "75%        0.410959       0.733333        0.397959\n",
            "max        0.842466       1.000000        0.474490\n",
            "X_test - Before Capping\n",
            "               age  education_num  hours_per_week\n",
            "count  3985.000000    3985.000000     3985.000000\n",
            "mean      0.289778       0.600770        0.361719\n",
            "std       0.193832       0.167779        0.123332\n",
            "min       0.000000       0.000000        0.000000\n",
            "25%       0.123288       0.533333        0.346939\n",
            "50%       0.273973       0.600000        0.397959\n",
            "75%       0.424658       0.733333        0.397959\n",
            "max       1.000000       1.000000        1.000000\n",
            "X_test - After Capping\n",
            "               age  education_num  hours_per_week\n",
            "count  3985.000000    3985.000000     3985.000000\n",
            "mean      0.289383       0.603496        0.368637\n",
            "std       0.192574       0.160549        0.056467\n",
            "min       0.000000       0.233333        0.270408\n",
            "25%       0.123288       0.533333        0.346939\n",
            "50%       0.273973       0.600000        0.397959\n",
            "75%       0.424658       0.733333        0.397959\n",
            "max       0.842466       1.000000        0.474490\n"
          ]
        }
      ]
    },
    {
      "cell_type": "markdown",
      "source": [
        "Terlihat jika nilai mean, std deviation, quintiles, min dan max pada dataset hasil capping sedikit berubah, namun jumlah dataset tetap sama dengan dataset sebelum capping. Artinya, proses capping aka sedikit merubah distribusi dataset"
      ],
      "metadata": {
        "id": "q1apGoYnKn09"
      }
    },
    {
      "cell_type": "code",
      "source": [
        "# Tampilkan X_train_t\n",
        "X_train_t.head()"
      ],
      "metadata": {
        "colab": {
          "base_uri": "https://localhost:8080/",
          "height": 0
        },
        "id": "pyHTyUInfxvx",
        "outputId": "8f276bea-f48b-4643-d6bd-7e8e89f7b3d4"
      },
      "execution_count": 72,
      "outputs": [
        {
          "output_type": "execute_result",
          "data": {
            "text/plain": [
              "             workclass   education       marital_status      sex       age  \\\n",
              "17167          Private   Bachelors   Previously Married   Female  0.520548   \n",
              "11438          Private      School              Married     Male  0.328767   \n",
              "2602     Self-employed      School   Previously Married     Male  0.794521   \n",
              "12952          Private      School        Never-married     Male  0.041096   \n",
              "18109   Public Servant   Bachelors              Married     Male  0.410959   \n",
              "\n",
              "       education_num  hours_per_week  \n",
              "17167       0.800000        0.397959  \n",
              "11438       0.266667        0.397959  \n",
              "2602        0.533333        0.270408  \n",
              "12952       0.533333        0.397959  \n",
              "18109       0.600000        0.397959  "
            ],
            "text/html": [
              "\n",
              "  <div id=\"df-05217368-2d85-43ba-b7fb-89f400ff2f90\">\n",
              "    <div class=\"colab-df-container\">\n",
              "      <div>\n",
              "<style scoped>\n",
              "    .dataframe tbody tr th:only-of-type {\n",
              "        vertical-align: middle;\n",
              "    }\n",
              "\n",
              "    .dataframe tbody tr th {\n",
              "        vertical-align: top;\n",
              "    }\n",
              "\n",
              "    .dataframe thead th {\n",
              "        text-align: right;\n",
              "    }\n",
              "</style>\n",
              "<table border=\"1\" class=\"dataframe\">\n",
              "  <thead>\n",
              "    <tr style=\"text-align: right;\">\n",
              "      <th></th>\n",
              "      <th>workclass</th>\n",
              "      <th>education</th>\n",
              "      <th>marital_status</th>\n",
              "      <th>sex</th>\n",
              "      <th>age</th>\n",
              "      <th>education_num</th>\n",
              "      <th>hours_per_week</th>\n",
              "    </tr>\n",
              "  </thead>\n",
              "  <tbody>\n",
              "    <tr>\n",
              "      <th>17167</th>\n",
              "      <td>Private</td>\n",
              "      <td>Bachelors</td>\n",
              "      <td>Previously Married</td>\n",
              "      <td>Female</td>\n",
              "      <td>0.520548</td>\n",
              "      <td>0.800000</td>\n",
              "      <td>0.397959</td>\n",
              "    </tr>\n",
              "    <tr>\n",
              "      <th>11438</th>\n",
              "      <td>Private</td>\n",
              "      <td>School</td>\n",
              "      <td>Married</td>\n",
              "      <td>Male</td>\n",
              "      <td>0.328767</td>\n",
              "      <td>0.266667</td>\n",
              "      <td>0.397959</td>\n",
              "    </tr>\n",
              "    <tr>\n",
              "      <th>2602</th>\n",
              "      <td>Self-employed</td>\n",
              "      <td>School</td>\n",
              "      <td>Previously Married</td>\n",
              "      <td>Male</td>\n",
              "      <td>0.794521</td>\n",
              "      <td>0.533333</td>\n",
              "      <td>0.270408</td>\n",
              "    </tr>\n",
              "    <tr>\n",
              "      <th>12952</th>\n",
              "      <td>Private</td>\n",
              "      <td>School</td>\n",
              "      <td>Never-married</td>\n",
              "      <td>Male</td>\n",
              "      <td>0.041096</td>\n",
              "      <td>0.533333</td>\n",
              "      <td>0.397959</td>\n",
              "    </tr>\n",
              "    <tr>\n",
              "      <th>18109</th>\n",
              "      <td>Public Servant</td>\n",
              "      <td>Bachelors</td>\n",
              "      <td>Married</td>\n",
              "      <td>Male</td>\n",
              "      <td>0.410959</td>\n",
              "      <td>0.600000</td>\n",
              "      <td>0.397959</td>\n",
              "    </tr>\n",
              "  </tbody>\n",
              "</table>\n",
              "</div>\n",
              "      <button class=\"colab-df-convert\" onclick=\"convertToInteractive('df-05217368-2d85-43ba-b7fb-89f400ff2f90')\"\n",
              "              title=\"Convert this dataframe to an interactive table.\"\n",
              "              style=\"display:none;\">\n",
              "        \n",
              "  <svg xmlns=\"http://www.w3.org/2000/svg\" height=\"24px\"viewBox=\"0 0 24 24\"\n",
              "       width=\"24px\">\n",
              "    <path d=\"M0 0h24v24H0V0z\" fill=\"none\"/>\n",
              "    <path d=\"M18.56 5.44l.94 2.06.94-2.06 2.06-.94-2.06-.94-.94-2.06-.94 2.06-2.06.94zm-11 1L8.5 8.5l.94-2.06 2.06-.94-2.06-.94L8.5 2.5l-.94 2.06-2.06.94zm10 10l.94 2.06.94-2.06 2.06-.94-2.06-.94-.94-2.06-.94 2.06-2.06.94z\"/><path d=\"M17.41 7.96l-1.37-1.37c-.4-.4-.92-.59-1.43-.59-.52 0-1.04.2-1.43.59L10.3 9.45l-7.72 7.72c-.78.78-.78 2.05 0 2.83L4 21.41c.39.39.9.59 1.41.59.51 0 1.02-.2 1.41-.59l7.78-7.78 2.81-2.81c.8-.78.8-2.07 0-2.86zM5.41 20L4 18.59l7.72-7.72 1.47 1.35L5.41 20z\"/>\n",
              "  </svg>\n",
              "      </button>\n",
              "      \n",
              "  <style>\n",
              "    .colab-df-container {\n",
              "      display:flex;\n",
              "      flex-wrap:wrap;\n",
              "      gap: 12px;\n",
              "    }\n",
              "\n",
              "    .colab-df-convert {\n",
              "      background-color: #E8F0FE;\n",
              "      border: none;\n",
              "      border-radius: 50%;\n",
              "      cursor: pointer;\n",
              "      display: none;\n",
              "      fill: #1967D2;\n",
              "      height: 32px;\n",
              "      padding: 0 0 0 0;\n",
              "      width: 32px;\n",
              "    }\n",
              "\n",
              "    .colab-df-convert:hover {\n",
              "      background-color: #E2EBFA;\n",
              "      box-shadow: 0px 1px 2px rgba(60, 64, 67, 0.3), 0px 1px 3px 1px rgba(60, 64, 67, 0.15);\n",
              "      fill: #174EA6;\n",
              "    }\n",
              "\n",
              "    [theme=dark] .colab-df-convert {\n",
              "      background-color: #3B4455;\n",
              "      fill: #D2E3FC;\n",
              "    }\n",
              "\n",
              "    [theme=dark] .colab-df-convert:hover {\n",
              "      background-color: #434B5C;\n",
              "      box-shadow: 0px 1px 3px 1px rgba(0, 0, 0, 0.15);\n",
              "      filter: drop-shadow(0px 1px 2px rgba(0, 0, 0, 0.3));\n",
              "      fill: #FFFFFF;\n",
              "    }\n",
              "  </style>\n",
              "\n",
              "      <script>\n",
              "        const buttonEl =\n",
              "          document.querySelector('#df-05217368-2d85-43ba-b7fb-89f400ff2f90 button.colab-df-convert');\n",
              "        buttonEl.style.display =\n",
              "          google.colab.kernel.accessAllowed ? 'block' : 'none';\n",
              "\n",
              "        async function convertToInteractive(key) {\n",
              "          const element = document.querySelector('#df-05217368-2d85-43ba-b7fb-89f400ff2f90');\n",
              "          const dataTable =\n",
              "            await google.colab.kernel.invokeFunction('convertToInteractive',\n",
              "                                                     [key], {});\n",
              "          if (!dataTable) return;\n",
              "\n",
              "          const docLinkHtml = 'Like what you see? Visit the ' +\n",
              "            '<a target=\"_blank\" href=https://colab.research.google.com/notebooks/data_table.ipynb>data table notebook</a>'\n",
              "            + ' to learn more about interactive tables.';\n",
              "          element.innerHTML = '';\n",
              "          dataTable['output_type'] = 'display_data';\n",
              "          await google.colab.output.renderOutput(dataTable, element);\n",
              "          const docLink = document.createElement('div');\n",
              "          docLink.innerHTML = docLinkHtml;\n",
              "          element.appendChild(docLink);\n",
              "        }\n",
              "      </script>\n",
              "    </div>\n",
              "  </div>\n",
              "  "
            ]
          },
          "metadata": {},
          "execution_count": 72
        }
      ]
    },
    {
      "cell_type": "markdown",
      "source": [
        "Proses encoding selanjutnya adalah menggunakan OneHotEncoding (OHE). Berbeda dari sebelumnya, OHE tidak bertujuan utk mencari korelasi antar data, namun untuk merubah data kategorikal menjadi angka biner (1 atau 0) supaya bisa menjalani proses pemodelan. OHE dipilih karena 0 dan 1 menandakan label pada setiap kolom ada atau tidak. Jika angka selain 0 dan 1 digunakan (seperti pada LabelEncoder dan OrdinalEncoder), maka dikhawatirkan akan terjadi pembobotan lebih besar pada label dengan angka yg lebih besar. Itulah alasan mengapa metode OHE dipilih. Seperti step2 sebelumnya, utk melakukan OHE terlebih dahulu akan dilakukan pembagian dataset menjadi dataset numerik dan dataset kategorikal. Selanjutnya, dataset kategorikal akan dibagi lagi menjadi masing2 kolomnya (dalam kasus ini dibagi menjadi 4 kolom terpisah). Masing2 kolom tsb akan menjalani proses OHE secara terpisah. Kemudian dilakukan reset_index dan kolom2 tsb akan disatukan lagi dengan dataset numerik."
      ],
      "metadata": {
        "id": "Ngn_IBdkLJky"
      }
    },
    {
      "cell_type": "code",
      "source": [
        "# Bagi training set dan testing set menjadi dataset numerik dan kategorikal\n",
        "X_train_t_cat = X_train_t.select_dtypes(exclude='number')\n",
        "X_train_t_num = X_train_t.select_dtypes(include='number')\n",
        "X_test_t_cat = X_test_t.select_dtypes(exclude='number')\n",
        "X_test_t_num = X_test_t.select_dtypes(include='number')"
      ],
      "metadata": {
        "id": "mtlgVIP4f9TV"
      },
      "execution_count": 73,
      "outputs": []
    },
    {
      "cell_type": "code",
      "source": [
        "# Tampilkan dataset training berisi hanya data kategorikal\n",
        "X_train_t_cat.head()"
      ],
      "metadata": {
        "colab": {
          "base_uri": "https://localhost:8080/",
          "height": 0
        },
        "id": "VhADuIqmjj2b",
        "outputId": "5315eb55-7b79-4a5e-fac5-e1d34a9fbef8"
      },
      "execution_count": 74,
      "outputs": [
        {
          "output_type": "execute_result",
          "data": {
            "text/plain": [
              "             workclass   education       marital_status      sex\n",
              "17167          Private   Bachelors   Previously Married   Female\n",
              "11438          Private      School              Married     Male\n",
              "2602     Self-employed      School   Previously Married     Male\n",
              "12952          Private      School        Never-married     Male\n",
              "18109   Public Servant   Bachelors              Married     Male"
            ],
            "text/html": [
              "\n",
              "  <div id=\"df-2502f970-fb83-44af-8f4c-5a19c80cf99b\">\n",
              "    <div class=\"colab-df-container\">\n",
              "      <div>\n",
              "<style scoped>\n",
              "    .dataframe tbody tr th:only-of-type {\n",
              "        vertical-align: middle;\n",
              "    }\n",
              "\n",
              "    .dataframe tbody tr th {\n",
              "        vertical-align: top;\n",
              "    }\n",
              "\n",
              "    .dataframe thead th {\n",
              "        text-align: right;\n",
              "    }\n",
              "</style>\n",
              "<table border=\"1\" class=\"dataframe\">\n",
              "  <thead>\n",
              "    <tr style=\"text-align: right;\">\n",
              "      <th></th>\n",
              "      <th>workclass</th>\n",
              "      <th>education</th>\n",
              "      <th>marital_status</th>\n",
              "      <th>sex</th>\n",
              "    </tr>\n",
              "  </thead>\n",
              "  <tbody>\n",
              "    <tr>\n",
              "      <th>17167</th>\n",
              "      <td>Private</td>\n",
              "      <td>Bachelors</td>\n",
              "      <td>Previously Married</td>\n",
              "      <td>Female</td>\n",
              "    </tr>\n",
              "    <tr>\n",
              "      <th>11438</th>\n",
              "      <td>Private</td>\n",
              "      <td>School</td>\n",
              "      <td>Married</td>\n",
              "      <td>Male</td>\n",
              "    </tr>\n",
              "    <tr>\n",
              "      <th>2602</th>\n",
              "      <td>Self-employed</td>\n",
              "      <td>School</td>\n",
              "      <td>Previously Married</td>\n",
              "      <td>Male</td>\n",
              "    </tr>\n",
              "    <tr>\n",
              "      <th>12952</th>\n",
              "      <td>Private</td>\n",
              "      <td>School</td>\n",
              "      <td>Never-married</td>\n",
              "      <td>Male</td>\n",
              "    </tr>\n",
              "    <tr>\n",
              "      <th>18109</th>\n",
              "      <td>Public Servant</td>\n",
              "      <td>Bachelors</td>\n",
              "      <td>Married</td>\n",
              "      <td>Male</td>\n",
              "    </tr>\n",
              "  </tbody>\n",
              "</table>\n",
              "</div>\n",
              "      <button class=\"colab-df-convert\" onclick=\"convertToInteractive('df-2502f970-fb83-44af-8f4c-5a19c80cf99b')\"\n",
              "              title=\"Convert this dataframe to an interactive table.\"\n",
              "              style=\"display:none;\">\n",
              "        \n",
              "  <svg xmlns=\"http://www.w3.org/2000/svg\" height=\"24px\"viewBox=\"0 0 24 24\"\n",
              "       width=\"24px\">\n",
              "    <path d=\"M0 0h24v24H0V0z\" fill=\"none\"/>\n",
              "    <path d=\"M18.56 5.44l.94 2.06.94-2.06 2.06-.94-2.06-.94-.94-2.06-.94 2.06-2.06.94zm-11 1L8.5 8.5l.94-2.06 2.06-.94-2.06-.94L8.5 2.5l-.94 2.06-2.06.94zm10 10l.94 2.06.94-2.06 2.06-.94-2.06-.94-.94-2.06-.94 2.06-2.06.94z\"/><path d=\"M17.41 7.96l-1.37-1.37c-.4-.4-.92-.59-1.43-.59-.52 0-1.04.2-1.43.59L10.3 9.45l-7.72 7.72c-.78.78-.78 2.05 0 2.83L4 21.41c.39.39.9.59 1.41.59.51 0 1.02-.2 1.41-.59l7.78-7.78 2.81-2.81c.8-.78.8-2.07 0-2.86zM5.41 20L4 18.59l7.72-7.72 1.47 1.35L5.41 20z\"/>\n",
              "  </svg>\n",
              "      </button>\n",
              "      \n",
              "  <style>\n",
              "    .colab-df-container {\n",
              "      display:flex;\n",
              "      flex-wrap:wrap;\n",
              "      gap: 12px;\n",
              "    }\n",
              "\n",
              "    .colab-df-convert {\n",
              "      background-color: #E8F0FE;\n",
              "      border: none;\n",
              "      border-radius: 50%;\n",
              "      cursor: pointer;\n",
              "      display: none;\n",
              "      fill: #1967D2;\n",
              "      height: 32px;\n",
              "      padding: 0 0 0 0;\n",
              "      width: 32px;\n",
              "    }\n",
              "\n",
              "    .colab-df-convert:hover {\n",
              "      background-color: #E2EBFA;\n",
              "      box-shadow: 0px 1px 2px rgba(60, 64, 67, 0.3), 0px 1px 3px 1px rgba(60, 64, 67, 0.15);\n",
              "      fill: #174EA6;\n",
              "    }\n",
              "\n",
              "    [theme=dark] .colab-df-convert {\n",
              "      background-color: #3B4455;\n",
              "      fill: #D2E3FC;\n",
              "    }\n",
              "\n",
              "    [theme=dark] .colab-df-convert:hover {\n",
              "      background-color: #434B5C;\n",
              "      box-shadow: 0px 1px 3px 1px rgba(0, 0, 0, 0.15);\n",
              "      filter: drop-shadow(0px 1px 2px rgba(0, 0, 0, 0.3));\n",
              "      fill: #FFFFFF;\n",
              "    }\n",
              "  </style>\n",
              "\n",
              "      <script>\n",
              "        const buttonEl =\n",
              "          document.querySelector('#df-2502f970-fb83-44af-8f4c-5a19c80cf99b button.colab-df-convert');\n",
              "        buttonEl.style.display =\n",
              "          google.colab.kernel.accessAllowed ? 'block' : 'none';\n",
              "\n",
              "        async function convertToInteractive(key) {\n",
              "          const element = document.querySelector('#df-2502f970-fb83-44af-8f4c-5a19c80cf99b');\n",
              "          const dataTable =\n",
              "            await google.colab.kernel.invokeFunction('convertToInteractive',\n",
              "                                                     [key], {});\n",
              "          if (!dataTable) return;\n",
              "\n",
              "          const docLinkHtml = 'Like what you see? Visit the ' +\n",
              "            '<a target=\"_blank\" href=https://colab.research.google.com/notebooks/data_table.ipynb>data table notebook</a>'\n",
              "            + ' to learn more about interactive tables.';\n",
              "          element.innerHTML = '';\n",
              "          dataTable['output_type'] = 'display_data';\n",
              "          await google.colab.output.renderOutput(dataTable, element);\n",
              "          const docLink = document.createElement('div');\n",
              "          docLink.innerHTML = docLinkHtml;\n",
              "          element.appendChild(docLink);\n",
              "        }\n",
              "      </script>\n",
              "    </div>\n",
              "  </div>\n",
              "  "
            ]
          },
          "metadata": {},
          "execution_count": 74
        }
      ]
    },
    {
      "cell_type": "code",
      "source": [
        "# Buat dataset terpisah untuk masing2 kolom kategorikal\n",
        "wc_train= X_train_t_cat[['workclass']]\n",
        "ed_train= X_train_t_cat[['education']]\n",
        "ms_train= X_train_t_cat[['marital_status']]\n",
        "sx_train= X_train_t_cat[['sex']]\n",
        "wc_test= X_test_t_cat[['workclass']]\n",
        "ed_test= X_test_t_cat[['education']]\n",
        "ms_test= X_test_t_cat[['marital_status']]\n",
        "sx_test= X_test_t_cat[['sex']]"
      ],
      "metadata": {
        "id": "BQox3s3Qh5SB"
      },
      "execution_count": 75,
      "outputs": []
    },
    {
      "cell_type": "code",
      "source": [
        "# Definisikan model OHE pada masing2 kolom terpisah tsb\n",
        "enc_wc = OneHotEncoder(sparse=False)\n",
        "enc_ed = OneHotEncoder(sparse=False)\n",
        "enc_ms = OneHotEncoder(sparse=False)\n",
        "enc_sx = OneHotEncoder(sparse=False)"
      ],
      "metadata": {
        "id": "ysM3xA1se8vH"
      },
      "execution_count": 76,
      "outputs": []
    },
    {
      "cell_type": "code",
      "source": [
        "# Lakukan transformasi data kategorikal menjadi data numerik menggunakan OHE pada masing2 kolom kategorikal, baik itu testing dan training set\n",
        "wc_train_ohe = enc_wc.fit_transform(wc_train)\n",
        "wc_test_ohe = enc_wc.fit_transform(wc_test)\n",
        "ed_train_ohe = enc_ed.fit_transform(ed_train)\n",
        "ed_test_ohe = enc_ed.fit_transform(ed_test)\n",
        "ms_train_ohe = enc_ms.fit_transform(ms_train)\n",
        "ms_test_ohe = enc_ms.fit_transform(ms_test)\n",
        "sx_train_ohe = enc_sx.fit_transform(sx_train)\n",
        "sx_test_ohe = enc_sx.fit_transform(sx_test)"
      ],
      "metadata": {
        "id": "jPGUSxtVgSMC"
      },
      "execution_count": 77,
      "outputs": []
    },
    {
      "cell_type": "code",
      "source": [
        "# Tambahkan nama kolom pada dataset hasil OHE\n",
        "wc_train_ohe_encoded = pd.DataFrame(wc_train_ohe, columns=enc_wc.categories_)\n",
        "ed_train_ohe_encoded = pd.DataFrame(ed_train_ohe, columns=enc_ed.categories_)\n",
        "ms_train_ohe_encoded = pd.DataFrame(ms_train_ohe, columns=enc_ms.categories_)\n",
        "sx_train_ohe_encoded = pd.DataFrame(sx_train_ohe, columns=enc_sx.categories_)\n",
        "wc_test_ohe_encoded = pd.DataFrame(wc_test_ohe, columns=enc_wc.categories_)\n",
        "ed_test_ohe_encoded = pd.DataFrame(ed_test_ohe, columns=enc_ed.categories_)\n",
        "ms_test_ohe_encoded = pd.DataFrame(ms_test_ohe, columns=enc_ms.categories_)\n",
        "sx_test_ohe_encoded = pd.DataFrame(sx_test_ohe, columns=enc_sx.categories_)"
      ],
      "metadata": {
        "id": "Fveu67H0g1ih"
      },
      "execution_count": 78,
      "outputs": []
    },
    {
      "cell_type": "code",
      "source": [
        "# Lakukan reset_index supaya dataset bisa di-inner join\n",
        "X_train_t_num.reset_index(drop=True, inplace=True)\n",
        "X_test_t_num.reset_index(drop=True, inplace=True)"
      ],
      "metadata": {
        "id": "4wZE1b2qijc0"
      },
      "execution_count": 79,
      "outputs": []
    },
    {
      "cell_type": "code",
      "source": [
        "wc_train_ohe_encoded.reset_index(drop=True, inplace=True)\n",
        "ed_train_ohe_encoded.reset_index(drop=True, inplace=True)\n",
        "ms_train_ohe_encoded.reset_index(drop=True, inplace=True)\n",
        "sx_train_ohe_encoded.reset_index(drop=True, inplace=True)\n",
        "wc_test_ohe_encoded.reset_index(drop=True, inplace=True)\n",
        "ed_test_ohe_encoded.reset_index(drop=True, inplace=True)\n",
        "ms_test_ohe_encoded.reset_index(drop=True, inplace=True)\n",
        "sx_test_ohe_encoded.reset_index(drop=True, inplace=True)\n"
      ],
      "metadata": {
        "id": "kAFY0EdDkrdv"
      },
      "execution_count": 80,
      "outputs": []
    },
    {
      "cell_type": "code",
      "source": [
        "# Lakukan inner join pada dataset numerik dan dataset kategorikal hasil OHE\n",
        "X_train_t_ohe = pd.merge(X_train_t_num, wc_train_ohe_encoded, left_index=True, right_index=True)\n",
        "X_train_t_ohe = pd.merge(X_train_t_ohe, ed_train_ohe_encoded, left_index=True, right_index=True)\n",
        "X_train_t_ohe = pd.merge(X_train_t_ohe, ms_train_ohe_encoded, left_index=True, right_index=True)\n",
        "X_train_t_ohe = pd.merge(X_train_t_ohe, sx_train_ohe_encoded, left_index=True, right_index=True)\n",
        "X_test_t_ohe = pd.merge(X_test_t_num, wc_test_ohe_encoded, left_index=True, right_index=True)\n",
        "X_test_t_ohe = pd.merge(X_test_t_ohe, ed_test_ohe_encoded, left_index=True, right_index=True)\n",
        "X_test_t_ohe = pd.merge(X_test_t_ohe, ms_test_ohe_encoded, left_index=True, right_index=True)\n",
        "X_test_t_ohe = pd.merge(X_test_t_ohe, sx_test_ohe_encoded, left_index=True, right_index=True)"
      ],
      "metadata": {
        "id": "ICKYa2CKh0Pg"
      },
      "execution_count": 81,
      "outputs": []
    },
    {
      "cell_type": "code",
      "source": [
        "# Tampilkan training set hasil inner join setelah melalui proses OHE\n",
        "X_train_t_ohe.head()"
      ],
      "metadata": {
        "colab": {
          "base_uri": "https://localhost:8080/",
          "height": 0
        },
        "id": "cb7dPzlzl8z0",
        "outputId": "6962f7ef-4115-4d21-cd03-77d4ec14348f"
      },
      "execution_count": 82,
      "outputs": [
        {
          "output_type": "execute_result",
          "data": {
            "text/plain": [
              "        age  education_num  hours_per_week  ( Private,)  ( Public Servant,)  \\\n",
              "0  0.520548       0.800000        0.397959          1.0                 0.0   \n",
              "1  0.328767       0.266667        0.397959          1.0                 0.0   \n",
              "2  0.794521       0.533333        0.270408          0.0                 0.0   \n",
              "3  0.041096       0.533333        0.397959          1.0                 0.0   \n",
              "4  0.410959       0.600000        0.397959          0.0                 1.0   \n",
              "\n",
              "   ( Self-employed,)  ( Bachelors,)  ( Doctorate,)  ( Masters,)  ( School,)  \\\n",
              "0                0.0            1.0            0.0          0.0         0.0   \n",
              "1                0.0            0.0            0.0          0.0         1.0   \n",
              "2                1.0            0.0            0.0          0.0         1.0   \n",
              "3                0.0            0.0            0.0          0.0         1.0   \n",
              "4                0.0            1.0            0.0          0.0         0.0   \n",
              "\n",
              "   ( Vocation,)  ( Married,)  ( Never-married,)  ( Previously Married,)  \\\n",
              "0           0.0          0.0                0.0                     1.0   \n",
              "1           0.0          1.0                0.0                     0.0   \n",
              "2           0.0          0.0                0.0                     1.0   \n",
              "3           0.0          0.0                1.0                     0.0   \n",
              "4           0.0          1.0                0.0                     0.0   \n",
              "\n",
              "   ( Female,)  ( Male,)  \n",
              "0         1.0       0.0  \n",
              "1         0.0       1.0  \n",
              "2         0.0       1.0  \n",
              "3         0.0       1.0  \n",
              "4         0.0       1.0  "
            ],
            "text/html": [
              "\n",
              "  <div id=\"df-5929c72d-f985-4a0d-a7a4-bc2983e60528\">\n",
              "    <div class=\"colab-df-container\">\n",
              "      <div>\n",
              "<style scoped>\n",
              "    .dataframe tbody tr th:only-of-type {\n",
              "        vertical-align: middle;\n",
              "    }\n",
              "\n",
              "    .dataframe tbody tr th {\n",
              "        vertical-align: top;\n",
              "    }\n",
              "\n",
              "    .dataframe thead th {\n",
              "        text-align: right;\n",
              "    }\n",
              "</style>\n",
              "<table border=\"1\" class=\"dataframe\">\n",
              "  <thead>\n",
              "    <tr style=\"text-align: right;\">\n",
              "      <th></th>\n",
              "      <th>age</th>\n",
              "      <th>education_num</th>\n",
              "      <th>hours_per_week</th>\n",
              "      <th>( Private,)</th>\n",
              "      <th>( Public Servant,)</th>\n",
              "      <th>( Self-employed,)</th>\n",
              "      <th>( Bachelors,)</th>\n",
              "      <th>( Doctorate,)</th>\n",
              "      <th>( Masters,)</th>\n",
              "      <th>( School,)</th>\n",
              "      <th>( Vocation,)</th>\n",
              "      <th>( Married,)</th>\n",
              "      <th>( Never-married,)</th>\n",
              "      <th>( Previously Married,)</th>\n",
              "      <th>( Female,)</th>\n",
              "      <th>( Male,)</th>\n",
              "    </tr>\n",
              "  </thead>\n",
              "  <tbody>\n",
              "    <tr>\n",
              "      <th>0</th>\n",
              "      <td>0.520548</td>\n",
              "      <td>0.800000</td>\n",
              "      <td>0.397959</td>\n",
              "      <td>1.0</td>\n",
              "      <td>0.0</td>\n",
              "      <td>0.0</td>\n",
              "      <td>1.0</td>\n",
              "      <td>0.0</td>\n",
              "      <td>0.0</td>\n",
              "      <td>0.0</td>\n",
              "      <td>0.0</td>\n",
              "      <td>0.0</td>\n",
              "      <td>0.0</td>\n",
              "      <td>1.0</td>\n",
              "      <td>1.0</td>\n",
              "      <td>0.0</td>\n",
              "    </tr>\n",
              "    <tr>\n",
              "      <th>1</th>\n",
              "      <td>0.328767</td>\n",
              "      <td>0.266667</td>\n",
              "      <td>0.397959</td>\n",
              "      <td>1.0</td>\n",
              "      <td>0.0</td>\n",
              "      <td>0.0</td>\n",
              "      <td>0.0</td>\n",
              "      <td>0.0</td>\n",
              "      <td>0.0</td>\n",
              "      <td>1.0</td>\n",
              "      <td>0.0</td>\n",
              "      <td>1.0</td>\n",
              "      <td>0.0</td>\n",
              "      <td>0.0</td>\n",
              "      <td>0.0</td>\n",
              "      <td>1.0</td>\n",
              "    </tr>\n",
              "    <tr>\n",
              "      <th>2</th>\n",
              "      <td>0.794521</td>\n",
              "      <td>0.533333</td>\n",
              "      <td>0.270408</td>\n",
              "      <td>0.0</td>\n",
              "      <td>0.0</td>\n",
              "      <td>1.0</td>\n",
              "      <td>0.0</td>\n",
              "      <td>0.0</td>\n",
              "      <td>0.0</td>\n",
              "      <td>1.0</td>\n",
              "      <td>0.0</td>\n",
              "      <td>0.0</td>\n",
              "      <td>0.0</td>\n",
              "      <td>1.0</td>\n",
              "      <td>0.0</td>\n",
              "      <td>1.0</td>\n",
              "    </tr>\n",
              "    <tr>\n",
              "      <th>3</th>\n",
              "      <td>0.041096</td>\n",
              "      <td>0.533333</td>\n",
              "      <td>0.397959</td>\n",
              "      <td>1.0</td>\n",
              "      <td>0.0</td>\n",
              "      <td>0.0</td>\n",
              "      <td>0.0</td>\n",
              "      <td>0.0</td>\n",
              "      <td>0.0</td>\n",
              "      <td>1.0</td>\n",
              "      <td>0.0</td>\n",
              "      <td>0.0</td>\n",
              "      <td>1.0</td>\n",
              "      <td>0.0</td>\n",
              "      <td>0.0</td>\n",
              "      <td>1.0</td>\n",
              "    </tr>\n",
              "    <tr>\n",
              "      <th>4</th>\n",
              "      <td>0.410959</td>\n",
              "      <td>0.600000</td>\n",
              "      <td>0.397959</td>\n",
              "      <td>0.0</td>\n",
              "      <td>1.0</td>\n",
              "      <td>0.0</td>\n",
              "      <td>1.0</td>\n",
              "      <td>0.0</td>\n",
              "      <td>0.0</td>\n",
              "      <td>0.0</td>\n",
              "      <td>0.0</td>\n",
              "      <td>1.0</td>\n",
              "      <td>0.0</td>\n",
              "      <td>0.0</td>\n",
              "      <td>0.0</td>\n",
              "      <td>1.0</td>\n",
              "    </tr>\n",
              "  </tbody>\n",
              "</table>\n",
              "</div>\n",
              "      <button class=\"colab-df-convert\" onclick=\"convertToInteractive('df-5929c72d-f985-4a0d-a7a4-bc2983e60528')\"\n",
              "              title=\"Convert this dataframe to an interactive table.\"\n",
              "              style=\"display:none;\">\n",
              "        \n",
              "  <svg xmlns=\"http://www.w3.org/2000/svg\" height=\"24px\"viewBox=\"0 0 24 24\"\n",
              "       width=\"24px\">\n",
              "    <path d=\"M0 0h24v24H0V0z\" fill=\"none\"/>\n",
              "    <path d=\"M18.56 5.44l.94 2.06.94-2.06 2.06-.94-2.06-.94-.94-2.06-.94 2.06-2.06.94zm-11 1L8.5 8.5l.94-2.06 2.06-.94-2.06-.94L8.5 2.5l-.94 2.06-2.06.94zm10 10l.94 2.06.94-2.06 2.06-.94-2.06-.94-.94-2.06-.94 2.06-2.06.94z\"/><path d=\"M17.41 7.96l-1.37-1.37c-.4-.4-.92-.59-1.43-.59-.52 0-1.04.2-1.43.59L10.3 9.45l-7.72 7.72c-.78.78-.78 2.05 0 2.83L4 21.41c.39.39.9.59 1.41.59.51 0 1.02-.2 1.41-.59l7.78-7.78 2.81-2.81c.8-.78.8-2.07 0-2.86zM5.41 20L4 18.59l7.72-7.72 1.47 1.35L5.41 20z\"/>\n",
              "  </svg>\n",
              "      </button>\n",
              "      \n",
              "  <style>\n",
              "    .colab-df-container {\n",
              "      display:flex;\n",
              "      flex-wrap:wrap;\n",
              "      gap: 12px;\n",
              "    }\n",
              "\n",
              "    .colab-df-convert {\n",
              "      background-color: #E8F0FE;\n",
              "      border: none;\n",
              "      border-radius: 50%;\n",
              "      cursor: pointer;\n",
              "      display: none;\n",
              "      fill: #1967D2;\n",
              "      height: 32px;\n",
              "      padding: 0 0 0 0;\n",
              "      width: 32px;\n",
              "    }\n",
              "\n",
              "    .colab-df-convert:hover {\n",
              "      background-color: #E2EBFA;\n",
              "      box-shadow: 0px 1px 2px rgba(60, 64, 67, 0.3), 0px 1px 3px 1px rgba(60, 64, 67, 0.15);\n",
              "      fill: #174EA6;\n",
              "    }\n",
              "\n",
              "    [theme=dark] .colab-df-convert {\n",
              "      background-color: #3B4455;\n",
              "      fill: #D2E3FC;\n",
              "    }\n",
              "\n",
              "    [theme=dark] .colab-df-convert:hover {\n",
              "      background-color: #434B5C;\n",
              "      box-shadow: 0px 1px 3px 1px rgba(0, 0, 0, 0.15);\n",
              "      filter: drop-shadow(0px 1px 2px rgba(0, 0, 0, 0.3));\n",
              "      fill: #FFFFFF;\n",
              "    }\n",
              "  </style>\n",
              "\n",
              "      <script>\n",
              "        const buttonEl =\n",
              "          document.querySelector('#df-5929c72d-f985-4a0d-a7a4-bc2983e60528 button.colab-df-convert');\n",
              "        buttonEl.style.display =\n",
              "          google.colab.kernel.accessAllowed ? 'block' : 'none';\n",
              "\n",
              "        async function convertToInteractive(key) {\n",
              "          const element = document.querySelector('#df-5929c72d-f985-4a0d-a7a4-bc2983e60528');\n",
              "          const dataTable =\n",
              "            await google.colab.kernel.invokeFunction('convertToInteractive',\n",
              "                                                     [key], {});\n",
              "          if (!dataTable) return;\n",
              "\n",
              "          const docLinkHtml = 'Like what you see? Visit the ' +\n",
              "            '<a target=\"_blank\" href=https://colab.research.google.com/notebooks/data_table.ipynb>data table notebook</a>'\n",
              "            + ' to learn more about interactive tables.';\n",
              "          element.innerHTML = '';\n",
              "          dataTable['output_type'] = 'display_data';\n",
              "          await google.colab.output.renderOutput(dataTable, element);\n",
              "          const docLink = document.createElement('div');\n",
              "          docLink.innerHTML = docLinkHtml;\n",
              "          element.appendChild(docLink);\n",
              "        }\n",
              "      </script>\n",
              "    </div>\n",
              "  </div>\n",
              "  "
            ]
          },
          "metadata": {},
          "execution_count": 82
        }
      ]
    },
    {
      "cell_type": "code",
      "source": [
        "# Tampilkan testing set hasil inner join setelah melalui proses OHE\n",
        "X_test_t_ohe.head()"
      ],
      "metadata": {
        "colab": {
          "base_uri": "https://localhost:8080/",
          "height": 0
        },
        "id": "y5tETJwRmCem",
        "outputId": "6de6e382-88f2-4039-bde5-e6d0ddc8f144"
      },
      "execution_count": 83,
      "outputs": [
        {
          "output_type": "execute_result",
          "data": {
            "text/plain": [
              "        age  education_num  hours_per_week  ( Private,)  ( Public Servant,)  \\\n",
              "0  0.397260       0.866667        0.346939          1.0                 0.0   \n",
              "1  0.287671       0.800000        0.397959          1.0                 0.0   \n",
              "2  0.082192       0.600000        0.270408          1.0                 0.0   \n",
              "3  0.068493       0.800000        0.270408          1.0                 0.0   \n",
              "4  0.095890       0.800000        0.397959          1.0                 0.0   \n",
              "\n",
              "   ( Self-employed,)  ( Bachelors,)  ( Doctorate,)  ( Masters,)  ( School,)  \\\n",
              "0                0.0            0.0            0.0          1.0         0.0   \n",
              "1                0.0            1.0            0.0          0.0         0.0   \n",
              "2                0.0            1.0            0.0          0.0         0.0   \n",
              "3                0.0            1.0            0.0          0.0         0.0   \n",
              "4                0.0            1.0            0.0          0.0         0.0   \n",
              "\n",
              "   ( Vocation,)  ( Married,)  ( Never-married,)  ( Previously Married,)  \\\n",
              "0           0.0          1.0                0.0                     0.0   \n",
              "1           0.0          1.0                0.0                     0.0   \n",
              "2           0.0          0.0                1.0                     0.0   \n",
              "3           0.0          0.0                1.0                     0.0   \n",
              "4           0.0          0.0                1.0                     0.0   \n",
              "\n",
              "   ( Female,)  ( Male,)  \n",
              "0         0.0       1.0  \n",
              "1         0.0       1.0  \n",
              "2         0.0       1.0  \n",
              "3         1.0       0.0  \n",
              "4         1.0       0.0  "
            ],
            "text/html": [
              "\n",
              "  <div id=\"df-0aefd712-cbc0-4eeb-a241-5bd4526939a1\">\n",
              "    <div class=\"colab-df-container\">\n",
              "      <div>\n",
              "<style scoped>\n",
              "    .dataframe tbody tr th:only-of-type {\n",
              "        vertical-align: middle;\n",
              "    }\n",
              "\n",
              "    .dataframe tbody tr th {\n",
              "        vertical-align: top;\n",
              "    }\n",
              "\n",
              "    .dataframe thead th {\n",
              "        text-align: right;\n",
              "    }\n",
              "</style>\n",
              "<table border=\"1\" class=\"dataframe\">\n",
              "  <thead>\n",
              "    <tr style=\"text-align: right;\">\n",
              "      <th></th>\n",
              "      <th>age</th>\n",
              "      <th>education_num</th>\n",
              "      <th>hours_per_week</th>\n",
              "      <th>( Private,)</th>\n",
              "      <th>( Public Servant,)</th>\n",
              "      <th>( Self-employed,)</th>\n",
              "      <th>( Bachelors,)</th>\n",
              "      <th>( Doctorate,)</th>\n",
              "      <th>( Masters,)</th>\n",
              "      <th>( School,)</th>\n",
              "      <th>( Vocation,)</th>\n",
              "      <th>( Married,)</th>\n",
              "      <th>( Never-married,)</th>\n",
              "      <th>( Previously Married,)</th>\n",
              "      <th>( Female,)</th>\n",
              "      <th>( Male,)</th>\n",
              "    </tr>\n",
              "  </thead>\n",
              "  <tbody>\n",
              "    <tr>\n",
              "      <th>0</th>\n",
              "      <td>0.397260</td>\n",
              "      <td>0.866667</td>\n",
              "      <td>0.346939</td>\n",
              "      <td>1.0</td>\n",
              "      <td>0.0</td>\n",
              "      <td>0.0</td>\n",
              "      <td>0.0</td>\n",
              "      <td>0.0</td>\n",
              "      <td>1.0</td>\n",
              "      <td>0.0</td>\n",
              "      <td>0.0</td>\n",
              "      <td>1.0</td>\n",
              "      <td>0.0</td>\n",
              "      <td>0.0</td>\n",
              "      <td>0.0</td>\n",
              "      <td>1.0</td>\n",
              "    </tr>\n",
              "    <tr>\n",
              "      <th>1</th>\n",
              "      <td>0.287671</td>\n",
              "      <td>0.800000</td>\n",
              "      <td>0.397959</td>\n",
              "      <td>1.0</td>\n",
              "      <td>0.0</td>\n",
              "      <td>0.0</td>\n",
              "      <td>1.0</td>\n",
              "      <td>0.0</td>\n",
              "      <td>0.0</td>\n",
              "      <td>0.0</td>\n",
              "      <td>0.0</td>\n",
              "      <td>1.0</td>\n",
              "      <td>0.0</td>\n",
              "      <td>0.0</td>\n",
              "      <td>0.0</td>\n",
              "      <td>1.0</td>\n",
              "    </tr>\n",
              "    <tr>\n",
              "      <th>2</th>\n",
              "      <td>0.082192</td>\n",
              "      <td>0.600000</td>\n",
              "      <td>0.270408</td>\n",
              "      <td>1.0</td>\n",
              "      <td>0.0</td>\n",
              "      <td>0.0</td>\n",
              "      <td>1.0</td>\n",
              "      <td>0.0</td>\n",
              "      <td>0.0</td>\n",
              "      <td>0.0</td>\n",
              "      <td>0.0</td>\n",
              "      <td>0.0</td>\n",
              "      <td>1.0</td>\n",
              "      <td>0.0</td>\n",
              "      <td>0.0</td>\n",
              "      <td>1.0</td>\n",
              "    </tr>\n",
              "    <tr>\n",
              "      <th>3</th>\n",
              "      <td>0.068493</td>\n",
              "      <td>0.800000</td>\n",
              "      <td>0.270408</td>\n",
              "      <td>1.0</td>\n",
              "      <td>0.0</td>\n",
              "      <td>0.0</td>\n",
              "      <td>1.0</td>\n",
              "      <td>0.0</td>\n",
              "      <td>0.0</td>\n",
              "      <td>0.0</td>\n",
              "      <td>0.0</td>\n",
              "      <td>0.0</td>\n",
              "      <td>1.0</td>\n",
              "      <td>0.0</td>\n",
              "      <td>1.0</td>\n",
              "      <td>0.0</td>\n",
              "    </tr>\n",
              "    <tr>\n",
              "      <th>4</th>\n",
              "      <td>0.095890</td>\n",
              "      <td>0.800000</td>\n",
              "      <td>0.397959</td>\n",
              "      <td>1.0</td>\n",
              "      <td>0.0</td>\n",
              "      <td>0.0</td>\n",
              "      <td>1.0</td>\n",
              "      <td>0.0</td>\n",
              "      <td>0.0</td>\n",
              "      <td>0.0</td>\n",
              "      <td>0.0</td>\n",
              "      <td>0.0</td>\n",
              "      <td>1.0</td>\n",
              "      <td>0.0</td>\n",
              "      <td>1.0</td>\n",
              "      <td>0.0</td>\n",
              "    </tr>\n",
              "  </tbody>\n",
              "</table>\n",
              "</div>\n",
              "      <button class=\"colab-df-convert\" onclick=\"convertToInteractive('df-0aefd712-cbc0-4eeb-a241-5bd4526939a1')\"\n",
              "              title=\"Convert this dataframe to an interactive table.\"\n",
              "              style=\"display:none;\">\n",
              "        \n",
              "  <svg xmlns=\"http://www.w3.org/2000/svg\" height=\"24px\"viewBox=\"0 0 24 24\"\n",
              "       width=\"24px\">\n",
              "    <path d=\"M0 0h24v24H0V0z\" fill=\"none\"/>\n",
              "    <path d=\"M18.56 5.44l.94 2.06.94-2.06 2.06-.94-2.06-.94-.94-2.06-.94 2.06-2.06.94zm-11 1L8.5 8.5l.94-2.06 2.06-.94-2.06-.94L8.5 2.5l-.94 2.06-2.06.94zm10 10l.94 2.06.94-2.06 2.06-.94-2.06-.94-.94-2.06-.94 2.06-2.06.94z\"/><path d=\"M17.41 7.96l-1.37-1.37c-.4-.4-.92-.59-1.43-.59-.52 0-1.04.2-1.43.59L10.3 9.45l-7.72 7.72c-.78.78-.78 2.05 0 2.83L4 21.41c.39.39.9.59 1.41.59.51 0 1.02-.2 1.41-.59l7.78-7.78 2.81-2.81c.8-.78.8-2.07 0-2.86zM5.41 20L4 18.59l7.72-7.72 1.47 1.35L5.41 20z\"/>\n",
              "  </svg>\n",
              "      </button>\n",
              "      \n",
              "  <style>\n",
              "    .colab-df-container {\n",
              "      display:flex;\n",
              "      flex-wrap:wrap;\n",
              "      gap: 12px;\n",
              "    }\n",
              "\n",
              "    .colab-df-convert {\n",
              "      background-color: #E8F0FE;\n",
              "      border: none;\n",
              "      border-radius: 50%;\n",
              "      cursor: pointer;\n",
              "      display: none;\n",
              "      fill: #1967D2;\n",
              "      height: 32px;\n",
              "      padding: 0 0 0 0;\n",
              "      width: 32px;\n",
              "    }\n",
              "\n",
              "    .colab-df-convert:hover {\n",
              "      background-color: #E2EBFA;\n",
              "      box-shadow: 0px 1px 2px rgba(60, 64, 67, 0.3), 0px 1px 3px 1px rgba(60, 64, 67, 0.15);\n",
              "      fill: #174EA6;\n",
              "    }\n",
              "\n",
              "    [theme=dark] .colab-df-convert {\n",
              "      background-color: #3B4455;\n",
              "      fill: #D2E3FC;\n",
              "    }\n",
              "\n",
              "    [theme=dark] .colab-df-convert:hover {\n",
              "      background-color: #434B5C;\n",
              "      box-shadow: 0px 1px 3px 1px rgba(0, 0, 0, 0.15);\n",
              "      filter: drop-shadow(0px 1px 2px rgba(0, 0, 0, 0.3));\n",
              "      fill: #FFFFFF;\n",
              "    }\n",
              "  </style>\n",
              "\n",
              "      <script>\n",
              "        const buttonEl =\n",
              "          document.querySelector('#df-0aefd712-cbc0-4eeb-a241-5bd4526939a1 button.colab-df-convert');\n",
              "        buttonEl.style.display =\n",
              "          google.colab.kernel.accessAllowed ? 'block' : 'none';\n",
              "\n",
              "        async function convertToInteractive(key) {\n",
              "          const element = document.querySelector('#df-0aefd712-cbc0-4eeb-a241-5bd4526939a1');\n",
              "          const dataTable =\n",
              "            await google.colab.kernel.invokeFunction('convertToInteractive',\n",
              "                                                     [key], {});\n",
              "          if (!dataTable) return;\n",
              "\n",
              "          const docLinkHtml = 'Like what you see? Visit the ' +\n",
              "            '<a target=\"_blank\" href=https://colab.research.google.com/notebooks/data_table.ipynb>data table notebook</a>'\n",
              "            + ' to learn more about interactive tables.';\n",
              "          element.innerHTML = '';\n",
              "          dataTable['output_type'] = 'display_data';\n",
              "          await google.colab.output.renderOutput(dataTable, element);\n",
              "          const docLink = document.createElement('div');\n",
              "          docLink.innerHTML = docLinkHtml;\n",
              "          element.appendChild(docLink);\n",
              "        }\n",
              "      </script>\n",
              "    </div>\n",
              "  </div>\n",
              "  "
            ]
          },
          "metadata": {},
          "execution_count": 83
        }
      ]
    },
    {
      "cell_type": "markdown",
      "source": [
        "# VI. Model Definition\n",
        "\n",
        "Bagian ini berisi cell untuk mendefinisikan model. Jelaskan alasan menggunakan suatu algoritma/model, hyperparameter yang dipakai, jenis penggunaan metrics yang dipakai, dan hal lain yang terkait dengan model."
      ],
      "metadata": {
        "id": "lb24J30-obVg"
      }
    },
    {
      "cell_type": "markdown",
      "source": [
        "Sesuai deskripsi pada bagian Perkenalan, model yang akan digunakan adalah Logistic Regression dan SVM dengan hyperparameter rbf, linear dan plynomial masing2 dgn nilai C=1 dan C=100. Alasan menggunakan perbandingan SVM linear dengan radial dan polynomial adalah untuk mengetahui apakah profil hyperplane yg cocok untuk memecahkan problem klasifikasi pada dataset ini. Sedangkan nilai C=1 dan C=100 untuk mengetahui apakah tingkat regularisasi dapat mempengaruhi performance dari model."
      ],
      "metadata": {
        "id": "3nA_kyhOTSZb"
      }
    },
    {
      "cell_type": "code",
      "source": [
        "# Definisikan model Logistic regression dalam logmod\n",
        "logmod = LogisticRegression()"
      ],
      "metadata": {
        "id": "3C04agVtm8kX"
      },
      "execution_count": 84,
      "outputs": []
    },
    {
      "cell_type": "code",
      "source": [
        "# Definisikan model SVM dengan kernel rbf dan C=1 dalam svc_rbf_1\n",
        "svc_rbf_1=SVC(kernel='rbf',C=1)\n",
        "# Definisikan model SVM dengan kernel rbf dan C=100 dalam svc_rbf_100\n",
        "svc_rbf_100=SVC(kernel='rbf',C=100)"
      ],
      "metadata": {
        "id": "rqr6Y0l3t_r4"
      },
      "execution_count": 85,
      "outputs": []
    },
    {
      "cell_type": "code",
      "source": [
        "# Definisikan model SVM dengan kernel linear dan C=1 dalam svc_lin_1\n",
        "svc_lin_1=SVC(kernel='linear',C=1)\n",
        "#Definisikan model SVM dengan kernel linear dan C=100 dalam svc_lin_100\n",
        "svc_lin_100=SVC(kernel='linear',C=100)"
      ],
      "metadata": {
        "id": "MZX_xLTGubh7"
      },
      "execution_count": 87,
      "outputs": []
    },
    {
      "cell_type": "code",
      "source": [
        "# Definisikan model SVM dengan kernel linear dan C=1 dalam svc_pol_1\n",
        "svc_pol_1=SVC(kernel='poly',C=1)\n",
        "# Definisikan model SVM dengan kernel linear dan C=100 dalam svc_pol_100\n",
        "svc_pol_100=SVC(kernel='poly',C=100)"
      ],
      "metadata": {
        "id": "an3Fj_ZmupBf"
      },
      "execution_count": 88,
      "outputs": []
    },
    {
      "cell_type": "markdown",
      "source": [
        "# VII. Model Training\n",
        "\n",
        "Cell pada bagian ini hanya berisi code untuk melatih model dan output yang dihasilkan. Lakukan beberapa kali proses training dengan hyperparameter yang berbeda untuk melihat hasil yang didapatkan. Analisis dan narasikan hasil ini pada bagian Model Evaluation."
      ],
      "metadata": {
        "id": "r2eT9GE6ojxX"
      }
    },
    {
      "cell_type": "markdown",
      "source": [
        "# Logistic Regression"
      ],
      "metadata": {
        "id": "QerJmszyYCE4"
      }
    },
    {
      "cell_type": "code",
      "source": [
        "%%time\n",
        "# Fitting model logistic regression logmod ke dalam dataset X_train_t_ohe dan y_train_enc. Store model ke dalam logm\n",
        "logm = logmod.fit(X_train_t_ohe,y_train_enc)"
      ],
      "metadata": {
        "colab": {
          "base_uri": "https://localhost:8080/"
        },
        "id": "5BEL7_tqnDo9",
        "outputId": "ed711552-fb2d-4be6-c619-f320d9e9cf42"
      },
      "execution_count": 89,
      "outputs": [
        {
          "output_type": "stream",
          "name": "stderr",
          "text": [
            "/usr/local/lib/python3.8/dist-packages/sklearn/utils/validation.py:1688: FutureWarning: Feature names only support names that are all strings. Got feature names with dtypes: ['str', 'tuple']. An error will be raised in 1.2.\n",
            "  warnings.warn(\n"
          ]
        },
        {
          "output_type": "stream",
          "name": "stdout",
          "text": [
            "CPU times: user 227 ms, sys: 156 ms, total: 383 ms\n",
            "Wall time: 236 ms\n"
          ]
        }
      ]
    },
    {
      "cell_type": "code",
      "source": [
        "# Tampilkan koefisien dari model regresi logistik\n",
        "logm.coef_"
      ],
      "metadata": {
        "colab": {
          "base_uri": "https://localhost:8080/"
        },
        "id": "mZme-5eynGyi",
        "outputId": "0afd212c-037d-43ef-9059-cace519f22c9"
      },
      "execution_count": 90,
      "outputs": [
        {
          "output_type": "execute_result",
          "data": {
            "text/plain": [
              "array([[ 2.19850472,  4.99126035,  6.63578698, -0.03769745,  0.11251599,\n",
              "        -0.07364576, -0.01505496,  0.10242613,  0.16173044, -0.12287055,\n",
              "        -0.12505828,  1.70673451, -1.10063628, -0.60492546, -0.02485381,\n",
              "         0.02602658]])"
            ]
          },
          "metadata": {},
          "execution_count": 90
        }
      ]
    },
    {
      "cell_type": "code",
      "source": [
        "# Tampilkan intercept dari model regresi logistik\n",
        "logm.intercept_"
      ],
      "metadata": {
        "colab": {
          "base_uri": "https://localhost:8080/"
        },
        "id": "-wRxemKhnKYw",
        "outputId": "33ef9acc-761b-44f3-8ca0-66f23b50431f"
      },
      "execution_count": null,
      "outputs": [
        {
          "output_type": "execute_result",
          "data": {
            "text/plain": [
              "array([-8.49224218])"
            ]
          },
          "metadata": {},
          "execution_count": 90
        }
      ]
    },
    {
      "cell_type": "code",
      "source": [
        "%%time\n",
        "# Buat prediksi model regresi logistik pada dataset training dan testing\n",
        "y_pred_train_lm = logm.predict(X_train_t_ohe)\n",
        "y_pred_test_lm = logm.predict(X_test_t_ohe)"
      ],
      "metadata": {
        "colab": {
          "base_uri": "https://localhost:8080/"
        },
        "id": "Gacjs-2ZnbbZ",
        "outputId": "90b4925f-b1c4-4c20-d8e5-c69cc96cd67d"
      },
      "execution_count": null,
      "outputs": [
        {
          "output_type": "stream",
          "name": "stdout",
          "text": [
            "CPU times: user 8.71 ms, sys: 8.17 ms, total: 16.9 ms\n",
            "Wall time: 14.7 ms\n"
          ]
        },
        {
          "output_type": "stream",
          "name": "stderr",
          "text": [
            "/usr/local/lib/python3.7/dist-packages/sklearn/utils/validation.py:1692: FutureWarning: Feature names only support names that are all strings. Got feature names with dtypes: ['str', 'tuple']. An error will be raised in 1.2.\n",
            "  FutureWarning,\n",
            "/usr/local/lib/python3.7/dist-packages/sklearn/utils/validation.py:1692: FutureWarning: Feature names only support names that are all strings. Got feature names with dtypes: ['str', 'tuple']. An error will be raised in 1.2.\n",
            "  FutureWarning,\n"
          ]
        }
      ]
    },
    {
      "cell_type": "markdown",
      "source": [
        "# SVM, Kernel = rbf, C=1"
      ],
      "metadata": {
        "id": "JqA1KCb5X7it"
      }
    },
    {
      "cell_type": "code",
      "source": [
        "%%time\n",
        "# Fitting model SVM svc_rbf_1 ke dalam dataset X_train_t_ohe dan y_train_enc. Store model ke dalam svcrbf1\n",
        "svcrbf1 = svc_rbf_1.fit(X_train_t_ohe,y_train_enc)"
      ],
      "metadata": {
        "colab": {
          "base_uri": "https://localhost:8080/"
        },
        "id": "SXJRs-Qgu6QH",
        "outputId": "a0187747-5358-4f3b-c717-9496283b5256"
      },
      "execution_count": null,
      "outputs": [
        {
          "output_type": "stream",
          "name": "stderr",
          "text": [
            "/usr/local/lib/python3.7/dist-packages/sklearn/utils/validation.py:1692: FutureWarning: Feature names only support names that are all strings. Got feature names with dtypes: ['str', 'tuple']. An error will be raised in 1.2.\n",
            "  FutureWarning,\n"
          ]
        },
        {
          "output_type": "stream",
          "name": "stdout",
          "text": [
            "CPU times: user 7.2 s, sys: 159 ms, total: 7.36 s\n",
            "Wall time: 8.43 s\n"
          ]
        }
      ]
    },
    {
      "cell_type": "code",
      "source": [
        "%%time\n",
        "# Buat prediksi model SVM (kernel=rbf, C=1) pada dataset training dan testing\n",
        "y_pred_train_svc_rbf_1 = svcrbf1.predict(X_train_t_ohe)\n",
        "y_pred_test_svc_rbf_1 = svcrbf1.predict(X_test_t_ohe)"
      ],
      "metadata": {
        "colab": {
          "base_uri": "https://localhost:8080/"
        },
        "id": "4FTb0Y1Wwhg0",
        "outputId": "ad3f3fa2-f7c7-4303-b49a-849b34212358"
      },
      "execution_count": null,
      "outputs": [
        {
          "output_type": "stream",
          "name": "stderr",
          "text": [
            "/usr/local/lib/python3.7/dist-packages/sklearn/utils/validation.py:1692: FutureWarning: Feature names only support names that are all strings. Got feature names with dtypes: ['str', 'tuple']. An error will be raised in 1.2.\n",
            "  FutureWarning,\n",
            "/usr/local/lib/python3.7/dist-packages/sklearn/utils/validation.py:1692: FutureWarning: Feature names only support names that are all strings. Got feature names with dtypes: ['str', 'tuple']. An error will be raised in 1.2.\n",
            "  FutureWarning,\n"
          ]
        },
        {
          "output_type": "stream",
          "name": "stdout",
          "text": [
            "CPU times: user 8.04 s, sys: 3.26 ms, total: 8.04 s\n",
            "Wall time: 8.02 s\n"
          ]
        }
      ]
    },
    {
      "cell_type": "markdown",
      "source": [
        "# SVM, Kernel = rbf, C=100"
      ],
      "metadata": {
        "id": "4VpIqGN7YHE7"
      }
    },
    {
      "cell_type": "code",
      "source": [
        "%%time\n",
        "# Fitting model SVM svc_rbf_100 ke dalam dataset X_train_t_ohe dan y_train_enc. Store model ke dalam svcrbf100\n",
        "svcrbf100 = svc_rbf_100.fit(X_train_t_ohe,y_train_enc)"
      ],
      "metadata": {
        "colab": {
          "base_uri": "https://localhost:8080/"
        },
        "id": "rk1VfrXLvh7_",
        "outputId": "c8d06e9f-194a-4cb6-e1fd-f541e5d0dd9a"
      },
      "execution_count": null,
      "outputs": [
        {
          "output_type": "stream",
          "name": "stderr",
          "text": [
            "/usr/local/lib/python3.7/dist-packages/sklearn/utils/validation.py:1692: FutureWarning: Feature names only support names that are all strings. Got feature names with dtypes: ['str', 'tuple']. An error will be raised in 1.2.\n",
            "  FutureWarning,\n"
          ]
        },
        {
          "output_type": "stream",
          "name": "stdout",
          "text": [
            "CPU times: user 21.3 s, sys: 61.5 ms, total: 21.4 s\n",
            "Wall time: 22.8 s\n"
          ]
        }
      ]
    },
    {
      "cell_type": "code",
      "source": [
        "%%time\n",
        "# Buat prediksi model SVM (kernel=rbf, C=100) pada dataset training dan testing\n",
        "y_pred_train_svc_rbf_100 = svcrbf100.predict(X_train_t_ohe)\n",
        "y_pred_test_svc_rbf_100 = svcrbf100.predict(X_test_t_ohe)"
      ],
      "metadata": {
        "colab": {
          "base_uri": "https://localhost:8080/"
        },
        "id": "i9PxN0qgwTZK",
        "outputId": "931df325-8669-4e8b-8bb2-cb3384f98103"
      },
      "execution_count": null,
      "outputs": [
        {
          "output_type": "stream",
          "name": "stderr",
          "text": [
            "/usr/local/lib/python3.7/dist-packages/sklearn/utils/validation.py:1692: FutureWarning: Feature names only support names that are all strings. Got feature names with dtypes: ['str', 'tuple']. An error will be raised in 1.2.\n",
            "  FutureWarning,\n",
            "/usr/local/lib/python3.7/dist-packages/sklearn/utils/validation.py:1692: FutureWarning: Feature names only support names that are all strings. Got feature names with dtypes: ['str', 'tuple']. An error will be raised in 1.2.\n",
            "  FutureWarning,\n"
          ]
        },
        {
          "output_type": "stream",
          "name": "stdout",
          "text": [
            "CPU times: user 8.06 s, sys: 8.36 ms, total: 8.07 s\n",
            "Wall time: 8.05 s\n"
          ]
        }
      ]
    },
    {
      "cell_type": "markdown",
      "source": [
        "# SVM, Kernel = linear, C=1"
      ],
      "metadata": {
        "id": "psSE6MUnYJHp"
      }
    },
    {
      "cell_type": "code",
      "source": [
        "%%time\n",
        "# Fitting model SVM svc_lin_1 ke dalam dataset X_train_t_ohe dan y_train_enc. Store model ke dalam svclin1\n",
        "svclin1 = svc_lin_1.fit(X_train_t_ohe,y_train_enc)"
      ],
      "metadata": {
        "colab": {
          "base_uri": "https://localhost:8080/"
        },
        "id": "jCx2p3Nbvqjl",
        "outputId": "852e6dba-cbf3-491c-c881-851c53869b0d"
      },
      "execution_count": null,
      "outputs": [
        {
          "output_type": "stream",
          "name": "stderr",
          "text": [
            "/usr/local/lib/python3.7/dist-packages/sklearn/utils/validation.py:1692: FutureWarning: Feature names only support names that are all strings. Got feature names with dtypes: ['str', 'tuple']. An error will be raised in 1.2.\n",
            "  FutureWarning,\n"
          ]
        },
        {
          "output_type": "stream",
          "name": "stdout",
          "text": [
            "CPU times: user 4.45 s, sys: 37.7 ms, total: 4.49 s\n",
            "Wall time: 4.49 s\n"
          ]
        }
      ]
    },
    {
      "cell_type": "code",
      "source": [
        "%%time\n",
        "# Buat prediksi model SVM (kernel=linear, C=1) pada dataset training dan testing\n",
        "y_pred_train_svc_lin_1 = svclin1.predict(X_train_t_ohe)\n",
        "y_pred_test_svc_lin_1 = svclin1.predict(X_test_t_ohe)"
      ],
      "metadata": {
        "colab": {
          "base_uri": "https://localhost:8080/"
        },
        "id": "GabkbKulwVwM",
        "outputId": "cc843504-5ccc-4a7b-b662-6bdaffe71b42"
      },
      "execution_count": null,
      "outputs": [
        {
          "output_type": "stream",
          "name": "stderr",
          "text": [
            "/usr/local/lib/python3.7/dist-packages/sklearn/utils/validation.py:1692: FutureWarning: Feature names only support names that are all strings. Got feature names with dtypes: ['str', 'tuple']. An error will be raised in 1.2.\n",
            "  FutureWarning,\n",
            "/usr/local/lib/python3.7/dist-packages/sklearn/utils/validation.py:1692: FutureWarning: Feature names only support names that are all strings. Got feature names with dtypes: ['str', 'tuple']. An error will be raised in 1.2.\n",
            "  FutureWarning,\n"
          ]
        },
        {
          "output_type": "stream",
          "name": "stdout",
          "text": [
            "CPU times: user 2.77 s, sys: 2.89 ms, total: 2.78 s\n",
            "Wall time: 2.76 s\n"
          ]
        }
      ]
    },
    {
      "cell_type": "markdown",
      "source": [
        "# SVM, Kernel = linear, C=100"
      ],
      "metadata": {
        "id": "L_tTTLJGYMVd"
      }
    },
    {
      "cell_type": "code",
      "source": [
        "%%time\n",
        "# Fitting model SVM svc_lin_100 ke dalam dataset X_train_t_ohe dan y_train_enc. Store model ke dalam svclin100\n",
        "svclin100 = svc_lin_100.fit(X_train_t_ohe,y_train_enc)"
      ],
      "metadata": {
        "colab": {
          "base_uri": "https://localhost:8080/"
        },
        "id": "qIpCTjS9vzuk",
        "outputId": "d4b61950-97e4-4c59-8c7a-d835dc11190f"
      },
      "execution_count": null,
      "outputs": [
        {
          "output_type": "stream",
          "name": "stderr",
          "text": [
            "/usr/local/lib/python3.7/dist-packages/sklearn/utils/validation.py:1692: FutureWarning: Feature names only support names that are all strings. Got feature names with dtypes: ['str', 'tuple']. An error will be raised in 1.2.\n",
            "  FutureWarning,\n"
          ]
        },
        {
          "output_type": "stream",
          "name": "stdout",
          "text": [
            "CPU times: user 36.4 s, sys: 44 ms, total: 36.4 s\n",
            "Wall time: 36.4 s\n"
          ]
        }
      ]
    },
    {
      "cell_type": "code",
      "source": [
        "%%time\n",
        "# Buat prediksi model SVM (kernel=linear, C=100) pada dataset training dan testing\n",
        "y_pred_train_svc_lin_100 = svclin100.predict(X_train_t_ohe)\n",
        "y_pred_test_svc_lin_100 = svclin100.predict(X_test_t_ohe)"
      ],
      "metadata": {
        "colab": {
          "base_uri": "https://localhost:8080/"
        },
        "id": "zD4qW6CawXiy",
        "outputId": "ba65a211-867c-4781-f552-95c94a285322"
      },
      "execution_count": null,
      "outputs": [
        {
          "output_type": "stream",
          "name": "stderr",
          "text": [
            "/usr/local/lib/python3.7/dist-packages/sklearn/utils/validation.py:1692: FutureWarning: Feature names only support names that are all strings. Got feature names with dtypes: ['str', 'tuple']. An error will be raised in 1.2.\n",
            "  FutureWarning,\n",
            "/usr/local/lib/python3.7/dist-packages/sklearn/utils/validation.py:1692: FutureWarning: Feature names only support names that are all strings. Got feature names with dtypes: ['str', 'tuple']. An error will be raised in 1.2.\n",
            "  FutureWarning,\n"
          ]
        },
        {
          "output_type": "stream",
          "name": "stdout",
          "text": [
            "CPU times: user 2.73 s, sys: 8.94 ms, total: 2.74 s\n",
            "Wall time: 2.74 s\n"
          ]
        }
      ]
    },
    {
      "cell_type": "markdown",
      "source": [
        "# SVM, Kernel = poly, C=1"
      ],
      "metadata": {
        "id": "jWgLw-I-YPo1"
      }
    },
    {
      "cell_type": "code",
      "source": [
        "%%time\n",
        "# Fitting model SVM svc_pol_1 ke dalam dataset X_train_t_ohe dan y_train_enc. Store model ke dalam svcpol1\n",
        "svcpol1 = svc_pol_1.fit(X_train_t_ohe,y_train_enc)"
      ],
      "metadata": {
        "colab": {
          "base_uri": "https://localhost:8080/"
        },
        "id": "9Twk4YF2v828",
        "outputId": "6c1510eb-7462-428f-d260-54ffc2440eef"
      },
      "execution_count": null,
      "outputs": [
        {
          "output_type": "stream",
          "name": "stderr",
          "text": [
            "/usr/local/lib/python3.7/dist-packages/sklearn/utils/validation.py:1692: FutureWarning: Feature names only support names that are all strings. Got feature names with dtypes: ['str', 'tuple']. An error will be raised in 1.2.\n",
            "  FutureWarning,\n"
          ]
        },
        {
          "output_type": "stream",
          "name": "stdout",
          "text": [
            "CPU times: user 6 s, sys: 33 ms, total: 6.03 s\n",
            "Wall time: 6.03 s\n"
          ]
        }
      ]
    },
    {
      "cell_type": "code",
      "source": [
        "%%time\n",
        "# Buat prediksi model SVM (kernel=poly, C=1) pada dataset training dan testing\n",
        "y_pred_train_svc_pol_1 = svcpol1.predict(X_train_t_ohe)\n",
        "y_pred_test_svc_pol_1 = svcpol1.predict(X_test_t_ohe)"
      ],
      "metadata": {
        "colab": {
          "base_uri": "https://localhost:8080/"
        },
        "id": "9K8K5-bEwaoM",
        "outputId": "c7e4903d-70bc-416a-f07e-f29f92591843"
      },
      "execution_count": null,
      "outputs": [
        {
          "output_type": "stream",
          "name": "stderr",
          "text": [
            "/usr/local/lib/python3.7/dist-packages/sklearn/utils/validation.py:1692: FutureWarning: Feature names only support names that are all strings. Got feature names with dtypes: ['str', 'tuple']. An error will be raised in 1.2.\n",
            "  FutureWarning,\n",
            "/usr/local/lib/python3.7/dist-packages/sklearn/utils/validation.py:1692: FutureWarning: Feature names only support names that are all strings. Got feature names with dtypes: ['str', 'tuple']. An error will be raised in 1.2.\n",
            "  FutureWarning,\n"
          ]
        },
        {
          "output_type": "stream",
          "name": "stdout",
          "text": [
            "CPU times: user 3 s, sys: 4.96 ms, total: 3 s\n",
            "Wall time: 2.99 s\n"
          ]
        }
      ]
    },
    {
      "cell_type": "markdown",
      "source": [
        "# SVM, Kernel = poly, C=100"
      ],
      "metadata": {
        "id": "mqAHaR5pYSY4"
      }
    },
    {
      "cell_type": "code",
      "source": [
        "%%time\n",
        "# Fitting model SVM svc_pol_100 ke dalam dataset X_train_t_ohe dan y_train_enc. Store model ke dalam svcpol100\n",
        "svcpol100 = svc_pol_100.fit(X_train_t_ohe,y_train_enc)"
      ],
      "metadata": {
        "colab": {
          "base_uri": "https://localhost:8080/"
        },
        "id": "OWKwdp7-wBUZ",
        "outputId": "83f3c0ed-6816-40b1-fbf1-bf1437d82244"
      },
      "execution_count": null,
      "outputs": [
        {
          "output_type": "stream",
          "name": "stderr",
          "text": [
            "/usr/local/lib/python3.7/dist-packages/sklearn/utils/validation.py:1692: FutureWarning: Feature names only support names that are all strings. Got feature names with dtypes: ['str', 'tuple']. An error will be raised in 1.2.\n",
            "  FutureWarning,\n"
          ]
        },
        {
          "output_type": "stream",
          "name": "stdout",
          "text": [
            "CPU times: user 42.2 s, sys: 62.3 ms, total: 42.2 s\n",
            "Wall time: 43.2 s\n"
          ]
        }
      ]
    },
    {
      "cell_type": "code",
      "source": [
        "%%time\n",
        "# Buat prediksi model SVM (kernel=poly, C=100) pada dataset training dan testing\n",
        "y_pred_train_svc_pol_100 = svcpol100.predict(X_train_t_ohe)\n",
        "y_pred_test_svc_pol_100 = svcpol100.predict(X_test_t_ohe)"
      ],
      "metadata": {
        "colab": {
          "base_uri": "https://localhost:8080/"
        },
        "id": "jeL1_fPpwc6C",
        "outputId": "2f191a3e-4c6a-4f58-8cf2-f58aa3721b5d"
      },
      "execution_count": null,
      "outputs": [
        {
          "output_type": "stream",
          "name": "stderr",
          "text": [
            "/usr/local/lib/python3.7/dist-packages/sklearn/utils/validation.py:1692: FutureWarning: Feature names only support names that are all strings. Got feature names with dtypes: ['str', 'tuple']. An error will be raised in 1.2.\n",
            "  FutureWarning,\n",
            "/usr/local/lib/python3.7/dist-packages/sklearn/utils/validation.py:1692: FutureWarning: Feature names only support names that are all strings. Got feature names with dtypes: ['str', 'tuple']. An error will be raised in 1.2.\n",
            "  FutureWarning,\n"
          ]
        },
        {
          "output_type": "stream",
          "name": "stdout",
          "text": [
            "CPU times: user 2.89 s, sys: 5.01 ms, total: 2.9 s\n",
            "Wall time: 2.88 s\n"
          ]
        }
      ]
    },
    {
      "cell_type": "markdown",
      "source": [
        "Secara keseluruhan, model SVM dengan hyperparameter C=100 memiliki waktu training model yang jauh lebih lama dibandingkan SVM dengan C=1"
      ],
      "metadata": {
        "id": "Y6TqCktVCBz2"
      }
    },
    {
      "cell_type": "markdown",
      "source": [
        "# VIII. Model Evaluation\n",
        "\n",
        "Pada bagian ini, dilakukan evaluasi model yang harus menunjukkan bagaimana performa model berdasarkan metrics yang dipilih. Hal ini harus dibuktikan dengan visualisasi tren performa dan/atau tingkat kesalahan model. Lakukan analisis terkait dengan hasil pada model dan tuliskan hasil analisisnya."
      ],
      "metadata": {
        "id": "NJiCM5cFooJD"
      }
    },
    {
      "cell_type": "markdown",
      "source": [
        "# Logistic Regression"
      ],
      "metadata": {
        "id": "MWZFigf9ZwJW"
      }
    },
    {
      "cell_type": "code",
      "source": [
        "# Tampilkan skor akurasi model regresi logistik\n",
        "print('accuracy score train : ',accuracy_score(y_train_enc,y_pred_train_lm))\n",
        "print('accuracy score test : ',accuracy_score(y_test_enc,y_pred_test_lm))"
      ],
      "metadata": {
        "colab": {
          "base_uri": "https://localhost:8080/"
        },
        "id": "CtHnwUSaoDHz",
        "outputId": "528d94ec-65c8-4804-feb5-8645dc9bb23b"
      },
      "execution_count": null,
      "outputs": [
        {
          "output_type": "stream",
          "name": "stdout",
          "text": [
            "accuracy score train :  0.8408206801355251\n",
            "accuracy score test :  0.8466750313676286\n"
          ]
        }
      ]
    },
    {
      "cell_type": "code",
      "source": [
        "# Tampilkan confusion matrix pada dataset training\n",
        "cm_train_lm = confusion_matrix(y_train_enc,y_pred_train_lm, labels=logm.classes_)\n",
        "disp_train_lm = ConfusionMatrixDisplay(confusion_matrix=cm_train_lm, display_labels=logm.classes_)\n",
        "\n",
        "disp_train_lm.plot()\n",
        "plt.show()"
      ],
      "metadata": {
        "colab": {
          "base_uri": "https://localhost:8080/",
          "height": 283
        },
        "id": "UWWasviqoFou",
        "outputId": "9f362b71-1591-4b19-b4e5-e3660288e4f6"
      },
      "execution_count": null,
      "outputs": [
        {
          "output_type": "display_data",
          "data": {
            "text/plain": [
              "<Figure size 432x288 with 2 Axes>"
            ],
            "image/png": "[encoded data removed]"
          },
          "metadata": {
            "needs_background": "light"
          }
        }
      ]
    },
    {
      "cell_type": "code",
      "source": [
        "# Tampilkan classification report pada dataset training\n",
        "print(classification_report(y_train_enc,y_pred_train_lm))"
      ],
      "metadata": {
        "colab": {
          "base_uri": "https://localhost:8080/"
        },
        "id": "Q7xKV4GXoKQ0",
        "outputId": "6e875ac2-8b72-4a2f-8e0f-61919b0463f8"
      },
      "execution_count": null,
      "outputs": [
        {
          "output_type": "stream",
          "name": "stdout",
          "text": [
            "              precision    recall  f1-score   support\n",
            "\n",
            "           0       0.87      0.94      0.90     12767\n",
            "           1       0.65      0.44      0.52      3171\n",
            "\n",
            "    accuracy                           0.84     15938\n",
            "   macro avg       0.76      0.69      0.71     15938\n",
            "weighted avg       0.83      0.84      0.83     15938\n",
            "\n"
          ]
        }
      ]
    },
    {
      "cell_type": "code",
      "source": [
        "# Tampilkan confusion matrix pada dataset testing\n",
        "cm_test_lm = confusion_matrix(y_test_enc,y_pred_test_lm, labels=logm.classes_)\n",
        "disp_test_lm = ConfusionMatrixDisplay(confusion_matrix=cm_test_lm, display_labels=logm.classes_)\n",
        "\n",
        "disp_test_lm.plot()\n",
        "plt.show()"
      ],
      "metadata": {
        "colab": {
          "base_uri": "https://localhost:8080/",
          "height": 283
        },
        "id": "0siJ4nAWoMDq",
        "outputId": "ce709660-af07-4fed-ba8f-07d5a4f6f0f0"
      },
      "execution_count": null,
      "outputs": [
        {
          "output_type": "display_data",
          "data": {
            "text/plain": [
              "<Figure size 432x288 with 2 Axes>"
            ],
            "image/png": "[encoded data removed]"
          },
          "metadata": {
            "needs_background": "light"
          }
        }
      ]
    },
    {
      "cell_type": "code",
      "source": [
        "# Tampilkan classification report pada dataset test\n",
        "print(classification_report(y_test_enc,y_pred_test_lm))"
      ],
      "metadata": {
        "colab": {
          "base_uri": "https://localhost:8080/"
        },
        "id": "f3F64lVnoOuy",
        "outputId": "7cc1c2d1-5fd1-4296-ccd7-4ceb15b05af6"
      },
      "execution_count": null,
      "outputs": [
        {
          "output_type": "stream",
          "name": "stdout",
          "text": [
            "              precision    recall  f1-score   support\n",
            "\n",
            "           0       0.88      0.94      0.91      3192\n",
            "           1       0.67      0.46      0.54       793\n",
            "\n",
            "    accuracy                           0.85      3985\n",
            "   macro avg       0.77      0.70      0.73      3985\n",
            "weighted avg       0.83      0.85      0.84      3985\n",
            "\n"
          ]
        }
      ]
    },
    {
      "cell_type": "markdown",
      "source": [
        "# SVM, Kernel = rbf, C=1"
      ],
      "metadata": {
        "id": "jkkecOsqzMBC"
      }
    },
    {
      "cell_type": "code",
      "source": [
        "# Tampilkan skor akurasi model SVM, kernel=rbf, C=1\n",
        "print('accuracy score train : ',accuracy_score(y_train_enc,y_pred_train_svc_rbf_1))\n",
        "print('accuracy score test : ',accuracy_score(y_test_enc,y_pred_test_svc_rbf_1))"
      ],
      "metadata": {
        "colab": {
          "base_uri": "https://localhost:8080/"
        },
        "id": "5xPqWd-eyKzR",
        "outputId": "9665f964-91a6-469e-b667-be0e140668e3"
      },
      "execution_count": null,
      "outputs": [
        {
          "output_type": "stream",
          "name": "stdout",
          "text": [
            "accuracy score train :  0.8409461663947798\n",
            "accuracy score test :  0.8421580928481807\n"
          ]
        }
      ]
    },
    {
      "cell_type": "code",
      "source": [
        "# Tampilkan confusion matrix pada dataset training\n",
        "cm_train_svc_rbf_1 = confusion_matrix(y_train_enc,y_pred_train_svc_rbf_1, labels=logm.classes_)\n",
        "disp_train_svc_rbf_1 = ConfusionMatrixDisplay(confusion_matrix=cm_train_svc_rbf_1, display_labels=logm.classes_)\n",
        "\n",
        "disp_train_svc_rbf_1.plot()\n",
        "plt.show()"
      ],
      "metadata": {
        "colab": {
          "base_uri": "https://localhost:8080/",
          "height": 282
        },
        "id": "Zl5BAAgryNiB",
        "outputId": "1f503ad3-6503-4821-fb5d-5434ef714b5b"
      },
      "execution_count": null,
      "outputs": [
        {
          "output_type": "display_data",
          "data": {
            "text/plain": [
              "<Figure size 432x288 with 2 Axes>"
            ],
            "image/png": "[encoded data removed]"
          },
          "metadata": {
            "needs_background": "light"
          }
        }
      ]
    },
    {
      "cell_type": "code",
      "source": [
        "# Tampilkan classification report pada dataset training\n",
        "print(classification_report(y_train_enc,y_pred_train_svc_rbf_1))"
      ],
      "metadata": {
        "colab": {
          "base_uri": "https://localhost:8080/"
        },
        "id": "xD7oa_BDyQ8P",
        "outputId": "7d5febfa-c7b2-4f2d-ae54-a515262855fa"
      },
      "execution_count": null,
      "outputs": [
        {
          "output_type": "stream",
          "name": "stdout",
          "text": [
            "              precision    recall  f1-score   support\n",
            "\n",
            "           0       0.87      0.95      0.91     12767\n",
            "           1       0.66      0.41      0.51      3171\n",
            "\n",
            "    accuracy                           0.84     15938\n",
            "   macro avg       0.76      0.68      0.71     15938\n",
            "weighted avg       0.83      0.84      0.83     15938\n",
            "\n"
          ]
        }
      ]
    },
    {
      "cell_type": "code",
      "source": [
        "# Tampilkan confusion matrix pada dataset testing\n",
        "cm_test_svc_rbf_1 = confusion_matrix(y_test_enc,y_pred_test_svc_rbf_1, labels=logm.classes_)\n",
        "disp_test_svc_rbf_1 = ConfusionMatrixDisplay(confusion_matrix=cm_test_svc_rbf_1, display_labels=logm.classes_)\n",
        "\n",
        "disp_test_svc_rbf_1.plot()\n",
        "plt.show()"
      ],
      "metadata": {
        "colab": {
          "base_uri": "https://localhost:8080/",
          "height": 281
        },
        "id": "fB2Rs3CmyWXH",
        "outputId": "ffdafc5f-d917-4d11-c700-af68363ac069"
      },
      "execution_count": null,
      "outputs": [
        {
          "output_type": "display_data",
          "data": {
            "text/plain": [
              "<Figure size 432x288 with 2 Axes>"
            ],
            "image/png": "[encoded data removed]"
          },
          "metadata": {
            "needs_background": "light"
          }
        }
      ]
    },
    {
      "cell_type": "code",
      "source": [
        "# Tampilkan classification report pada dataset testing\n",
        "print(classification_report(y_test_enc,y_pred_test_svc_rbf_1))"
      ],
      "metadata": {
        "colab": {
          "base_uri": "https://localhost:8080/"
        },
        "id": "fZqSztDnyZLH",
        "outputId": "633aff43-bffb-441c-d649-13177ceaa287"
      },
      "execution_count": null,
      "outputs": [
        {
          "output_type": "stream",
          "name": "stdout",
          "text": [
            "              precision    recall  f1-score   support\n",
            "\n",
            "           0       0.87      0.95      0.91      3192\n",
            "           1       0.67      0.42      0.51       793\n",
            "\n",
            "    accuracy                           0.84      3985\n",
            "   macro avg       0.77      0.68      0.71      3985\n",
            "weighted avg       0.83      0.84      0.83      3985\n",
            "\n"
          ]
        }
      ]
    },
    {
      "cell_type": "markdown",
      "source": [
        "# SVM, Kernel = rbf, C=100"
      ],
      "metadata": {
        "id": "Pe4aWgz2yZiO"
      }
    },
    {
      "cell_type": "code",
      "source": [
        "# Tampilkan skor akurasi model SVM, kernel=rbf, C=100\n",
        "print('accuracy score train : ',accuracy_score(y_train_enc,y_pred_train_svc_rbf_100))\n",
        "print('accuracy score test : ',accuracy_score(y_test_enc,y_pred_test_svc_rbf_100))"
      ],
      "metadata": {
        "colab": {
          "base_uri": "https://localhost:8080/"
        },
        "id": "x5t1MeAMybHT",
        "outputId": "6c171ac5-ce83-4c51-cd34-7e74cbdba158"
      },
      "execution_count": null,
      "outputs": [
        {
          "output_type": "stream",
          "name": "stdout",
          "text": [
            "accuracy score train :  0.8497929476722299\n",
            "accuracy score test :  0.8489335006273526\n"
          ]
        }
      ]
    },
    {
      "cell_type": "code",
      "source": [
        "# Tampilkan confusion matrix pada dataset training\n",
        "cm_train_svc_rbf_100 = confusion_matrix(y_train_enc,y_pred_train_svc_rbf_100, labels=logm.classes_)\n",
        "disp_train_svc_rbf_100 = ConfusionMatrixDisplay(confusion_matrix=cm_train_svc_rbf_100, display_labels=logm.classes_)\n",
        "\n",
        "disp_train_svc_rbf_100.plot()\n",
        "plt.show()"
      ],
      "metadata": {
        "colab": {
          "base_uri": "https://localhost:8080/",
          "height": 279
        },
        "id": "t8m91_4Pyb_h",
        "outputId": "5de8710b-50da-42eb-913e-31168c7277a0"
      },
      "execution_count": null,
      "outputs": [
        {
          "output_type": "display_data",
          "data": {
            "text/plain": [
              "<Figure size 432x288 with 2 Axes>"
            ],
            "image/png": "[encoded data removed]"
          },
          "metadata": {
            "needs_background": "light"
          }
        }
      ]
    },
    {
      "cell_type": "code",
      "source": [
        "# Tampilkan classification report pada dataset training\n",
        "print(classification_report(y_train_enc,y_pred_train_svc_rbf_100))"
      ],
      "metadata": {
        "colab": {
          "base_uri": "https://localhost:8080/"
        },
        "id": "eE3Bjqpvyc41",
        "outputId": "ed514b1f-a865-4d22-9418-c6193e980387"
      },
      "execution_count": null,
      "outputs": [
        {
          "output_type": "stream",
          "name": "stdout",
          "text": [
            "              precision    recall  f1-score   support\n",
            "\n",
            "           0       0.88      0.94      0.91     12767\n",
            "           1       0.67      0.49      0.57      3171\n",
            "\n",
            "    accuracy                           0.85     15938\n",
            "   macro avg       0.77      0.71      0.74     15938\n",
            "weighted avg       0.84      0.85      0.84     15938\n",
            "\n"
          ]
        }
      ]
    },
    {
      "cell_type": "code",
      "source": [
        "# Tampilkan confusion matrix pada dataset testing\n",
        "cm_test_svc_rbf_100 = confusion_matrix(y_test_enc,y_pred_test_svc_rbf_100, labels=logm.classes_)\n",
        "disp_test_svc_rbf_100 = ConfusionMatrixDisplay(confusion_matrix=cm_test_svc_rbf_100, display_labels=logm.classes_)\n",
        "\n",
        "disp_test_svc_rbf_100.plot()\n",
        "plt.show()"
      ],
      "metadata": {
        "colab": {
          "base_uri": "https://localhost:8080/",
          "height": 279
        },
        "id": "ZyJ9a9zhyeNv",
        "outputId": "754563e2-7397-4ce4-d470-20225175b0f6"
      },
      "execution_count": null,
      "outputs": [
        {
          "output_type": "display_data",
          "data": {
            "text/plain": [
              "<Figure size 432x288 with 2 Axes>"
            ],
            "image/png": "[encoded data removed]"
          },
          "metadata": {
            "needs_background": "light"
          }
        }
      ]
    },
    {
      "cell_type": "code",
      "source": [
        "# Tampilkan classification report pada dataset testing\n",
        "print(classification_report(y_test_enc,y_pred_test_svc_rbf_100))"
      ],
      "metadata": {
        "colab": {
          "base_uri": "https://localhost:8080/"
        },
        "id": "xE7QvMutyfGg",
        "outputId": "557b36a2-52f4-476c-a314-2ff51f013b41"
      },
      "execution_count": null,
      "outputs": [
        {
          "output_type": "stream",
          "name": "stdout",
          "text": [
            "              precision    recall  f1-score   support\n",
            "\n",
            "           0       0.88      0.94      0.91      3192\n",
            "           1       0.66      0.49      0.56       793\n",
            "\n",
            "    accuracy                           0.85      3985\n",
            "   macro avg       0.77      0.71      0.74      3985\n",
            "weighted avg       0.84      0.85      0.84      3985\n",
            "\n"
          ]
        }
      ]
    },
    {
      "cell_type": "markdown",
      "source": [
        "# SVM, Kernel = linear, C=1"
      ],
      "metadata": {
        "id": "aUiwPO5MyZfo"
      }
    },
    {
      "cell_type": "code",
      "source": [
        "# Tampilkan skor akurasi model SVM, kernel=linear, C=1\n",
        "print('accuracy score train : ',accuracy_score(y_train_enc,y_pred_train_svc_lin_1))\n",
        "print('accuracy score test : ',accuracy_score(y_test_enc,y_pred_test_svc_lin_1))"
      ],
      "metadata": {
        "colab": {
          "base_uri": "https://localhost:8080/"
        },
        "id": "5Q7QNWdJynlv",
        "outputId": "0dc041c6-953a-4404-8952-e3338bc419a2"
      },
      "execution_count": null,
      "outputs": [
        {
          "output_type": "stream",
          "name": "stdout",
          "text": [
            "accuracy score train :  0.8395658175429791\n",
            "accuracy score test :  0.8409033877038896\n"
          ]
        }
      ]
    },
    {
      "cell_type": "code",
      "source": [
        "# Tampilkan confusion matrix pada dataset training\n",
        "cm_train_svc_lin_1 = confusion_matrix(y_train_enc,y_pred_train_svc_lin_1, labels=logm.classes_)\n",
        "disp_train_svc_lin_1 = ConfusionMatrixDisplay(confusion_matrix=cm_train_svc_lin_1, display_labels=logm.classes_)\n",
        "\n",
        "disp_train_svc_lin_1.plot()\n",
        "plt.show()"
      ],
      "metadata": {
        "colab": {
          "base_uri": "https://localhost:8080/",
          "height": 280
        },
        "id": "yW0CDBuIyoly",
        "outputId": "401bfb01-a324-41d5-a255-0d3312c0fb03"
      },
      "execution_count": null,
      "outputs": [
        {
          "output_type": "display_data",
          "data": {
            "text/plain": [
              "<Figure size 432x288 with 2 Axes>"
            ],
            "image/png": "[encoded data removed]"
          },
          "metadata": {
            "needs_background": "light"
          }
        }
      ]
    },
    {
      "cell_type": "code",
      "source": [
        "# Tampilkan classification report pada dataset training\n",
        "print(classification_report(y_train_enc,y_pred_train_svc_lin_1))"
      ],
      "metadata": {
        "colab": {
          "base_uri": "https://localhost:8080/"
        },
        "id": "STPVjdvqyps6",
        "outputId": "7816b22e-088e-4ce4-d8ae-aad665948b53"
      },
      "execution_count": null,
      "outputs": [
        {
          "output_type": "stream",
          "name": "stdout",
          "text": [
            "              precision    recall  f1-score   support\n",
            "\n",
            "           0       0.86      0.95      0.90     12767\n",
            "           1       0.67      0.39      0.49      3171\n",
            "\n",
            "    accuracy                           0.84     15938\n",
            "   macro avg       0.76      0.67      0.70     15938\n",
            "weighted avg       0.82      0.84      0.82     15938\n",
            "\n"
          ]
        }
      ]
    },
    {
      "cell_type": "code",
      "source": [
        "# Tampilkan confusion matrix pada dataset testing\n",
        "cm_test_svc_lin_1 = confusion_matrix(y_test_enc,y_pred_test_svc_lin_1, labels=logm.classes_)\n",
        "disp_test_svc_lin_1 = ConfusionMatrixDisplay(confusion_matrix=cm_test_svc_lin_1, display_labels=logm.classes_)\n",
        "\n",
        "disp_test_svc_lin_1.plot()\n",
        "plt.show()"
      ],
      "metadata": {
        "colab": {
          "base_uri": "https://localhost:8080/",
          "height": 280
        },
        "id": "ZwbSJ7P_yqrp",
        "outputId": "cd47146c-9775-4339-864a-f4e1ac51fd59"
      },
      "execution_count": null,
      "outputs": [
        {
          "output_type": "display_data",
          "data": {
            "text/plain": [
              "<Figure size 432x288 with 2 Axes>"
            ],
            "image/png": "[encoded data removed]"
          },
          "metadata": {
            "needs_background": "light"
          }
        }
      ]
    },
    {
      "cell_type": "code",
      "source": [
        "# Tampilkan classification report pada dataset testing\n",
        "print(classification_report(y_test_enc,y_pred_test_svc_lin_1))"
      ],
      "metadata": {
        "colab": {
          "base_uri": "https://localhost:8080/"
        },
        "id": "cvKfN4GByrkb",
        "outputId": "db5b03de-6349-4ada-9041-247751045dbb"
      },
      "execution_count": null,
      "outputs": [
        {
          "output_type": "stream",
          "name": "stdout",
          "text": [
            "              precision    recall  f1-score   support\n",
            "\n",
            "           0       0.86      0.95      0.91      3192\n",
            "           1       0.67      0.39      0.50       793\n",
            "\n",
            "    accuracy                           0.84      3985\n",
            "   macro avg       0.77      0.67      0.70      3985\n",
            "weighted avg       0.83      0.84      0.82      3985\n",
            "\n"
          ]
        }
      ]
    },
    {
      "cell_type": "markdown",
      "source": [
        "# SVM, Kernel = linear, C=100"
      ],
      "metadata": {
        "id": "neUZrBIYys_m"
      }
    },
    {
      "cell_type": "code",
      "source": [
        "# Tampilkan skor akurasi model SVM, kernel=linear, C=100\n",
        "print('accuracy score train : ',accuracy_score(y_train_enc,y_pred_train_svc_lin_100))\n",
        "print('accuracy score test : ',accuracy_score(y_test_enc,y_pred_test_svc_lin_100))"
      ],
      "metadata": {
        "colab": {
          "base_uri": "https://localhost:8080/"
        },
        "id": "juQBoImuyt5Y",
        "outputId": "24475d3e-6949-4d0f-ebf8-2ce78d0ec844"
      },
      "execution_count": null,
      "outputs": [
        {
          "output_type": "stream",
          "name": "stdout",
          "text": [
            "accuracy score train :  0.8395658175429791\n",
            "accuracy score test :  0.8409033877038896\n"
          ]
        }
      ]
    },
    {
      "cell_type": "code",
      "source": [
        "# Tampilkan confusion matrix pada dataset training\n",
        "cm_train_svc_lin_100 = confusion_matrix(y_train_enc,y_pred_train_svc_lin_100, labels=logm.classes_)\n",
        "disp_train_svc_lin_100 = ConfusionMatrixDisplay(confusion_matrix=cm_train_svc_lin_100, display_labels=logm.classes_)\n",
        "\n",
        "disp_train_svc_lin_100.plot()\n",
        "plt.show()"
      ],
      "metadata": {
        "colab": {
          "base_uri": "https://localhost:8080/",
          "height": 280
        },
        "id": "tYlnS0Q6yxlF",
        "outputId": "33c3f1df-268f-4acc-e967-7cf088f42424"
      },
      "execution_count": null,
      "outputs": [
        {
          "output_type": "display_data",
          "data": {
            "text/plain": [
              "<Figure size 432x288 with 2 Axes>"
            ],
            "image/png": "[encoded data removed]"
          },
          "metadata": {
            "needs_background": "light"
          }
        }
      ]
    },
    {
      "cell_type": "code",
      "source": [
        "# Tampilkan classification report pada dataset training\n",
        "print(classification_report(y_train_enc,y_pred_train_svc_lin_100))"
      ],
      "metadata": {
        "colab": {
          "base_uri": "https://localhost:8080/"
        },
        "id": "imBTx84cyyqm",
        "outputId": "b2ef5b48-1c64-4410-8fa6-83dba5c0f3ee"
      },
      "execution_count": null,
      "outputs": [
        {
          "output_type": "stream",
          "name": "stdout",
          "text": [
            "              precision    recall  f1-score   support\n",
            "\n",
            "           0       0.86      0.95      0.90     12767\n",
            "           1       0.67      0.39      0.49      3171\n",
            "\n",
            "    accuracy                           0.84     15938\n",
            "   macro avg       0.76      0.67      0.70     15938\n",
            "weighted avg       0.82      0.84      0.82     15938\n",
            "\n"
          ]
        }
      ]
    },
    {
      "cell_type": "code",
      "source": [
        "# Tampilkan confusion matrix pada dataset testing\n",
        "cm_test_svc_lin_100 = confusion_matrix(y_test_enc,y_pred_test_svc_lin_100, labels=logm.classes_)\n",
        "disp_test_svc_lin_100 = ConfusionMatrixDisplay(confusion_matrix=cm_test_svc_lin_100, display_labels=logm.classes_)\n",
        "\n",
        "disp_test_svc_lin_100.plot()\n",
        "plt.show()"
      ],
      "metadata": {
        "colab": {
          "base_uri": "https://localhost:8080/",
          "height": 280
        },
        "id": "0KEDz1udyzmP",
        "outputId": "9e71cfaa-146f-4e62-9331-f940148af91c"
      },
      "execution_count": null,
      "outputs": [
        {
          "output_type": "display_data",
          "data": {
            "text/plain": [
              "<Figure size 432x288 with 2 Axes>"
            ],
            "image/png": "[encoded data removed]"
          },
          "metadata": {
            "needs_background": "light"
          }
        }
      ]
    },
    {
      "cell_type": "code",
      "source": [
        "# Tampilkan classification report pada dataset testing\n",
        "print(classification_report(y_test_enc,y_pred_test_svc_lin_100))"
      ],
      "metadata": {
        "colab": {
          "base_uri": "https://localhost:8080/"
        },
        "id": "Cgw0uHuOy0ev",
        "outputId": "3acb6a07-a064-4a44-8e11-5ab3dde92946"
      },
      "execution_count": null,
      "outputs": [
        {
          "output_type": "stream",
          "name": "stdout",
          "text": [
            "              precision    recall  f1-score   support\n",
            "\n",
            "           0       0.86      0.95      0.91      3192\n",
            "           1       0.67      0.39      0.50       793\n",
            "\n",
            "    accuracy                           0.84      3985\n",
            "   macro avg       0.77      0.67      0.70      3985\n",
            "weighted avg       0.83      0.84      0.82      3985\n",
            "\n"
          ]
        }
      ]
    },
    {
      "cell_type": "markdown",
      "source": [
        "# SVM, Kernel = poly, C=1"
      ],
      "metadata": {
        "id": "2YXw1nMEy3Oz"
      }
    },
    {
      "cell_type": "code",
      "source": [
        "# Tampilkan skor akurasi model SVM, kernel=poly, C=1\n",
        "print('accuracy score train : ',accuracy_score(y_train_enc,y_pred_train_svc_pol_1))\n",
        "print('accuracy score test : ',accuracy_score(y_test_enc,y_pred_test_svc_pol_1))"
      ],
      "metadata": {
        "colab": {
          "base_uri": "https://localhost:8080/"
        },
        "id": "4Sj2kV5uy-rY",
        "outputId": "55c2ebe3-0192-442e-eb8d-45a3b3d21005"
      },
      "execution_count": null,
      "outputs": [
        {
          "output_type": "stream",
          "name": "stdout",
          "text": [
            "accuracy score train :  0.8400677625799975\n",
            "accuracy score test :  0.840150564617315\n"
          ]
        }
      ]
    },
    {
      "cell_type": "code",
      "source": [
        "# Tampilkan confusion matrix pada dataset training\n",
        "cm_train_svc_pol_1 = confusion_matrix(y_train_enc,y_pred_train_svc_pol_1, labels=logm.classes_)\n",
        "disp_train_svc_pol_1 = ConfusionMatrixDisplay(confusion_matrix=cm_train_svc_pol_1, display_labels=logm.classes_)\n",
        "\n",
        "disp_train_svc_pol_1.plot()\n",
        "plt.show()"
      ],
      "metadata": {
        "colab": {
          "base_uri": "https://localhost:8080/",
          "height": 280
        },
        "id": "beYx0arny_7E",
        "outputId": "36b8ce72-62ce-4af0-902c-d9aea2646bae"
      },
      "execution_count": null,
      "outputs": [
        {
          "output_type": "display_data",
          "data": {
            "text/plain": [
              "<Figure size 432x288 with 2 Axes>"
            ],
            "image/png": "[encoded data removed]"
          },
          "metadata": {
            "needs_background": "light"
          }
        }
      ]
    },
    {
      "cell_type": "code",
      "source": [
        "# Tampilkan classification report pada dataset training\n",
        "print(classification_report(y_train_enc,y_pred_train_svc_pol_1))"
      ],
      "metadata": {
        "colab": {
          "base_uri": "https://localhost:8080/"
        },
        "id": "B0pkhGL8zAwK",
        "outputId": "8cd6032d-3668-4179-b0f0-ebe539305c92"
      },
      "execution_count": null,
      "outputs": [
        {
          "output_type": "stream",
          "name": "stdout",
          "text": [
            "              precision    recall  f1-score   support\n",
            "\n",
            "           0       0.86      0.95      0.91     12767\n",
            "           1       0.67      0.39      0.49      3171\n",
            "\n",
            "    accuracy                           0.84     15938\n",
            "   macro avg       0.77      0.67      0.70     15938\n",
            "weighted avg       0.82      0.84      0.82     15938\n",
            "\n"
          ]
        }
      ]
    },
    {
      "cell_type": "code",
      "source": [
        "# Tampilkan confusion matrix pada dataset testing\n",
        "cm_test_svc_pol_1 = confusion_matrix(y_test_enc,y_pred_test_svc_pol_1, labels=logm.classes_)\n",
        "disp_test_svc_pol_1 = ConfusionMatrixDisplay(confusion_matrix=cm_test_svc_pol_1, display_labels=logm.classes_)\n",
        "\n",
        "disp_test_svc_pol_1.plot()\n",
        "plt.show()"
      ],
      "metadata": {
        "colab": {
          "base_uri": "https://localhost:8080/",
          "height": 281
        },
        "id": "d77mBTBKzBo9",
        "outputId": "1fd0b842-36d4-4e6f-b841-a0e11c3563f6"
      },
      "execution_count": null,
      "outputs": [
        {
          "output_type": "display_data",
          "data": {
            "text/plain": [
              "<Figure size 432x288 with 2 Axes>"
            ],
            "image/png": "[encoded data removed]"
          },
          "metadata": {
            "needs_background": "light"
          }
        }
      ]
    },
    {
      "cell_type": "code",
      "source": [
        "# Tampilkan classification report pada dataset testing\n",
        "print(classification_report(y_test_enc,y_pred_test_svc_pol_1))"
      ],
      "metadata": {
        "colab": {
          "base_uri": "https://localhost:8080/"
        },
        "id": "-ODGNq1ozCcP",
        "outputId": "eec84247-2a58-4af0-d563-2435abf8714e"
      },
      "execution_count": null,
      "outputs": [
        {
          "output_type": "stream",
          "name": "stdout",
          "text": [
            "              precision    recall  f1-score   support\n",
            "\n",
            "           0       0.86      0.95      0.91      3192\n",
            "           1       0.67      0.39      0.49       793\n",
            "\n",
            "    accuracy                           0.84      3985\n",
            "   macro avg       0.77      0.67      0.70      3985\n",
            "weighted avg       0.82      0.84      0.82      3985\n",
            "\n"
          ]
        }
      ]
    },
    {
      "cell_type": "markdown",
      "source": [
        "# SVM, Kernel = poly, C=100"
      ],
      "metadata": {
        "id": "TSiAC1V5zDd4"
      }
    },
    {
      "cell_type": "code",
      "source": [
        "# Tampilkan skor akurasi model SVM, kernel=poly, C=100\n",
        "print('accuracy score train : ',accuracy_score(y_train_enc,y_pred_train_svc_pol_100))\n",
        "print('accuracy score test : ',accuracy_score(y_test_enc,y_pred_test_svc_pol_100))"
      ],
      "metadata": {
        "colab": {
          "base_uri": "https://localhost:8080/"
        },
        "id": "2JPdEa0mzD3q",
        "outputId": "70af1fb0-a48f-4c7c-f84f-f0a86143a4dc"
      },
      "execution_count": null,
      "outputs": [
        {
          "output_type": "stream",
          "name": "stdout",
          "text": [
            "accuracy score train :  0.845714644246455\n",
            "accuracy score test :  0.8441656210790465\n"
          ]
        }
      ]
    },
    {
      "cell_type": "code",
      "source": [
        "# Tampilkan confusion matrix pada dataset training\n",
        "cm_train_svc_pol_100 = confusion_matrix(y_train_enc,y_pred_train_svc_pol_100, labels=logm.classes_)\n",
        "disp_train_svc_pol_100 = ConfusionMatrixDisplay(confusion_matrix=cm_train_svc_pol_100, display_labels=logm.classes_)\n",
        "\n",
        "disp_train_svc_pol_100.plot()\n",
        "plt.show()"
      ],
      "metadata": {
        "colab": {
          "base_uri": "https://localhost:8080/",
          "height": 282
        },
        "id": "HaoySMxGzF0s",
        "outputId": "8f570565-f1c9-4ad7-b7b7-8a136939b682"
      },
      "execution_count": null,
      "outputs": [
        {
          "output_type": "display_data",
          "data": {
            "text/plain": [
              "<Figure size 432x288 with 2 Axes>"
            ],
            "image/png": "[encoded data removed]"
          },
          "metadata": {
            "needs_background": "light"
          }
        }
      ]
    },
    {
      "cell_type": "code",
      "source": [
        "# Tampilkan classification report pada dataset training\n",
        "print(classification_report(y_train_enc,y_pred_train_svc_pol_100))"
      ],
      "metadata": {
        "colab": {
          "base_uri": "https://localhost:8080/"
        },
        "id": "Tefd0ak0zHSZ",
        "outputId": "28b7af5d-8785-47df-e4ba-1291871e94a5"
      },
      "execution_count": null,
      "outputs": [
        {
          "output_type": "stream",
          "name": "stdout",
          "text": [
            "              precision    recall  f1-score   support\n",
            "\n",
            "           0       0.87      0.94      0.91     12767\n",
            "           1       0.67      0.45      0.54      3171\n",
            "\n",
            "    accuracy                           0.85     15938\n",
            "   macro avg       0.77      0.70      0.72     15938\n",
            "weighted avg       0.83      0.85      0.83     15938\n",
            "\n"
          ]
        }
      ]
    },
    {
      "cell_type": "code",
      "source": [
        "# Tampilkan confusion matrix pada dataset testing\n",
        "cm_test_svc_pol_100 = confusion_matrix(y_test_enc,y_pred_test_svc_pol_100, labels=logm.classes_)\n",
        "disp_test_svc_pol_100 = ConfusionMatrixDisplay(confusion_matrix=cm_test_svc_pol_100, display_labels=logm.classes_)\n",
        "\n",
        "disp_test_svc_pol_100.plot()\n",
        "plt.show()"
      ],
      "metadata": {
        "colab": {
          "base_uri": "https://localhost:8080/",
          "height": 283
        },
        "id": "urttzl_ZzIon",
        "outputId": "d9b06259-d2dc-4bcb-9396-5326b48b2818"
      },
      "execution_count": null,
      "outputs": [
        {
          "output_type": "display_data",
          "data": {
            "text/plain": [
              "<Figure size 432x288 with 2 Axes>"
            ],
            "image/png": "[encoded data removed]"
          },
          "metadata": {
            "needs_background": "light"
          }
        }
      ]
    },
    {
      "cell_type": "code",
      "source": [
        "# Tampilkan classification report pada dataset testing\n",
        "print(classification_report(y_test_enc,y_pred_test_svc_pol_100))"
      ],
      "metadata": {
        "colab": {
          "base_uri": "https://localhost:8080/"
        },
        "id": "lFfl9vNezJf1",
        "outputId": "1973ab68-9268-447d-9db6-4ac934201925"
      },
      "execution_count": null,
      "outputs": [
        {
          "output_type": "stream",
          "name": "stdout",
          "text": [
            "              precision    recall  f1-score   support\n",
            "\n",
            "           0       0.87      0.94      0.91      3192\n",
            "           1       0.66      0.45      0.53       793\n",
            "\n",
            "    accuracy                           0.84      3985\n",
            "   macro avg       0.77      0.69      0.72      3985\n",
            "weighted avg       0.83      0.84      0.83      3985\n",
            "\n"
          ]
        }
      ]
    },
    {
      "cell_type": "markdown",
      "source": [
        "# Summary Model Evaluation"
      ],
      "metadata": {
        "id": "bPDJMWZWcPIp"
      }
    },
    {
      "cell_type": "markdown",
      "source": [
        "Keseluruhan model tsb memiliki pola sebagai berikut: Nilai f1-score untuk label 0 (income < 50K) selalu lebih besar dibandingkan nilai f-score untuk label 1 (income => 50K). Perbandingan nilai f-score untuk label 0 adalah antara 0,8-0,9 dan nilai f-score untuk label 1 adalah antara 0,4-0,5. Perbandingan tersebut cukup jauh. Artinya model Logistic Regression dan SVM jauh lebih baik dalam memprediksi income dengan nilai < 50K dibandingkan income dengan nilai => 50K. Hal ini cukup menggembirakan untuk dataset ini dimana 80% data adalah income dengan nilai < 50K. Namun, performance model bisa dikatakan cukup buruk dalam memprediksi income dengan nilai => 50K. Apabila model digunakan untuk memprediksi dataset lain dengan komposisi income => 50K lebih besar, maka akan sering terjadi kesalahan prediksi."
      ],
      "metadata": {
        "id": "InAmdH2V52qD"
      }
    },
    {
      "cell_type": "markdown",
      "source": [
        "Nilai terbaik pada Confusion Matrix berada pada skor recall untuk label 0 dan precision untuk label 0. Angka untuk label 0 sudah sangat baik untuk recall (kisaran 0,9) dan precision (kisaran 0,8). Dari perbandingan ini, kita bisa menduga jika angka false positive (FP) lebih besar dari false negative (FN) pada kasus prediksi label 0. Artinya, model mempunyai kekurangan karena banyak terjadi kesalahan prediksi label 1 yang ternyata adalah label 0. Di sisi lain, nilai terburuk secara konsisten berada pada skor recall pada label 1 (kisaran 0,4) dibandingkan skor precision pada label 1 (kisaran 0,6). Perbandingan ini kebalikan dengan skor pada label 0. Pada label 1, angka FN lebih besar dari FP. Artinya, model banyak melakukan salah prediksi label 0 yang ternyata adalah label 1. Mungkin model yang dihasilkan terlalu dipengaruhi oleh kondisi dataset itu sendiri, dimana 80% label income adalah 0 (<= 50K). Jika hal itu benar, maka model mengalami overfitting, sehingga skor f-1 pada label 1 lebih rendah.  "
      ],
      "metadata": {
        "id": "u_tgZpX3855Y"
      }
    },
    {
      "cell_type": "markdown",
      "source": [
        "Dilihat dari nilai macro-average, model dengan nilai terbaik adalah SVM kernel rbf dan C=100 dengan skor 0.74. Namun, skor ini tidak berbeda jauh dengan model Logistic Regression dan model2 SVM lainnya karena range model2 tsb berada pada 0.7-0.73. Secara umum nilai macro-average pada training set dan testing set juga hampir sama. Penggunaan hyperparameter C pada SVM berpengaruh hanya pada kernel rbf dan polynomial. Peningkatan nilai C dari 1 ke 100 cenderung memperbaiki nilai macro-average, namun hal ini diimbangi dengan waktu training dan prediksi model yang jauh lebih lama pada nilai C=100. Model SVM kernel linear adalah model dengan performance terburuk dengan nilai macro-average 0,7. Performa tsb tidak dipengaruhi oleh pemilihan nilai C. Bahkan model Logistic regression yg lebih sederhana masih memiliki performance yg sedikit lebih baik daripada model SVM linear."
      ],
      "metadata": {
        "id": "125_iB-HAAar"
      }
    },
    {
      "cell_type": "markdown",
      "source": [
        "Berikutnya, mari kita buat tabel perbandingan accuracy score."
      ],
      "metadata": {
        "id": "uEgaNbWfC_Kp"
      }
    },
    {
      "cell_type": "code",
      "source": [
        "pd.DataFrame({'Acuracy Score (Train)': [accuracy_score(y_train_enc,y_pred_train_lm), accuracy_score(y_train_enc,y_pred_train_svc_rbf_1),\n",
        "                                       accuracy_score(y_train_enc,y_pred_train_svc_rbf_100), accuracy_score(y_train_enc,y_pred_train_svc_lin_1),\n",
        "                                       accuracy_score(y_train_enc,y_pred_train_svc_lin_100), accuracy_score(y_train_enc,y_pred_train_svc_pol_1),\n",
        "                                        accuracy_score(y_train_enc,y_pred_train_svc_pol_100),], \n",
        "              'Acuracy Score (Test)': [accuracy_score(y_test_enc,y_pred_test_lm), accuracy_score(y_test_enc,y_pred_test_svc_rbf_1),\n",
        "                                       accuracy_score(y_test_enc,y_pred_test_svc_rbf_100), accuracy_score(y_test_enc,y_pred_test_svc_lin_1),\n",
        "                                       accuracy_score(y_test_enc,y_pred_test_svc_lin_100), accuracy_score(y_test_enc,y_pred_test_svc_pol_1),\n",
        "                                       accuracy_score(y_test_enc,y_pred_test_svc_pol_100)\n",
        "                                        ]}, index=['Logistic Regression','SVM, Kernel=rbf, C=1','SVM, Kernel=rbf, C=100',\n",
        "                                                   'SVM, Kernel=linear, C=1','SVM, Kernel=linear, C=100','SVM, Kernel=poly, C=1',\n",
        "                                                   'SVM, Kernel=poly, C=100'])\t\n"
      ],
      "metadata": {
        "colab": {
          "base_uri": "https://localhost:8080/",
          "height": 269
        },
        "id": "cv3ZtB51c-33",
        "outputId": "85abde92-1409-48b0-ed75-b9a5d8887c62"
      },
      "execution_count": null,
      "outputs": [
        {
          "output_type": "execute_result",
          "data": {
            "text/plain": [
              "                           Acuracy Score (Train)  Acuracy Score (Test)\n",
              "Logistic Regression                     0.840821              0.846675\n",
              "SVM, Kernel=rbf, C=1                    0.840946              0.842158\n",
              "SVM, Kernel=rbf, C=100                  0.849793              0.848934\n",
              "SVM, Kernel=linear, C=1                 0.839566              0.840903\n",
              "SVM, Kernel=linear, C=100               0.839566              0.840903\n",
              "SVM, Kernel=poly, C=1                   0.840068              0.840151\n",
              "SVM, Kernel=poly, C=100                 0.845715              0.844166"
            ],
            "text/html": [
              "\n",
              "  <div id=\"df-0ab82484-ce8a-4b5f-8cd3-caf60f55d79d\">\n",
              "    <div class=\"colab-df-container\">\n",
              "      <div>\n",
              "<style scoped>\n",
              "    .dataframe tbody tr th:only-of-type {\n",
              "        vertical-align: middle;\n",
              "    }\n",
              "\n",
              "    .dataframe tbody tr th {\n",
              "        vertical-align: top;\n",
              "    }\n",
              "\n",
              "    .dataframe thead th {\n",
              "        text-align: right;\n",
              "    }\n",
              "</style>\n",
              "<table border=\"1\" class=\"dataframe\">\n",
              "  <thead>\n",
              "    <tr style=\"text-align: right;\">\n",
              "      <th></th>\n",
              "      <th>Acuracy Score (Train)</th>\n",
              "      <th>Acuracy Score (Test)</th>\n",
              "    </tr>\n",
              "  </thead>\n",
              "  <tbody>\n",
              "    <tr>\n",
              "      <th>Logistic Regression</th>\n",
              "      <td>0.840821</td>\n",
              "      <td>0.846675</td>\n",
              "    </tr>\n",
              "    <tr>\n",
              "      <th>SVM, Kernel=rbf, C=1</th>\n",
              "      <td>0.840946</td>\n",
              "      <td>0.842158</td>\n",
              "    </tr>\n",
              "    <tr>\n",
              "      <th>SVM, Kernel=rbf, C=100</th>\n",
              "      <td>0.849793</td>\n",
              "      <td>0.848934</td>\n",
              "    </tr>\n",
              "    <tr>\n",
              "      <th>SVM, Kernel=linear, C=1</th>\n",
              "      <td>0.839566</td>\n",
              "      <td>0.840903</td>\n",
              "    </tr>\n",
              "    <tr>\n",
              "      <th>SVM, Kernel=linear, C=100</th>\n",
              "      <td>0.839566</td>\n",
              "      <td>0.840903</td>\n",
              "    </tr>\n",
              "    <tr>\n",
              "      <th>SVM, Kernel=poly, C=1</th>\n",
              "      <td>0.840068</td>\n",
              "      <td>0.840151</td>\n",
              "    </tr>\n",
              "    <tr>\n",
              "      <th>SVM, Kernel=poly, C=100</th>\n",
              "      <td>0.845715</td>\n",
              "      <td>0.844166</td>\n",
              "    </tr>\n",
              "  </tbody>\n",
              "</table>\n",
              "</div>\n",
              "      <button class=\"colab-df-convert\" onclick=\"convertToInteractive('df-0ab82484-ce8a-4b5f-8cd3-caf60f55d79d')\"\n",
              "              title=\"Convert this dataframe to an interactive table.\"\n",
              "              style=\"display:none;\">\n",
              "        \n",
              "  <svg xmlns=\"http://www.w3.org/2000/svg\" height=\"24px\"viewBox=\"0 0 24 24\"\n",
              "       width=\"24px\">\n",
              "    <path d=\"M0 0h24v24H0V0z\" fill=\"none\"/>\n",
              "    <path d=\"M18.56 5.44l.94 2.06.94-2.06 2.06-.94-2.06-.94-.94-2.06-.94 2.06-2.06.94zm-11 1L8.5 8.5l.94-2.06 2.06-.94-2.06-.94L8.5 2.5l-.94 2.06-2.06.94zm10 10l.94 2.06.94-2.06 2.06-.94-2.06-.94-.94-2.06-.94 2.06-2.06.94z\"/><path d=\"M17.41 7.96l-1.37-1.37c-.4-.4-.92-.59-1.43-.59-.52 0-1.04.2-1.43.59L10.3 9.45l-7.72 7.72c-.78.78-.78 2.05 0 2.83L4 21.41c.39.39.9.59 1.41.59.51 0 1.02-.2 1.41-.59l7.78-7.78 2.81-2.81c.8-.78.8-2.07 0-2.86zM5.41 20L4 18.59l7.72-7.72 1.47 1.35L5.41 20z\"/>\n",
              "  </svg>\n",
              "      </button>\n",
              "      \n",
              "  <style>\n",
              "    .colab-df-container {\n",
              "      display:flex;\n",
              "      flex-wrap:wrap;\n",
              "      gap: 12px;\n",
              "    }\n",
              "\n",
              "    .colab-df-convert {\n",
              "      background-color: #E8F0FE;\n",
              "      border: none;\n",
              "      border-radius: 50%;\n",
              "      cursor: pointer;\n",
              "      display: none;\n",
              "      fill: #1967D2;\n",
              "      height: 32px;\n",
              "      padding: 0 0 0 0;\n",
              "      width: 32px;\n",
              "    }\n",
              "\n",
              "    .colab-df-convert:hover {\n",
              "      background-color: #E2EBFA;\n",
              "      box-shadow: 0px 1px 2px rgba(60, 64, 67, 0.3), 0px 1px 3px 1px rgba(60, 64, 67, 0.15);\n",
              "      fill: #174EA6;\n",
              "    }\n",
              "\n",
              "    [theme=dark] .colab-df-convert {\n",
              "      background-color: #3B4455;\n",
              "      fill: #D2E3FC;\n",
              "    }\n",
              "\n",
              "    [theme=dark] .colab-df-convert:hover {\n",
              "      background-color: #434B5C;\n",
              "      box-shadow: 0px 1px 3px 1px rgba(0, 0, 0, 0.15);\n",
              "      filter: drop-shadow(0px 1px 2px rgba(0, 0, 0, 0.3));\n",
              "      fill: #FFFFFF;\n",
              "    }\n",
              "  </style>\n",
              "\n",
              "      <script>\n",
              "        const buttonEl =\n",
              "          document.querySelector('#df-0ab82484-ce8a-4b5f-8cd3-caf60f55d79d button.colab-df-convert');\n",
              "        buttonEl.style.display =\n",
              "          google.colab.kernel.accessAllowed ? 'block' : 'none';\n",
              "\n",
              "        async function convertToInteractive(key) {\n",
              "          const element = document.querySelector('#df-0ab82484-ce8a-4b5f-8cd3-caf60f55d79d');\n",
              "          const dataTable =\n",
              "            await google.colab.kernel.invokeFunction('convertToInteractive',\n",
              "                                                     [key], {});\n",
              "          if (!dataTable) return;\n",
              "\n",
              "          const docLinkHtml = 'Like what you see? Visit the ' +\n",
              "            '<a target=\"_blank\" href=https://colab.research.google.com/notebooks/data_table.ipynb>data table notebook</a>'\n",
              "            + ' to learn more about interactive tables.';\n",
              "          element.innerHTML = '';\n",
              "          dataTable['output_type'] = 'display_data';\n",
              "          await google.colab.output.renderOutput(dataTable, element);\n",
              "          const docLink = document.createElement('div');\n",
              "          docLink.innerHTML = docLinkHtml;\n",
              "          element.appendChild(docLink);\n",
              "        }\n",
              "      </script>\n",
              "    </div>\n",
              "  </div>\n",
              "  "
            ]
          },
          "metadata": {},
          "execution_count": 140
        }
      ]
    },
    {
      "cell_type": "markdown",
      "source": [
        "Sejalan dengan hasil analisa sebelumnya, nilai accuracy score untuk SVM kernel rbf dengan C=100 adalah yang tertinggi (0.848-0.849). Nilai accuracy score untuk SVM kernel linear adalah yang terendah (0.839-0.84)."
      ],
      "metadata": {
        "id": "6IsRVi0SDF8g"
      }
    },
    {
      "cell_type": "markdown",
      "source": [
        "# IX. Model Inference\n",
        "\n",
        "Model yang sudah dilatih akan dicoba pada data yang bukan termasuk ke dalam train-set ataupun test-set. Data ini harus dalam format yang asli, bukan data yang sudah di-scaled."
      ],
      "metadata": {
        "id": "HaOQ0daSorlH"
      }
    },
    {
      "cell_type": "markdown",
      "source": [
        "Langkah pertama adalah membuat sampel untuk dataset inference. Sampel akan menggunakan dataset original (df_1). Namun, dataset tsb harus menjalani encoding ulang untuk fitur kategorikal (OneHotEncoder) dan untuk target (LabelEncoder). Berikut ini adalah step-by-step untuk membuat sampel inference. Output akhir dari dataset inference adalah X_inf dan y_inf. Langkah2nya sama dengan proses sebelumnya"
      ],
      "metadata": {
        "id": "ad0VCIxW1p1P"
      }
    },
    {
      "cell_type": "code",
      "source": [
        "X_inf_num = df_1[['age','education_num','hours_per_week']]"
      ],
      "metadata": {
        "id": "KywS9I6QrmHm"
      },
      "execution_count": null,
      "outputs": []
    },
    {
      "cell_type": "code",
      "source": [
        "y_inf = df_1[['income_bracket']]"
      ],
      "metadata": {
        "id": "z8adUzKiw8hT"
      },
      "execution_count": null,
      "outputs": []
    },
    {
      "cell_type": "code",
      "source": [
        "wc_inf= df_1[['workclass']]\n",
        "ed_inf= df_1[['education']]\n",
        "ms_inf= df_1[['marital_status']]\n",
        "sx_inf= df_1[['sex']]"
      ],
      "metadata": {
        "id": "kRW-uUsMwdPv"
      },
      "execution_count": null,
      "outputs": []
    },
    {
      "cell_type": "code",
      "source": [
        "enc_wc_i = OneHotEncoder(sparse=False)\n",
        "enc_ed_i = OneHotEncoder(sparse=False)\n",
        "enc_ms_i = OneHotEncoder(sparse=False)\n",
        "enc_sx_i = OneHotEncoder(sparse=False)"
      ],
      "metadata": {
        "id": "C490kHiaxkSF"
      },
      "execution_count": null,
      "outputs": []
    },
    {
      "cell_type": "code",
      "source": [
        "wc_inf_ohe = enc_wc_i.fit_transform(wc_inf)\n",
        "ed_inf_ohe = enc_ed_i.fit_transform(ed_inf)\n",
        "ms_inf_ohe = enc_ms_i.fit_transform(ms_inf)\n",
        "sx_inf_ohe = enc_sx_i.fit_transform(sx_inf)"
      ],
      "metadata": {
        "id": "hBsCCpwJxvlx"
      },
      "execution_count": null,
      "outputs": []
    },
    {
      "cell_type": "code",
      "source": [
        "wc_inf_ohe_encoded = pd.DataFrame(wc_inf_ohe, columns=enc_wc_i.categories_)\n",
        "ed_inf_ohe_encoded = pd.DataFrame(ed_inf_ohe, columns=enc_ed_i.categories_)\n",
        "ms_inf_ohe_encoded = pd.DataFrame(ms_inf_ohe, columns=enc_ms_i.categories_)\n",
        "sx_inf_ohe_encoded = pd.DataFrame(sx_inf_ohe, columns=enc_sx_i.categories_)"
      ],
      "metadata": {
        "id": "1UbmcWLVyQz1"
      },
      "execution_count": null,
      "outputs": []
    },
    {
      "cell_type": "code",
      "source": [
        "wc_inf_ohe_encoded.reset_index(drop=True, inplace=True)\n",
        "ed_inf_ohe_encoded.reset_index(drop=True, inplace=True)\n",
        "ms_inf_ohe_encoded.reset_index(drop=True, inplace=True)\n",
        "sx_inf_ohe_encoded.reset_index(drop=True, inplace=True)"
      ],
      "metadata": {
        "id": "MMheOW9Myne4"
      },
      "execution_count": null,
      "outputs": []
    },
    {
      "cell_type": "code",
      "source": [
        "X_inf = pd.merge(X_inf_num, wc_inf_ohe_encoded, left_index=True, right_index=True)\n",
        "X_inf = pd.merge(X_inf, ed_inf_ohe_encoded, left_index=True, right_index=True)\n",
        "X_inf = pd.merge(X_inf, ms_inf_ohe_encoded, left_index=True, right_index=True)\n",
        "X_inf = pd.merge(X_inf, sx_inf_ohe_encoded, left_index=True, right_index=True)"
      ],
      "metadata": {
        "id": "qFAzviuPynJh"
      },
      "execution_count": null,
      "outputs": []
    },
    {
      "cell_type": "code",
      "source": [
        "leinf = LabelEncoder()\n",
        "leinf.fit(y_train)\n",
        "y_inf = leinf.transform(y_inf)"
      ],
      "metadata": {
        "colab": {
          "base_uri": "https://localhost:8080/"
        },
        "id": "5sWe7Cf2xSLf",
        "outputId": "ce68e8ae-8b3e-4555-bd9c-985716281443"
      },
      "execution_count": null,
      "outputs": [
        {
          "output_type": "stream",
          "name": "stderr",
          "text": [
            "/usr/local/lib/python3.7/dist-packages/sklearn/preprocessing/_label.py:133: DataConversionWarning: A column-vector y was passed when a 1d array was expected. Please change the shape of y to (n_samples, ), for example using ravel().\n",
            "  y = column_or_1d(y, warn=True)\n"
          ]
        }
      ]
    },
    {
      "cell_type": "code",
      "source": [
        "# Tampilkan dataset fitur inference X_inf\n",
        "X_inf.head()"
      ],
      "metadata": {
        "colab": {
          "base_uri": "https://localhost:8080/",
          "height": 305
        },
        "id": "U5ZEWIL22Xcy",
        "outputId": "69db6169-684c-40fb-8b94-ff8d5ca361fd"
      },
      "execution_count": null,
      "outputs": [
        {
          "output_type": "execute_result",
          "data": {
            "text/plain": [
              "   age  education_num  hours_per_week  ( Private,)  ( Public Servant,)  \\\n",
              "0   37              8              33          1.0                 0.0   \n",
              "1   39              9              54          0.0                 0.0   \n",
              "2   29              9              18          1.0                 0.0   \n",
              "3   64              9              21          1.0                 0.0   \n",
              "4   31              9              18          1.0                 0.0   \n",
              "\n",
              "   ( Self-employed,)  ( Bachelors,)  ( Doctorate,)  ( Masters,)  ( School,)  \\\n",
              "0                0.0            0.0            0.0          0.0         1.0   \n",
              "1                1.0            0.0            0.0          0.0         1.0   \n",
              "2                0.0            0.0            0.0          0.0         1.0   \n",
              "3                0.0            0.0            0.0          0.0         1.0   \n",
              "4                0.0            0.0            0.0          0.0         1.0   \n",
              "\n",
              "   ( Vocation,)  ( Married,)  ( Never-married,)  ( Previously Married,)  \\\n",
              "0           0.0          1.0                0.0                     0.0   \n",
              "1           0.0          1.0                0.0                     0.0   \n",
              "2           0.0          1.0                0.0                     0.0   \n",
              "3           0.0          1.0                0.0                     0.0   \n",
              "4           0.0          1.0                0.0                     0.0   \n",
              "\n",
              "   ( Female,)  ( Male,)  \n",
              "0         1.0       0.0  \n",
              "1         1.0       0.0  \n",
              "2         1.0       0.0  \n",
              "3         1.0       0.0  \n",
              "4         1.0       0.0  "
            ],
            "text/html": [
              "\n",
              "  <div id=\"df-32353dce-2cf8-4590-9940-b518c390aebb\">\n",
              "    <div class=\"colab-df-container\">\n",
              "      <div>\n",
              "<style scoped>\n",
              "    .dataframe tbody tr th:only-of-type {\n",
              "        vertical-align: middle;\n",
              "    }\n",
              "\n",
              "    .dataframe tbody tr th {\n",
              "        vertical-align: top;\n",
              "    }\n",
              "\n",
              "    .dataframe thead th {\n",
              "        text-align: right;\n",
              "    }\n",
              "</style>\n",
              "<table border=\"1\" class=\"dataframe\">\n",
              "  <thead>\n",
              "    <tr style=\"text-align: right;\">\n",
              "      <th></th>\n",
              "      <th>age</th>\n",
              "      <th>education_num</th>\n",
              "      <th>hours_per_week</th>\n",
              "      <th>( Private,)</th>\n",
              "      <th>( Public Servant,)</th>\n",
              "      <th>( Self-employed,)</th>\n",
              "      <th>( Bachelors,)</th>\n",
              "      <th>( Doctorate,)</th>\n",
              "      <th>( Masters,)</th>\n",
              "      <th>( School,)</th>\n",
              "      <th>( Vocation,)</th>\n",
              "      <th>( Married,)</th>\n",
              "      <th>( Never-married,)</th>\n",
              "      <th>( Previously Married,)</th>\n",
              "      <th>( Female,)</th>\n",
              "      <th>( Male,)</th>\n",
              "    </tr>\n",
              "  </thead>\n",
              "  <tbody>\n",
              "    <tr>\n",
              "      <th>0</th>\n",
              "      <td>37</td>\n",
              "      <td>8</td>\n",
              "      <td>33</td>\n",
              "      <td>1.0</td>\n",
              "      <td>0.0</td>\n",
              "      <td>0.0</td>\n",
              "      <td>0.0</td>\n",
              "      <td>0.0</td>\n",
              "      <td>0.0</td>\n",
              "      <td>1.0</td>\n",
              "      <td>0.0</td>\n",
              "      <td>1.0</td>\n",
              "      <td>0.0</td>\n",
              "      <td>0.0</td>\n",
              "      <td>1.0</td>\n",
              "      <td>0.0</td>\n",
              "    </tr>\n",
              "    <tr>\n",
              "      <th>1</th>\n",
              "      <td>39</td>\n",
              "      <td>9</td>\n",
              "      <td>54</td>\n",
              "      <td>0.0</td>\n",
              "      <td>0.0</td>\n",
              "      <td>1.0</td>\n",
              "      <td>0.0</td>\n",
              "      <td>0.0</td>\n",
              "      <td>0.0</td>\n",
              "      <td>1.0</td>\n",
              "      <td>0.0</td>\n",
              "      <td>1.0</td>\n",
              "      <td>0.0</td>\n",
              "      <td>0.0</td>\n",
              "      <td>1.0</td>\n",
              "      <td>0.0</td>\n",
              "    </tr>\n",
              "    <tr>\n",
              "      <th>2</th>\n",
              "      <td>29</td>\n",
              "      <td>9</td>\n",
              "      <td>18</td>\n",
              "      <td>1.0</td>\n",
              "      <td>0.0</td>\n",
              "      <td>0.0</td>\n",
              "      <td>0.0</td>\n",
              "      <td>0.0</td>\n",
              "      <td>0.0</td>\n",
              "      <td>1.0</td>\n",
              "      <td>0.0</td>\n",
              "      <td>1.0</td>\n",
              "      <td>0.0</td>\n",
              "      <td>0.0</td>\n",
              "      <td>1.0</td>\n",
              "      <td>0.0</td>\n",
              "    </tr>\n",
              "    <tr>\n",
              "      <th>3</th>\n",
              "      <td>64</td>\n",
              "      <td>9</td>\n",
              "      <td>21</td>\n",
              "      <td>1.0</td>\n",
              "      <td>0.0</td>\n",
              "      <td>0.0</td>\n",
              "      <td>0.0</td>\n",
              "      <td>0.0</td>\n",
              "      <td>0.0</td>\n",
              "      <td>1.0</td>\n",
              "      <td>0.0</td>\n",
              "      <td>1.0</td>\n",
              "      <td>0.0</td>\n",
              "      <td>0.0</td>\n",
              "      <td>1.0</td>\n",
              "      <td>0.0</td>\n",
              "    </tr>\n",
              "    <tr>\n",
              "      <th>4</th>\n",
              "      <td>31</td>\n",
              "      <td>9</td>\n",
              "      <td>18</td>\n",
              "      <td>1.0</td>\n",
              "      <td>0.0</td>\n",
              "      <td>0.0</td>\n",
              "      <td>0.0</td>\n",
              "      <td>0.0</td>\n",
              "      <td>0.0</td>\n",
              "      <td>1.0</td>\n",
              "      <td>0.0</td>\n",
              "      <td>1.0</td>\n",
              "      <td>0.0</td>\n",
              "      <td>0.0</td>\n",
              "      <td>1.0</td>\n",
              "      <td>0.0</td>\n",
              "    </tr>\n",
              "  </tbody>\n",
              "</table>\n",
              "</div>\n",
              "      <button class=\"colab-df-convert\" onclick=\"convertToInteractive('df-32353dce-2cf8-4590-9940-b518c390aebb')\"\n",
              "              title=\"Convert this dataframe to an interactive table.\"\n",
              "              style=\"display:none;\">\n",
              "        \n",
              "  <svg xmlns=\"http://www.w3.org/2000/svg\" height=\"24px\"viewBox=\"0 0 24 24\"\n",
              "       width=\"24px\">\n",
              "    <path d=\"M0 0h24v24H0V0z\" fill=\"none\"/>\n",
              "    <path d=\"M18.56 5.44l.94 2.06.94-2.06 2.06-.94-2.06-.94-.94-2.06-.94 2.06-2.06.94zm-11 1L8.5 8.5l.94-2.06 2.06-.94-2.06-.94L8.5 2.5l-.94 2.06-2.06.94zm10 10l.94 2.06.94-2.06 2.06-.94-2.06-.94-.94-2.06-.94 2.06-2.06.94z\"/><path d=\"M17.41 7.96l-1.37-1.37c-.4-.4-.92-.59-1.43-.59-.52 0-1.04.2-1.43.59L10.3 9.45l-7.72 7.72c-.78.78-.78 2.05 0 2.83L4 21.41c.39.39.9.59 1.41.59.51 0 1.02-.2 1.41-.59l7.78-7.78 2.81-2.81c.8-.78.8-2.07 0-2.86zM5.41 20L4 18.59l7.72-7.72 1.47 1.35L5.41 20z\"/>\n",
              "  </svg>\n",
              "      </button>\n",
              "      \n",
              "  <style>\n",
              "    .colab-df-container {\n",
              "      display:flex;\n",
              "      flex-wrap:wrap;\n",
              "      gap: 12px;\n",
              "    }\n",
              "\n",
              "    .colab-df-convert {\n",
              "      background-color: #E8F0FE;\n",
              "      border: none;\n",
              "      border-radius: 50%;\n",
              "      cursor: pointer;\n",
              "      display: none;\n",
              "      fill: #1967D2;\n",
              "      height: 32px;\n",
              "      padding: 0 0 0 0;\n",
              "      width: 32px;\n",
              "    }\n",
              "\n",
              "    .colab-df-convert:hover {\n",
              "      background-color: #E2EBFA;\n",
              "      box-shadow: 0px 1px 2px rgba(60, 64, 67, 0.3), 0px 1px 3px 1px rgba(60, 64, 67, 0.15);\n",
              "      fill: #174EA6;\n",
              "    }\n",
              "\n",
              "    [theme=dark] .colab-df-convert {\n",
              "      background-color: #3B4455;\n",
              "      fill: #D2E3FC;\n",
              "    }\n",
              "\n",
              "    [theme=dark] .colab-df-convert:hover {\n",
              "      background-color: #434B5C;\n",
              "      box-shadow: 0px 1px 3px 1px rgba(0, 0, 0, 0.15);\n",
              "      filter: drop-shadow(0px 1px 2px rgba(0, 0, 0, 0.3));\n",
              "      fill: #FFFFFF;\n",
              "    }\n",
              "  </style>\n",
              "\n",
              "      <script>\n",
              "        const buttonEl =\n",
              "          document.querySelector('#df-32353dce-2cf8-4590-9940-b518c390aebb button.colab-df-convert');\n",
              "        buttonEl.style.display =\n",
              "          google.colab.kernel.accessAllowed ? 'block' : 'none';\n",
              "\n",
              "        async function convertToInteractive(key) {\n",
              "          const element = document.querySelector('#df-32353dce-2cf8-4590-9940-b518c390aebb');\n",
              "          const dataTable =\n",
              "            await google.colab.kernel.invokeFunction('convertToInteractive',\n",
              "                                                     [key], {});\n",
              "          if (!dataTable) return;\n",
              "\n",
              "          const docLinkHtml = 'Like what you see? Visit the ' +\n",
              "            '<a target=\"_blank\" href=https://colab.research.google.com/notebooks/data_table.ipynb>data table notebook</a>'\n",
              "            + ' to learn more about interactive tables.';\n",
              "          element.innerHTML = '';\n",
              "          dataTable['output_type'] = 'display_data';\n",
              "          await google.colab.output.renderOutput(dataTable, element);\n",
              "          const docLink = document.createElement('div');\n",
              "          docLink.innerHTML = docLinkHtml;\n",
              "          element.appendChild(docLink);\n",
              "        }\n",
              "      </script>\n",
              "    </div>\n",
              "  </div>\n",
              "  "
            ]
          },
          "metadata": {},
          "execution_count": 150
        }
      ]
    },
    {
      "cell_type": "code",
      "source": [
        "# Tampilkan dataset target inference y_inf\n",
        "y_inf"
      ],
      "metadata": {
        "colab": {
          "base_uri": "https://localhost:8080/"
        },
        "id": "151ioBQI2ZoF",
        "outputId": "b0cb8c9d-e842-4983-de10-c96a890b7076"
      },
      "execution_count": null,
      "outputs": [
        {
          "output_type": "execute_result",
          "data": {
            "text/plain": [
              "array([0, 1, 0, ..., 0, 0, 1])"
            ]
          },
          "metadata": {},
          "execution_count": 151
        }
      ]
    },
    {
      "cell_type": "markdown",
      "source": [
        "Berikutnya adalah menggunakan model yang sebelumnya telah dibuat untuk memprediksi dataset inference"
      ],
      "metadata": {
        "id": "5dYxeYqf22Fp"
      }
    },
    {
      "cell_type": "code",
      "source": [
        "# Buat prediksi model logm pada dataset inference\n",
        "y_pred_lm_inf = logm.predict(X_inf)"
      ],
      "metadata": {
        "colab": {
          "base_uri": "https://localhost:8080/"
        },
        "id": "RUQwIcpfo6uB",
        "outputId": "3941fa04-fdee-4024-a2dd-aad1f11628c6"
      },
      "execution_count": null,
      "outputs": [
        {
          "output_type": "stream",
          "name": "stderr",
          "text": [
            "/usr/local/lib/python3.7/dist-packages/sklearn/utils/validation.py:1692: FutureWarning: Feature names only support names that are all strings. Got feature names with dtypes: ['str', 'tuple']. An error will be raised in 1.2.\n",
            "  FutureWarning,\n"
          ]
        }
      ]
    },
    {
      "cell_type": "code",
      "source": [
        "# Buat prediksi model SVM (kernel=rbf, C=1) pada dataset inference\n",
        "y_pred_svc_rbf_1_inf = svcrbf1.predict(X_inf)"
      ],
      "metadata": {
        "colab": {
          "base_uri": "https://localhost:8080/"
        },
        "id": "OV2i1hh-o_cF",
        "outputId": "f01f4a28-a68f-49c6-eb61-bc7af9628b59"
      },
      "execution_count": null,
      "outputs": [
        {
          "output_type": "stream",
          "name": "stderr",
          "text": [
            "/usr/local/lib/python3.7/dist-packages/sklearn/utils/validation.py:1692: FutureWarning: Feature names only support names that are all strings. Got feature names with dtypes: ['str', 'tuple']. An error will be raised in 1.2.\n",
            "  FutureWarning,\n"
          ]
        }
      ]
    },
    {
      "cell_type": "code",
      "source": [
        "# Buat prediksi model SVM (kernel=rbf, C=100) pada dataset inference\n",
        "y_pred_svc_rbf_100_inf = svcrbf100.predict(X_inf)"
      ],
      "metadata": {
        "colab": {
          "base_uri": "https://localhost:8080/"
        },
        "id": "A0aP3yL3pDxJ",
        "outputId": "7065643c-b92c-4163-f8ac-f82765e403e9"
      },
      "execution_count": null,
      "outputs": [
        {
          "output_type": "stream",
          "name": "stderr",
          "text": [
            "/usr/local/lib/python3.7/dist-packages/sklearn/utils/validation.py:1692: FutureWarning: Feature names only support names that are all strings. Got feature names with dtypes: ['str', 'tuple']. An error will be raised in 1.2.\n",
            "  FutureWarning,\n"
          ]
        }
      ]
    },
    {
      "cell_type": "code",
      "source": [
        "# Buat prediksi model SVM (kernel=linear, C=1) pada dataset inference\n",
        "y_pred_svc_lin_1_inf = svclin1.predict(X_inf)"
      ],
      "metadata": {
        "colab": {
          "base_uri": "https://localhost:8080/"
        },
        "id": "ZRXTDLyipGSX",
        "outputId": "b26b0cf3-3aef-4622-e34d-86cb3117139d"
      },
      "execution_count": null,
      "outputs": [
        {
          "output_type": "stream",
          "name": "stderr",
          "text": [
            "/usr/local/lib/python3.7/dist-packages/sklearn/utils/validation.py:1692: FutureWarning: Feature names only support names that are all strings. Got feature names with dtypes: ['str', 'tuple']. An error will be raised in 1.2.\n",
            "  FutureWarning,\n"
          ]
        }
      ]
    },
    {
      "cell_type": "code",
      "source": [
        "# Buat prediksi model SVM (kernel=linear, C=100) pada dataset inference\n",
        "y_pred_svc_lin_100_inf = svclin100.predict(X_inf)"
      ],
      "metadata": {
        "colab": {
          "base_uri": "https://localhost:8080/"
        },
        "id": "jSylJMo_pKdR",
        "outputId": "39d2dd4c-4cf2-4146-f1cd-c2ec418441b1"
      },
      "execution_count": null,
      "outputs": [
        {
          "output_type": "stream",
          "name": "stderr",
          "text": [
            "/usr/local/lib/python3.7/dist-packages/sklearn/utils/validation.py:1692: FutureWarning: Feature names only support names that are all strings. Got feature names with dtypes: ['str', 'tuple']. An error will be raised in 1.2.\n",
            "  FutureWarning,\n"
          ]
        }
      ]
    },
    {
      "cell_type": "code",
      "source": [
        "# Buat prediksi model SVM (kernel=poly, C=1) pada dataset inference\n",
        "y_pred_svc_pol_1_inf = svcpol1.predict(X_inf)"
      ],
      "metadata": {
        "colab": {
          "base_uri": "https://localhost:8080/"
        },
        "id": "YCPUKfJopOE2",
        "outputId": "22c85e52-9afe-4372-b203-2c6ee4d5703b"
      },
      "execution_count": null,
      "outputs": [
        {
          "output_type": "stream",
          "name": "stderr",
          "text": [
            "/usr/local/lib/python3.7/dist-packages/sklearn/utils/validation.py:1692: FutureWarning: Feature names only support names that are all strings. Got feature names with dtypes: ['str', 'tuple']. An error will be raised in 1.2.\n",
            "  FutureWarning,\n"
          ]
        }
      ]
    },
    {
      "cell_type": "code",
      "source": [
        "# Buat prediksi model SVM (kernel=poly, C=100) pada dataset inference\n",
        "y_pred_svc_pol_100_inf = svcpol100.predict(X_inf)"
      ],
      "metadata": {
        "colab": {
          "base_uri": "https://localhost:8080/"
        },
        "id": "uV58dI46pP9H",
        "outputId": "c319effc-1e27-49ea-e462-28a7f9c132dc"
      },
      "execution_count": null,
      "outputs": [
        {
          "output_type": "stream",
          "name": "stderr",
          "text": [
            "/usr/local/lib/python3.7/dist-packages/sklearn/utils/validation.py:1692: FutureWarning: Feature names only support names that are all strings. Got feature names with dtypes: ['str', 'tuple']. An error will be raised in 1.2.\n",
            "  FutureWarning,\n"
          ]
        }
      ]
    },
    {
      "cell_type": "markdown",
      "source": [
        "Hasil accuracy score pada berbagai model diatas yang diuji pada dataset inference akan ditambahkan ke tabel accuracy score berikut ini:"
      ],
      "metadata": {
        "id": "dPQbny4OD3IW"
      }
    },
    {
      "cell_type": "code",
      "source": [
        "pd.DataFrame({'Acuracy Score (Train)': [accuracy_score(y_train_enc,y_pred_train_lm), accuracy_score(y_train_enc,y_pred_train_svc_rbf_1),\n",
        "                                       accuracy_score(y_train_enc,y_pred_train_svc_rbf_100), accuracy_score(y_train_enc,y_pred_train_svc_lin_1),\n",
        "                                       accuracy_score(y_train_enc,y_pred_train_svc_lin_100), accuracy_score(y_train_enc,y_pred_train_svc_pol_1),\n",
        "                                        accuracy_score(y_train_enc,y_pred_train_svc_pol_100)], \n",
        "              'Acuracy Score (Test)': [accuracy_score(y_test_enc,y_pred_test_lm), accuracy_score(y_test_enc,y_pred_test_svc_rbf_1),\n",
        "                                       accuracy_score(y_test_enc,y_pred_test_svc_rbf_100), accuracy_score(y_test_enc,y_pred_test_svc_lin_1),\n",
        "                                       accuracy_score(y_test_enc,y_pred_test_svc_lin_100), accuracy_score(y_test_enc,y_pred_test_svc_pol_1),\n",
        "                                       accuracy_score(y_test_enc,y_pred_test_svc_pol_100)],\n",
        "             'Acuracy Score (Inference)': [accuracy_score(y_inf,y_pred_lm_inf), accuracy_score(y_inf,y_pred_svc_rbf_1_inf),\n",
        "                                       accuracy_score(y_inf,y_pred_svc_rbf_100_inf), accuracy_score(y_inf,y_pred_svc_lin_1_inf),\n",
        "                                       accuracy_score(y_inf,y_pred_svc_lin_100_inf), accuracy_score(y_inf,y_pred_svc_pol_1_inf),\n",
        "                                       accuracy_score(y_inf,y_pred_svc_pol_100_inf)\n",
        "                                        ]}, index=['Logistic Regression','SVM, Kernel=rbf, C=1','SVM, Kernel=rbf, C=100',\n",
        "                                                   'SVM, Kernel=linear, C=1','SVM, Kernel=linear, C=100','SVM, Kernel=poly, C=1',\n",
        "                                                   'SVM, Kernel=poly, C=100'])\t\n"
      ],
      "metadata": {
        "colab": {
          "base_uri": "https://localhost:8080/",
          "height": 269
        },
        "id": "J4rh_pxEperz",
        "outputId": "5246f4da-fabf-4f72-9c60-8ca71a581dc6"
      },
      "execution_count": null,
      "outputs": [
        {
          "output_type": "execute_result",
          "data": {
            "text/plain": [
              "                           Acuracy Score (Train)  Acuracy Score (Test)  \\\n",
              "Logistic Regression                     0.840821              0.846675   \n",
              "SVM, Kernel=rbf, C=1                    0.840946              0.842158   \n",
              "SVM, Kernel=rbf, C=100                  0.849793              0.848934   \n",
              "SVM, Kernel=linear, C=1                 0.839566              0.840903   \n",
              "SVM, Kernel=linear, C=100               0.839566              0.840903   \n",
              "SVM, Kernel=poly, C=1                   0.840068              0.840151   \n",
              "SVM, Kernel=poly, C=100                 0.845715              0.844166   \n",
              "\n",
              "                           Acuracy Score (Inference)  \n",
              "Logistic Regression                         0.198966  \n",
              "SVM, Kernel=rbf, C=1                        0.801034  \n",
              "SVM, Kernel=rbf, C=100                      0.801034  \n",
              "SVM, Kernel=linear, C=1                     0.198966  \n",
              "SVM, Kernel=linear, C=100                   0.198966  \n",
              "SVM, Kernel=poly, C=1                       0.801034  \n",
              "SVM, Kernel=poly, C=100                     0.800482  "
            ],
            "text/html": [
              "\n",
              "  <div id=\"df-973ae444-a275-4e93-988d-a71f3592f464\">\n",
              "    <div class=\"colab-df-container\">\n",
              "      <div>\n",
              "<style scoped>\n",
              "    .dataframe tbody tr th:only-of-type {\n",
              "        vertical-align: middle;\n",
              "    }\n",
              "\n",
              "    .dataframe tbody tr th {\n",
              "        vertical-align: top;\n",
              "    }\n",
              "\n",
              "    .dataframe thead th {\n",
              "        text-align: right;\n",
              "    }\n",
              "</style>\n",
              "<table border=\"1\" class=\"dataframe\">\n",
              "  <thead>\n",
              "    <tr style=\"text-align: right;\">\n",
              "      <th></th>\n",
              "      <th>Acuracy Score (Train)</th>\n",
              "      <th>Acuracy Score (Test)</th>\n",
              "      <th>Acuracy Score (Inference)</th>\n",
              "    </tr>\n",
              "  </thead>\n",
              "  <tbody>\n",
              "    <tr>\n",
              "      <th>Logistic Regression</th>\n",
              "      <td>0.840821</td>\n",
              "      <td>0.846675</td>\n",
              "      <td>0.198966</td>\n",
              "    </tr>\n",
              "    <tr>\n",
              "      <th>SVM, Kernel=rbf, C=1</th>\n",
              "      <td>0.840946</td>\n",
              "      <td>0.842158</td>\n",
              "      <td>0.801034</td>\n",
              "    </tr>\n",
              "    <tr>\n",
              "      <th>SVM, Kernel=rbf, C=100</th>\n",
              "      <td>0.849793</td>\n",
              "      <td>0.848934</td>\n",
              "      <td>0.801034</td>\n",
              "    </tr>\n",
              "    <tr>\n",
              "      <th>SVM, Kernel=linear, C=1</th>\n",
              "      <td>0.839566</td>\n",
              "      <td>0.840903</td>\n",
              "      <td>0.198966</td>\n",
              "    </tr>\n",
              "    <tr>\n",
              "      <th>SVM, Kernel=linear, C=100</th>\n",
              "      <td>0.839566</td>\n",
              "      <td>0.840903</td>\n",
              "      <td>0.198966</td>\n",
              "    </tr>\n",
              "    <tr>\n",
              "      <th>SVM, Kernel=poly, C=1</th>\n",
              "      <td>0.840068</td>\n",
              "      <td>0.840151</td>\n",
              "      <td>0.801034</td>\n",
              "    </tr>\n",
              "    <tr>\n",
              "      <th>SVM, Kernel=poly, C=100</th>\n",
              "      <td>0.845715</td>\n",
              "      <td>0.844166</td>\n",
              "      <td>0.800482</td>\n",
              "    </tr>\n",
              "  </tbody>\n",
              "</table>\n",
              "</div>\n",
              "      <button class=\"colab-df-convert\" onclick=\"convertToInteractive('df-973ae444-a275-4e93-988d-a71f3592f464')\"\n",
              "              title=\"Convert this dataframe to an interactive table.\"\n",
              "              style=\"display:none;\">\n",
              "        \n",
              "  <svg xmlns=\"http://www.w3.org/2000/svg\" height=\"24px\"viewBox=\"0 0 24 24\"\n",
              "       width=\"24px\">\n",
              "    <path d=\"M0 0h24v24H0V0z\" fill=\"none\"/>\n",
              "    <path d=\"M18.56 5.44l.94 2.06.94-2.06 2.06-.94-2.06-.94-.94-2.06-.94 2.06-2.06.94zm-11 1L8.5 8.5l.94-2.06 2.06-.94-2.06-.94L8.5 2.5l-.94 2.06-2.06.94zm10 10l.94 2.06.94-2.06 2.06-.94-2.06-.94-.94-2.06-.94 2.06-2.06.94z\"/><path d=\"M17.41 7.96l-1.37-1.37c-.4-.4-.92-.59-1.43-.59-.52 0-1.04.2-1.43.59L10.3 9.45l-7.72 7.72c-.78.78-.78 2.05 0 2.83L4 21.41c.39.39.9.59 1.41.59.51 0 1.02-.2 1.41-.59l7.78-7.78 2.81-2.81c.8-.78.8-2.07 0-2.86zM5.41 20L4 18.59l7.72-7.72 1.47 1.35L5.41 20z\"/>\n",
              "  </svg>\n",
              "      </button>\n",
              "      \n",
              "  <style>\n",
              "    .colab-df-container {\n",
              "      display:flex;\n",
              "      flex-wrap:wrap;\n",
              "      gap: 12px;\n",
              "    }\n",
              "\n",
              "    .colab-df-convert {\n",
              "      background-color: #E8F0FE;\n",
              "      border: none;\n",
              "      border-radius: 50%;\n",
              "      cursor: pointer;\n",
              "      display: none;\n",
              "      fill: #1967D2;\n",
              "      height: 32px;\n",
              "      padding: 0 0 0 0;\n",
              "      width: 32px;\n",
              "    }\n",
              "\n",
              "    .colab-df-convert:hover {\n",
              "      background-color: #E2EBFA;\n",
              "      box-shadow: 0px 1px 2px rgba(60, 64, 67, 0.3), 0px 1px 3px 1px rgba(60, 64, 67, 0.15);\n",
              "      fill: #174EA6;\n",
              "    }\n",
              "\n",
              "    [theme=dark] .colab-df-convert {\n",
              "      background-color: #3B4455;\n",
              "      fill: #D2E3FC;\n",
              "    }\n",
              "\n",
              "    [theme=dark] .colab-df-convert:hover {\n",
              "      background-color: #434B5C;\n",
              "      box-shadow: 0px 1px 3px 1px rgba(0, 0, 0, 0.15);\n",
              "      filter: drop-shadow(0px 1px 2px rgba(0, 0, 0, 0.3));\n",
              "      fill: #FFFFFF;\n",
              "    }\n",
              "  </style>\n",
              "\n",
              "      <script>\n",
              "        const buttonEl =\n",
              "          document.querySelector('#df-973ae444-a275-4e93-988d-a71f3592f464 button.colab-df-convert');\n",
              "        buttonEl.style.display =\n",
              "          google.colab.kernel.accessAllowed ? 'block' : 'none';\n",
              "\n",
              "        async function convertToInteractive(key) {\n",
              "          const element = document.querySelector('#df-973ae444-a275-4e93-988d-a71f3592f464');\n",
              "          const dataTable =\n",
              "            await google.colab.kernel.invokeFunction('convertToInteractive',\n",
              "                                                     [key], {});\n",
              "          if (!dataTable) return;\n",
              "\n",
              "          const docLinkHtml = 'Like what you see? Visit the ' +\n",
              "            '<a target=\"_blank\" href=https://colab.research.google.com/notebooks/data_table.ipynb>data table notebook</a>'\n",
              "            + ' to learn more about interactive tables.';\n",
              "          element.innerHTML = '';\n",
              "          dataTable['output_type'] = 'display_data';\n",
              "          await google.colab.output.renderOutput(dataTable, element);\n",
              "          const docLink = document.createElement('div');\n",
              "          docLink.innerHTML = docLinkHtml;\n",
              "          element.appendChild(docLink);\n",
              "        }\n",
              "      </script>\n",
              "    </div>\n",
              "  </div>\n",
              "  "
            ]
          },
          "metadata": {},
          "execution_count": 159
        }
      ]
    },
    {
      "cell_type": "markdown",
      "source": [
        "Hasil diatas cukup mengejutkan dimana accuracy score hasil inference selalu lebih rendah (0.80) dengan accuracy score pada training dan testing set pada setiap model. Yg paling parah adalah pada model logistic regression dan SVM kernel linear karena nilai accuracy score drop ke angka 0.198 ketika model diuji pada inference set. Hal ini mengindikasikan persebaran data pada dataset census_adult_income tidak dapat dipisahkan menggunakan linear hyperplane, namun lebih cocok menggunakan polynomial atau radial hyperplane. Pada persebaran data seperti ini, meningkatkan nilai C akan bermanfaat pada model SVM rbf dan polynomial karena nilai C meningkatkan kadar regularization dengan nilai C yg lebih tinggi akan membuat margin SVM semakin pendek. Namun, secara keseluruhan model mengalami overfitting krn hasil accuracy score pada inference set lebih rendah, dimana tingkat overfit paling parah terjadi pada model logistic regression dan SVM kernel linear."
      ],
      "metadata": {
        "id": "jtycncDEEHU6"
      }
    },
    {
      "cell_type": "markdown",
      "source": [
        "# X. Kesimpulan\n",
        "\n",
        "Pada bagian terakhir ini, harus berisi kesimpulan yang mencerminkan hasil yang didapat dengan objective yang sudah ditulis di bagian pengenalan."
      ],
      "metadata": {
        "id": "SQbg9r60ownw"
      }
    },
    {
      "cell_type": "markdown",
      "source": [
        "Analisa dan prediksi pada dataset census_adult_income telah berhasil dilaksanakan. Setelah melalui personal judgement dan uji korelasi Chi-Square, jumlah fitur dikurangi menjadi 7, terdiri dari 4 fitur kategorikal (workclass, education, marital_status, sex) dan 3 fitur numerik (age, education_num, hours_per_week). Fitur kategorikal diubah nilainya menggunakan OHE, karena OHE mengubah label menjadi angka biner, sehingga tidak terjadi pembobotan pada label tertentu. Scaling pada data numerik menggunakan MinMaxScaler, karena menghasilkan scale antara 0-1. Pemodelan dilakukan menggunakan metode Logistic Regression dan SVM dengan variasi hyperparameter kernel rbf, linear dan polynomial serta C=1 dan C=100.\n",
        "\n",
        "Secara keseluruhan, nilai f1-score untuk label 0 (income < 50K) selalu lebih besar dibandingkan nilai f-score untuk label 1 (income => 50K). Perbandingan nilai f-score untuk label 0 adalah antara 0,8-0,9 dan nilai f-score untuk label 1 adalah antara 0,4-0,5. Artinya model Logistic Regression dan SVM jauh lebih baik dalam memprediksi income dengan nilai < 50K dibandingkan income dengan nilai => 50K. \n",
        "\n",
        "Nilai terbaik pada Confusion Matrix berada pada skor recall untuk label 0 dan precision untuk label 0. Angka untuk label 0 untuk recall (kisaran 0,9) dan untuk precision (kisaran 0,8) sangatlah baik. Di sisi lain, nilai terburuk secara konsisten berada pada skor recall pada label 1 (kisaran 0,4) dibandingkan skor precision pada label 1 (kisaran 0,6)."
      ],
      "metadata": {
        "id": "cWyMMPnkGKrd"
      }
    },
    {
      "cell_type": "markdown",
      "source": [
        "Dilihat dari nilai macro-average, model dengan nilai terbaik adalah SVM kernel rbf dan C=100 dengan skor 0.74. Namun, skor ini tidak berbeda jauh dengan model Logistic Regression dan model2 SVM lainnya karena range model2 tsb berada pada 0.7-0.73. Secara umum nilai macro-average pada training set dan testing set juga hampir sama. Penggunaan hyperparameter C pada SVM berpengaruh hanya pada kernel rbf dan polynomial. Peningkatan nilai C dari 1 ke 100 cenderung memperbaiki nilai macro-average, namun hal ini diimbangi dengan waktu training dan prediksi model yang jauh lebih lama pada nilai C=100. \n",
        "\n",
        "Model SVM kernel linear adalah model dengan performance terburuk secara macro-average dengan nilai 0,7. Performa tsb tidak dipengaruhi oleh pemilihan nilai C. Bahkan model Logistic regression yg lebih sederhana masih memiliki performance yg sedikit lebih baik daripada model SVM linear.\n",
        "\n",
        "Nilai accuracy score untuk SVM kernel rbf dengan C=100 adalah yang tertinggi (0.848-0.849). Nilai accuracy score untuk SVM kernel linear adalah yang terendah (0.839-0.84). Meskipun kedua hasil ini cukup baik karena masih berada diatas 0,8, model perlu diuji pada inference set untuk mengetahui apakah nilai tersebut konsisten.\n",
        "\n",
        "Setelah diuji pada inference set, rupanya terjadi penurunan accuracy score menjadi 0.8 pada model SVM kernel rbf dan polynomial. Penurunan paling parah terjadi pada model Logistic Regression dan SVM kernel linear dimana angka accuracy score drop menjadi 0.198 ketika model diuji pada inference set. Hasil2 ini mengindikasikan 2 kesimpulan penting:\n",
        "1. Model mengalami overfitting dimana skor pada training dan testing set selalu lebih tinggi dibandingkan dengan inference set. Kondisi ini juga dibuktikan dengan f-1 score untuk label 0 yang selalu lebih besar dibanding untuk label 1, sementara dataset mengandung 80% data target termasuk ke dalam label 0.\n",
        "\n",
        "2. Model dengan hyperplane linear seperti Linear Logistic dan SVM kernel linear tidak cocok untuk diterapkan pada dataset ini, karena karakteristik persebaran data cenderung dipisahkan dengan garis yang polynomial in nature. Hal ini dibuktikan dengan skore model SVM kernel rbf dan polynomial yang selalu lebih tinggi baik di training set, testing set dan inference set. Oleh karena itu, meningkatkan hyperparameter C akan meningkatkan performance kedua jenis model ini, meskipun meningkatkan nilai C akan membuat waktu training dan prediction model menjadi jauh lebih lama.\n",
        "\n"
      ],
      "metadata": {
        "id": "61iQ7ga3GSUO"
      }
    },
    {
      "cell_type": "markdown",
      "source": [
        "# Pertanyaan\n",
        "\n",
        "1. Apakah yang dimaksud dengan coeficient pada logistic regression?\n",
        "\n",
        "Koefisien adalah pengali (Bn) pada variabel (xn) pada rumus regresi logistik:\n",
        "\n",
        "![Logistic regression.png](data:image/png;base64,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)\n",
        "\n",
        "Rumus logistic regression diatas menentukan probabilitas (p) apakah klasifikasi termasuk label 1 atau 0. Jika p diatas 0.5, dapat dikatakan label akan diprediksi sebagai label 1.\n",
        "2. Apakah yang dimaksud dengan Support Vector pada SVM?\n",
        "\n",
        "Support vector adalah titik2 di sekitar hyperplane yang menentukan posisi dan orientasi dari hyperplane tsb\n",
        "3. Apakah fungsi parameter kernel pada SVM? Jelaskan salah satu kernel yang kalian pahami!\n",
        "\n",
        "Kernel adalah fungsi matematika yang digunakan SVM untuk memecahkan problem klasifikasi. Contohnya, kernel linear akan menghasilkan solusi berbentuk hyperplane yang linear untuk mengklasifikasikan masing2 label. Sebaliknya, kernel radial akan men-transform data menjadi dimensi yang lebih besar, sehingga problem klasifikasi bisa dipecahkan. Kernel polynomial akan menghasilkan solusi hyperplane yang berbentuk polynomial (melengkung). Fungsi dari parameter kernel adalah untuk membentuk garis pembatas hyperplane untuk memisahkan data menjadi klasifikasi yg berbeda."
      ],
      "metadata": {
        "id": "y0g3fqtCN5fn"
      }
    }
  ]
}