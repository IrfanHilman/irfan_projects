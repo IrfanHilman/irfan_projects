{
  "nbformat": 4,
  "nbformat_minor": 0,
  "metadata": {
    "colab": {
      "provenance": [],
      "collapsed_sections": [
        "YU1vxCUTqfMX",
        "vyOQrgyaqiBo",
        "feHh9P8nqmyU",
        "dDsVzxnn2nRR",
        "1RWdFi0MqxBw",
        "U6_L7esOq1iE",
        "-EtXVOCCUbn7"
      ]
    },
    "kernelspec": {
      "name": "python3",
      "display_name": "Python 3"
    },
    "language_info": {
      "name": "python"
    },
    "accelerator": "GPU",
    "gpuClass": "standard"
  },
  "cells": [
    {
      "cell_type": "markdown",
      "source": [
        "Muhammad Irfan Hilman\n",
        "\n",
        "FTDS Batch 16"
      ],
      "metadata": {
        "id": "eAZWfA6tSthB"
      }
    },
    {
      "cell_type": "markdown",
      "source": [
        "# I. Perkenalan"
      ],
      "metadata": {
        "id": "xlUPs_uoqbxJ"
      }
    },
    {
      "cell_type": "markdown",
      "source": [
        "Pada project kali ini saya akan membuat model deep learning untuk memprediksi customer churn pada perusahaan telekomunikasi. Dataset yg digunakan bersumber dari https://www.kaggle.com/datasets/blastchar/telco-customer-churn. Pemodelan ANN dilakukan menggunakan metode Sequential API dan Functional API. Pipeline dari library TensorFlow digunakan untuk membantu proses batch, repeat dan shuffle data.\n",
        "\n",
        "Problem Statement:\n",
        "\n",
        "1. Melakukan exploratory data analysis (EDA) terhadap dataset telco customer churn\n",
        "\n",
        "2. Membuat pipeline TensorFlow utk loading data berukuran besar\n",
        "\n",
        "2. Membuat prediksi customer churn dengan menggunakan model artificial neural network (ANN) dgn metode Sequential API dan Functional API\n",
        "\n",
        "3. Melakukan evaluasi performance model dan menarik kesimpulan\n",
        "\n",
        "Pengerjaan akan dilakukan menggunakan Google Colab"
      ],
      "metadata": {
        "id": "SDxJVfeIrFCv"
      }
    },
    {
      "cell_type": "markdown",
      "source": [
        "# II. Import Libraries"
      ],
      "metadata": {
        "id": "YU1vxCUTqfMX"
      }
    },
    {
      "cell_type": "markdown",
      "source": [
        "Cell pertama pada notebook harus berisi dan hanya berisi semua library yang digunakan dalam project."
      ],
      "metadata": {
        "id": "IWSrVbbwrKik"
      }
    },
    {
      "cell_type": "code",
      "source": [
        "# Import Libraries\n",
        "\n",
        "import pandas as pd\n",
        "import numpy as np\n",
        "import matplotlib.pyplot as plt\n",
        "import seaborn as sns\n",
        "import tensorflow as tf\n",
        "import joblib\n",
        "\n",
        "from sklearn.model_selection import train_test_split\n",
        "from sklearn.pipeline import make_pipeline\n",
        "from sklearn.compose import ColumnTransformer\n",
        "from sklearn.preprocessing import OneHotEncoder, MinMaxScaler\n",
        "from sklearn.feature_selection import chi2\n",
        "from scipy.stats import chi2_contingency\n",
        "from sklearn.impute import SimpleImputer\n",
        "from sklearn.metrics import accuracy_score, classification_report\n",
        "from imblearn.over_sampling import SMOTE\n",
        "from tensorflow.keras.models import Sequential\n",
        "from tensorflow.keras.layers import Dense, Input, concatenate, BatchNormalization, Dropout\n",
        "from tensorflow.keras import Model\n",
        "from tensorflow.keras.models import load_model\n",
        "\n",
        "# Terapkan random_seed agar hasil modelling tdk berubah2\n",
        "np.random.seed(50)\n",
        "tf.random.set_seed(50)"
      ],
      "metadata": {
        "id": "UhnAYuifr_PT"
      },
      "execution_count": 36,
      "outputs": []
    },
    {
      "cell_type": "markdown",
      "source": [
        "# III. Data Loading"
      ],
      "metadata": {
        "id": "vyOQrgyaqiBo"
      }
    },
    {
      "cell_type": "markdown",
      "source": [
        "Bagian ini berisi proses penyiapan data sebelum dilakukan eksplorasi data lebih lanjut. Proses Data Loading dapat berupa memberi nama baru untuk setiap kolom, mengecek ukuran dataset, dll."
      ],
      "metadata": {
        "id": "Ku8KJGAcrMzY"
      }
    },
    {
      "cell_type": "code",
      "source": [
        "# Data Loading\n",
        "df = pd.read_csv('https://raw.githubusercontent.com/IrfanHilman/FTDS_Hacktiv8_Batch_16/main/WA_Fn-UseC_-Telco-Customer-Churn.csv')"
      ],
      "metadata": {
        "id": "0tqwHiY-tpta"
      },
      "execution_count": 37,
      "outputs": []
    },
    {
      "cell_type": "code",
      "source": [
        "# Gunakan options untuk menampilkan semua kolom\n",
        "pd.options.display.max_columns = None\n",
        "\n",
        "# Tampilkan 5 baris pertama df\n",
        "df.head()"
      ],
      "metadata": {
        "colab": {
          "base_uri": "https://localhost:8080/",
          "height": 0
        },
        "id": "52TOYMYruHgG",
        "outputId": "f7bc5729-6caf-4f64-9038-5d586927f431"
      },
      "execution_count": 38,
      "outputs": [
        {
          "output_type": "execute_result",
          "data": {
            "text/plain": [
              "   customerID  gender  SeniorCitizen Partner Dependents  tenure PhoneService  \\\n",
              "0  7590-VHVEG  Female              0     Yes         No       1           No   \n",
              "1  5575-GNVDE    Male              0      No         No      34          Yes   \n",
              "2  3668-QPYBK    Male              0      No         No       2          Yes   \n",
              "3  7795-CFOCW    Male              0      No         No      45           No   \n",
              "4  9237-HQITU  Female              0      No         No       2          Yes   \n",
              "\n",
              "      MultipleLines InternetService OnlineSecurity OnlineBackup  \\\n",
              "0  No phone service             DSL             No          Yes   \n",
              "1                No             DSL            Yes           No   \n",
              "2                No             DSL            Yes          Yes   \n",
              "3  No phone service             DSL            Yes           No   \n",
              "4                No     Fiber optic             No           No   \n",
              "\n",
              "  DeviceProtection TechSupport StreamingTV StreamingMovies        Contract  \\\n",
              "0               No          No          No              No  Month-to-month   \n",
              "1              Yes          No          No              No        One year   \n",
              "2               No          No          No              No  Month-to-month   \n",
              "3              Yes         Yes          No              No        One year   \n",
              "4               No          No          No              No  Month-to-month   \n",
              "\n",
              "  PaperlessBilling              PaymentMethod  MonthlyCharges TotalCharges  \\\n",
              "0              Yes           Electronic check           29.85        29.85   \n",
              "1               No               Mailed check           56.95       1889.5   \n",
              "2              Yes               Mailed check           53.85       108.15   \n",
              "3               No  Bank transfer (automatic)           42.30      1840.75   \n",
              "4              Yes           Electronic check           70.70       151.65   \n",
              "\n",
              "  Churn  \n",
              "0    No  \n",
              "1    No  \n",
              "2   Yes  \n",
              "3    No  \n",
              "4   Yes  "
            ],
            "text/html": [
              "\n",
              "  <div id=\"df-44104da5-0f9e-4e79-9a9c-d29ce2fd0b6c\">\n",
              "    <div class=\"colab-df-container\">\n",
              "      <div>\n",
              "<style scoped>\n",
              "    .dataframe tbody tr th:only-of-type {\n",
              "        vertical-align: middle;\n",
              "    }\n",
              "\n",
              "    .dataframe tbody tr th {\n",
              "        vertical-align: top;\n",
              "    }\n",
              "\n",
              "    .dataframe thead th {\n",
              "        text-align: right;\n",
              "    }\n",
              "</style>\n",
              "<table border=\"1\" class=\"dataframe\">\n",
              "  <thead>\n",
              "    <tr style=\"text-align: right;\">\n",
              "      <th></th>\n",
              "      <th>customerID</th>\n",
              "      <th>gender</th>\n",
              "      <th>SeniorCitizen</th>\n",
              "      <th>Partner</th>\n",
              "      <th>Dependents</th>\n",
              "      <th>tenure</th>\n",
              "      <th>PhoneService</th>\n",
              "      <th>MultipleLines</th>\n",
              "      <th>InternetService</th>\n",
              "      <th>OnlineSecurity</th>\n",
              "      <th>OnlineBackup</th>\n",
              "      <th>DeviceProtection</th>\n",
              "      <th>TechSupport</th>\n",
              "      <th>StreamingTV</th>\n",
              "      <th>StreamingMovies</th>\n",
              "      <th>Contract</th>\n",
              "      <th>PaperlessBilling</th>\n",
              "      <th>PaymentMethod</th>\n",
              "      <th>MonthlyCharges</th>\n",
              "      <th>TotalCharges</th>\n",
              "      <th>Churn</th>\n",
              "    </tr>\n",
              "  </thead>\n",
              "  <tbody>\n",
              "    <tr>\n",
              "      <th>0</th>\n",
              "      <td>7590-VHVEG</td>\n",
              "      <td>Female</td>\n",
              "      <td>0</td>\n",
              "      <td>Yes</td>\n",
              "      <td>No</td>\n",
              "      <td>1</td>\n",
              "      <td>No</td>\n",
              "      <td>No phone service</td>\n",
              "      <td>DSL</td>\n",
              "      <td>No</td>\n",
              "      <td>Yes</td>\n",
              "      <td>No</td>\n",
              "      <td>No</td>\n",
              "      <td>No</td>\n",
              "      <td>No</td>\n",
              "      <td>Month-to-month</td>\n",
              "      <td>Yes</td>\n",
              "      <td>Electronic check</td>\n",
              "      <td>29.85</td>\n",
              "      <td>29.85</td>\n",
              "      <td>No</td>\n",
              "    </tr>\n",
              "    <tr>\n",
              "      <th>1</th>\n",
              "      <td>5575-GNVDE</td>\n",
              "      <td>Male</td>\n",
              "      <td>0</td>\n",
              "      <td>No</td>\n",
              "      <td>No</td>\n",
              "      <td>34</td>\n",
              "      <td>Yes</td>\n",
              "      <td>No</td>\n",
              "      <td>DSL</td>\n",
              "      <td>Yes</td>\n",
              "      <td>No</td>\n",
              "      <td>Yes</td>\n",
              "      <td>No</td>\n",
              "      <td>No</td>\n",
              "      <td>No</td>\n",
              "      <td>One year</td>\n",
              "      <td>No</td>\n",
              "      <td>Mailed check</td>\n",
              "      <td>56.95</td>\n",
              "      <td>1889.5</td>\n",
              "      <td>No</td>\n",
              "    </tr>\n",
              "    <tr>\n",
              "      <th>2</th>\n",
              "      <td>3668-QPYBK</td>\n",
              "      <td>Male</td>\n",
              "      <td>0</td>\n",
              "      <td>No</td>\n",
              "      <td>No</td>\n",
              "      <td>2</td>\n",
              "      <td>Yes</td>\n",
              "      <td>No</td>\n",
              "      <td>DSL</td>\n",
              "      <td>Yes</td>\n",
              "      <td>Yes</td>\n",
              "      <td>No</td>\n",
              "      <td>No</td>\n",
              "      <td>No</td>\n",
              "      <td>No</td>\n",
              "      <td>Month-to-month</td>\n",
              "      <td>Yes</td>\n",
              "      <td>Mailed check</td>\n",
              "      <td>53.85</td>\n",
              "      <td>108.15</td>\n",
              "      <td>Yes</td>\n",
              "    </tr>\n",
              "    <tr>\n",
              "      <th>3</th>\n",
              "      <td>7795-CFOCW</td>\n",
              "      <td>Male</td>\n",
              "      <td>0</td>\n",
              "      <td>No</td>\n",
              "      <td>No</td>\n",
              "      <td>45</td>\n",
              "      <td>No</td>\n",
              "      <td>No phone service</td>\n",
              "      <td>DSL</td>\n",
              "      <td>Yes</td>\n",
              "      <td>No</td>\n",
              "      <td>Yes</td>\n",
              "      <td>Yes</td>\n",
              "      <td>No</td>\n",
              "      <td>No</td>\n",
              "      <td>One year</td>\n",
              "      <td>No</td>\n",
              "      <td>Bank transfer (automatic)</td>\n",
              "      <td>42.30</td>\n",
              "      <td>1840.75</td>\n",
              "      <td>No</td>\n",
              "    </tr>\n",
              "    <tr>\n",
              "      <th>4</th>\n",
              "      <td>9237-HQITU</td>\n",
              "      <td>Female</td>\n",
              "      <td>0</td>\n",
              "      <td>No</td>\n",
              "      <td>No</td>\n",
              "      <td>2</td>\n",
              "      <td>Yes</td>\n",
              "      <td>No</td>\n",
              "      <td>Fiber optic</td>\n",
              "      <td>No</td>\n",
              "      <td>No</td>\n",
              "      <td>No</td>\n",
              "      <td>No</td>\n",
              "      <td>No</td>\n",
              "      <td>No</td>\n",
              "      <td>Month-to-month</td>\n",
              "      <td>Yes</td>\n",
              "      <td>Electronic check</td>\n",
              "      <td>70.70</td>\n",
              "      <td>151.65</td>\n",
              "      <td>Yes</td>\n",
              "    </tr>\n",
              "  </tbody>\n",
              "</table>\n",
              "</div>\n",
              "      <button class=\"colab-df-convert\" onclick=\"convertToInteractive('df-44104da5-0f9e-4e79-9a9c-d29ce2fd0b6c')\"\n",
              "              title=\"Convert this dataframe to an interactive table.\"\n",
              "              style=\"display:none;\">\n",
              "        \n",
              "  <svg xmlns=\"http://www.w3.org/2000/svg\" height=\"24px\"viewBox=\"0 0 24 24\"\n",
              "       width=\"24px\">\n",
              "    <path d=\"M0 0h24v24H0V0z\" fill=\"none\"/>\n",
              "    <path d=\"M18.56 5.44l.94 2.06.94-2.06 2.06-.94-2.06-.94-.94-2.06-.94 2.06-2.06.94zm-11 1L8.5 8.5l.94-2.06 2.06-.94-2.06-.94L8.5 2.5l-.94 2.06-2.06.94zm10 10l.94 2.06.94-2.06 2.06-.94-2.06-.94-.94-2.06-.94 2.06-2.06.94z\"/><path d=\"M17.41 7.96l-1.37-1.37c-.4-.4-.92-.59-1.43-.59-.52 0-1.04.2-1.43.59L10.3 9.45l-7.72 7.72c-.78.78-.78 2.05 0 2.83L4 21.41c.39.39.9.59 1.41.59.51 0 1.02-.2 1.41-.59l7.78-7.78 2.81-2.81c.8-.78.8-2.07 0-2.86zM5.41 20L4 18.59l7.72-7.72 1.47 1.35L5.41 20z\"/>\n",
              "  </svg>\n",
              "      </button>\n",
              "      \n",
              "  <style>\n",
              "    .colab-df-container {\n",
              "      display:flex;\n",
              "      flex-wrap:wrap;\n",
              "      gap: 12px;\n",
              "    }\n",
              "\n",
              "    .colab-df-convert {\n",
              "      background-color: #E8F0FE;\n",
              "      border: none;\n",
              "      border-radius: 50%;\n",
              "      cursor: pointer;\n",
              "      display: none;\n",
              "      fill: #1967D2;\n",
              "      height: 32px;\n",
              "      padding: 0 0 0 0;\n",
              "      width: 32px;\n",
              "    }\n",
              "\n",
              "    .colab-df-convert:hover {\n",
              "      background-color: #E2EBFA;\n",
              "      box-shadow: 0px 1px 2px rgba(60, 64, 67, 0.3), 0px 1px 3px 1px rgba(60, 64, 67, 0.15);\n",
              "      fill: #174EA6;\n",
              "    }\n",
              "\n",
              "    [theme=dark] .colab-df-convert {\n",
              "      background-color: #3B4455;\n",
              "      fill: #D2E3FC;\n",
              "    }\n",
              "\n",
              "    [theme=dark] .colab-df-convert:hover {\n",
              "      background-color: #434B5C;\n",
              "      box-shadow: 0px 1px 3px 1px rgba(0, 0, 0, 0.15);\n",
              "      filter: drop-shadow(0px 1px 2px rgba(0, 0, 0, 0.3));\n",
              "      fill: #FFFFFF;\n",
              "    }\n",
              "  </style>\n",
              "\n",
              "      <script>\n",
              "        const buttonEl =\n",
              "          document.querySelector('#df-44104da5-0f9e-4e79-9a9c-d29ce2fd0b6c button.colab-df-convert');\n",
              "        buttonEl.style.display =\n",
              "          google.colab.kernel.accessAllowed ? 'block' : 'none';\n",
              "\n",
              "        async function convertToInteractive(key) {\n",
              "          const element = document.querySelector('#df-44104da5-0f9e-4e79-9a9c-d29ce2fd0b6c');\n",
              "          const dataTable =\n",
              "            await google.colab.kernel.invokeFunction('convertToInteractive',\n",
              "                                                     [key], {});\n",
              "          if (!dataTable) return;\n",
              "\n",
              "          const docLinkHtml = 'Like what you see? Visit the ' +\n",
              "            '<a target=\"_blank\" href=https://colab.research.google.com/notebooks/data_table.ipynb>data table notebook</a>'\n",
              "            + ' to learn more about interactive tables.';\n",
              "          element.innerHTML = '';\n",
              "          dataTable['output_type'] = 'display_data';\n",
              "          await google.colab.output.renderOutput(dataTable, element);\n",
              "          const docLink = document.createElement('div');\n",
              "          docLink.innerHTML = docLinkHtml;\n",
              "          element.appendChild(docLink);\n",
              "        }\n",
              "      </script>\n",
              "    </div>\n",
              "  </div>\n",
              "  "
            ]
          },
          "metadata": {},
          "execution_count": 38
        }
      ]
    },
    {
      "cell_type": "code",
      "source": [
        "# Tampilkan 5 baris terakhir df\n",
        "df.tail()"
      ],
      "metadata": {
        "colab": {
          "base_uri": "https://localhost:8080/",
          "height": 0
        },
        "id": "M4zaN92CuUa7",
        "outputId": "af523f87-99e7-4a11-e01f-f3f2cd8da62b"
      },
      "execution_count": 39,
      "outputs": [
        {
          "output_type": "execute_result",
          "data": {
            "text/plain": [
              "      customerID  gender  SeniorCitizen Partner Dependents  tenure  \\\n",
              "7038  6840-RESVB    Male              0     Yes        Yes      24   \n",
              "7039  2234-XADUH  Female              0     Yes        Yes      72   \n",
              "7040  4801-JZAZL  Female              0     Yes        Yes      11   \n",
              "7041  8361-LTMKD    Male              1     Yes         No       4   \n",
              "7042  3186-AJIEK    Male              0      No         No      66   \n",
              "\n",
              "     PhoneService     MultipleLines InternetService OnlineSecurity  \\\n",
              "7038          Yes               Yes             DSL            Yes   \n",
              "7039          Yes               Yes     Fiber optic             No   \n",
              "7040           No  No phone service             DSL            Yes   \n",
              "7041          Yes               Yes     Fiber optic             No   \n",
              "7042          Yes                No     Fiber optic            Yes   \n",
              "\n",
              "     OnlineBackup DeviceProtection TechSupport StreamingTV StreamingMovies  \\\n",
              "7038           No              Yes         Yes         Yes             Yes   \n",
              "7039          Yes              Yes          No         Yes             Yes   \n",
              "7040           No               No          No          No              No   \n",
              "7041           No               No          No          No              No   \n",
              "7042           No              Yes         Yes         Yes             Yes   \n",
              "\n",
              "            Contract PaperlessBilling              PaymentMethod  \\\n",
              "7038        One year              Yes               Mailed check   \n",
              "7039        One year              Yes    Credit card (automatic)   \n",
              "7040  Month-to-month              Yes           Electronic check   \n",
              "7041  Month-to-month              Yes               Mailed check   \n",
              "7042        Two year              Yes  Bank transfer (automatic)   \n",
              "\n",
              "      MonthlyCharges TotalCharges Churn  \n",
              "7038           84.80       1990.5    No  \n",
              "7039          103.20       7362.9    No  \n",
              "7040           29.60       346.45    No  \n",
              "7041           74.40        306.6   Yes  \n",
              "7042          105.65       6844.5    No  "
            ],
            "text/html": [
              "\n",
              "  <div id=\"df-e8ac7973-2137-45d2-93f8-7ec5710ea2d6\">\n",
              "    <div class=\"colab-df-container\">\n",
              "      <div>\n",
              "<style scoped>\n",
              "    .dataframe tbody tr th:only-of-type {\n",
              "        vertical-align: middle;\n",
              "    }\n",
              "\n",
              "    .dataframe tbody tr th {\n",
              "        vertical-align: top;\n",
              "    }\n",
              "\n",
              "    .dataframe thead th {\n",
              "        text-align: right;\n",
              "    }\n",
              "</style>\n",
              "<table border=\"1\" class=\"dataframe\">\n",
              "  <thead>\n",
              "    <tr style=\"text-align: right;\">\n",
              "      <th></th>\n",
              "      <th>customerID</th>\n",
              "      <th>gender</th>\n",
              "      <th>SeniorCitizen</th>\n",
              "      <th>Partner</th>\n",
              "      <th>Dependents</th>\n",
              "      <th>tenure</th>\n",
              "      <th>PhoneService</th>\n",
              "      <th>MultipleLines</th>\n",
              "      <th>InternetService</th>\n",
              "      <th>OnlineSecurity</th>\n",
              "      <th>OnlineBackup</th>\n",
              "      <th>DeviceProtection</th>\n",
              "      <th>TechSupport</th>\n",
              "      <th>StreamingTV</th>\n",
              "      <th>StreamingMovies</th>\n",
              "      <th>Contract</th>\n",
              "      <th>PaperlessBilling</th>\n",
              "      <th>PaymentMethod</th>\n",
              "      <th>MonthlyCharges</th>\n",
              "      <th>TotalCharges</th>\n",
              "      <th>Churn</th>\n",
              "    </tr>\n",
              "  </thead>\n",
              "  <tbody>\n",
              "    <tr>\n",
              "      <th>7038</th>\n",
              "      <td>6840-RESVB</td>\n",
              "      <td>Male</td>\n",
              "      <td>0</td>\n",
              "      <td>Yes</td>\n",
              "      <td>Yes</td>\n",
              "      <td>24</td>\n",
              "      <td>Yes</td>\n",
              "      <td>Yes</td>\n",
              "      <td>DSL</td>\n",
              "      <td>Yes</td>\n",
              "      <td>No</td>\n",
              "      <td>Yes</td>\n",
              "      <td>Yes</td>\n",
              "      <td>Yes</td>\n",
              "      <td>Yes</td>\n",
              "      <td>One year</td>\n",
              "      <td>Yes</td>\n",
              "      <td>Mailed check</td>\n",
              "      <td>84.80</td>\n",
              "      <td>1990.5</td>\n",
              "      <td>No</td>\n",
              "    </tr>\n",
              "    <tr>\n",
              "      <th>7039</th>\n",
              "      <td>2234-XADUH</td>\n",
              "      <td>Female</td>\n",
              "      <td>0</td>\n",
              "      <td>Yes</td>\n",
              "      <td>Yes</td>\n",
              "      <td>72</td>\n",
              "      <td>Yes</td>\n",
              "      <td>Yes</td>\n",
              "      <td>Fiber optic</td>\n",
              "      <td>No</td>\n",
              "      <td>Yes</td>\n",
              "      <td>Yes</td>\n",
              "      <td>No</td>\n",
              "      <td>Yes</td>\n",
              "      <td>Yes</td>\n",
              "      <td>One year</td>\n",
              "      <td>Yes</td>\n",
              "      <td>Credit card (automatic)</td>\n",
              "      <td>103.20</td>\n",
              "      <td>7362.9</td>\n",
              "      <td>No</td>\n",
              "    </tr>\n",
              "    <tr>\n",
              "      <th>7040</th>\n",
              "      <td>4801-JZAZL</td>\n",
              "      <td>Female</td>\n",
              "      <td>0</td>\n",
              "      <td>Yes</td>\n",
              "      <td>Yes</td>\n",
              "      <td>11</td>\n",
              "      <td>No</td>\n",
              "      <td>No phone service</td>\n",
              "      <td>DSL</td>\n",
              "      <td>Yes</td>\n",
              "      <td>No</td>\n",
              "      <td>No</td>\n",
              "      <td>No</td>\n",
              "      <td>No</td>\n",
              "      <td>No</td>\n",
              "      <td>Month-to-month</td>\n",
              "      <td>Yes</td>\n",
              "      <td>Electronic check</td>\n",
              "      <td>29.60</td>\n",
              "      <td>346.45</td>\n",
              "      <td>No</td>\n",
              "    </tr>\n",
              "    <tr>\n",
              "      <th>7041</th>\n",
              "      <td>8361-LTMKD</td>\n",
              "      <td>Male</td>\n",
              "      <td>1</td>\n",
              "      <td>Yes</td>\n",
              "      <td>No</td>\n",
              "      <td>4</td>\n",
              "      <td>Yes</td>\n",
              "      <td>Yes</td>\n",
              "      <td>Fiber optic</td>\n",
              "      <td>No</td>\n",
              "      <td>No</td>\n",
              "      <td>No</td>\n",
              "      <td>No</td>\n",
              "      <td>No</td>\n",
              "      <td>No</td>\n",
              "      <td>Month-to-month</td>\n",
              "      <td>Yes</td>\n",
              "      <td>Mailed check</td>\n",
              "      <td>74.40</td>\n",
              "      <td>306.6</td>\n",
              "      <td>Yes</td>\n",
              "    </tr>\n",
              "    <tr>\n",
              "      <th>7042</th>\n",
              "      <td>3186-AJIEK</td>\n",
              "      <td>Male</td>\n",
              "      <td>0</td>\n",
              "      <td>No</td>\n",
              "      <td>No</td>\n",
              "      <td>66</td>\n",
              "      <td>Yes</td>\n",
              "      <td>No</td>\n",
              "      <td>Fiber optic</td>\n",
              "      <td>Yes</td>\n",
              "      <td>No</td>\n",
              "      <td>Yes</td>\n",
              "      <td>Yes</td>\n",
              "      <td>Yes</td>\n",
              "      <td>Yes</td>\n",
              "      <td>Two year</td>\n",
              "      <td>Yes</td>\n",
              "      <td>Bank transfer (automatic)</td>\n",
              "      <td>105.65</td>\n",
              "      <td>6844.5</td>\n",
              "      <td>No</td>\n",
              "    </tr>\n",
              "  </tbody>\n",
              "</table>\n",
              "</div>\n",
              "      <button class=\"colab-df-convert\" onclick=\"convertToInteractive('df-e8ac7973-2137-45d2-93f8-7ec5710ea2d6')\"\n",
              "              title=\"Convert this dataframe to an interactive table.\"\n",
              "              style=\"display:none;\">\n",
              "        \n",
              "  <svg xmlns=\"http://www.w3.org/2000/svg\" height=\"24px\"viewBox=\"0 0 24 24\"\n",
              "       width=\"24px\">\n",
              "    <path d=\"M0 0h24v24H0V0z\" fill=\"none\"/>\n",
              "    <path d=\"M18.56 5.44l.94 2.06.94-2.06 2.06-.94-2.06-.94-.94-2.06-.94 2.06-2.06.94zm-11 1L8.5 8.5l.94-2.06 2.06-.94-2.06-.94L8.5 2.5l-.94 2.06-2.06.94zm10 10l.94 2.06.94-2.06 2.06-.94-2.06-.94-.94-2.06-.94 2.06-2.06.94z\"/><path d=\"M17.41 7.96l-1.37-1.37c-.4-.4-.92-.59-1.43-.59-.52 0-1.04.2-1.43.59L10.3 9.45l-7.72 7.72c-.78.78-.78 2.05 0 2.83L4 21.41c.39.39.9.59 1.41.59.51 0 1.02-.2 1.41-.59l7.78-7.78 2.81-2.81c.8-.78.8-2.07 0-2.86zM5.41 20L4 18.59l7.72-7.72 1.47 1.35L5.41 20z\"/>\n",
              "  </svg>\n",
              "      </button>\n",
              "      \n",
              "  <style>\n",
              "    .colab-df-container {\n",
              "      display:flex;\n",
              "      flex-wrap:wrap;\n",
              "      gap: 12px;\n",
              "    }\n",
              "\n",
              "    .colab-df-convert {\n",
              "      background-color: #E8F0FE;\n",
              "      border: none;\n",
              "      border-radius: 50%;\n",
              "      cursor: pointer;\n",
              "      display: none;\n",
              "      fill: #1967D2;\n",
              "      height: 32px;\n",
              "      padding: 0 0 0 0;\n",
              "      width: 32px;\n",
              "    }\n",
              "\n",
              "    .colab-df-convert:hover {\n",
              "      background-color: #E2EBFA;\n",
              "      box-shadow: 0px 1px 2px rgba(60, 64, 67, 0.3), 0px 1px 3px 1px rgba(60, 64, 67, 0.15);\n",
              "      fill: #174EA6;\n",
              "    }\n",
              "\n",
              "    [theme=dark] .colab-df-convert {\n",
              "      background-color: #3B4455;\n",
              "      fill: #D2E3FC;\n",
              "    }\n",
              "\n",
              "    [theme=dark] .colab-df-convert:hover {\n",
              "      background-color: #434B5C;\n",
              "      box-shadow: 0px 1px 3px 1px rgba(0, 0, 0, 0.15);\n",
              "      filter: drop-shadow(0px 1px 2px rgba(0, 0, 0, 0.3));\n",
              "      fill: #FFFFFF;\n",
              "    }\n",
              "  </style>\n",
              "\n",
              "      <script>\n",
              "        const buttonEl =\n",
              "          document.querySelector('#df-e8ac7973-2137-45d2-93f8-7ec5710ea2d6 button.colab-df-convert');\n",
              "        buttonEl.style.display =\n",
              "          google.colab.kernel.accessAllowed ? 'block' : 'none';\n",
              "\n",
              "        async function convertToInteractive(key) {\n",
              "          const element = document.querySelector('#df-e8ac7973-2137-45d2-93f8-7ec5710ea2d6');\n",
              "          const dataTable =\n",
              "            await google.colab.kernel.invokeFunction('convertToInteractive',\n",
              "                                                     [key], {});\n",
              "          if (!dataTable) return;\n",
              "\n",
              "          const docLinkHtml = 'Like what you see? Visit the ' +\n",
              "            '<a target=\"_blank\" href=https://colab.research.google.com/notebooks/data_table.ipynb>data table notebook</a>'\n",
              "            + ' to learn more about interactive tables.';\n",
              "          element.innerHTML = '';\n",
              "          dataTable['output_type'] = 'display_data';\n",
              "          await google.colab.output.renderOutput(dataTable, element);\n",
              "          const docLink = document.createElement('div');\n",
              "          docLink.innerHTML = docLinkHtml;\n",
              "          element.appendChild(docLink);\n",
              "        }\n",
              "      </script>\n",
              "    </div>\n",
              "  </div>\n",
              "  "
            ]
          },
          "metadata": {},
          "execution_count": 39
        }
      ]
    },
    {
      "cell_type": "code",
      "source": [
        "# Tampilkan ukuran df\n",
        "df.shape"
      ],
      "metadata": {
        "colab": {
          "base_uri": "https://localhost:8080/"
        },
        "id": "Wjz03NruuXaU",
        "outputId": "bcc2b80b-d163-4e52-fc47-3974cc7fe9ac"
      },
      "execution_count": 40,
      "outputs": [
        {
          "output_type": "execute_result",
          "data": {
            "text/plain": [
              "(7043, 21)"
            ]
          },
          "metadata": {},
          "execution_count": 40
        }
      ]
    },
    {
      "cell_type": "code",
      "source": [
        "# Tampilkan nama kolom dan dtype pada df\n",
        "df.info()"
      ],
      "metadata": {
        "colab": {
          "base_uri": "https://localhost:8080/"
        },
        "id": "DjpyboZluZac",
        "outputId": "ec107831-ab43-449d-ab67-8692add4cb21"
      },
      "execution_count": 41,
      "outputs": [
        {
          "output_type": "stream",
          "name": "stdout",
          "text": [
            "<class 'pandas.core.frame.DataFrame'>\n",
            "RangeIndex: 7043 entries, 0 to 7042\n",
            "Data columns (total 21 columns):\n",
            " #   Column            Non-Null Count  Dtype  \n",
            "---  ------            --------------  -----  \n",
            " 0   customerID        7043 non-null   object \n",
            " 1   gender            7043 non-null   object \n",
            " 2   SeniorCitizen     7043 non-null   int64  \n",
            " 3   Partner           7043 non-null   object \n",
            " 4   Dependents        7043 non-null   object \n",
            " 5   tenure            7043 non-null   int64  \n",
            " 6   PhoneService      7043 non-null   object \n",
            " 7   MultipleLines     7043 non-null   object \n",
            " 8   InternetService   7043 non-null   object \n",
            " 9   OnlineSecurity    7043 non-null   object \n",
            " 10  OnlineBackup      7043 non-null   object \n",
            " 11  DeviceProtection  7043 non-null   object \n",
            " 12  TechSupport       7043 non-null   object \n",
            " 13  StreamingTV       7043 non-null   object \n",
            " 14  StreamingMovies   7043 non-null   object \n",
            " 15  Contract          7043 non-null   object \n",
            " 16  PaperlessBilling  7043 non-null   object \n",
            " 17  PaymentMethod     7043 non-null   object \n",
            " 18  MonthlyCharges    7043 non-null   float64\n",
            " 19  TotalCharges      7043 non-null   object \n",
            " 20  Churn             7043 non-null   object \n",
            "dtypes: float64(1), int64(2), object(18)\n",
            "memory usage: 1.1+ MB\n"
          ]
        }
      ]
    },
    {
      "cell_type": "markdown",
      "source": [
        "Dataset terdiri dari 21 kolom dan 7043 baris"
      ],
      "metadata": {
        "id": "tOzSjMfgd4uW"
      }
    },
    {
      "cell_type": "code",
      "source": [
        "# Tampilkan nilai unik masing2 kolom\n",
        "df.nunique()"
      ],
      "metadata": {
        "colab": {
          "base_uri": "https://localhost:8080/"
        },
        "id": "xpzQwcZ4udNe",
        "outputId": "650ca84a-955b-44b9-8d79-f925beac5516"
      },
      "execution_count": 42,
      "outputs": [
        {
          "output_type": "execute_result",
          "data": {
            "text/plain": [
              "customerID          7043\n",
              "gender                 2\n",
              "SeniorCitizen          2\n",
              "Partner                2\n",
              "Dependents             2\n",
              "tenure                73\n",
              "PhoneService           2\n",
              "MultipleLines          3\n",
              "InternetService        3\n",
              "OnlineSecurity         3\n",
              "OnlineBackup           3\n",
              "DeviceProtection       3\n",
              "TechSupport            3\n",
              "StreamingTV            3\n",
              "StreamingMovies        3\n",
              "Contract               3\n",
              "PaperlessBilling       2\n",
              "PaymentMethod          4\n",
              "MonthlyCharges      1585\n",
              "TotalCharges        6531\n",
              "Churn                  2\n",
              "dtype: int64"
            ]
          },
          "metadata": {},
          "execution_count": 42
        }
      ]
    },
    {
      "cell_type": "markdown",
      "source": [
        "# IV. Exploratory Data Analysis (EDA)"
      ],
      "metadata": {
        "id": "feHh9P8nqmyU"
      }
    },
    {
      "cell_type": "markdown",
      "source": [
        "Bagian ini berisi eksplorasi data pada dataset diatas dengan menggunakan query, grouping, visualisasi sederhana, dan lain sebagainya."
      ],
      "metadata": {
        "id": "3m_QOjPLrPE7"
      }
    },
    {
      "cell_type": "code",
      "source": [
        "# Buat label utk legend pada pie chart\n",
        "palette_color = sns.color_palette('bright')\n",
        "label = list(pd.DataFrame(df['Churn'].value_counts()).index)\n",
        "\n",
        "# Buat figure dan plot pie chart\n",
        "plt.figure(figsize = (5, 5))\n",
        "plt.title('Churn')\n",
        "plt.pie(pd.DataFrame(df['Churn'].value_counts()),colors=palette_color, autopct='%.0f%%', wedgeprops={\"edgecolor\":\"k\"})\n",
        "plt.legend(label, loc='upper right',bbox_to_anchor=(1.5,1))\n",
        "\n",
        "plt.show()"
      ],
      "metadata": {
        "colab": {
          "base_uri": "https://localhost:8080/",
          "height": 0
        },
        "id": "Q8uLiy8yt1WM",
        "outputId": "863580c9-148c-468a-f3eb-535a62a41543"
      },
      "execution_count": 43,
      "outputs": [
        {
          "output_type": "stream",
          "name": "stderr",
          "text": [
            "<ipython-input-43-b55a4a719048>:8: MatplotlibDeprecationWarning: Non-1D inputs to pie() are currently squeeze()d, but this behavior is deprecated since 3.1 and will be removed in 3.3; pass a 1D array instead.\n",
            "  plt.pie(pd.DataFrame(df['Churn'].value_counts()),colors=palette_color, autopct='%.0f%%', wedgeprops={\"edgecolor\":\"k\"})\n"
          ]
        },
        {
          "output_type": "display_data",
          "data": {
            "text/plain": [
              "<Figure size 360x360 with 1 Axes>"
            ],
            "image/png": "[encoded data removed]"
          },
          "metadata": {}
        }
      ]
    },
    {
      "cell_type": "markdown",
      "source": [
        "27% user mengalami churn dan 73% user tetap memakai jasa telekomunikasi"
      ],
      "metadata": {
        "id": "8TWS22rBglkW"
      }
    },
    {
      "cell_type": "code",
      "source": [
        "# Buat label utk legend pada pie chart\n",
        "label1 = list(pd.DataFrame(df['gender'].value_counts()).index)\n",
        "\n",
        "# Buat figure dan plot pie chart\n",
        "plt.figure(figsize = (5, 5))\n",
        "plt.title('Gender')\n",
        "plt.pie(pd.DataFrame(df['gender'].value_counts()),colors=palette_color, autopct='%.0f%%', wedgeprops={\"edgecolor\":\"k\"})\n",
        "plt.legend(label1, loc='upper right',bbox_to_anchor=(1.5,1))\n",
        "\n",
        "plt.show()"
      ],
      "metadata": {
        "colab": {
          "base_uri": "https://localhost:8080/",
          "height": 0
        },
        "id": "xamcwimmuhxI",
        "outputId": "e44a2aeb-0681-4623-f75e-53f59ea57bff"
      },
      "execution_count": 44,
      "outputs": [
        {
          "output_type": "stream",
          "name": "stderr",
          "text": [
            "<ipython-input-44-20cbd843e7fd>:7: MatplotlibDeprecationWarning: Non-1D inputs to pie() are currently squeeze()d, but this behavior is deprecated since 3.1 and will be removed in 3.3; pass a 1D array instead.\n",
            "  plt.pie(pd.DataFrame(df['gender'].value_counts()),colors=palette_color, autopct='%.0f%%', wedgeprops={\"edgecolor\":\"k\"})\n"
          ]
        },
        {
          "output_type": "display_data",
          "data": {
            "text/plain": [
              "<Figure size 360x360 with 1 Axes>"
            ],
            "image/png": "[encoded data removed]"
          },
          "metadata": {}
        }
      ]
    },
    {
      "cell_type": "markdown",
      "source": [
        "Proporsi gender berimbang pada dataset ini (50:50)"
      ],
      "metadata": {
        "id": "hsra3ybWgusO"
      }
    },
    {
      "cell_type": "code",
      "source": [
        "# Buat label utk legend pada pie chart\n",
        "label2 = list(pd.DataFrame(df['SeniorCitizen'].value_counts()).index)\n",
        "\n",
        "# Buat figure dan plot pie chart\n",
        "plt.figure(figsize = (5, 5))\n",
        "plt.title('Senior Citizen')\n",
        "plt.pie(pd.DataFrame(df['SeniorCitizen'].value_counts()),colors=palette_color, autopct='%.0f%%', wedgeprops={\"edgecolor\":\"k\"})\n",
        "plt.legend(label2, loc='upper right',bbox_to_anchor=(1.5,1))\n",
        "\n",
        "plt.show()"
      ],
      "metadata": {
        "colab": {
          "base_uri": "https://localhost:8080/",
          "height": 0
        },
        "id": "6io3FaCtvi20",
        "outputId": "3acebae5-e1c2-46de-f3cd-816e5c0f9da2"
      },
      "execution_count": 45,
      "outputs": [
        {
          "output_type": "stream",
          "name": "stderr",
          "text": [
            "<ipython-input-45-c98adf01e05a>:7: MatplotlibDeprecationWarning: Non-1D inputs to pie() are currently squeeze()d, but this behavior is deprecated since 3.1 and will be removed in 3.3; pass a 1D array instead.\n",
            "  plt.pie(pd.DataFrame(df['SeniorCitizen'].value_counts()),colors=palette_color, autopct='%.0f%%', wedgeprops={\"edgecolor\":\"k\"})\n"
          ]
        },
        {
          "output_type": "display_data",
          "data": {
            "text/plain": [
              "<Figure size 360x360 with 1 Axes>"
            ],
            "image/png": "[encoded data removed]"
          },
          "metadata": {}
        }
      ]
    },
    {
      "cell_type": "markdown",
      "source": [
        "Sebanyak 16% user adalah warga negara senior."
      ],
      "metadata": {
        "id": "mPuXTsEig0dv"
      }
    },
    {
      "cell_type": "code",
      "source": [
        "# Buat label utk legend pada pie chart\n",
        "label3 = list(pd.DataFrame(df['Dependents'].value_counts()).index)\n",
        "\n",
        "# Buat figure dan plot pie chart\n",
        "plt.figure(figsize = (5, 5))\n",
        "plt.title('Dependents')\n",
        "plt.pie(pd.DataFrame(df['Dependents'].value_counts()),colors=palette_color, autopct='%.0f%%', wedgeprops={\"edgecolor\":\"k\"})\n",
        "plt.legend(label3, loc='upper right',bbox_to_anchor=(1.5,1))\n",
        "\n",
        "plt.show()"
      ],
      "metadata": {
        "colab": {
          "base_uri": "https://localhost:8080/",
          "height": 0
        },
        "id": "mQM0Iy-Evy_8",
        "outputId": "93760357-3211-4f95-feb2-525a38e6df8b"
      },
      "execution_count": 46,
      "outputs": [
        {
          "output_type": "stream",
          "name": "stderr",
          "text": [
            "<ipython-input-46-ded4af49396b>:7: MatplotlibDeprecationWarning: Non-1D inputs to pie() are currently squeeze()d, but this behavior is deprecated since 3.1 and will be removed in 3.3; pass a 1D array instead.\n",
            "  plt.pie(pd.DataFrame(df['Dependents'].value_counts()),colors=palette_color, autopct='%.0f%%', wedgeprops={\"edgecolor\":\"k\"})\n"
          ]
        },
        {
          "output_type": "display_data",
          "data": {
            "text/plain": [
              "<Figure size 360x360 with 1 Axes>"
            ],
            "image/png": "[encoded data removed]"
          },
          "metadata": {}
        }
      ]
    },
    {
      "cell_type": "markdown",
      "source": [
        "Sebanyak 30% user memiliki tanggungan (anak atau istri). Berhubung kehadiran tanggungan dapat mempengaruhi pengeluaran user, kita perlu tahu apakah hal tsb dpt mempengaruhi churn rate."
      ],
      "metadata": {
        "id": "NaBCvg8Ag5_p"
      }
    },
    {
      "cell_type": "code",
      "source": [
        "# Kelompokkan data dependents berdasarkan data churns\n",
        "churn_dependent = pd.DataFrame(df.groupby('Churn')['Dependents'].value_counts())\n",
        "churn_dependent"
      ],
      "metadata": {
        "colab": {
          "base_uri": "https://localhost:8080/",
          "height": 0
        },
        "id": "Towfu0Cdxohz",
        "outputId": "8ab322b9-1d9b-4201-c3ae-284a84c1999e"
      },
      "execution_count": 47,
      "outputs": [
        {
          "output_type": "execute_result",
          "data": {
            "text/plain": [
              "                  Dependents\n",
              "Churn Dependents            \n",
              "No    No                3390\n",
              "      Yes               1784\n",
              "Yes   No                1543\n",
              "      Yes                326"
            ],
            "text/html": [
              "\n",
              "  <div id=\"df-9f55443a-e741-4db0-bfbd-974b39c03cf0\">\n",
              "    <div class=\"colab-df-container\">\n",
              "      <div>\n",
              "<style scoped>\n",
              "    .dataframe tbody tr th:only-of-type {\n",
              "        vertical-align: middle;\n",
              "    }\n",
              "\n",
              "    .dataframe tbody tr th {\n",
              "        vertical-align: top;\n",
              "    }\n",
              "\n",
              "    .dataframe thead th {\n",
              "        text-align: right;\n",
              "    }\n",
              "</style>\n",
              "<table border=\"1\" class=\"dataframe\">\n",
              "  <thead>\n",
              "    <tr style=\"text-align: right;\">\n",
              "      <th></th>\n",
              "      <th></th>\n",
              "      <th>Dependents</th>\n",
              "    </tr>\n",
              "    <tr>\n",
              "      <th>Churn</th>\n",
              "      <th>Dependents</th>\n",
              "      <th></th>\n",
              "    </tr>\n",
              "  </thead>\n",
              "  <tbody>\n",
              "    <tr>\n",
              "      <th rowspan=\"2\" valign=\"top\">No</th>\n",
              "      <th>No</th>\n",
              "      <td>3390</td>\n",
              "    </tr>\n",
              "    <tr>\n",
              "      <th>Yes</th>\n",
              "      <td>1784</td>\n",
              "    </tr>\n",
              "    <tr>\n",
              "      <th rowspan=\"2\" valign=\"top\">Yes</th>\n",
              "      <th>No</th>\n",
              "      <td>1543</td>\n",
              "    </tr>\n",
              "    <tr>\n",
              "      <th>Yes</th>\n",
              "      <td>326</td>\n",
              "    </tr>\n",
              "  </tbody>\n",
              "</table>\n",
              "</div>\n",
              "      <button class=\"colab-df-convert\" onclick=\"convertToInteractive('df-9f55443a-e741-4db0-bfbd-974b39c03cf0')\"\n",
              "              title=\"Convert this dataframe to an interactive table.\"\n",
              "              style=\"display:none;\">\n",
              "        \n",
              "  <svg xmlns=\"http://www.w3.org/2000/svg\" height=\"24px\"viewBox=\"0 0 24 24\"\n",
              "       width=\"24px\">\n",
              "    <path d=\"M0 0h24v24H0V0z\" fill=\"none\"/>\n",
              "    <path d=\"M18.56 5.44l.94 2.06.94-2.06 2.06-.94-2.06-.94-.94-2.06-.94 2.06-2.06.94zm-11 1L8.5 8.5l.94-2.06 2.06-.94-2.06-.94L8.5 2.5l-.94 2.06-2.06.94zm10 10l.94 2.06.94-2.06 2.06-.94-2.06-.94-.94-2.06-.94 2.06-2.06.94z\"/><path d=\"M17.41 7.96l-1.37-1.37c-.4-.4-.92-.59-1.43-.59-.52 0-1.04.2-1.43.59L10.3 9.45l-7.72 7.72c-.78.78-.78 2.05 0 2.83L4 21.41c.39.39.9.59 1.41.59.51 0 1.02-.2 1.41-.59l7.78-7.78 2.81-2.81c.8-.78.8-2.07 0-2.86zM5.41 20L4 18.59l7.72-7.72 1.47 1.35L5.41 20z\"/>\n",
              "  </svg>\n",
              "      </button>\n",
              "      \n",
              "  <style>\n",
              "    .colab-df-container {\n",
              "      display:flex;\n",
              "      flex-wrap:wrap;\n",
              "      gap: 12px;\n",
              "    }\n",
              "\n",
              "    .colab-df-convert {\n",
              "      background-color: #E8F0FE;\n",
              "      border: none;\n",
              "      border-radius: 50%;\n",
              "      cursor: pointer;\n",
              "      display: none;\n",
              "      fill: #1967D2;\n",
              "      height: 32px;\n",
              "      padding: 0 0 0 0;\n",
              "      width: 32px;\n",
              "    }\n",
              "\n",
              "    .colab-df-convert:hover {\n",
              "      background-color: #E2EBFA;\n",
              "      box-shadow: 0px 1px 2px rgba(60, 64, 67, 0.3), 0px 1px 3px 1px rgba(60, 64, 67, 0.15);\n",
              "      fill: #174EA6;\n",
              "    }\n",
              "\n",
              "    [theme=dark] .colab-df-convert {\n",
              "      background-color: #3B4455;\n",
              "      fill: #D2E3FC;\n",
              "    }\n",
              "\n",
              "    [theme=dark] .colab-df-convert:hover {\n",
              "      background-color: #434B5C;\n",
              "      box-shadow: 0px 1px 3px 1px rgba(0, 0, 0, 0.15);\n",
              "      filter: drop-shadow(0px 1px 2px rgba(0, 0, 0, 0.3));\n",
              "      fill: #FFFFFF;\n",
              "    }\n",
              "  </style>\n",
              "\n",
              "      <script>\n",
              "        const buttonEl =\n",
              "          document.querySelector('#df-9f55443a-e741-4db0-bfbd-974b39c03cf0 button.colab-df-convert');\n",
              "        buttonEl.style.display =\n",
              "          google.colab.kernel.accessAllowed ? 'block' : 'none';\n",
              "\n",
              "        async function convertToInteractive(key) {\n",
              "          const element = document.querySelector('#df-9f55443a-e741-4db0-bfbd-974b39c03cf0');\n",
              "          const dataTable =\n",
              "            await google.colab.kernel.invokeFunction('convertToInteractive',\n",
              "                                                     [key], {});\n",
              "          if (!dataTable) return;\n",
              "\n",
              "          const docLinkHtml = 'Like what you see? Visit the ' +\n",
              "            '<a target=\"_blank\" href=https://colab.research.google.com/notebooks/data_table.ipynb>data table notebook</a>'\n",
              "            + ' to learn more about interactive tables.';\n",
              "          element.innerHTML = '';\n",
              "          dataTable['output_type'] = 'display_data';\n",
              "          await google.colab.output.renderOutput(dataTable, element);\n",
              "          const docLink = document.createElement('div');\n",
              "          docLink.innerHTML = docLinkHtml;\n",
              "          element.appendChild(docLink);\n",
              "        }\n",
              "      </script>\n",
              "    </div>\n",
              "  </div>\n",
              "  "
            ]
          },
          "metadata": {},
          "execution_count": 47
        }
      ]
    },
    {
      "cell_type": "markdown",
      "source": [
        "Kita lihat bahwa keberadaan tanggungan tidak terlalu mempengaruhi user dlm melakukan churn pada layanan telekom."
      ],
      "metadata": {
        "id": "FI8-aVv_haTc"
      }
    },
    {
      "cell_type": "markdown",
      "source": [
        "Berikutnya kita ingin melihat plot distribusi lama tenure pada data user:"
      ],
      "metadata": {
        "id": "nPj0HFOtiHDP"
      }
    },
    {
      "cell_type": "code",
      "source": [
        "# Plot histogram tenure\n",
        "sns.histplot(data=df, x=\"tenure\", kde=True)\n",
        "plt.xlabel('tenure (months)')\n",
        "plt.title('Tenure')"
      ],
      "metadata": {
        "colab": {
          "base_uri": "https://localhost:8080/",
          "height": 0
        },
        "id": "j7CWElGm7i0X",
        "outputId": "66b907a1-ea88-4bb5-d707-1645fb9e34f6"
      },
      "execution_count": 48,
      "outputs": [
        {
          "output_type": "execute_result",
          "data": {
            "text/plain": [
              "Text(0.5, 1.0, 'Tenure')"
            ]
          },
          "metadata": {},
          "execution_count": 48
        },
        {
          "output_type": "display_data",
          "data": {
            "text/plain": [
              "<Figure size 432x288 with 1 Axes>"
            ],
            "image/png": "[encoded data removed]"
          },
          "metadata": {
            "needs_background": "light"
          }
        }
      ]
    },
    {
      "cell_type": "markdown",
      "source": [
        "User dgn masa tenure pendek (0-10 bulan) dan masa tenure panjang (60-70 bulan) lbh banyak dibandingkan pada masa tenure lainnya. Kita akan lihat rata2 lama tenure pada user yg mengalami churn dan yg tidak churn:"
      ],
      "metadata": {
        "id": "tE9NOHyAiULE"
      }
    },
    {
      "cell_type": "code",
      "source": [
        "# Kelompokkan rata2 lama tenure terhadap kolom churn\n",
        "churn_tenure = pd.DataFrame(df.groupby('Churn')['tenure'].mean())\n",
        "churn_tenure"
      ],
      "metadata": {
        "colab": {
          "base_uri": "https://localhost:8080/",
          "height": 0
        },
        "id": "fpGXce4vwvUq",
        "outputId": "90c5860d-dd6c-48bf-8864-613563205aca"
      },
      "execution_count": 49,
      "outputs": [
        {
          "output_type": "execute_result",
          "data": {
            "text/plain": [
              "          tenure\n",
              "Churn           \n",
              "No     37.569965\n",
              "Yes    17.979133"
            ],
            "text/html": [
              "\n",
              "  <div id=\"df-59bcc14d-919b-4d11-a924-e96fac999996\">\n",
              "    <div class=\"colab-df-container\">\n",
              "      <div>\n",
              "<style scoped>\n",
              "    .dataframe tbody tr th:only-of-type {\n",
              "        vertical-align: middle;\n",
              "    }\n",
              "\n",
              "    .dataframe tbody tr th {\n",
              "        vertical-align: top;\n",
              "    }\n",
              "\n",
              "    .dataframe thead th {\n",
              "        text-align: right;\n",
              "    }\n",
              "</style>\n",
              "<table border=\"1\" class=\"dataframe\">\n",
              "  <thead>\n",
              "    <tr style=\"text-align: right;\">\n",
              "      <th></th>\n",
              "      <th>tenure</th>\n",
              "    </tr>\n",
              "    <tr>\n",
              "      <th>Churn</th>\n",
              "      <th></th>\n",
              "    </tr>\n",
              "  </thead>\n",
              "  <tbody>\n",
              "    <tr>\n",
              "      <th>No</th>\n",
              "      <td>37.569965</td>\n",
              "    </tr>\n",
              "    <tr>\n",
              "      <th>Yes</th>\n",
              "      <td>17.979133</td>\n",
              "    </tr>\n",
              "  </tbody>\n",
              "</table>\n",
              "</div>\n",
              "      <button class=\"colab-df-convert\" onclick=\"convertToInteractive('df-59bcc14d-919b-4d11-a924-e96fac999996')\"\n",
              "              title=\"Convert this dataframe to an interactive table.\"\n",
              "              style=\"display:none;\">\n",
              "        \n",
              "  <svg xmlns=\"http://www.w3.org/2000/svg\" height=\"24px\"viewBox=\"0 0 24 24\"\n",
              "       width=\"24px\">\n",
              "    <path d=\"M0 0h24v24H0V0z\" fill=\"none\"/>\n",
              "    <path d=\"M18.56 5.44l.94 2.06.94-2.06 2.06-.94-2.06-.94-.94-2.06-.94 2.06-2.06.94zm-11 1L8.5 8.5l.94-2.06 2.06-.94-2.06-.94L8.5 2.5l-.94 2.06-2.06.94zm10 10l.94 2.06.94-2.06 2.06-.94-2.06-.94-.94-2.06-.94 2.06-2.06.94z\"/><path d=\"M17.41 7.96l-1.37-1.37c-.4-.4-.92-.59-1.43-.59-.52 0-1.04.2-1.43.59L10.3 9.45l-7.72 7.72c-.78.78-.78 2.05 0 2.83L4 21.41c.39.39.9.59 1.41.59.51 0 1.02-.2 1.41-.59l7.78-7.78 2.81-2.81c.8-.78.8-2.07 0-2.86zM5.41 20L4 18.59l7.72-7.72 1.47 1.35L5.41 20z\"/>\n",
              "  </svg>\n",
              "      </button>\n",
              "      \n",
              "  <style>\n",
              "    .colab-df-container {\n",
              "      display:flex;\n",
              "      flex-wrap:wrap;\n",
              "      gap: 12px;\n",
              "    }\n",
              "\n",
              "    .colab-df-convert {\n",
              "      background-color: #E8F0FE;\n",
              "      border: none;\n",
              "      border-radius: 50%;\n",
              "      cursor: pointer;\n",
              "      display: none;\n",
              "      fill: #1967D2;\n",
              "      height: 32px;\n",
              "      padding: 0 0 0 0;\n",
              "      width: 32px;\n",
              "    }\n",
              "\n",
              "    .colab-df-convert:hover {\n",
              "      background-color: #E2EBFA;\n",
              "      box-shadow: 0px 1px 2px rgba(60, 64, 67, 0.3), 0px 1px 3px 1px rgba(60, 64, 67, 0.15);\n",
              "      fill: #174EA6;\n",
              "    }\n",
              "\n",
              "    [theme=dark] .colab-df-convert {\n",
              "      background-color: #3B4455;\n",
              "      fill: #D2E3FC;\n",
              "    }\n",
              "\n",
              "    [theme=dark] .colab-df-convert:hover {\n",
              "      background-color: #434B5C;\n",
              "      box-shadow: 0px 1px 3px 1px rgba(0, 0, 0, 0.15);\n",
              "      filter: drop-shadow(0px 1px 2px rgba(0, 0, 0, 0.3));\n",
              "      fill: #FFFFFF;\n",
              "    }\n",
              "  </style>\n",
              "\n",
              "      <script>\n",
              "        const buttonEl =\n",
              "          document.querySelector('#df-59bcc14d-919b-4d11-a924-e96fac999996 button.colab-df-convert');\n",
              "        buttonEl.style.display =\n",
              "          google.colab.kernel.accessAllowed ? 'block' : 'none';\n",
              "\n",
              "        async function convertToInteractive(key) {\n",
              "          const element = document.querySelector('#df-59bcc14d-919b-4d11-a924-e96fac999996');\n",
              "          const dataTable =\n",
              "            await google.colab.kernel.invokeFunction('convertToInteractive',\n",
              "                                                     [key], {});\n",
              "          if (!dataTable) return;\n",
              "\n",
              "          const docLinkHtml = 'Like what you see? Visit the ' +\n",
              "            '<a target=\"_blank\" href=https://colab.research.google.com/notebooks/data_table.ipynb>data table notebook</a>'\n",
              "            + ' to learn more about interactive tables.';\n",
              "          element.innerHTML = '';\n",
              "          dataTable['output_type'] = 'display_data';\n",
              "          await google.colab.output.renderOutput(dataTable, element);\n",
              "          const docLink = document.createElement('div');\n",
              "          docLink.innerHTML = docLinkHtml;\n",
              "          element.appendChild(docLink);\n",
              "        }\n",
              "      </script>\n",
              "    </div>\n",
              "  </div>\n",
              "  "
            ]
          },
          "metadata": {},
          "execution_count": 49
        }
      ]
    },
    {
      "cell_type": "code",
      "source": [
        "# Plot diagram batang ata2 lama tenure terhadap churn\n",
        "plt.bar(churn_tenure.index, churn_tenure['tenure'], color='r', edgecolor='k')\n",
        "plt.ylabel('months')\n",
        "plt.title('Mean of Tenure by Churn')\n",
        "\n",
        "plt.show()"
      ],
      "metadata": {
        "colab": {
          "base_uri": "https://localhost:8080/",
          "height": 0
        },
        "id": "tRnqQIMWwTK0",
        "outputId": "40a10855-f925-4b99-8b1f-1ed815e944fe"
      },
      "execution_count": 50,
      "outputs": [
        {
          "output_type": "display_data",
          "data": {
            "text/plain": [
              "<Figure size 432x288 with 1 Axes>"
            ],
            "image/png": "[encoded data removed]"
          },
          "metadata": {
            "needs_background": "light"
          }
        }
      ]
    },
    {
      "cell_type": "markdown",
      "source": [
        "Ternyata user yg mengalami churn memiliki rata2 masa tenure jauh lebih sebentar (18 bulan) dibandingkan user yg bertahan (37 bulan). "
      ],
      "metadata": {
        "id": "mVjd10FdjX9F"
      }
    },
    {
      "cell_type": "code",
      "source": [
        "# Kelompokkan kolom multiplelines terhadap kolom churn\n",
        "churn_mlines = pd.DataFrame(df.groupby('MultipleLines')['Churn'].value_counts())\n",
        "churn_mlines"
      ],
      "metadata": {
        "colab": {
          "base_uri": "https://localhost:8080/",
          "height": 0
        },
        "id": "FqYkNtK2yDWg",
        "outputId": "cca0888e-f387-4964-b57a-105f84566bf2"
      },
      "execution_count": 51,
      "outputs": [
        {
          "output_type": "execute_result",
          "data": {
            "text/plain": [
              "                        Churn\n",
              "MultipleLines    Churn       \n",
              "No               No      2541\n",
              "                 Yes      849\n",
              "No phone service No       512\n",
              "                 Yes      170\n",
              "Yes              No      2121\n",
              "                 Yes      850"
            ],
            "text/html": [
              "\n",
              "  <div id=\"df-8feb1875-9fd7-4019-9ee5-2e71f68e51af\">\n",
              "    <div class=\"colab-df-container\">\n",
              "      <div>\n",
              "<style scoped>\n",
              "    .dataframe tbody tr th:only-of-type {\n",
              "        vertical-align: middle;\n",
              "    }\n",
              "\n",
              "    .dataframe tbody tr th {\n",
              "        vertical-align: top;\n",
              "    }\n",
              "\n",
              "    .dataframe thead th {\n",
              "        text-align: right;\n",
              "    }\n",
              "</style>\n",
              "<table border=\"1\" class=\"dataframe\">\n",
              "  <thead>\n",
              "    <tr style=\"text-align: right;\">\n",
              "      <th></th>\n",
              "      <th></th>\n",
              "      <th>Churn</th>\n",
              "    </tr>\n",
              "    <tr>\n",
              "      <th>MultipleLines</th>\n",
              "      <th>Churn</th>\n",
              "      <th></th>\n",
              "    </tr>\n",
              "  </thead>\n",
              "  <tbody>\n",
              "    <tr>\n",
              "      <th rowspan=\"2\" valign=\"top\">No</th>\n",
              "      <th>No</th>\n",
              "      <td>2541</td>\n",
              "    </tr>\n",
              "    <tr>\n",
              "      <th>Yes</th>\n",
              "      <td>849</td>\n",
              "    </tr>\n",
              "    <tr>\n",
              "      <th rowspan=\"2\" valign=\"top\">No phone service</th>\n",
              "      <th>No</th>\n",
              "      <td>512</td>\n",
              "    </tr>\n",
              "    <tr>\n",
              "      <th>Yes</th>\n",
              "      <td>170</td>\n",
              "    </tr>\n",
              "    <tr>\n",
              "      <th rowspan=\"2\" valign=\"top\">Yes</th>\n",
              "      <th>No</th>\n",
              "      <td>2121</td>\n",
              "    </tr>\n",
              "    <tr>\n",
              "      <th>Yes</th>\n",
              "      <td>850</td>\n",
              "    </tr>\n",
              "  </tbody>\n",
              "</table>\n",
              "</div>\n",
              "      <button class=\"colab-df-convert\" onclick=\"convertToInteractive('df-8feb1875-9fd7-4019-9ee5-2e71f68e51af')\"\n",
              "              title=\"Convert this dataframe to an interactive table.\"\n",
              "              style=\"display:none;\">\n",
              "        \n",
              "  <svg xmlns=\"http://www.w3.org/2000/svg\" height=\"24px\"viewBox=\"0 0 24 24\"\n",
              "       width=\"24px\">\n",
              "    <path d=\"M0 0h24v24H0V0z\" fill=\"none\"/>\n",
              "    <path d=\"M18.56 5.44l.94 2.06.94-2.06 2.06-.94-2.06-.94-.94-2.06-.94 2.06-2.06.94zm-11 1L8.5 8.5l.94-2.06 2.06-.94-2.06-.94L8.5 2.5l-.94 2.06-2.06.94zm10 10l.94 2.06.94-2.06 2.06-.94-2.06-.94-.94-2.06-.94 2.06-2.06.94z\"/><path d=\"M17.41 7.96l-1.37-1.37c-.4-.4-.92-.59-1.43-.59-.52 0-1.04.2-1.43.59L10.3 9.45l-7.72 7.72c-.78.78-.78 2.05 0 2.83L4 21.41c.39.39.9.59 1.41.59.51 0 1.02-.2 1.41-.59l7.78-7.78 2.81-2.81c.8-.78.8-2.07 0-2.86zM5.41 20L4 18.59l7.72-7.72 1.47 1.35L5.41 20z\"/>\n",
              "  </svg>\n",
              "      </button>\n",
              "      \n",
              "  <style>\n",
              "    .colab-df-container {\n",
              "      display:flex;\n",
              "      flex-wrap:wrap;\n",
              "      gap: 12px;\n",
              "    }\n",
              "\n",
              "    .colab-df-convert {\n",
              "      background-color: #E8F0FE;\n",
              "      border: none;\n",
              "      border-radius: 50%;\n",
              "      cursor: pointer;\n",
              "      display: none;\n",
              "      fill: #1967D2;\n",
              "      height: 32px;\n",
              "      padding: 0 0 0 0;\n",
              "      width: 32px;\n",
              "    }\n",
              "\n",
              "    .colab-df-convert:hover {\n",
              "      background-color: #E2EBFA;\n",
              "      box-shadow: 0px 1px 2px rgba(60, 64, 67, 0.3), 0px 1px 3px 1px rgba(60, 64, 67, 0.15);\n",
              "      fill: #174EA6;\n",
              "    }\n",
              "\n",
              "    [theme=dark] .colab-df-convert {\n",
              "      background-color: #3B4455;\n",
              "      fill: #D2E3FC;\n",
              "    }\n",
              "\n",
              "    [theme=dark] .colab-df-convert:hover {\n",
              "      background-color: #434B5C;\n",
              "      box-shadow: 0px 1px 3px 1px rgba(0, 0, 0, 0.15);\n",
              "      filter: drop-shadow(0px 1px 2px rgba(0, 0, 0, 0.3));\n",
              "      fill: #FFFFFF;\n",
              "    }\n",
              "  </style>\n",
              "\n",
              "      <script>\n",
              "        const buttonEl =\n",
              "          document.querySelector('#df-8feb1875-9fd7-4019-9ee5-2e71f68e51af button.colab-df-convert');\n",
              "        buttonEl.style.display =\n",
              "          google.colab.kernel.accessAllowed ? 'block' : 'none';\n",
              "\n",
              "        async function convertToInteractive(key) {\n",
              "          const element = document.querySelector('#df-8feb1875-9fd7-4019-9ee5-2e71f68e51af');\n",
              "          const dataTable =\n",
              "            await google.colab.kernel.invokeFunction('convertToInteractive',\n",
              "                                                     [key], {});\n",
              "          if (!dataTable) return;\n",
              "\n",
              "          const docLinkHtml = 'Like what you see? Visit the ' +\n",
              "            '<a target=\"_blank\" href=https://colab.research.google.com/notebooks/data_table.ipynb>data table notebook</a>'\n",
              "            + ' to learn more about interactive tables.';\n",
              "          element.innerHTML = '';\n",
              "          dataTable['output_type'] = 'display_data';\n",
              "          await google.colab.output.renderOutput(dataTable, element);\n",
              "          const docLink = document.createElement('div');\n",
              "          docLink.innerHTML = docLinkHtml;\n",
              "          element.appendChild(docLink);\n",
              "        }\n",
              "      </script>\n",
              "    </div>\n",
              "  </div>\n",
              "  "
            ]
          },
          "metadata": {},
          "execution_count": 51
        }
      ]
    },
    {
      "cell_type": "markdown",
      "source": [
        "Kita lihat label utk MultipleLines tdk berpengaruh terhadap churn"
      ],
      "metadata": {
        "id": "lE2L5Eimjl4_"
      }
    },
    {
      "cell_type": "code",
      "source": [
        "# Kelompokkan kolom InternetServices terhadap kolom churn\n",
        "churn_iservice = pd.DataFrame(df.groupby('InternetService')['Churn'].value_counts())\n",
        "churn_iservice"
      ],
      "metadata": {
        "colab": {
          "base_uri": "https://localhost:8080/",
          "height": 0
        },
        "id": "BKc8kfaWyW7c",
        "outputId": "fbdad25e-d0c5-4fe0-fea8-021ee16698c8"
      },
      "execution_count": 52,
      "outputs": [
        {
          "output_type": "execute_result",
          "data": {
            "text/plain": [
              "                       Churn\n",
              "InternetService Churn       \n",
              "DSL             No      1962\n",
              "                Yes      459\n",
              "Fiber optic     No      1799\n",
              "                Yes     1297\n",
              "No              No      1413\n",
              "                Yes      113"
            ],
            "text/html": [
              "\n",
              "  <div id=\"df-a5459ba1-b191-4de4-9b4d-2ae26ac29540\">\n",
              "    <div class=\"colab-df-container\">\n",
              "      <div>\n",
              "<style scoped>\n",
              "    .dataframe tbody tr th:only-of-type {\n",
              "        vertical-align: middle;\n",
              "    }\n",
              "\n",
              "    .dataframe tbody tr th {\n",
              "        vertical-align: top;\n",
              "    }\n",
              "\n",
              "    .dataframe thead th {\n",
              "        text-align: right;\n",
              "    }\n",
              "</style>\n",
              "<table border=\"1\" class=\"dataframe\">\n",
              "  <thead>\n",
              "    <tr style=\"text-align: right;\">\n",
              "      <th></th>\n",
              "      <th></th>\n",
              "      <th>Churn</th>\n",
              "    </tr>\n",
              "    <tr>\n",
              "      <th>InternetService</th>\n",
              "      <th>Churn</th>\n",
              "      <th></th>\n",
              "    </tr>\n",
              "  </thead>\n",
              "  <tbody>\n",
              "    <tr>\n",
              "      <th rowspan=\"2\" valign=\"top\">DSL</th>\n",
              "      <th>No</th>\n",
              "      <td>1962</td>\n",
              "    </tr>\n",
              "    <tr>\n",
              "      <th>Yes</th>\n",
              "      <td>459</td>\n",
              "    </tr>\n",
              "    <tr>\n",
              "      <th rowspan=\"2\" valign=\"top\">Fiber optic</th>\n",
              "      <th>No</th>\n",
              "      <td>1799</td>\n",
              "    </tr>\n",
              "    <tr>\n",
              "      <th>Yes</th>\n",
              "      <td>1297</td>\n",
              "    </tr>\n",
              "    <tr>\n",
              "      <th rowspan=\"2\" valign=\"top\">No</th>\n",
              "      <th>No</th>\n",
              "      <td>1413</td>\n",
              "    </tr>\n",
              "    <tr>\n",
              "      <th>Yes</th>\n",
              "      <td>113</td>\n",
              "    </tr>\n",
              "  </tbody>\n",
              "</table>\n",
              "</div>\n",
              "      <button class=\"colab-df-convert\" onclick=\"convertToInteractive('df-a5459ba1-b191-4de4-9b4d-2ae26ac29540')\"\n",
              "              title=\"Convert this dataframe to an interactive table.\"\n",
              "              style=\"display:none;\">\n",
              "        \n",
              "  <svg xmlns=\"http://www.w3.org/2000/svg\" height=\"24px\"viewBox=\"0 0 24 24\"\n",
              "       width=\"24px\">\n",
              "    <path d=\"M0 0h24v24H0V0z\" fill=\"none\"/>\n",
              "    <path d=\"M18.56 5.44l.94 2.06.94-2.06 2.06-.94-2.06-.94-.94-2.06-.94 2.06-2.06.94zm-11 1L8.5 8.5l.94-2.06 2.06-.94-2.06-.94L8.5 2.5l-.94 2.06-2.06.94zm10 10l.94 2.06.94-2.06 2.06-.94-2.06-.94-.94-2.06-.94 2.06-2.06.94z\"/><path d=\"M17.41 7.96l-1.37-1.37c-.4-.4-.92-.59-1.43-.59-.52 0-1.04.2-1.43.59L10.3 9.45l-7.72 7.72c-.78.78-.78 2.05 0 2.83L4 21.41c.39.39.9.59 1.41.59.51 0 1.02-.2 1.41-.59l7.78-7.78 2.81-2.81c.8-.78.8-2.07 0-2.86zM5.41 20L4 18.59l7.72-7.72 1.47 1.35L5.41 20z\"/>\n",
              "  </svg>\n",
              "      </button>\n",
              "      \n",
              "  <style>\n",
              "    .colab-df-container {\n",
              "      display:flex;\n",
              "      flex-wrap:wrap;\n",
              "      gap: 12px;\n",
              "    }\n",
              "\n",
              "    .colab-df-convert {\n",
              "      background-color: #E8F0FE;\n",
              "      border: none;\n",
              "      border-radius: 50%;\n",
              "      cursor: pointer;\n",
              "      display: none;\n",
              "      fill: #1967D2;\n",
              "      height: 32px;\n",
              "      padding: 0 0 0 0;\n",
              "      width: 32px;\n",
              "    }\n",
              "\n",
              "    .colab-df-convert:hover {\n",
              "      background-color: #E2EBFA;\n",
              "      box-shadow: 0px 1px 2px rgba(60, 64, 67, 0.3), 0px 1px 3px 1px rgba(60, 64, 67, 0.15);\n",
              "      fill: #174EA6;\n",
              "    }\n",
              "\n",
              "    [theme=dark] .colab-df-convert {\n",
              "      background-color: #3B4455;\n",
              "      fill: #D2E3FC;\n",
              "    }\n",
              "\n",
              "    [theme=dark] .colab-df-convert:hover {\n",
              "      background-color: #434B5C;\n",
              "      box-shadow: 0px 1px 3px 1px rgba(0, 0, 0, 0.15);\n",
              "      filter: drop-shadow(0px 1px 2px rgba(0, 0, 0, 0.3));\n",
              "      fill: #FFFFFF;\n",
              "    }\n",
              "  </style>\n",
              "\n",
              "      <script>\n",
              "        const buttonEl =\n",
              "          document.querySelector('#df-a5459ba1-b191-4de4-9b4d-2ae26ac29540 button.colab-df-convert');\n",
              "        buttonEl.style.display =\n",
              "          google.colab.kernel.accessAllowed ? 'block' : 'none';\n",
              "\n",
              "        async function convertToInteractive(key) {\n",
              "          const element = document.querySelector('#df-a5459ba1-b191-4de4-9b4d-2ae26ac29540');\n",
              "          const dataTable =\n",
              "            await google.colab.kernel.invokeFunction('convertToInteractive',\n",
              "                                                     [key], {});\n",
              "          if (!dataTable) return;\n",
              "\n",
              "          const docLinkHtml = 'Like what you see? Visit the ' +\n",
              "            '<a target=\"_blank\" href=https://colab.research.google.com/notebooks/data_table.ipynb>data table notebook</a>'\n",
              "            + ' to learn more about interactive tables.';\n",
              "          element.innerHTML = '';\n",
              "          dataTable['output_type'] = 'display_data';\n",
              "          await google.colab.output.renderOutput(dataTable, element);\n",
              "          const docLink = document.createElement('div');\n",
              "          docLink.innerHTML = docLinkHtml;\n",
              "          element.appendChild(docLink);\n",
              "        }\n",
              "      </script>\n",
              "    </div>\n",
              "  </div>\n",
              "  "
            ]
          },
          "metadata": {},
          "execution_count": 52
        }
      ]
    },
    {
      "cell_type": "markdown",
      "source": [
        "User dgn layanan melalui fiber optic memiliki tingkat churn paling besar (1297), dibandingkan DSL (459) dan tanpa internet service (113). Hal ini mengindikasikan terdapat masalah pada layanan fiber optic. Kita akan lihat apakah keberadaan techincal support berpengaruh terhadap churn:"
      ],
      "metadata": {
        "id": "iKOwSxABj3-j"
      }
    },
    {
      "cell_type": "code",
      "source": [
        "# Kelompokkan kolom techical support terhadap kolom churn\n",
        "churn_ts = pd.DataFrame(df.groupby('TechSupport')['Churn'].value_counts())\n",
        "churn_ts"
      ],
      "metadata": {
        "colab": {
          "base_uri": "https://localhost:8080/",
          "height": 0
        },
        "id": "zSVKn_dEy10y",
        "outputId": "0c65402d-16da-4462-b9ed-dbd69b5059f5"
      },
      "execution_count": 53,
      "outputs": [
        {
          "output_type": "execute_result",
          "data": {
            "text/plain": [
              "                           Churn\n",
              "TechSupport         Churn       \n",
              "No                  No      2027\n",
              "                    Yes     1446\n",
              "No internet service No      1413\n",
              "                    Yes      113\n",
              "Yes                 No      1734\n",
              "                    Yes      310"
            ],
            "text/html": [
              "\n",
              "  <div id=\"df-9ee68593-718d-43bc-96ee-1cca60eefc78\">\n",
              "    <div class=\"colab-df-container\">\n",
              "      <div>\n",
              "<style scoped>\n",
              "    .dataframe tbody tr th:only-of-type {\n",
              "        vertical-align: middle;\n",
              "    }\n",
              "\n",
              "    .dataframe tbody tr th {\n",
              "        vertical-align: top;\n",
              "    }\n",
              "\n",
              "    .dataframe thead th {\n",
              "        text-align: right;\n",
              "    }\n",
              "</style>\n",
              "<table border=\"1\" class=\"dataframe\">\n",
              "  <thead>\n",
              "    <tr style=\"text-align: right;\">\n",
              "      <th></th>\n",
              "      <th></th>\n",
              "      <th>Churn</th>\n",
              "    </tr>\n",
              "    <tr>\n",
              "      <th>TechSupport</th>\n",
              "      <th>Churn</th>\n",
              "      <th></th>\n",
              "    </tr>\n",
              "  </thead>\n",
              "  <tbody>\n",
              "    <tr>\n",
              "      <th rowspan=\"2\" valign=\"top\">No</th>\n",
              "      <th>No</th>\n",
              "      <td>2027</td>\n",
              "    </tr>\n",
              "    <tr>\n",
              "      <th>Yes</th>\n",
              "      <td>1446</td>\n",
              "    </tr>\n",
              "    <tr>\n",
              "      <th rowspan=\"2\" valign=\"top\">No internet service</th>\n",
              "      <th>No</th>\n",
              "      <td>1413</td>\n",
              "    </tr>\n",
              "    <tr>\n",
              "      <th>Yes</th>\n",
              "      <td>113</td>\n",
              "    </tr>\n",
              "    <tr>\n",
              "      <th rowspan=\"2\" valign=\"top\">Yes</th>\n",
              "      <th>No</th>\n",
              "      <td>1734</td>\n",
              "    </tr>\n",
              "    <tr>\n",
              "      <th>Yes</th>\n",
              "      <td>310</td>\n",
              "    </tr>\n",
              "  </tbody>\n",
              "</table>\n",
              "</div>\n",
              "      <button class=\"colab-df-convert\" onclick=\"convertToInteractive('df-9ee68593-718d-43bc-96ee-1cca60eefc78')\"\n",
              "              title=\"Convert this dataframe to an interactive table.\"\n",
              "              style=\"display:none;\">\n",
              "        \n",
              "  <svg xmlns=\"http://www.w3.org/2000/svg\" height=\"24px\"viewBox=\"0 0 24 24\"\n",
              "       width=\"24px\">\n",
              "    <path d=\"M0 0h24v24H0V0z\" fill=\"none\"/>\n",
              "    <path d=\"M18.56 5.44l.94 2.06.94-2.06 2.06-.94-2.06-.94-.94-2.06-.94 2.06-2.06.94zm-11 1L8.5 8.5l.94-2.06 2.06-.94-2.06-.94L8.5 2.5l-.94 2.06-2.06.94zm10 10l.94 2.06.94-2.06 2.06-.94-2.06-.94-.94-2.06-.94 2.06-2.06.94z\"/><path d=\"M17.41 7.96l-1.37-1.37c-.4-.4-.92-.59-1.43-.59-.52 0-1.04.2-1.43.59L10.3 9.45l-7.72 7.72c-.78.78-.78 2.05 0 2.83L4 21.41c.39.39.9.59 1.41.59.51 0 1.02-.2 1.41-.59l7.78-7.78 2.81-2.81c.8-.78.8-2.07 0-2.86zM5.41 20L4 18.59l7.72-7.72 1.47 1.35L5.41 20z\"/>\n",
              "  </svg>\n",
              "      </button>\n",
              "      \n",
              "  <style>\n",
              "    .colab-df-container {\n",
              "      display:flex;\n",
              "      flex-wrap:wrap;\n",
              "      gap: 12px;\n",
              "    }\n",
              "\n",
              "    .colab-df-convert {\n",
              "      background-color: #E8F0FE;\n",
              "      border: none;\n",
              "      border-radius: 50%;\n",
              "      cursor: pointer;\n",
              "      display: none;\n",
              "      fill: #1967D2;\n",
              "      height: 32px;\n",
              "      padding: 0 0 0 0;\n",
              "      width: 32px;\n",
              "    }\n",
              "\n",
              "    .colab-df-convert:hover {\n",
              "      background-color: #E2EBFA;\n",
              "      box-shadow: 0px 1px 2px rgba(60, 64, 67, 0.3), 0px 1px 3px 1px rgba(60, 64, 67, 0.15);\n",
              "      fill: #174EA6;\n",
              "    }\n",
              "\n",
              "    [theme=dark] .colab-df-convert {\n",
              "      background-color: #3B4455;\n",
              "      fill: #D2E3FC;\n",
              "    }\n",
              "\n",
              "    [theme=dark] .colab-df-convert:hover {\n",
              "      background-color: #434B5C;\n",
              "      box-shadow: 0px 1px 3px 1px rgba(0, 0, 0, 0.15);\n",
              "      filter: drop-shadow(0px 1px 2px rgba(0, 0, 0, 0.3));\n",
              "      fill: #FFFFFF;\n",
              "    }\n",
              "  </style>\n",
              "\n",
              "      <script>\n",
              "        const buttonEl =\n",
              "          document.querySelector('#df-9ee68593-718d-43bc-96ee-1cca60eefc78 button.colab-df-convert');\n",
              "        buttonEl.style.display =\n",
              "          google.colab.kernel.accessAllowed ? 'block' : 'none';\n",
              "\n",
              "        async function convertToInteractive(key) {\n",
              "          const element = document.querySelector('#df-9ee68593-718d-43bc-96ee-1cca60eefc78');\n",
              "          const dataTable =\n",
              "            await google.colab.kernel.invokeFunction('convertToInteractive',\n",
              "                                                     [key], {});\n",
              "          if (!dataTable) return;\n",
              "\n",
              "          const docLinkHtml = 'Like what you see? Visit the ' +\n",
              "            '<a target=\"_blank\" href=https://colab.research.google.com/notebooks/data_table.ipynb>data table notebook</a>'\n",
              "            + ' to learn more about interactive tables.';\n",
              "          element.innerHTML = '';\n",
              "          dataTable['output_type'] = 'display_data';\n",
              "          await google.colab.output.renderOutput(dataTable, element);\n",
              "          const docLink = document.createElement('div');\n",
              "          docLink.innerHTML = docLinkHtml;\n",
              "          element.appendChild(docLink);\n",
              "        }\n",
              "      </script>\n",
              "    </div>\n",
              "  </div>\n",
              "  "
            ]
          },
          "metadata": {},
          "execution_count": 53
        }
      ]
    },
    {
      "cell_type": "markdown",
      "source": [
        "User yg tidak mendapat technical support mengalami jauh lbh banyak churn (1446) dibandingkan yg mendapat technical support (310). Artinya technical support sangat berpengaruh terhadap churn rate. Mari kita perdalam lagi jumlah churn pada user yg menggunakan fiber optic tanpa technical support:"
      ],
      "metadata": {
        "id": "9Riwt18tkfvF"
      }
    },
    {
      "cell_type": "code",
      "source": [
        "# Kelompokkan user dgn fiber optic terhadap technical support dan churn\n",
        "fiber_ts_churn = pd.DataFrame(df.loc[df['InternetService']=='Fiber optic',['TechSupport','Churn']])\n",
        "df_fiber_ts_churn = pd.DataFrame(fiber_ts_churn.groupby('TechSupport')['Churn'].value_counts())\n",
        "df_fiber_ts_churn"
      ],
      "metadata": {
        "colab": {
          "base_uri": "https://localhost:8080/",
          "height": 0
        },
        "id": "wiLe83RNzMtK",
        "outputId": "f8f5110c-7b77-4a69-d676-e89595d9e091"
      },
      "execution_count": 54,
      "outputs": [
        {
          "output_type": "execute_result",
          "data": {
            "text/plain": [
              "                   Churn\n",
              "TechSupport Churn       \n",
              "No          No      1129\n",
              "            Yes     1101\n",
              "Yes         No       670\n",
              "            Yes      196"
            ],
            "text/html": [
              "\n",
              "  <div id=\"df-1ac054ea-a3a1-4eee-9d78-d13446ff3130\">\n",
              "    <div class=\"colab-df-container\">\n",
              "      <div>\n",
              "<style scoped>\n",
              "    .dataframe tbody tr th:only-of-type {\n",
              "        vertical-align: middle;\n",
              "    }\n",
              "\n",
              "    .dataframe tbody tr th {\n",
              "        vertical-align: top;\n",
              "    }\n",
              "\n",
              "    .dataframe thead th {\n",
              "        text-align: right;\n",
              "    }\n",
              "</style>\n",
              "<table border=\"1\" class=\"dataframe\">\n",
              "  <thead>\n",
              "    <tr style=\"text-align: right;\">\n",
              "      <th></th>\n",
              "      <th></th>\n",
              "      <th>Churn</th>\n",
              "    </tr>\n",
              "    <tr>\n",
              "      <th>TechSupport</th>\n",
              "      <th>Churn</th>\n",
              "      <th></th>\n",
              "    </tr>\n",
              "  </thead>\n",
              "  <tbody>\n",
              "    <tr>\n",
              "      <th rowspan=\"2\" valign=\"top\">No</th>\n",
              "      <th>No</th>\n",
              "      <td>1129</td>\n",
              "    </tr>\n",
              "    <tr>\n",
              "      <th>Yes</th>\n",
              "      <td>1101</td>\n",
              "    </tr>\n",
              "    <tr>\n",
              "      <th rowspan=\"2\" valign=\"top\">Yes</th>\n",
              "      <th>No</th>\n",
              "      <td>670</td>\n",
              "    </tr>\n",
              "    <tr>\n",
              "      <th>Yes</th>\n",
              "      <td>196</td>\n",
              "    </tr>\n",
              "  </tbody>\n",
              "</table>\n",
              "</div>\n",
              "      <button class=\"colab-df-convert\" onclick=\"convertToInteractive('df-1ac054ea-a3a1-4eee-9d78-d13446ff3130')\"\n",
              "              title=\"Convert this dataframe to an interactive table.\"\n",
              "              style=\"display:none;\">\n",
              "        \n",
              "  <svg xmlns=\"http://www.w3.org/2000/svg\" height=\"24px\"viewBox=\"0 0 24 24\"\n",
              "       width=\"24px\">\n",
              "    <path d=\"M0 0h24v24H0V0z\" fill=\"none\"/>\n",
              "    <path d=\"M18.56 5.44l.94 2.06.94-2.06 2.06-.94-2.06-.94-.94-2.06-.94 2.06-2.06.94zm-11 1L8.5 8.5l.94-2.06 2.06-.94-2.06-.94L8.5 2.5l-.94 2.06-2.06.94zm10 10l.94 2.06.94-2.06 2.06-.94-2.06-.94-.94-2.06-.94 2.06-2.06.94z\"/><path d=\"M17.41 7.96l-1.37-1.37c-.4-.4-.92-.59-1.43-.59-.52 0-1.04.2-1.43.59L10.3 9.45l-7.72 7.72c-.78.78-.78 2.05 0 2.83L4 21.41c.39.39.9.59 1.41.59.51 0 1.02-.2 1.41-.59l7.78-7.78 2.81-2.81c.8-.78.8-2.07 0-2.86zM5.41 20L4 18.59l7.72-7.72 1.47 1.35L5.41 20z\"/>\n",
              "  </svg>\n",
              "      </button>\n",
              "      \n",
              "  <style>\n",
              "    .colab-df-container {\n",
              "      display:flex;\n",
              "      flex-wrap:wrap;\n",
              "      gap: 12px;\n",
              "    }\n",
              "\n",
              "    .colab-df-convert {\n",
              "      background-color: #E8F0FE;\n",
              "      border: none;\n",
              "      border-radius: 50%;\n",
              "      cursor: pointer;\n",
              "      display: none;\n",
              "      fill: #1967D2;\n",
              "      height: 32px;\n",
              "      padding: 0 0 0 0;\n",
              "      width: 32px;\n",
              "    }\n",
              "\n",
              "    .colab-df-convert:hover {\n",
              "      background-color: #E2EBFA;\n",
              "      box-shadow: 0px 1px 2px rgba(60, 64, 67, 0.3), 0px 1px 3px 1px rgba(60, 64, 67, 0.15);\n",
              "      fill: #174EA6;\n",
              "    }\n",
              "\n",
              "    [theme=dark] .colab-df-convert {\n",
              "      background-color: #3B4455;\n",
              "      fill: #D2E3FC;\n",
              "    }\n",
              "\n",
              "    [theme=dark] .colab-df-convert:hover {\n",
              "      background-color: #434B5C;\n",
              "      box-shadow: 0px 1px 3px 1px rgba(0, 0, 0, 0.15);\n",
              "      filter: drop-shadow(0px 1px 2px rgba(0, 0, 0, 0.3));\n",
              "      fill: #FFFFFF;\n",
              "    }\n",
              "  </style>\n",
              "\n",
              "      <script>\n",
              "        const buttonEl =\n",
              "          document.querySelector('#df-1ac054ea-a3a1-4eee-9d78-d13446ff3130 button.colab-df-convert');\n",
              "        buttonEl.style.display =\n",
              "          google.colab.kernel.accessAllowed ? 'block' : 'none';\n",
              "\n",
              "        async function convertToInteractive(key) {\n",
              "          const element = document.querySelector('#df-1ac054ea-a3a1-4eee-9d78-d13446ff3130');\n",
              "          const dataTable =\n",
              "            await google.colab.kernel.invokeFunction('convertToInteractive',\n",
              "                                                     [key], {});\n",
              "          if (!dataTable) return;\n",
              "\n",
              "          const docLinkHtml = 'Like what you see? Visit the ' +\n",
              "            '<a target=\"_blank\" href=https://colab.research.google.com/notebooks/data_table.ipynb>data table notebook</a>'\n",
              "            + ' to learn more about interactive tables.';\n",
              "          element.innerHTML = '';\n",
              "          dataTable['output_type'] = 'display_data';\n",
              "          await google.colab.output.renderOutput(dataTable, element);\n",
              "          const docLink = document.createElement('div');\n",
              "          docLink.innerHTML = docLinkHtml;\n",
              "          element.appendChild(docLink);\n",
              "        }\n",
              "      </script>\n",
              "    </div>\n",
              "  </div>\n",
              "  "
            ]
          },
          "metadata": {},
          "execution_count": 54
        }
      ]
    },
    {
      "cell_type": "markdown",
      "source": [
        "Pada user dgn fiber optic tanpa technical support, jumlah user yg mengalami churn (1101) sama banyaknya dgn user yg tidak churn (1129). "
      ],
      "metadata": {
        "id": "OlJBmhNalURe"
      }
    },
    {
      "cell_type": "code",
      "source": [
        "# Hitung jumlah user yg mengalami churn dan tidak\n",
        "df['Churn'].value_counts()"
      ],
      "metadata": {
        "colab": {
          "base_uri": "https://localhost:8080/"
        },
        "id": "zjaMiNyi0vu0",
        "outputId": "117f8440-830c-4568-c385-2aec30a0e783"
      },
      "execution_count": 55,
      "outputs": [
        {
          "output_type": "execute_result",
          "data": {
            "text/plain": [
              "No     5174\n",
              "Yes    1869\n",
              "Name: Churn, dtype: int64"
            ]
          },
          "metadata": {},
          "execution_count": 55
        }
      ]
    },
    {
      "cell_type": "markdown",
      "source": [
        "Terdapat 1869 user mengalami churn. Mari kita hitung persentase user dgn fiber optic tanpa technical support yg mengalami churn dgn jumlah churn secara keseluruhan:"
      ],
      "metadata": {
        "id": "UOgSYmzZlqZn"
      }
    },
    {
      "cell_type": "code",
      "source": [
        "churn_ratio = df_fiber_ts_churn['Churn'][1]/df['Churn'].value_counts()[1]\n",
        "print('Churn rate user dgn layanan fiber optik tanpa tech support adalah: ', churn_ratio*100)"
      ],
      "metadata": {
        "colab": {
          "base_uri": "https://localhost:8080/"
        },
        "id": "8IJfP_nF1DiR",
        "outputId": "bcc414ab-6946-4101-f29a-ac5bb30fe46e"
      },
      "execution_count": 56,
      "outputs": [
        {
          "output_type": "stream",
          "name": "stdout",
          "text": [
            "Churn rate user dgn layanan fiber optik tanpa tech support adalah:  58.90850722311396\n"
          ]
        }
      ]
    },
    {
      "cell_type": "markdown",
      "source": [
        "Persentase user dgn fiber optik tanpa layanan technical support yg mengalami churn adalah 58% dari keseluruhan jumlah churn. Layanan fiber optik merupakan teknologi paling canggih saat ini yg bertujuan utk mempercepat bandwidth internet. Namun, tampaknya banyak user mengalami kendala teknis oleh layanan ini dan ketika mereka tdk mendapatkan technical support dari provider, mereka cenderung akan menghentikan layanan."
      ],
      "metadata": {
        "id": "8kLPH3Mql2-D"
      }
    },
    {
      "cell_type": "code",
      "source": [
        "# Kelompokkan kolom streamingTV dan kolom churn\n",
        "churn_streamtv = pd.DataFrame(df.groupby('StreamingTV')['Churn'].value_counts())\n",
        "churn_streamtv"
      ],
      "metadata": {
        "colab": {
          "base_uri": "https://localhost:8080/",
          "height": 0
        },
        "id": "gLjEyb722Gj7",
        "outputId": "bea71142-acb1-4787-b30b-30f9cfe65d42"
      },
      "execution_count": 57,
      "outputs": [
        {
          "output_type": "execute_result",
          "data": {
            "text/plain": [
              "                           Churn\n",
              "StreamingTV         Churn       \n",
              "No                  No      1868\n",
              "                    Yes      942\n",
              "No internet service No      1413\n",
              "                    Yes      113\n",
              "Yes                 No      1893\n",
              "                    Yes      814"
            ],
            "text/html": [
              "\n",
              "  <div id=\"df-7f2c2918-64ca-4937-85e0-0e6a0fbe5249\">\n",
              "    <div class=\"colab-df-container\">\n",
              "      <div>\n",
              "<style scoped>\n",
              "    .dataframe tbody tr th:only-of-type {\n",
              "        vertical-align: middle;\n",
              "    }\n",
              "\n",
              "    .dataframe tbody tr th {\n",
              "        vertical-align: top;\n",
              "    }\n",
              "\n",
              "    .dataframe thead th {\n",
              "        text-align: right;\n",
              "    }\n",
              "</style>\n",
              "<table border=\"1\" class=\"dataframe\">\n",
              "  <thead>\n",
              "    <tr style=\"text-align: right;\">\n",
              "      <th></th>\n",
              "      <th></th>\n",
              "      <th>Churn</th>\n",
              "    </tr>\n",
              "    <tr>\n",
              "      <th>StreamingTV</th>\n",
              "      <th>Churn</th>\n",
              "      <th></th>\n",
              "    </tr>\n",
              "  </thead>\n",
              "  <tbody>\n",
              "    <tr>\n",
              "      <th rowspan=\"2\" valign=\"top\">No</th>\n",
              "      <th>No</th>\n",
              "      <td>1868</td>\n",
              "    </tr>\n",
              "    <tr>\n",
              "      <th>Yes</th>\n",
              "      <td>942</td>\n",
              "    </tr>\n",
              "    <tr>\n",
              "      <th rowspan=\"2\" valign=\"top\">No internet service</th>\n",
              "      <th>No</th>\n",
              "      <td>1413</td>\n",
              "    </tr>\n",
              "    <tr>\n",
              "      <th>Yes</th>\n",
              "      <td>113</td>\n",
              "    </tr>\n",
              "    <tr>\n",
              "      <th rowspan=\"2\" valign=\"top\">Yes</th>\n",
              "      <th>No</th>\n",
              "      <td>1893</td>\n",
              "    </tr>\n",
              "    <tr>\n",
              "      <th>Yes</th>\n",
              "      <td>814</td>\n",
              "    </tr>\n",
              "  </tbody>\n",
              "</table>\n",
              "</div>\n",
              "      <button class=\"colab-df-convert\" onclick=\"convertToInteractive('df-7f2c2918-64ca-4937-85e0-0e6a0fbe5249')\"\n",
              "              title=\"Convert this dataframe to an interactive table.\"\n",
              "              style=\"display:none;\">\n",
              "        \n",
              "  <svg xmlns=\"http://www.w3.org/2000/svg\" height=\"24px\"viewBox=\"0 0 24 24\"\n",
              "       width=\"24px\">\n",
              "    <path d=\"M0 0h24v24H0V0z\" fill=\"none\"/>\n",
              "    <path d=\"M18.56 5.44l.94 2.06.94-2.06 2.06-.94-2.06-.94-.94-2.06-.94 2.06-2.06.94zm-11 1L8.5 8.5l.94-2.06 2.06-.94-2.06-.94L8.5 2.5l-.94 2.06-2.06.94zm10 10l.94 2.06.94-2.06 2.06-.94-2.06-.94-.94-2.06-.94 2.06-2.06.94z\"/><path d=\"M17.41 7.96l-1.37-1.37c-.4-.4-.92-.59-1.43-.59-.52 0-1.04.2-1.43.59L10.3 9.45l-7.72 7.72c-.78.78-.78 2.05 0 2.83L4 21.41c.39.39.9.59 1.41.59.51 0 1.02-.2 1.41-.59l7.78-7.78 2.81-2.81c.8-.78.8-2.07 0-2.86zM5.41 20L4 18.59l7.72-7.72 1.47 1.35L5.41 20z\"/>\n",
              "  </svg>\n",
              "      </button>\n",
              "      \n",
              "  <style>\n",
              "    .colab-df-container {\n",
              "      display:flex;\n",
              "      flex-wrap:wrap;\n",
              "      gap: 12px;\n",
              "    }\n",
              "\n",
              "    .colab-df-convert {\n",
              "      background-color: #E8F0FE;\n",
              "      border: none;\n",
              "      border-radius: 50%;\n",
              "      cursor: pointer;\n",
              "      display: none;\n",
              "      fill: #1967D2;\n",
              "      height: 32px;\n",
              "      padding: 0 0 0 0;\n",
              "      width: 32px;\n",
              "    }\n",
              "\n",
              "    .colab-df-convert:hover {\n",
              "      background-color: #E2EBFA;\n",
              "      box-shadow: 0px 1px 2px rgba(60, 64, 67, 0.3), 0px 1px 3px 1px rgba(60, 64, 67, 0.15);\n",
              "      fill: #174EA6;\n",
              "    }\n",
              "\n",
              "    [theme=dark] .colab-df-convert {\n",
              "      background-color: #3B4455;\n",
              "      fill: #D2E3FC;\n",
              "    }\n",
              "\n",
              "    [theme=dark] .colab-df-convert:hover {\n",
              "      background-color: #434B5C;\n",
              "      box-shadow: 0px 1px 3px 1px rgba(0, 0, 0, 0.15);\n",
              "      filter: drop-shadow(0px 1px 2px rgba(0, 0, 0, 0.3));\n",
              "      fill: #FFFFFF;\n",
              "    }\n",
              "  </style>\n",
              "\n",
              "      <script>\n",
              "        const buttonEl =\n",
              "          document.querySelector('#df-7f2c2918-64ca-4937-85e0-0e6a0fbe5249 button.colab-df-convert');\n",
              "        buttonEl.style.display =\n",
              "          google.colab.kernel.accessAllowed ? 'block' : 'none';\n",
              "\n",
              "        async function convertToInteractive(key) {\n",
              "          const element = document.querySelector('#df-7f2c2918-64ca-4937-85e0-0e6a0fbe5249');\n",
              "          const dataTable =\n",
              "            await google.colab.kernel.invokeFunction('convertToInteractive',\n",
              "                                                     [key], {});\n",
              "          if (!dataTable) return;\n",
              "\n",
              "          const docLinkHtml = 'Like what you see? Visit the ' +\n",
              "            '<a target=\"_blank\" href=https://colab.research.google.com/notebooks/data_table.ipynb>data table notebook</a>'\n",
              "            + ' to learn more about interactive tables.';\n",
              "          element.innerHTML = '';\n",
              "          dataTable['output_type'] = 'display_data';\n",
              "          await google.colab.output.renderOutput(dataTable, element);\n",
              "          const docLink = document.createElement('div');\n",
              "          docLink.innerHTML = docLinkHtml;\n",
              "          element.appendChild(docLink);\n",
              "        }\n",
              "      </script>\n",
              "    </div>\n",
              "  </div>\n",
              "  "
            ]
          },
          "metadata": {},
          "execution_count": 57
        }
      ]
    },
    {
      "cell_type": "markdown",
      "source": [
        "Layanan streaming TV tdk mempengaruhi churn rate"
      ],
      "metadata": {
        "id": "gGcHxuTqmgoc"
      }
    },
    {
      "cell_type": "code",
      "source": [
        "# Kelompokkan kolom StreamingMovies dan kolom churn\n",
        "churn_streamm = pd.DataFrame(df.groupby('StreamingMovies')['Churn'].value_counts())\n",
        "churn_streamm"
      ],
      "metadata": {
        "colab": {
          "base_uri": "https://localhost:8080/",
          "height": 0
        },
        "id": "EoHOZaBD2k8w",
        "outputId": "a5e022f8-18f0-4d1a-e26f-d04280094bbd"
      },
      "execution_count": 58,
      "outputs": [
        {
          "output_type": "execute_result",
          "data": {
            "text/plain": [
              "                           Churn\n",
              "StreamingMovies     Churn       \n",
              "No                  No      1847\n",
              "                    Yes      938\n",
              "No internet service No      1413\n",
              "                    Yes      113\n",
              "Yes                 No      1914\n",
              "                    Yes      818"
            ],
            "text/html": [
              "\n",
              "  <div id=\"df-f2c76388-8f6c-46d1-88af-c871c932beab\">\n",
              "    <div class=\"colab-df-container\">\n",
              "      <div>\n",
              "<style scoped>\n",
              "    .dataframe tbody tr th:only-of-type {\n",
              "        vertical-align: middle;\n",
              "    }\n",
              "\n",
              "    .dataframe tbody tr th {\n",
              "        vertical-align: top;\n",
              "    }\n",
              "\n",
              "    .dataframe thead th {\n",
              "        text-align: right;\n",
              "    }\n",
              "</style>\n",
              "<table border=\"1\" class=\"dataframe\">\n",
              "  <thead>\n",
              "    <tr style=\"text-align: right;\">\n",
              "      <th></th>\n",
              "      <th></th>\n",
              "      <th>Churn</th>\n",
              "    </tr>\n",
              "    <tr>\n",
              "      <th>StreamingMovies</th>\n",
              "      <th>Churn</th>\n",
              "      <th></th>\n",
              "    </tr>\n",
              "  </thead>\n",
              "  <tbody>\n",
              "    <tr>\n",
              "      <th rowspan=\"2\" valign=\"top\">No</th>\n",
              "      <th>No</th>\n",
              "      <td>1847</td>\n",
              "    </tr>\n",
              "    <tr>\n",
              "      <th>Yes</th>\n",
              "      <td>938</td>\n",
              "    </tr>\n",
              "    <tr>\n",
              "      <th rowspan=\"2\" valign=\"top\">No internet service</th>\n",
              "      <th>No</th>\n",
              "      <td>1413</td>\n",
              "    </tr>\n",
              "    <tr>\n",
              "      <th>Yes</th>\n",
              "      <td>113</td>\n",
              "    </tr>\n",
              "    <tr>\n",
              "      <th rowspan=\"2\" valign=\"top\">Yes</th>\n",
              "      <th>No</th>\n",
              "      <td>1914</td>\n",
              "    </tr>\n",
              "    <tr>\n",
              "      <th>Yes</th>\n",
              "      <td>818</td>\n",
              "    </tr>\n",
              "  </tbody>\n",
              "</table>\n",
              "</div>\n",
              "      <button class=\"colab-df-convert\" onclick=\"convertToInteractive('df-f2c76388-8f6c-46d1-88af-c871c932beab')\"\n",
              "              title=\"Convert this dataframe to an interactive table.\"\n",
              "              style=\"display:none;\">\n",
              "        \n",
              "  <svg xmlns=\"http://www.w3.org/2000/svg\" height=\"24px\"viewBox=\"0 0 24 24\"\n",
              "       width=\"24px\">\n",
              "    <path d=\"M0 0h24v24H0V0z\" fill=\"none\"/>\n",
              "    <path d=\"M18.56 5.44l.94 2.06.94-2.06 2.06-.94-2.06-.94-.94-2.06-.94 2.06-2.06.94zm-11 1L8.5 8.5l.94-2.06 2.06-.94-2.06-.94L8.5 2.5l-.94 2.06-2.06.94zm10 10l.94 2.06.94-2.06 2.06-.94-2.06-.94-.94-2.06-.94 2.06-2.06.94z\"/><path d=\"M17.41 7.96l-1.37-1.37c-.4-.4-.92-.59-1.43-.59-.52 0-1.04.2-1.43.59L10.3 9.45l-7.72 7.72c-.78.78-.78 2.05 0 2.83L4 21.41c.39.39.9.59 1.41.59.51 0 1.02-.2 1.41-.59l7.78-7.78 2.81-2.81c.8-.78.8-2.07 0-2.86zM5.41 20L4 18.59l7.72-7.72 1.47 1.35L5.41 20z\"/>\n",
              "  </svg>\n",
              "      </button>\n",
              "      \n",
              "  <style>\n",
              "    .colab-df-container {\n",
              "      display:flex;\n",
              "      flex-wrap:wrap;\n",
              "      gap: 12px;\n",
              "    }\n",
              "\n",
              "    .colab-df-convert {\n",
              "      background-color: #E8F0FE;\n",
              "      border: none;\n",
              "      border-radius: 50%;\n",
              "      cursor: pointer;\n",
              "      display: none;\n",
              "      fill: #1967D2;\n",
              "      height: 32px;\n",
              "      padding: 0 0 0 0;\n",
              "      width: 32px;\n",
              "    }\n",
              "\n",
              "    .colab-df-convert:hover {\n",
              "      background-color: #E2EBFA;\n",
              "      box-shadow: 0px 1px 2px rgba(60, 64, 67, 0.3), 0px 1px 3px 1px rgba(60, 64, 67, 0.15);\n",
              "      fill: #174EA6;\n",
              "    }\n",
              "\n",
              "    [theme=dark] .colab-df-convert {\n",
              "      background-color: #3B4455;\n",
              "      fill: #D2E3FC;\n",
              "    }\n",
              "\n",
              "    [theme=dark] .colab-df-convert:hover {\n",
              "      background-color: #434B5C;\n",
              "      box-shadow: 0px 1px 3px 1px rgba(0, 0, 0, 0.15);\n",
              "      filter: drop-shadow(0px 1px 2px rgba(0, 0, 0, 0.3));\n",
              "      fill: #FFFFFF;\n",
              "    }\n",
              "  </style>\n",
              "\n",
              "      <script>\n",
              "        const buttonEl =\n",
              "          document.querySelector('#df-f2c76388-8f6c-46d1-88af-c871c932beab button.colab-df-convert');\n",
              "        buttonEl.style.display =\n",
              "          google.colab.kernel.accessAllowed ? 'block' : 'none';\n",
              "\n",
              "        async function convertToInteractive(key) {\n",
              "          const element = document.querySelector('#df-f2c76388-8f6c-46d1-88af-c871c932beab');\n",
              "          const dataTable =\n",
              "            await google.colab.kernel.invokeFunction('convertToInteractive',\n",
              "                                                     [key], {});\n",
              "          if (!dataTable) return;\n",
              "\n",
              "          const docLinkHtml = 'Like what you see? Visit the ' +\n",
              "            '<a target=\"_blank\" href=https://colab.research.google.com/notebooks/data_table.ipynb>data table notebook</a>'\n",
              "            + ' to learn more about interactive tables.';\n",
              "          element.innerHTML = '';\n",
              "          dataTable['output_type'] = 'display_data';\n",
              "          await google.colab.output.renderOutput(dataTable, element);\n",
              "          const docLink = document.createElement('div');\n",
              "          docLink.innerHTML = docLinkHtml;\n",
              "          element.appendChild(docLink);\n",
              "        }\n",
              "      </script>\n",
              "    </div>\n",
              "  </div>\n",
              "  "
            ]
          },
          "metadata": {},
          "execution_count": 58
        }
      ]
    },
    {
      "cell_type": "markdown",
      "source": [
        "Layanan streaming film tdk mempengaruhi churn rate. Berikutnya kita akan melihat persebaran masa kontrak antara user dan provider telekom"
      ],
      "metadata": {
        "id": "p8q4RLuXmw8f"
      }
    },
    {
      "cell_type": "code",
      "source": [
        "# Buat label utk legend pada pie chart\n",
        "palette_color = sns.color_palette('bright')\n",
        "label4 = list(pd.DataFrame(df['Contract'].value_counts()).index)\n",
        "\n",
        "# Buat figure dan plot pie chart\n",
        "plt.figure(figsize = (5, 5))\n",
        "plt.title('Contract')\n",
        "plt.pie(pd.DataFrame(df['Contract'].value_counts()),colors=palette_color, autopct='%.0f%%', wedgeprops={\"edgecolor\":\"k\"})\n",
        "plt.legend(label4, loc='upper right',bbox_to_anchor=(1.5,1))\n",
        "\n",
        "plt.show()"
      ],
      "metadata": {
        "colab": {
          "base_uri": "https://localhost:8080/",
          "height": 0
        },
        "id": "HhE_iyPf20WL",
        "outputId": "1f9be787-7bb9-4eba-fb21-062afce1063c"
      },
      "execution_count": 59,
      "outputs": [
        {
          "output_type": "stream",
          "name": "stderr",
          "text": [
            "<ipython-input-59-f4c70529c174>:8: MatplotlibDeprecationWarning: Non-1D inputs to pie() are currently squeeze()d, but this behavior is deprecated since 3.1 and will be removed in 3.3; pass a 1D array instead.\n",
            "  plt.pie(pd.DataFrame(df['Contract'].value_counts()),colors=palette_color, autopct='%.0f%%', wedgeprops={\"edgecolor\":\"k\"})\n"
          ]
        },
        {
          "output_type": "display_data",
          "data": {
            "text/plain": [
              "<Figure size 360x360 with 1 Axes>"
            ],
            "image/png": "[encoded data removed]"
          },
          "metadata": {}
        }
      ]
    },
    {
      "cell_type": "markdown",
      "source": [
        "Mayoritas user (55%) memilih kontrak bulanan dibandingkan kontrak 2 tahun (24%) dan 1 tahun (21%). Kita lihat apakah ada pengaruh masa kontrak thd churn:"
      ],
      "metadata": {
        "id": "1Do9Tu9am9GW"
      }
    },
    {
      "cell_type": "code",
      "source": [
        "# Kelompokkan kolom kontrak dan kolom churn\n",
        "churn_contract = pd.DataFrame(df.groupby('Contract')['Churn'].value_counts())\n",
        "churn_contract"
      ],
      "metadata": {
        "colab": {
          "base_uri": "https://localhost:8080/",
          "height": 0
        },
        "id": "8JW4HvCY2_FM",
        "outputId": "49ebceab-908e-4139-9b4e-fc7bbe754c70"
      },
      "execution_count": 60,
      "outputs": [
        {
          "output_type": "execute_result",
          "data": {
            "text/plain": [
              "                      Churn\n",
              "Contract       Churn       \n",
              "Month-to-month No      2220\n",
              "               Yes     1655\n",
              "One year       No      1307\n",
              "               Yes      166\n",
              "Two year       No      1647\n",
              "               Yes       48"
            ],
            "text/html": [
              "\n",
              "  <div id=\"df-c87bf1ff-011e-4dc8-bddc-78178462da07\">\n",
              "    <div class=\"colab-df-container\">\n",
              "      <div>\n",
              "<style scoped>\n",
              "    .dataframe tbody tr th:only-of-type {\n",
              "        vertical-align: middle;\n",
              "    }\n",
              "\n",
              "    .dataframe tbody tr th {\n",
              "        vertical-align: top;\n",
              "    }\n",
              "\n",
              "    .dataframe thead th {\n",
              "        text-align: right;\n",
              "    }\n",
              "</style>\n",
              "<table border=\"1\" class=\"dataframe\">\n",
              "  <thead>\n",
              "    <tr style=\"text-align: right;\">\n",
              "      <th></th>\n",
              "      <th></th>\n",
              "      <th>Churn</th>\n",
              "    </tr>\n",
              "    <tr>\n",
              "      <th>Contract</th>\n",
              "      <th>Churn</th>\n",
              "      <th></th>\n",
              "    </tr>\n",
              "  </thead>\n",
              "  <tbody>\n",
              "    <tr>\n",
              "      <th rowspan=\"2\" valign=\"top\">Month-to-month</th>\n",
              "      <th>No</th>\n",
              "      <td>2220</td>\n",
              "    </tr>\n",
              "    <tr>\n",
              "      <th>Yes</th>\n",
              "      <td>1655</td>\n",
              "    </tr>\n",
              "    <tr>\n",
              "      <th rowspan=\"2\" valign=\"top\">One year</th>\n",
              "      <th>No</th>\n",
              "      <td>1307</td>\n",
              "    </tr>\n",
              "    <tr>\n",
              "      <th>Yes</th>\n",
              "      <td>166</td>\n",
              "    </tr>\n",
              "    <tr>\n",
              "      <th rowspan=\"2\" valign=\"top\">Two year</th>\n",
              "      <th>No</th>\n",
              "      <td>1647</td>\n",
              "    </tr>\n",
              "    <tr>\n",
              "      <th>Yes</th>\n",
              "      <td>48</td>\n",
              "    </tr>\n",
              "  </tbody>\n",
              "</table>\n",
              "</div>\n",
              "      <button class=\"colab-df-convert\" onclick=\"convertToInteractive('df-c87bf1ff-011e-4dc8-bddc-78178462da07')\"\n",
              "              title=\"Convert this dataframe to an interactive table.\"\n",
              "              style=\"display:none;\">\n",
              "        \n",
              "  <svg xmlns=\"http://www.w3.org/2000/svg\" height=\"24px\"viewBox=\"0 0 24 24\"\n",
              "       width=\"24px\">\n",
              "    <path d=\"M0 0h24v24H0V0z\" fill=\"none\"/>\n",
              "    <path d=\"M18.56 5.44l.94 2.06.94-2.06 2.06-.94-2.06-.94-.94-2.06-.94 2.06-2.06.94zm-11 1L8.5 8.5l.94-2.06 2.06-.94-2.06-.94L8.5 2.5l-.94 2.06-2.06.94zm10 10l.94 2.06.94-2.06 2.06-.94-2.06-.94-.94-2.06-.94 2.06-2.06.94z\"/><path d=\"M17.41 7.96l-1.37-1.37c-.4-.4-.92-.59-1.43-.59-.52 0-1.04.2-1.43.59L10.3 9.45l-7.72 7.72c-.78.78-.78 2.05 0 2.83L4 21.41c.39.39.9.59 1.41.59.51 0 1.02-.2 1.41-.59l7.78-7.78 2.81-2.81c.8-.78.8-2.07 0-2.86zM5.41 20L4 18.59l7.72-7.72 1.47 1.35L5.41 20z\"/>\n",
              "  </svg>\n",
              "      </button>\n",
              "      \n",
              "  <style>\n",
              "    .colab-df-container {\n",
              "      display:flex;\n",
              "      flex-wrap:wrap;\n",
              "      gap: 12px;\n",
              "    }\n",
              "\n",
              "    .colab-df-convert {\n",
              "      background-color: #E8F0FE;\n",
              "      border: none;\n",
              "      border-radius: 50%;\n",
              "      cursor: pointer;\n",
              "      display: none;\n",
              "      fill: #1967D2;\n",
              "      height: 32px;\n",
              "      padding: 0 0 0 0;\n",
              "      width: 32px;\n",
              "    }\n",
              "\n",
              "    .colab-df-convert:hover {\n",
              "      background-color: #E2EBFA;\n",
              "      box-shadow: 0px 1px 2px rgba(60, 64, 67, 0.3), 0px 1px 3px 1px rgba(60, 64, 67, 0.15);\n",
              "      fill: #174EA6;\n",
              "    }\n",
              "\n",
              "    [theme=dark] .colab-df-convert {\n",
              "      background-color: #3B4455;\n",
              "      fill: #D2E3FC;\n",
              "    }\n",
              "\n",
              "    [theme=dark] .colab-df-convert:hover {\n",
              "      background-color: #434B5C;\n",
              "      box-shadow: 0px 1px 3px 1px rgba(0, 0, 0, 0.15);\n",
              "      filter: drop-shadow(0px 1px 2px rgba(0, 0, 0, 0.3));\n",
              "      fill: #FFFFFF;\n",
              "    }\n",
              "  </style>\n",
              "\n",
              "      <script>\n",
              "        const buttonEl =\n",
              "          document.querySelector('#df-c87bf1ff-011e-4dc8-bddc-78178462da07 button.colab-df-convert');\n",
              "        buttonEl.style.display =\n",
              "          google.colab.kernel.accessAllowed ? 'block' : 'none';\n",
              "\n",
              "        async function convertToInteractive(key) {\n",
              "          const element = document.querySelector('#df-c87bf1ff-011e-4dc8-bddc-78178462da07');\n",
              "          const dataTable =\n",
              "            await google.colab.kernel.invokeFunction('convertToInteractive',\n",
              "                                                     [key], {});\n",
              "          if (!dataTable) return;\n",
              "\n",
              "          const docLinkHtml = 'Like what you see? Visit the ' +\n",
              "            '<a target=\"_blank\" href=https://colab.research.google.com/notebooks/data_table.ipynb>data table notebook</a>'\n",
              "            + ' to learn more about interactive tables.';\n",
              "          element.innerHTML = '';\n",
              "          dataTable['output_type'] = 'display_data';\n",
              "          await google.colab.output.renderOutput(dataTable, element);\n",
              "          const docLink = document.createElement('div');\n",
              "          docLink.innerHTML = docLinkHtml;\n",
              "          element.appendChild(docLink);\n",
              "        }\n",
              "      </script>\n",
              "    </div>\n",
              "  </div>\n",
              "  "
            ]
          },
          "metadata": {},
          "execution_count": 60
        }
      ]
    },
    {
      "cell_type": "markdown",
      "source": [
        "Ternyata user dgn month-to-month kontrak jauh lbh banyak mengalami churn (1655) dibandingkan user dgn 1 year (166) dan 2 year (48). Kita akan hitung thd jumlah churn scr keseluruhan:"
      ],
      "metadata": {
        "id": "m8_qBPFLol31"
      }
    },
    {
      "cell_type": "code",
      "source": [
        "print('Churn rate user dgn month-to-month contract adalah: ', (churn_contract['Churn'][1]/df['Churn'].value_counts()[1])*100)"
      ],
      "metadata": {
        "colab": {
          "base_uri": "https://localhost:8080/"
        },
        "id": "DYXevNaF3bDk",
        "outputId": "57683708-dc35-433c-fd25-e90495185d02"
      },
      "execution_count": 61,
      "outputs": [
        {
          "output_type": "stream",
          "name": "stdout",
          "text": [
            "Churn rate user dgn month-to-month contract adalah:  88.55002675227395\n"
          ]
        }
      ]
    },
    {
      "cell_type": "markdown",
      "source": [
        "Persentase user dgn kontrak bulanan yg mengalami churn adalah sebesar 88% dari jumlah churn keseluruhan. Hal ini mengindikasikan jika sebagian user yg mengalami churn adalah user yg baru mencoba2 layanan telekomunikasi dari perusahaan sehingga memakai kontrak bulanan agar lbh hemat. Entah krn mereka kecewa dgn service yg diberikan atau menemukan layanan dari kompetitor yg lbh baik, mereka akhirnya memutuskan utk menghentikan layanan telekomunikasi mereka."
      ],
      "metadata": {
        "id": "D4TVg0jto5LA"
      }
    },
    {
      "cell_type": "code",
      "source": [
        "# Kelompokkan kolom payment method dan kolom churn\n",
        "churn_pm = pd.DataFrame(df.groupby('PaymentMethod')['Churn'].value_counts())\n",
        "churn_pm"
      ],
      "metadata": {
        "colab": {
          "base_uri": "https://localhost:8080/",
          "height": 0
        },
        "id": "kmSGOSFm4Eck",
        "outputId": "e95b32e1-c8c1-40fb-d4e9-681247dd6aa5"
      },
      "execution_count": 62,
      "outputs": [
        {
          "output_type": "execute_result",
          "data": {
            "text/plain": [
              "                                 Churn\n",
              "PaymentMethod             Churn       \n",
              "Bank transfer (automatic) No      1286\n",
              "                          Yes      258\n",
              "Credit card (automatic)   No      1290\n",
              "                          Yes      232\n",
              "Electronic check          No      1294\n",
              "                          Yes     1071\n",
              "Mailed check              No      1304\n",
              "                          Yes      308"
            ],
            "text/html": [
              "\n",
              "  <div id=\"df-f7e12ba8-1ff7-44ae-9321-ab21d54669f4\">\n",
              "    <div class=\"colab-df-container\">\n",
              "      <div>\n",
              "<style scoped>\n",
              "    .dataframe tbody tr th:only-of-type {\n",
              "        vertical-align: middle;\n",
              "    }\n",
              "\n",
              "    .dataframe tbody tr th {\n",
              "        vertical-align: top;\n",
              "    }\n",
              "\n",
              "    .dataframe thead th {\n",
              "        text-align: right;\n",
              "    }\n",
              "</style>\n",
              "<table border=\"1\" class=\"dataframe\">\n",
              "  <thead>\n",
              "    <tr style=\"text-align: right;\">\n",
              "      <th></th>\n",
              "      <th></th>\n",
              "      <th>Churn</th>\n",
              "    </tr>\n",
              "    <tr>\n",
              "      <th>PaymentMethod</th>\n",
              "      <th>Churn</th>\n",
              "      <th></th>\n",
              "    </tr>\n",
              "  </thead>\n",
              "  <tbody>\n",
              "    <tr>\n",
              "      <th rowspan=\"2\" valign=\"top\">Bank transfer (automatic)</th>\n",
              "      <th>No</th>\n",
              "      <td>1286</td>\n",
              "    </tr>\n",
              "    <tr>\n",
              "      <th>Yes</th>\n",
              "      <td>258</td>\n",
              "    </tr>\n",
              "    <tr>\n",
              "      <th rowspan=\"2\" valign=\"top\">Credit card (automatic)</th>\n",
              "      <th>No</th>\n",
              "      <td>1290</td>\n",
              "    </tr>\n",
              "    <tr>\n",
              "      <th>Yes</th>\n",
              "      <td>232</td>\n",
              "    </tr>\n",
              "    <tr>\n",
              "      <th rowspan=\"2\" valign=\"top\">Electronic check</th>\n",
              "      <th>No</th>\n",
              "      <td>1294</td>\n",
              "    </tr>\n",
              "    <tr>\n",
              "      <th>Yes</th>\n",
              "      <td>1071</td>\n",
              "    </tr>\n",
              "    <tr>\n",
              "      <th rowspan=\"2\" valign=\"top\">Mailed check</th>\n",
              "      <th>No</th>\n",
              "      <td>1304</td>\n",
              "    </tr>\n",
              "    <tr>\n",
              "      <th>Yes</th>\n",
              "      <td>308</td>\n",
              "    </tr>\n",
              "  </tbody>\n",
              "</table>\n",
              "</div>\n",
              "      <button class=\"colab-df-convert\" onclick=\"convertToInteractive('df-f7e12ba8-1ff7-44ae-9321-ab21d54669f4')\"\n",
              "              title=\"Convert this dataframe to an interactive table.\"\n",
              "              style=\"display:none;\">\n",
              "        \n",
              "  <svg xmlns=\"http://www.w3.org/2000/svg\" height=\"24px\"viewBox=\"0 0 24 24\"\n",
              "       width=\"24px\">\n",
              "    <path d=\"M0 0h24v24H0V0z\" fill=\"none\"/>\n",
              "    <path d=\"M18.56 5.44l.94 2.06.94-2.06 2.06-.94-2.06-.94-.94-2.06-.94 2.06-2.06.94zm-11 1L8.5 8.5l.94-2.06 2.06-.94-2.06-.94L8.5 2.5l-.94 2.06-2.06.94zm10 10l.94 2.06.94-2.06 2.06-.94-2.06-.94-.94-2.06-.94 2.06-2.06.94z\"/><path d=\"M17.41 7.96l-1.37-1.37c-.4-.4-.92-.59-1.43-.59-.52 0-1.04.2-1.43.59L10.3 9.45l-7.72 7.72c-.78.78-.78 2.05 0 2.83L4 21.41c.39.39.9.59 1.41.59.51 0 1.02-.2 1.41-.59l7.78-7.78 2.81-2.81c.8-.78.8-2.07 0-2.86zM5.41 20L4 18.59l7.72-7.72 1.47 1.35L5.41 20z\"/>\n",
              "  </svg>\n",
              "      </button>\n",
              "      \n",
              "  <style>\n",
              "    .colab-df-container {\n",
              "      display:flex;\n",
              "      flex-wrap:wrap;\n",
              "      gap: 12px;\n",
              "    }\n",
              "\n",
              "    .colab-df-convert {\n",
              "      background-color: #E8F0FE;\n",
              "      border: none;\n",
              "      border-radius: 50%;\n",
              "      cursor: pointer;\n",
              "      display: none;\n",
              "      fill: #1967D2;\n",
              "      height: 32px;\n",
              "      padding: 0 0 0 0;\n",
              "      width: 32px;\n",
              "    }\n",
              "\n",
              "    .colab-df-convert:hover {\n",
              "      background-color: #E2EBFA;\n",
              "      box-shadow: 0px 1px 2px rgba(60, 64, 67, 0.3), 0px 1px 3px 1px rgba(60, 64, 67, 0.15);\n",
              "      fill: #174EA6;\n",
              "    }\n",
              "\n",
              "    [theme=dark] .colab-df-convert {\n",
              "      background-color: #3B4455;\n",
              "      fill: #D2E3FC;\n",
              "    }\n",
              "\n",
              "    [theme=dark] .colab-df-convert:hover {\n",
              "      background-color: #434B5C;\n",
              "      box-shadow: 0px 1px 3px 1px rgba(0, 0, 0, 0.15);\n",
              "      filter: drop-shadow(0px 1px 2px rgba(0, 0, 0, 0.3));\n",
              "      fill: #FFFFFF;\n",
              "    }\n",
              "  </style>\n",
              "\n",
              "      <script>\n",
              "        const buttonEl =\n",
              "          document.querySelector('#df-f7e12ba8-1ff7-44ae-9321-ab21d54669f4 button.colab-df-convert');\n",
              "        buttonEl.style.display =\n",
              "          google.colab.kernel.accessAllowed ? 'block' : 'none';\n",
              "\n",
              "        async function convertToInteractive(key) {\n",
              "          const element = document.querySelector('#df-f7e12ba8-1ff7-44ae-9321-ab21d54669f4');\n",
              "          const dataTable =\n",
              "            await google.colab.kernel.invokeFunction('convertToInteractive',\n",
              "                                                     [key], {});\n",
              "          if (!dataTable) return;\n",
              "\n",
              "          const docLinkHtml = 'Like what you see? Visit the ' +\n",
              "            '<a target=\"_blank\" href=https://colab.research.google.com/notebooks/data_table.ipynb>data table notebook</a>'\n",
              "            + ' to learn more about interactive tables.';\n",
              "          element.innerHTML = '';\n",
              "          dataTable['output_type'] = 'display_data';\n",
              "          await google.colab.output.renderOutput(dataTable, element);\n",
              "          const docLink = document.createElement('div');\n",
              "          docLink.innerHTML = docLinkHtml;\n",
              "          element.appendChild(docLink);\n",
              "        }\n",
              "      </script>\n",
              "    </div>\n",
              "  </div>\n",
              "  "
            ]
          },
          "metadata": {},
          "execution_count": 62
        }
      ]
    },
    {
      "cell_type": "markdown",
      "source": [
        "User dgn electronic check paling banyak mengalami churn (1071) dibanding user dgn metode pembayaran lainnya. Artinya sedikit banyak metode pembayaran berpengaruh thd tingkat churn"
      ],
      "metadata": {
        "id": "xjBrC15gpr9A"
      }
    },
    {
      "cell_type": "code",
      "source": [
        "# Kelompokkan kolom monthly charges dan kolom churn. Hitung jumlah rata2 monthly charges\n",
        "churn_mc = pd.DataFrame(df.groupby('Churn')['MonthlyCharges'].mean())\n",
        "churn_mc"
      ],
      "metadata": {
        "colab": {
          "base_uri": "https://localhost:8080/",
          "height": 0
        },
        "id": "ZpiYgF7F4pZd",
        "outputId": "b1da15cd-59e7-48a4-b8d0-72df22e8b8f1"
      },
      "execution_count": 63,
      "outputs": [
        {
          "output_type": "execute_result",
          "data": {
            "text/plain": [
              "       MonthlyCharges\n",
              "Churn                \n",
              "No          61.265124\n",
              "Yes         74.441332"
            ],
            "text/html": [
              "\n",
              "  <div id=\"df-021d3f3e-bfb1-44b3-82b2-8623498a2d32\">\n",
              "    <div class=\"colab-df-container\">\n",
              "      <div>\n",
              "<style scoped>\n",
              "    .dataframe tbody tr th:only-of-type {\n",
              "        vertical-align: middle;\n",
              "    }\n",
              "\n",
              "    .dataframe tbody tr th {\n",
              "        vertical-align: top;\n",
              "    }\n",
              "\n",
              "    .dataframe thead th {\n",
              "        text-align: right;\n",
              "    }\n",
              "</style>\n",
              "<table border=\"1\" class=\"dataframe\">\n",
              "  <thead>\n",
              "    <tr style=\"text-align: right;\">\n",
              "      <th></th>\n",
              "      <th>MonthlyCharges</th>\n",
              "    </tr>\n",
              "    <tr>\n",
              "      <th>Churn</th>\n",
              "      <th></th>\n",
              "    </tr>\n",
              "  </thead>\n",
              "  <tbody>\n",
              "    <tr>\n",
              "      <th>No</th>\n",
              "      <td>61.265124</td>\n",
              "    </tr>\n",
              "    <tr>\n",
              "      <th>Yes</th>\n",
              "      <td>74.441332</td>\n",
              "    </tr>\n",
              "  </tbody>\n",
              "</table>\n",
              "</div>\n",
              "      <button class=\"colab-df-convert\" onclick=\"convertToInteractive('df-021d3f3e-bfb1-44b3-82b2-8623498a2d32')\"\n",
              "              title=\"Convert this dataframe to an interactive table.\"\n",
              "              style=\"display:none;\">\n",
              "        \n",
              "  <svg xmlns=\"http://www.w3.org/2000/svg\" height=\"24px\"viewBox=\"0 0 24 24\"\n",
              "       width=\"24px\">\n",
              "    <path d=\"M0 0h24v24H0V0z\" fill=\"none\"/>\n",
              "    <path d=\"M18.56 5.44l.94 2.06.94-2.06 2.06-.94-2.06-.94-.94-2.06-.94 2.06-2.06.94zm-11 1L8.5 8.5l.94-2.06 2.06-.94-2.06-.94L8.5 2.5l-.94 2.06-2.06.94zm10 10l.94 2.06.94-2.06 2.06-.94-2.06-.94-.94-2.06-.94 2.06-2.06.94z\"/><path d=\"M17.41 7.96l-1.37-1.37c-.4-.4-.92-.59-1.43-.59-.52 0-1.04.2-1.43.59L10.3 9.45l-7.72 7.72c-.78.78-.78 2.05 0 2.83L4 21.41c.39.39.9.59 1.41.59.51 0 1.02-.2 1.41-.59l7.78-7.78 2.81-2.81c.8-.78.8-2.07 0-2.86zM5.41 20L4 18.59l7.72-7.72 1.47 1.35L5.41 20z\"/>\n",
              "  </svg>\n",
              "      </button>\n",
              "      \n",
              "  <style>\n",
              "    .colab-df-container {\n",
              "      display:flex;\n",
              "      flex-wrap:wrap;\n",
              "      gap: 12px;\n",
              "    }\n",
              "\n",
              "    .colab-df-convert {\n",
              "      background-color: #E8F0FE;\n",
              "      border: none;\n",
              "      border-radius: 50%;\n",
              "      cursor: pointer;\n",
              "      display: none;\n",
              "      fill: #1967D2;\n",
              "      height: 32px;\n",
              "      padding: 0 0 0 0;\n",
              "      width: 32px;\n",
              "    }\n",
              "\n",
              "    .colab-df-convert:hover {\n",
              "      background-color: #E2EBFA;\n",
              "      box-shadow: 0px 1px 2px rgba(60, 64, 67, 0.3), 0px 1px 3px 1px rgba(60, 64, 67, 0.15);\n",
              "      fill: #174EA6;\n",
              "    }\n",
              "\n",
              "    [theme=dark] .colab-df-convert {\n",
              "      background-color: #3B4455;\n",
              "      fill: #D2E3FC;\n",
              "    }\n",
              "\n",
              "    [theme=dark] .colab-df-convert:hover {\n",
              "      background-color: #434B5C;\n",
              "      box-shadow: 0px 1px 3px 1px rgba(0, 0, 0, 0.15);\n",
              "      filter: drop-shadow(0px 1px 2px rgba(0, 0, 0, 0.3));\n",
              "      fill: #FFFFFF;\n",
              "    }\n",
              "  </style>\n",
              "\n",
              "      <script>\n",
              "        const buttonEl =\n",
              "          document.querySelector('#df-021d3f3e-bfb1-44b3-82b2-8623498a2d32 button.colab-df-convert');\n",
              "        buttonEl.style.display =\n",
              "          google.colab.kernel.accessAllowed ? 'block' : 'none';\n",
              "\n",
              "        async function convertToInteractive(key) {\n",
              "          const element = document.querySelector('#df-021d3f3e-bfb1-44b3-82b2-8623498a2d32');\n",
              "          const dataTable =\n",
              "            await google.colab.kernel.invokeFunction('convertToInteractive',\n",
              "                                                     [key], {});\n",
              "          if (!dataTable) return;\n",
              "\n",
              "          const docLinkHtml = 'Like what you see? Visit the ' +\n",
              "            '<a target=\"_blank\" href=https://colab.research.google.com/notebooks/data_table.ipynb>data table notebook</a>'\n",
              "            + ' to learn more about interactive tables.';\n",
              "          element.innerHTML = '';\n",
              "          dataTable['output_type'] = 'display_data';\n",
              "          await google.colab.output.renderOutput(dataTable, element);\n",
              "          const docLink = document.createElement('div');\n",
              "          docLink.innerHTML = docLinkHtml;\n",
              "          element.appendChild(docLink);\n",
              "        }\n",
              "      </script>\n",
              "    </div>\n",
              "  </div>\n",
              "  "
            ]
          },
          "metadata": {},
          "execution_count": 63
        }
      ]
    },
    {
      "cell_type": "markdown",
      "source": [
        "User yg churn membayar sedikit lbh banyak biaya bulanan (74) diandingkan user yg tidak churn (61). Mari kita lihat perbandingannya dgn total biaya yg dibayar."
      ],
      "metadata": {
        "id": "xf9mFrS7p74x"
      }
    },
    {
      "cell_type": "code",
      "source": [
        "# Ubah data TotalCharges menjadi numerik\n",
        "df['TotalCharges'] = pd.to_numeric(df['TotalCharges'],errors='coerce')"
      ],
      "metadata": {
        "id": "Xj79DMSw5-sp"
      },
      "execution_count": 64,
      "outputs": []
    },
    {
      "cell_type": "code",
      "source": [
        "# Kelompokkan kolom total charges dan kolom churn. Hitung jumlah rata2 total charges\n",
        "churn_tc = pd.DataFrame(df.groupby('Churn')['TotalCharges'].mean())\n",
        "churn_tc"
      ],
      "metadata": {
        "colab": {
          "base_uri": "https://localhost:8080/",
          "height": 0
        },
        "id": "PItI72y14xzv",
        "outputId": "51e21398-d5a6-46f8-c4be-60d307a5a438"
      },
      "execution_count": 65,
      "outputs": [
        {
          "output_type": "execute_result",
          "data": {
            "text/plain": [
              "       TotalCharges\n",
              "Churn              \n",
              "No      2555.344141\n",
              "Yes     1531.796094"
            ],
            "text/html": [
              "\n",
              "  <div id=\"df-18560aa7-db72-49e7-bf48-946d2625389b\">\n",
              "    <div class=\"colab-df-container\">\n",
              "      <div>\n",
              "<style scoped>\n",
              "    .dataframe tbody tr th:only-of-type {\n",
              "        vertical-align: middle;\n",
              "    }\n",
              "\n",
              "    .dataframe tbody tr th {\n",
              "        vertical-align: top;\n",
              "    }\n",
              "\n",
              "    .dataframe thead th {\n",
              "        text-align: right;\n",
              "    }\n",
              "</style>\n",
              "<table border=\"1\" class=\"dataframe\">\n",
              "  <thead>\n",
              "    <tr style=\"text-align: right;\">\n",
              "      <th></th>\n",
              "      <th>TotalCharges</th>\n",
              "    </tr>\n",
              "    <tr>\n",
              "      <th>Churn</th>\n",
              "      <th></th>\n",
              "    </tr>\n",
              "  </thead>\n",
              "  <tbody>\n",
              "    <tr>\n",
              "      <th>No</th>\n",
              "      <td>2555.344141</td>\n",
              "    </tr>\n",
              "    <tr>\n",
              "      <th>Yes</th>\n",
              "      <td>1531.796094</td>\n",
              "    </tr>\n",
              "  </tbody>\n",
              "</table>\n",
              "</div>\n",
              "      <button class=\"colab-df-convert\" onclick=\"convertToInteractive('df-18560aa7-db72-49e7-bf48-946d2625389b')\"\n",
              "              title=\"Convert this dataframe to an interactive table.\"\n",
              "              style=\"display:none;\">\n",
              "        \n",
              "  <svg xmlns=\"http://www.w3.org/2000/svg\" height=\"24px\"viewBox=\"0 0 24 24\"\n",
              "       width=\"24px\">\n",
              "    <path d=\"M0 0h24v24H0V0z\" fill=\"none\"/>\n",
              "    <path d=\"M18.56 5.44l.94 2.06.94-2.06 2.06-.94-2.06-.94-.94-2.06-.94 2.06-2.06.94zm-11 1L8.5 8.5l.94-2.06 2.06-.94-2.06-.94L8.5 2.5l-.94 2.06-2.06.94zm10 10l.94 2.06.94-2.06 2.06-.94-2.06-.94-.94-2.06-.94 2.06-2.06.94z\"/><path d=\"M17.41 7.96l-1.37-1.37c-.4-.4-.92-.59-1.43-.59-.52 0-1.04.2-1.43.59L10.3 9.45l-7.72 7.72c-.78.78-.78 2.05 0 2.83L4 21.41c.39.39.9.59 1.41.59.51 0 1.02-.2 1.41-.59l7.78-7.78 2.81-2.81c.8-.78.8-2.07 0-2.86zM5.41 20L4 18.59l7.72-7.72 1.47 1.35L5.41 20z\"/>\n",
              "  </svg>\n",
              "      </button>\n",
              "      \n",
              "  <style>\n",
              "    .colab-df-container {\n",
              "      display:flex;\n",
              "      flex-wrap:wrap;\n",
              "      gap: 12px;\n",
              "    }\n",
              "\n",
              "    .colab-df-convert {\n",
              "      background-color: #E8F0FE;\n",
              "      border: none;\n",
              "      border-radius: 50%;\n",
              "      cursor: pointer;\n",
              "      display: none;\n",
              "      fill: #1967D2;\n",
              "      height: 32px;\n",
              "      padding: 0 0 0 0;\n",
              "      width: 32px;\n",
              "    }\n",
              "\n",
              "    .colab-df-convert:hover {\n",
              "      background-color: #E2EBFA;\n",
              "      box-shadow: 0px 1px 2px rgba(60, 64, 67, 0.3), 0px 1px 3px 1px rgba(60, 64, 67, 0.15);\n",
              "      fill: #174EA6;\n",
              "    }\n",
              "\n",
              "    [theme=dark] .colab-df-convert {\n",
              "      background-color: #3B4455;\n",
              "      fill: #D2E3FC;\n",
              "    }\n",
              "\n",
              "    [theme=dark] .colab-df-convert:hover {\n",
              "      background-color: #434B5C;\n",
              "      box-shadow: 0px 1px 3px 1px rgba(0, 0, 0, 0.15);\n",
              "      filter: drop-shadow(0px 1px 2px rgba(0, 0, 0, 0.3));\n",
              "      fill: #FFFFFF;\n",
              "    }\n",
              "  </style>\n",
              "\n",
              "      <script>\n",
              "        const buttonEl =\n",
              "          document.querySelector('#df-18560aa7-db72-49e7-bf48-946d2625389b button.colab-df-convert');\n",
              "        buttonEl.style.display =\n",
              "          google.colab.kernel.accessAllowed ? 'block' : 'none';\n",
              "\n",
              "        async function convertToInteractive(key) {\n",
              "          const element = document.querySelector('#df-18560aa7-db72-49e7-bf48-946d2625389b');\n",
              "          const dataTable =\n",
              "            await google.colab.kernel.invokeFunction('convertToInteractive',\n",
              "                                                     [key], {});\n",
              "          if (!dataTable) return;\n",
              "\n",
              "          const docLinkHtml = 'Like what you see? Visit the ' +\n",
              "            '<a target=\"_blank\" href=https://colab.research.google.com/notebooks/data_table.ipynb>data table notebook</a>'\n",
              "            + ' to learn more about interactive tables.';\n",
              "          element.innerHTML = '';\n",
              "          dataTable['output_type'] = 'display_data';\n",
              "          await google.colab.output.renderOutput(dataTable, element);\n",
              "          const docLink = document.createElement('div');\n",
              "          docLink.innerHTML = docLinkHtml;\n",
              "          element.appendChild(docLink);\n",
              "        }\n",
              "      </script>\n",
              "    </div>\n",
              "  </div>\n",
              "  "
            ]
          },
          "metadata": {},
          "execution_count": 65
        }
      ]
    },
    {
      "cell_type": "markdown",
      "source": [
        "Keanehan terjadi krn user yg churn membayar total charges lbh sedikit (1531 vs 2555) namun monthly charge lbh besar (74 vs 61). Artinya harga layanan telekomunikasi berpengaruh thd keputusah user utk churn atau tidak. Harga terlalu mahal menyebabkan user menghentikan layanan dgn masa kontrak lbh singkat"
      ],
      "metadata": {
        "id": "tSWCXqwtqniR"
      }
    },
    {
      "cell_type": "markdown",
      "source": [
        "Berikutnya kita akan lihat perbandingan harga pada layanan fiber optic, DSL dan tanpa internet:"
      ],
      "metadata": {
        "id": "lBixDijHrjkx"
      }
    },
    {
      "cell_type": "code",
      "source": [
        "# Kelompokkan kolom internet service, tech support dan rata2 total charges\n",
        "iservice_tc = pd.DataFrame(df.groupby(['InternetService','TechSupport'])['TotalCharges'].mean())\n",
        "iservice_tc"
      ],
      "metadata": {
        "colab": {
          "base_uri": "https://localhost:8080/",
          "height": 0
        },
        "id": "GcQoQNqk8bc6",
        "outputId": "b67cf012-b1c6-4b00-afac-d841340dd13a"
      },
      "execution_count": 66,
      "outputs": [
        {
          "output_type": "execute_result",
          "data": {
            "text/plain": [
              "                                     TotalCharges\n",
              "InternetService TechSupport                      \n",
              "DSL             No                    1310.869646\n",
              "                Yes                   2975.562819\n",
              "Fiber optic     No                    2523.760740\n",
              "                Yes                   4960.319284\n",
              "No              No internet service    665.220329"
            ],
            "text/html": [
              "\n",
              "  <div id=\"df-67f05053-ccea-428f-b570-b238861f8948\">\n",
              "    <div class=\"colab-df-container\">\n",
              "      <div>\n",
              "<style scoped>\n",
              "    .dataframe tbody tr th:only-of-type {\n",
              "        vertical-align: middle;\n",
              "    }\n",
              "\n",
              "    .dataframe tbody tr th {\n",
              "        vertical-align: top;\n",
              "    }\n",
              "\n",
              "    .dataframe thead th {\n",
              "        text-align: right;\n",
              "    }\n",
              "</style>\n",
              "<table border=\"1\" class=\"dataframe\">\n",
              "  <thead>\n",
              "    <tr style=\"text-align: right;\">\n",
              "      <th></th>\n",
              "      <th></th>\n",
              "      <th>TotalCharges</th>\n",
              "    </tr>\n",
              "    <tr>\n",
              "      <th>InternetService</th>\n",
              "      <th>TechSupport</th>\n",
              "      <th></th>\n",
              "    </tr>\n",
              "  </thead>\n",
              "  <tbody>\n",
              "    <tr>\n",
              "      <th rowspan=\"2\" valign=\"top\">DSL</th>\n",
              "      <th>No</th>\n",
              "      <td>1310.869646</td>\n",
              "    </tr>\n",
              "    <tr>\n",
              "      <th>Yes</th>\n",
              "      <td>2975.562819</td>\n",
              "    </tr>\n",
              "    <tr>\n",
              "      <th rowspan=\"2\" valign=\"top\">Fiber optic</th>\n",
              "      <th>No</th>\n",
              "      <td>2523.760740</td>\n",
              "    </tr>\n",
              "    <tr>\n",
              "      <th>Yes</th>\n",
              "      <td>4960.319284</td>\n",
              "    </tr>\n",
              "    <tr>\n",
              "      <th>No</th>\n",
              "      <th>No internet service</th>\n",
              "      <td>665.220329</td>\n",
              "    </tr>\n",
              "  </tbody>\n",
              "</table>\n",
              "</div>\n",
              "      <button class=\"colab-df-convert\" onclick=\"convertToInteractive('df-67f05053-ccea-428f-b570-b238861f8948')\"\n",
              "              title=\"Convert this dataframe to an interactive table.\"\n",
              "              style=\"display:none;\">\n",
              "        \n",
              "  <svg xmlns=\"http://www.w3.org/2000/svg\" height=\"24px\"viewBox=\"0 0 24 24\"\n",
              "       width=\"24px\">\n",
              "    <path d=\"M0 0h24v24H0V0z\" fill=\"none\"/>\n",
              "    <path d=\"M18.56 5.44l.94 2.06.94-2.06 2.06-.94-2.06-.94-.94-2.06-.94 2.06-2.06.94zm-11 1L8.5 8.5l.94-2.06 2.06-.94-2.06-.94L8.5 2.5l-.94 2.06-2.06.94zm10 10l.94 2.06.94-2.06 2.06-.94-2.06-.94-.94-2.06-.94 2.06-2.06.94z\"/><path d=\"M17.41 7.96l-1.37-1.37c-.4-.4-.92-.59-1.43-.59-.52 0-1.04.2-1.43.59L10.3 9.45l-7.72 7.72c-.78.78-.78 2.05 0 2.83L4 21.41c.39.39.9.59 1.41.59.51 0 1.02-.2 1.41-.59l7.78-7.78 2.81-2.81c.8-.78.8-2.07 0-2.86zM5.41 20L4 18.59l7.72-7.72 1.47 1.35L5.41 20z\"/>\n",
              "  </svg>\n",
              "      </button>\n",
              "      \n",
              "  <style>\n",
              "    .colab-df-container {\n",
              "      display:flex;\n",
              "      flex-wrap:wrap;\n",
              "      gap: 12px;\n",
              "    }\n",
              "\n",
              "    .colab-df-convert {\n",
              "      background-color: #E8F0FE;\n",
              "      border: none;\n",
              "      border-radius: 50%;\n",
              "      cursor: pointer;\n",
              "      display: none;\n",
              "      fill: #1967D2;\n",
              "      height: 32px;\n",
              "      padding: 0 0 0 0;\n",
              "      width: 32px;\n",
              "    }\n",
              "\n",
              "    .colab-df-convert:hover {\n",
              "      background-color: #E2EBFA;\n",
              "      box-shadow: 0px 1px 2px rgba(60, 64, 67, 0.3), 0px 1px 3px 1px rgba(60, 64, 67, 0.15);\n",
              "      fill: #174EA6;\n",
              "    }\n",
              "\n",
              "    [theme=dark] .colab-df-convert {\n",
              "      background-color: #3B4455;\n",
              "      fill: #D2E3FC;\n",
              "    }\n",
              "\n",
              "    [theme=dark] .colab-df-convert:hover {\n",
              "      background-color: #434B5C;\n",
              "      box-shadow: 0px 1px 3px 1px rgba(0, 0, 0, 0.15);\n",
              "      filter: drop-shadow(0px 1px 2px rgba(0, 0, 0, 0.3));\n",
              "      fill: #FFFFFF;\n",
              "    }\n",
              "  </style>\n",
              "\n",
              "      <script>\n",
              "        const buttonEl =\n",
              "          document.querySelector('#df-67f05053-ccea-428f-b570-b238861f8948 button.colab-df-convert');\n",
              "        buttonEl.style.display =\n",
              "          google.colab.kernel.accessAllowed ? 'block' : 'none';\n",
              "\n",
              "        async function convertToInteractive(key) {\n",
              "          const element = document.querySelector('#df-67f05053-ccea-428f-b570-b238861f8948');\n",
              "          const dataTable =\n",
              "            await google.colab.kernel.invokeFunction('convertToInteractive',\n",
              "                                                     [key], {});\n",
              "          if (!dataTable) return;\n",
              "\n",
              "          const docLinkHtml = 'Like what you see? Visit the ' +\n",
              "            '<a target=\"_blank\" href=https://colab.research.google.com/notebooks/data_table.ipynb>data table notebook</a>'\n",
              "            + ' to learn more about interactive tables.';\n",
              "          element.innerHTML = '';\n",
              "          dataTable['output_type'] = 'display_data';\n",
              "          await google.colab.output.renderOutput(dataTable, element);\n",
              "          const docLink = document.createElement('div');\n",
              "          docLink.innerHTML = docLinkHtml;\n",
              "          element.appendChild(docLink);\n",
              "        }\n",
              "      </script>\n",
              "    </div>\n",
              "  </div>\n",
              "  "
            ]
          },
          "metadata": {},
          "execution_count": 66
        }
      ]
    },
    {
      "cell_type": "markdown",
      "source": [
        "Layanan fiber optik memiliki harga paling mahal pada option tanpa technical support (2523) dan dengan technical support (4960). Kita ketahui sebelumnya bahwa layanan fiber optik tanpa technical support mengakibatkan banyak churn pada user (58% dari total jumlah churn). Dari sini kita mendapat informasi jika harga layanan fiber optik terlalu mahal bagi customer. Ditambah lagi adanya banyak technical error pada user yg tdk mendapat technical support meningkatkan kecenderungan user utk menghentikan layanan."
      ],
      "metadata": {
        "id": "_zkpbWrosIu7"
      }
    },
    {
      "cell_type": "markdown",
      "source": [
        "### Kesimpulan EDA"
      ],
      "metadata": {
        "id": "_Z6HE1v_0Q-0"
      }
    },
    {
      "cell_type": "markdown",
      "source": [
        "•\tUser yg churn mempunyai rata2 tenure (masa kontrak) lbh pendek (18  bulan) dibandingkan user yg non-churn (38 bulan), namun membayar monthly charges lbh besar (74). Artinya, harga berpengaruh terhadap keputusan user utk churn. User yg membayar mahal tanpa disertai layanan memuaskan akan lbh cepat mengalami churn\n",
        "\n",
        "•\tUser yg menggunakan fiber optic tanpa technical support mengalami lebih banyak churn (58% dari total churn). Layanan fiber optic mempunyai biaya lbh mahal dibandingkan DSL dan no-internet, krn teknologinya lbh advanced. Namun, teknologi tsb dapat menghadirkan kompleksitas bagi user dan ketika tidak disertai dukungan technical support dpt menyebabkan user menjadi frustasi dan menghentikan layanan. \n",
        "\n",
        "•\tUser dgn kontrak bulanan lebih mungkin mengalami churn (88% dari total churn) dibandingkan user dgn kontrak setahun atau 2 tahun. Artinya sebagian user hanya berminat utk mencoba2 layanan sehingga memilih opsi pembayaran bulanan. Begitu didapati layanan tdk memuaskan dan terdapat layanan dari competitor lain yg lbh baik, user berpotensi utk churn\n"
      ],
      "metadata": {
        "id": "Q0GR45Gu0WVB"
      }
    },
    {
      "cell_type": "markdown",
      "source": [
        "# V. Data Preprocessing"
      ],
      "metadata": {
        "id": "xQCHKwQLqsO_"
      }
    },
    {
      "cell_type": "markdown",
      "source": [
        "Bagian ini berisi proses penyiapan data untuk proses pelatihan model, seperti pembagian data menjadi train-dev-test, transformasi data (normalisasi, encoding, dll.), dan proses-proses lain yang dibutuhkan."
      ],
      "metadata": {
        "id": "h-3kPmY_IxgL"
      }
    },
    {
      "cell_type": "markdown",
      "source": [
        "Pertama, kita akan memisahkan dataset inference dgn dataset utk training dan testing."
      ],
      "metadata": {
        "id": "lFb2v-CTtuZ4"
      }
    },
    {
      "cell_type": "markdown",
      "source": [
        "### Get Data for Model Inference"
      ],
      "metadata": {
        "id": "2JyUnSQSHfMd"
      }
    },
    {
      "cell_type": "markdown",
      "source": [
        "Buat dataset utk model inference sebanyak 20 baris."
      ],
      "metadata": {
        "id": "kuERVNV3tYL9"
      }
    },
    {
      "cell_type": "code",
      "source": [
        "# Get Data for Model Inference\n",
        "df_inf = df.sample(20, random_state=100)\n",
        "df_inf.head()"
      ],
      "metadata": {
        "colab": {
          "base_uri": "https://localhost:8080/",
          "height": 357
        },
        "id": "KtjfWae5Hj9r",
        "outputId": "ea8ca3aa-cc31-4f5a-ed4e-375232f86262"
      },
      "execution_count": 67,
      "outputs": [
        {
          "output_type": "execute_result",
          "data": {
            "text/plain": [
              "      customerID  gender  SeniorCitizen Partner Dependents  tenure  \\\n",
              "4880  1215-EXRMO    Male              0     Yes         No      50   \n",
              "1541  2429-AYKKO    Male              0      No         No      72   \n",
              "1289  9968-FFVVH    Male              0      No         No      63   \n",
              "5745  3580-GICBM  Female              0     Yes        Yes      61   \n",
              "4873  2320-YKQBO  Female              0      No         No       7   \n",
              "\n",
              "     PhoneService MultipleLines InternetService       OnlineSecurity  \\\n",
              "4880          Yes            No              No  No internet service   \n",
              "1541          Yes            No              No  No internet service   \n",
              "1289          Yes           Yes             DSL                  Yes   \n",
              "5745          Yes           Yes              No  No internet service   \n",
              "4873          Yes            No              No  No internet service   \n",
              "\n",
              "             OnlineBackup     DeviceProtection          TechSupport  \\\n",
              "4880  No internet service  No internet service  No internet service   \n",
              "1541  No internet service  No internet service  No internet service   \n",
              "1289                  Yes                  Yes                  Yes   \n",
              "5745  No internet service  No internet service  No internet service   \n",
              "4873  No internet service  No internet service  No internet service   \n",
              "\n",
              "              StreamingTV      StreamingMovies        Contract  \\\n",
              "4880  No internet service  No internet service        Two year   \n",
              "1541  No internet service  No internet service        Two year   \n",
              "1289                   No                   No        One year   \n",
              "5745  No internet service  No internet service        Two year   \n",
              "4873  No internet service  No internet service  Month-to-month   \n",
              "\n",
              "     PaperlessBilling              PaymentMethod  MonthlyCharges  \\\n",
              "4880               No               Mailed check           20.55   \n",
              "1541               No  Bank transfer (automatic)           19.85   \n",
              "1289               No  Bank transfer (automatic)           68.80   \n",
              "5745              Yes               Mailed check           24.20   \n",
              "4873               No               Mailed check           19.30   \n",
              "\n",
              "      TotalCharges Churn  \n",
              "4880       1067.65    No  \n",
              "1541       1434.10    No  \n",
              "1289       4111.35    No  \n",
              "5745       1445.20    No  \n",
              "4873        144.95    No  "
            ],
            "text/html": [
              "\n",
              "  <div id=\"df-a3c287a4-4690-48f9-bbd9-64f123ae19c7\">\n",
              "    <div class=\"colab-df-container\">\n",
              "      <div>\n",
              "<style scoped>\n",
              "    .dataframe tbody tr th:only-of-type {\n",
              "        vertical-align: middle;\n",
              "    }\n",
              "\n",
              "    .dataframe tbody tr th {\n",
              "        vertical-align: top;\n",
              "    }\n",
              "\n",
              "    .dataframe thead th {\n",
              "        text-align: right;\n",
              "    }\n",
              "</style>\n",
              "<table border=\"1\" class=\"dataframe\">\n",
              "  <thead>\n",
              "    <tr style=\"text-align: right;\">\n",
              "      <th></th>\n",
              "      <th>customerID</th>\n",
              "      <th>gender</th>\n",
              "      <th>SeniorCitizen</th>\n",
              "      <th>Partner</th>\n",
              "      <th>Dependents</th>\n",
              "      <th>tenure</th>\n",
              "      <th>PhoneService</th>\n",
              "      <th>MultipleLines</th>\n",
              "      <th>InternetService</th>\n",
              "      <th>OnlineSecurity</th>\n",
              "      <th>OnlineBackup</th>\n",
              "      <th>DeviceProtection</th>\n",
              "      <th>TechSupport</th>\n",
              "      <th>StreamingTV</th>\n",
              "      <th>StreamingMovies</th>\n",
              "      <th>Contract</th>\n",
              "      <th>PaperlessBilling</th>\n",
              "      <th>PaymentMethod</th>\n",
              "      <th>MonthlyCharges</th>\n",
              "      <th>TotalCharges</th>\n",
              "      <th>Churn</th>\n",
              "    </tr>\n",
              "  </thead>\n",
              "  <tbody>\n",
              "    <tr>\n",
              "      <th>4880</th>\n",
              "      <td>1215-EXRMO</td>\n",
              "      <td>Male</td>\n",
              "      <td>0</td>\n",
              "      <td>Yes</td>\n",
              "      <td>No</td>\n",
              "      <td>50</td>\n",
              "      <td>Yes</td>\n",
              "      <td>No</td>\n",
              "      <td>No</td>\n",
              "      <td>No internet service</td>\n",
              "      <td>No internet service</td>\n",
              "      <td>No internet service</td>\n",
              "      <td>No internet service</td>\n",
              "      <td>No internet service</td>\n",
              "      <td>No internet service</td>\n",
              "      <td>Two year</td>\n",
              "      <td>No</td>\n",
              "      <td>Mailed check</td>\n",
              "      <td>20.55</td>\n",
              "      <td>1067.65</td>\n",
              "      <td>No</td>\n",
              "    </tr>\n",
              "    <tr>\n",
              "      <th>1541</th>\n",
              "      <td>2429-AYKKO</td>\n",
              "      <td>Male</td>\n",
              "      <td>0</td>\n",
              "      <td>No</td>\n",
              "      <td>No</td>\n",
              "      <td>72</td>\n",
              "      <td>Yes</td>\n",
              "      <td>No</td>\n",
              "      <td>No</td>\n",
              "      <td>No internet service</td>\n",
              "      <td>No internet service</td>\n",
              "      <td>No internet service</td>\n",
              "      <td>No internet service</td>\n",
              "      <td>No internet service</td>\n",
              "      <td>No internet service</td>\n",
              "      <td>Two year</td>\n",
              "      <td>No</td>\n",
              "      <td>Bank transfer (automatic)</td>\n",
              "      <td>19.85</td>\n",
              "      <td>1434.10</td>\n",
              "      <td>No</td>\n",
              "    </tr>\n",
              "    <tr>\n",
              "      <th>1289</th>\n",
              "      <td>9968-FFVVH</td>\n",
              "      <td>Male</td>\n",
              "      <td>0</td>\n",
              "      <td>No</td>\n",
              "      <td>No</td>\n",
              "      <td>63</td>\n",
              "      <td>Yes</td>\n",
              "      <td>Yes</td>\n",
              "      <td>DSL</td>\n",
              "      <td>Yes</td>\n",
              "      <td>Yes</td>\n",
              "      <td>Yes</td>\n",
              "      <td>Yes</td>\n",
              "      <td>No</td>\n",
              "      <td>No</td>\n",
              "      <td>One year</td>\n",
              "      <td>No</td>\n",
              "      <td>Bank transfer (automatic)</td>\n",
              "      <td>68.80</td>\n",
              "      <td>4111.35</td>\n",
              "      <td>No</td>\n",
              "    </tr>\n",
              "    <tr>\n",
              "      <th>5745</th>\n",
              "      <td>3580-GICBM</td>\n",
              "      <td>Female</td>\n",
              "      <td>0</td>\n",
              "      <td>Yes</td>\n",
              "      <td>Yes</td>\n",
              "      <td>61</td>\n",
              "      <td>Yes</td>\n",
              "      <td>Yes</td>\n",
              "      <td>No</td>\n",
              "      <td>No internet service</td>\n",
              "      <td>No internet service</td>\n",
              "      <td>No internet service</td>\n",
              "      <td>No internet service</td>\n",
              "      <td>No internet service</td>\n",
              "      <td>No internet service</td>\n",
              "      <td>Two year</td>\n",
              "      <td>Yes</td>\n",
              "      <td>Mailed check</td>\n",
              "      <td>24.20</td>\n",
              "      <td>1445.20</td>\n",
              "      <td>No</td>\n",
              "    </tr>\n",
              "    <tr>\n",
              "      <th>4873</th>\n",
              "      <td>2320-YKQBO</td>\n",
              "      <td>Female</td>\n",
              "      <td>0</td>\n",
              "      <td>No</td>\n",
              "      <td>No</td>\n",
              "      <td>7</td>\n",
              "      <td>Yes</td>\n",
              "      <td>No</td>\n",
              "      <td>No</td>\n",
              "      <td>No internet service</td>\n",
              "      <td>No internet service</td>\n",
              "      <td>No internet service</td>\n",
              "      <td>No internet service</td>\n",
              "      <td>No internet service</td>\n",
              "      <td>No internet service</td>\n",
              "      <td>Month-to-month</td>\n",
              "      <td>No</td>\n",
              "      <td>Mailed check</td>\n",
              "      <td>19.30</td>\n",
              "      <td>144.95</td>\n",
              "      <td>No</td>\n",
              "    </tr>\n",
              "  </tbody>\n",
              "</table>\n",
              "</div>\n",
              "      <button class=\"colab-df-convert\" onclick=\"convertToInteractive('df-a3c287a4-4690-48f9-bbd9-64f123ae19c7')\"\n",
              "              title=\"Convert this dataframe to an interactive table.\"\n",
              "              style=\"display:none;\">\n",
              "        \n",
              "  <svg xmlns=\"http://www.w3.org/2000/svg\" height=\"24px\"viewBox=\"0 0 24 24\"\n",
              "       width=\"24px\">\n",
              "    <path d=\"M0 0h24v24H0V0z\" fill=\"none\"/>\n",
              "    <path d=\"M18.56 5.44l.94 2.06.94-2.06 2.06-.94-2.06-.94-.94-2.06-.94 2.06-2.06.94zm-11 1L8.5 8.5l.94-2.06 2.06-.94-2.06-.94L8.5 2.5l-.94 2.06-2.06.94zm10 10l.94 2.06.94-2.06 2.06-.94-2.06-.94-.94-2.06-.94 2.06-2.06.94z\"/><path d=\"M17.41 7.96l-1.37-1.37c-.4-.4-.92-.59-1.43-.59-.52 0-1.04.2-1.43.59L10.3 9.45l-7.72 7.72c-.78.78-.78 2.05 0 2.83L4 21.41c.39.39.9.59 1.41.59.51 0 1.02-.2 1.41-.59l7.78-7.78 2.81-2.81c.8-.78.8-2.07 0-2.86zM5.41 20L4 18.59l7.72-7.72 1.47 1.35L5.41 20z\"/>\n",
              "  </svg>\n",
              "      </button>\n",
              "      \n",
              "  <style>\n",
              "    .colab-df-container {\n",
              "      display:flex;\n",
              "      flex-wrap:wrap;\n",
              "      gap: 12px;\n",
              "    }\n",
              "\n",
              "    .colab-df-convert {\n",
              "      background-color: #E8F0FE;\n",
              "      border: none;\n",
              "      border-radius: 50%;\n",
              "      cursor: pointer;\n",
              "      display: none;\n",
              "      fill: #1967D2;\n",
              "      height: 32px;\n",
              "      padding: 0 0 0 0;\n",
              "      width: 32px;\n",
              "    }\n",
              "\n",
              "    .colab-df-convert:hover {\n",
              "      background-color: #E2EBFA;\n",
              "      box-shadow: 0px 1px 2px rgba(60, 64, 67, 0.3), 0px 1px 3px 1px rgba(60, 64, 67, 0.15);\n",
              "      fill: #174EA6;\n",
              "    }\n",
              "\n",
              "    [theme=dark] .colab-df-convert {\n",
              "      background-color: #3B4455;\n",
              "      fill: #D2E3FC;\n",
              "    }\n",
              "\n",
              "    [theme=dark] .colab-df-convert:hover {\n",
              "      background-color: #434B5C;\n",
              "      box-shadow: 0px 1px 3px 1px rgba(0, 0, 0, 0.15);\n",
              "      filter: drop-shadow(0px 1px 2px rgba(0, 0, 0, 0.3));\n",
              "      fill: #FFFFFF;\n",
              "    }\n",
              "  </style>\n",
              "\n",
              "      <script>\n",
              "        const buttonEl =\n",
              "          document.querySelector('#df-a3c287a4-4690-48f9-bbd9-64f123ae19c7 button.colab-df-convert');\n",
              "        buttonEl.style.display =\n",
              "          google.colab.kernel.accessAllowed ? 'block' : 'none';\n",
              "\n",
              "        async function convertToInteractive(key) {\n",
              "          const element = document.querySelector('#df-a3c287a4-4690-48f9-bbd9-64f123ae19c7');\n",
              "          const dataTable =\n",
              "            await google.colab.kernel.invokeFunction('convertToInteractive',\n",
              "                                                     [key], {});\n",
              "          if (!dataTable) return;\n",
              "\n",
              "          const docLinkHtml = 'Like what you see? Visit the ' +\n",
              "            '<a target=\"_blank\" href=https://colab.research.google.com/notebooks/data_table.ipynb>data table notebook</a>'\n",
              "            + ' to learn more about interactive tables.';\n",
              "          element.innerHTML = '';\n",
              "          dataTable['output_type'] = 'display_data';\n",
              "          await google.colab.output.renderOutput(dataTable, element);\n",
              "          const docLink = document.createElement('div');\n",
              "          docLink.innerHTML = docLinkHtml;\n",
              "          element.appendChild(docLink);\n",
              "        }\n",
              "      </script>\n",
              "    </div>\n",
              "  </div>\n",
              "  "
            ]
          },
          "metadata": {},
          "execution_count": 67
        }
      ]
    },
    {
      "cell_type": "markdown",
      "source": [
        "Hapus dataset inference dari df"
      ],
      "metadata": {
        "id": "ePG47YI1tb6B"
      }
    },
    {
      "cell_type": "code",
      "source": [
        "# Remove Inference Set from Dataset\n",
        "df_train_test = df.drop(df_inf.index)\n",
        "df_train_test.head()"
      ],
      "metadata": {
        "colab": {
          "base_uri": "https://localhost:8080/",
          "height": 357
        },
        "id": "tHMEnHb2HwsB",
        "outputId": "b4dfc890-dd7a-444c-ba01-aae4b42d14ef"
      },
      "execution_count": 68,
      "outputs": [
        {
          "output_type": "execute_result",
          "data": {
            "text/plain": [
              "   customerID  gender  SeniorCitizen Partner Dependents  tenure PhoneService  \\\n",
              "0  7590-VHVEG  Female              0     Yes         No       1           No   \n",
              "1  5575-GNVDE    Male              0      No         No      34          Yes   \n",
              "2  3668-QPYBK    Male              0      No         No       2          Yes   \n",
              "3  7795-CFOCW    Male              0      No         No      45           No   \n",
              "4  9237-HQITU  Female              0      No         No       2          Yes   \n",
              "\n",
              "      MultipleLines InternetService OnlineSecurity OnlineBackup  \\\n",
              "0  No phone service             DSL             No          Yes   \n",
              "1                No             DSL            Yes           No   \n",
              "2                No             DSL            Yes          Yes   \n",
              "3  No phone service             DSL            Yes           No   \n",
              "4                No     Fiber optic             No           No   \n",
              "\n",
              "  DeviceProtection TechSupport StreamingTV StreamingMovies        Contract  \\\n",
              "0               No          No          No              No  Month-to-month   \n",
              "1              Yes          No          No              No        One year   \n",
              "2               No          No          No              No  Month-to-month   \n",
              "3              Yes         Yes          No              No        One year   \n",
              "4               No          No          No              No  Month-to-month   \n",
              "\n",
              "  PaperlessBilling              PaymentMethod  MonthlyCharges  TotalCharges  \\\n",
              "0              Yes           Electronic check           29.85         29.85   \n",
              "1               No               Mailed check           56.95       1889.50   \n",
              "2              Yes               Mailed check           53.85        108.15   \n",
              "3               No  Bank transfer (automatic)           42.30       1840.75   \n",
              "4              Yes           Electronic check           70.70        151.65   \n",
              "\n",
              "  Churn  \n",
              "0    No  \n",
              "1    No  \n",
              "2   Yes  \n",
              "3    No  \n",
              "4   Yes  "
            ],
            "text/html": [
              "\n",
              "  <div id=\"df-b9b699c7-7561-4223-9449-8b8823c09366\">\n",
              "    <div class=\"colab-df-container\">\n",
              "      <div>\n",
              "<style scoped>\n",
              "    .dataframe tbody tr th:only-of-type {\n",
              "        vertical-align: middle;\n",
              "    }\n",
              "\n",
              "    .dataframe tbody tr th {\n",
              "        vertical-align: top;\n",
              "    }\n",
              "\n",
              "    .dataframe thead th {\n",
              "        text-align: right;\n",
              "    }\n",
              "</style>\n",
              "<table border=\"1\" class=\"dataframe\">\n",
              "  <thead>\n",
              "    <tr style=\"text-align: right;\">\n",
              "      <th></th>\n",
              "      <th>customerID</th>\n",
              "      <th>gender</th>\n",
              "      <th>SeniorCitizen</th>\n",
              "      <th>Partner</th>\n",
              "      <th>Dependents</th>\n",
              "      <th>tenure</th>\n",
              "      <th>PhoneService</th>\n",
              "      <th>MultipleLines</th>\n",
              "      <th>InternetService</th>\n",
              "      <th>OnlineSecurity</th>\n",
              "      <th>OnlineBackup</th>\n",
              "      <th>DeviceProtection</th>\n",
              "      <th>TechSupport</th>\n",
              "      <th>StreamingTV</th>\n",
              "      <th>StreamingMovies</th>\n",
              "      <th>Contract</th>\n",
              "      <th>PaperlessBilling</th>\n",
              "      <th>PaymentMethod</th>\n",
              "      <th>MonthlyCharges</th>\n",
              "      <th>TotalCharges</th>\n",
              "      <th>Churn</th>\n",
              "    </tr>\n",
              "  </thead>\n",
              "  <tbody>\n",
              "    <tr>\n",
              "      <th>0</th>\n",
              "      <td>7590-VHVEG</td>\n",
              "      <td>Female</td>\n",
              "      <td>0</td>\n",
              "      <td>Yes</td>\n",
              "      <td>No</td>\n",
              "      <td>1</td>\n",
              "      <td>No</td>\n",
              "      <td>No phone service</td>\n",
              "      <td>DSL</td>\n",
              "      <td>No</td>\n",
              "      <td>Yes</td>\n",
              "      <td>No</td>\n",
              "      <td>No</td>\n",
              "      <td>No</td>\n",
              "      <td>No</td>\n",
              "      <td>Month-to-month</td>\n",
              "      <td>Yes</td>\n",
              "      <td>Electronic check</td>\n",
              "      <td>29.85</td>\n",
              "      <td>29.85</td>\n",
              "      <td>No</td>\n",
              "    </tr>\n",
              "    <tr>\n",
              "      <th>1</th>\n",
              "      <td>5575-GNVDE</td>\n",
              "      <td>Male</td>\n",
              "      <td>0</td>\n",
              "      <td>No</td>\n",
              "      <td>No</td>\n",
              "      <td>34</td>\n",
              "      <td>Yes</td>\n",
              "      <td>No</td>\n",
              "      <td>DSL</td>\n",
              "      <td>Yes</td>\n",
              "      <td>No</td>\n",
              "      <td>Yes</td>\n",
              "      <td>No</td>\n",
              "      <td>No</td>\n",
              "      <td>No</td>\n",
              "      <td>One year</td>\n",
              "      <td>No</td>\n",
              "      <td>Mailed check</td>\n",
              "      <td>56.95</td>\n",
              "      <td>1889.50</td>\n",
              "      <td>No</td>\n",
              "    </tr>\n",
              "    <tr>\n",
              "      <th>2</th>\n",
              "      <td>3668-QPYBK</td>\n",
              "      <td>Male</td>\n",
              "      <td>0</td>\n",
              "      <td>No</td>\n",
              "      <td>No</td>\n",
              "      <td>2</td>\n",
              "      <td>Yes</td>\n",
              "      <td>No</td>\n",
              "      <td>DSL</td>\n",
              "      <td>Yes</td>\n",
              "      <td>Yes</td>\n",
              "      <td>No</td>\n",
              "      <td>No</td>\n",
              "      <td>No</td>\n",
              "      <td>No</td>\n",
              "      <td>Month-to-month</td>\n",
              "      <td>Yes</td>\n",
              "      <td>Mailed check</td>\n",
              "      <td>53.85</td>\n",
              "      <td>108.15</td>\n",
              "      <td>Yes</td>\n",
              "    </tr>\n",
              "    <tr>\n",
              "      <th>3</th>\n",
              "      <td>7795-CFOCW</td>\n",
              "      <td>Male</td>\n",
              "      <td>0</td>\n",
              "      <td>No</td>\n",
              "      <td>No</td>\n",
              "      <td>45</td>\n",
              "      <td>No</td>\n",
              "      <td>No phone service</td>\n",
              "      <td>DSL</td>\n",
              "      <td>Yes</td>\n",
              "      <td>No</td>\n",
              "      <td>Yes</td>\n",
              "      <td>Yes</td>\n",
              "      <td>No</td>\n",
              "      <td>No</td>\n",
              "      <td>One year</td>\n",
              "      <td>No</td>\n",
              "      <td>Bank transfer (automatic)</td>\n",
              "      <td>42.30</td>\n",
              "      <td>1840.75</td>\n",
              "      <td>No</td>\n",
              "    </tr>\n",
              "    <tr>\n",
              "      <th>4</th>\n",
              "      <td>9237-HQITU</td>\n",
              "      <td>Female</td>\n",
              "      <td>0</td>\n",
              "      <td>No</td>\n",
              "      <td>No</td>\n",
              "      <td>2</td>\n",
              "      <td>Yes</td>\n",
              "      <td>No</td>\n",
              "      <td>Fiber optic</td>\n",
              "      <td>No</td>\n",
              "      <td>No</td>\n",
              "      <td>No</td>\n",
              "      <td>No</td>\n",
              "      <td>No</td>\n",
              "      <td>No</td>\n",
              "      <td>Month-to-month</td>\n",
              "      <td>Yes</td>\n",
              "      <td>Electronic check</td>\n",
              "      <td>70.70</td>\n",
              "      <td>151.65</td>\n",
              "      <td>Yes</td>\n",
              "    </tr>\n",
              "  </tbody>\n",
              "</table>\n",
              "</div>\n",
              "      <button class=\"colab-df-convert\" onclick=\"convertToInteractive('df-b9b699c7-7561-4223-9449-8b8823c09366')\"\n",
              "              title=\"Convert this dataframe to an interactive table.\"\n",
              "              style=\"display:none;\">\n",
              "        \n",
              "  <svg xmlns=\"http://www.w3.org/2000/svg\" height=\"24px\"viewBox=\"0 0 24 24\"\n",
              "       width=\"24px\">\n",
              "    <path d=\"M0 0h24v24H0V0z\" fill=\"none\"/>\n",
              "    <path d=\"M18.56 5.44l.94 2.06.94-2.06 2.06-.94-2.06-.94-.94-2.06-.94 2.06-2.06.94zm-11 1L8.5 8.5l.94-2.06 2.06-.94-2.06-.94L8.5 2.5l-.94 2.06-2.06.94zm10 10l.94 2.06.94-2.06 2.06-.94-2.06-.94-.94-2.06-.94 2.06-2.06.94z\"/><path d=\"M17.41 7.96l-1.37-1.37c-.4-.4-.92-.59-1.43-.59-.52 0-1.04.2-1.43.59L10.3 9.45l-7.72 7.72c-.78.78-.78 2.05 0 2.83L4 21.41c.39.39.9.59 1.41.59.51 0 1.02-.2 1.41-.59l7.78-7.78 2.81-2.81c.8-.78.8-2.07 0-2.86zM5.41 20L4 18.59l7.72-7.72 1.47 1.35L5.41 20z\"/>\n",
              "  </svg>\n",
              "      </button>\n",
              "      \n",
              "  <style>\n",
              "    .colab-df-container {\n",
              "      display:flex;\n",
              "      flex-wrap:wrap;\n",
              "      gap: 12px;\n",
              "    }\n",
              "\n",
              "    .colab-df-convert {\n",
              "      background-color: #E8F0FE;\n",
              "      border: none;\n",
              "      border-radius: 50%;\n",
              "      cursor: pointer;\n",
              "      display: none;\n",
              "      fill: #1967D2;\n",
              "      height: 32px;\n",
              "      padding: 0 0 0 0;\n",
              "      width: 32px;\n",
              "    }\n",
              "\n",
              "    .colab-df-convert:hover {\n",
              "      background-color: #E2EBFA;\n",
              "      box-shadow: 0px 1px 2px rgba(60, 64, 67, 0.3), 0px 1px 3px 1px rgba(60, 64, 67, 0.15);\n",
              "      fill: #174EA6;\n",
              "    }\n",
              "\n",
              "    [theme=dark] .colab-df-convert {\n",
              "      background-color: #3B4455;\n",
              "      fill: #D2E3FC;\n",
              "    }\n",
              "\n",
              "    [theme=dark] .colab-df-convert:hover {\n",
              "      background-color: #434B5C;\n",
              "      box-shadow: 0px 1px 3px 1px rgba(0, 0, 0, 0.15);\n",
              "      filter: drop-shadow(0px 1px 2px rgba(0, 0, 0, 0.3));\n",
              "      fill: #FFFFFF;\n",
              "    }\n",
              "  </style>\n",
              "\n",
              "      <script>\n",
              "        const buttonEl =\n",
              "          document.querySelector('#df-b9b699c7-7561-4223-9449-8b8823c09366 button.colab-df-convert');\n",
              "        buttonEl.style.display =\n",
              "          google.colab.kernel.accessAllowed ? 'block' : 'none';\n",
              "\n",
              "        async function convertToInteractive(key) {\n",
              "          const element = document.querySelector('#df-b9b699c7-7561-4223-9449-8b8823c09366');\n",
              "          const dataTable =\n",
              "            await google.colab.kernel.invokeFunction('convertToInteractive',\n",
              "                                                     [key], {});\n",
              "          if (!dataTable) return;\n",
              "\n",
              "          const docLinkHtml = 'Like what you see? Visit the ' +\n",
              "            '<a target=\"_blank\" href=https://colab.research.google.com/notebooks/data_table.ipynb>data table notebook</a>'\n",
              "            + ' to learn more about interactive tables.';\n",
              "          element.innerHTML = '';\n",
              "          dataTable['output_type'] = 'display_data';\n",
              "          await google.colab.output.renderOutput(dataTable, element);\n",
              "          const docLink = document.createElement('div');\n",
              "          docLink.innerHTML = docLinkHtml;\n",
              "          element.appendChild(docLink);\n",
              "        }\n",
              "      </script>\n",
              "    </div>\n",
              "  </div>\n",
              "  "
            ]
          },
          "metadata": {},
          "execution_count": 68
        }
      ]
    },
    {
      "cell_type": "markdown",
      "source": [
        "Reset index stlh penghapusan baris dataset inference"
      ],
      "metadata": {
        "id": "WsD5fTJitkRv"
      }
    },
    {
      "cell_type": "code",
      "source": [
        "# Reset Index\n",
        "df_train_test.reset_index(drop=True, inplace=True)\n",
        "df_inf.reset_index(drop=True, inplace=True)"
      ],
      "metadata": {
        "id": "8MM_6V8mH84v"
      },
      "execution_count": 69,
      "outputs": []
    },
    {
      "cell_type": "markdown",
      "source": [
        "### Splitting between `X` and `y`"
      ],
      "metadata": {
        "id": "qr8QMlKkIGKf"
      }
    },
    {
      "cell_type": "markdown",
      "source": [
        "Kita akan pisahkan dataset fitur (X) dan target (y). Target adalah kolom 'Churn'"
      ],
      "metadata": {
        "id": "21MxYZ0qt7Xk"
      }
    },
    {
      "cell_type": "code",
      "source": [
        "# Splitting between `X` and `y`\n",
        "X = df_train_test.drop('Churn', axis=1)\n",
        "y = df_train_test['Churn']"
      ],
      "metadata": {
        "id": "jC3BfmWXIKex"
      },
      "execution_count": 70,
      "outputs": []
    },
    {
      "cell_type": "markdown",
      "source": [
        "Ganti label y menjadi 0 dan 1:"
      ],
      "metadata": {
        "id": "lpBvMcrUuEWU"
      }
    },
    {
      "cell_type": "code",
      "source": [
        "# Ganti label y\n",
        "y = y.replace(['Yes','No'],[1,0])"
      ],
      "metadata": {
        "id": "9fgnG1VInAyq"
      },
      "execution_count": 71,
      "outputs": []
    },
    {
      "cell_type": "markdown",
      "source": [
        "Lakukan splitting utk training set, test set dan validation set."
      ],
      "metadata": {
        "id": "awd9dYt-uMEU"
      }
    },
    {
      "cell_type": "code",
      "source": [
        "# Split between Train-Set, Val-Set, and Test-Set\n",
        "\n",
        "X_train_val, X_test, y_train_val, y_test = train_test_split(X, y, test_size=0.2, random_state=100)\n",
        "X_train, X_val, y_train, y_val = train_test_split(X_train_val, y_train_val, test_size=0.2, random_state=100)\n",
        "\n",
        "print('Train Size : ', X_train.shape)\n",
        "print('Val Size : ', X_val.shape)\n",
        "print('Test Size : ', X_test.shape)"
      ],
      "metadata": {
        "colab": {
          "base_uri": "https://localhost:8080/"
        },
        "id": "FxKisdyNISMi",
        "outputId": "035d1d40-1257-4c78-aaa0-8ea5025a2ebc"
      },
      "execution_count": 72,
      "outputs": [
        {
          "output_type": "stream",
          "name": "stdout",
          "text": [
            "Train Size :  (4494, 20)\n",
            "Val Size :  (1124, 20)\n",
            "Test Size :  (1405, 20)\n"
          ]
        }
      ]
    },
    {
      "cell_type": "markdown",
      "source": [
        "### Feature Selection"
      ],
      "metadata": {
        "id": "mFn2rASxJNn8"
      }
    },
    {
      "cell_type": "markdown",
      "source": [
        "Kita akan lakukan feature selection. Tampilkan 5 baris pertama dataset training"
      ],
      "metadata": {
        "id": "aJ5PEvFXuqYu"
      }
    },
    {
      "cell_type": "code",
      "source": [
        "# Display X_train\n",
        "X_train.head()"
      ],
      "metadata": {
        "colab": {
          "base_uri": "https://localhost:8080/",
          "height": 357
        },
        "id": "OW11MOHqJSnu",
        "outputId": "01a8be5b-4533-4e18-8de2-96549e2d5eb6"
      },
      "execution_count": 73,
      "outputs": [
        {
          "output_type": "execute_result",
          "data": {
            "text/plain": [
              "      customerID gender  SeniorCitizen Partner Dependents  tenure  \\\n",
              "3904  6319-IEJWJ   Male              0     Yes        Yes      20   \n",
              "6     1452-KIOVK   Male              0      No        Yes      22   \n",
              "6694  7315-WYOAW   Male              0      No         No      13   \n",
              "1429  1571-SAVHK   Male              0      No         No      12   \n",
              "3714  6352-GIGGQ   Male              0      No         No      67   \n",
              "\n",
              "     PhoneService MultipleLines InternetService OnlineSecurity OnlineBackup  \\\n",
              "3904          Yes            No     Fiber optic             No           No   \n",
              "6             Yes           Yes     Fiber optic             No          Yes   \n",
              "6694          Yes           Yes     Fiber optic             No           No   \n",
              "1429          Yes           Yes     Fiber optic             No           No   \n",
              "3714          Yes           Yes             DSL            Yes          Yes   \n",
              "\n",
              "     DeviceProtection TechSupport StreamingTV StreamingMovies        Contract  \\\n",
              "3904               No          No         Yes             Yes  Month-to-month   \n",
              "6                  No          No         Yes              No  Month-to-month   \n",
              "6694               No         Yes         Yes             Yes  Month-to-month   \n",
              "1429               No         Yes         Yes             Yes  Month-to-month   \n",
              "3714              Yes         Yes         Yes             Yes        One year   \n",
              "\n",
              "     PaperlessBilling              PaymentMethod  MonthlyCharges  TotalCharges  \n",
              "3904              Yes           Electronic check           90.20       1776.55  \n",
              "6                 Yes    Credit card (automatic)           89.10       1949.40  \n",
              "6694               No           Electronic check          100.75       1313.25  \n",
              "1429              Yes               Mailed check           99.95       1132.75  \n",
              "3714              Yes  Bank transfer (automatic)           88.80       5903.15  "
            ],
            "text/html": [
              "\n",
              "  <div id=\"df-6128ae39-c272-4a79-9022-6555359bf39d\">\n",
              "    <div class=\"colab-df-container\">\n",
              "      <div>\n",
              "<style scoped>\n",
              "    .dataframe tbody tr th:only-of-type {\n",
              "        vertical-align: middle;\n",
              "    }\n",
              "\n",
              "    .dataframe tbody tr th {\n",
              "        vertical-align: top;\n",
              "    }\n",
              "\n",
              "    .dataframe thead th {\n",
              "        text-align: right;\n",
              "    }\n",
              "</style>\n",
              "<table border=\"1\" class=\"dataframe\">\n",
              "  <thead>\n",
              "    <tr style=\"text-align: right;\">\n",
              "      <th></th>\n",
              "      <th>customerID</th>\n",
              "      <th>gender</th>\n",
              "      <th>SeniorCitizen</th>\n",
              "      <th>Partner</th>\n",
              "      <th>Dependents</th>\n",
              "      <th>tenure</th>\n",
              "      <th>PhoneService</th>\n",
              "      <th>MultipleLines</th>\n",
              "      <th>InternetService</th>\n",
              "      <th>OnlineSecurity</th>\n",
              "      <th>OnlineBackup</th>\n",
              "      <th>DeviceProtection</th>\n",
              "      <th>TechSupport</th>\n",
              "      <th>StreamingTV</th>\n",
              "      <th>StreamingMovies</th>\n",
              "      <th>Contract</th>\n",
              "      <th>PaperlessBilling</th>\n",
              "      <th>PaymentMethod</th>\n",
              "      <th>MonthlyCharges</th>\n",
              "      <th>TotalCharges</th>\n",
              "    </tr>\n",
              "  </thead>\n",
              "  <tbody>\n",
              "    <tr>\n",
              "      <th>3904</th>\n",
              "      <td>6319-IEJWJ</td>\n",
              "      <td>Male</td>\n",
              "      <td>0</td>\n",
              "      <td>Yes</td>\n",
              "      <td>Yes</td>\n",
              "      <td>20</td>\n",
              "      <td>Yes</td>\n",
              "      <td>No</td>\n",
              "      <td>Fiber optic</td>\n",
              "      <td>No</td>\n",
              "      <td>No</td>\n",
              "      <td>No</td>\n",
              "      <td>No</td>\n",
              "      <td>Yes</td>\n",
              "      <td>Yes</td>\n",
              "      <td>Month-to-month</td>\n",
              "      <td>Yes</td>\n",
              "      <td>Electronic check</td>\n",
              "      <td>90.20</td>\n",
              "      <td>1776.55</td>\n",
              "    </tr>\n",
              "    <tr>\n",
              "      <th>6</th>\n",
              "      <td>1452-KIOVK</td>\n",
              "      <td>Male</td>\n",
              "      <td>0</td>\n",
              "      <td>No</td>\n",
              "      <td>Yes</td>\n",
              "      <td>22</td>\n",
              "      <td>Yes</td>\n",
              "      <td>Yes</td>\n",
              "      <td>Fiber optic</td>\n",
              "      <td>No</td>\n",
              "      <td>Yes</td>\n",
              "      <td>No</td>\n",
              "      <td>No</td>\n",
              "      <td>Yes</td>\n",
              "      <td>No</td>\n",
              "      <td>Month-to-month</td>\n",
              "      <td>Yes</td>\n",
              "      <td>Credit card (automatic)</td>\n",
              "      <td>89.10</td>\n",
              "      <td>1949.40</td>\n",
              "    </tr>\n",
              "    <tr>\n",
              "      <th>6694</th>\n",
              "      <td>7315-WYOAW</td>\n",
              "      <td>Male</td>\n",
              "      <td>0</td>\n",
              "      <td>No</td>\n",
              "      <td>No</td>\n",
              "      <td>13</td>\n",
              "      <td>Yes</td>\n",
              "      <td>Yes</td>\n",
              "      <td>Fiber optic</td>\n",
              "      <td>No</td>\n",
              "      <td>No</td>\n",
              "      <td>No</td>\n",
              "      <td>Yes</td>\n",
              "      <td>Yes</td>\n",
              "      <td>Yes</td>\n",
              "      <td>Month-to-month</td>\n",
              "      <td>No</td>\n",
              "      <td>Electronic check</td>\n",
              "      <td>100.75</td>\n",
              "      <td>1313.25</td>\n",
              "    </tr>\n",
              "    <tr>\n",
              "      <th>1429</th>\n",
              "      <td>1571-SAVHK</td>\n",
              "      <td>Male</td>\n",
              "      <td>0</td>\n",
              "      <td>No</td>\n",
              "      <td>No</td>\n",
              "      <td>12</td>\n",
              "      <td>Yes</td>\n",
              "      <td>Yes</td>\n",
              "      <td>Fiber optic</td>\n",
              "      <td>No</td>\n",
              "      <td>No</td>\n",
              "      <td>No</td>\n",
              "      <td>Yes</td>\n",
              "      <td>Yes</td>\n",
              "      <td>Yes</td>\n",
              "      <td>Month-to-month</td>\n",
              "      <td>Yes</td>\n",
              "      <td>Mailed check</td>\n",
              "      <td>99.95</td>\n",
              "      <td>1132.75</td>\n",
              "    </tr>\n",
              "    <tr>\n",
              "      <th>3714</th>\n",
              "      <td>6352-GIGGQ</td>\n",
              "      <td>Male</td>\n",
              "      <td>0</td>\n",
              "      <td>No</td>\n",
              "      <td>No</td>\n",
              "      <td>67</td>\n",
              "      <td>Yes</td>\n",
              "      <td>Yes</td>\n",
              "      <td>DSL</td>\n",
              "      <td>Yes</td>\n",
              "      <td>Yes</td>\n",
              "      <td>Yes</td>\n",
              "      <td>Yes</td>\n",
              "      <td>Yes</td>\n",
              "      <td>Yes</td>\n",
              "      <td>One year</td>\n",
              "      <td>Yes</td>\n",
              "      <td>Bank transfer (automatic)</td>\n",
              "      <td>88.80</td>\n",
              "      <td>5903.15</td>\n",
              "    </tr>\n",
              "  </tbody>\n",
              "</table>\n",
              "</div>\n",
              "      <button class=\"colab-df-convert\" onclick=\"convertToInteractive('df-6128ae39-c272-4a79-9022-6555359bf39d')\"\n",
              "              title=\"Convert this dataframe to an interactive table.\"\n",
              "              style=\"display:none;\">\n",
              "        \n",
              "  <svg xmlns=\"http://www.w3.org/2000/svg\" height=\"24px\"viewBox=\"0 0 24 24\"\n",
              "       width=\"24px\">\n",
              "    <path d=\"M0 0h24v24H0V0z\" fill=\"none\"/>\n",
              "    <path d=\"M18.56 5.44l.94 2.06.94-2.06 2.06-.94-2.06-.94-.94-2.06-.94 2.06-2.06.94zm-11 1L8.5 8.5l.94-2.06 2.06-.94-2.06-.94L8.5 2.5l-.94 2.06-2.06.94zm10 10l.94 2.06.94-2.06 2.06-.94-2.06-.94-.94-2.06-.94 2.06-2.06.94z\"/><path d=\"M17.41 7.96l-1.37-1.37c-.4-.4-.92-.59-1.43-.59-.52 0-1.04.2-1.43.59L10.3 9.45l-7.72 7.72c-.78.78-.78 2.05 0 2.83L4 21.41c.39.39.9.59 1.41.59.51 0 1.02-.2 1.41-.59l7.78-7.78 2.81-2.81c.8-.78.8-2.07 0-2.86zM5.41 20L4 18.59l7.72-7.72 1.47 1.35L5.41 20z\"/>\n",
              "  </svg>\n",
              "      </button>\n",
              "      \n",
              "  <style>\n",
              "    .colab-df-container {\n",
              "      display:flex;\n",
              "      flex-wrap:wrap;\n",
              "      gap: 12px;\n",
              "    }\n",
              "\n",
              "    .colab-df-convert {\n",
              "      background-color: #E8F0FE;\n",
              "      border: none;\n",
              "      border-radius: 50%;\n",
              "      cursor: pointer;\n",
              "      display: none;\n",
              "      fill: #1967D2;\n",
              "      height: 32px;\n",
              "      padding: 0 0 0 0;\n",
              "      width: 32px;\n",
              "    }\n",
              "\n",
              "    .colab-df-convert:hover {\n",
              "      background-color: #E2EBFA;\n",
              "      box-shadow: 0px 1px 2px rgba(60, 64, 67, 0.3), 0px 1px 3px 1px rgba(60, 64, 67, 0.15);\n",
              "      fill: #174EA6;\n",
              "    }\n",
              "\n",
              "    [theme=dark] .colab-df-convert {\n",
              "      background-color: #3B4455;\n",
              "      fill: #D2E3FC;\n",
              "    }\n",
              "\n",
              "    [theme=dark] .colab-df-convert:hover {\n",
              "      background-color: #434B5C;\n",
              "      box-shadow: 0px 1px 3px 1px rgba(0, 0, 0, 0.15);\n",
              "      filter: drop-shadow(0px 1px 2px rgba(0, 0, 0, 0.3));\n",
              "      fill: #FFFFFF;\n",
              "    }\n",
              "  </style>\n",
              "\n",
              "      <script>\n",
              "        const buttonEl =\n",
              "          document.querySelector('#df-6128ae39-c272-4a79-9022-6555359bf39d button.colab-df-convert');\n",
              "        buttonEl.style.display =\n",
              "          google.colab.kernel.accessAllowed ? 'block' : 'none';\n",
              "\n",
              "        async function convertToInteractive(key) {\n",
              "          const element = document.querySelector('#df-6128ae39-c272-4a79-9022-6555359bf39d');\n",
              "          const dataTable =\n",
              "            await google.colab.kernel.invokeFunction('convertToInteractive',\n",
              "                                                     [key], {});\n",
              "          if (!dataTable) return;\n",
              "\n",
              "          const docLinkHtml = 'Like what you see? Visit the ' +\n",
              "            '<a target=\"_blank\" href=https://colab.research.google.com/notebooks/data_table.ipynb>data table notebook</a>'\n",
              "            + ' to learn more about interactive tables.';\n",
              "          element.innerHTML = '';\n",
              "          dataTable['output_type'] = 'display_data';\n",
              "          await google.colab.output.renderOutput(dataTable, element);\n",
              "          const docLink = document.createElement('div');\n",
              "          docLink.innerHTML = docLinkHtml;\n",
              "          element.appendChild(docLink);\n",
              "        }\n",
              "      </script>\n",
              "    </div>\n",
              "  </div>\n",
              "  "
            ]
          },
          "metadata": {},
          "execution_count": 73
        }
      ]
    },
    {
      "cell_type": "markdown",
      "source": [
        "Kita akan drop kolom customerID pada X_train, X_val, X_test krn tidak dibutuhkan utk proses pemodelan."
      ],
      "metadata": {
        "id": "8Nn7S1fvuw42"
      }
    },
    {
      "cell_type": "code",
      "source": [
        "# Drop Columns\n",
        "X_train.drop(['customerID'], axis=1, inplace=True)\n",
        "X_val.drop(['customerID'], axis=1, inplace=True)\n",
        "X_test.drop(['customerID'], axis=1, inplace=True)"
      ],
      "metadata": {
        "id": "nQkfvYUAJgHA"
      },
      "execution_count": 74,
      "outputs": []
    },
    {
      "cell_type": "markdown",
      "source": [
        "Hitung jumlah nilai unik pada X_train:"
      ],
      "metadata": {
        "id": "WA-TPfMSvADt"
      }
    },
    {
      "cell_type": "code",
      "source": [
        "# Hitung jumlah nilai unik\n",
        "X_train.nunique()"
      ],
      "metadata": {
        "colab": {
          "base_uri": "https://localhost:8080/"
        },
        "id": "BDIpZT_cJXs_",
        "outputId": "f53bcf8f-bc4e-4037-fb95-7371ffad1f04"
      },
      "execution_count": 75,
      "outputs": [
        {
          "output_type": "execute_result",
          "data": {
            "text/plain": [
              "gender                 2\n",
              "SeniorCitizen          2\n",
              "Partner                2\n",
              "Dependents             2\n",
              "tenure                73\n",
              "PhoneService           2\n",
              "MultipleLines          3\n",
              "InternetService        3\n",
              "OnlineSecurity         3\n",
              "OnlineBackup           3\n",
              "DeviceProtection       3\n",
              "TechSupport            3\n",
              "StreamingTV            3\n",
              "StreamingMovies        3\n",
              "Contract               3\n",
              "PaperlessBilling       2\n",
              "PaymentMethod          4\n",
              "MonthlyCharges      1395\n",
              "TotalCharges        4261\n",
              "dtype: int64"
            ]
          },
          "metadata": {},
          "execution_count": 75
        }
      ]
    },
    {
      "cell_type": "markdown",
      "source": [
        "Dari data nilai unik diats, kita bisa mengira2 mana kolom yg termasuk kolom kategorikal dan mana yg termasuk kolom numerikal. Berikutnya, lakukan uji Chi-Square utk kolom2 kategorikal dgn target utk menentukan korelasinya."
      ],
      "metadata": {
        "id": "jW7YOeYgvHGe"
      }
    },
    {
      "cell_type": "code",
      "source": [
        "# Lakukan uji korelasi Chi-Square pada masing2 kolom fitur tsb dgn target.\n",
        "csq1=chi2_contingency(pd.crosstab(y_train,X_train['gender']))\n",
        "csq2=chi2_contingency(pd.crosstab(y_train,X_train['SeniorCitizen']))\n",
        "csq3=chi2_contingency(pd.crosstab(y_train,X_train['Partner']))\n",
        "csq4=chi2_contingency(pd.crosstab(y_train,X_train['Dependents']))\n",
        "csq5=chi2_contingency(pd.crosstab(y_train,X_train['PhoneService']))\n",
        "csq6=chi2_contingency(pd.crosstab(y_train,X_train['MultipleLines']))\n",
        "csq7=chi2_contingency(pd.crosstab(y_train,X_train['InternetService']))\n",
        "csq8=chi2_contingency(pd.crosstab(y_train,X_train['OnlineSecurity']))\n",
        "csq9=chi2_contingency(pd.crosstab(y_train,X_train['OnlineBackup']))\n",
        "csq10=chi2_contingency(pd.crosstab(y_train,X_train['DeviceProtection']))\n",
        "csq11=chi2_contingency(pd.crosstab(y_train,X_train['TechSupport']))\n",
        "csq12=chi2_contingency(pd.crosstab(y_train,X_train['StreamingTV']))\n",
        "csq13=chi2_contingency(pd.crosstab(y_train,X_train['StreamingMovies']))\n",
        "csq14=chi2_contingency(pd.crosstab(y_train,X_train['Contract']))\n",
        "csq15=chi2_contingency(pd.crosstab(y_train,X_train['PaperlessBilling']))\n",
        "csq16=chi2_contingency(pd.crosstab(y_train,X_train['PaymentMethod']))"
      ],
      "metadata": {
        "id": "9phtJx8bKWIl"
      },
      "execution_count": 76,
      "outputs": []
    },
    {
      "cell_type": "code",
      "source": [
        "# Buat tabel berisi Chi-Stats, p-value dan degree of freedom masing2 variabel\n",
        "chi_table = pd.DataFrame({'Chi2 Statistics': [csq1[0],csq2[0],csq3[0],csq4[0],csq5[0],csq6[0],csq7[0],csq8[0],csq9[0],csq10[0],csq11[0],\n",
        "                                                  csq12[0],csq13[0],csq14[0],csq15[0],csq16[0]],\n",
        "                             'p-value': [csq1[1],csq2[1],csq3[1],csq4[1],csq5[1],csq6[1], csq7[1],csq8[1],csq9[1],csq10[1],csq11[1],\n",
        "                                                  csq12[1],csq13[1],csq14[1],csq15[1],csq16[1]], \n",
        "                             'Degree of Freedom': [csq1[2],csq2[2],csq3[2],csq4[2],csq5[2],csq6[2],csq7[2],csq8[2],csq9[2],csq10[2],csq11[2],\n",
        "                                                  csq12[2],csq13[2],csq14[2],csq15[2],csq16[2]]\n",
        "                              }, index=['gender','SeniorCitizen','Partner','Dependents','PhoneService','MultipleLines','InternetService','OnlineSecurity',\n",
        "                              'OnlineBackup','DeviceProtection','TechSupport','StreamingTV','StreamingMovies','Contract','PaperlessBilling','PaymentMethod'])\n",
        "chi_table"
      ],
      "metadata": {
        "colab": {
          "base_uri": "https://localhost:8080/",
          "height": 551
        },
        "id": "O0KgtAEqK9Rg",
        "outputId": "2044d2a8-b3de-4623-c8c7-cd072c308775"
      },
      "execution_count": 77,
      "outputs": [
        {
          "output_type": "execute_result",
          "data": {
            "text/plain": [
              "                  Chi2 Statistics        p-value  Degree of Freedom\n",
              "gender                   0.827299   3.630547e-01                  1\n",
              "SeniorCitizen          101.380377   7.591208e-24                  1\n",
              "Partner                107.225156   3.973607e-25                  1\n",
              "Dependents             124.706437   5.900945e-29                  1\n",
              "PhoneService             0.874729   3.496494e-01                  1\n",
              "MultipleLines            9.727723   7.720614e-03                  2\n",
              "InternetService        465.285725  9.214856e-102                  2\n",
              "OnlineSecurity         492.993759  8.866770e-108                  2\n",
              "OnlineBackup           376.832656   1.485349e-82                  2\n",
              "DeviceProtection       345.074126   1.169784e-75                  2\n",
              "TechSupport            521.275280  6.404882e-114                  2\n",
              "StreamingTV            242.048544   2.753128e-53                  2\n",
              "StreamingMovies        243.043517   1.674060e-53                  2\n",
              "Contract               733.517690  5.231875e-160                  2\n",
              "PaperlessBilling       166.191653   5.023444e-38                  1\n",
              "PaymentMethod          353.208607   3.012351e-76                  3"
            ],
            "text/html": [
              "\n",
              "  <div id=\"df-d0259902-3904-4f57-8071-7ad8c6e427a6\">\n",
              "    <div class=\"colab-df-container\">\n",
              "      <div>\n",
              "<style scoped>\n",
              "    .dataframe tbody tr th:only-of-type {\n",
              "        vertical-align: middle;\n",
              "    }\n",
              "\n",
              "    .dataframe tbody tr th {\n",
              "        vertical-align: top;\n",
              "    }\n",
              "\n",
              "    .dataframe thead th {\n",
              "        text-align: right;\n",
              "    }\n",
              "</style>\n",
              "<table border=\"1\" class=\"dataframe\">\n",
              "  <thead>\n",
              "    <tr style=\"text-align: right;\">\n",
              "      <th></th>\n",
              "      <th>Chi2 Statistics</th>\n",
              "      <th>p-value</th>\n",
              "      <th>Degree of Freedom</th>\n",
              "    </tr>\n",
              "  </thead>\n",
              "  <tbody>\n",
              "    <tr>\n",
              "      <th>gender</th>\n",
              "      <td>0.827299</td>\n",
              "      <td>3.630547e-01</td>\n",
              "      <td>1</td>\n",
              "    </tr>\n",
              "    <tr>\n",
              "      <th>SeniorCitizen</th>\n",
              "      <td>101.380377</td>\n",
              "      <td>7.591208e-24</td>\n",
              "      <td>1</td>\n",
              "    </tr>\n",
              "    <tr>\n",
              "      <th>Partner</th>\n",
              "      <td>107.225156</td>\n",
              "      <td>3.973607e-25</td>\n",
              "      <td>1</td>\n",
              "    </tr>\n",
              "    <tr>\n",
              "      <th>Dependents</th>\n",
              "      <td>124.706437</td>\n",
              "      <td>5.900945e-29</td>\n",
              "      <td>1</td>\n",
              "    </tr>\n",
              "    <tr>\n",
              "      <th>PhoneService</th>\n",
              "      <td>0.874729</td>\n",
              "      <td>3.496494e-01</td>\n",
              "      <td>1</td>\n",
              "    </tr>\n",
              "    <tr>\n",
              "      <th>MultipleLines</th>\n",
              "      <td>9.727723</td>\n",
              "      <td>7.720614e-03</td>\n",
              "      <td>2</td>\n",
              "    </tr>\n",
              "    <tr>\n",
              "      <th>InternetService</th>\n",
              "      <td>465.285725</td>\n",
              "      <td>9.214856e-102</td>\n",
              "      <td>2</td>\n",
              "    </tr>\n",
              "    <tr>\n",
              "      <th>OnlineSecurity</th>\n",
              "      <td>492.993759</td>\n",
              "      <td>8.866770e-108</td>\n",
              "      <td>2</td>\n",
              "    </tr>\n",
              "    <tr>\n",
              "      <th>OnlineBackup</th>\n",
              "      <td>376.832656</td>\n",
              "      <td>1.485349e-82</td>\n",
              "      <td>2</td>\n",
              "    </tr>\n",
              "    <tr>\n",
              "      <th>DeviceProtection</th>\n",
              "      <td>345.074126</td>\n",
              "      <td>1.169784e-75</td>\n",
              "      <td>2</td>\n",
              "    </tr>\n",
              "    <tr>\n",
              "      <th>TechSupport</th>\n",
              "      <td>521.275280</td>\n",
              "      <td>6.404882e-114</td>\n",
              "      <td>2</td>\n",
              "    </tr>\n",
              "    <tr>\n",
              "      <th>StreamingTV</th>\n",
              "      <td>242.048544</td>\n",
              "      <td>2.753128e-53</td>\n",
              "      <td>2</td>\n",
              "    </tr>\n",
              "    <tr>\n",
              "      <th>StreamingMovies</th>\n",
              "      <td>243.043517</td>\n",
              "      <td>1.674060e-53</td>\n",
              "      <td>2</td>\n",
              "    </tr>\n",
              "    <tr>\n",
              "      <th>Contract</th>\n",
              "      <td>733.517690</td>\n",
              "      <td>5.231875e-160</td>\n",
              "      <td>2</td>\n",
              "    </tr>\n",
              "    <tr>\n",
              "      <th>PaperlessBilling</th>\n",
              "      <td>166.191653</td>\n",
              "      <td>5.023444e-38</td>\n",
              "      <td>1</td>\n",
              "    </tr>\n",
              "    <tr>\n",
              "      <th>PaymentMethod</th>\n",
              "      <td>353.208607</td>\n",
              "      <td>3.012351e-76</td>\n",
              "      <td>3</td>\n",
              "    </tr>\n",
              "  </tbody>\n",
              "</table>\n",
              "</div>\n",
              "      <button class=\"colab-df-convert\" onclick=\"convertToInteractive('df-d0259902-3904-4f57-8071-7ad8c6e427a6')\"\n",
              "              title=\"Convert this dataframe to an interactive table.\"\n",
              "              style=\"display:none;\">\n",
              "        \n",
              "  <svg xmlns=\"http://www.w3.org/2000/svg\" height=\"24px\"viewBox=\"0 0 24 24\"\n",
              "       width=\"24px\">\n",
              "    <path d=\"M0 0h24v24H0V0z\" fill=\"none\"/>\n",
              "    <path d=\"M18.56 5.44l.94 2.06.94-2.06 2.06-.94-2.06-.94-.94-2.06-.94 2.06-2.06.94zm-11 1L8.5 8.5l.94-2.06 2.06-.94-2.06-.94L8.5 2.5l-.94 2.06-2.06.94zm10 10l.94 2.06.94-2.06 2.06-.94-2.06-.94-.94-2.06-.94 2.06-2.06.94z\"/><path d=\"M17.41 7.96l-1.37-1.37c-.4-.4-.92-.59-1.43-.59-.52 0-1.04.2-1.43.59L10.3 9.45l-7.72 7.72c-.78.78-.78 2.05 0 2.83L4 21.41c.39.39.9.59 1.41.59.51 0 1.02-.2 1.41-.59l7.78-7.78 2.81-2.81c.8-.78.8-2.07 0-2.86zM5.41 20L4 18.59l7.72-7.72 1.47 1.35L5.41 20z\"/>\n",
              "  </svg>\n",
              "      </button>\n",
              "      \n",
              "  <style>\n",
              "    .colab-df-container {\n",
              "      display:flex;\n",
              "      flex-wrap:wrap;\n",
              "      gap: 12px;\n",
              "    }\n",
              "\n",
              "    .colab-df-convert {\n",
              "      background-color: #E8F0FE;\n",
              "      border: none;\n",
              "      border-radius: 50%;\n",
              "      cursor: pointer;\n",
              "      display: none;\n",
              "      fill: #1967D2;\n",
              "      height: 32px;\n",
              "      padding: 0 0 0 0;\n",
              "      width: 32px;\n",
              "    }\n",
              "\n",
              "    .colab-df-convert:hover {\n",
              "      background-color: #E2EBFA;\n",
              "      box-shadow: 0px 1px 2px rgba(60, 64, 67, 0.3), 0px 1px 3px 1px rgba(60, 64, 67, 0.15);\n",
              "      fill: #174EA6;\n",
              "    }\n",
              "\n",
              "    [theme=dark] .colab-df-convert {\n",
              "      background-color: #3B4455;\n",
              "      fill: #D2E3FC;\n",
              "    }\n",
              "\n",
              "    [theme=dark] .colab-df-convert:hover {\n",
              "      background-color: #434B5C;\n",
              "      box-shadow: 0px 1px 3px 1px rgba(0, 0, 0, 0.15);\n",
              "      filter: drop-shadow(0px 1px 2px rgba(0, 0, 0, 0.3));\n",
              "      fill: #FFFFFF;\n",
              "    }\n",
              "  </style>\n",
              "\n",
              "      <script>\n",
              "        const buttonEl =\n",
              "          document.querySelector('#df-d0259902-3904-4f57-8071-7ad8c6e427a6 button.colab-df-convert');\n",
              "        buttonEl.style.display =\n",
              "          google.colab.kernel.accessAllowed ? 'block' : 'none';\n",
              "\n",
              "        async function convertToInteractive(key) {\n",
              "          const element = document.querySelector('#df-d0259902-3904-4f57-8071-7ad8c6e427a6');\n",
              "          const dataTable =\n",
              "            await google.colab.kernel.invokeFunction('convertToInteractive',\n",
              "                                                     [key], {});\n",
              "          if (!dataTable) return;\n",
              "\n",
              "          const docLinkHtml = 'Like what you see? Visit the ' +\n",
              "            '<a target=\"_blank\" href=https://colab.research.google.com/notebooks/data_table.ipynb>data table notebook</a>'\n",
              "            + ' to learn more about interactive tables.';\n",
              "          element.innerHTML = '';\n",
              "          dataTable['output_type'] = 'display_data';\n",
              "          await google.colab.output.renderOutput(dataTable, element);\n",
              "          const docLink = document.createElement('div');\n",
              "          docLink.innerHTML = docLinkHtml;\n",
              "          element.appendChild(docLink);\n",
              "        }\n",
              "      </script>\n",
              "    </div>\n",
              "  </div>\n",
              "  "
            ]
          },
          "metadata": {},
          "execution_count": 77
        }
      ]
    },
    {
      "cell_type": "markdown",
      "source": [
        "Dari hasil test Chi-Square diatas semua fitur memiliki korelasi dgn target kecuali 'gender' dan 'PhoneService' krn memiliki p-value 0.36 dan 0.35. Namun, tidak berarti hanya 2 kolom tsb akan dihapus krn jumlah kolom fitur sudah terlalu banyak. Oleh krn itu, saya akan membuat thresold dgn hanya fitur dgn nilai Chi2 stats > 350 yg akan dipakai. Artinya, hanya fitur 'Contract','TechSupport','OnlineSecurity','InternetService','OnlineBackup' dan'PaymentMethod' yg akan dipakai utk kolom kategorikal, sisanya akan di-drop."
      ],
      "metadata": {
        "id": "-ULcH9H0vZB5"
      }
    },
    {
      "cell_type": "code",
      "source": [
        "# Drop Columns kategorikal dgn nilai chi stats < 350\n",
        "X_train.drop(['gender', 'SeniorCitizen', 'Partner', 'Dependents', 'PhoneService', 'MultipleLines', 'DeviceProtection', 'StreamingTV', 'StreamingMovies', 'PaperlessBilling'], axis=1, inplace=True)\n",
        "X_val.drop(['gender', 'SeniorCitizen', 'Partner', 'Dependents', 'PhoneService', 'MultipleLines', 'DeviceProtection', 'StreamingTV', 'StreamingMovies', 'PaperlessBilling'], axis=1, inplace=True)\n",
        "X_test.drop(['gender', 'SeniorCitizen', 'Partner', 'Dependents', 'PhoneService', 'MultipleLines', 'DeviceProtection', 'StreamingTV', 'StreamingMovies', 'PaperlessBilling'], axis=1, inplace=True)"
      ],
      "metadata": {
        "id": "2dZEKg-4xA8R"
      },
      "execution_count": 78,
      "outputs": []
    },
    {
      "cell_type": "markdown",
      "source": [
        "### Handling Outliers"
      ],
      "metadata": {
        "id": "CKtdWd67xyq1"
      }
    },
    {
      "cell_type": "markdown",
      "source": [
        "Sebelumnya, kita akan cek jumlah outliers menggunakan boxplot."
      ],
      "metadata": {
        "id": "E-hWmrYx81va"
      }
    },
    {
      "cell_type": "code",
      "source": [
        "# Tampilkan head\n",
        "X_train.head()"
      ],
      "metadata": {
        "colab": {
          "base_uri": "https://localhost:8080/",
          "height": 250
        },
        "id": "ijk7FI3uyHIS",
        "outputId": "91e121cf-4cd9-42a5-9538-312816b0397c"
      },
      "execution_count": 79,
      "outputs": [
        {
          "output_type": "execute_result",
          "data": {
            "text/plain": [
              "      tenure InternetService OnlineSecurity OnlineBackup TechSupport  \\\n",
              "3904      20     Fiber optic             No           No          No   \n",
              "6         22     Fiber optic             No          Yes          No   \n",
              "6694      13     Fiber optic             No           No         Yes   \n",
              "1429      12     Fiber optic             No           No         Yes   \n",
              "3714      67             DSL            Yes          Yes         Yes   \n",
              "\n",
              "            Contract              PaymentMethod  MonthlyCharges  TotalCharges  \n",
              "3904  Month-to-month           Electronic check           90.20       1776.55  \n",
              "6     Month-to-month    Credit card (automatic)           89.10       1949.40  \n",
              "6694  Month-to-month           Electronic check          100.75       1313.25  \n",
              "1429  Month-to-month               Mailed check           99.95       1132.75  \n",
              "3714        One year  Bank transfer (automatic)           88.80       5903.15  "
            ],
            "text/html": [
              "\n",
              "  <div id=\"df-0315c2ea-1c12-4758-ae76-afcda12562d7\">\n",
              "    <div class=\"colab-df-container\">\n",
              "      <div>\n",
              "<style scoped>\n",
              "    .dataframe tbody tr th:only-of-type {\n",
              "        vertical-align: middle;\n",
              "    }\n",
              "\n",
              "    .dataframe tbody tr th {\n",
              "        vertical-align: top;\n",
              "    }\n",
              "\n",
              "    .dataframe thead th {\n",
              "        text-align: right;\n",
              "    }\n",
              "</style>\n",
              "<table border=\"1\" class=\"dataframe\">\n",
              "  <thead>\n",
              "    <tr style=\"text-align: right;\">\n",
              "      <th></th>\n",
              "      <th>tenure</th>\n",
              "      <th>InternetService</th>\n",
              "      <th>OnlineSecurity</th>\n",
              "      <th>OnlineBackup</th>\n",
              "      <th>TechSupport</th>\n",
              "      <th>Contract</th>\n",
              "      <th>PaymentMethod</th>\n",
              "      <th>MonthlyCharges</th>\n",
              "      <th>TotalCharges</th>\n",
              "    </tr>\n",
              "  </thead>\n",
              "  <tbody>\n",
              "    <tr>\n",
              "      <th>3904</th>\n",
              "      <td>20</td>\n",
              "      <td>Fiber optic</td>\n",
              "      <td>No</td>\n",
              "      <td>No</td>\n",
              "      <td>No</td>\n",
              "      <td>Month-to-month</td>\n",
              "      <td>Electronic check</td>\n",
              "      <td>90.20</td>\n",
              "      <td>1776.55</td>\n",
              "    </tr>\n",
              "    <tr>\n",
              "      <th>6</th>\n",
              "      <td>22</td>\n",
              "      <td>Fiber optic</td>\n",
              "      <td>No</td>\n",
              "      <td>Yes</td>\n",
              "      <td>No</td>\n",
              "      <td>Month-to-month</td>\n",
              "      <td>Credit card (automatic)</td>\n",
              "      <td>89.10</td>\n",
              "      <td>1949.40</td>\n",
              "    </tr>\n",
              "    <tr>\n",
              "      <th>6694</th>\n",
              "      <td>13</td>\n",
              "      <td>Fiber optic</td>\n",
              "      <td>No</td>\n",
              "      <td>No</td>\n",
              "      <td>Yes</td>\n",
              "      <td>Month-to-month</td>\n",
              "      <td>Electronic check</td>\n",
              "      <td>100.75</td>\n",
              "      <td>1313.25</td>\n",
              "    </tr>\n",
              "    <tr>\n",
              "      <th>1429</th>\n",
              "      <td>12</td>\n",
              "      <td>Fiber optic</td>\n",
              "      <td>No</td>\n",
              "      <td>No</td>\n",
              "      <td>Yes</td>\n",
              "      <td>Month-to-month</td>\n",
              "      <td>Mailed check</td>\n",
              "      <td>99.95</td>\n",
              "      <td>1132.75</td>\n",
              "    </tr>\n",
              "    <tr>\n",
              "      <th>3714</th>\n",
              "      <td>67</td>\n",
              "      <td>DSL</td>\n",
              "      <td>Yes</td>\n",
              "      <td>Yes</td>\n",
              "      <td>Yes</td>\n",
              "      <td>One year</td>\n",
              "      <td>Bank transfer (automatic)</td>\n",
              "      <td>88.80</td>\n",
              "      <td>5903.15</td>\n",
              "    </tr>\n",
              "  </tbody>\n",
              "</table>\n",
              "</div>\n",
              "      <button class=\"colab-df-convert\" onclick=\"convertToInteractive('df-0315c2ea-1c12-4758-ae76-afcda12562d7')\"\n",
              "              title=\"Convert this dataframe to an interactive table.\"\n",
              "              style=\"display:none;\">\n",
              "        \n",
              "  <svg xmlns=\"http://www.w3.org/2000/svg\" height=\"24px\"viewBox=\"0 0 24 24\"\n",
              "       width=\"24px\">\n",
              "    <path d=\"M0 0h24v24H0V0z\" fill=\"none\"/>\n",
              "    <path d=\"M18.56 5.44l.94 2.06.94-2.06 2.06-.94-2.06-.94-.94-2.06-.94 2.06-2.06.94zm-11 1L8.5 8.5l.94-2.06 2.06-.94-2.06-.94L8.5 2.5l-.94 2.06-2.06.94zm10 10l.94 2.06.94-2.06 2.06-.94-2.06-.94-.94-2.06-.94 2.06-2.06.94z\"/><path d=\"M17.41 7.96l-1.37-1.37c-.4-.4-.92-.59-1.43-.59-.52 0-1.04.2-1.43.59L10.3 9.45l-7.72 7.72c-.78.78-.78 2.05 0 2.83L4 21.41c.39.39.9.59 1.41.59.51 0 1.02-.2 1.41-.59l7.78-7.78 2.81-2.81c.8-.78.8-2.07 0-2.86zM5.41 20L4 18.59l7.72-7.72 1.47 1.35L5.41 20z\"/>\n",
              "  </svg>\n",
              "      </button>\n",
              "      \n",
              "  <style>\n",
              "    .colab-df-container {\n",
              "      display:flex;\n",
              "      flex-wrap:wrap;\n",
              "      gap: 12px;\n",
              "    }\n",
              "\n",
              "    .colab-df-convert {\n",
              "      background-color: #E8F0FE;\n",
              "      border: none;\n",
              "      border-radius: 50%;\n",
              "      cursor: pointer;\n",
              "      display: none;\n",
              "      fill: #1967D2;\n",
              "      height: 32px;\n",
              "      padding: 0 0 0 0;\n",
              "      width: 32px;\n",
              "    }\n",
              "\n",
              "    .colab-df-convert:hover {\n",
              "      background-color: #E2EBFA;\n",
              "      box-shadow: 0px 1px 2px rgba(60, 64, 67, 0.3), 0px 1px 3px 1px rgba(60, 64, 67, 0.15);\n",
              "      fill: #174EA6;\n",
              "    }\n",
              "\n",
              "    [theme=dark] .colab-df-convert {\n",
              "      background-color: #3B4455;\n",
              "      fill: #D2E3FC;\n",
              "    }\n",
              "\n",
              "    [theme=dark] .colab-df-convert:hover {\n",
              "      background-color: #434B5C;\n",
              "      box-shadow: 0px 1px 3px 1px rgba(0, 0, 0, 0.15);\n",
              "      filter: drop-shadow(0px 1px 2px rgba(0, 0, 0, 0.3));\n",
              "      fill: #FFFFFF;\n",
              "    }\n",
              "  </style>\n",
              "\n",
              "      <script>\n",
              "        const buttonEl =\n",
              "          document.querySelector('#df-0315c2ea-1c12-4758-ae76-afcda12562d7 button.colab-df-convert');\n",
              "        buttonEl.style.display =\n",
              "          google.colab.kernel.accessAllowed ? 'block' : 'none';\n",
              "\n",
              "        async function convertToInteractive(key) {\n",
              "          const element = document.querySelector('#df-0315c2ea-1c12-4758-ae76-afcda12562d7');\n",
              "          const dataTable =\n",
              "            await google.colab.kernel.invokeFunction('convertToInteractive',\n",
              "                                                     [key], {});\n",
              "          if (!dataTable) return;\n",
              "\n",
              "          const docLinkHtml = 'Like what you see? Visit the ' +\n",
              "            '<a target=\"_blank\" href=https://colab.research.google.com/notebooks/data_table.ipynb>data table notebook</a>'\n",
              "            + ' to learn more about interactive tables.';\n",
              "          element.innerHTML = '';\n",
              "          dataTable['output_type'] = 'display_data';\n",
              "          await google.colab.output.renderOutput(dataTable, element);\n",
              "          const docLink = document.createElement('div');\n",
              "          docLink.innerHTML = docLinkHtml;\n",
              "          element.appendChild(docLink);\n",
              "        }\n",
              "      </script>\n",
              "    </div>\n",
              "  </div>\n",
              "  "
            ]
          },
          "metadata": {},
          "execution_count": 79
        }
      ]
    },
    {
      "cell_type": "markdown",
      "source": [
        "Plot box diagram utk fitur numerik"
      ],
      "metadata": {
        "id": "1iYQ2Fkd87oP"
      }
    },
    {
      "cell_type": "code",
      "source": [
        "# Plot diagram box untuk kolom sebelum handling outliers dilakukan\n",
        "f, axes = plt.subplots(1, 3, figsize=(8, 8))\n",
        "sns.boxplot(y=\"tenure\", data=X_train, ax=axes[0], color='b')\n",
        "sns.boxplot(y=\"MonthlyCharges\", data=X_train, ax=axes[1], color='b')\n",
        "sns.boxplot(y=\"TotalCharges\", data=X_train, ax=axes[2], color='b')\n",
        "plt.show()"
      ],
      "metadata": {
        "colab": {
          "base_uri": "https://localhost:8080/",
          "height": 469
        },
        "id": "tegYlM3Lx0rO",
        "outputId": "788d2453-8668-4830-b252-c8a558df12f4"
      },
      "execution_count": 80,
      "outputs": [
        {
          "output_type": "display_data",
          "data": {
            "text/plain": [
              "<Figure size 576x576 with 3 Axes>"
            ],
            "image/png": "[encoded data removed]"
          },
          "metadata": {
            "needs_background": "light"
          }
        }
      ]
    },
    {
      "cell_type": "markdown",
      "source": [
        "Tidak ditemukan keberadaan outliers berdasarkan box diagram, sehingga handling outliers tdk perlu dilakukan"
      ],
      "metadata": {
        "id": "hWRKjTFn8_S4"
      }
    },
    {
      "cell_type": "markdown",
      "source": [
        "### Pipeline (Sklearn)"
      ],
      "metadata": {
        "id": "TKCSvg54zkE1"
      }
    },
    {
      "cell_type": "markdown",
      "source": [
        "Buat pipeline sklearn utk preprocessing data numerik dan kategorikal menggunakan Column Transformers"
      ],
      "metadata": {
        "id": "NBHu2lbH9J72"
      }
    },
    {
      "cell_type": "code",
      "source": [
        "# Buat list nama2 kolom numerik dan kategorikal\n",
        "cat_columns = ['Contract','TechSupport','OnlineSecurity','InternetService','OnlineBackup','PaymentMethod']\n",
        "num_columns = ['tenure','MonthlyCharges','TotalCharges']"
      ],
      "metadata": {
        "id": "hKq-UCNu9IvC"
      },
      "execution_count": 81,
      "outputs": []
    },
    {
      "cell_type": "markdown",
      "source": [
        "Untuk kolom numerik akan dilakukan imputasi missing values dgn strategi nilai median. Berikutnya lakukan scaling menggunakan MinMaxScaler krn bentuk data skewed sesuai hasil boxplot. Untuk kolom kategorikal, lakukan encoding menggunakan onehotencoder utk mengubah label menjadi bilangan biner."
      ],
      "metadata": {
        "id": "kfK96z3V9eC3"
      }
    },
    {
      "cell_type": "code",
      "source": [
        "# Create A Pipeline\n",
        "num_pipeline = make_pipeline(SimpleImputer(strategy='median'),\n",
        "                             MinMaxScaler())\n",
        "\n",
        "cat_pipeline = make_pipeline(OneHotEncoder())\n",
        "\n",
        "final_pipeline = ColumnTransformer([\n",
        "    ('pipe_num', num_pipeline, num_columns),\n",
        "    ('pipe_cat', cat_pipeline, cat_columns)\n",
        "])"
      ],
      "metadata": {
        "id": "5TzSyOG2zpWP"
      },
      "execution_count": 82,
      "outputs": []
    },
    {
      "cell_type": "markdown",
      "source": [
        "Lakukan fit dan transform pipeline utk X_train, X_val dan X_test"
      ],
      "metadata": {
        "id": "yYw47I6S92Bu"
      }
    },
    {
      "cell_type": "code",
      "source": [
        "# Fit and Transform\n",
        "X_train = final_pipeline.fit_transform(X_train)\n",
        "X_val = final_pipeline.transform(X_val)\n",
        "X_test = final_pipeline.transform(X_test)\n",
        "X_train.shape"
      ],
      "metadata": {
        "colab": {
          "base_uri": "https://localhost:8080/"
        },
        "id": "tWdtV2v3z9Qf",
        "outputId": "83d2f2ee-049b-41de-c5ef-29340f483f2f"
      },
      "execution_count": 83,
      "outputs": [
        {
          "output_type": "execute_result",
          "data": {
            "text/plain": [
              "(4494, 22)"
            ]
          },
          "metadata": {},
          "execution_count": 83
        }
      ]
    },
    {
      "cell_type": "markdown",
      "source": [
        "### Handling Imbalance"
      ],
      "metadata": {
        "id": "dDsVzxnn2nRR"
      }
    },
    {
      "cell_type": "markdown",
      "source": [
        "Karena berdasarkan EDA data target mengalami imbalance, lakukan handling imbalance menggunakan SMOTE"
      ],
      "metadata": {
        "id": "aazhMngW-KDz"
      }
    },
    {
      "cell_type": "code",
      "source": [
        "# Lakukan SMOTE utk mengubah komposisi label menjadi 50:50\n",
        "smote = SMOTE(random_state=100)\n",
        "X_train, y_train = smote.fit_resample(X_train, y_train)\n",
        "y_train.value_counts()"
      ],
      "metadata": {
        "colab": {
          "base_uri": "https://localhost:8080/"
        },
        "id": "ax4UtOID2jwj",
        "outputId": "e16d20c4-053f-49df-a78d-42288fa0c8a8"
      },
      "execution_count": 84,
      "outputs": [
        {
          "output_type": "execute_result",
          "data": {
            "text/plain": [
              "1    3323\n",
              "0    3323\n",
              "Name: Churn, dtype: int64"
            ]
          },
          "metadata": {},
          "execution_count": 84
        }
      ]
    },
    {
      "cell_type": "markdown",
      "source": [
        "# VI. Model Definition"
      ],
      "metadata": {
        "id": "1RWdFi0MqxBw"
      }
    },
    {
      "cell_type": "markdown",
      "source": [
        "Bagian ini berisi cell untuk mendefinisikan model. Jelaskan alasan menggunakan suatu algoritma/model, hyperparameter yang dipakai, jenis penggunaan metrics yang dipakai, dan hal lain yang terkait dengan model."
      ],
      "metadata": {
        "id": "OCh7Ve9ZrTUC"
      }
    },
    {
      "cell_type": "markdown",
      "source": [
        "### Pipeline (TensorFlow)"
      ],
      "metadata": {
        "id": "U82ansKG7Y1K"
      }
    },
    {
      "cell_type": "markdown",
      "source": [
        "Buat pipeline TensorFlow utk proses repeat, shuffle dan batch. Jumlah repeat adlh 4, jumlah shuffle adlh 100 dan jumlah batch adlh 128."
      ],
      "metadata": {
        "id": "6BoHEsx8_AhI"
      }
    },
    {
      "cell_type": "code",
      "source": [
        "# Lakukan repeat, shuffle dan batch pada train_pipe\n",
        "train_pipe = tf.data.Dataset.from_tensor_slices((X_train,y_train)).repeat(4).shuffle(100).batch(128)\n",
        "# Lakukan batch pada test_pipe\n",
        "test_pipe = tf.data.Dataset.from_tensor_slices((X_test,y_test)).batch(128)\n",
        "# Lakukan batch pada val_pipe\n",
        "val_pipe = tf.data.Dataset.from_tensor_slices((X_val,y_val)).batch(128)"
      ],
      "metadata": {
        "id": "AQwYZ11A7jgw"
      },
      "execution_count": 87,
      "outputs": []
    },
    {
      "cell_type": "code",
      "source": [
        "# Tampilkan satu sampel pada train_pipe\n",
        "for row in train_pipe.take(1):\n",
        "  print(row)"
      ],
      "metadata": {
        "colab": {
          "base_uri": "https://localhost:8080/"
        },
        "id": "tGjka2o89bLS",
        "outputId": "e45e4445-9858-45ea-9abc-24978dbce683"
      },
      "execution_count": 88,
      "outputs": [
        {
          "output_type": "stream",
          "name": "stdout",
          "text": [
            "(<tf.Tensor: shape=(128, 22), dtype=float64, numpy=\n",
            "array([[0.33333333, 0.10812157, 0.07722132, ..., 0.        , 1.        ,\n",
            "        0.        ],\n",
            "       [0.73611111, 0.77428999, 0.57905608, ..., 0.        , 1.        ,\n",
            "        0.        ],\n",
            "       [0.77777778, 0.86198306, 0.67188438, ..., 0.        , 1.        ,\n",
            "        0.        ],\n",
            "       ...,\n",
            "       [0.97222222, 0.87493772, 0.86951881, ..., 0.        , 1.        ,\n",
            "        0.        ],\n",
            "       [0.31944444, 0.51071251, 0.18847219, ..., 1.        , 0.        ,\n",
            "        0.        ],\n",
            "       [1.        , 0.86347783, 0.86760905, ..., 1.        , 0.        ,\n",
            "        0.        ]])>, <tf.Tensor: shape=(128,), dtype=int64, numpy=\n",
            "array([0, 0, 0, 0, 0, 0, 0, 0, 0, 0, 0, 0, 0, 1, 0, 0, 1, 0, 1, 1, 0, 0,\n",
            "       0, 0, 0, 0, 0, 1, 1, 0, 0, 0, 1, 1, 0, 1, 0, 0, 0, 1, 1, 0, 0, 1,\n",
            "       0, 0, 1, 1, 1, 0, 0, 1, 0, 0, 1, 1, 1, 0, 0, 0, 0, 1, 0, 0, 1, 0,\n",
            "       0, 0, 1, 1, 0, 0, 0, 0, 0, 0, 1, 0, 0, 1, 0, 0, 1, 0, 0, 0, 0, 1,\n",
            "       0, 0, 1, 0, 0, 0, 1, 0, 0, 0, 0, 0, 1, 1, 0, 0, 1, 1, 0, 1, 0, 0,\n",
            "       1, 0, 1, 1, 0, 0, 0, 0, 1, 0, 1, 0, 0, 0, 0, 0, 0, 0])>)\n"
          ]
        }
      ]
    },
    {
      "cell_type": "markdown",
      "source": [
        "### Sequential API"
      ],
      "metadata": {
        "id": "ui-PUmm-RMXS"
      }
    },
    {
      "cell_type": "markdown",
      "source": [
        "Buat ANN dgn model sequential API. Skemanya adalah input layer dgn 5 neuron, fungsi aktivasi relu dan 22 fitur. Kemudian satu hidden layer dgn 10 neuron dan fungsi aktivasi relu. Lalu output layer dgn 1 neuron dan fungsi aktivasi sigmoid. Batch normalization ditambahkan sebelum dan setelah hidden layer. Fungsi dari batch normalization adalah utk mempercepat dan menstabilkan proses training model. Dropout rate ditentukan sebesar 20% dan ditempatkan sblm output layer. Dropout berfungsi sebagai regularisasi supaya weight pada neuron tdk terlalu sensitif thd weight neuron di layer sebelahnya. \n",
        "\n",
        "Berikutnya model di-compile menggunakan loss function binary-crossentropy (krn problem klasifikasi biner), optimizer adam (salah satu optimizer terbaik) dgn metriks accuracy score."
      ],
      "metadata": {
        "id": "c6q-6dpB5PMR"
      }
    },
    {
      "cell_type": "code",
      "source": [
        "# Create Sequential API\n",
        "model_sequential1 = Sequential()\n",
        "model_sequential1.add(Dense(5, activation='relu', input_shape=(22,))) # Input Layer\n",
        "model_sequential1.add(BatchNormalization())\n",
        "model_sequential1.add(Dense(10, activation='relu')) # Hidden Layer 2\n",
        "model_sequential1.add(BatchNormalization())\n",
        "model_sequential1.add(Dropout(0.2))\n",
        "model_sequential1.add(Dense(1, activation='sigmoid')) # Output Layer\n",
        "\n",
        "# Compile model\n",
        "model_sequential1.compile(loss='binary_crossentropy',\n",
        "                         optimizer='Adam',\n",
        "                         metrics='accuracy')\n",
        "\n",
        "model_sequential1.summary()\n"
      ],
      "metadata": {
        "colab": {
          "base_uri": "https://localhost:8080/"
        },
        "id": "Ps4f-OppQ1yh",
        "outputId": "4b44bf9d-a636-44f6-c69e-c29069e6cc47"
      },
      "execution_count": 89,
      "outputs": [
        {
          "output_type": "stream",
          "name": "stdout",
          "text": [
            "Model: \"sequential\"\n",
            "_________________________________________________________________\n",
            " Layer (type)                Output Shape              Param #   \n",
            "=================================================================\n",
            " dense (Dense)               (None, 5)                 115       \n",
            "                                                                 \n",
            " batch_normalization (BatchN  (None, 5)                20        \n",
            " ormalization)                                                   \n",
            "                                                                 \n",
            " dense_1 (Dense)             (None, 10)                60        \n",
            "                                                                 \n",
            " batch_normalization_1 (Batc  (None, 10)               40        \n",
            " hNormalization)                                                 \n",
            "                                                                 \n",
            " dropout (Dropout)           (None, 10)                0         \n",
            "                                                                 \n",
            " dense_2 (Dense)             (None, 1)                 11        \n",
            "                                                                 \n",
            "=================================================================\n",
            "Total params: 246\n",
            "Trainable params: 216\n",
            "Non-trainable params: 30\n",
            "_________________________________________________________________\n"
          ]
        }
      ]
    },
    {
      "cell_type": "markdown",
      "source": [
        "Jumlah total paramater adlh 246 parameter dan sebanyak 216 parameter akan melalui training."
      ],
      "metadata": {
        "id": "PAxIuJWF7w__"
      }
    },
    {
      "cell_type": "code",
      "source": [
        "# Plot Layers\n",
        "tf.keras.utils.plot_model(model_sequential1, show_shapes=True)"
      ],
      "metadata": {
        "colab": {
          "base_uri": "https://localhost:8080/",
          "height": 0
        },
        "id": "_u6EdHFIQ-jt",
        "outputId": "62f968e5-ced6-4d90-966b-89201831d4c7"
      },
      "execution_count": 90,
      "outputs": [
        {
          "output_type": "execute_result",
          "data": {
            "image/png": "[encoded data removed]",
            "text/plain": [
              "<IPython.core.display.Image object>"
            ]
          },
          "metadata": {},
          "execution_count": 90
        }
      ]
    },
    {
      "cell_type": "markdown",
      "source": [
        "Gambar diatas adlh skema sequential API. Proses training terjadi scr berurutan dgn feed forward terjadi dari satu layer ke layer berikutnya."
      ],
      "metadata": {
        "id": "ZKGfn3Ca78ux"
      }
    },
    {
      "cell_type": "markdown",
      "source": [
        "### Functional API"
      ],
      "metadata": {
        "id": "6fionBHEvIFv"
      }
    },
    {
      "cell_type": "markdown",
      "source": [
        "Mirip dgn ANN model sequential, pada model functional API juga menggunakan struktur input layer (5 neuron, fungsi aktivasi relu), 1 hidden layer (10 neuron, fungsi aktivasi relu) dan output layer (1 neuron, fungsi aktivasi sigmoid). Hanya satu batch normalization diterapkan setelah input layer. Droput rate diterapkan sblm hidden layer dgn rate 20%. \n",
        "\n",
        "Berikutnya model di-compile menggunakan loss function binary-crossentropy (krn problem klasifikasi biner), optimizer adam (salah satu optimizer terbaik) dgn metriks accuracy score."
      ],
      "metadata": {
        "id": "ZMYhoQDC8Vyt"
      }
    },
    {
      "cell_type": "code",
      "source": [
        "# Create Functional API\n",
        "input_layer1 = Input(shape=(22,))\n",
        "hidden1_layer1 = Dense(5, activation='relu')(input_layer1)\n",
        "bn1 = BatchNormalization()(hidden1_layer1)\n",
        "dropout1 = Dropout(0.2)(bn1)\n",
        "hidden2_layer1 = Dense(10, activation='relu')(dropout1)\n",
        "\n",
        "concat_layer1 = concatenate([input_layer1, hidden2_layer1])\n",
        "output_layer1 = Dense(1, activation='sigmoid')(concat_layer1)\n",
        "\n",
        "model_functional1 = Model(inputs=input_layer1, outputs=output_layer1)\n",
        "\n",
        "# Compile model\n",
        "model_functional1.compile(loss='binary_crossentropy',\n",
        "                         optimizer='Adam',\n",
        "                         metrics=['accuracy'])\n",
        "\n",
        "model_functional1.summary()"
      ],
      "metadata": {
        "colab": {
          "base_uri": "https://localhost:8080/"
        },
        "id": "6AXyMHwqwooJ",
        "outputId": "829d0437-4f47-4b8a-ee27-202326f627db"
      },
      "execution_count": 91,
      "outputs": [
        {
          "output_type": "stream",
          "name": "stdout",
          "text": [
            "Model: \"model\"\n",
            "__________________________________________________________________________________________________\n",
            " Layer (type)                   Output Shape         Param #     Connected to                     \n",
            "==================================================================================================\n",
            " input_1 (InputLayer)           [(None, 22)]         0           []                               \n",
            "                                                                                                  \n",
            " dense_3 (Dense)                (None, 5)            115         ['input_1[0][0]']                \n",
            "                                                                                                  \n",
            " batch_normalization_2 (BatchNo  (None, 5)           20          ['dense_3[0][0]']                \n",
            " rmalization)                                                                                     \n",
            "                                                                                                  \n",
            " dropout_1 (Dropout)            (None, 5)            0           ['batch_normalization_2[0][0]']  \n",
            "                                                                                                  \n",
            " dense_4 (Dense)                (None, 10)           60          ['dropout_1[0][0]']              \n",
            "                                                                                                  \n",
            " concatenate (Concatenate)      (None, 32)           0           ['input_1[0][0]',                \n",
            "                                                                  'dense_4[0][0]']                \n",
            "                                                                                                  \n",
            " dense_5 (Dense)                (None, 1)            33          ['concatenate[0][0]']            \n",
            "                                                                                                  \n",
            "==================================================================================================\n",
            "Total params: 228\n",
            "Trainable params: 218\n",
            "Non-trainable params: 10\n",
            "__________________________________________________________________________________________________\n"
          ]
        }
      ]
    },
    {
      "cell_type": "code",
      "source": [
        "# Plot Layers\n",
        "tf.keras.utils.plot_model(model_functional1, show_shapes=True)"
      ],
      "metadata": {
        "colab": {
          "base_uri": "https://localhost:8080/",
          "height": 0
        },
        "id": "EW81N0Wzw55m",
        "outputId": "643818bc-9c36-4ba5-e654-a8839a7f8dee"
      },
      "execution_count": 92,
      "outputs": [
        {
          "output_type": "execute_result",
          "data": {
            "image/png": "[encoded data removed]",
            "text/plain": [
              "<IPython.core.display.Image object>"
            ]
          },
          "metadata": {},
          "execution_count": 92
        }
      ]
    },
    {
      "cell_type": "markdown",
      "source": [
        "Berbeda dgn sequential API, alur proses feed-forward pada functional API dapat langsung menuju input layer hasil concatenate antara input layer pertama dan hidden layer. "
      ],
      "metadata": {
        "id": "cggTbQYy9E9X"
      }
    },
    {
      "cell_type": "markdown",
      "source": [
        "# VII. Model Training"
      ],
      "metadata": {
        "id": "U6_L7esOq1iE"
      }
    },
    {
      "cell_type": "markdown",
      "source": [
        "Cell pada bagian ini hanya berisi code untuk melatih model dan output yang dihasilkan. Lakukan beberapa kali proses training dengan hyperparameter yang berbeda untuk melihat hasil yang didapatkan. Analisis dan narasikan hasil ini pada bagian Model Evaluation.\n",
        "\n"
      ],
      "metadata": {
        "id": "3lXpSqeNrVg7"
      }
    },
    {
      "cell_type": "markdown",
      "source": [
        "### Sequential API"
      ],
      "metadata": {
        "id": "iy3TnIA7RVUN"
      }
    },
    {
      "cell_type": "markdown",
      "source": [
        "Training model menggunakan epoch 20, artinya akan ada 20 looping thd dataset saat proses training. "
      ],
      "metadata": {
        "id": "ahERzRg69dzN"
      }
    },
    {
      "cell_type": "code",
      "source": [
        "# Train the Model\n",
        "%%time \n",
        "history_seq1 = model_sequential1.fit(train_pipe, \n",
        "                                   epochs=20, \n",
        "                                   validation_data=val_pipe\n",
        "                                   )\n"
      ],
      "metadata": {
        "colab": {
          "base_uri": "https://localhost:8080/"
        },
        "id": "qY8qsHovRZ9V",
        "outputId": "b79387cb-e924-4842-a8bc-73c09e434d24"
      },
      "execution_count": 93,
      "outputs": [
        {
          "output_type": "stream",
          "name": "stdout",
          "text": [
            "Epoch 1/20\n",
            "208/208 [==============================] - 4s 5ms/step - loss: 0.7765 - accuracy: 0.5829 - val_loss: 0.6016 - val_accuracy: 0.7162\n",
            "Epoch 2/20\n",
            "208/208 [==============================] - 1s 4ms/step - loss: 0.6762 - accuracy: 0.6346 - val_loss: 0.5766 - val_accuracy: 0.7456\n",
            "Epoch 3/20\n",
            "208/208 [==============================] - 1s 4ms/step - loss: 0.6575 - accuracy: 0.6473 - val_loss: 0.5714 - val_accuracy: 0.7553\n",
            "Epoch 4/20\n",
            "208/208 [==============================] - 1s 4ms/step - loss: 0.6488 - accuracy: 0.6498 - val_loss: 0.5682 - val_accuracy: 0.7562\n",
            "Epoch 5/20\n",
            "208/208 [==============================] - 1s 4ms/step - loss: 0.6445 - accuracy: 0.6541 - val_loss: 0.5613 - val_accuracy: 0.7607\n",
            "Epoch 6/20\n",
            "208/208 [==============================] - 1s 4ms/step - loss: 0.6380 - accuracy: 0.6600 - val_loss: 0.5611 - val_accuracy: 0.7598\n",
            "Epoch 7/20\n",
            "208/208 [==============================] - 1s 4ms/step - loss: 0.6366 - accuracy: 0.6633 - val_loss: 0.5592 - val_accuracy: 0.7616\n",
            "Epoch 8/20\n",
            "208/208 [==============================] - 1s 4ms/step - loss: 0.6340 - accuracy: 0.6634 - val_loss: 0.5555 - val_accuracy: 0.7642\n",
            "Epoch 9/20\n",
            "208/208 [==============================] - 1s 4ms/step - loss: 0.6290 - accuracy: 0.6702 - val_loss: 0.5503 - val_accuracy: 0.7678\n",
            "Epoch 10/20\n",
            "208/208 [==============================] - 1s 4ms/step - loss: 0.6261 - accuracy: 0.6760 - val_loss: 0.5449 - val_accuracy: 0.7678\n",
            "Epoch 11/20\n",
            "208/208 [==============================] - 1s 4ms/step - loss: 0.6243 - accuracy: 0.6792 - val_loss: 0.5534 - val_accuracy: 0.7607\n",
            "Epoch 12/20\n",
            "208/208 [==============================] - 1s 4ms/step - loss: 0.6229 - accuracy: 0.6757 - val_loss: 0.5447 - val_accuracy: 0.7669\n",
            "Epoch 13/20\n",
            "208/208 [==============================] - 1s 4ms/step - loss: 0.6196 - accuracy: 0.6864 - val_loss: 0.5461 - val_accuracy: 0.7740\n",
            "Epoch 14/20\n",
            "208/208 [==============================] - 1s 4ms/step - loss: 0.6190 - accuracy: 0.6917 - val_loss: 0.5453 - val_accuracy: 0.7749\n",
            "Epoch 15/20\n",
            "208/208 [==============================] - 1s 4ms/step - loss: 0.6186 - accuracy: 0.6929 - val_loss: 0.5416 - val_accuracy: 0.7802\n",
            "Epoch 16/20\n",
            "208/208 [==============================] - 1s 4ms/step - loss: 0.6196 - accuracy: 0.6932 - val_loss: 0.5423 - val_accuracy: 0.7794\n",
            "Epoch 17/20\n",
            "208/208 [==============================] - 1s 4ms/step - loss: 0.6172 - accuracy: 0.6987 - val_loss: 0.5455 - val_accuracy: 0.7785\n",
            "Epoch 18/20\n",
            "208/208 [==============================] - 1s 4ms/step - loss: 0.6176 - accuracy: 0.7020 - val_loss: 0.5424 - val_accuracy: 0.7731\n",
            "Epoch 19/20\n",
            "208/208 [==============================] - 1s 4ms/step - loss: 0.6179 - accuracy: 0.7053 - val_loss: 0.5481 - val_accuracy: 0.7740\n",
            "Epoch 20/20\n",
            "208/208 [==============================] - 1s 4ms/step - loss: 0.6170 - accuracy: 0.7016 - val_loss: 0.5451 - val_accuracy: 0.7731\n",
            "CPU times: user 21.6 s, sys: 2.12 s, total: 23.7 s\n",
            "Wall time: 25.7 s\n"
          ]
        }
      ]
    },
    {
      "cell_type": "markdown",
      "source": [
        "### Functional API"
      ],
      "metadata": {
        "id": "_5FXReunxBZl"
      }
    },
    {
      "cell_type": "markdown",
      "source": [
        "Training model juga menggunakan epoch 20, artinya akan ada 20 looping thd dataset saat proses training. "
      ],
      "metadata": {
        "id": "qapNLUNG9uzg"
      }
    },
    {
      "cell_type": "code",
      "source": [
        "# Train the Model\n",
        "%%time \n",
        "history_func1 = model_functional1.fit(train_pipe, \n",
        "                                   epochs=20, \n",
        "                                   validation_data=(val_pipe) \n",
        "                                   )"
      ],
      "metadata": {
        "colab": {
          "base_uri": "https://localhost:8080/"
        },
        "id": "M2Y3j9WkxBIm",
        "outputId": "eb31b7a9-d59a-48ad-ccc8-5edadb4e8bdb"
      },
      "execution_count": 94,
      "outputs": [
        {
          "output_type": "stream",
          "name": "stdout",
          "text": [
            "Epoch 1/20\n",
            "208/208 [==============================] - 2s 4ms/step - loss: 0.7203 - accuracy: 0.5559 - val_loss: 0.5934 - val_accuracy: 0.6931\n",
            "Epoch 2/20\n",
            "208/208 [==============================] - 1s 4ms/step - loss: 0.6234 - accuracy: 0.6812 - val_loss: 0.5470 - val_accuracy: 0.7206\n",
            "Epoch 3/20\n",
            "208/208 [==============================] - 1s 4ms/step - loss: 0.5839 - accuracy: 0.7097 - val_loss: 0.5372 - val_accuracy: 0.7189\n",
            "Epoch 4/20\n",
            "208/208 [==============================] - 1s 5ms/step - loss: 0.5571 - accuracy: 0.7275 - val_loss: 0.5338 - val_accuracy: 0.7144\n",
            "Epoch 5/20\n",
            "208/208 [==============================] - 1s 6ms/step - loss: 0.5404 - accuracy: 0.7354 - val_loss: 0.5320 - val_accuracy: 0.7180\n",
            "Epoch 6/20\n",
            "208/208 [==============================] - 1s 4ms/step - loss: 0.5251 - accuracy: 0.7501 - val_loss: 0.5320 - val_accuracy: 0.7171\n",
            "Epoch 7/20\n",
            "208/208 [==============================] - 1s 3ms/step - loss: 0.5126 - accuracy: 0.7596 - val_loss: 0.5325 - val_accuracy: 0.7198\n",
            "Epoch 8/20\n",
            "208/208 [==============================] - 1s 3ms/step - loss: 0.5001 - accuracy: 0.7702 - val_loss: 0.5370 - val_accuracy: 0.7224\n",
            "Epoch 9/20\n",
            "208/208 [==============================] - 1s 5ms/step - loss: 0.4879 - accuracy: 0.7799 - val_loss: 0.5358 - val_accuracy: 0.7242\n",
            "Epoch 10/20\n",
            "208/208 [==============================] - 1s 6ms/step - loss: 0.4761 - accuracy: 0.7902 - val_loss: 0.5327 - val_accuracy: 0.7331\n",
            "Epoch 11/20\n",
            "208/208 [==============================] - 1s 6ms/step - loss: 0.4620 - accuracy: 0.8024 - val_loss: 0.5330 - val_accuracy: 0.7340\n",
            "Epoch 12/20\n",
            "208/208 [==============================] - 1s 5ms/step - loss: 0.4491 - accuracy: 0.8100 - val_loss: 0.5325 - val_accuracy: 0.7367\n",
            "Epoch 13/20\n",
            "208/208 [==============================] - 1s 6ms/step - loss: 0.4375 - accuracy: 0.8185 - val_loss: 0.5307 - val_accuracy: 0.7367\n",
            "Epoch 14/20\n",
            "208/208 [==============================] - 1s 4ms/step - loss: 0.4268 - accuracy: 0.8233 - val_loss: 0.5264 - val_accuracy: 0.7340\n",
            "Epoch 15/20\n",
            "208/208 [==============================] - 1s 4ms/step - loss: 0.4172 - accuracy: 0.8264 - val_loss: 0.5227 - val_accuracy: 0.7340\n",
            "Epoch 16/20\n",
            "208/208 [==============================] - 1s 4ms/step - loss: 0.4069 - accuracy: 0.8276 - val_loss: 0.5193 - val_accuracy: 0.7393\n",
            "Epoch 17/20\n",
            "208/208 [==============================] - 1s 4ms/step - loss: 0.3981 - accuracy: 0.8287 - val_loss: 0.5356 - val_accuracy: 0.7295\n",
            "Epoch 18/20\n",
            "208/208 [==============================] - 1s 3ms/step - loss: 0.3926 - accuracy: 0.8285 - val_loss: 0.5314 - val_accuracy: 0.7331\n",
            "Epoch 19/20\n",
            "208/208 [==============================] - 1s 4ms/step - loss: 0.3844 - accuracy: 0.8317 - val_loss: 0.5400 - val_accuracy: 0.7278\n",
            "Epoch 20/20\n",
            "208/208 [==============================] - 1s 4ms/step - loss: 0.3806 - accuracy: 0.8319 - val_loss: 0.5457 - val_accuracy: 0.7313\n",
            "CPU times: user 19.2 s, sys: 1.54 s, total: 20.8 s\n",
            "Wall time: 22.2 s\n"
          ]
        }
      ]
    },
    {
      "cell_type": "markdown",
      "source": [
        "# VIII. Model Evaluation"
      ],
      "metadata": {
        "id": "8u063mf8q51C"
      }
    },
    {
      "cell_type": "markdown",
      "source": [
        "Pada bagian ini, dilakukan evaluasi model yang harus menunjukkan bagaimana performa model berdasarkan metrics yang dipilih. Hal ini harus dibuktikan dengan visualisasi tren performa dan/atau tingkat kesalahan model. Lakukan analisis terkait dengan hasil pada model dan tuliskan hasil analisisnya."
      ],
      "metadata": {
        "id": "QVJ-8xNHrYC5"
      }
    },
    {
      "cell_type": "markdown",
      "source": [
        "### Sequential API"
      ],
      "metadata": {
        "id": "J2S-xErRVvun"
      }
    },
    {
      "cell_type": "markdown",
      "source": [
        "Tampilkan history, plot grafik dan classification report"
      ],
      "metadata": {
        "id": "6OVA8UsO5LnY"
      }
    },
    {
      "cell_type": "code",
      "source": [
        "# Create DataFrame\n",
        "history_seq_df1 = pd.DataFrame(history_seq1.history)\n",
        "history_seq_df1"
      ],
      "metadata": {
        "colab": {
          "base_uri": "https://localhost:8080/",
          "height": 676
        },
        "id": "oVWrgulTVy6Q",
        "outputId": "92d715d0-43bb-449e-80e3-ab59d619ba84"
      },
      "execution_count": 95,
      "outputs": [
        {
          "output_type": "execute_result",
          "data": {
            "text/plain": [
              "        loss  accuracy  val_loss  val_accuracy\n",
              "0   0.776506  0.582907  0.601641      0.716192\n",
              "1   0.676183  0.634630  0.576600      0.745552\n",
              "2   0.657481  0.647269  0.571428      0.755338\n",
              "3   0.648830  0.649789  0.568232      0.756228\n",
              "4   0.644464  0.654115  0.561309      0.760676\n",
              "5   0.638029  0.660021  0.561096      0.759786\n",
              "6   0.636576  0.663294  0.559160      0.761566\n",
              "7   0.633981  0.663369  0.555471      0.764235\n",
              "8   0.628972  0.670178  0.550329      0.767794\n",
              "9   0.626119  0.676046  0.544886      0.767794\n",
              "10  0.624265  0.679243  0.553370      0.760676\n",
              "11  0.622941  0.675745  0.544666      0.766904\n",
              "12  0.619644  0.686353  0.546087      0.774021\n",
              "13  0.619024  0.691657  0.545322      0.774911\n",
              "14  0.618552  0.692936  0.541616      0.780249\n",
              "15  0.619642  0.693161  0.542292      0.779359\n",
              "16  0.617191  0.698653  0.545511      0.778470\n",
              "17  0.617621  0.702001  0.542383      0.773132\n",
              "18  0.617857  0.705311  0.548101      0.774021\n",
              "19  0.617050  0.701625  0.545077      0.773132"
            ],
            "text/html": [
              "\n",
              "  <div id=\"df-d4a597eb-8019-41af-bdf2-796e91c9cd10\">\n",
              "    <div class=\"colab-df-container\">\n",
              "      <div>\n",
              "<style scoped>\n",
              "    .dataframe tbody tr th:only-of-type {\n",
              "        vertical-align: middle;\n",
              "    }\n",
              "\n",
              "    .dataframe tbody tr th {\n",
              "        vertical-align: top;\n",
              "    }\n",
              "\n",
              "    .dataframe thead th {\n",
              "        text-align: right;\n",
              "    }\n",
              "</style>\n",
              "<table border=\"1\" class=\"dataframe\">\n",
              "  <thead>\n",
              "    <tr style=\"text-align: right;\">\n",
              "      <th></th>\n",
              "      <th>loss</th>\n",
              "      <th>accuracy</th>\n",
              "      <th>val_loss</th>\n",
              "      <th>val_accuracy</th>\n",
              "    </tr>\n",
              "  </thead>\n",
              "  <tbody>\n",
              "    <tr>\n",
              "      <th>0</th>\n",
              "      <td>0.776506</td>\n",
              "      <td>0.582907</td>\n",
              "      <td>0.601641</td>\n",
              "      <td>0.716192</td>\n",
              "    </tr>\n",
              "    <tr>\n",
              "      <th>1</th>\n",
              "      <td>0.676183</td>\n",
              "      <td>0.634630</td>\n",
              "      <td>0.576600</td>\n",
              "      <td>0.745552</td>\n",
              "    </tr>\n",
              "    <tr>\n",
              "      <th>2</th>\n",
              "      <td>0.657481</td>\n",
              "      <td>0.647269</td>\n",
              "      <td>0.571428</td>\n",
              "      <td>0.755338</td>\n",
              "    </tr>\n",
              "    <tr>\n",
              "      <th>3</th>\n",
              "      <td>0.648830</td>\n",
              "      <td>0.649789</td>\n",
              "      <td>0.568232</td>\n",
              "      <td>0.756228</td>\n",
              "    </tr>\n",
              "    <tr>\n",
              "      <th>4</th>\n",
              "      <td>0.644464</td>\n",
              "      <td>0.654115</td>\n",
              "      <td>0.561309</td>\n",
              "      <td>0.760676</td>\n",
              "    </tr>\n",
              "    <tr>\n",
              "      <th>5</th>\n",
              "      <td>0.638029</td>\n",
              "      <td>0.660021</td>\n",
              "      <td>0.561096</td>\n",
              "      <td>0.759786</td>\n",
              "    </tr>\n",
              "    <tr>\n",
              "      <th>6</th>\n",
              "      <td>0.636576</td>\n",
              "      <td>0.663294</td>\n",
              "      <td>0.559160</td>\n",
              "      <td>0.761566</td>\n",
              "    </tr>\n",
              "    <tr>\n",
              "      <th>7</th>\n",
              "      <td>0.633981</td>\n",
              "      <td>0.663369</td>\n",
              "      <td>0.555471</td>\n",
              "      <td>0.764235</td>\n",
              "    </tr>\n",
              "    <tr>\n",
              "      <th>8</th>\n",
              "      <td>0.628972</td>\n",
              "      <td>0.670178</td>\n",
              "      <td>0.550329</td>\n",
              "      <td>0.767794</td>\n",
              "    </tr>\n",
              "    <tr>\n",
              "      <th>9</th>\n",
              "      <td>0.626119</td>\n",
              "      <td>0.676046</td>\n",
              "      <td>0.544886</td>\n",
              "      <td>0.767794</td>\n",
              "    </tr>\n",
              "    <tr>\n",
              "      <th>10</th>\n",
              "      <td>0.624265</td>\n",
              "      <td>0.679243</td>\n",
              "      <td>0.553370</td>\n",
              "      <td>0.760676</td>\n",
              "    </tr>\n",
              "    <tr>\n",
              "      <th>11</th>\n",
              "      <td>0.622941</td>\n",
              "      <td>0.675745</td>\n",
              "      <td>0.544666</td>\n",
              "      <td>0.766904</td>\n",
              "    </tr>\n",
              "    <tr>\n",
              "      <th>12</th>\n",
              "      <td>0.619644</td>\n",
              "      <td>0.686353</td>\n",
              "      <td>0.546087</td>\n",
              "      <td>0.774021</td>\n",
              "    </tr>\n",
              "    <tr>\n",
              "      <th>13</th>\n",
              "      <td>0.619024</td>\n",
              "      <td>0.691657</td>\n",
              "      <td>0.545322</td>\n",
              "      <td>0.774911</td>\n",
              "    </tr>\n",
              "    <tr>\n",
              "      <th>14</th>\n",
              "      <td>0.618552</td>\n",
              "      <td>0.692936</td>\n",
              "      <td>0.541616</td>\n",
              "      <td>0.780249</td>\n",
              "    </tr>\n",
              "    <tr>\n",
              "      <th>15</th>\n",
              "      <td>0.619642</td>\n",
              "      <td>0.693161</td>\n",
              "      <td>0.542292</td>\n",
              "      <td>0.779359</td>\n",
              "    </tr>\n",
              "    <tr>\n",
              "      <th>16</th>\n",
              "      <td>0.617191</td>\n",
              "      <td>0.698653</td>\n",
              "      <td>0.545511</td>\n",
              "      <td>0.778470</td>\n",
              "    </tr>\n",
              "    <tr>\n",
              "      <th>17</th>\n",
              "      <td>0.617621</td>\n",
              "      <td>0.702001</td>\n",
              "      <td>0.542383</td>\n",
              "      <td>0.773132</td>\n",
              "    </tr>\n",
              "    <tr>\n",
              "      <th>18</th>\n",
              "      <td>0.617857</td>\n",
              "      <td>0.705311</td>\n",
              "      <td>0.548101</td>\n",
              "      <td>0.774021</td>\n",
              "    </tr>\n",
              "    <tr>\n",
              "      <th>19</th>\n",
              "      <td>0.617050</td>\n",
              "      <td>0.701625</td>\n",
              "      <td>0.545077</td>\n",
              "      <td>0.773132</td>\n",
              "    </tr>\n",
              "  </tbody>\n",
              "</table>\n",
              "</div>\n",
              "      <button class=\"colab-df-convert\" onclick=\"convertToInteractive('df-d4a597eb-8019-41af-bdf2-796e91c9cd10')\"\n",
              "              title=\"Convert this dataframe to an interactive table.\"\n",
              "              style=\"display:none;\">\n",
              "        \n",
              "  <svg xmlns=\"http://www.w3.org/2000/svg\" height=\"24px\"viewBox=\"0 0 24 24\"\n",
              "       width=\"24px\">\n",
              "    <path d=\"M0 0h24v24H0V0z\" fill=\"none\"/>\n",
              "    <path d=\"M18.56 5.44l.94 2.06.94-2.06 2.06-.94-2.06-.94-.94-2.06-.94 2.06-2.06.94zm-11 1L8.5 8.5l.94-2.06 2.06-.94-2.06-.94L8.5 2.5l-.94 2.06-2.06.94zm10 10l.94 2.06.94-2.06 2.06-.94-2.06-.94-.94-2.06-.94 2.06-2.06.94z\"/><path d=\"M17.41 7.96l-1.37-1.37c-.4-.4-.92-.59-1.43-.59-.52 0-1.04.2-1.43.59L10.3 9.45l-7.72 7.72c-.78.78-.78 2.05 0 2.83L4 21.41c.39.39.9.59 1.41.59.51 0 1.02-.2 1.41-.59l7.78-7.78 2.81-2.81c.8-.78.8-2.07 0-2.86zM5.41 20L4 18.59l7.72-7.72 1.47 1.35L5.41 20z\"/>\n",
              "  </svg>\n",
              "      </button>\n",
              "      \n",
              "  <style>\n",
              "    .colab-df-container {\n",
              "      display:flex;\n",
              "      flex-wrap:wrap;\n",
              "      gap: 12px;\n",
              "    }\n",
              "\n",
              "    .colab-df-convert {\n",
              "      background-color: #E8F0FE;\n",
              "      border: none;\n",
              "      border-radius: 50%;\n",
              "      cursor: pointer;\n",
              "      display: none;\n",
              "      fill: #1967D2;\n",
              "      height: 32px;\n",
              "      padding: 0 0 0 0;\n",
              "      width: 32px;\n",
              "    }\n",
              "\n",
              "    .colab-df-convert:hover {\n",
              "      background-color: #E2EBFA;\n",
              "      box-shadow: 0px 1px 2px rgba(60, 64, 67, 0.3), 0px 1px 3px 1px rgba(60, 64, 67, 0.15);\n",
              "      fill: #174EA6;\n",
              "    }\n",
              "\n",
              "    [theme=dark] .colab-df-convert {\n",
              "      background-color: #3B4455;\n",
              "      fill: #D2E3FC;\n",
              "    }\n",
              "\n",
              "    [theme=dark] .colab-df-convert:hover {\n",
              "      background-color: #434B5C;\n",
              "      box-shadow: 0px 1px 3px 1px rgba(0, 0, 0, 0.15);\n",
              "      filter: drop-shadow(0px 1px 2px rgba(0, 0, 0, 0.3));\n",
              "      fill: #FFFFFF;\n",
              "    }\n",
              "  </style>\n",
              "\n",
              "      <script>\n",
              "        const buttonEl =\n",
              "          document.querySelector('#df-d4a597eb-8019-41af-bdf2-796e91c9cd10 button.colab-df-convert');\n",
              "        buttonEl.style.display =\n",
              "          google.colab.kernel.accessAllowed ? 'block' : 'none';\n",
              "\n",
              "        async function convertToInteractive(key) {\n",
              "          const element = document.querySelector('#df-d4a597eb-8019-41af-bdf2-796e91c9cd10');\n",
              "          const dataTable =\n",
              "            await google.colab.kernel.invokeFunction('convertToInteractive',\n",
              "                                                     [key], {});\n",
              "          if (!dataTable) return;\n",
              "\n",
              "          const docLinkHtml = 'Like what you see? Visit the ' +\n",
              "            '<a target=\"_blank\" href=https://colab.research.google.com/notebooks/data_table.ipynb>data table notebook</a>'\n",
              "            + ' to learn more about interactive tables.';\n",
              "          element.innerHTML = '';\n",
              "          dataTable['output_type'] = 'display_data';\n",
              "          await google.colab.output.renderOutput(dataTable, element);\n",
              "          const docLink = document.createElement('div');\n",
              "          docLink.innerHTML = docLinkHtml;\n",
              "          element.appendChild(docLink);\n",
              "        }\n",
              "      </script>\n",
              "    </div>\n",
              "  </div>\n",
              "  "
            ]
          },
          "metadata": {},
          "execution_count": 95
        }
      ]
    },
    {
      "cell_type": "code",
      "source": [
        "# Plot between accuracy and val_accuracy\n",
        "\n",
        "history_seq_df1[['accuracy', 'val_accuracy']].plot()"
      ],
      "metadata": {
        "colab": {
          "base_uri": "https://localhost:8080/",
          "height": 283
        },
        "id": "4PcysIQcV1kV",
        "outputId": "7d1463f5-4100-4d07-8cb6-b6d6851ef1c1"
      },
      "execution_count": 96,
      "outputs": [
        {
          "output_type": "execute_result",
          "data": {
            "text/plain": [
              "<matplotlib.axes._subplots.AxesSubplot at 0x7f4ad047a0a0>"
            ]
          },
          "metadata": {},
          "execution_count": 96
        },
        {
          "output_type": "display_data",
          "data": {
            "text/plain": [
              "<Figure size 432x288 with 1 Axes>"
            ],
            "image/png": "[encoded data removed]"
          },
          "metadata": {
            "needs_background": "light"
          }
        }
      ]
    },
    {
      "cell_type": "markdown",
      "source": [
        "Pada plot grafik accuracy diatas, gap antara validation dan training set cukup lebar. Artinya, accuracy utk validation set cenderung lbh besar dibanding training set. Namun, pola accuracy validation set cenderung tdk stabil di epoch > 15. Sebaliknya, pola accuracy training set cenderung meningkat dgn stabil. Kedua grafik mengalami peningkatan drastis pada epoch 1-3. "
      ],
      "metadata": {
        "id": "Ydc2asgf-GCO"
      }
    },
    {
      "cell_type": "code",
      "source": [
        "# Plot between loss and val_loss\n",
        "history_seq_df1[['loss', 'val_loss']].plot()"
      ],
      "metadata": {
        "colab": {
          "base_uri": "https://localhost:8080/",
          "height": 283
        },
        "id": "jq_jWcZUV5F1",
        "outputId": "4ebf975f-2532-4d7a-b4bc-12f4ae12938b"
      },
      "execution_count": 97,
      "outputs": [
        {
          "output_type": "execute_result",
          "data": {
            "text/plain": [
              "<matplotlib.axes._subplots.AxesSubplot at 0x7f4ad02679a0>"
            ]
          },
          "metadata": {},
          "execution_count": 97
        },
        {
          "output_type": "display_data",
          "data": {
            "text/plain": [
              "<Figure size 432x288 with 1 Axes>"
            ],
            "image/png": "[encoded data removed]"
          },
          "metadata": {
            "needs_background": "light"
          }
        }
      ]
    },
    {
      "cell_type": "markdown",
      "source": [
        "Pola validation loss berada lbh rendah dari training loss dgn gap cukup jauh. Penurunan drastis terjadi pada epoch 1-3, dimana area ini model mengalami underfit. Namun, secara general terjadi juga underfitting pada training model krn loss function pada validation set berada jauh dibawah training set."
      ],
      "metadata": {
        "id": "ScIOSgqx-40j"
      }
    },
    {
      "cell_type": "code",
      "source": [
        "# Model Evaluation\n",
        "\n",
        "from sklearn.metrics import classification_report \n",
        "\n",
        "y_pred_seq1 = model_sequential1.predict(X_test)\n",
        "y_pred_seq1 = np.where(y_pred_seq1 >=0.5, 1, 0)\n",
        "\n",
        "print(classification_report(y_test, y_pred_seq1))"
      ],
      "metadata": {
        "colab": {
          "base_uri": "https://localhost:8080/"
        },
        "id": "UZuapoKMWE_k",
        "outputId": "a67651f2-7013-4fa3-9283-a71c4d30bd00"
      },
      "execution_count": 98,
      "outputs": [
        {
          "output_type": "stream",
          "name": "stdout",
          "text": [
            "44/44 [==============================] - 0s 1ms/step\n",
            "              precision    recall  f1-score   support\n",
            "\n",
            "           0       0.88      0.81      0.84      1016\n",
            "           1       0.59      0.70      0.64       389\n",
            "\n",
            "    accuracy                           0.78      1405\n",
            "   macro avg       0.73      0.76      0.74      1405\n",
            "weighted avg       0.80      0.78      0.79      1405\n",
            "\n"
          ]
        }
      ]
    },
    {
      "cell_type": "markdown",
      "source": [
        "Model memiliki f-1 score secara macro sebesar 0.74. Model memiliki f-1 score lbh baik pada label 0 (0.85) dibandingkan label 1 (0.62), meskipun handling imbalance sudah dilakukan. Nilai precision dan recall secara macro adlh sama (0.74)"
      ],
      "metadata": {
        "id": "GqyHJPIv_Z2k"
      }
    },
    {
      "cell_type": "markdown",
      "source": [
        "### Functional API"
      ],
      "metadata": {
        "id": "QqFn5dj3xO-B"
      }
    },
    {
      "cell_type": "markdown",
      "source": [
        "Tampilkan history, plot grafik dan classification report"
      ],
      "metadata": {
        "id": "qE-tNptPABj_"
      }
    },
    {
      "cell_type": "code",
      "source": [
        "# Create DataFrame\n",
        "history_functional_df1 = pd.DataFrame(history_func1.history)\n",
        "history_functional_df1"
      ],
      "metadata": {
        "colab": {
          "base_uri": "https://localhost:8080/",
          "height": 676
        },
        "id": "TgfUqglNxRsx",
        "outputId": "0ababbb0-6082-4904-8543-bbc6c20b1c9c"
      },
      "execution_count": 99,
      "outputs": [
        {
          "output_type": "execute_result",
          "data": {
            "text/plain": [
              "        loss  accuracy  val_loss  val_accuracy\n",
              "0   0.720299  0.555898  0.593442      0.693061\n",
              "1   0.623365  0.681162  0.546961      0.720641\n",
              "2   0.583924  0.709713  0.537236      0.718861\n",
              "3   0.557145  0.727505  0.533831      0.714413\n",
              "4   0.540444  0.735442  0.531997      0.717972\n",
              "5   0.525053  0.750075  0.532030      0.717082\n",
              "6   0.512554  0.759555  0.532501      0.719751\n",
              "7   0.500138  0.770200  0.537049      0.722420\n",
              "8   0.487916  0.779868  0.535788      0.724199\n",
              "9   0.476072  0.790175  0.532691      0.733096\n",
              "10  0.462004  0.802438  0.532981      0.733986\n",
              "11  0.449076  0.810036  0.532511      0.736655\n",
              "12  0.437529  0.818500  0.530651      0.736655\n",
              "13  0.426806  0.823315  0.526440      0.733986\n",
              "14  0.417213  0.826362  0.522720      0.733986\n",
              "15  0.406916  0.827603  0.519334      0.739324\n",
              "16  0.398120  0.828694  0.535558      0.729537\n",
              "17  0.392564  0.828543  0.531393      0.733096\n",
              "18  0.384427  0.831703  0.540033      0.727758\n",
              "19  0.380610  0.831891  0.545657      0.731317"
            ],
            "text/html": [
              "\n",
              "  <div id=\"df-db8c3714-b8fa-453a-a140-a8e47c8bb360\">\n",
              "    <div class=\"colab-df-container\">\n",
              "      <div>\n",
              "<style scoped>\n",
              "    .dataframe tbody tr th:only-of-type {\n",
              "        vertical-align: middle;\n",
              "    }\n",
              "\n",
              "    .dataframe tbody tr th {\n",
              "        vertical-align: top;\n",
              "    }\n",
              "\n",
              "    .dataframe thead th {\n",
              "        text-align: right;\n",
              "    }\n",
              "</style>\n",
              "<table border=\"1\" class=\"dataframe\">\n",
              "  <thead>\n",
              "    <tr style=\"text-align: right;\">\n",
              "      <th></th>\n",
              "      <th>loss</th>\n",
              "      <th>accuracy</th>\n",
              "      <th>val_loss</th>\n",
              "      <th>val_accuracy</th>\n",
              "    </tr>\n",
              "  </thead>\n",
              "  <tbody>\n",
              "    <tr>\n",
              "      <th>0</th>\n",
              "      <td>0.720299</td>\n",
              "      <td>0.555898</td>\n",
              "      <td>0.593442</td>\n",
              "      <td>0.693061</td>\n",
              "    </tr>\n",
              "    <tr>\n",
              "      <th>1</th>\n",
              "      <td>0.623365</td>\n",
              "      <td>0.681162</td>\n",
              "      <td>0.546961</td>\n",
              "      <td>0.720641</td>\n",
              "    </tr>\n",
              "    <tr>\n",
              "      <th>2</th>\n",
              "      <td>0.583924</td>\n",
              "      <td>0.709713</td>\n",
              "      <td>0.537236</td>\n",
              "      <td>0.718861</td>\n",
              "    </tr>\n",
              "    <tr>\n",
              "      <th>3</th>\n",
              "      <td>0.557145</td>\n",
              "      <td>0.727505</td>\n",
              "      <td>0.533831</td>\n",
              "      <td>0.714413</td>\n",
              "    </tr>\n",
              "    <tr>\n",
              "      <th>4</th>\n",
              "      <td>0.540444</td>\n",
              "      <td>0.735442</td>\n",
              "      <td>0.531997</td>\n",
              "      <td>0.717972</td>\n",
              "    </tr>\n",
              "    <tr>\n",
              "      <th>5</th>\n",
              "      <td>0.525053</td>\n",
              "      <td>0.750075</td>\n",
              "      <td>0.532030</td>\n",
              "      <td>0.717082</td>\n",
              "    </tr>\n",
              "    <tr>\n",
              "      <th>6</th>\n",
              "      <td>0.512554</td>\n",
              "      <td>0.759555</td>\n",
              "      <td>0.532501</td>\n",
              "      <td>0.719751</td>\n",
              "    </tr>\n",
              "    <tr>\n",
              "      <th>7</th>\n",
              "      <td>0.500138</td>\n",
              "      <td>0.770200</td>\n",
              "      <td>0.537049</td>\n",
              "      <td>0.722420</td>\n",
              "    </tr>\n",
              "    <tr>\n",
              "      <th>8</th>\n",
              "      <td>0.487916</td>\n",
              "      <td>0.779868</td>\n",
              "      <td>0.535788</td>\n",
              "      <td>0.724199</td>\n",
              "    </tr>\n",
              "    <tr>\n",
              "      <th>9</th>\n",
              "      <td>0.476072</td>\n",
              "      <td>0.790175</td>\n",
              "      <td>0.532691</td>\n",
              "      <td>0.733096</td>\n",
              "    </tr>\n",
              "    <tr>\n",
              "      <th>10</th>\n",
              "      <td>0.462004</td>\n",
              "      <td>0.802438</td>\n",
              "      <td>0.532981</td>\n",
              "      <td>0.733986</td>\n",
              "    </tr>\n",
              "    <tr>\n",
              "      <th>11</th>\n",
              "      <td>0.449076</td>\n",
              "      <td>0.810036</td>\n",
              "      <td>0.532511</td>\n",
              "      <td>0.736655</td>\n",
              "    </tr>\n",
              "    <tr>\n",
              "      <th>12</th>\n",
              "      <td>0.437529</td>\n",
              "      <td>0.818500</td>\n",
              "      <td>0.530651</td>\n",
              "      <td>0.736655</td>\n",
              "    </tr>\n",
              "    <tr>\n",
              "      <th>13</th>\n",
              "      <td>0.426806</td>\n",
              "      <td>0.823315</td>\n",
              "      <td>0.526440</td>\n",
              "      <td>0.733986</td>\n",
              "    </tr>\n",
              "    <tr>\n",
              "      <th>14</th>\n",
              "      <td>0.417213</td>\n",
              "      <td>0.826362</td>\n",
              "      <td>0.522720</td>\n",
              "      <td>0.733986</td>\n",
              "    </tr>\n",
              "    <tr>\n",
              "      <th>15</th>\n",
              "      <td>0.406916</td>\n",
              "      <td>0.827603</td>\n",
              "      <td>0.519334</td>\n",
              "      <td>0.739324</td>\n",
              "    </tr>\n",
              "    <tr>\n",
              "      <th>16</th>\n",
              "      <td>0.398120</td>\n",
              "      <td>0.828694</td>\n",
              "      <td>0.535558</td>\n",
              "      <td>0.729537</td>\n",
              "    </tr>\n",
              "    <tr>\n",
              "      <th>17</th>\n",
              "      <td>0.392564</td>\n",
              "      <td>0.828543</td>\n",
              "      <td>0.531393</td>\n",
              "      <td>0.733096</td>\n",
              "    </tr>\n",
              "    <tr>\n",
              "      <th>18</th>\n",
              "      <td>0.384427</td>\n",
              "      <td>0.831703</td>\n",
              "      <td>0.540033</td>\n",
              "      <td>0.727758</td>\n",
              "    </tr>\n",
              "    <tr>\n",
              "      <th>19</th>\n",
              "      <td>0.380610</td>\n",
              "      <td>0.831891</td>\n",
              "      <td>0.545657</td>\n",
              "      <td>0.731317</td>\n",
              "    </tr>\n",
              "  </tbody>\n",
              "</table>\n",
              "</div>\n",
              "      <button class=\"colab-df-convert\" onclick=\"convertToInteractive('df-db8c3714-b8fa-453a-a140-a8e47c8bb360')\"\n",
              "              title=\"Convert this dataframe to an interactive table.\"\n",
              "              style=\"display:none;\">\n",
              "        \n",
              "  <svg xmlns=\"http://www.w3.org/2000/svg\" height=\"24px\"viewBox=\"0 0 24 24\"\n",
              "       width=\"24px\">\n",
              "    <path d=\"M0 0h24v24H0V0z\" fill=\"none\"/>\n",
              "    <path d=\"M18.56 5.44l.94 2.06.94-2.06 2.06-.94-2.06-.94-.94-2.06-.94 2.06-2.06.94zm-11 1L8.5 8.5l.94-2.06 2.06-.94-2.06-.94L8.5 2.5l-.94 2.06-2.06.94zm10 10l.94 2.06.94-2.06 2.06-.94-2.06-.94-.94-2.06-.94 2.06-2.06.94z\"/><path d=\"M17.41 7.96l-1.37-1.37c-.4-.4-.92-.59-1.43-.59-.52 0-1.04.2-1.43.59L10.3 9.45l-7.72 7.72c-.78.78-.78 2.05 0 2.83L4 21.41c.39.39.9.59 1.41.59.51 0 1.02-.2 1.41-.59l7.78-7.78 2.81-2.81c.8-.78.8-2.07 0-2.86zM5.41 20L4 18.59l7.72-7.72 1.47 1.35L5.41 20z\"/>\n",
              "  </svg>\n",
              "      </button>\n",
              "      \n",
              "  <style>\n",
              "    .colab-df-container {\n",
              "      display:flex;\n",
              "      flex-wrap:wrap;\n",
              "      gap: 12px;\n",
              "    }\n",
              "\n",
              "    .colab-df-convert {\n",
              "      background-color: #E8F0FE;\n",
              "      border: none;\n",
              "      border-radius: 50%;\n",
              "      cursor: pointer;\n",
              "      display: none;\n",
              "      fill: #1967D2;\n",
              "      height: 32px;\n",
              "      padding: 0 0 0 0;\n",
              "      width: 32px;\n",
              "    }\n",
              "\n",
              "    .colab-df-convert:hover {\n",
              "      background-color: #E2EBFA;\n",
              "      box-shadow: 0px 1px 2px rgba(60, 64, 67, 0.3), 0px 1px 3px 1px rgba(60, 64, 67, 0.15);\n",
              "      fill: #174EA6;\n",
              "    }\n",
              "\n",
              "    [theme=dark] .colab-df-convert {\n",
              "      background-color: #3B4455;\n",
              "      fill: #D2E3FC;\n",
              "    }\n",
              "\n",
              "    [theme=dark] .colab-df-convert:hover {\n",
              "      background-color: #434B5C;\n",
              "      box-shadow: 0px 1px 3px 1px rgba(0, 0, 0, 0.15);\n",
              "      filter: drop-shadow(0px 1px 2px rgba(0, 0, 0, 0.3));\n",
              "      fill: #FFFFFF;\n",
              "    }\n",
              "  </style>\n",
              "\n",
              "      <script>\n",
              "        const buttonEl =\n",
              "          document.querySelector('#df-db8c3714-b8fa-453a-a140-a8e47c8bb360 button.colab-df-convert');\n",
              "        buttonEl.style.display =\n",
              "          google.colab.kernel.accessAllowed ? 'block' : 'none';\n",
              "\n",
              "        async function convertToInteractive(key) {\n",
              "          const element = document.querySelector('#df-db8c3714-b8fa-453a-a140-a8e47c8bb360');\n",
              "          const dataTable =\n",
              "            await google.colab.kernel.invokeFunction('convertToInteractive',\n",
              "                                                     [key], {});\n",
              "          if (!dataTable) return;\n",
              "\n",
              "          const docLinkHtml = 'Like what you see? Visit the ' +\n",
              "            '<a target=\"_blank\" href=https://colab.research.google.com/notebooks/data_table.ipynb>data table notebook</a>'\n",
              "            + ' to learn more about interactive tables.';\n",
              "          element.innerHTML = '';\n",
              "          dataTable['output_type'] = 'display_data';\n",
              "          await google.colab.output.renderOutput(dataTable, element);\n",
              "          const docLink = document.createElement('div');\n",
              "          docLink.innerHTML = docLinkHtml;\n",
              "          element.appendChild(docLink);\n",
              "        }\n",
              "      </script>\n",
              "    </div>\n",
              "  </div>\n",
              "  "
            ]
          },
          "metadata": {},
          "execution_count": 99
        }
      ]
    },
    {
      "cell_type": "code",
      "source": [
        "# Plot between accuracy and val_accuracy\n",
        "history_functional_df1[['accuracy', 'val_accuracy']].plot()"
      ],
      "metadata": {
        "colab": {
          "base_uri": "https://localhost:8080/",
          "height": 283
        },
        "id": "TtsAcUEtxWT0",
        "outputId": "13819796-c92d-45e5-945d-b49a589c107a"
      },
      "execution_count": 100,
      "outputs": [
        {
          "output_type": "execute_result",
          "data": {
            "text/plain": [
              "<matplotlib.axes._subplots.AxesSubplot at 0x7f4b37e354c0>"
            ]
          },
          "metadata": {},
          "execution_count": 100
        },
        {
          "output_type": "display_data",
          "data": {
            "text/plain": [
              "<Figure size 432x288 with 1 Axes>"
            ],
            "image/png": "[encoded data removed]"
          },
          "metadata": {
            "needs_background": "light"
          }
        }
      ]
    },
    {
      "cell_type": "markdown",
      "source": [
        "Berbeda dgn plot grafik utk sequential API, pada kasus functional API model mengalami overfitting. Pada awalnya, validation accuracy berimpitan dgn training accuracy. Training accuracy memiliki accuracy buruk pada epoch < 3. Namun, accuracy utk training model semakin melebar di atas grafik validation model pada epoch >2. Sedangkan validation accuracy cenderung stagnan dgn sedikit spike pada epoch >3. Artinya, diatas epoch 3 model mengalami vanishing gradient dimana penambahan epoch tdk lagi meningkatkan accuracy.\n"
      ],
      "metadata": {
        "id": "uxUMcdhhAFSz"
      }
    },
    {
      "cell_type": "code",
      "source": [
        "# Plot between loss and val_loss\n",
        "history_functional_df1[['loss', 'val_loss']].plot()"
      ],
      "metadata": {
        "colab": {
          "base_uri": "https://localhost:8080/",
          "height": 283
        },
        "id": "EbRQ6lsrxZYM",
        "outputId": "5304e2b4-3e0a-4c05-ef9f-f28c32c0f32a"
      },
      "execution_count": 101,
      "outputs": [
        {
          "output_type": "execute_result",
          "data": {
            "text/plain": [
              "<matplotlib.axes._subplots.AxesSubplot at 0x7f4b37e3d610>"
            ]
          },
          "metadata": {},
          "execution_count": 101
        },
        {
          "output_type": "display_data",
          "data": {
            "text/plain": [
              "<Figure size 432x288 with 1 Axes>"
            ],
            "image/png": "[encoded data removed]"
          },
          "metadata": {
            "needs_background": "light"
          }
        }
      ]
    },
    {
      "cell_type": "markdown",
      "source": [
        "Hal yg sama ditemukan pada loss function dimana loss function utk validation set berada diatas training set seiring semakin bertambahnya epoch. Namun, penambahan epoch pada akhirnya tdk berpengaruh pada accuracy validation set krn efek vanishing gradient. Secara keseluruhan model mengalami overfitting."
      ],
      "metadata": {
        "id": "_sEtb5lJApjZ"
      }
    },
    {
      "cell_type": "code",
      "source": [
        "# Model Evaluation\n",
        "\n",
        "y_pred_func1 = model_functional1.predict(X_test)\n",
        "y_pred_func1 = np.where(y_pred_func1 >=0.5, 1, 0)\n",
        "\n",
        "print(classification_report(y_test, y_pred_func1))"
      ],
      "metadata": {
        "colab": {
          "base_uri": "https://localhost:8080/"
        },
        "id": "eOyjGuV6xc94",
        "outputId": "86396ced-c79a-44e9-fd65-0ba5650f4f51"
      },
      "execution_count": 102,
      "outputs": [
        {
          "output_type": "stream",
          "name": "stdout",
          "text": [
            "44/44 [==============================] - 0s 2ms/step\n",
            "              precision    recall  f1-score   support\n",
            "\n",
            "           0       0.90      0.72      0.80      1016\n",
            "           1       0.52      0.80      0.63       389\n",
            "\n",
            "    accuracy                           0.74      1405\n",
            "   macro avg       0.71      0.76      0.72      1405\n",
            "weighted avg       0.80      0.74      0.75      1405\n",
            "\n"
          ]
        }
      ]
    },
    {
      "cell_type": "markdown",
      "source": [
        "f-1 score utk functional API lbh buruk (0.71) dibandingkan sequential API (0.74. Nilai terburuk didapatkan pada precision utk label 1 (0.51) kemudian recall utk label 0 (0.69). Artinya prediksi model kurang bisa dipercaya ketika memprediksi label 1.  "
      ],
      "metadata": {
        "id": "_11KhtJjBY_N"
      }
    },
    {
      "cell_type": "markdown",
      "source": [
        "# IX. Model Improvement"
      ],
      "metadata": {
        "id": "-EtXVOCCUbn7"
      }
    },
    {
      "cell_type": "markdown",
      "source": [
        "Permasalahan utama pada model sblm improvement adalah:\n",
        "\n",
        "1. Gap antara training set dan validation set terlalu besar sehingga hasil prediksinya kurang reliable\n",
        "\n",
        "2. Terdapat exploding pada grafik\n",
        "\n",
        "3. Terdapat vanishing gradient"
      ],
      "metadata": {
        "id": "zt2TVmZtQg5G"
      }
    },
    {
      "cell_type": "markdown",
      "source": [
        "Ketiga masalah tersebut akan coba diperbaiki pada bagian ini."
      ],
      "metadata": {
        "id": "M_ME6fRpRA_K"
      }
    },
    {
      "cell_type": "markdown",
      "source": [
        "### Sequential API"
      ],
      "metadata": {
        "id": "PdPe05K0UlxF"
      }
    },
    {
      "cell_type": "markdown",
      "source": [
        "Utk sequential API, batch normalization dan dropout akan dihilangkan krn malah membuat model menjadi underfitting. Untuk mengatasinya, jumlah neuron hidden layer akan ditingkatkan dari 10 menjadi 100. Untuk mengatasi exploding, akan digunakan regularizer l2."
      ],
      "metadata": {
        "id": "LaQZDeEPREmt"
      }
    },
    {
      "cell_type": "code",
      "source": [
        "# Create Sequential API\n",
        "model_sequential2 = Sequential()\n",
        "model_sequential2.add(Dense(5, activation='relu', input_shape=(22,),kernel_regularizer='l2')) # Input Layer\n",
        "model_sequential2.add(Dense(100, activation='relu')) # Hidden Layer 2\n",
        "model_sequential2.add(Dense(1, activation='sigmoid')) # Output Layer\n",
        "\n",
        "# Compile\n",
        "model_sequential2.compile(loss='binary_crossentropy',\n",
        "                         optimizer='Adam',\n",
        "                         metrics='accuracy')\n",
        "\n",
        "model_sequential2.summary()"
      ],
      "metadata": {
        "colab": {
          "base_uri": "https://localhost:8080/"
        },
        "id": "cFF-V5Y_UkF0",
        "outputId": "1101538b-ac2a-4c7c-aff7-97148ee18bc5"
      },
      "execution_count": 103,
      "outputs": [
        {
          "output_type": "stream",
          "name": "stdout",
          "text": [
            "Model: \"sequential_1\"\n",
            "_________________________________________________________________\n",
            " Layer (type)                Output Shape              Param #   \n",
            "=================================================================\n",
            " dense_6 (Dense)             (None, 5)                 115       \n",
            "                                                                 \n",
            " dense_7 (Dense)             (None, 100)               600       \n",
            "                                                                 \n",
            " dense_8 (Dense)             (None, 1)                 101       \n",
            "                                                                 \n",
            "=================================================================\n",
            "Total params: 816\n",
            "Trainable params: 816\n",
            "Non-trainable params: 0\n",
            "_________________________________________________________________\n"
          ]
        }
      ]
    },
    {
      "cell_type": "markdown",
      "source": [
        "Berikutnya training model."
      ],
      "metadata": {
        "id": "Wg--3dPeR0s1"
      }
    },
    {
      "cell_type": "code",
      "source": [
        "# Train the Model\n",
        "%%time \n",
        "history_seq2 = model_sequential2.fit(train_pipe, \n",
        "                                   epochs=20, \n",
        "                                   validation_data=val_pipe\n",
        "                                   )"
      ],
      "metadata": {
        "colab": {
          "base_uri": "https://localhost:8080/"
        },
        "id": "NBSxzQKoVIiq",
        "outputId": "9c867f2b-f871-4c50-9f68-32f1a6901d3a"
      },
      "execution_count": 104,
      "outputs": [
        {
          "output_type": "stream",
          "name": "stdout",
          "text": [
            "Epoch 1/20\n",
            "208/208 [==============================] - 2s 6ms/step - loss: 0.6824 - accuracy: 0.6837 - val_loss: 0.6225 - val_accuracy: 0.6966\n",
            "Epoch 2/20\n",
            "208/208 [==============================] - 1s 5ms/step - loss: 0.6026 - accuracy: 0.7319 - val_loss: 0.5938 - val_accuracy: 0.7109\n",
            "Epoch 3/20\n",
            "208/208 [==============================] - 1s 5ms/step - loss: 0.5798 - accuracy: 0.7388 - val_loss: 0.5788 - val_accuracy: 0.7144\n",
            "Epoch 4/20\n",
            "208/208 [==============================] - 1s 6ms/step - loss: 0.5669 - accuracy: 0.7419 - val_loss: 0.5699 - val_accuracy: 0.7206\n",
            "Epoch 5/20\n",
            "208/208 [==============================] - 1s 5ms/step - loss: 0.5585 - accuracy: 0.7431 - val_loss: 0.5644 - val_accuracy: 0.7189\n",
            "Epoch 6/20\n",
            "208/208 [==============================] - 1s 4ms/step - loss: 0.5525 - accuracy: 0.7445 - val_loss: 0.5607 - val_accuracy: 0.7180\n",
            "Epoch 7/20\n",
            "208/208 [==============================] - 1s 5ms/step - loss: 0.5479 - accuracy: 0.7445 - val_loss: 0.5582 - val_accuracy: 0.7224\n",
            "Epoch 8/20\n",
            "208/208 [==============================] - 1s 4ms/step - loss: 0.5445 - accuracy: 0.7446 - val_loss: 0.5556 - val_accuracy: 0.7224\n",
            "Epoch 9/20\n",
            "208/208 [==============================] - 1s 3ms/step - loss: 0.5417 - accuracy: 0.7448 - val_loss: 0.5542 - val_accuracy: 0.7242\n",
            "Epoch 10/20\n",
            "208/208 [==============================] - 1s 3ms/step - loss: 0.5395 - accuracy: 0.7449 - val_loss: 0.5534 - val_accuracy: 0.7251\n",
            "Epoch 11/20\n",
            "208/208 [==============================] - 1s 3ms/step - loss: 0.5376 - accuracy: 0.7447 - val_loss: 0.5528 - val_accuracy: 0.7286\n",
            "Epoch 12/20\n",
            "208/208 [==============================] - 1s 5ms/step - loss: 0.5361 - accuracy: 0.7447 - val_loss: 0.5524 - val_accuracy: 0.7286\n",
            "Epoch 13/20\n",
            "208/208 [==============================] - 1s 4ms/step - loss: 0.5345 - accuracy: 0.7449 - val_loss: 0.5522 - val_accuracy: 0.7313\n",
            "Epoch 14/20\n",
            "208/208 [==============================] - 1s 4ms/step - loss: 0.5333 - accuracy: 0.7459 - val_loss: 0.5515 - val_accuracy: 0.7340\n",
            "Epoch 15/20\n",
            "208/208 [==============================] - 1s 3ms/step - loss: 0.5319 - accuracy: 0.7464 - val_loss: 0.5519 - val_accuracy: 0.7349\n",
            "Epoch 16/20\n",
            "208/208 [==============================] - 1s 3ms/step - loss: 0.5306 - accuracy: 0.7473 - val_loss: 0.5517 - val_accuracy: 0.7340\n",
            "Epoch 17/20\n",
            "208/208 [==============================] - 1s 3ms/step - loss: 0.5296 - accuracy: 0.7477 - val_loss: 0.5508 - val_accuracy: 0.7367\n",
            "Epoch 18/20\n",
            "208/208 [==============================] - 1s 3ms/step - loss: 0.5283 - accuracy: 0.7483 - val_loss: 0.5501 - val_accuracy: 0.7384\n",
            "Epoch 19/20\n",
            "208/208 [==============================] - 1s 3ms/step - loss: 0.5277 - accuracy: 0.7480 - val_loss: 0.5497 - val_accuracy: 0.7393\n",
            "Epoch 20/20\n",
            "208/208 [==============================] - 1s 3ms/step - loss: 0.5271 - accuracy: 0.7487 - val_loss: 0.5492 - val_accuracy: 0.7411\n",
            "CPU times: user 17 s, sys: 1.3 s, total: 18.3 s\n",
            "Wall time: 20.5 s\n"
          ]
        }
      ]
    },
    {
      "cell_type": "markdown",
      "source": [
        "Tampilkan history, plot grafik dan classification report"
      ],
      "metadata": {
        "id": "CLQrAAoRR8Zx"
      }
    },
    {
      "cell_type": "code",
      "source": [
        "# Create DataFrame\n",
        "history_seq_df2 = pd.DataFrame(history_seq2.history)\n",
        "history_seq_df2"
      ],
      "metadata": {
        "colab": {
          "base_uri": "https://localhost:8080/",
          "height": 676
        },
        "id": "0esWB8YrVNmH",
        "outputId": "bff66401-c1bb-443f-d09b-19ab7ca30400"
      },
      "execution_count": 105,
      "outputs": [
        {
          "output_type": "execute_result",
          "data": {
            "text/plain": [
              "        loss  accuracy  val_loss  val_accuracy\n",
              "0   0.682355  0.683720  0.622521      0.696619\n",
              "1   0.602551  0.731869  0.593821      0.710854\n",
              "2   0.579780  0.738828  0.578803      0.714413\n",
              "3   0.566903  0.741912  0.569920      0.720641\n",
              "4   0.558526  0.743079  0.564449      0.718861\n",
              "5   0.552545  0.744546  0.560694      0.717972\n",
              "6   0.547917  0.744470  0.558153      0.722420\n",
              "7   0.544491  0.744583  0.555650      0.722420\n",
              "8   0.541685  0.744771  0.554173      0.724199\n",
              "9   0.539498  0.744884  0.553426      0.725089\n",
              "10  0.537639  0.744658  0.552815      0.728648\n",
              "11  0.536069  0.744734  0.552354      0.728648\n",
              "12  0.534472  0.744884  0.552234      0.731317\n",
              "13  0.533251  0.745937  0.551495      0.733986\n",
              "14  0.531895  0.746389  0.551877      0.734875\n",
              "15  0.530564  0.747329  0.551697      0.733986\n",
              "16  0.529625  0.747668  0.550770      0.736655\n",
              "17  0.528296  0.748307  0.550059      0.738434\n",
              "18  0.527686  0.748006  0.549655      0.739324\n",
              "19  0.527117  0.748683  0.549232      0.741103"
            ],
            "text/html": [
              "\n",
              "  <div id=\"df-24c07cbd-0db3-4b3e-a5e0-89e129faa330\">\n",
              "    <div class=\"colab-df-container\">\n",
              "      <div>\n",
              "<style scoped>\n",
              "    .dataframe tbody tr th:only-of-type {\n",
              "        vertical-align: middle;\n",
              "    }\n",
              "\n",
              "    .dataframe tbody tr th {\n",
              "        vertical-align: top;\n",
              "    }\n",
              "\n",
              "    .dataframe thead th {\n",
              "        text-align: right;\n",
              "    }\n",
              "</style>\n",
              "<table border=\"1\" class=\"dataframe\">\n",
              "  <thead>\n",
              "    <tr style=\"text-align: right;\">\n",
              "      <th></th>\n",
              "      <th>loss</th>\n",
              "      <th>accuracy</th>\n",
              "      <th>val_loss</th>\n",
              "      <th>val_accuracy</th>\n",
              "    </tr>\n",
              "  </thead>\n",
              "  <tbody>\n",
              "    <tr>\n",
              "      <th>0</th>\n",
              "      <td>0.682355</td>\n",
              "      <td>0.683720</td>\n",
              "      <td>0.622521</td>\n",
              "      <td>0.696619</td>\n",
              "    </tr>\n",
              "    <tr>\n",
              "      <th>1</th>\n",
              "      <td>0.602551</td>\n",
              "      <td>0.731869</td>\n",
              "      <td>0.593821</td>\n",
              "      <td>0.710854</td>\n",
              "    </tr>\n",
              "    <tr>\n",
              "      <th>2</th>\n",
              "      <td>0.579780</td>\n",
              "      <td>0.738828</td>\n",
              "      <td>0.578803</td>\n",
              "      <td>0.714413</td>\n",
              "    </tr>\n",
              "    <tr>\n",
              "      <th>3</th>\n",
              "      <td>0.566903</td>\n",
              "      <td>0.741912</td>\n",
              "      <td>0.569920</td>\n",
              "      <td>0.720641</td>\n",
              "    </tr>\n",
              "    <tr>\n",
              "      <th>4</th>\n",
              "      <td>0.558526</td>\n",
              "      <td>0.743079</td>\n",
              "      <td>0.564449</td>\n",
              "      <td>0.718861</td>\n",
              "    </tr>\n",
              "    <tr>\n",
              "      <th>5</th>\n",
              "      <td>0.552545</td>\n",
              "      <td>0.744546</td>\n",
              "      <td>0.560694</td>\n",
              "      <td>0.717972</td>\n",
              "    </tr>\n",
              "    <tr>\n",
              "      <th>6</th>\n",
              "      <td>0.547917</td>\n",
              "      <td>0.744470</td>\n",
              "      <td>0.558153</td>\n",
              "      <td>0.722420</td>\n",
              "    </tr>\n",
              "    <tr>\n",
              "      <th>7</th>\n",
              "      <td>0.544491</td>\n",
              "      <td>0.744583</td>\n",
              "      <td>0.555650</td>\n",
              "      <td>0.722420</td>\n",
              "    </tr>\n",
              "    <tr>\n",
              "      <th>8</th>\n",
              "      <td>0.541685</td>\n",
              "      <td>0.744771</td>\n",
              "      <td>0.554173</td>\n",
              "      <td>0.724199</td>\n",
              "    </tr>\n",
              "    <tr>\n",
              "      <th>9</th>\n",
              "      <td>0.539498</td>\n",
              "      <td>0.744884</td>\n",
              "      <td>0.553426</td>\n",
              "      <td>0.725089</td>\n",
              "    </tr>\n",
              "    <tr>\n",
              "      <th>10</th>\n",
              "      <td>0.537639</td>\n",
              "      <td>0.744658</td>\n",
              "      <td>0.552815</td>\n",
              "      <td>0.728648</td>\n",
              "    </tr>\n",
              "    <tr>\n",
              "      <th>11</th>\n",
              "      <td>0.536069</td>\n",
              "      <td>0.744734</td>\n",
              "      <td>0.552354</td>\n",
              "      <td>0.728648</td>\n",
              "    </tr>\n",
              "    <tr>\n",
              "      <th>12</th>\n",
              "      <td>0.534472</td>\n",
              "      <td>0.744884</td>\n",
              "      <td>0.552234</td>\n",
              "      <td>0.731317</td>\n",
              "    </tr>\n",
              "    <tr>\n",
              "      <th>13</th>\n",
              "      <td>0.533251</td>\n",
              "      <td>0.745937</td>\n",
              "      <td>0.551495</td>\n",
              "      <td>0.733986</td>\n",
              "    </tr>\n",
              "    <tr>\n",
              "      <th>14</th>\n",
              "      <td>0.531895</td>\n",
              "      <td>0.746389</td>\n",
              "      <td>0.551877</td>\n",
              "      <td>0.734875</td>\n",
              "    </tr>\n",
              "    <tr>\n",
              "      <th>15</th>\n",
              "      <td>0.530564</td>\n",
              "      <td>0.747329</td>\n",
              "      <td>0.551697</td>\n",
              "      <td>0.733986</td>\n",
              "    </tr>\n",
              "    <tr>\n",
              "      <th>16</th>\n",
              "      <td>0.529625</td>\n",
              "      <td>0.747668</td>\n",
              "      <td>0.550770</td>\n",
              "      <td>0.736655</td>\n",
              "    </tr>\n",
              "    <tr>\n",
              "      <th>17</th>\n",
              "      <td>0.528296</td>\n",
              "      <td>0.748307</td>\n",
              "      <td>0.550059</td>\n",
              "      <td>0.738434</td>\n",
              "    </tr>\n",
              "    <tr>\n",
              "      <th>18</th>\n",
              "      <td>0.527686</td>\n",
              "      <td>0.748006</td>\n",
              "      <td>0.549655</td>\n",
              "      <td>0.739324</td>\n",
              "    </tr>\n",
              "    <tr>\n",
              "      <th>19</th>\n",
              "      <td>0.527117</td>\n",
              "      <td>0.748683</td>\n",
              "      <td>0.549232</td>\n",
              "      <td>0.741103</td>\n",
              "    </tr>\n",
              "  </tbody>\n",
              "</table>\n",
              "</div>\n",
              "      <button class=\"colab-df-convert\" onclick=\"convertToInteractive('df-24c07cbd-0db3-4b3e-a5e0-89e129faa330')\"\n",
              "              title=\"Convert this dataframe to an interactive table.\"\n",
              "              style=\"display:none;\">\n",
              "        \n",
              "  <svg xmlns=\"http://www.w3.org/2000/svg\" height=\"24px\"viewBox=\"0 0 24 24\"\n",
              "       width=\"24px\">\n",
              "    <path d=\"M0 0h24v24H0V0z\" fill=\"none\"/>\n",
              "    <path d=\"M18.56 5.44l.94 2.06.94-2.06 2.06-.94-2.06-.94-.94-2.06-.94 2.06-2.06.94zm-11 1L8.5 8.5l.94-2.06 2.06-.94-2.06-.94L8.5 2.5l-.94 2.06-2.06.94zm10 10l.94 2.06.94-2.06 2.06-.94-2.06-.94-.94-2.06-.94 2.06-2.06.94z\"/><path d=\"M17.41 7.96l-1.37-1.37c-.4-.4-.92-.59-1.43-.59-.52 0-1.04.2-1.43.59L10.3 9.45l-7.72 7.72c-.78.78-.78 2.05 0 2.83L4 21.41c.39.39.9.59 1.41.59.51 0 1.02-.2 1.41-.59l7.78-7.78 2.81-2.81c.8-.78.8-2.07 0-2.86zM5.41 20L4 18.59l7.72-7.72 1.47 1.35L5.41 20z\"/>\n",
              "  </svg>\n",
              "      </button>\n",
              "      \n",
              "  <style>\n",
              "    .colab-df-container {\n",
              "      display:flex;\n",
              "      flex-wrap:wrap;\n",
              "      gap: 12px;\n",
              "    }\n",
              "\n",
              "    .colab-df-convert {\n",
              "      background-color: #E8F0FE;\n",
              "      border: none;\n",
              "      border-radius: 50%;\n",
              "      cursor: pointer;\n",
              "      display: none;\n",
              "      fill: #1967D2;\n",
              "      height: 32px;\n",
              "      padding: 0 0 0 0;\n",
              "      width: 32px;\n",
              "    }\n",
              "\n",
              "    .colab-df-convert:hover {\n",
              "      background-color: #E2EBFA;\n",
              "      box-shadow: 0px 1px 2px rgba(60, 64, 67, 0.3), 0px 1px 3px 1px rgba(60, 64, 67, 0.15);\n",
              "      fill: #174EA6;\n",
              "    }\n",
              "\n",
              "    [theme=dark] .colab-df-convert {\n",
              "      background-color: #3B4455;\n",
              "      fill: #D2E3FC;\n",
              "    }\n",
              "\n",
              "    [theme=dark] .colab-df-convert:hover {\n",
              "      background-color: #434B5C;\n",
              "      box-shadow: 0px 1px 3px 1px rgba(0, 0, 0, 0.15);\n",
              "      filter: drop-shadow(0px 1px 2px rgba(0, 0, 0, 0.3));\n",
              "      fill: #FFFFFF;\n",
              "    }\n",
              "  </style>\n",
              "\n",
              "      <script>\n",
              "        const buttonEl =\n",
              "          document.querySelector('#df-24c07cbd-0db3-4b3e-a5e0-89e129faa330 button.colab-df-convert');\n",
              "        buttonEl.style.display =\n",
              "          google.colab.kernel.accessAllowed ? 'block' : 'none';\n",
              "\n",
              "        async function convertToInteractive(key) {\n",
              "          const element = document.querySelector('#df-24c07cbd-0db3-4b3e-a5e0-89e129faa330');\n",
              "          const dataTable =\n",
              "            await google.colab.kernel.invokeFunction('convertToInteractive',\n",
              "                                                     [key], {});\n",
              "          if (!dataTable) return;\n",
              "\n",
              "          const docLinkHtml = 'Like what you see? Visit the ' +\n",
              "            '<a target=\"_blank\" href=https://colab.research.google.com/notebooks/data_table.ipynb>data table notebook</a>'\n",
              "            + ' to learn more about interactive tables.';\n",
              "          element.innerHTML = '';\n",
              "          dataTable['output_type'] = 'display_data';\n",
              "          await google.colab.output.renderOutput(dataTable, element);\n",
              "          const docLink = document.createElement('div');\n",
              "          docLink.innerHTML = docLinkHtml;\n",
              "          element.appendChild(docLink);\n",
              "        }\n",
              "      </script>\n",
              "    </div>\n",
              "  </div>\n",
              "  "
            ]
          },
          "metadata": {},
          "execution_count": 105
        }
      ]
    },
    {
      "cell_type": "code",
      "source": [
        "# Plot between accuracy and val_accuracy\n",
        "history_seq_df2[['accuracy', 'val_accuracy']].plot()"
      ],
      "metadata": {
        "colab": {
          "base_uri": "https://localhost:8080/",
          "height": 283
        },
        "id": "c4g1rIwdVR9S",
        "outputId": "f9089ede-6edd-40b8-ebc9-01b12790c3bb"
      },
      "execution_count": 106,
      "outputs": [
        {
          "output_type": "execute_result",
          "data": {
            "text/plain": [
              "<matplotlib.axes._subplots.AxesSubplot at 0x7f4ab67a8ac0>"
            ]
          },
          "metadata": {},
          "execution_count": 106
        },
        {
          "output_type": "display_data",
          "data": {
            "text/plain": [
              "<Figure size 432x288 with 1 Axes>"
            ],
            "image/png": "[encoded data removed]"
          },
          "metadata": {
            "needs_background": "light"
          }
        }
      ]
    },
    {
      "cell_type": "markdown",
      "source": [
        "Underfitting berubah menjadi overfitting saat parameter sequential API diubah. Namun, ini masih lbh baik krn gap antara validation dan training set tidak lebar. Selain itu, masalah vanishing gradient tetap ada terutama pada training accuracy pada epoch > 3. Namun, ini bisa diartikan bahwa epoch 3 saja cukup utk mendapat model dgn nilai accuracy optimal, sehingga mempercepat training process."
      ],
      "metadata": {
        "id": "1S3Qzmb0R94F"
      }
    },
    {
      "cell_type": "code",
      "source": [
        "# Plot between loss and val_loss\n",
        "history_seq_df2[['loss', 'val_loss']].plot()"
      ],
      "metadata": {
        "colab": {
          "base_uri": "https://localhost:8080/",
          "height": 283
        },
        "id": "QX0kQQocVVJ-",
        "outputId": "7be4bfb1-fe81-494f-e706-69d6febfe451"
      },
      "execution_count": 107,
      "outputs": [
        {
          "output_type": "execute_result",
          "data": {
            "text/plain": [
              "<matplotlib.axes._subplots.AxesSubplot at 0x7f4ab8fab4c0>"
            ]
          },
          "metadata": {},
          "execution_count": 107
        },
        {
          "output_type": "display_data",
          "data": {
            "text/plain": [
              "<Figure size 432x288 with 1 Axes>"
            ],
            "image/png": "[encoded data removed]"
          },
          "metadata": {
            "needs_background": "light"
          }
        }
      ]
    },
    {
      "cell_type": "markdown",
      "source": [
        "Kita lihat pada grafik loss function terjadi peningkatan signifikan terhadap profile grafiknya. Grafik training set dan validation set berimpitan sepanjang epoch, namun vanishing gradient tdk terlalu buruk dibanding sebelumnya. Regularisasi jg berhasil menghilangkan exploding gradient"
      ],
      "metadata": {
        "id": "CGJsNWIlSgsu"
      }
    },
    {
      "cell_type": "code",
      "source": [
        "# Model Evaluation\n",
        "y_pred_seq2 = model_sequential2.predict(X_test)\n",
        "y_pred_seq2 = np.where(y_pred_seq2 >=0.5, 1, 0)\n",
        "\n",
        "print(classification_report(y_test, y_pred_seq2))"
      ],
      "metadata": {
        "colab": {
          "base_uri": "https://localhost:8080/"
        },
        "id": "zzvrOPijVZNn",
        "outputId": "17d183bc-5cf4-4d97-8fe7-02aeb0d2ffee"
      },
      "execution_count": 110,
      "outputs": [
        {
          "output_type": "stream",
          "name": "stdout",
          "text": [
            "44/44 [==============================] - 0s 3ms/step\n",
            "              precision    recall  f1-score   support\n",
            "\n",
            "           0       0.90      0.73      0.81      1016\n",
            "           1       0.53      0.79      0.64       389\n",
            "\n",
            "    accuracy                           0.75      1405\n",
            "   macro avg       0.72      0.76      0.72      1405\n",
            "weighted avg       0.80      0.75      0.76      1405\n",
            "\n"
          ]
        }
      ]
    },
    {
      "cell_type": "markdown",
      "source": [
        "Nilai f-1 score pada classification report relatif tdk berubah"
      ],
      "metadata": {
        "id": "bxUGu3r2S_VJ"
      }
    },
    {
      "cell_type": "markdown",
      "source": [
        "### Functional API"
      ],
      "metadata": {
        "id": "PEL_2o5cUsZT"
      }
    },
    {
      "cell_type": "markdown",
      "source": [
        "Utk functional API, batch normalization dan dropout akan dihilangkan. Pada input layer, digunakan kernel_regularizer l2 utk mencegah exploding gradient dan kernel_initializer glorot_normal utk metode inisiasi weight. Selain itu, jumlah neuron hidden layer akan ditingkatkan dari 10 menjadi 100."
      ],
      "metadata": {
        "id": "UvaDawqaTbQa"
      }
    },
    {
      "cell_type": "code",
      "source": [
        "# Create Functional API\n",
        "input_layer2 = Input(shape=(22,))\n",
        "hidden1_layer2 = Dense(5, activation='relu',kernel_regularizer='l2',kernel_initializer='glorot_normal')(input_layer2)\n",
        "hidden2_layer2 = Dense(100, activation='relu')(hidden1_layer2)\n",
        "\n",
        "concat_layer2 = concatenate([input_layer2, hidden2_layer2])\n",
        "output_layer2 = Dense(1, activation='sigmoid')(concat_layer2)\n",
        "\n",
        "model_functional2 = Model(inputs=input_layer2, outputs=output_layer2)\n",
        "\n",
        "# Compile model\n",
        "model_functional2.compile(loss='binary_crossentropy',\n",
        "                         optimizer='Adam',\n",
        "                         metrics=['accuracy'])\n",
        "\n",
        "model_functional2.summary()"
      ],
      "metadata": {
        "colab": {
          "base_uri": "https://localhost:8080/"
        },
        "id": "KayqXuFFUvLJ",
        "outputId": "9cad4b73-2e35-4feb-f7b0-5e5c85f4b9ba"
      },
      "execution_count": 111,
      "outputs": [
        {
          "output_type": "stream",
          "name": "stdout",
          "text": [
            "Model: \"model_2\"\n",
            "__________________________________________________________________________________________________\n",
            " Layer (type)                   Output Shape         Param #     Connected to                     \n",
            "==================================================================================================\n",
            " input_3 (InputLayer)           [(None, 22)]         0           []                               \n",
            "                                                                                                  \n",
            " dense_12 (Dense)               (None, 5)            115         ['input_3[0][0]']                \n",
            "                                                                                                  \n",
            " dense_13 (Dense)               (None, 100)          600         ['dense_12[0][0]']               \n",
            "                                                                                                  \n",
            " concatenate_2 (Concatenate)    (None, 122)          0           ['input_3[0][0]',                \n",
            "                                                                  'dense_13[0][0]']               \n",
            "                                                                                                  \n",
            " dense_14 (Dense)               (None, 1)            123         ['concatenate_2[0][0]']          \n",
            "                                                                                                  \n",
            "==================================================================================================\n",
            "Total params: 838\n",
            "Trainable params: 838\n",
            "Non-trainable params: 0\n",
            "__________________________________________________________________________________________________\n"
          ]
        }
      ]
    },
    {
      "cell_type": "code",
      "source": [
        "# Train the Model\n",
        "%%time \n",
        "history_func2 = model_functional2.fit(train_pipe, \n",
        "                                   epochs=20, \n",
        "                                   validation_data=(val_pipe) \n",
        "                                   )"
      ],
      "metadata": {
        "colab": {
          "base_uri": "https://localhost:8080/"
        },
        "id": "TQEtdwXbVl_E",
        "outputId": "df905783-c45a-40d3-f432-1f934009ac1f"
      },
      "execution_count": 112,
      "outputs": [
        {
          "output_type": "stream",
          "name": "stdout",
          "text": [
            "Epoch 1/20\n",
            "208/208 [==============================] - 2s 4ms/step - loss: 0.6858 - accuracy: 0.6384 - val_loss: 0.5886 - val_accuracy: 0.7126\n",
            "Epoch 2/20\n",
            "208/208 [==============================] - 1s 3ms/step - loss: 0.5866 - accuracy: 0.7353 - val_loss: 0.5731 - val_accuracy: 0.7020\n",
            "Epoch 3/20\n",
            "208/208 [==============================] - 1s 5ms/step - loss: 0.5651 - accuracy: 0.7402 - val_loss: 0.5642 - val_accuracy: 0.7046\n",
            "Epoch 4/20\n",
            "208/208 [==============================] - 1s 6ms/step - loss: 0.5539 - accuracy: 0.7432 - val_loss: 0.5577 - val_accuracy: 0.7064\n",
            "Epoch 5/20\n",
            "208/208 [==============================] - 1s 4ms/step - loss: 0.5467 - accuracy: 0.7446 - val_loss: 0.5531 - val_accuracy: 0.7126\n",
            "Epoch 6/20\n",
            "208/208 [==============================] - 1s 4ms/step - loss: 0.5415 - accuracy: 0.7457 - val_loss: 0.5500 - val_accuracy: 0.7117\n",
            "Epoch 7/20\n",
            "208/208 [==============================] - 1s 3ms/step - loss: 0.5374 - accuracy: 0.7470 - val_loss: 0.5476 - val_accuracy: 0.7100\n",
            "Epoch 8/20\n",
            "208/208 [==============================] - 1s 4ms/step - loss: 0.5343 - accuracy: 0.7470 - val_loss: 0.5451 - val_accuracy: 0.7126\n",
            "Epoch 9/20\n",
            "208/208 [==============================] - 1s 5ms/step - loss: 0.5316 - accuracy: 0.7473 - val_loss: 0.5426 - val_accuracy: 0.7171\n",
            "Epoch 10/20\n",
            "208/208 [==============================] - 1s 3ms/step - loss: 0.5292 - accuracy: 0.7468 - val_loss: 0.5407 - val_accuracy: 0.7206\n",
            "Epoch 11/20\n",
            "208/208 [==============================] - 1s 4ms/step - loss: 0.5270 - accuracy: 0.7473 - val_loss: 0.5384 - val_accuracy: 0.7224\n",
            "Epoch 12/20\n",
            "208/208 [==============================] - 1s 4ms/step - loss: 0.5250 - accuracy: 0.7482 - val_loss: 0.5370 - val_accuracy: 0.7224\n",
            "Epoch 13/20\n",
            "208/208 [==============================] - 1s 3ms/step - loss: 0.5234 - accuracy: 0.7485 - val_loss: 0.5354 - val_accuracy: 0.7224\n",
            "Epoch 14/20\n",
            "208/208 [==============================] - 1s 4ms/step - loss: 0.5221 - accuracy: 0.7482 - val_loss: 0.5340 - val_accuracy: 0.7242\n",
            "Epoch 15/20\n",
            "208/208 [==============================] - 1s 4ms/step - loss: 0.5208 - accuracy: 0.7480 - val_loss: 0.5333 - val_accuracy: 0.7260\n",
            "Epoch 16/20\n",
            "208/208 [==============================] - 1s 6ms/step - loss: 0.5197 - accuracy: 0.7474 - val_loss: 0.5318 - val_accuracy: 0.7269\n",
            "Epoch 17/20\n",
            "208/208 [==============================] - 1s 3ms/step - loss: 0.5184 - accuracy: 0.7474 - val_loss: 0.5305 - val_accuracy: 0.7304\n",
            "Epoch 18/20\n",
            "208/208 [==============================] - 1s 4ms/step - loss: 0.5173 - accuracy: 0.7477 - val_loss: 0.5295 - val_accuracy: 0.7295\n",
            "Epoch 19/20\n",
            "208/208 [==============================] - 1s 5ms/step - loss: 0.5163 - accuracy: 0.7473 - val_loss: 0.5287 - val_accuracy: 0.7304\n",
            "Epoch 20/20\n",
            "208/208 [==============================] - 1s 5ms/step - loss: 0.5153 - accuracy: 0.7477 - val_loss: 0.5278 - val_accuracy: 0.7304\n",
            "CPU times: user 17.1 s, sys: 1.29 s, total: 18.4 s\n",
            "Wall time: 21.6 s\n"
          ]
        }
      ]
    },
    {
      "cell_type": "markdown",
      "source": [
        "Tampilkan history, plot accuracy dan loss function"
      ],
      "metadata": {
        "id": "simx-KiYV6gI"
      }
    },
    {
      "cell_type": "code",
      "source": [
        "# Create DataFrame\n",
        "history_functional_df2 = pd.DataFrame(history_func2.history)\n",
        "history_functional_df2"
      ],
      "metadata": {
        "colab": {
          "base_uri": "https://localhost:8080/",
          "height": 676
        },
        "id": "NiUTV9ciVwyu",
        "outputId": "5e59bd2b-b6b5-4321-90a3-1d3f01fcbfeb"
      },
      "execution_count": 113,
      "outputs": [
        {
          "output_type": "execute_result",
          "data": {
            "text/plain": [
              "        loss  accuracy  val_loss  val_accuracy\n",
              "0   0.685822  0.638354  0.588640      0.712633\n",
              "1   0.586583  0.735330  0.573108      0.701957\n",
              "2   0.565056  0.740182  0.564186      0.704626\n",
              "3   0.553903  0.743229  0.557738      0.706406\n",
              "4   0.546671  0.744621  0.553079      0.712633\n",
              "5   0.541475  0.745674  0.549972      0.711744\n",
              "6   0.537377  0.746953  0.547553      0.709964\n",
              "7   0.534334  0.746953  0.545085      0.712633\n",
              "8   0.531647  0.747254  0.542553      0.717082\n",
              "9   0.529223  0.746840  0.540730      0.720641\n",
              "10  0.527028  0.747329  0.538398      0.722420\n",
              "11  0.525007  0.748232  0.536968      0.722420\n",
              "12  0.523390  0.748495  0.535445      0.722420\n",
              "13  0.522060  0.748194  0.533990      0.724199\n",
              "14  0.520847  0.747969  0.533261      0.725979\n",
              "15  0.519658  0.747367  0.531774      0.726868\n",
              "16  0.518420  0.747367  0.530500      0.730427\n",
              "17  0.517316  0.747705  0.529549      0.729537\n",
              "18  0.516300  0.747254  0.528724      0.730427\n",
              "19  0.515256  0.747743  0.527793      0.730427"
            ],
            "text/html": [
              "\n",
              "  <div id=\"df-1b13141c-61e7-4228-a15e-698959fc7ece\">\n",
              "    <div class=\"colab-df-container\">\n",
              "      <div>\n",
              "<style scoped>\n",
              "    .dataframe tbody tr th:only-of-type {\n",
              "        vertical-align: middle;\n",
              "    }\n",
              "\n",
              "    .dataframe tbody tr th {\n",
              "        vertical-align: top;\n",
              "    }\n",
              "\n",
              "    .dataframe thead th {\n",
              "        text-align: right;\n",
              "    }\n",
              "</style>\n",
              "<table border=\"1\" class=\"dataframe\">\n",
              "  <thead>\n",
              "    <tr style=\"text-align: right;\">\n",
              "      <th></th>\n",
              "      <th>loss</th>\n",
              "      <th>accuracy</th>\n",
              "      <th>val_loss</th>\n",
              "      <th>val_accuracy</th>\n",
              "    </tr>\n",
              "  </thead>\n",
              "  <tbody>\n",
              "    <tr>\n",
              "      <th>0</th>\n",
              "      <td>0.685822</td>\n",
              "      <td>0.638354</td>\n",
              "      <td>0.588640</td>\n",
              "      <td>0.712633</td>\n",
              "    </tr>\n",
              "    <tr>\n",
              "      <th>1</th>\n",
              "      <td>0.586583</td>\n",
              "      <td>0.735330</td>\n",
              "      <td>0.573108</td>\n",
              "      <td>0.701957</td>\n",
              "    </tr>\n",
              "    <tr>\n",
              "      <th>2</th>\n",
              "      <td>0.565056</td>\n",
              "      <td>0.740182</td>\n",
              "      <td>0.564186</td>\n",
              "      <td>0.704626</td>\n",
              "    </tr>\n",
              "    <tr>\n",
              "      <th>3</th>\n",
              "      <td>0.553903</td>\n",
              "      <td>0.743229</td>\n",
              "      <td>0.557738</td>\n",
              "      <td>0.706406</td>\n",
              "    </tr>\n",
              "    <tr>\n",
              "      <th>4</th>\n",
              "      <td>0.546671</td>\n",
              "      <td>0.744621</td>\n",
              "      <td>0.553079</td>\n",
              "      <td>0.712633</td>\n",
              "    </tr>\n",
              "    <tr>\n",
              "      <th>5</th>\n",
              "      <td>0.541475</td>\n",
              "      <td>0.745674</td>\n",
              "      <td>0.549972</td>\n",
              "      <td>0.711744</td>\n",
              "    </tr>\n",
              "    <tr>\n",
              "      <th>6</th>\n",
              "      <td>0.537377</td>\n",
              "      <td>0.746953</td>\n",
              "      <td>0.547553</td>\n",
              "      <td>0.709964</td>\n",
              "    </tr>\n",
              "    <tr>\n",
              "      <th>7</th>\n",
              "      <td>0.534334</td>\n",
              "      <td>0.746953</td>\n",
              "      <td>0.545085</td>\n",
              "      <td>0.712633</td>\n",
              "    </tr>\n",
              "    <tr>\n",
              "      <th>8</th>\n",
              "      <td>0.531647</td>\n",
              "      <td>0.747254</td>\n",
              "      <td>0.542553</td>\n",
              "      <td>0.717082</td>\n",
              "    </tr>\n",
              "    <tr>\n",
              "      <th>9</th>\n",
              "      <td>0.529223</td>\n",
              "      <td>0.746840</td>\n",
              "      <td>0.540730</td>\n",
              "      <td>0.720641</td>\n",
              "    </tr>\n",
              "    <tr>\n",
              "      <th>10</th>\n",
              "      <td>0.527028</td>\n",
              "      <td>0.747329</td>\n",
              "      <td>0.538398</td>\n",
              "      <td>0.722420</td>\n",
              "    </tr>\n",
              "    <tr>\n",
              "      <th>11</th>\n",
              "      <td>0.525007</td>\n",
              "      <td>0.748232</td>\n",
              "      <td>0.536968</td>\n",
              "      <td>0.722420</td>\n",
              "    </tr>\n",
              "    <tr>\n",
              "      <th>12</th>\n",
              "      <td>0.523390</td>\n",
              "      <td>0.748495</td>\n",
              "      <td>0.535445</td>\n",
              "      <td>0.722420</td>\n",
              "    </tr>\n",
              "    <tr>\n",
              "      <th>13</th>\n",
              "      <td>0.522060</td>\n",
              "      <td>0.748194</td>\n",
              "      <td>0.533990</td>\n",
              "      <td>0.724199</td>\n",
              "    </tr>\n",
              "    <tr>\n",
              "      <th>14</th>\n",
              "      <td>0.520847</td>\n",
              "      <td>0.747969</td>\n",
              "      <td>0.533261</td>\n",
              "      <td>0.725979</td>\n",
              "    </tr>\n",
              "    <tr>\n",
              "      <th>15</th>\n",
              "      <td>0.519658</td>\n",
              "      <td>0.747367</td>\n",
              "      <td>0.531774</td>\n",
              "      <td>0.726868</td>\n",
              "    </tr>\n",
              "    <tr>\n",
              "      <th>16</th>\n",
              "      <td>0.518420</td>\n",
              "      <td>0.747367</td>\n",
              "      <td>0.530500</td>\n",
              "      <td>0.730427</td>\n",
              "    </tr>\n",
              "    <tr>\n",
              "      <th>17</th>\n",
              "      <td>0.517316</td>\n",
              "      <td>0.747705</td>\n",
              "      <td>0.529549</td>\n",
              "      <td>0.729537</td>\n",
              "    </tr>\n",
              "    <tr>\n",
              "      <th>18</th>\n",
              "      <td>0.516300</td>\n",
              "      <td>0.747254</td>\n",
              "      <td>0.528724</td>\n",
              "      <td>0.730427</td>\n",
              "    </tr>\n",
              "    <tr>\n",
              "      <th>19</th>\n",
              "      <td>0.515256</td>\n",
              "      <td>0.747743</td>\n",
              "      <td>0.527793</td>\n",
              "      <td>0.730427</td>\n",
              "    </tr>\n",
              "  </tbody>\n",
              "</table>\n",
              "</div>\n",
              "      <button class=\"colab-df-convert\" onclick=\"convertToInteractive('df-1b13141c-61e7-4228-a15e-698959fc7ece')\"\n",
              "              title=\"Convert this dataframe to an interactive table.\"\n",
              "              style=\"display:none;\">\n",
              "        \n",
              "  <svg xmlns=\"http://www.w3.org/2000/svg\" height=\"24px\"viewBox=\"0 0 24 24\"\n",
              "       width=\"24px\">\n",
              "    <path d=\"M0 0h24v24H0V0z\" fill=\"none\"/>\n",
              "    <path d=\"M18.56 5.44l.94 2.06.94-2.06 2.06-.94-2.06-.94-.94-2.06-.94 2.06-2.06.94zm-11 1L8.5 8.5l.94-2.06 2.06-.94-2.06-.94L8.5 2.5l-.94 2.06-2.06.94zm10 10l.94 2.06.94-2.06 2.06-.94-2.06-.94-.94-2.06-.94 2.06-2.06.94z\"/><path d=\"M17.41 7.96l-1.37-1.37c-.4-.4-.92-.59-1.43-.59-.52 0-1.04.2-1.43.59L10.3 9.45l-7.72 7.72c-.78.78-.78 2.05 0 2.83L4 21.41c.39.39.9.59 1.41.59.51 0 1.02-.2 1.41-.59l7.78-7.78 2.81-2.81c.8-.78.8-2.07 0-2.86zM5.41 20L4 18.59l7.72-7.72 1.47 1.35L5.41 20z\"/>\n",
              "  </svg>\n",
              "      </button>\n",
              "      \n",
              "  <style>\n",
              "    .colab-df-container {\n",
              "      display:flex;\n",
              "      flex-wrap:wrap;\n",
              "      gap: 12px;\n",
              "    }\n",
              "\n",
              "    .colab-df-convert {\n",
              "      background-color: #E8F0FE;\n",
              "      border: none;\n",
              "      border-radius: 50%;\n",
              "      cursor: pointer;\n",
              "      display: none;\n",
              "      fill: #1967D2;\n",
              "      height: 32px;\n",
              "      padding: 0 0 0 0;\n",
              "      width: 32px;\n",
              "    }\n",
              "\n",
              "    .colab-df-convert:hover {\n",
              "      background-color: #E2EBFA;\n",
              "      box-shadow: 0px 1px 2px rgba(60, 64, 67, 0.3), 0px 1px 3px 1px rgba(60, 64, 67, 0.15);\n",
              "      fill: #174EA6;\n",
              "    }\n",
              "\n",
              "    [theme=dark] .colab-df-convert {\n",
              "      background-color: #3B4455;\n",
              "      fill: #D2E3FC;\n",
              "    }\n",
              "\n",
              "    [theme=dark] .colab-df-convert:hover {\n",
              "      background-color: #434B5C;\n",
              "      box-shadow: 0px 1px 3px 1px rgba(0, 0, 0, 0.15);\n",
              "      filter: drop-shadow(0px 1px 2px rgba(0, 0, 0, 0.3));\n",
              "      fill: #FFFFFF;\n",
              "    }\n",
              "  </style>\n",
              "\n",
              "      <script>\n",
              "        const buttonEl =\n",
              "          document.querySelector('#df-1b13141c-61e7-4228-a15e-698959fc7ece button.colab-df-convert');\n",
              "        buttonEl.style.display =\n",
              "          google.colab.kernel.accessAllowed ? 'block' : 'none';\n",
              "\n",
              "        async function convertToInteractive(key) {\n",
              "          const element = document.querySelector('#df-1b13141c-61e7-4228-a15e-698959fc7ece');\n",
              "          const dataTable =\n",
              "            await google.colab.kernel.invokeFunction('convertToInteractive',\n",
              "                                                     [key], {});\n",
              "          if (!dataTable) return;\n",
              "\n",
              "          const docLinkHtml = 'Like what you see? Visit the ' +\n",
              "            '<a target=\"_blank\" href=https://colab.research.google.com/notebooks/data_table.ipynb>data table notebook</a>'\n",
              "            + ' to learn more about interactive tables.';\n",
              "          element.innerHTML = '';\n",
              "          dataTable['output_type'] = 'display_data';\n",
              "          await google.colab.output.renderOutput(dataTable, element);\n",
              "          const docLink = document.createElement('div');\n",
              "          docLink.innerHTML = docLinkHtml;\n",
              "          element.appendChild(docLink);\n",
              "        }\n",
              "      </script>\n",
              "    </div>\n",
              "  </div>\n",
              "  "
            ]
          },
          "metadata": {},
          "execution_count": 113
        }
      ]
    },
    {
      "cell_type": "code",
      "source": [
        "# Plot between accuracy and val_accuracy\n",
        "history_functional_df2[['accuracy', 'val_accuracy']].plot()"
      ],
      "metadata": {
        "colab": {
          "base_uri": "https://localhost:8080/",
          "height": 283
        },
        "id": "To1qJlboVy7d",
        "outputId": "9e0007f7-c807-46ea-a4af-99e74608b614"
      },
      "execution_count": 114,
      "outputs": [
        {
          "output_type": "execute_result",
          "data": {
            "text/plain": [
              "<matplotlib.axes._subplots.AxesSubplot at 0x7f4ab8eac340>"
            ]
          },
          "metadata": {},
          "execution_count": 114
        },
        {
          "output_type": "display_data",
          "data": {
            "text/plain": [
              "<Figure size 432x288 with 1 Axes>"
            ],
            "image/png": "[encoded data removed]"
          },
          "metadata": {
            "needs_background": "light"
          }
        }
      ]
    },
    {
      "cell_type": "markdown",
      "source": [
        "Model masih mengalami overfitting, namun tdk terjadi vanishing gradient pada validation set. Selain itu gap menyempit selama bertambahnya epoch, sehingga performance model pada validation set semakin membaik sering jumlah epoch. Exploding juga tdk terlalu terlihat pada grafik. "
      ],
      "metadata": {
        "id": "M9CBWTzaV5xx"
      }
    },
    {
      "cell_type": "code",
      "source": [
        "# Plot between loss and val_loss\n",
        "history_functional_df2[['loss', 'val_loss']].plot()"
      ],
      "metadata": {
        "colab": {
          "base_uri": "https://localhost:8080/",
          "height": 283
        },
        "id": "CZDs6uNOV1gT",
        "outputId": "93ce58a2-e743-41a0-a8e1-459c93f01ea4"
      },
      "execution_count": 115,
      "outputs": [
        {
          "output_type": "execute_result",
          "data": {
            "text/plain": [
              "<matplotlib.axes._subplots.AxesSubplot at 0x7f4ab8d19880>"
            ]
          },
          "metadata": {},
          "execution_count": 115
        },
        {
          "output_type": "display_data",
          "data": {
            "text/plain": [
              "<Figure size 432x288 with 1 Axes>"
            ],
            "image/png": "[encoded data removed]"
          },
          "metadata": {
            "needs_background": "light"
          }
        }
      ]
    },
    {
      "cell_type": "markdown",
      "source": [
        "Perbaikan signifikan ditemukan pada grafik loss function. Tidak terlihat adanya vanishing gradient krn grafik tetap menurun seiring bertambahnya epoch. Grafik utk validation set jauh membaik, dimana sblmnya mengalami vanishing dan gap sangat lebar dgn training set. Exploding sama sekali tdk ditemukan"
      ],
      "metadata": {
        "id": "-XlR0m8dWlDU"
      }
    },
    {
      "cell_type": "code",
      "source": [
        "# Model Evaluation\n",
        "y_pred_func2 = model_functional2.predict(X_test)\n",
        "y_pred_func2 = np.where(y_pred_func2 >=0.5, 1, 0)\n",
        "\n",
        "print(classification_report(y_test, y_pred_func2))"
      ],
      "metadata": {
        "colab": {
          "base_uri": "https://localhost:8080/"
        },
        "id": "SVpbSDm1V3gt",
        "outputId": "d615b55f-2aa9-4329-84db-ca0cb3eaad25"
      },
      "execution_count": 116,
      "outputs": [
        {
          "output_type": "stream",
          "name": "stdout",
          "text": [
            "44/44 [==============================] - 0s 1ms/step\n",
            "              precision    recall  f1-score   support\n",
            "\n",
            "           0       0.90      0.72      0.80      1016\n",
            "           1       0.52      0.80      0.63       389\n",
            "\n",
            "    accuracy                           0.74      1405\n",
            "   macro avg       0.71      0.76      0.71      1405\n",
            "weighted avg       0.80      0.74      0.75      1405\n",
            "\n"
          ]
        }
      ]
    },
    {
      "cell_type": "markdown",
      "source": [
        "Sama halnya spt pada sequential API, tdk ditemukan perubahan berarti pada f-1 score model hasil improvement."
      ],
      "metadata": {
        "id": "mgjZZ7h_XGd4"
      }
    },
    {
      "cell_type": "markdown",
      "source": [
        "# X. Model Saving"
      ],
      "metadata": {
        "id": "LwVdJ1Clxheb"
      }
    },
    {
      "cell_type": "markdown",
      "source": [
        "Model akan di-save utk deployment"
      ],
      "metadata": {
        "id": "ZMXhz4Rs9CrD"
      }
    },
    {
      "cell_type": "code",
      "source": [
        "# Save Pipeline sklearn\n",
        "\n",
        "with open('final_pipeline.pkl', 'wb') as file_1:\n",
        "  joblib.dump(final_pipeline, file_1)"
      ],
      "metadata": {
        "id": "37Q8m1t93ZXh"
      },
      "execution_count": 117,
      "outputs": []
    },
    {
      "cell_type": "code",
      "source": [
        "# Freeze sequential API dan functional API model\n",
        "\n",
        "model_sequential2.trainable = False\n",
        "model_functional2.trainable = False"
      ],
      "metadata": {
        "id": "nYfwS2cu3d0J"
      },
      "execution_count": 118,
      "outputs": []
    },
    {
      "cell_type": "code",
      "source": [
        "# Save sequential API dan functional API model\n",
        "\n",
        "model_sequential2.save('ann_seq_model.h5')\n",
        "model_functional2.save('ann_fun_model.h5')\n"
      ],
      "metadata": {
        "id": "sEqll7E63gXK"
      },
      "execution_count": 119,
      "outputs": []
    },
    {
      "cell_type": "markdown",
      "source": [
        "# XI. Model Inference"
      ],
      "metadata": {
        "id": "w_dHxBybq96P"
      }
    },
    {
      "cell_type": "markdown",
      "source": [
        "Model yang sudah dilatih akan dicoba pada data yang bukan termasuk ke dalam train-set ataupun test-set. Data ini harus dalam format yang asli, bukan data yang sudah di-scaled."
      ],
      "metadata": {
        "id": "FzL-hqtzraGp"
      }
    },
    {
      "cell_type": "markdown",
      "source": [
        "Load model yg telah di-save:"
      ],
      "metadata": {
        "id": "JVTVm2GK9QSH"
      }
    },
    {
      "cell_type": "code",
      "source": [
        "# Load The Models\n",
        "\n",
        "with open('final_pipeline.pkl', 'rb') as file_1:\n",
        "  model_pipeline = joblib.load(file_1)\n",
        "\n",
        "from tensorflow.keras.models import load_model\n",
        "model_ann_seq = load_model('ann_seq_model.h5')\n",
        "\n",
        "from tensorflow.keras.models import load_model\n",
        "model_ann_fun = load_model('ann_fun_model.h5')\n"
      ],
      "metadata": {
        "colab": {
          "base_uri": "https://localhost:8080/"
        },
        "id": "3yUQUwuL3lri",
        "outputId": "4a574225-0b83-4115-a920-469cfdbde57b"
      },
      "execution_count": 120,
      "outputs": [
        {
          "output_type": "stream",
          "name": "stderr",
          "text": [
            "WARNING:tensorflow:Error in loading the saved optimizer state. As a result, your model is starting with a freshly initialized optimizer.\n",
            "WARNING:tensorflow:Error in loading the saved optimizer state. As a result, your model is starting with a freshly initialized optimizer.\n"
          ]
        }
      ]
    },
    {
      "cell_type": "markdown",
      "source": [
        "Transformasi dataset inference menggunakan pipeline sklearn"
      ],
      "metadata": {
        "id": "pS3NWzk99Sdu"
      }
    },
    {
      "cell_type": "code",
      "source": [
        "# Transform Inference-Set \n",
        "\n",
        "df_inf_transform = model_pipeline.transform(df_inf)\n",
        "df_inf_transform"
      ],
      "metadata": {
        "colab": {
          "base_uri": "https://localhost:8080/"
        },
        "id": "VuiFngdi3n47",
        "outputId": "f34e05f1-5209-4a60-c2d6-d331bb52204d"
      },
      "execution_count": 121,
      "outputs": [
        {
          "output_type": "execute_result",
          "data": {
            "text/plain": [
              "array([[6.94444444e-01, 2.29197808e-02, 1.21030464e-01, 0.00000000e+00,\n",
              "        0.00000000e+00, 1.00000000e+00, 0.00000000e+00, 1.00000000e+00,\n",
              "        0.00000000e+00, 0.00000000e+00, 1.00000000e+00, 0.00000000e+00,\n",
              "        0.00000000e+00, 0.00000000e+00, 1.00000000e+00, 0.00000000e+00,\n",
              "        1.00000000e+00, 0.00000000e+00, 0.00000000e+00, 0.00000000e+00,\n",
              "        0.00000000e+00, 1.00000000e+00],\n",
              "       [1.00000000e+00, 1.59441953e-02, 1.63316409e-01, 0.00000000e+00,\n",
              "        0.00000000e+00, 1.00000000e+00, 0.00000000e+00, 1.00000000e+00,\n",
              "        0.00000000e+00, 0.00000000e+00, 1.00000000e+00, 0.00000000e+00,\n",
              "        0.00000000e+00, 0.00000000e+00, 1.00000000e+00, 0.00000000e+00,\n",
              "        1.00000000e+00, 0.00000000e+00, 1.00000000e+00, 0.00000000e+00,\n",
              "        0.00000000e+00, 0.00000000e+00],\n",
              "       [8.75000000e-01, 5.03736921e-01, 4.72253635e-01, 0.00000000e+00,\n",
              "        1.00000000e+00, 0.00000000e+00, 0.00000000e+00, 0.00000000e+00,\n",
              "        1.00000000e+00, 0.00000000e+00, 0.00000000e+00, 1.00000000e+00,\n",
              "        1.00000000e+00, 0.00000000e+00, 0.00000000e+00, 0.00000000e+00,\n",
              "        0.00000000e+00, 1.00000000e+00, 1.00000000e+00, 0.00000000e+00,\n",
              "        0.00000000e+00, 0.00000000e+00],\n",
              "       [8.47222222e-01, 5.92924763e-02, 1.64597277e-01, 0.00000000e+00,\n",
              "        0.00000000e+00, 1.00000000e+00, 0.00000000e+00, 1.00000000e+00,\n",
              "        0.00000000e+00, 0.00000000e+00, 1.00000000e+00, 0.00000000e+00,\n",
              "        0.00000000e+00, 0.00000000e+00, 1.00000000e+00, 0.00000000e+00,\n",
              "        1.00000000e+00, 0.00000000e+00, 0.00000000e+00, 0.00000000e+00,\n",
              "        0.00000000e+00, 1.00000000e+00],\n",
              "       [9.72222222e-02, 1.04633782e-02, 1.45568890e-02, 1.00000000e+00,\n",
              "        0.00000000e+00, 0.00000000e+00, 0.00000000e+00, 1.00000000e+00,\n",
              "        0.00000000e+00, 0.00000000e+00, 1.00000000e+00, 0.00000000e+00,\n",
              "        0.00000000e+00, 0.00000000e+00, 1.00000000e+00, 0.00000000e+00,\n",
              "        1.00000000e+00, 0.00000000e+00, 0.00000000e+00, 0.00000000e+00,\n",
              "        0.00000000e+00, 1.00000000e+00],\n",
              "       [8.47222222e-01, 4.37468859e-01, 4.33885299e-01, 0.00000000e+00,\n",
              "        0.00000000e+00, 1.00000000e+00, 0.00000000e+00, 0.00000000e+00,\n",
              "        1.00000000e+00, 0.00000000e+00, 0.00000000e+00, 1.00000000e+00,\n",
              "        1.00000000e+00, 0.00000000e+00, 0.00000000e+00, 1.00000000e+00,\n",
              "        0.00000000e+00, 0.00000000e+00, 0.00000000e+00, 0.00000000e+00,\n",
              "        0.00000000e+00, 1.00000000e+00],\n",
              "       [1.66666667e-01, 4.88290982e-01, 9.38726056e-02, 1.00000000e+00,\n",
              "        0.00000000e+00, 0.00000000e+00, 0.00000000e+00, 0.00000000e+00,\n",
              "        1.00000000e+00, 0.00000000e+00, 0.00000000e+00, 1.00000000e+00,\n",
              "        1.00000000e+00, 0.00000000e+00, 0.00000000e+00, 0.00000000e+00,\n",
              "        0.00000000e+00, 1.00000000e+00, 0.00000000e+00, 0.00000000e+00,\n",
              "        1.00000000e+00, 0.00000000e+00],\n",
              "       [1.38888889e-02, 2.19232686e-02, 1.90399261e-04, 1.00000000e+00,\n",
              "        0.00000000e+00, 0.00000000e+00, 0.00000000e+00, 1.00000000e+00,\n",
              "        0.00000000e+00, 0.00000000e+00, 1.00000000e+00, 0.00000000e+00,\n",
              "        0.00000000e+00, 0.00000000e+00, 1.00000000e+00, 0.00000000e+00,\n",
              "        1.00000000e+00, 0.00000000e+00, 0.00000000e+00, 0.00000000e+00,\n",
              "        0.00000000e+00, 1.00000000e+00],\n",
              "       [7.91666667e-01, 1.24564026e-02, 1.32564043e-01, 0.00000000e+00,\n",
              "        0.00000000e+00, 1.00000000e+00, 0.00000000e+00, 1.00000000e+00,\n",
              "        0.00000000e+00, 0.00000000e+00, 1.00000000e+00, 0.00000000e+00,\n",
              "        0.00000000e+00, 0.00000000e+00, 1.00000000e+00, 0.00000000e+00,\n",
              "        1.00000000e+00, 0.00000000e+00, 1.00000000e+00, 0.00000000e+00,\n",
              "        0.00000000e+00, 0.00000000e+00],\n",
              "       [6.94444444e-01, 8.82411560e-01, 6.14949227e-01, 0.00000000e+00,\n",
              "        1.00000000e+00, 0.00000000e+00, 0.00000000e+00, 0.00000000e+00,\n",
              "        1.00000000e+00, 1.00000000e+00, 0.00000000e+00, 0.00000000e+00,\n",
              "        0.00000000e+00, 1.00000000e+00, 0.00000000e+00, 0.00000000e+00,\n",
              "        0.00000000e+00, 1.00000000e+00, 0.00000000e+00, 0.00000000e+00,\n",
              "        1.00000000e+00, 0.00000000e+00],\n",
              "       [1.38888889e-02, 1.89337319e-02, 1.55781214e-04, 1.00000000e+00,\n",
              "        0.00000000e+00, 0.00000000e+00, 0.00000000e+00, 1.00000000e+00,\n",
              "        0.00000000e+00, 0.00000000e+00, 1.00000000e+00, 0.00000000e+00,\n",
              "        0.00000000e+00, 0.00000000e+00, 1.00000000e+00, 0.00000000e+00,\n",
              "        1.00000000e+00, 0.00000000e+00, 0.00000000e+00, 0.00000000e+00,\n",
              "        0.00000000e+00, 1.00000000e+00],\n",
              "       [7.22222222e-01, 1.39511709e-02, 1.04961920e-01, 0.00000000e+00,\n",
              "        1.00000000e+00, 0.00000000e+00, 0.00000000e+00, 1.00000000e+00,\n",
              "        0.00000000e+00, 0.00000000e+00, 1.00000000e+00, 0.00000000e+00,\n",
              "        0.00000000e+00, 0.00000000e+00, 1.00000000e+00, 0.00000000e+00,\n",
              "        1.00000000e+00, 0.00000000e+00, 0.00000000e+00, 1.00000000e+00,\n",
              "        0.00000000e+00, 0.00000000e+00],\n",
              "       [1.00000000e+00, 4.52914798e-01, 5.13039465e-01, 0.00000000e+00,\n",
              "        0.00000000e+00, 1.00000000e+00, 0.00000000e+00, 0.00000000e+00,\n",
              "        1.00000000e+00, 0.00000000e+00, 0.00000000e+00, 1.00000000e+00,\n",
              "        1.00000000e+00, 0.00000000e+00, 0.00000000e+00, 0.00000000e+00,\n",
              "        0.00000000e+00, 1.00000000e+00, 1.00000000e+00, 0.00000000e+00,\n",
              "        0.00000000e+00, 0.00000000e+00],\n",
              "       [1.38888889e-02, 5.06726457e-01, 5.80429264e-03, 1.00000000e+00,\n",
              "        0.00000000e+00, 0.00000000e+00, 1.00000000e+00, 0.00000000e+00,\n",
              "        0.00000000e+00, 1.00000000e+00, 0.00000000e+00, 0.00000000e+00,\n",
              "        0.00000000e+00, 1.00000000e+00, 0.00000000e+00, 1.00000000e+00,\n",
              "        0.00000000e+00, 0.00000000e+00, 0.00000000e+00, 0.00000000e+00,\n",
              "        0.00000000e+00, 1.00000000e+00],\n",
              "       [3.33333333e-01, 5.76482312e-01, 1.95465036e-01, 1.00000000e+00,\n",
              "        0.00000000e+00, 0.00000000e+00, 1.00000000e+00, 0.00000000e+00,\n",
              "        0.00000000e+00, 1.00000000e+00, 0.00000000e+00, 0.00000000e+00,\n",
              "        0.00000000e+00, 1.00000000e+00, 0.00000000e+00, 1.00000000e+00,\n",
              "        0.00000000e+00, 0.00000000e+00, 0.00000000e+00, 0.00000000e+00,\n",
              "        1.00000000e+00, 0.00000000e+00],\n",
              "       [4.72222222e-01, 1.84354758e-02, 7.65405031e-02, 0.00000000e+00,\n",
              "        1.00000000e+00, 0.00000000e+00, 0.00000000e+00, 1.00000000e+00,\n",
              "        0.00000000e+00, 0.00000000e+00, 1.00000000e+00, 0.00000000e+00,\n",
              "        0.00000000e+00, 0.00000000e+00, 1.00000000e+00, 0.00000000e+00,\n",
              "        1.00000000e+00, 0.00000000e+00, 1.00000000e+00, 0.00000000e+00,\n",
              "        0.00000000e+00, 0.00000000e+00],\n",
              "       [2.91666667e-01, 2.59093174e-02, 4.80556197e-02, 0.00000000e+00,\n",
              "        0.00000000e+00, 1.00000000e+00, 0.00000000e+00, 1.00000000e+00,\n",
              "        0.00000000e+00, 0.00000000e+00, 1.00000000e+00, 0.00000000e+00,\n",
              "        0.00000000e+00, 0.00000000e+00, 1.00000000e+00, 0.00000000e+00,\n",
              "        1.00000000e+00, 0.00000000e+00, 0.00000000e+00, 1.00000000e+00,\n",
              "        0.00000000e+00, 0.00000000e+00],\n",
              "       [1.38888889e-01, 6.71150972e-01, 9.17435957e-02, 1.00000000e+00,\n",
              "        0.00000000e+00, 0.00000000e+00, 1.00000000e+00, 0.00000000e+00,\n",
              "        0.00000000e+00, 1.00000000e+00, 0.00000000e+00, 0.00000000e+00,\n",
              "        0.00000000e+00, 1.00000000e+00, 0.00000000e+00, 1.00000000e+00,\n",
              "        0.00000000e+00, 0.00000000e+00, 0.00000000e+00, 0.00000000e+00,\n",
              "        1.00000000e+00, 0.00000000e+00],\n",
              "       [3.19444444e-01, 1.54459392e-02, 5.15405031e-02, 0.00000000e+00,\n",
              "        1.00000000e+00, 0.00000000e+00, 0.00000000e+00, 1.00000000e+00,\n",
              "        0.00000000e+00, 0.00000000e+00, 1.00000000e+00, 0.00000000e+00,\n",
              "        0.00000000e+00, 0.00000000e+00, 1.00000000e+00, 0.00000000e+00,\n",
              "        1.00000000e+00, 0.00000000e+00, 0.00000000e+00, 0.00000000e+00,\n",
              "        0.00000000e+00, 1.00000000e+00],\n",
              "       [5.55555556e-02, 2.02291978e-01, 1.58435264e-02, 1.00000000e+00,\n",
              "        0.00000000e+00, 0.00000000e+00, 1.00000000e+00, 0.00000000e+00,\n",
              "        0.00000000e+00, 0.00000000e+00, 0.00000000e+00, 1.00000000e+00,\n",
              "        1.00000000e+00, 0.00000000e+00, 0.00000000e+00, 1.00000000e+00,\n",
              "        0.00000000e+00, 0.00000000e+00, 0.00000000e+00, 1.00000000e+00,\n",
              "        0.00000000e+00, 0.00000000e+00]])"
            ]
          },
          "metadata": {},
          "execution_count": 121
        }
      ]
    },
    {
      "cell_type": "markdown",
      "source": [
        "Prediksi dataset inference menggunakan model ANN Sequential API dan Functional API"
      ],
      "metadata": {
        "id": "GbmYQKhH9XfE"
      }
    },
    {
      "cell_type": "code",
      "source": [
        "# Predict using ANN Sequential API\n",
        "y_seq_pred_inf = model_ann_seq.predict(df_inf_transform)\n",
        "y_seq_pred_inf = np.where(y_seq_pred_inf >= 0.5, 1, 0)\n",
        "y_seq_pred_inf"
      ],
      "metadata": {
        "colab": {
          "base_uri": "https://localhost:8080/"
        },
        "id": "bJvdUomL3qdi",
        "outputId": "1dc0bb00-6ced-479b-cebc-74a555d665f4"
      },
      "execution_count": 122,
      "outputs": [
        {
          "output_type": "stream",
          "name": "stdout",
          "text": [
            "1/1 [==============================] - 0s 144ms/step\n"
          ]
        },
        {
          "output_type": "execute_result",
          "data": {
            "text/plain": [
              "array([[0],\n",
              "       [0],\n",
              "       [0],\n",
              "       [0],\n",
              "       [0],\n",
              "       [0],\n",
              "       [0],\n",
              "       [0],\n",
              "       [0],\n",
              "       [0],\n",
              "       [0],\n",
              "       [0],\n",
              "       [0],\n",
              "       [1],\n",
              "       [1],\n",
              "       [0],\n",
              "       [0],\n",
              "       [1],\n",
              "       [0],\n",
              "       [1]])"
            ]
          },
          "metadata": {},
          "execution_count": 122
        }
      ]
    },
    {
      "cell_type": "code",
      "source": [
        "# Predict using ANN Functional API\n",
        "y_fun_pred_inf = model_ann_fun.predict(df_inf_transform)\n",
        "y_fun_pred_inf = np.where(y_fun_pred_inf >= 0.5, 1, 0)\n",
        "y_fun_pred_inf"
      ],
      "metadata": {
        "colab": {
          "base_uri": "https://localhost:8080/"
        },
        "id": "Sp1DfyzO80Hi",
        "outputId": "c790a7d1-fe51-4e24-af05-bc43bb83c0b6"
      },
      "execution_count": 123,
      "outputs": [
        {
          "output_type": "stream",
          "name": "stdout",
          "text": [
            "1/1 [==============================] - 0s 86ms/step\n"
          ]
        },
        {
          "output_type": "execute_result",
          "data": {
            "text/plain": [
              "array([[0],\n",
              "       [0],\n",
              "       [0],\n",
              "       [0],\n",
              "       [0],\n",
              "       [0],\n",
              "       [0],\n",
              "       [0],\n",
              "       [0],\n",
              "       [0],\n",
              "       [0],\n",
              "       [0],\n",
              "       [0],\n",
              "       [1],\n",
              "       [1],\n",
              "       [0],\n",
              "       [0],\n",
              "       [1],\n",
              "       [0],\n",
              "       [1]])"
            ]
          },
          "metadata": {},
          "execution_count": 123
        }
      ]
    },
    {
      "cell_type": "markdown",
      "source": [
        "Buat dataset target inference:"
      ],
      "metadata": {
        "id": "eB7j7k7j9nP-"
      }
    },
    {
      "cell_type": "code",
      "source": [
        "# Buat target inference\n",
        "y_inf = df_inf['Churn']\n",
        "# Replace nilai Yes dan No menjadi 1 dan 0\n",
        "y_inf = y_inf.replace(['Yes','No'],[1,0])"
      ],
      "metadata": {
        "id": "l2qEOoZI8tjO"
      },
      "execution_count": 124,
      "outputs": []
    },
    {
      "cell_type": "markdown",
      "source": [
        "Selanjutnya print classification report masing2 model pada dataset inference:"
      ],
      "metadata": {
        "id": "FNajPRFv9vO2"
      }
    },
    {
      "cell_type": "code",
      "source": [
        "# Print classification report untuk model sequential\n",
        "print(classification_report(y_inf, y_seq_pred_inf))"
      ],
      "metadata": {
        "colab": {
          "base_uri": "https://localhost:8080/"
        },
        "id": "Rrc8mVlz8Lww",
        "outputId": "9e6e04a5-0f7a-48cb-bf49-353c80aeef9e"
      },
      "execution_count": 125,
      "outputs": [
        {
          "output_type": "stream",
          "name": "stdout",
          "text": [
            "              precision    recall  f1-score   support\n",
            "\n",
            "           0       0.94      0.94      0.94        16\n",
            "           1       0.75      0.75      0.75         4\n",
            "\n",
            "    accuracy                           0.90        20\n",
            "   macro avg       0.84      0.84      0.84        20\n",
            "weighted avg       0.90      0.90      0.90        20\n",
            "\n"
          ]
        }
      ]
    },
    {
      "cell_type": "code",
      "source": [
        "# Print classification report untuk model functional\n",
        "print(classification_report(y_inf, y_fun_pred_inf))"
      ],
      "metadata": {
        "colab": {
          "base_uri": "https://localhost:8080/"
        },
        "id": "WlHlE64U87kn",
        "outputId": "91aca2aa-0d12-47ff-9e9d-3d7e6df87dcf"
      },
      "execution_count": 126,
      "outputs": [
        {
          "output_type": "stream",
          "name": "stdout",
          "text": [
            "              precision    recall  f1-score   support\n",
            "\n",
            "           0       0.94      0.94      0.94        16\n",
            "           1       0.75      0.75      0.75         4\n",
            "\n",
            "    accuracy                           0.90        20\n",
            "   macro avg       0.84      0.84      0.84        20\n",
            "weighted avg       0.90      0.90      0.90        20\n",
            "\n"
          ]
        }
      ]
    },
    {
      "cell_type": "markdown",
      "source": [
        "Hasil f1-score lebih baik daripada pada test set. Mungkin hal ini krn sampelnya hanya sedikit. Namun ini berarti performance model sudah cukup valid."
      ],
      "metadata": {
        "id": "77n2jaMT99Zp"
      }
    },
    {
      "cell_type": "markdown",
      "source": [
        "# XII. Kesimpulan"
      ],
      "metadata": {
        "id": "ojVTNegOrBgt"
      }
    },
    {
      "cell_type": "markdown",
      "source": [
        "Faktor utama yg mempengaruhi keputusan user utk churn adalah harga dan kualitas layanan. User yg membayar monthly charges lbh besar cenderung akan churn dgn masa kontrak (tenure) lbh singkat jika layanannya tdk sesuai ekspektasi. Meskipun layanan fiber optic lbh disukai oleh user krn berteknologi lbh tinggi, teknologi fiber optic bisa menyebabkan kompleksitas dlm penggunaannya dan tanpa diimbangi oleh technical support yg baik akan menyebabkan user utk churn. Di sisi lain, sebagian besar user yg churn memilih kontrak bulanan dibandingkan tahunan. Hal ini menandakan user masih mencoba2 layanan telekomunikasi sehingga jika mereka tdk puas dgn layanan atau menemukan layanan dari provider lain yg lbh baik mereka akan churn. \n",
        "\n",
        "Pada model ANN dgn Sequential API sebelum improvement digunakan skema input layer (5 neuron, relu), batch normalization,1 hidden layer (10 neuron, relu), batch normalization, dropout(0.2)  dan output layer (1 neuron, sigmoid). Hasil plot grafik accuracy ditemukan gap antara validation dan training set cukup lebar. Accuracy utk validation set lbh besar menandakan terjadinya underfit. Kedua grafik meningkat tajam sampai epoch 3, kemudian sedikit melandai. Terjadi exploding pada validation set pada epoch >15. Hasil plot grafik loss juga ditemukan gap antara validation dan training set cukup lebar. Penurunan drastic terjadi pada epoch 1-3 dimana model mengalami underfit. Secara general model mengalami underfitting krn loss function pada validation set berada jauh dibawah training set.\n",
        "\n",
        "Model improvement dilakukan pada Sequential API menggunakan skema input layer (5 neuron, relu, regularizer=l2), 1 hidden layer (100 neuron, relu) dan output layer (1 neuron, sigmoid). Hasil plot grafik accuracy menandakan terjadinya sedikit overfitting, namun gap antara validation dan training set menyempit. Kedua grafik meningkat tajam sampai epoch 3, kemudian sedikit melandai. Tidak terdapat exploding gradient. Hasil plot grafik loss menunjukkan hasil yg baik dgn kedua grafik berimpitan. Penurunan drastic terjadi pada epoch 1-3 dimana model mengalami underfit. Namun, tidak terdapat exploding dan vanishing gradient.\n",
        "\n",
        "Model Sequential API memiliki f-1 score scr macro sebesar 0.74. f-1 score lebih baik pada label 0 (0.85) dibandingkan label 1 (0.62) meskipun handling imbalance telah dilakukan. Nilai precision dan recall secara macro adlh 0.74. Hasil classification report relative tdk berubah setelah improvement.\n",
        "\n",
        "Pada model ANN dgn Functional API sebelum improvement digunakan skema input layer (5 neuron, relu), batch normalization, batch normalization, dropout(0.2), 1 hidden layer (10 neuron, relu) dan output layer (1 neuron, sigmoid). Hasil plot grafik accuracy ditemukan gap antara validation dan training set semakin melebar seiring bertambahnya epoch. Accuracy utk training set lbh besar dari validation set menandakan terjadinya underfit. Kedua grafik meningkat tajam sampai epoch 3, kemudian melandai. Terjadi exploding dan vanishing gradient pada validation set. Hasil plot grafik loss juga ditemukan gap antara validation dan training set yg semakin melebar. Penurunan drastic terjadi pada epoch 1-3 dimana model mengalami underfit. Namun, secara keseluruhan epoch, model mengalami overfit krn kemudian grafik loss validation set melandai diatas grafik loss training set. Terjadi exploding dan vanishing gradient pada validation set.\n",
        "\n",
        "Model improvement dilakukan pada Functional API menggunakan skema input layer (5 neuron, relu, regularizer=l2, initializer=glorot_normal), 1 hidden layer (100 neuron, relu) dan output layer (1 neuron, sigmoid). Hasil plot grafik accuracy awalnya menandakan terjadinya  overfitting, namun gap antara validation dan training set semakin menyempit. Grafik training setmeningkat tajam sampai epoch 3, kemudian sedikit melandai. Tidak terdapat exploding gradient. Hasil plot grafik loss menunjukkan hasil yg baik dgn kedua grafik berimpitan. Penurunan drastic terjadi pada epoch 1-3 dimana model mengalami underfit. Namun, tidak terdapat exploding dan vanishing gradient.\n",
        "\n",
        "f-1 score utk Functional API lbh buruk (0.71) dibandingkan Sequential API (0.74). Nilai terburuk didapatkan pada precision utk label 1 (0.51) kemudian recall utk label 0 (0.69), sehingga prediksi model kurang dapat dipercaya utk prediksi label 1.\n",
        "\n",
        "Kesimpulannya, model dgn Sequential API hasil improvement menghasilkan performance terbaik. Meskipun improvement tdk mengubah hasil classification report, tetapi memperbaiki proses training model pada setiap epoch-nya. Selain itu, model lbh baik dalam memprediksi label 0 dibandingkan label 1. Hal ini tdk critical pada case customer churning pada perusahaan telekomunikasi, krn artinya model akan memprediksi customer utk tidak churn padahal sebenarnya churn. Kesalahan ini masih dapat ditolerir selama model tidak menolak customer baru yg potensial.\n"
      ],
      "metadata": {
        "id": "CYEQGgGA5oBZ"
      }
    }
  ]
}