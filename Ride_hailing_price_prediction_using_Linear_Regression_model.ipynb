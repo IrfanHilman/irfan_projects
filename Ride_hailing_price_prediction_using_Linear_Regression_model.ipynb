{
  "nbformat": 4,
  "nbformat_minor": 0,
  "metadata": {
    "colab": {
      "provenance": [],
      "collapsed_sections": [
        "vWukVuVO0zlY",
        "rK1CqZzK05Qa"
      ]
    },
    "kernelspec": {
      "name": "python3",
      "display_name": "Python 3"
    },
    "language_info": {
      "name": "python"
    }
  },
  "cells": [
    {
      "cell_type": "markdown",
      "source": [
        "Muhammad Irfan Hilman\n",
        "\n",
        "FTDS Batch 16"
      ],
      "metadata": {
        "id": "RzWeDrX2m8vq"
      }
    },
    {
      "cell_type": "markdown",
      "source": [
        "# I. PERKENALAN"
      ],
      "metadata": {
        "id": "tKWMtXv80lVK"
      }
    },
    {
      "cell_type": "markdown",
      "source": [
        "\n",
        "Problem Statement:\n",
        "\n",
        "1. Melakukan exploratory data analysis (EDA) terhadap dataset perjalanan ride-hailing (bisa diunduh disini https://www.kaggle.com/datasets/brllrb/uber-and-lyft-dataset-boston-ma)\n",
        "\n",
        "2. Membuat model prediksi harga perjalanan ride-hailing menggunakan metodel Linear Regression\n",
        "\n",
        "3. Melakukan evaluasi performance model dan menarik kesimpulan\n",
        "\n",
        "Pengerjaan akan menggunakan Google Colab"
      ],
      "metadata": {
        "id": "XWIt1kNwkQIL"
      }
    },
    {
      "cell_type": "markdown",
      "source": [
        "# II. IMPORT LIBRARY"
      ],
      "metadata": {
        "id": "9B-N1vhr0urj"
      }
    },
    {
      "cell_type": "markdown",
      "source": [
        "Melakukan import library yang akan digunakan pada projek ini"
      ],
      "metadata": {
        "id": "K697suR2lT5-"
      }
    },
    {
      "cell_type": "code",
      "source": [
        "# Import libraries\n",
        "import numpy as np\n",
        "import pandas as pd\n",
        "import matplotlib.pyplot as plt\n",
        "import seaborn as sns\n",
        "from sklearn import preprocessing\n",
        "from sklearn.preprocessing import OneHotEncoder\n",
        "from sklearn.model_selection import train_test_split\n",
        "from sklearn.linear_model import LinearRegression, Ridge, Lasso\n",
        "from sklearn.metrics import mean_absolute_error,mean_squared_error,r2_score"
      ],
      "metadata": {
        "id": "WKfYdwer1h5e"
      },
      "execution_count": 71,
      "outputs": []
    },
    {
      "cell_type": "markdown",
      "source": [
        "# III. DATA LOADING"
      ],
      "metadata": {
        "id": "vWukVuVO0zlY"
      }
    },
    {
      "cell_type": "markdown",
      "source": [
        "Establish connection antara Google Colab dan Kaggle"
      ],
      "metadata": {
        "id": "j2h7iH7HlhFd"
      }
    },
    {
      "cell_type": "code",
      "source": [
        "! pip install kaggle"
      ],
      "metadata": {
        "colab": {
          "base_uri": "https://localhost:8080/"
        },
        "id": "yrhgokPfcGYX",
        "outputId": "b43182f9-11aa-4135-b41c-275113fe01dd"
      },
      "execution_count": 2,
      "outputs": [
        {
          "output_type": "stream",
          "name": "stdout",
          "text": [
            "Looking in indexes: https://pypi.org/simple, https://us-python.pkg.dev/colab-wheels/public/simple/\n",
            "Requirement already satisfied: kaggle in /usr/local/lib/python3.8/dist-packages (1.5.12)\n",
            "Requirement already satisfied: tqdm in /usr/local/lib/python3.8/dist-packages (from kaggle) (4.64.1)\n",
            "Requirement already satisfied: six>=1.10 in /usr/local/lib/python3.8/dist-packages (from kaggle) (1.15.0)\n",
            "Requirement already satisfied: urllib3 in /usr/local/lib/python3.8/dist-packages (from kaggle) (1.24.3)\n",
            "Requirement already satisfied: certifi in /usr/local/lib/python3.8/dist-packages (from kaggle) (2022.9.24)\n",
            "Requirement already satisfied: python-slugify in /usr/local/lib/python3.8/dist-packages (from kaggle) (7.0.0)\n",
            "Requirement already satisfied: python-dateutil in /usr/local/lib/python3.8/dist-packages (from kaggle) (2.8.2)\n",
            "Requirement already satisfied: requests in /usr/local/lib/python3.8/dist-packages (from kaggle) (2.23.0)\n",
            "Requirement already satisfied: text-unidecode>=1.3 in /usr/local/lib/python3.8/dist-packages (from python-slugify->kaggle) (1.3)\n",
            "Requirement already satisfied: chardet<4,>=3.0.2 in /usr/local/lib/python3.8/dist-packages (from requests->kaggle) (3.0.4)\n",
            "Requirement already satisfied: idna<3,>=2.5 in /usr/local/lib/python3.8/dist-packages (from requests->kaggle) (2.10)\n"
          ]
        }
      ]
    },
    {
      "cell_type": "code",
      "source": [
        "! mkdir ~/.kaggle"
      ],
      "metadata": {
        "id": "uitttGescLWF"
      },
      "execution_count": 3,
      "outputs": []
    },
    {
      "cell_type": "code",
      "source": [
        "! cp kaggle.json ~/.kaggle/"
      ],
      "metadata": {
        "id": "Ic_Vw7yQcOHJ"
      },
      "execution_count": 4,
      "outputs": []
    },
    {
      "cell_type": "code",
      "source": [
        "! chmod 600 ~/.kaggle/kaggle.json"
      ],
      "metadata": {
        "id": "5RCEmdUdcQjZ"
      },
      "execution_count": 5,
      "outputs": []
    },
    {
      "cell_type": "code",
      "source": [
        "! kaggle datasets download brllrb/uber-and-lyft-dataset-boston-ma"
      ],
      "metadata": {
        "colab": {
          "base_uri": "https://localhost:8080/"
        },
        "id": "GLHPbpRvcXlI",
        "outputId": "78229415-ed5f-4812-f63e-e3b091f598b1"
      },
      "execution_count": 6,
      "outputs": [
        {
          "output_type": "stream",
          "name": "stdout",
          "text": [
            "Downloading uber-and-lyft-dataset-boston-ma.zip to /content\n",
            " 56% 25.0M/44.5M [00:00<00:00, 129MB/s]\n",
            "100% 44.5M/44.5M [00:00<00:00, 166MB/s]\n"
          ]
        }
      ]
    },
    {
      "cell_type": "code",
      "source": [
        "! unzip uber-and-lyft-dataset-boston-ma"
      ],
      "metadata": {
        "colab": {
          "base_uri": "https://localhost:8080/"
        },
        "id": "-nhHMZhvctMs",
        "outputId": "b81ec3d2-7636-41a2-83da-e8a2284fe615"
      },
      "execution_count": 7,
      "outputs": [
        {
          "output_type": "stream",
          "name": "stdout",
          "text": [
            "Archive:  uber-and-lyft-dataset-boston-ma.zip\n",
            "  inflating: rideshare_kaggle.csv    \n"
          ]
        }
      ]
    },
    {
      "cell_type": "code",
      "source": [
        "# Loading dataset rideshare_kaggle.csv dan store ke dalam df\n",
        "df = pd.read_csv('/content/rideshare_kaggle.csv')\n",
        "\n",
        "# Tampilkan seluruh kolom dan 3 baris pertama\n",
        "pd.options.display.max_columns = None\n",
        "df.head(5)"
      ],
      "metadata": {
        "colab": {
          "base_uri": "https://localhost:8080/",
          "height": 531
        },
        "id": "gTSGmfDU1xoR",
        "outputId": "bb1d474a-cdf3-43c3-fba9-72b2ea0ea548"
      },
      "execution_count": 8,
      "outputs": [
        {
          "output_type": "execute_result",
          "data": {
            "text/plain": [
              "                                     id     timestamp  hour  day  month  \\\n",
              "0  424553bb-7174-41ea-aeb4-fe06d4f4b9d7  1.544953e+09     9   16     12   \n",
              "1  4bd23055-6827-41c6-b23b-3c491f24e74d  1.543284e+09     2   27     11   \n",
              "2  981a3613-77af-4620-a42a-0c0866077d1e  1.543367e+09     1   28     11   \n",
              "3  c2d88af2-d278-4bfd-a8d0-29ca77cc5512  1.543554e+09     4   30     11   \n",
              "4  e0126e1f-8ca9-4f2e-82b3-50505a09db9a  1.543463e+09     3   29     11   \n",
              "\n",
              "              datetime          timezone            source    destination  \\\n",
              "0  2018-12-16 09:30:07  America/New_York  Haymarket Square  North Station   \n",
              "1  2018-11-27 02:00:23  America/New_York  Haymarket Square  North Station   \n",
              "2  2018-11-28 01:00:22  America/New_York  Haymarket Square  North Station   \n",
              "3  2018-11-30 04:53:02  America/New_York  Haymarket Square  North Station   \n",
              "4  2018-11-29 03:49:20  America/New_York  Haymarket Square  North Station   \n",
              "\n",
              "  cab_type    product_id          name  price  distance  surge_multiplier  \\\n",
              "0     Lyft     lyft_line        Shared    5.0      0.44               1.0   \n",
              "1     Lyft  lyft_premier           Lux   11.0      0.44               1.0   \n",
              "2     Lyft          lyft          Lyft    7.0      0.44               1.0   \n",
              "3     Lyft   lyft_luxsuv  Lux Black XL   26.0      0.44               1.0   \n",
              "4     Lyft     lyft_plus       Lyft XL    9.0      0.44               1.0   \n",
              "\n",
              "   latitude  longitude  temperature  apparentTemperature    short_summary  \\\n",
              "0   42.2148    -71.033        42.34                37.12   Mostly Cloudy    \n",
              "1   42.2148    -71.033        43.58                37.35            Rain    \n",
              "2   42.2148    -71.033        38.33                32.93           Clear    \n",
              "3   42.2148    -71.033        34.38                29.63           Clear    \n",
              "4   42.2148    -71.033        37.44                30.88   Partly Cloudy    \n",
              "\n",
              "                                        long_summary  precipIntensity  \\\n",
              "0                          Rain throughout the day.            0.0000   \n",
              "1   Rain until morning, starting again in the eve...           0.1299   \n",
              "2                        Light rain in the morning.            0.0000   \n",
              "3                 Partly cloudy throughout the day.            0.0000   \n",
              "4                 Mostly cloudy throughout the day.            0.0000   \n",
              "\n",
              "   precipProbability  humidity  windSpeed  windGust  windGustTime  visibility  \\\n",
              "0                0.0      0.68       8.66      9.17    1545015600      10.000   \n",
              "1                1.0      0.94      11.98     11.98    1543291200       4.786   \n",
              "2                0.0      0.75       7.33      7.33    1543334400      10.000   \n",
              "3                0.0      0.73       5.28      5.28    1543514400      10.000   \n",
              "4                0.0      0.70       9.14      9.14    1543446000      10.000   \n",
              "\n",
              "   temperatureHigh  temperatureHighTime  temperatureLow  temperatureLowTime  \\\n",
              "0            43.68           1544968800           34.19          1545048000   \n",
              "1            47.30           1543251600           42.10          1543298400   \n",
              "2            47.55           1543320000           33.10          1543402800   \n",
              "3            45.03           1543510800           28.90          1543579200   \n",
              "4            42.18           1543420800           36.71          1543478400   \n",
              "\n",
              "   apparentTemperatureHigh  apparentTemperatureHighTime  \\\n",
              "0                    37.95                   1544968800   \n",
              "1                    43.92                   1543251600   \n",
              "2                    44.12                   1543320000   \n",
              "3                    38.53                   1543510800   \n",
              "4                    35.75                   1543420800   \n",
              "\n",
              "   apparentTemperatureLow  apparentTemperatureLowTime                   icon  \\\n",
              "0                   27.39                  1545044400   partly-cloudy-night    \n",
              "1                   36.20                  1543291200                  rain    \n",
              "2                   29.11                  1543392000           clear-night    \n",
              "3                   26.20                  1543575600           clear-night    \n",
              "4                   30.29                  1543460400   partly-cloudy-night    \n",
              "\n",
              "   dewPoint  pressure  windBearing  cloudCover  uvIndex  visibility.1  ozone  \\\n",
              "0     32.70   1021.98           57        0.72        0        10.000  303.8   \n",
              "1     41.83   1003.97           90        1.00        0         4.786  291.1   \n",
              "2     31.10    992.28          240        0.03        0        10.000  315.7   \n",
              "3     26.64   1013.73          310        0.00        0        10.000  291.1   \n",
              "4     28.61    998.36          303        0.44        0        10.000  347.7   \n",
              "\n",
              "   sunriseTime  sunsetTime  moonPhase  precipIntensityMax  uvIndexTime  \\\n",
              "0   1544962084  1544994864       0.30              0.1276   1544979600   \n",
              "1   1543232969  1543266992       0.64              0.1300   1543251600   \n",
              "2   1543319437  1543353364       0.68              0.1064   1543338000   \n",
              "3   1543492370  1543526114       0.75              0.0000   1543507200   \n",
              "4   1543405904  1543439738       0.72              0.0001   1543420800   \n",
              "\n",
              "   temperatureMin  temperatureMinTime  temperatureMax  temperatureMaxTime  \\\n",
              "0           39.89          1545012000           43.68          1544968800   \n",
              "1           40.49          1543233600           47.30          1543251600   \n",
              "2           35.36          1543377600           47.55          1543320000   \n",
              "3           34.67          1543550400           45.03          1543510800   \n",
              "4           33.10          1543402800           42.18          1543420800   \n",
              "\n",
              "   apparentTemperatureMin  apparentTemperatureMinTime  apparentTemperatureMax  \\\n",
              "0                   33.73                  1545012000                   38.07   \n",
              "1                   36.20                  1543291200                   43.92   \n",
              "2                   31.04                  1543377600                   44.12   \n",
              "3                   30.30                  1543550400                   38.53   \n",
              "4                   29.11                  1543392000                   35.75   \n",
              "\n",
              "   apparentTemperatureMaxTime  \n",
              "0                  1544958000  \n",
              "1                  1543251600  \n",
              "2                  1543320000  \n",
              "3                  1543510800  \n",
              "4                  1543420800  "
            ],
            "text/html": [
              "\n",
              "  <div id=\"df-c034b789-5e45-4a10-b3ac-15e347ca35fb\">\n",
              "    <div class=\"colab-df-container\">\n",
              "      <div>\n",
              "<style scoped>\n",
              "    .dataframe tbody tr th:only-of-type {\n",
              "        vertical-align: middle;\n",
              "    }\n",
              "\n",
              "    .dataframe tbody tr th {\n",
              "        vertical-align: top;\n",
              "    }\n",
              "\n",
              "    .dataframe thead th {\n",
              "        text-align: right;\n",
              "    }\n",
              "</style>\n",
              "<table border=\"1\" class=\"dataframe\">\n",
              "  <thead>\n",
              "    <tr style=\"text-align: right;\">\n",
              "      <th></th>\n",
              "      <th>id</th>\n",
              "      <th>timestamp</th>\n",
              "      <th>hour</th>\n",
              "      <th>day</th>\n",
              "      <th>month</th>\n",
              "      <th>datetime</th>\n",
              "      <th>timezone</th>\n",
              "      <th>source</th>\n",
              "      <th>destination</th>\n",
              "      <th>cab_type</th>\n",
              "      <th>product_id</th>\n",
              "      <th>name</th>\n",
              "      <th>price</th>\n",
              "      <th>distance</th>\n",
              "      <th>surge_multiplier</th>\n",
              "      <th>latitude</th>\n",
              "      <th>longitude</th>\n",
              "      <th>temperature</th>\n",
              "      <th>apparentTemperature</th>\n",
              "      <th>short_summary</th>\n",
              "      <th>long_summary</th>\n",
              "      <th>precipIntensity</th>\n",
              "      <th>precipProbability</th>\n",
              "      <th>humidity</th>\n",
              "      <th>windSpeed</th>\n",
              "      <th>windGust</th>\n",
              "      <th>windGustTime</th>\n",
              "      <th>visibility</th>\n",
              "      <th>temperatureHigh</th>\n",
              "      <th>temperatureHighTime</th>\n",
              "      <th>temperatureLow</th>\n",
              "      <th>temperatureLowTime</th>\n",
              "      <th>apparentTemperatureHigh</th>\n",
              "      <th>apparentTemperatureHighTime</th>\n",
              "      <th>apparentTemperatureLow</th>\n",
              "      <th>apparentTemperatureLowTime</th>\n",
              "      <th>icon</th>\n",
              "      <th>dewPoint</th>\n",
              "      <th>pressure</th>\n",
              "      <th>windBearing</th>\n",
              "      <th>cloudCover</th>\n",
              "      <th>uvIndex</th>\n",
              "      <th>visibility.1</th>\n",
              "      <th>ozone</th>\n",
              "      <th>sunriseTime</th>\n",
              "      <th>sunsetTime</th>\n",
              "      <th>moonPhase</th>\n",
              "      <th>precipIntensityMax</th>\n",
              "      <th>uvIndexTime</th>\n",
              "      <th>temperatureMin</th>\n",
              "      <th>temperatureMinTime</th>\n",
              "      <th>temperatureMax</th>\n",
              "      <th>temperatureMaxTime</th>\n",
              "      <th>apparentTemperatureMin</th>\n",
              "      <th>apparentTemperatureMinTime</th>\n",
              "      <th>apparentTemperatureMax</th>\n",
              "      <th>apparentTemperatureMaxTime</th>\n",
              "    </tr>\n",
              "  </thead>\n",
              "  <tbody>\n",
              "    <tr>\n",
              "      <th>0</th>\n",
              "      <td>424553bb-7174-41ea-aeb4-fe06d4f4b9d7</td>\n",
              "      <td>1.544953e+09</td>\n",
              "      <td>9</td>\n",
              "      <td>16</td>\n",
              "      <td>12</td>\n",
              "      <td>2018-12-16 09:30:07</td>\n",
              "      <td>America/New_York</td>\n",
              "      <td>Haymarket Square</td>\n",
              "      <td>North Station</td>\n",
              "      <td>Lyft</td>\n",
              "      <td>lyft_line</td>\n",
              "      <td>Shared</td>\n",
              "      <td>5.0</td>\n",
              "      <td>0.44</td>\n",
              "      <td>1.0</td>\n",
              "      <td>42.2148</td>\n",
              "      <td>-71.033</td>\n",
              "      <td>42.34</td>\n",
              "      <td>37.12</td>\n",
              "      <td>Mostly Cloudy</td>\n",
              "      <td>Rain throughout the day.</td>\n",
              "      <td>0.0000</td>\n",
              "      <td>0.0</td>\n",
              "      <td>0.68</td>\n",
              "      <td>8.66</td>\n",
              "      <td>9.17</td>\n",
              "      <td>1545015600</td>\n",
              "      <td>10.000</td>\n",
              "      <td>43.68</td>\n",
              "      <td>1544968800</td>\n",
              "      <td>34.19</td>\n",
              "      <td>1545048000</td>\n",
              "      <td>37.95</td>\n",
              "      <td>1544968800</td>\n",
              "      <td>27.39</td>\n",
              "      <td>1545044400</td>\n",
              "      <td>partly-cloudy-night</td>\n",
              "      <td>32.70</td>\n",
              "      <td>1021.98</td>\n",
              "      <td>57</td>\n",
              "      <td>0.72</td>\n",
              "      <td>0</td>\n",
              "      <td>10.000</td>\n",
              "      <td>303.8</td>\n",
              "      <td>1544962084</td>\n",
              "      <td>1544994864</td>\n",
              "      <td>0.30</td>\n",
              "      <td>0.1276</td>\n",
              "      <td>1544979600</td>\n",
              "      <td>39.89</td>\n",
              "      <td>1545012000</td>\n",
              "      <td>43.68</td>\n",
              "      <td>1544968800</td>\n",
              "      <td>33.73</td>\n",
              "      <td>1545012000</td>\n",
              "      <td>38.07</td>\n",
              "      <td>1544958000</td>\n",
              "    </tr>\n",
              "    <tr>\n",
              "      <th>1</th>\n",
              "      <td>4bd23055-6827-41c6-b23b-3c491f24e74d</td>\n",
              "      <td>1.543284e+09</td>\n",
              "      <td>2</td>\n",
              "      <td>27</td>\n",
              "      <td>11</td>\n",
              "      <td>2018-11-27 02:00:23</td>\n",
              "      <td>America/New_York</td>\n",
              "      <td>Haymarket Square</td>\n",
              "      <td>North Station</td>\n",
              "      <td>Lyft</td>\n",
              "      <td>lyft_premier</td>\n",
              "      <td>Lux</td>\n",
              "      <td>11.0</td>\n",
              "      <td>0.44</td>\n",
              "      <td>1.0</td>\n",
              "      <td>42.2148</td>\n",
              "      <td>-71.033</td>\n",
              "      <td>43.58</td>\n",
              "      <td>37.35</td>\n",
              "      <td>Rain</td>\n",
              "      <td>Rain until morning, starting again in the eve...</td>\n",
              "      <td>0.1299</td>\n",
              "      <td>1.0</td>\n",
              "      <td>0.94</td>\n",
              "      <td>11.98</td>\n",
              "      <td>11.98</td>\n",
              "      <td>1543291200</td>\n",
              "      <td>4.786</td>\n",
              "      <td>47.30</td>\n",
              "      <td>1543251600</td>\n",
              "      <td>42.10</td>\n",
              "      <td>1543298400</td>\n",
              "      <td>43.92</td>\n",
              "      <td>1543251600</td>\n",
              "      <td>36.20</td>\n",
              "      <td>1543291200</td>\n",
              "      <td>rain</td>\n",
              "      <td>41.83</td>\n",
              "      <td>1003.97</td>\n",
              "      <td>90</td>\n",
              "      <td>1.00</td>\n",
              "      <td>0</td>\n",
              "      <td>4.786</td>\n",
              "      <td>291.1</td>\n",
              "      <td>1543232969</td>\n",
              "      <td>1543266992</td>\n",
              "      <td>0.64</td>\n",
              "      <td>0.1300</td>\n",
              "      <td>1543251600</td>\n",
              "      <td>40.49</td>\n",
              "      <td>1543233600</td>\n",
              "      <td>47.30</td>\n",
              "      <td>1543251600</td>\n",
              "      <td>36.20</td>\n",
              "      <td>1543291200</td>\n",
              "      <td>43.92</td>\n",
              "      <td>1543251600</td>\n",
              "    </tr>\n",
              "    <tr>\n",
              "      <th>2</th>\n",
              "      <td>981a3613-77af-4620-a42a-0c0866077d1e</td>\n",
              "      <td>1.543367e+09</td>\n",
              "      <td>1</td>\n",
              "      <td>28</td>\n",
              "      <td>11</td>\n",
              "      <td>2018-11-28 01:00:22</td>\n",
              "      <td>America/New_York</td>\n",
              "      <td>Haymarket Square</td>\n",
              "      <td>North Station</td>\n",
              "      <td>Lyft</td>\n",
              "      <td>lyft</td>\n",
              "      <td>Lyft</td>\n",
              "      <td>7.0</td>\n",
              "      <td>0.44</td>\n",
              "      <td>1.0</td>\n",
              "      <td>42.2148</td>\n",
              "      <td>-71.033</td>\n",
              "      <td>38.33</td>\n",
              "      <td>32.93</td>\n",
              "      <td>Clear</td>\n",
              "      <td>Light rain in the morning.</td>\n",
              "      <td>0.0000</td>\n",
              "      <td>0.0</td>\n",
              "      <td>0.75</td>\n",
              "      <td>7.33</td>\n",
              "      <td>7.33</td>\n",
              "      <td>1543334400</td>\n",
              "      <td>10.000</td>\n",
              "      <td>47.55</td>\n",
              "      <td>1543320000</td>\n",
              "      <td>33.10</td>\n",
              "      <td>1543402800</td>\n",
              "      <td>44.12</td>\n",
              "      <td>1543320000</td>\n",
              "      <td>29.11</td>\n",
              "      <td>1543392000</td>\n",
              "      <td>clear-night</td>\n",
              "      <td>31.10</td>\n",
              "      <td>992.28</td>\n",
              "      <td>240</td>\n",
              "      <td>0.03</td>\n",
              "      <td>0</td>\n",
              "      <td>10.000</td>\n",
              "      <td>315.7</td>\n",
              "      <td>1543319437</td>\n",
              "      <td>1543353364</td>\n",
              "      <td>0.68</td>\n",
              "      <td>0.1064</td>\n",
              "      <td>1543338000</td>\n",
              "      <td>35.36</td>\n",
              "      <td>1543377600</td>\n",
              "      <td>47.55</td>\n",
              "      <td>1543320000</td>\n",
              "      <td>31.04</td>\n",
              "      <td>1543377600</td>\n",
              "      <td>44.12</td>\n",
              "      <td>1543320000</td>\n",
              "    </tr>\n",
              "    <tr>\n",
              "      <th>3</th>\n",
              "      <td>c2d88af2-d278-4bfd-a8d0-29ca77cc5512</td>\n",
              "      <td>1.543554e+09</td>\n",
              "      <td>4</td>\n",
              "      <td>30</td>\n",
              "      <td>11</td>\n",
              "      <td>2018-11-30 04:53:02</td>\n",
              "      <td>America/New_York</td>\n",
              "      <td>Haymarket Square</td>\n",
              "      <td>North Station</td>\n",
              "      <td>Lyft</td>\n",
              "      <td>lyft_luxsuv</td>\n",
              "      <td>Lux Black XL</td>\n",
              "      <td>26.0</td>\n",
              "      <td>0.44</td>\n",
              "      <td>1.0</td>\n",
              "      <td>42.2148</td>\n",
              "      <td>-71.033</td>\n",
              "      <td>34.38</td>\n",
              "      <td>29.63</td>\n",
              "      <td>Clear</td>\n",
              "      <td>Partly cloudy throughout the day.</td>\n",
              "      <td>0.0000</td>\n",
              "      <td>0.0</td>\n",
              "      <td>0.73</td>\n",
              "      <td>5.28</td>\n",
              "      <td>5.28</td>\n",
              "      <td>1543514400</td>\n",
              "      <td>10.000</td>\n",
              "      <td>45.03</td>\n",
              "      <td>1543510800</td>\n",
              "      <td>28.90</td>\n",
              "      <td>1543579200</td>\n",
              "      <td>38.53</td>\n",
              "      <td>1543510800</td>\n",
              "      <td>26.20</td>\n",
              "      <td>1543575600</td>\n",
              "      <td>clear-night</td>\n",
              "      <td>26.64</td>\n",
              "      <td>1013.73</td>\n",
              "      <td>310</td>\n",
              "      <td>0.00</td>\n",
              "      <td>0</td>\n",
              "      <td>10.000</td>\n",
              "      <td>291.1</td>\n",
              "      <td>1543492370</td>\n",
              "      <td>1543526114</td>\n",
              "      <td>0.75</td>\n",
              "      <td>0.0000</td>\n",
              "      <td>1543507200</td>\n",
              "      <td>34.67</td>\n",
              "      <td>1543550400</td>\n",
              "      <td>45.03</td>\n",
              "      <td>1543510800</td>\n",
              "      <td>30.30</td>\n",
              "      <td>1543550400</td>\n",
              "      <td>38.53</td>\n",
              "      <td>1543510800</td>\n",
              "    </tr>\n",
              "    <tr>\n",
              "      <th>4</th>\n",
              "      <td>e0126e1f-8ca9-4f2e-82b3-50505a09db9a</td>\n",
              "      <td>1.543463e+09</td>\n",
              "      <td>3</td>\n",
              "      <td>29</td>\n",
              "      <td>11</td>\n",
              "      <td>2018-11-29 03:49:20</td>\n",
              "      <td>America/New_York</td>\n",
              "      <td>Haymarket Square</td>\n",
              "      <td>North Station</td>\n",
              "      <td>Lyft</td>\n",
              "      <td>lyft_plus</td>\n",
              "      <td>Lyft XL</td>\n",
              "      <td>9.0</td>\n",
              "      <td>0.44</td>\n",
              "      <td>1.0</td>\n",
              "      <td>42.2148</td>\n",
              "      <td>-71.033</td>\n",
              "      <td>37.44</td>\n",
              "      <td>30.88</td>\n",
              "      <td>Partly Cloudy</td>\n",
              "      <td>Mostly cloudy throughout the day.</td>\n",
              "      <td>0.0000</td>\n",
              "      <td>0.0</td>\n",
              "      <td>0.70</td>\n",
              "      <td>9.14</td>\n",
              "      <td>9.14</td>\n",
              "      <td>1543446000</td>\n",
              "      <td>10.000</td>\n",
              "      <td>42.18</td>\n",
              "      <td>1543420800</td>\n",
              "      <td>36.71</td>\n",
              "      <td>1543478400</td>\n",
              "      <td>35.75</td>\n",
              "      <td>1543420800</td>\n",
              "      <td>30.29</td>\n",
              "      <td>1543460400</td>\n",
              "      <td>partly-cloudy-night</td>\n",
              "      <td>28.61</td>\n",
              "      <td>998.36</td>\n",
              "      <td>303</td>\n",
              "      <td>0.44</td>\n",
              "      <td>0</td>\n",
              "      <td>10.000</td>\n",
              "      <td>347.7</td>\n",
              "      <td>1543405904</td>\n",
              "      <td>1543439738</td>\n",
              "      <td>0.72</td>\n",
              "      <td>0.0001</td>\n",
              "      <td>1543420800</td>\n",
              "      <td>33.10</td>\n",
              "      <td>1543402800</td>\n",
              "      <td>42.18</td>\n",
              "      <td>1543420800</td>\n",
              "      <td>29.11</td>\n",
              "      <td>1543392000</td>\n",
              "      <td>35.75</td>\n",
              "      <td>1543420800</td>\n",
              "    </tr>\n",
              "  </tbody>\n",
              "</table>\n",
              "</div>\n",
              "      <button class=\"colab-df-convert\" onclick=\"convertToInteractive('df-c034b789-5e45-4a10-b3ac-15e347ca35fb')\"\n",
              "              title=\"Convert this dataframe to an interactive table.\"\n",
              "              style=\"display:none;\">\n",
              "        \n",
              "  <svg xmlns=\"http://www.w3.org/2000/svg\" height=\"24px\"viewBox=\"0 0 24 24\"\n",
              "       width=\"24px\">\n",
              "    <path d=\"M0 0h24v24H0V0z\" fill=\"none\"/>\n",
              "    <path d=\"M18.56 5.44l.94 2.06.94-2.06 2.06-.94-2.06-.94-.94-2.06-.94 2.06-2.06.94zm-11 1L8.5 8.5l.94-2.06 2.06-.94-2.06-.94L8.5 2.5l-.94 2.06-2.06.94zm10 10l.94 2.06.94-2.06 2.06-.94-2.06-.94-.94-2.06-.94 2.06-2.06.94z\"/><path d=\"M17.41 7.96l-1.37-1.37c-.4-.4-.92-.59-1.43-.59-.52 0-1.04.2-1.43.59L10.3 9.45l-7.72 7.72c-.78.78-.78 2.05 0 2.83L4 21.41c.39.39.9.59 1.41.59.51 0 1.02-.2 1.41-.59l7.78-7.78 2.81-2.81c.8-.78.8-2.07 0-2.86zM5.41 20L4 18.59l7.72-7.72 1.47 1.35L5.41 20z\"/>\n",
              "  </svg>\n",
              "      </button>\n",
              "      \n",
              "  <style>\n",
              "    .colab-df-container {\n",
              "      display:flex;\n",
              "      flex-wrap:wrap;\n",
              "      gap: 12px;\n",
              "    }\n",
              "\n",
              "    .colab-df-convert {\n",
              "      background-color: #E8F0FE;\n",
              "      border: none;\n",
              "      border-radius: 50%;\n",
              "      cursor: pointer;\n",
              "      display: none;\n",
              "      fill: #1967D2;\n",
              "      height: 32px;\n",
              "      padding: 0 0 0 0;\n",
              "      width: 32px;\n",
              "    }\n",
              "\n",
              "    .colab-df-convert:hover {\n",
              "      background-color: #E2EBFA;\n",
              "      box-shadow: 0px 1px 2px rgba(60, 64, 67, 0.3), 0px 1px 3px 1px rgba(60, 64, 67, 0.15);\n",
              "      fill: #174EA6;\n",
              "    }\n",
              "\n",
              "    [theme=dark] .colab-df-convert {\n",
              "      background-color: #3B4455;\n",
              "      fill: #D2E3FC;\n",
              "    }\n",
              "\n",
              "    [theme=dark] .colab-df-convert:hover {\n",
              "      background-color: #434B5C;\n",
              "      box-shadow: 0px 1px 3px 1px rgba(0, 0, 0, 0.15);\n",
              "      filter: drop-shadow(0px 1px 2px rgba(0, 0, 0, 0.3));\n",
              "      fill: #FFFFFF;\n",
              "    }\n",
              "  </style>\n",
              "\n",
              "      <script>\n",
              "        const buttonEl =\n",
              "          document.querySelector('#df-c034b789-5e45-4a10-b3ac-15e347ca35fb button.colab-df-convert');\n",
              "        buttonEl.style.display =\n",
              "          google.colab.kernel.accessAllowed ? 'block' : 'none';\n",
              "\n",
              "        async function convertToInteractive(key) {\n",
              "          const element = document.querySelector('#df-c034b789-5e45-4a10-b3ac-15e347ca35fb');\n",
              "          const dataTable =\n",
              "            await google.colab.kernel.invokeFunction('convertToInteractive',\n",
              "                                                     [key], {});\n",
              "          if (!dataTable) return;\n",
              "\n",
              "          const docLinkHtml = 'Like what you see? Visit the ' +\n",
              "            '<a target=\"_blank\" href=https://colab.research.google.com/notebooks/data_table.ipynb>data table notebook</a>'\n",
              "            + ' to learn more about interactive tables.';\n",
              "          element.innerHTML = '';\n",
              "          dataTable['output_type'] = 'display_data';\n",
              "          await google.colab.output.renderOutput(dataTable, element);\n",
              "          const docLink = document.createElement('div');\n",
              "          docLink.innerHTML = docLinkHtml;\n",
              "          element.appendChild(docLink);\n",
              "        }\n",
              "      </script>\n",
              "    </div>\n",
              "  </div>\n",
              "  "
            ]
          },
          "metadata": {},
          "execution_count": 8
        }
      ]
    },
    {
      "cell_type": "code",
      "source": [
        "# Tampilkan nama kolom dan dtype\n",
        "df.info()\n",
        "print('Jumlah baris adalah {} dan jumlah kolom adalah {}'.format(df.shape[0], df.shape[1]))"
      ],
      "metadata": {
        "colab": {
          "base_uri": "https://localhost:8080/"
        },
        "id": "4X5SZLuIPWZk",
        "outputId": "5dae6efe-7786-4059-ae51-3222babff381"
      },
      "execution_count": 9,
      "outputs": [
        {
          "output_type": "stream",
          "name": "stdout",
          "text": [
            "<class 'pandas.core.frame.DataFrame'>\n",
            "RangeIndex: 693071 entries, 0 to 693070\n",
            "Data columns (total 57 columns):\n",
            " #   Column                       Non-Null Count   Dtype  \n",
            "---  ------                       --------------   -----  \n",
            " 0   id                           693071 non-null  object \n",
            " 1   timestamp                    693071 non-null  float64\n",
            " 2   hour                         693071 non-null  int64  \n",
            " 3   day                          693071 non-null  int64  \n",
            " 4   month                        693071 non-null  int64  \n",
            " 5   datetime                     693071 non-null  object \n",
            " 6   timezone                     693071 non-null  object \n",
            " 7   source                       693071 non-null  object \n",
            " 8   destination                  693071 non-null  object \n",
            " 9   cab_type                     693071 non-null  object \n",
            " 10  product_id                   693071 non-null  object \n",
            " 11  name                         693071 non-null  object \n",
            " 12  price                        637976 non-null  float64\n",
            " 13  distance                     693071 non-null  float64\n",
            " 14  surge_multiplier             693071 non-null  float64\n",
            " 15  latitude                     693071 non-null  float64\n",
            " 16  longitude                    693071 non-null  float64\n",
            " 17  temperature                  693071 non-null  float64\n",
            " 18  apparentTemperature          693071 non-null  float64\n",
            " 19  short_summary                693071 non-null  object \n",
            " 20  long_summary                 693071 non-null  object \n",
            " 21  precipIntensity              693071 non-null  float64\n",
            " 22  precipProbability            693071 non-null  float64\n",
            " 23  humidity                     693071 non-null  float64\n",
            " 24  windSpeed                    693071 non-null  float64\n",
            " 25  windGust                     693071 non-null  float64\n",
            " 26  windGustTime                 693071 non-null  int64  \n",
            " 27  visibility                   693071 non-null  float64\n",
            " 28  temperatureHigh              693071 non-null  float64\n",
            " 29  temperatureHighTime          693071 non-null  int64  \n",
            " 30  temperatureLow               693071 non-null  float64\n",
            " 31  temperatureLowTime           693071 non-null  int64  \n",
            " 32  apparentTemperatureHigh      693071 non-null  float64\n",
            " 33  apparentTemperatureHighTime  693071 non-null  int64  \n",
            " 34  apparentTemperatureLow       693071 non-null  float64\n",
            " 35  apparentTemperatureLowTime   693071 non-null  int64  \n",
            " 36  icon                         693071 non-null  object \n",
            " 37  dewPoint                     693071 non-null  float64\n",
            " 38  pressure                     693071 non-null  float64\n",
            " 39  windBearing                  693071 non-null  int64  \n",
            " 40  cloudCover                   693071 non-null  float64\n",
            " 41  uvIndex                      693071 non-null  int64  \n",
            " 42  visibility.1                 693071 non-null  float64\n",
            " 43  ozone                        693071 non-null  float64\n",
            " 44  sunriseTime                  693071 non-null  int64  \n",
            " 45  sunsetTime                   693071 non-null  int64  \n",
            " 46  moonPhase                    693071 non-null  float64\n",
            " 47  precipIntensityMax           693071 non-null  float64\n",
            " 48  uvIndexTime                  693071 non-null  int64  \n",
            " 49  temperatureMin               693071 non-null  float64\n",
            " 50  temperatureMinTime           693071 non-null  int64  \n",
            " 51  temperatureMax               693071 non-null  float64\n",
            " 52  temperatureMaxTime           693071 non-null  int64  \n",
            " 53  apparentTemperatureMin       693071 non-null  float64\n",
            " 54  apparentTemperatureMinTime   693071 non-null  int64  \n",
            " 55  apparentTemperatureMax       693071 non-null  float64\n",
            " 56  apparentTemperatureMaxTime   693071 non-null  int64  \n",
            "dtypes: float64(29), int64(17), object(11)\n",
            "memory usage: 301.4+ MB\n",
            "Jumlah baris adalah 693071 dan jumlah kolom adalah 57\n"
          ]
        }
      ]
    },
    {
      "cell_type": "markdown",
      "source": [
        "Terdapat 56 jumlah kolom. Jumlah ini terlalu banyak dan jika digunakan semua berisiko menimbulkan overfitting model. Oleh karena itu pada bagian preprocessing data jumlah kolom2 ini akan dikurangi. Sebelum itu kita akan lakukan EDA terhadap dataset."
      ],
      "metadata": {
        "id": "GRvkW73Flz3G"
      }
    },
    {
      "cell_type": "markdown",
      "source": [
        "# IV. EXPLORATORY DATA ANALYSIS (EDA)"
      ],
      "metadata": {
        "id": "rK1CqZzK05Qa"
      }
    },
    {
      "cell_type": "markdown",
      "source": [
        "Bagian ini berisi eksplorasi data pada dataset diatas dengan menggunakan query, grouping, visualisasi sederhana, dan lain sebagainya."
      ],
      "metadata": {
        "id": "nQ1Mk8RqnZyQ"
      }
    },
    {
      "cell_type": "markdown",
      "source": [
        "Pertama, visualisasi data yang berhubungan dengan waktu"
      ],
      "metadata": {
        "id": "dYbpIMFKnoBe"
      }
    },
    {
      "cell_type": "code",
      "source": [
        "#Buat subplot dengan 3 kolom dan 1 baris\n",
        "fig, ax = plt.subplots(1, 3, figsize=(10, 6))\t\n",
        "\n",
        "#Plot histogram hour\n",
        "df['hour'].hist(ax=ax[0], color='blue') \t\t\n",
        "ax[0].set_title('Hour')\n",
        "ax[0].set_xlabel('time (h)')\n",
        "ax[0].set_ylabel('count')\n",
        "\n",
        "#Plot histogram day\n",
        "df['day'].hist(ax=ax[1], color='red') \t\t \t\n",
        "ax[1].set_title('day')\n",
        "ax[1].set_xlabel('time (d)')\n",
        "\n",
        "#Plot histogram month\n",
        "df['month'].hist(ax=ax[2], color='green') \t\t \n",
        "ax[2].set_title('month')\n",
        "ax[2].set_xlabel('time (m)')\n",
        "ax[2].set_xticks([11,12])\n"
      ],
      "metadata": {
        "colab": {
          "base_uri": "https://localhost:8080/",
          "height": 0
        },
        "id": "b6T0Tv0QPMn2",
        "outputId": "06fba156-aee2-4a11-b96e-d80a868233d8"
      },
      "execution_count": 10,
      "outputs": [
        {
          "output_type": "execute_result",
          "data": {
            "text/plain": [
              "[<matplotlib.axis.XTick at 0x7fd713ec9880>,\n",
              " <matplotlib.axis.XTick at 0x7fd713ec9850>]"
            ]
          },
          "metadata": {},
          "execution_count": 10
        },
        {
          "output_type": "display_data",
          "data": {
            "text/plain": [
              "<Figure size 720x432 with 3 Axes>"
            ],
            "image/png": "[encoded data removed]"
          },
          "metadata": {
            "needs_background": "light"
          }
        }
      ]
    },
    {
      "cell_type": "markdown",
      "source": [
        "Terlihat jika data diambil secara teratur selama 24 jam. Tetapi data hanya terpusat pada awal, pertengahan dan akhir bulan. Data juga diambil hanya pada bulan November dan Desember. \n",
        "\n",
        "Berikutnya kita akan tampilkan jenis taxi (cab) menggunakan pie chart"
      ],
      "metadata": {
        "id": "LIOT8ZxPnySA"
      }
    },
    {
      "cell_type": "code",
      "source": [
        "# Definisikan warna palet utk pie chart\n",
        "palette_color = sns.color_palette('bright')\n",
        "label = list(pd.DataFrame(df['cab_type'].value_counts()).index)\n",
        "\n",
        "# Plot pie chart\n",
        "plt.figure(figsize=(5,5))\n",
        "plt.pie(df['cab_type'].value_counts(), colors=palette_color, autopct='%.0f%%', wedgeprops={'edgecolor':'k'})\n",
        "plt.legend(label, loc='upper right', bbox_to_anchor=(1.5,1))\n",
        "plt.show()\n"
      ],
      "metadata": {
        "colab": {
          "base_uri": "https://localhost:8080/",
          "height": 0
        },
        "id": "eqP6rdYdfy-Y",
        "outputId": "74f1041d-24c8-4b48-ef83-09576156f0b4"
      },
      "execution_count": 11,
      "outputs": [
        {
          "output_type": "display_data",
          "data": {
            "text/plain": [
              "<Figure size 360x360 with 1 Axes>"
            ],
            "image/png": "[encoded data removed]"
          },
          "metadata": {}
        }
      ]
    },
    {
      "cell_type": "markdown",
      "source": [
        "Hanya ada 2 jenis taksi: Lyft dan Uber. Proporsi data utk Uber adalah 56% dan Lyft adalah 44%.\n",
        "\n",
        "Kita akan lihat harga masing2 service pada taxi Lyft dan Uber"
      ],
      "metadata": {
        "id": "pR9FgHzFoMjV"
      }
    },
    {
      "cell_type": "code",
      "source": [
        "# Kelompokkan berdasarkan jenis taksi, nama layanan dan rerata harganya\n",
        "df.groupby(by=[\"cab_type\",\"name\"]).agg({'price':'mean'})"
      ],
      "metadata": {
        "colab": {
          "base_uri": "https://localhost:8080/",
          "height": 0
        },
        "id": "S61r-K36dB1K",
        "outputId": "3c89daa7-91cb-4d91-fb9b-b9c58c6bb6c1"
      },
      "execution_count": 12,
      "outputs": [
        {
          "output_type": "execute_result",
          "data": {
            "text/plain": [
              "                           price\n",
              "cab_type name                   \n",
              "Lyft     Lux           17.771240\n",
              "         Lux Black     23.062468\n",
              "         Lux Black XL  32.324086\n",
              "         Lyft           9.610885\n",
              "         Lyft XL       15.309363\n",
              "         Shared         6.029893\n",
              "Uber     Black         20.523786\n",
              "         Black SUV     30.286763\n",
              "         Taxi                NaN\n",
              "         UberPool       8.752500\n",
              "         UberX          9.765074\n",
              "         UberXL        15.678144\n",
              "         WAV            9.765019"
            ],
            "text/html": [
              "\n",
              "  <div id=\"df-4cbe9756-8214-4755-b32a-b66f52063b3a\">\n",
              "    <div class=\"colab-df-container\">\n",
              "      <div>\n",
              "<style scoped>\n",
              "    .dataframe tbody tr th:only-of-type {\n",
              "        vertical-align: middle;\n",
              "    }\n",
              "\n",
              "    .dataframe tbody tr th {\n",
              "        vertical-align: top;\n",
              "    }\n",
              "\n",
              "    .dataframe thead th {\n",
              "        text-align: right;\n",
              "    }\n",
              "</style>\n",
              "<table border=\"1\" class=\"dataframe\">\n",
              "  <thead>\n",
              "    <tr style=\"text-align: right;\">\n",
              "      <th></th>\n",
              "      <th></th>\n",
              "      <th>price</th>\n",
              "    </tr>\n",
              "    <tr>\n",
              "      <th>cab_type</th>\n",
              "      <th>name</th>\n",
              "      <th></th>\n",
              "    </tr>\n",
              "  </thead>\n",
              "  <tbody>\n",
              "    <tr>\n",
              "      <th rowspan=\"6\" valign=\"top\">Lyft</th>\n",
              "      <th>Lux</th>\n",
              "      <td>17.771240</td>\n",
              "    </tr>\n",
              "    <tr>\n",
              "      <th>Lux Black</th>\n",
              "      <td>23.062468</td>\n",
              "    </tr>\n",
              "    <tr>\n",
              "      <th>Lux Black XL</th>\n",
              "      <td>32.324086</td>\n",
              "    </tr>\n",
              "    <tr>\n",
              "      <th>Lyft</th>\n",
              "      <td>9.610885</td>\n",
              "    </tr>\n",
              "    <tr>\n",
              "      <th>Lyft XL</th>\n",
              "      <td>15.309363</td>\n",
              "    </tr>\n",
              "    <tr>\n",
              "      <th>Shared</th>\n",
              "      <td>6.029893</td>\n",
              "    </tr>\n",
              "    <tr>\n",
              "      <th rowspan=\"7\" valign=\"top\">Uber</th>\n",
              "      <th>Black</th>\n",
              "      <td>20.523786</td>\n",
              "    </tr>\n",
              "    <tr>\n",
              "      <th>Black SUV</th>\n",
              "      <td>30.286763</td>\n",
              "    </tr>\n",
              "    <tr>\n",
              "      <th>Taxi</th>\n",
              "      <td>NaN</td>\n",
              "    </tr>\n",
              "    <tr>\n",
              "      <th>UberPool</th>\n",
              "      <td>8.752500</td>\n",
              "    </tr>\n",
              "    <tr>\n",
              "      <th>UberX</th>\n",
              "      <td>9.765074</td>\n",
              "    </tr>\n",
              "    <tr>\n",
              "      <th>UberXL</th>\n",
              "      <td>15.678144</td>\n",
              "    </tr>\n",
              "    <tr>\n",
              "      <th>WAV</th>\n",
              "      <td>9.765019</td>\n",
              "    </tr>\n",
              "  </tbody>\n",
              "</table>\n",
              "</div>\n",
              "      <button class=\"colab-df-convert\" onclick=\"convertToInteractive('df-4cbe9756-8214-4755-b32a-b66f52063b3a')\"\n",
              "              title=\"Convert this dataframe to an interactive table.\"\n",
              "              style=\"display:none;\">\n",
              "        \n",
              "  <svg xmlns=\"http://www.w3.org/2000/svg\" height=\"24px\"viewBox=\"0 0 24 24\"\n",
              "       width=\"24px\">\n",
              "    <path d=\"M0 0h24v24H0V0z\" fill=\"none\"/>\n",
              "    <path d=\"M18.56 5.44l.94 2.06.94-2.06 2.06-.94-2.06-.94-.94-2.06-.94 2.06-2.06.94zm-11 1L8.5 8.5l.94-2.06 2.06-.94-2.06-.94L8.5 2.5l-.94 2.06-2.06.94zm10 10l.94 2.06.94-2.06 2.06-.94-2.06-.94-.94-2.06-.94 2.06-2.06.94z\"/><path d=\"M17.41 7.96l-1.37-1.37c-.4-.4-.92-.59-1.43-.59-.52 0-1.04.2-1.43.59L10.3 9.45l-7.72 7.72c-.78.78-.78 2.05 0 2.83L4 21.41c.39.39.9.59 1.41.59.51 0 1.02-.2 1.41-.59l7.78-7.78 2.81-2.81c.8-.78.8-2.07 0-2.86zM5.41 20L4 18.59l7.72-7.72 1.47 1.35L5.41 20z\"/>\n",
              "  </svg>\n",
              "      </button>\n",
              "      \n",
              "  <style>\n",
              "    .colab-df-container {\n",
              "      display:flex;\n",
              "      flex-wrap:wrap;\n",
              "      gap: 12px;\n",
              "    }\n",
              "\n",
              "    .colab-df-convert {\n",
              "      background-color: #E8F0FE;\n",
              "      border: none;\n",
              "      border-radius: 50%;\n",
              "      cursor: pointer;\n",
              "      display: none;\n",
              "      fill: #1967D2;\n",
              "      height: 32px;\n",
              "      padding: 0 0 0 0;\n",
              "      width: 32px;\n",
              "    }\n",
              "\n",
              "    .colab-df-convert:hover {\n",
              "      background-color: #E2EBFA;\n",
              "      box-shadow: 0px 1px 2px rgba(60, 64, 67, 0.3), 0px 1px 3px 1px rgba(60, 64, 67, 0.15);\n",
              "      fill: #174EA6;\n",
              "    }\n",
              "\n",
              "    [theme=dark] .colab-df-convert {\n",
              "      background-color: #3B4455;\n",
              "      fill: #D2E3FC;\n",
              "    }\n",
              "\n",
              "    [theme=dark] .colab-df-convert:hover {\n",
              "      background-color: #434B5C;\n",
              "      box-shadow: 0px 1px 3px 1px rgba(0, 0, 0, 0.15);\n",
              "      filter: drop-shadow(0px 1px 2px rgba(0, 0, 0, 0.3));\n",
              "      fill: #FFFFFF;\n",
              "    }\n",
              "  </style>\n",
              "\n",
              "      <script>\n",
              "        const buttonEl =\n",
              "          document.querySelector('#df-4cbe9756-8214-4755-b32a-b66f52063b3a button.colab-df-convert');\n",
              "        buttonEl.style.display =\n",
              "          google.colab.kernel.accessAllowed ? 'block' : 'none';\n",
              "\n",
              "        async function convertToInteractive(key) {\n",
              "          const element = document.querySelector('#df-4cbe9756-8214-4755-b32a-b66f52063b3a');\n",
              "          const dataTable =\n",
              "            await google.colab.kernel.invokeFunction('convertToInteractive',\n",
              "                                                     [key], {});\n",
              "          if (!dataTable) return;\n",
              "\n",
              "          const docLinkHtml = 'Like what you see? Visit the ' +\n",
              "            '<a target=\"_blank\" href=https://colab.research.google.com/notebooks/data_table.ipynb>data table notebook</a>'\n",
              "            + ' to learn more about interactive tables.';\n",
              "          element.innerHTML = '';\n",
              "          dataTable['output_type'] = 'display_data';\n",
              "          await google.colab.output.renderOutput(dataTable, element);\n",
              "          const docLink = document.createElement('div');\n",
              "          docLink.innerHTML = docLinkHtml;\n",
              "          element.appendChild(docLink);\n",
              "        }\n",
              "      </script>\n",
              "    </div>\n",
              "  </div>\n",
              "  "
            ]
          },
          "metadata": {},
          "execution_count": 12
        }
      ]
    },
    {
      "cell_type": "markdown",
      "source": [
        "Layanan Lux Black XL merupakan layanan termahal pada Lyft dengan rerata 32.3 USD. Sedangkan Black SUV merupakan layanan termahal pada Uber dengan rerata 30 USD. Layanan termurah dalah Shared pada Uber dengan hanya 6 USD."
      ],
      "metadata": {
        "id": "khtZM374ofvt"
      }
    },
    {
      "cell_type": "markdown",
      "source": [
        "Berikutnya kita akan lakukan grouping data harga ride-hailing berdasarkan lokasi"
      ],
      "metadata": {
        "id": "YLAxTNmAhF7s"
      }
    },
    {
      "cell_type": "code",
      "source": [
        "# Kelompokkan data berdasarkan destinasi, sumber dan rerata harganya\n",
        "df.groupby(by=[\"destination\",\"source\"]).agg({'price':'mean'})"
      ],
      "metadata": {
        "colab": {
          "base_uri": "https://localhost:8080/",
          "height": 0
        },
        "id": "uIuQQ3M8V56W",
        "outputId": "e4831902-b13a-449f-fc0c-2524825d740d"
      },
      "execution_count": 13,
      "outputs": [
        {
          "output_type": "execute_result",
          "data": {
            "text/plain": [
              "                                         price\n",
              "destination source                            \n",
              "Back Bay    Boston University        13.992801\n",
              "            Fenway                   13.802155\n",
              "            Haymarket Square         16.860489\n",
              "            North End                19.550935\n",
              "            Northeastern University  13.698923\n",
              "...                                        ...\n",
              "West End    Fenway                   18.161806\n",
              "            Haymarket Square         12.529855\n",
              "            North End                13.494873\n",
              "            Northeastern University  18.204155\n",
              "            South Station            15.881172\n",
              "\n",
              "[72 rows x 1 columns]"
            ],
            "text/html": [
              "\n",
              "  <div id=\"df-725232b5-9943-472b-ac6c-48849c3c88d3\">\n",
              "    <div class=\"colab-df-container\">\n",
              "      <div>\n",
              "<style scoped>\n",
              "    .dataframe tbody tr th:only-of-type {\n",
              "        vertical-align: middle;\n",
              "    }\n",
              "\n",
              "    .dataframe tbody tr th {\n",
              "        vertical-align: top;\n",
              "    }\n",
              "\n",
              "    .dataframe thead th {\n",
              "        text-align: right;\n",
              "    }\n",
              "</style>\n",
              "<table border=\"1\" class=\"dataframe\">\n",
              "  <thead>\n",
              "    <tr style=\"text-align: right;\">\n",
              "      <th></th>\n",
              "      <th></th>\n",
              "      <th>price</th>\n",
              "    </tr>\n",
              "    <tr>\n",
              "      <th>destination</th>\n",
              "      <th>source</th>\n",
              "      <th></th>\n",
              "    </tr>\n",
              "  </thead>\n",
              "  <tbody>\n",
              "    <tr>\n",
              "      <th rowspan=\"5\" valign=\"top\">Back Bay</th>\n",
              "      <th>Boston University</th>\n",
              "      <td>13.992801</td>\n",
              "    </tr>\n",
              "    <tr>\n",
              "      <th>Fenway</th>\n",
              "      <td>13.802155</td>\n",
              "    </tr>\n",
              "    <tr>\n",
              "      <th>Haymarket Square</th>\n",
              "      <td>16.860489</td>\n",
              "    </tr>\n",
              "    <tr>\n",
              "      <th>North End</th>\n",
              "      <td>19.550935</td>\n",
              "    </tr>\n",
              "    <tr>\n",
              "      <th>Northeastern University</th>\n",
              "      <td>13.698923</td>\n",
              "    </tr>\n",
              "    <tr>\n",
              "      <th>...</th>\n",
              "      <th>...</th>\n",
              "      <td>...</td>\n",
              "    </tr>\n",
              "    <tr>\n",
              "      <th rowspan=\"5\" valign=\"top\">West End</th>\n",
              "      <th>Fenway</th>\n",
              "      <td>18.161806</td>\n",
              "    </tr>\n",
              "    <tr>\n",
              "      <th>Haymarket Square</th>\n",
              "      <td>12.529855</td>\n",
              "    </tr>\n",
              "    <tr>\n",
              "      <th>North End</th>\n",
              "      <td>13.494873</td>\n",
              "    </tr>\n",
              "    <tr>\n",
              "      <th>Northeastern University</th>\n",
              "      <td>18.204155</td>\n",
              "    </tr>\n",
              "    <tr>\n",
              "      <th>South Station</th>\n",
              "      <td>15.881172</td>\n",
              "    </tr>\n",
              "  </tbody>\n",
              "</table>\n",
              "<p>72 rows × 1 columns</p>\n",
              "</div>\n",
              "      <button class=\"colab-df-convert\" onclick=\"convertToInteractive('df-725232b5-9943-472b-ac6c-48849c3c88d3')\"\n",
              "              title=\"Convert this dataframe to an interactive table.\"\n",
              "              style=\"display:none;\">\n",
              "        \n",
              "  <svg xmlns=\"http://www.w3.org/2000/svg\" height=\"24px\"viewBox=\"0 0 24 24\"\n",
              "       width=\"24px\">\n",
              "    <path d=\"M0 0h24v24H0V0z\" fill=\"none\"/>\n",
              "    <path d=\"M18.56 5.44l.94 2.06.94-2.06 2.06-.94-2.06-.94-.94-2.06-.94 2.06-2.06.94zm-11 1L8.5 8.5l.94-2.06 2.06-.94-2.06-.94L8.5 2.5l-.94 2.06-2.06.94zm10 10l.94 2.06.94-2.06 2.06-.94-2.06-.94-.94-2.06-.94 2.06-2.06.94z\"/><path d=\"M17.41 7.96l-1.37-1.37c-.4-.4-.92-.59-1.43-.59-.52 0-1.04.2-1.43.59L10.3 9.45l-7.72 7.72c-.78.78-.78 2.05 0 2.83L4 21.41c.39.39.9.59 1.41.59.51 0 1.02-.2 1.41-.59l7.78-7.78 2.81-2.81c.8-.78.8-2.07 0-2.86zM5.41 20L4 18.59l7.72-7.72 1.47 1.35L5.41 20z\"/>\n",
              "  </svg>\n",
              "      </button>\n",
              "      \n",
              "  <style>\n",
              "    .colab-df-container {\n",
              "      display:flex;\n",
              "      flex-wrap:wrap;\n",
              "      gap: 12px;\n",
              "    }\n",
              "\n",
              "    .colab-df-convert {\n",
              "      background-color: #E8F0FE;\n",
              "      border: none;\n",
              "      border-radius: 50%;\n",
              "      cursor: pointer;\n",
              "      display: none;\n",
              "      fill: #1967D2;\n",
              "      height: 32px;\n",
              "      padding: 0 0 0 0;\n",
              "      width: 32px;\n",
              "    }\n",
              "\n",
              "    .colab-df-convert:hover {\n",
              "      background-color: #E2EBFA;\n",
              "      box-shadow: 0px 1px 2px rgba(60, 64, 67, 0.3), 0px 1px 3px 1px rgba(60, 64, 67, 0.15);\n",
              "      fill: #174EA6;\n",
              "    }\n",
              "\n",
              "    [theme=dark] .colab-df-convert {\n",
              "      background-color: #3B4455;\n",
              "      fill: #D2E3FC;\n",
              "    }\n",
              "\n",
              "    [theme=dark] .colab-df-convert:hover {\n",
              "      background-color: #434B5C;\n",
              "      box-shadow: 0px 1px 3px 1px rgba(0, 0, 0, 0.15);\n",
              "      filter: drop-shadow(0px 1px 2px rgba(0, 0, 0, 0.3));\n",
              "      fill: #FFFFFF;\n",
              "    }\n",
              "  </style>\n",
              "\n",
              "      <script>\n",
              "        const buttonEl =\n",
              "          document.querySelector('#df-725232b5-9943-472b-ac6c-48849c3c88d3 button.colab-df-convert');\n",
              "        buttonEl.style.display =\n",
              "          google.colab.kernel.accessAllowed ? 'block' : 'none';\n",
              "\n",
              "        async function convertToInteractive(key) {\n",
              "          const element = document.querySelector('#df-725232b5-9943-472b-ac6c-48849c3c88d3');\n",
              "          const dataTable =\n",
              "            await google.colab.kernel.invokeFunction('convertToInteractive',\n",
              "                                                     [key], {});\n",
              "          if (!dataTable) return;\n",
              "\n",
              "          const docLinkHtml = 'Like what you see? Visit the ' +\n",
              "            '<a target=\"_blank\" href=https://colab.research.google.com/notebooks/data_table.ipynb>data table notebook</a>'\n",
              "            + ' to learn more about interactive tables.';\n",
              "          element.innerHTML = '';\n",
              "          dataTable['output_type'] = 'display_data';\n",
              "          await google.colab.output.renderOutput(dataTable, element);\n",
              "          const docLink = document.createElement('div');\n",
              "          docLink.innerHTML = docLinkHtml;\n",
              "          element.appendChild(docLink);\n",
              "        }\n",
              "      </script>\n",
              "    </div>\n",
              "  </div>\n",
              "  "
            ]
          },
          "metadata": {},
          "execution_count": 13
        }
      ]
    },
    {
      "cell_type": "markdown",
      "source": [
        "Kita akan tentukan harga min dan max dari data diatas."
      ],
      "metadata": {
        "id": "t38VLs2opFa7"
      }
    },
    {
      "cell_type": "code",
      "source": [
        "# Cari harga max pada grouping destinasi dan sumber\n",
        "df.groupby(by=[\"destination\",\"source\"]).agg({'price':'mean'}).max()"
      ],
      "metadata": {
        "colab": {
          "base_uri": "https://localhost:8080/"
        },
        "id": "XN5QZcZFpOSn",
        "outputId": "7149aceb-e2e6-4463-aa3e-36e00537091b"
      },
      "execution_count": 14,
      "outputs": [
        {
          "output_type": "execute_result",
          "data": {
            "text/plain": [
              "price    25.498434\n",
              "dtype: float64"
            ]
          },
          "metadata": {},
          "execution_count": 14
        }
      ]
    },
    {
      "cell_type": "markdown",
      "source": [
        "Harga max adalah 25.49 USD"
      ],
      "metadata": {
        "id": "9kbMx8l0qTsB"
      }
    },
    {
      "cell_type": "code",
      "source": [
        "# Cari harga min pada grouping destinasi dan sumber\n",
        "df.groupby(by=[\"destination\",\"source\"]).agg({'price':'mean'}).min()"
      ],
      "metadata": {
        "colab": {
          "base_uri": "https://localhost:8080/"
        },
        "id": "OyqMuRA8qmau",
        "outputId": "a58ad51c-57d4-458b-9edf-1912e16377be"
      },
      "execution_count": 15,
      "outputs": [
        {
          "output_type": "execute_result",
          "data": {
            "text/plain": [
              "price    12.332545\n",
              "dtype: float64"
            ]
          },
          "metadata": {},
          "execution_count": 15
        }
      ]
    },
    {
      "cell_type": "markdown",
      "source": [
        "Harga min adalah 12.3 USD"
      ],
      "metadata": {
        "id": "qjp6ZybHpMd9"
      }
    },
    {
      "cell_type": "markdown",
      "source": [
        "Berikutnya kelompokkan hagra ride-hailing rata2 terhadap jenis cuaca utk melihat apakah terdapat korelasi."
      ],
      "metadata": {
        "id": "USLYtxlXhbXk"
      }
    },
    {
      "cell_type": "code",
      "source": [
        "# Kelompokkan data berdasarkan cuaca dan harga rerata\n",
        "df.rename(columns={'short_summary':'weather'}, inplace=True)\n",
        "df.groupby(\"weather\").agg({'price':'mean'})"
      ],
      "metadata": {
        "colab": {
          "base_uri": "https://localhost:8080/",
          "height": 0
        },
        "id": "tcX6HfyYgQIH",
        "outputId": "115ab302-7320-4339-f58a-5d92bb1b7606"
      },
      "execution_count": 16,
      "outputs": [
        {
          "output_type": "execute_result",
          "data": {
            "text/plain": [
              "                        price\n",
              "weather                      \n",
              " Clear              16.486460\n",
              " Drizzle            16.501784\n",
              " Foggy              16.540883\n",
              " Light Rain         16.561282\n",
              " Mostly Cloudy      16.594419\n",
              " Overcast           16.535116\n",
              " Partly Cloudy      16.552009\n",
              " Possible Drizzle   16.481390\n",
              " Rain               16.539987"
            ],
            "text/html": [
              "\n",
              "  <div id=\"df-cf4bf90e-4891-4ae0-ae6e-c3ae815f7a8a\">\n",
              "    <div class=\"colab-df-container\">\n",
              "      <div>\n",
              "<style scoped>\n",
              "    .dataframe tbody tr th:only-of-type {\n",
              "        vertical-align: middle;\n",
              "    }\n",
              "\n",
              "    .dataframe tbody tr th {\n",
              "        vertical-align: top;\n",
              "    }\n",
              "\n",
              "    .dataframe thead th {\n",
              "        text-align: right;\n",
              "    }\n",
              "</style>\n",
              "<table border=\"1\" class=\"dataframe\">\n",
              "  <thead>\n",
              "    <tr style=\"text-align: right;\">\n",
              "      <th></th>\n",
              "      <th>price</th>\n",
              "    </tr>\n",
              "    <tr>\n",
              "      <th>weather</th>\n",
              "      <th></th>\n",
              "    </tr>\n",
              "  </thead>\n",
              "  <tbody>\n",
              "    <tr>\n",
              "      <th>Clear</th>\n",
              "      <td>16.486460</td>\n",
              "    </tr>\n",
              "    <tr>\n",
              "      <th>Drizzle</th>\n",
              "      <td>16.501784</td>\n",
              "    </tr>\n",
              "    <tr>\n",
              "      <th>Foggy</th>\n",
              "      <td>16.540883</td>\n",
              "    </tr>\n",
              "    <tr>\n",
              "      <th>Light Rain</th>\n",
              "      <td>16.561282</td>\n",
              "    </tr>\n",
              "    <tr>\n",
              "      <th>Mostly Cloudy</th>\n",
              "      <td>16.594419</td>\n",
              "    </tr>\n",
              "    <tr>\n",
              "      <th>Overcast</th>\n",
              "      <td>16.535116</td>\n",
              "    </tr>\n",
              "    <tr>\n",
              "      <th>Partly Cloudy</th>\n",
              "      <td>16.552009</td>\n",
              "    </tr>\n",
              "    <tr>\n",
              "      <th>Possible Drizzle</th>\n",
              "      <td>16.481390</td>\n",
              "    </tr>\n",
              "    <tr>\n",
              "      <th>Rain</th>\n",
              "      <td>16.539987</td>\n",
              "    </tr>\n",
              "  </tbody>\n",
              "</table>\n",
              "</div>\n",
              "      <button class=\"colab-df-convert\" onclick=\"convertToInteractive('df-cf4bf90e-4891-4ae0-ae6e-c3ae815f7a8a')\"\n",
              "              title=\"Convert this dataframe to an interactive table.\"\n",
              "              style=\"display:none;\">\n",
              "        \n",
              "  <svg xmlns=\"http://www.w3.org/2000/svg\" height=\"24px\"viewBox=\"0 0 24 24\"\n",
              "       width=\"24px\">\n",
              "    <path d=\"M0 0h24v24H0V0z\" fill=\"none\"/>\n",
              "    <path d=\"M18.56 5.44l.94 2.06.94-2.06 2.06-.94-2.06-.94-.94-2.06-.94 2.06-2.06.94zm-11 1L8.5 8.5l.94-2.06 2.06-.94-2.06-.94L8.5 2.5l-.94 2.06-2.06.94zm10 10l.94 2.06.94-2.06 2.06-.94-2.06-.94-.94-2.06-.94 2.06-2.06.94z\"/><path d=\"M17.41 7.96l-1.37-1.37c-.4-.4-.92-.59-1.43-.59-.52 0-1.04.2-1.43.59L10.3 9.45l-7.72 7.72c-.78.78-.78 2.05 0 2.83L4 21.41c.39.39.9.59 1.41.59.51 0 1.02-.2 1.41-.59l7.78-7.78 2.81-2.81c.8-.78.8-2.07 0-2.86zM5.41 20L4 18.59l7.72-7.72 1.47 1.35L5.41 20z\"/>\n",
              "  </svg>\n",
              "      </button>\n",
              "      \n",
              "  <style>\n",
              "    .colab-df-container {\n",
              "      display:flex;\n",
              "      flex-wrap:wrap;\n",
              "      gap: 12px;\n",
              "    }\n",
              "\n",
              "    .colab-df-convert {\n",
              "      background-color: #E8F0FE;\n",
              "      border: none;\n",
              "      border-radius: 50%;\n",
              "      cursor: pointer;\n",
              "      display: none;\n",
              "      fill: #1967D2;\n",
              "      height: 32px;\n",
              "      padding: 0 0 0 0;\n",
              "      width: 32px;\n",
              "    }\n",
              "\n",
              "    .colab-df-convert:hover {\n",
              "      background-color: #E2EBFA;\n",
              "      box-shadow: 0px 1px 2px rgba(60, 64, 67, 0.3), 0px 1px 3px 1px rgba(60, 64, 67, 0.15);\n",
              "      fill: #174EA6;\n",
              "    }\n",
              "\n",
              "    [theme=dark] .colab-df-convert {\n",
              "      background-color: #3B4455;\n",
              "      fill: #D2E3FC;\n",
              "    }\n",
              "\n",
              "    [theme=dark] .colab-df-convert:hover {\n",
              "      background-color: #434B5C;\n",
              "      box-shadow: 0px 1px 3px 1px rgba(0, 0, 0, 0.15);\n",
              "      filter: drop-shadow(0px 1px 2px rgba(0, 0, 0, 0.3));\n",
              "      fill: #FFFFFF;\n",
              "    }\n",
              "  </style>\n",
              "\n",
              "      <script>\n",
              "        const buttonEl =\n",
              "          document.querySelector('#df-cf4bf90e-4891-4ae0-ae6e-c3ae815f7a8a button.colab-df-convert');\n",
              "        buttonEl.style.display =\n",
              "          google.colab.kernel.accessAllowed ? 'block' : 'none';\n",
              "\n",
              "        async function convertToInteractive(key) {\n",
              "          const element = document.querySelector('#df-cf4bf90e-4891-4ae0-ae6e-c3ae815f7a8a');\n",
              "          const dataTable =\n",
              "            await google.colab.kernel.invokeFunction('convertToInteractive',\n",
              "                                                     [key], {});\n",
              "          if (!dataTable) return;\n",
              "\n",
              "          const docLinkHtml = 'Like what you see? Visit the ' +\n",
              "            '<a target=\"_blank\" href=https://colab.research.google.com/notebooks/data_table.ipynb>data table notebook</a>'\n",
              "            + ' to learn more about interactive tables.';\n",
              "          element.innerHTML = '';\n",
              "          dataTable['output_type'] = 'display_data';\n",
              "          await google.colab.output.renderOutput(dataTable, element);\n",
              "          const docLink = document.createElement('div');\n",
              "          docLink.innerHTML = docLinkHtml;\n",
              "          element.appendChild(docLink);\n",
              "        }\n",
              "      </script>\n",
              "    </div>\n",
              "  </div>\n",
              "  "
            ]
          },
          "metadata": {},
          "execution_count": 16
        }
      ]
    },
    {
      "cell_type": "markdown",
      "source": [
        "Harga rerata hampir sama pada semua kondisi cuaca. Hal ini mengindikasikan cuaca tidak berpengaruh pada harga. Tapi sebelum memutuskan untuk menghapus kolom, lebih baik menganalisa korelasinya menggunakan heatmap."
      ],
      "metadata": {
        "id": "awjfgZypqyhu"
      }
    },
    {
      "cell_type": "markdown",
      "source": [
        "# V. DATA PREPROCESSING"
      ],
      "metadata": {
        "id": "L6nB-uBr1AN9"
      }
    },
    {
      "cell_type": "markdown",
      "source": [
        "Bagian ini berisi proses penyiapan data untuk proses pelatihan model, seperti pembagian data menjadi train-dev-test, transformasi data (normalisasi, encoding, dll.), dan proses-proses lain yang dibutuhkan."
      ],
      "metadata": {
        "id": "Q92xaS901woL"
      }
    },
    {
      "cell_type": "markdown",
      "source": [
        "Pertama, kita akan hapus missing values dari dataset"
      ],
      "metadata": {
        "id": "STWDDgRIhqvq"
      }
    },
    {
      "cell_type": "code",
      "source": [
        "# Delete missing values\n",
        "df.dropna(inplace=True)"
      ],
      "metadata": {
        "id": "t_QjSc-Ieyi-"
      },
      "execution_count": 17,
      "outputs": []
    },
    {
      "cell_type": "markdown",
      "source": [
        "Lalu kita hitung nilai unik masing2 kolom"
      ],
      "metadata": {
        "id": "SZ5r_CH3h9xn"
      }
    },
    {
      "cell_type": "code",
      "source": [
        "# Check value kolom timezone\n",
        "df.nunique()"
      ],
      "metadata": {
        "colab": {
          "base_uri": "https://localhost:8080/"
        },
        "id": "G-8xTmzwe1o6",
        "outputId": "f66ff48d-0992-48af-9275-12474dc661fa"
      },
      "execution_count": 18,
      "outputs": [
        {
          "output_type": "execute_result",
          "data": {
            "text/plain": [
              "id                             637976\n",
              "timestamp                       35796\n",
              "hour                               24\n",
              "day                                17\n",
              "month                               2\n",
              "datetime                        31350\n",
              "timezone                            1\n",
              "source                             12\n",
              "destination                        12\n",
              "cab_type                            2\n",
              "product_id                         12\n",
              "name                               12\n",
              "price                             147\n",
              "distance                          549\n",
              "surge_multiplier                    7\n",
              "latitude                           11\n",
              "longitude                          12\n",
              "temperature                       308\n",
              "apparentTemperature               319\n",
              "weather                             9\n",
              "long_summary                       11\n",
              "precipIntensity                    63\n",
              "precipProbability                  29\n",
              "humidity                           51\n",
              "windSpeed                         291\n",
              "windGust                          286\n",
              "windGustTime                       25\n",
              "visibility                        227\n",
              "temperatureHigh                   129\n",
              "temperatureHighTime                23\n",
              "temperatureLow                    133\n",
              "temperatureLowTime                 31\n",
              "apparentTemperatureHigh           124\n",
              "apparentTemperatureHighTime        27\n",
              "apparentTemperatureLow            136\n",
              "apparentTemperatureLowTime         32\n",
              "icon                                7\n",
              "dewPoint                          313\n",
              "pressure                          316\n",
              "windBearing                       195\n",
              "cloudCover                         83\n",
              "uvIndex                             3\n",
              "visibility.1                      227\n",
              "ozone                             274\n",
              "sunriseTime                       110\n",
              "sunsetTime                        114\n",
              "moonPhase                          18\n",
              "precipIntensityMax                 65\n",
              "uvIndexTime                        20\n",
              "temperatureMin                    131\n",
              "temperatureMinTime                 25\n",
              "temperatureMax                    128\n",
              "temperatureMaxTime                 23\n",
              "apparentTemperatureMin            137\n",
              "apparentTemperatureMinTime         29\n",
              "apparentTemperatureMax            125\n",
              "apparentTemperatureMaxTime         27\n",
              "dtype: int64"
            ]
          },
          "metadata": {},
          "execution_count": 18
        }
      ]
    },
    {
      "cell_type": "markdown",
      "source": [
        "Berikutnya delete kolom2 yang tidak dibutuhkan. Kolom id tidak dibutuhkan untuk memprediksi harga. Kolom timestamp dan datetime juga sudah diwakili oleh kolom hour, day dan month. Kolom latitude dan longitude tidak diperlukan karena hanya menandakan wilayah di dalam peta. Kolom long_summary tidak dibutuhkan karena hanya penjabaran string dari kolom short_summary. Kolom icon juga tidak diperlukan karena sudah ada kolom short_summary. "
      ],
      "metadata": {
        "id": "ssxYlA_RfM8j"
      }
    },
    {
      "cell_type": "code",
      "source": [
        "# Delete kolom2 yang tidak dipakai dan store hasilnya dalam df\n",
        "df = df.drop(['id', 'timestamp', 'datetime', 'timezone','product_id','latitude','longitude','long_summary','icon'], axis = 1)"
      ],
      "metadata": {
        "id": "SIFc6iwte82m"
      },
      "execution_count": 19,
      "outputs": []
    },
    {
      "cell_type": "markdown",
      "source": [
        "Sekarang kita lihat lagi jumlah kolom pada df"
      ],
      "metadata": {
        "id": "LZm8HsSdivW9"
      }
    },
    {
      "cell_type": "code",
      "source": [
        "# Tampilkan nama kolom dan dtype\n",
        "df.info()\n",
        "print('Jumlah baris adalah {} dan jumlah kolom adalah {}'.format(df.shape[0], df.shape[1]))"
      ],
      "metadata": {
        "colab": {
          "base_uri": "https://localhost:8080/"
        },
        "id": "vJTdMJE7e_XB",
        "outputId": "ed39c01b-a8f4-4991-e2a0-8b6a78bd4712"
      },
      "execution_count": 20,
      "outputs": [
        {
          "output_type": "stream",
          "name": "stdout",
          "text": [
            "<class 'pandas.core.frame.DataFrame'>\n",
            "Int64Index: 637976 entries, 0 to 693070\n",
            "Data columns (total 48 columns):\n",
            " #   Column                       Non-Null Count   Dtype  \n",
            "---  ------                       --------------   -----  \n",
            " 0   hour                         637976 non-null  int64  \n",
            " 1   day                          637976 non-null  int64  \n",
            " 2   month                        637976 non-null  int64  \n",
            " 3   source                       637976 non-null  object \n",
            " 4   destination                  637976 non-null  object \n",
            " 5   cab_type                     637976 non-null  object \n",
            " 6   name                         637976 non-null  object \n",
            " 7   price                        637976 non-null  float64\n",
            " 8   distance                     637976 non-null  float64\n",
            " 9   surge_multiplier             637976 non-null  float64\n",
            " 10  temperature                  637976 non-null  float64\n",
            " 11  apparentTemperature          637976 non-null  float64\n",
            " 12  weather                      637976 non-null  object \n",
            " 13  precipIntensity              637976 non-null  float64\n",
            " 14  precipProbability            637976 non-null  float64\n",
            " 15  humidity                     637976 non-null  float64\n",
            " 16  windSpeed                    637976 non-null  float64\n",
            " 17  windGust                     637976 non-null  float64\n",
            " 18  windGustTime                 637976 non-null  int64  \n",
            " 19  visibility                   637976 non-null  float64\n",
            " 20  temperatureHigh              637976 non-null  float64\n",
            " 21  temperatureHighTime          637976 non-null  int64  \n",
            " 22  temperatureLow               637976 non-null  float64\n",
            " 23  temperatureLowTime           637976 non-null  int64  \n",
            " 24  apparentTemperatureHigh      637976 non-null  float64\n",
            " 25  apparentTemperatureHighTime  637976 non-null  int64  \n",
            " 26  apparentTemperatureLow       637976 non-null  float64\n",
            " 27  apparentTemperatureLowTime   637976 non-null  int64  \n",
            " 28  dewPoint                     637976 non-null  float64\n",
            " 29  pressure                     637976 non-null  float64\n",
            " 30  windBearing                  637976 non-null  int64  \n",
            " 31  cloudCover                   637976 non-null  float64\n",
            " 32  uvIndex                      637976 non-null  int64  \n",
            " 33  visibility.1                 637976 non-null  float64\n",
            " 34  ozone                        637976 non-null  float64\n",
            " 35  sunriseTime                  637976 non-null  int64  \n",
            " 36  sunsetTime                   637976 non-null  int64  \n",
            " 37  moonPhase                    637976 non-null  float64\n",
            " 38  precipIntensityMax           637976 non-null  float64\n",
            " 39  uvIndexTime                  637976 non-null  int64  \n",
            " 40  temperatureMin               637976 non-null  float64\n",
            " 41  temperatureMinTime           637976 non-null  int64  \n",
            " 42  temperatureMax               637976 non-null  float64\n",
            " 43  temperatureMaxTime           637976 non-null  int64  \n",
            " 44  apparentTemperatureMin       637976 non-null  float64\n",
            " 45  apparentTemperatureMinTime   637976 non-null  int64  \n",
            " 46  apparentTemperatureMax       637976 non-null  float64\n",
            " 47  apparentTemperatureMaxTime   637976 non-null  int64  \n",
            "dtypes: float64(26), int64(17), object(5)\n",
            "memory usage: 238.5+ MB\n",
            "Jumlah baris adalah 637976 dan jumlah kolom adalah 48\n"
          ]
        }
      ]
    },
    {
      "cell_type": "markdown",
      "source": [
        "Pertama, kita ingin mengetaui korelasi antara kolom yang berhubungan dengan waktu dan price."
      ],
      "metadata": {
        "id": "CYucv0VP1zND"
      }
    },
    {
      "cell_type": "code",
      "source": [
        "# Buat variabel time berisi nama kolom2 waktu\n",
        "time = ['hour','day','month','price']\n",
        "\n",
        "# Plot heatmap\n",
        "plt.figure(figsize=(5,5))\n",
        "sns.heatmap(df[time].corr(), annot=True)"
      ],
      "metadata": {
        "colab": {
          "base_uri": "https://localhost:8080/",
          "height": 342
        },
        "id": "m47k48UZg7AK",
        "outputId": "f1a31994-d2db-42b4-a4a6-ce807ff23a39"
      },
      "execution_count": 22,
      "outputs": [
        {
          "output_type": "execute_result",
          "data": {
            "text/plain": [
              "<matplotlib.axes._subplots.AxesSubplot at 0x7fd713d85250>"
            ]
          },
          "metadata": {},
          "execution_count": 22
        },
        {
          "output_type": "display_data",
          "data": {
            "text/plain": [
              "<Figure size 360x360 with 2 Axes>"
            ],
            "image/png": "[encoded data removed]"
          },
          "metadata": {
            "needs_background": "light"
          }
        }
      ]
    },
    {
      "cell_type": "markdown",
      "source": [
        "Terlihat jika month, day dan hour tidak memiliki korelasi yang signifikan dengan price, sehingga dapat di-drop"
      ],
      "metadata": {
        "id": "6pptrRWU2EKM"
      }
    },
    {
      "cell_type": "code",
      "source": [
        "# Delete kolom hour, day dan month. Store variabel ke dalam df_2\n",
        "df.drop(['hour','day','month'], axis = 1, inplace=True)"
      ],
      "metadata": {
        "id": "j8DFRh7Oigvb"
      },
      "execution_count": 23,
      "outputs": []
    },
    {
      "cell_type": "markdown",
      "source": [
        "Next, kita akan mengetahui apakah ada korelasi antara kolom temperatur dengan price"
      ],
      "metadata": {
        "id": "qxleiRFr2XcV"
      }
    },
    {
      "cell_type": "code",
      "source": [
        "# Buat variabel temp berisi nama kolom2 temperatur\n",
        "temp = ['temperature','apparentTemperature','temperatureHigh','temperatureHighTime','temperatureLow','temperatureLowTime',\n",
        "        'apparentTemperatureHigh','apparentTemperatureHighTime','apparentTemperatureLow','apparentTemperatureLowTime',\n",
        "        'temperatureMin','temperatureMinTime','temperatureMax','temperatureMaxTime','apparentTemperatureMin','apparentTemperatureMinTime',\n",
        "        'apparentTemperatureMax','apparentTemperatureMaxTime','price']\n",
        "\n",
        "# Plot heatmap\n",
        "plt.figure(figsize=(15,15))\n",
        "sns.heatmap(df[temp].corr(), annot=True)"
      ],
      "metadata": {
        "colab": {
          "base_uri": "https://localhost:8080/",
          "height": 909
        },
        "id": "Nr3LgYaxiyif",
        "outputId": "307e7e2d-93ca-4a07-81ac-757fc365661a"
      },
      "execution_count": 24,
      "outputs": [
        {
          "output_type": "execute_result",
          "data": {
            "text/plain": [
              "<matplotlib.axes._subplots.AxesSubplot at 0x7fd7116fae50>"
            ]
          },
          "metadata": {},
          "execution_count": 24
        },
        {
          "output_type": "display_data",
          "data": {
            "text/plain": [
              "<Figure size 1080x1080 with 2 Axes>"
            ],
            "image/png": "[encoded data removed]"
          },
          "metadata": {
            "needs_background": "light"
          }
        }
      ]
    },
    {
      "cell_type": "markdown",
      "source": [
        "Terlihat bahwa temperatur tidak memiliki korelasi dengan price, sehingga dapat dihapus"
      ],
      "metadata": {
        "id": "9u6nFLQ92nwU"
      }
    },
    {
      "cell_type": "code",
      "source": [
        "# Drop kolom temperatur\n",
        "df = df.drop(['temperature','apparentTemperature','temperatureHigh','temperatureHighTime','temperatureLow','temperatureLowTime',\n",
        "        'apparentTemperatureHigh','apparentTemperatureHighTime','apparentTemperatureLow','apparentTemperatureLowTime',\n",
        "        'temperatureMin','temperatureMinTime','temperatureMax','temperatureMaxTime','apparentTemperatureMin','apparentTemperatureMinTime',\n",
        "        'apparentTemperatureMax','apparentTemperatureMaxTime'], axis = 1)"
      ],
      "metadata": {
        "id": "Waej7i3hjXov"
      },
      "execution_count": 25,
      "outputs": []
    },
    {
      "cell_type": "markdown",
      "source": [
        "Selanjutnya, kita akan menyelidiki korelasi antara cuaca dengan price"
      ],
      "metadata": {
        "id": "SEQ06FSp21Qo"
      }
    },
    {
      "cell_type": "code",
      "source": [
        "# Buat variabel weath berisi nama kolom2 cuaca\n",
        "weather = ['precipIntensity', 'precipProbability', 'humidity', 'windSpeed',\n",
        "       'windGust','windGustTime','visibility','dewPoint','pressure','windBearing',\n",
        "       'cloudCover','uvIndex','visibility.1','ozone','sunriseTime','sunsetTime',\n",
        "       'moonPhase','precipIntensityMax','uvIndexTime','price']\n",
        "\n",
        "# Plot heatmap\n",
        "plt.figure(figsize=(15,15))\n",
        "sns.heatmap(df[weather].corr(), annot=True)"
      ],
      "metadata": {
        "colab": {
          "base_uri": "https://localhost:8080/",
          "height": 904
        },
        "id": "9VAp_tMJjeQL",
        "outputId": "cb36e60d-b8f5-46b2-a0aa-579e32678748"
      },
      "execution_count": 26,
      "outputs": [
        {
          "output_type": "execute_result",
          "data": {
            "text/plain": [
              "<matplotlib.axes._subplots.AxesSubplot at 0x7fd713db8a00>"
            ]
          },
          "metadata": {},
          "execution_count": 26
        },
        {
          "output_type": "display_data",
          "data": {
            "text/plain": [
              "<Figure size 1080x1080 with 2 Axes>"
            ],
            "image/png": "[encoded data removed]"
          },
          "metadata": {
            "needs_background": "light"
          }
        }
      ]
    },
    {
      "cell_type": "markdown",
      "source": [
        "Terlihat jika cuaca hanya mempunyai pengaruh yang sangat kecil terhadap price, sehingga kolom2 tsb akan dihapus"
      ],
      "metadata": {
        "id": "GHW1Jww73BnQ"
      }
    },
    {
      "cell_type": "code",
      "source": [
        "# Drop kolom2 cuaca\n",
        "df = df.drop(['precipIntensity', 'precipProbability', 'humidity', 'windSpeed',\n",
        "       'windGust','windGustTime','visibility','dewPoint','pressure','windBearing',\n",
        "       'cloudCover','uvIndex','visibility.1','ozone','sunriseTime','sunsetTime',\n",
        "       'moonPhase','precipIntensityMax','uvIndexTime'], axis = 1)"
      ],
      "metadata": {
        "id": "CgLxK7h-j5TB"
      },
      "execution_count": 27,
      "outputs": []
    },
    {
      "cell_type": "code",
      "source": [
        "# Tampilkan dataset setelah menghapus kolom waktu, temperatur dan cuaca\n",
        "df.head()"
      ],
      "metadata": {
        "colab": {
          "base_uri": "https://localhost:8080/",
          "height": 250
        },
        "id": "EbhoXO7BobQj",
        "outputId": "4bafb386-cccd-4a24-e2ed-bdb043bbd29f"
      },
      "execution_count": 28,
      "outputs": [
        {
          "output_type": "execute_result",
          "data": {
            "text/plain": [
              "             source    destination cab_type          name  price  distance  \\\n",
              "0  Haymarket Square  North Station     Lyft        Shared    5.0      0.44   \n",
              "1  Haymarket Square  North Station     Lyft           Lux   11.0      0.44   \n",
              "2  Haymarket Square  North Station     Lyft          Lyft    7.0      0.44   \n",
              "3  Haymarket Square  North Station     Lyft  Lux Black XL   26.0      0.44   \n",
              "4  Haymarket Square  North Station     Lyft       Lyft XL    9.0      0.44   \n",
              "\n",
              "   surge_multiplier          weather  \n",
              "0               1.0   Mostly Cloudy   \n",
              "1               1.0            Rain   \n",
              "2               1.0           Clear   \n",
              "3               1.0           Clear   \n",
              "4               1.0   Partly Cloudy   "
            ],
            "text/html": [
              "\n",
              "  <div id=\"df-3631ad5c-445f-422b-86e2-07210a4127f8\">\n",
              "    <div class=\"colab-df-container\">\n",
              "      <div>\n",
              "<style scoped>\n",
              "    .dataframe tbody tr th:only-of-type {\n",
              "        vertical-align: middle;\n",
              "    }\n",
              "\n",
              "    .dataframe tbody tr th {\n",
              "        vertical-align: top;\n",
              "    }\n",
              "\n",
              "    .dataframe thead th {\n",
              "        text-align: right;\n",
              "    }\n",
              "</style>\n",
              "<table border=\"1\" class=\"dataframe\">\n",
              "  <thead>\n",
              "    <tr style=\"text-align: right;\">\n",
              "      <th></th>\n",
              "      <th>source</th>\n",
              "      <th>destination</th>\n",
              "      <th>cab_type</th>\n",
              "      <th>name</th>\n",
              "      <th>price</th>\n",
              "      <th>distance</th>\n",
              "      <th>surge_multiplier</th>\n",
              "      <th>weather</th>\n",
              "    </tr>\n",
              "  </thead>\n",
              "  <tbody>\n",
              "    <tr>\n",
              "      <th>0</th>\n",
              "      <td>Haymarket Square</td>\n",
              "      <td>North Station</td>\n",
              "      <td>Lyft</td>\n",
              "      <td>Shared</td>\n",
              "      <td>5.0</td>\n",
              "      <td>0.44</td>\n",
              "      <td>1.0</td>\n",
              "      <td>Mostly Cloudy</td>\n",
              "    </tr>\n",
              "    <tr>\n",
              "      <th>1</th>\n",
              "      <td>Haymarket Square</td>\n",
              "      <td>North Station</td>\n",
              "      <td>Lyft</td>\n",
              "      <td>Lux</td>\n",
              "      <td>11.0</td>\n",
              "      <td>0.44</td>\n",
              "      <td>1.0</td>\n",
              "      <td>Rain</td>\n",
              "    </tr>\n",
              "    <tr>\n",
              "      <th>2</th>\n",
              "      <td>Haymarket Square</td>\n",
              "      <td>North Station</td>\n",
              "      <td>Lyft</td>\n",
              "      <td>Lyft</td>\n",
              "      <td>7.0</td>\n",
              "      <td>0.44</td>\n",
              "      <td>1.0</td>\n",
              "      <td>Clear</td>\n",
              "    </tr>\n",
              "    <tr>\n",
              "      <th>3</th>\n",
              "      <td>Haymarket Square</td>\n",
              "      <td>North Station</td>\n",
              "      <td>Lyft</td>\n",
              "      <td>Lux Black XL</td>\n",
              "      <td>26.0</td>\n",
              "      <td>0.44</td>\n",
              "      <td>1.0</td>\n",
              "      <td>Clear</td>\n",
              "    </tr>\n",
              "    <tr>\n",
              "      <th>4</th>\n",
              "      <td>Haymarket Square</td>\n",
              "      <td>North Station</td>\n",
              "      <td>Lyft</td>\n",
              "      <td>Lyft XL</td>\n",
              "      <td>9.0</td>\n",
              "      <td>0.44</td>\n",
              "      <td>1.0</td>\n",
              "      <td>Partly Cloudy</td>\n",
              "    </tr>\n",
              "  </tbody>\n",
              "</table>\n",
              "</div>\n",
              "      <button class=\"colab-df-convert\" onclick=\"convertToInteractive('df-3631ad5c-445f-422b-86e2-07210a4127f8')\"\n",
              "              title=\"Convert this dataframe to an interactive table.\"\n",
              "              style=\"display:none;\">\n",
              "        \n",
              "  <svg xmlns=\"http://www.w3.org/2000/svg\" height=\"24px\"viewBox=\"0 0 24 24\"\n",
              "       width=\"24px\">\n",
              "    <path d=\"M0 0h24v24H0V0z\" fill=\"none\"/>\n",
              "    <path d=\"M18.56 5.44l.94 2.06.94-2.06 2.06-.94-2.06-.94-.94-2.06-.94 2.06-2.06.94zm-11 1L8.5 8.5l.94-2.06 2.06-.94-2.06-.94L8.5 2.5l-.94 2.06-2.06.94zm10 10l.94 2.06.94-2.06 2.06-.94-2.06-.94-.94-2.06-.94 2.06-2.06.94z\"/><path d=\"M17.41 7.96l-1.37-1.37c-.4-.4-.92-.59-1.43-.59-.52 0-1.04.2-1.43.59L10.3 9.45l-7.72 7.72c-.78.78-.78 2.05 0 2.83L4 21.41c.39.39.9.59 1.41.59.51 0 1.02-.2 1.41-.59l7.78-7.78 2.81-2.81c.8-.78.8-2.07 0-2.86zM5.41 20L4 18.59l7.72-7.72 1.47 1.35L5.41 20z\"/>\n",
              "  </svg>\n",
              "      </button>\n",
              "      \n",
              "  <style>\n",
              "    .colab-df-container {\n",
              "      display:flex;\n",
              "      flex-wrap:wrap;\n",
              "      gap: 12px;\n",
              "    }\n",
              "\n",
              "    .colab-df-convert {\n",
              "      background-color: #E8F0FE;\n",
              "      border: none;\n",
              "      border-radius: 50%;\n",
              "      cursor: pointer;\n",
              "      display: none;\n",
              "      fill: #1967D2;\n",
              "      height: 32px;\n",
              "      padding: 0 0 0 0;\n",
              "      width: 32px;\n",
              "    }\n",
              "\n",
              "    .colab-df-convert:hover {\n",
              "      background-color: #E2EBFA;\n",
              "      box-shadow: 0px 1px 2px rgba(60, 64, 67, 0.3), 0px 1px 3px 1px rgba(60, 64, 67, 0.15);\n",
              "      fill: #174EA6;\n",
              "    }\n",
              "\n",
              "    [theme=dark] .colab-df-convert {\n",
              "      background-color: #3B4455;\n",
              "      fill: #D2E3FC;\n",
              "    }\n",
              "\n",
              "    [theme=dark] .colab-df-convert:hover {\n",
              "      background-color: #434B5C;\n",
              "      box-shadow: 0px 1px 3px 1px rgba(0, 0, 0, 0.15);\n",
              "      filter: drop-shadow(0px 1px 2px rgba(0, 0, 0, 0.3));\n",
              "      fill: #FFFFFF;\n",
              "    }\n",
              "  </style>\n",
              "\n",
              "      <script>\n",
              "        const buttonEl =\n",
              "          document.querySelector('#df-3631ad5c-445f-422b-86e2-07210a4127f8 button.colab-df-convert');\n",
              "        buttonEl.style.display =\n",
              "          google.colab.kernel.accessAllowed ? 'block' : 'none';\n",
              "\n",
              "        async function convertToInteractive(key) {\n",
              "          const element = document.querySelector('#df-3631ad5c-445f-422b-86e2-07210a4127f8');\n",
              "          const dataTable =\n",
              "            await google.colab.kernel.invokeFunction('convertToInteractive',\n",
              "                                                     [key], {});\n",
              "          if (!dataTable) return;\n",
              "\n",
              "          const docLinkHtml = 'Like what you see? Visit the ' +\n",
              "            '<a target=\"_blank\" href=https://colab.research.google.com/notebooks/data_table.ipynb>data table notebook</a>'\n",
              "            + ' to learn more about interactive tables.';\n",
              "          element.innerHTML = '';\n",
              "          dataTable['output_type'] = 'display_data';\n",
              "          await google.colab.output.renderOutput(dataTable, element);\n",
              "          const docLink = document.createElement('div');\n",
              "          docLink.innerHTML = docLinkHtml;\n",
              "          element.appendChild(docLink);\n",
              "        }\n",
              "      </script>\n",
              "    </div>\n",
              "  </div>\n",
              "  "
            ]
          },
          "metadata": {},
          "execution_count": 28
        }
      ]
    },
    {
      "cell_type": "markdown",
      "source": [
        "Hanya tersisa sebanyak 7 fitur. Berikutnya kita ingin mengetahui korelasi antara kolom dengan value categorical terhadap price. Caranya adalah dengan mengubah data categorical tsb menggunakan label encoder"
      ],
      "metadata": {
        "id": "TIouC3so3Zzb"
      }
    },
    {
      "cell_type": "code",
      "source": [
        "# Buat variabel label sebagai label encoder\n",
        "labels = preprocessing.LabelEncoder()"
      ],
      "metadata": {
        "id": "OnDif61O1evD"
      },
      "execution_count": 31,
      "outputs": []
    },
    {
      "cell_type": "code",
      "source": [
        "#Pisahkan kolom2 categorical, tempatkan pada df_cat\n",
        "df_cat = df[['source','destination','cab_type','name','weather']]\n",
        "\n",
        "#Transform data categorical pada kolom2 tsb menggunakan looping\n",
        "for col in df_cat.columns:\n",
        "    df_cat[col] = labels.fit_transform(df_cat[col])"
      ],
      "metadata": {
        "colab": {
          "base_uri": "https://localhost:8080/"
        },
        "id": "-Af5_b5A1eso",
        "outputId": "a8daaaff-2a8b-400a-cdcf-046c7869085f"
      },
      "execution_count": 32,
      "outputs": [
        {
          "output_type": "stream",
          "name": "stderr",
          "text": [
            "<ipython-input-32-4da75a410f10>:6: SettingWithCopyWarning: \n",
            "A value is trying to be set on a copy of a slice from a DataFrame.\n",
            "Try using .loc[row_indexer,col_indexer] = value instead\n",
            "\n",
            "See the caveats in the documentation: https://pandas.pydata.org/pandas-docs/stable/user_guide/indexing.html#returning-a-view-versus-a-copy\n",
            "  df_cat[col] = labels.fit_transform(df_cat[col])\n"
          ]
        }
      ]
    },
    {
      "cell_type": "code",
      "source": [
        "# Tambahkan kolom price pada df_cat\n",
        "df_cat['price'] = df['price']\n",
        "\n",
        "# Tampilkan df_2_cat\n",
        "df_cat.head()"
      ],
      "metadata": {
        "colab": {
          "base_uri": "https://localhost:8080/",
          "height": 334
        },
        "id": "4izivts14Trt",
        "outputId": "5d39565b-e458-4786-c5e3-7cb9917329d1"
      },
      "execution_count": 33,
      "outputs": [
        {
          "output_type": "stream",
          "name": "stderr",
          "text": [
            "<ipython-input-33-7e0b26498999>:2: SettingWithCopyWarning: \n",
            "A value is trying to be set on a copy of a slice from a DataFrame.\n",
            "Try using .loc[row_indexer,col_indexer] = value instead\n",
            "\n",
            "See the caveats in the documentation: https://pandas.pydata.org/pandas-docs/stable/user_guide/indexing.html#returning-a-view-versus-a-copy\n",
            "  df_cat['price'] = df['price']\n"
          ]
        },
        {
          "output_type": "execute_result",
          "data": {
            "text/plain": [
              "   source  destination  cab_type  name  weather  price\n",
              "0       5            7         0     7        4    5.0\n",
              "1       5            7         0     2        8   11.0\n",
              "2       5            7         0     5        0    7.0\n",
              "3       5            7         0     4        0   26.0\n",
              "4       5            7         0     6        6    9.0"
            ],
            "text/html": [
              "\n",
              "  <div id=\"df-6e7fb633-5fe5-456c-a69b-b4d5e1282503\">\n",
              "    <div class=\"colab-df-container\">\n",
              "      <div>\n",
              "<style scoped>\n",
              "    .dataframe tbody tr th:only-of-type {\n",
              "        vertical-align: middle;\n",
              "    }\n",
              "\n",
              "    .dataframe tbody tr th {\n",
              "        vertical-align: top;\n",
              "    }\n",
              "\n",
              "    .dataframe thead th {\n",
              "        text-align: right;\n",
              "    }\n",
              "</style>\n",
              "<table border=\"1\" class=\"dataframe\">\n",
              "  <thead>\n",
              "    <tr style=\"text-align: right;\">\n",
              "      <th></th>\n",
              "      <th>source</th>\n",
              "      <th>destination</th>\n",
              "      <th>cab_type</th>\n",
              "      <th>name</th>\n",
              "      <th>weather</th>\n",
              "      <th>price</th>\n",
              "    </tr>\n",
              "  </thead>\n",
              "  <tbody>\n",
              "    <tr>\n",
              "      <th>0</th>\n",
              "      <td>5</td>\n",
              "      <td>7</td>\n",
              "      <td>0</td>\n",
              "      <td>7</td>\n",
              "      <td>4</td>\n",
              "      <td>5.0</td>\n",
              "    </tr>\n",
              "    <tr>\n",
              "      <th>1</th>\n",
              "      <td>5</td>\n",
              "      <td>7</td>\n",
              "      <td>0</td>\n",
              "      <td>2</td>\n",
              "      <td>8</td>\n",
              "      <td>11.0</td>\n",
              "    </tr>\n",
              "    <tr>\n",
              "      <th>2</th>\n",
              "      <td>5</td>\n",
              "      <td>7</td>\n",
              "      <td>0</td>\n",
              "      <td>5</td>\n",
              "      <td>0</td>\n",
              "      <td>7.0</td>\n",
              "    </tr>\n",
              "    <tr>\n",
              "      <th>3</th>\n",
              "      <td>5</td>\n",
              "      <td>7</td>\n",
              "      <td>0</td>\n",
              "      <td>4</td>\n",
              "      <td>0</td>\n",
              "      <td>26.0</td>\n",
              "    </tr>\n",
              "    <tr>\n",
              "      <th>4</th>\n",
              "      <td>5</td>\n",
              "      <td>7</td>\n",
              "      <td>0</td>\n",
              "      <td>6</td>\n",
              "      <td>6</td>\n",
              "      <td>9.0</td>\n",
              "    </tr>\n",
              "  </tbody>\n",
              "</table>\n",
              "</div>\n",
              "      <button class=\"colab-df-convert\" onclick=\"convertToInteractive('df-6e7fb633-5fe5-456c-a69b-b4d5e1282503')\"\n",
              "              title=\"Convert this dataframe to an interactive table.\"\n",
              "              style=\"display:none;\">\n",
              "        \n",
              "  <svg xmlns=\"http://www.w3.org/2000/svg\" height=\"24px\"viewBox=\"0 0 24 24\"\n",
              "       width=\"24px\">\n",
              "    <path d=\"M0 0h24v24H0V0z\" fill=\"none\"/>\n",
              "    <path d=\"M18.56 5.44l.94 2.06.94-2.06 2.06-.94-2.06-.94-.94-2.06-.94 2.06-2.06.94zm-11 1L8.5 8.5l.94-2.06 2.06-.94-2.06-.94L8.5 2.5l-.94 2.06-2.06.94zm10 10l.94 2.06.94-2.06 2.06-.94-2.06-.94-.94-2.06-.94 2.06-2.06.94z\"/><path d=\"M17.41 7.96l-1.37-1.37c-.4-.4-.92-.59-1.43-.59-.52 0-1.04.2-1.43.59L10.3 9.45l-7.72 7.72c-.78.78-.78 2.05 0 2.83L4 21.41c.39.39.9.59 1.41.59.51 0 1.02-.2 1.41-.59l7.78-7.78 2.81-2.81c.8-.78.8-2.07 0-2.86zM5.41 20L4 18.59l7.72-7.72 1.47 1.35L5.41 20z\"/>\n",
              "  </svg>\n",
              "      </button>\n",
              "      \n",
              "  <style>\n",
              "    .colab-df-container {\n",
              "      display:flex;\n",
              "      flex-wrap:wrap;\n",
              "      gap: 12px;\n",
              "    }\n",
              "\n",
              "    .colab-df-convert {\n",
              "      background-color: #E8F0FE;\n",
              "      border: none;\n",
              "      border-radius: 50%;\n",
              "      cursor: pointer;\n",
              "      display: none;\n",
              "      fill: #1967D2;\n",
              "      height: 32px;\n",
              "      padding: 0 0 0 0;\n",
              "      width: 32px;\n",
              "    }\n",
              "\n",
              "    .colab-df-convert:hover {\n",
              "      background-color: #E2EBFA;\n",
              "      box-shadow: 0px 1px 2px rgba(60, 64, 67, 0.3), 0px 1px 3px 1px rgba(60, 64, 67, 0.15);\n",
              "      fill: #174EA6;\n",
              "    }\n",
              "\n",
              "    [theme=dark] .colab-df-convert {\n",
              "      background-color: #3B4455;\n",
              "      fill: #D2E3FC;\n",
              "    }\n",
              "\n",
              "    [theme=dark] .colab-df-convert:hover {\n",
              "      background-color: #434B5C;\n",
              "      box-shadow: 0px 1px 3px 1px rgba(0, 0, 0, 0.15);\n",
              "      filter: drop-shadow(0px 1px 2px rgba(0, 0, 0, 0.3));\n",
              "      fill: #FFFFFF;\n",
              "    }\n",
              "  </style>\n",
              "\n",
              "      <script>\n",
              "        const buttonEl =\n",
              "          document.querySelector('#df-6e7fb633-5fe5-456c-a69b-b4d5e1282503 button.colab-df-convert');\n",
              "        buttonEl.style.display =\n",
              "          google.colab.kernel.accessAllowed ? 'block' : 'none';\n",
              "\n",
              "        async function convertToInteractive(key) {\n",
              "          const element = document.querySelector('#df-6e7fb633-5fe5-456c-a69b-b4d5e1282503');\n",
              "          const dataTable =\n",
              "            await google.colab.kernel.invokeFunction('convertToInteractive',\n",
              "                                                     [key], {});\n",
              "          if (!dataTable) return;\n",
              "\n",
              "          const docLinkHtml = 'Like what you see? Visit the ' +\n",
              "            '<a target=\"_blank\" href=https://colab.research.google.com/notebooks/data_table.ipynb>data table notebook</a>'\n",
              "            + ' to learn more about interactive tables.';\n",
              "          element.innerHTML = '';\n",
              "          dataTable['output_type'] = 'display_data';\n",
              "          await google.colab.output.renderOutput(dataTable, element);\n",
              "          const docLink = document.createElement('div');\n",
              "          docLink.innerHTML = docLinkHtml;\n",
              "          element.appendChild(docLink);\n",
              "        }\n",
              "      </script>\n",
              "    </div>\n",
              "  </div>\n",
              "  "
            ]
          },
          "metadata": {},
          "execution_count": 33
        }
      ]
    },
    {
      "cell_type": "markdown",
      "source": [
        "Sekarang semua kolom categorical berisi angka. Berikutnya analisa korelasi dengan heatmap"
      ],
      "metadata": {
        "id": "B6-r9ium4KZV"
      }
    },
    {
      "cell_type": "code",
      "source": [
        "# Plot heatmap\n",
        "plt.figure(figsize=(8,8))\n",
        "sns.heatmap(df_cat.corr(), annot=True)"
      ],
      "metadata": {
        "colab": {
          "base_uri": "https://localhost:8080/",
          "height": 506
        },
        "id": "pfptU8O24imx",
        "outputId": "ebdc01a1-204d-43cd-d602-0c74c17a2402"
      },
      "execution_count": 34,
      "outputs": [
        {
          "output_type": "execute_result",
          "data": {
            "text/plain": [
              "<matplotlib.axes._subplots.AxesSubplot at 0x7fd70ee8d910>"
            ]
          },
          "metadata": {},
          "execution_count": 34
        },
        {
          "output_type": "display_data",
          "data": {
            "text/plain": [
              "<Figure size 576x576 with 2 Axes>"
            ],
            "image/png": "[encoded data removed]"
          },
          "metadata": {
            "needs_background": "light"
          }
        }
      ]
    },
    {
      "cell_type": "markdown",
      "source": [
        "Terlihat jika hanya variabel name saja yang memiliki korelasi cukup besar dengan price. Variabel lainnya hanya memiliki korelasi <0.1."
      ],
      "metadata": {
        "id": "gM4KzvjO7YVz"
      }
    },
    {
      "cell_type": "markdown",
      "source": [
        "Oleh karena itu hanya kolom name saja yang dipertahankan, sisanya akan dihapus"
      ],
      "metadata": {
        "id": "tfaSyv-47pjD"
      }
    },
    {
      "cell_type": "code",
      "source": [
        "# Hapus kolom weather, destination, source dan cab_type pada df\n",
        "df = df.drop(['weather', 'destination', 'source', 'cab_type'], axis = 1)\n",
        "\n",
        "# Tampilkan kolom df\n",
        "df.head()"
      ],
      "metadata": {
        "colab": {
          "base_uri": "https://localhost:8080/",
          "height": 206
        },
        "id": "1Rlqxf4543P-",
        "outputId": "94cc2c3b-54b2-4fab-a0b3-5a6bb9408ed4"
      },
      "execution_count": 35,
      "outputs": [
        {
          "output_type": "execute_result",
          "data": {
            "text/plain": [
              "           name  price  distance  surge_multiplier\n",
              "0        Shared    5.0      0.44               1.0\n",
              "1           Lux   11.0      0.44               1.0\n",
              "2          Lyft    7.0      0.44               1.0\n",
              "3  Lux Black XL   26.0      0.44               1.0\n",
              "4       Lyft XL    9.0      0.44               1.0"
            ],
            "text/html": [
              "\n",
              "  <div id=\"df-885a0364-5041-4518-a3a8-32f8b7b9cb2b\">\n",
              "    <div class=\"colab-df-container\">\n",
              "      <div>\n",
              "<style scoped>\n",
              "    .dataframe tbody tr th:only-of-type {\n",
              "        vertical-align: middle;\n",
              "    }\n",
              "\n",
              "    .dataframe tbody tr th {\n",
              "        vertical-align: top;\n",
              "    }\n",
              "\n",
              "    .dataframe thead th {\n",
              "        text-align: right;\n",
              "    }\n",
              "</style>\n",
              "<table border=\"1\" class=\"dataframe\">\n",
              "  <thead>\n",
              "    <tr style=\"text-align: right;\">\n",
              "      <th></th>\n",
              "      <th>name</th>\n",
              "      <th>price</th>\n",
              "      <th>distance</th>\n",
              "      <th>surge_multiplier</th>\n",
              "    </tr>\n",
              "  </thead>\n",
              "  <tbody>\n",
              "    <tr>\n",
              "      <th>0</th>\n",
              "      <td>Shared</td>\n",
              "      <td>5.0</td>\n",
              "      <td>0.44</td>\n",
              "      <td>1.0</td>\n",
              "    </tr>\n",
              "    <tr>\n",
              "      <th>1</th>\n",
              "      <td>Lux</td>\n",
              "      <td>11.0</td>\n",
              "      <td>0.44</td>\n",
              "      <td>1.0</td>\n",
              "    </tr>\n",
              "    <tr>\n",
              "      <th>2</th>\n",
              "      <td>Lyft</td>\n",
              "      <td>7.0</td>\n",
              "      <td>0.44</td>\n",
              "      <td>1.0</td>\n",
              "    </tr>\n",
              "    <tr>\n",
              "      <th>3</th>\n",
              "      <td>Lux Black XL</td>\n",
              "      <td>26.0</td>\n",
              "      <td>0.44</td>\n",
              "      <td>1.0</td>\n",
              "    </tr>\n",
              "    <tr>\n",
              "      <th>4</th>\n",
              "      <td>Lyft XL</td>\n",
              "      <td>9.0</td>\n",
              "      <td>0.44</td>\n",
              "      <td>1.0</td>\n",
              "    </tr>\n",
              "  </tbody>\n",
              "</table>\n",
              "</div>\n",
              "      <button class=\"colab-df-convert\" onclick=\"convertToInteractive('df-885a0364-5041-4518-a3a8-32f8b7b9cb2b')\"\n",
              "              title=\"Convert this dataframe to an interactive table.\"\n",
              "              style=\"display:none;\">\n",
              "        \n",
              "  <svg xmlns=\"http://www.w3.org/2000/svg\" height=\"24px\"viewBox=\"0 0 24 24\"\n",
              "       width=\"24px\">\n",
              "    <path d=\"M0 0h24v24H0V0z\" fill=\"none\"/>\n",
              "    <path d=\"M18.56 5.44l.94 2.06.94-2.06 2.06-.94-2.06-.94-.94-2.06-.94 2.06-2.06.94zm-11 1L8.5 8.5l.94-2.06 2.06-.94-2.06-.94L8.5 2.5l-.94 2.06-2.06.94zm10 10l.94 2.06.94-2.06 2.06-.94-2.06-.94-.94-2.06-.94 2.06-2.06.94z\"/><path d=\"M17.41 7.96l-1.37-1.37c-.4-.4-.92-.59-1.43-.59-.52 0-1.04.2-1.43.59L10.3 9.45l-7.72 7.72c-.78.78-.78 2.05 0 2.83L4 21.41c.39.39.9.59 1.41.59.51 0 1.02-.2 1.41-.59l7.78-7.78 2.81-2.81c.8-.78.8-2.07 0-2.86zM5.41 20L4 18.59l7.72-7.72 1.47 1.35L5.41 20z\"/>\n",
              "  </svg>\n",
              "      </button>\n",
              "      \n",
              "  <style>\n",
              "    .colab-df-container {\n",
              "      display:flex;\n",
              "      flex-wrap:wrap;\n",
              "      gap: 12px;\n",
              "    }\n",
              "\n",
              "    .colab-df-convert {\n",
              "      background-color: #E8F0FE;\n",
              "      border: none;\n",
              "      border-radius: 50%;\n",
              "      cursor: pointer;\n",
              "      display: none;\n",
              "      fill: #1967D2;\n",
              "      height: 32px;\n",
              "      padding: 0 0 0 0;\n",
              "      width: 32px;\n",
              "    }\n",
              "\n",
              "    .colab-df-convert:hover {\n",
              "      background-color: #E2EBFA;\n",
              "      box-shadow: 0px 1px 2px rgba(60, 64, 67, 0.3), 0px 1px 3px 1px rgba(60, 64, 67, 0.15);\n",
              "      fill: #174EA6;\n",
              "    }\n",
              "\n",
              "    [theme=dark] .colab-df-convert {\n",
              "      background-color: #3B4455;\n",
              "      fill: #D2E3FC;\n",
              "    }\n",
              "\n",
              "    [theme=dark] .colab-df-convert:hover {\n",
              "      background-color: #434B5C;\n",
              "      box-shadow: 0px 1px 3px 1px rgba(0, 0, 0, 0.15);\n",
              "      filter: drop-shadow(0px 1px 2px rgba(0, 0, 0, 0.3));\n",
              "      fill: #FFFFFF;\n",
              "    }\n",
              "  </style>\n",
              "\n",
              "      <script>\n",
              "        const buttonEl =\n",
              "          document.querySelector('#df-885a0364-5041-4518-a3a8-32f8b7b9cb2b button.colab-df-convert');\n",
              "        buttonEl.style.display =\n",
              "          google.colab.kernel.accessAllowed ? 'block' : 'none';\n",
              "\n",
              "        async function convertToInteractive(key) {\n",
              "          const element = document.querySelector('#df-885a0364-5041-4518-a3a8-32f8b7b9cb2b');\n",
              "          const dataTable =\n",
              "            await google.colab.kernel.invokeFunction('convertToInteractive',\n",
              "                                                     [key], {});\n",
              "          if (!dataTable) return;\n",
              "\n",
              "          const docLinkHtml = 'Like what you see? Visit the ' +\n",
              "            '<a target=\"_blank\" href=https://colab.research.google.com/notebooks/data_table.ipynb>data table notebook</a>'\n",
              "            + ' to learn more about interactive tables.';\n",
              "          element.innerHTML = '';\n",
              "          dataTable['output_type'] = 'display_data';\n",
              "          await google.colab.output.renderOutput(dataTable, element);\n",
              "          const docLink = document.createElement('div');\n",
              "          docLink.innerHTML = docLinkHtml;\n",
              "          element.appendChild(docLink);\n",
              "        }\n",
              "      </script>\n",
              "    </div>\n",
              "  </div>\n",
              "  "
            ]
          },
          "metadata": {},
          "execution_count": 35
        }
      ]
    },
    {
      "cell_type": "markdown",
      "source": [
        "Sekarang kolom df hanya berisi 3 fitur saja"
      ],
      "metadata": {
        "id": "KPTfahXX73xe"
      }
    },
    {
      "cell_type": "code",
      "source": [
        "# Tampilkan value unik pada kolom name\n",
        "df['name'].unique()"
      ],
      "metadata": {
        "colab": {
          "base_uri": "https://localhost:8080/"
        },
        "id": "UjMriZGV6RgS",
        "outputId": "6e4370c9-9437-42d5-992e-2715d37a47b3"
      },
      "execution_count": 36,
      "outputs": [
        {
          "output_type": "execute_result",
          "data": {
            "text/plain": [
              "array(['Shared', 'Lux', 'Lyft', 'Lux Black XL', 'Lyft XL', 'Lux Black',\n",
              "       'UberXL', 'Black', 'UberX', 'WAV', 'Black SUV', 'UberPool'],\n",
              "      dtype=object)"
            ]
          },
          "metadata": {},
          "execution_count": 36
        }
      ]
    },
    {
      "cell_type": "markdown",
      "source": [
        "Langkah selanjutnya adalah mengubah value dalam kolom name menjadi nilai binary menggunakan onehotencoder sebelum diproses menjadi training set dan testing set"
      ],
      "metadata": {
        "id": "zqTV7Cz28DHg"
      }
    },
    {
      "cell_type": "code",
      "source": [
        "# Buat variabel df_name yang hanya berisi kolom name\n",
        "df_name = df[['name']]"
      ],
      "metadata": {
        "id": "1nPFrjtnCnkF"
      },
      "execution_count": 37,
      "outputs": []
    },
    {
      "cell_type": "code",
      "source": [
        "# Tampilkan kolom name\n",
        "df_name.head()"
      ],
      "metadata": {
        "colab": {
          "base_uri": "https://localhost:8080/",
          "height": 206
        },
        "id": "qEknhymXFOoQ",
        "outputId": "ce7be75a-9db2-4618-aa6e-0192b7164b4b"
      },
      "execution_count": 38,
      "outputs": [
        {
          "output_type": "execute_result",
          "data": {
            "text/plain": [
              "           name\n",
              "0        Shared\n",
              "1           Lux\n",
              "2          Lyft\n",
              "3  Lux Black XL\n",
              "4       Lyft XL"
            ],
            "text/html": [
              "\n",
              "  <div id=\"df-86153f2d-07c2-4aec-8e6d-a39c9d409481\">\n",
              "    <div class=\"colab-df-container\">\n",
              "      <div>\n",
              "<style scoped>\n",
              "    .dataframe tbody tr th:only-of-type {\n",
              "        vertical-align: middle;\n",
              "    }\n",
              "\n",
              "    .dataframe tbody tr th {\n",
              "        vertical-align: top;\n",
              "    }\n",
              "\n",
              "    .dataframe thead th {\n",
              "        text-align: right;\n",
              "    }\n",
              "</style>\n",
              "<table border=\"1\" class=\"dataframe\">\n",
              "  <thead>\n",
              "    <tr style=\"text-align: right;\">\n",
              "      <th></th>\n",
              "      <th>name</th>\n",
              "    </tr>\n",
              "  </thead>\n",
              "  <tbody>\n",
              "    <tr>\n",
              "      <th>0</th>\n",
              "      <td>Shared</td>\n",
              "    </tr>\n",
              "    <tr>\n",
              "      <th>1</th>\n",
              "      <td>Lux</td>\n",
              "    </tr>\n",
              "    <tr>\n",
              "      <th>2</th>\n",
              "      <td>Lyft</td>\n",
              "    </tr>\n",
              "    <tr>\n",
              "      <th>3</th>\n",
              "      <td>Lux Black XL</td>\n",
              "    </tr>\n",
              "    <tr>\n",
              "      <th>4</th>\n",
              "      <td>Lyft XL</td>\n",
              "    </tr>\n",
              "  </tbody>\n",
              "</table>\n",
              "</div>\n",
              "      <button class=\"colab-df-convert\" onclick=\"convertToInteractive('df-86153f2d-07c2-4aec-8e6d-a39c9d409481')\"\n",
              "              title=\"Convert this dataframe to an interactive table.\"\n",
              "              style=\"display:none;\">\n",
              "        \n",
              "  <svg xmlns=\"http://www.w3.org/2000/svg\" height=\"24px\"viewBox=\"0 0 24 24\"\n",
              "       width=\"24px\">\n",
              "    <path d=\"M0 0h24v24H0V0z\" fill=\"none\"/>\n",
              "    <path d=\"M18.56 5.44l.94 2.06.94-2.06 2.06-.94-2.06-.94-.94-2.06-.94 2.06-2.06.94zm-11 1L8.5 8.5l.94-2.06 2.06-.94-2.06-.94L8.5 2.5l-.94 2.06-2.06.94zm10 10l.94 2.06.94-2.06 2.06-.94-2.06-.94-.94-2.06-.94 2.06-2.06.94z\"/><path d=\"M17.41 7.96l-1.37-1.37c-.4-.4-.92-.59-1.43-.59-.52 0-1.04.2-1.43.59L10.3 9.45l-7.72 7.72c-.78.78-.78 2.05 0 2.83L4 21.41c.39.39.9.59 1.41.59.51 0 1.02-.2 1.41-.59l7.78-7.78 2.81-2.81c.8-.78.8-2.07 0-2.86zM5.41 20L4 18.59l7.72-7.72 1.47 1.35L5.41 20z\"/>\n",
              "  </svg>\n",
              "      </button>\n",
              "      \n",
              "  <style>\n",
              "    .colab-df-container {\n",
              "      display:flex;\n",
              "      flex-wrap:wrap;\n",
              "      gap: 12px;\n",
              "    }\n",
              "\n",
              "    .colab-df-convert {\n",
              "      background-color: #E8F0FE;\n",
              "      border: none;\n",
              "      border-radius: 50%;\n",
              "      cursor: pointer;\n",
              "      display: none;\n",
              "      fill: #1967D2;\n",
              "      height: 32px;\n",
              "      padding: 0 0 0 0;\n",
              "      width: 32px;\n",
              "    }\n",
              "\n",
              "    .colab-df-convert:hover {\n",
              "      background-color: #E2EBFA;\n",
              "      box-shadow: 0px 1px 2px rgba(60, 64, 67, 0.3), 0px 1px 3px 1px rgba(60, 64, 67, 0.15);\n",
              "      fill: #174EA6;\n",
              "    }\n",
              "\n",
              "    [theme=dark] .colab-df-convert {\n",
              "      background-color: #3B4455;\n",
              "      fill: #D2E3FC;\n",
              "    }\n",
              "\n",
              "    [theme=dark] .colab-df-convert:hover {\n",
              "      background-color: #434B5C;\n",
              "      box-shadow: 0px 1px 3px 1px rgba(0, 0, 0, 0.15);\n",
              "      filter: drop-shadow(0px 1px 2px rgba(0, 0, 0, 0.3));\n",
              "      fill: #FFFFFF;\n",
              "    }\n",
              "  </style>\n",
              "\n",
              "      <script>\n",
              "        const buttonEl =\n",
              "          document.querySelector('#df-86153f2d-07c2-4aec-8e6d-a39c9d409481 button.colab-df-convert');\n",
              "        buttonEl.style.display =\n",
              "          google.colab.kernel.accessAllowed ? 'block' : 'none';\n",
              "\n",
              "        async function convertToInteractive(key) {\n",
              "          const element = document.querySelector('#df-86153f2d-07c2-4aec-8e6d-a39c9d409481');\n",
              "          const dataTable =\n",
              "            await google.colab.kernel.invokeFunction('convertToInteractive',\n",
              "                                                     [key], {});\n",
              "          if (!dataTable) return;\n",
              "\n",
              "          const docLinkHtml = 'Like what you see? Visit the ' +\n",
              "            '<a target=\"_blank\" href=https://colab.research.google.com/notebooks/data_table.ipynb>data table notebook</a>'\n",
              "            + ' to learn more about interactive tables.';\n",
              "          element.innerHTML = '';\n",
              "          dataTable['output_type'] = 'display_data';\n",
              "          await google.colab.output.renderOutput(dataTable, element);\n",
              "          const docLink = document.createElement('div');\n",
              "          docLink.innerHTML = docLinkHtml;\n",
              "          element.appendChild(docLink);\n",
              "        }\n",
              "      </script>\n",
              "    </div>\n",
              "  </div>\n",
              "  "
            ]
          },
          "metadata": {},
          "execution_count": 38
        }
      ]
    },
    {
      "cell_type": "markdown",
      "source": [
        "Lakukan proses onehot encoding"
      ],
      "metadata": {
        "id": "ZTAclUoO8uLw"
      }
    },
    {
      "cell_type": "code",
      "source": [
        "# Buat model encoder pada enc\n",
        "enc = OneHotEncoder(sparse=False)\n",
        "\n",
        "# Transform df_name menjadi hasil encoder\n",
        "df_name_enc = enc.fit_transform(df_name)"
      ],
      "metadata": {
        "id": "veJzVGcQCije"
      },
      "execution_count": 40,
      "outputs": []
    },
    {
      "cell_type": "code",
      "source": [
        "# Buat variabel df_name_encoded berisi value hasil encoder beserta kolom yang menggunakan nama2 sesuai dengan nama2 value categoricalnya\n",
        "df_name_encoded = pd.DataFrame(df_name_enc, columns=enc.categories_)"
      ],
      "metadata": {
        "id": "sKlBBlUfFw7l"
      },
      "execution_count": 41,
      "outputs": []
    },
    {
      "cell_type": "code",
      "source": [
        "# Reset index untuk persiapan join\n",
        "df_1 = df.reset_index(drop=True)"
      ],
      "metadata": {
        "id": "O5N72EdPI87y"
      },
      "execution_count": 42,
      "outputs": []
    },
    {
      "cell_type": "code",
      "source": [
        "# Reset index untuk persiapan join\n",
        "df_name_encoded = df_name_encoded.reset_index(drop=True)"
      ],
      "metadata": {
        "id": "8ERYNEJDJHp_"
      },
      "execution_count": 43,
      "outputs": []
    },
    {
      "cell_type": "code",
      "source": [
        "# Join df_1 dengan df_name_encoded\n",
        "df_merged = pd.merge(df_1, df_name_encoded, left_index=True, right_index=True)\n",
        "# Tampilkan hasilnya\n",
        "df_merged.head()"
      ],
      "metadata": {
        "colab": {
          "base_uri": "https://localhost:8080/",
          "height": 340
        },
        "id": "zVTUtrrZGfYg",
        "outputId": "9d97d8fa-61c5-425a-b14e-cd1e20944cbe"
      },
      "execution_count": 44,
      "outputs": [
        {
          "output_type": "execute_result",
          "data": {
            "text/plain": [
              "           name  price  distance  surge_multiplier  (Black,)  (Black SUV,)  \\\n",
              "0        Shared    5.0      0.44               1.0       0.0           0.0   \n",
              "1           Lux   11.0      0.44               1.0       0.0           0.0   \n",
              "2          Lyft    7.0      0.44               1.0       0.0           0.0   \n",
              "3  Lux Black XL   26.0      0.44               1.0       0.0           0.0   \n",
              "4       Lyft XL    9.0      0.44               1.0       0.0           0.0   \n",
              "\n",
              "   (Lux,)  (Lux Black,)  (Lux Black XL,)  (Lyft,)  (Lyft XL,)  (Shared,)  \\\n",
              "0     0.0           0.0              0.0      0.0         0.0        1.0   \n",
              "1     1.0           0.0              0.0      0.0         0.0        0.0   \n",
              "2     0.0           0.0              0.0      1.0         0.0        0.0   \n",
              "3     0.0           0.0              1.0      0.0         0.0        0.0   \n",
              "4     0.0           0.0              0.0      0.0         1.0        0.0   \n",
              "\n",
              "   (UberPool,)  (UberX,)  (UberXL,)  (WAV,)  \n",
              "0          0.0       0.0        0.0     0.0  \n",
              "1          0.0       0.0        0.0     0.0  \n",
              "2          0.0       0.0        0.0     0.0  \n",
              "3          0.0       0.0        0.0     0.0  \n",
              "4          0.0       0.0        0.0     0.0  "
            ],
            "text/html": [
              "\n",
              "  <div id=\"df-3e69bd2c-9d94-43fc-81c8-efae7924008d\">\n",
              "    <div class=\"colab-df-container\">\n",
              "      <div>\n",
              "<style scoped>\n",
              "    .dataframe tbody tr th:only-of-type {\n",
              "        vertical-align: middle;\n",
              "    }\n",
              "\n",
              "    .dataframe tbody tr th {\n",
              "        vertical-align: top;\n",
              "    }\n",
              "\n",
              "    .dataframe thead th {\n",
              "        text-align: right;\n",
              "    }\n",
              "</style>\n",
              "<table border=\"1\" class=\"dataframe\">\n",
              "  <thead>\n",
              "    <tr style=\"text-align: right;\">\n",
              "      <th></th>\n",
              "      <th>name</th>\n",
              "      <th>price</th>\n",
              "      <th>distance</th>\n",
              "      <th>surge_multiplier</th>\n",
              "      <th>(Black,)</th>\n",
              "      <th>(Black SUV,)</th>\n",
              "      <th>(Lux,)</th>\n",
              "      <th>(Lux Black,)</th>\n",
              "      <th>(Lux Black XL,)</th>\n",
              "      <th>(Lyft,)</th>\n",
              "      <th>(Lyft XL,)</th>\n",
              "      <th>(Shared,)</th>\n",
              "      <th>(UberPool,)</th>\n",
              "      <th>(UberX,)</th>\n",
              "      <th>(UberXL,)</th>\n",
              "      <th>(WAV,)</th>\n",
              "    </tr>\n",
              "  </thead>\n",
              "  <tbody>\n",
              "    <tr>\n",
              "      <th>0</th>\n",
              "      <td>Shared</td>\n",
              "      <td>5.0</td>\n",
              "      <td>0.44</td>\n",
              "      <td>1.0</td>\n",
              "      <td>0.0</td>\n",
              "      <td>0.0</td>\n",
              "      <td>0.0</td>\n",
              "      <td>0.0</td>\n",
              "      <td>0.0</td>\n",
              "      <td>0.0</td>\n",
              "      <td>0.0</td>\n",
              "      <td>1.0</td>\n",
              "      <td>0.0</td>\n",
              "      <td>0.0</td>\n",
              "      <td>0.0</td>\n",
              "      <td>0.0</td>\n",
              "    </tr>\n",
              "    <tr>\n",
              "      <th>1</th>\n",
              "      <td>Lux</td>\n",
              "      <td>11.0</td>\n",
              "      <td>0.44</td>\n",
              "      <td>1.0</td>\n",
              "      <td>0.0</td>\n",
              "      <td>0.0</td>\n",
              "      <td>1.0</td>\n",
              "      <td>0.0</td>\n",
              "      <td>0.0</td>\n",
              "      <td>0.0</td>\n",
              "      <td>0.0</td>\n",
              "      <td>0.0</td>\n",
              "      <td>0.0</td>\n",
              "      <td>0.0</td>\n",
              "      <td>0.0</td>\n",
              "      <td>0.0</td>\n",
              "    </tr>\n",
              "    <tr>\n",
              "      <th>2</th>\n",
              "      <td>Lyft</td>\n",
              "      <td>7.0</td>\n",
              "      <td>0.44</td>\n",
              "      <td>1.0</td>\n",
              "      <td>0.0</td>\n",
              "      <td>0.0</td>\n",
              "      <td>0.0</td>\n",
              "      <td>0.0</td>\n",
              "      <td>0.0</td>\n",
              "      <td>1.0</td>\n",
              "      <td>0.0</td>\n",
              "      <td>0.0</td>\n",
              "      <td>0.0</td>\n",
              "      <td>0.0</td>\n",
              "      <td>0.0</td>\n",
              "      <td>0.0</td>\n",
              "    </tr>\n",
              "    <tr>\n",
              "      <th>3</th>\n",
              "      <td>Lux Black XL</td>\n",
              "      <td>26.0</td>\n",
              "      <td>0.44</td>\n",
              "      <td>1.0</td>\n",
              "      <td>0.0</td>\n",
              "      <td>0.0</td>\n",
              "      <td>0.0</td>\n",
              "      <td>0.0</td>\n",
              "      <td>1.0</td>\n",
              "      <td>0.0</td>\n",
              "      <td>0.0</td>\n",
              "      <td>0.0</td>\n",
              "      <td>0.0</td>\n",
              "      <td>0.0</td>\n",
              "      <td>0.0</td>\n",
              "      <td>0.0</td>\n",
              "    </tr>\n",
              "    <tr>\n",
              "      <th>4</th>\n",
              "      <td>Lyft XL</td>\n",
              "      <td>9.0</td>\n",
              "      <td>0.44</td>\n",
              "      <td>1.0</td>\n",
              "      <td>0.0</td>\n",
              "      <td>0.0</td>\n",
              "      <td>0.0</td>\n",
              "      <td>0.0</td>\n",
              "      <td>0.0</td>\n",
              "      <td>0.0</td>\n",
              "      <td>1.0</td>\n",
              "      <td>0.0</td>\n",
              "      <td>0.0</td>\n",
              "      <td>0.0</td>\n",
              "      <td>0.0</td>\n",
              "      <td>0.0</td>\n",
              "    </tr>\n",
              "  </tbody>\n",
              "</table>\n",
              "</div>\n",
              "      <button class=\"colab-df-convert\" onclick=\"convertToInteractive('df-3e69bd2c-9d94-43fc-81c8-efae7924008d')\"\n",
              "              title=\"Convert this dataframe to an interactive table.\"\n",
              "              style=\"display:none;\">\n",
              "        \n",
              "  <svg xmlns=\"http://www.w3.org/2000/svg\" height=\"24px\"viewBox=\"0 0 24 24\"\n",
              "       width=\"24px\">\n",
              "    <path d=\"M0 0h24v24H0V0z\" fill=\"none\"/>\n",
              "    <path d=\"M18.56 5.44l.94 2.06.94-2.06 2.06-.94-2.06-.94-.94-2.06-.94 2.06-2.06.94zm-11 1L8.5 8.5l.94-2.06 2.06-.94-2.06-.94L8.5 2.5l-.94 2.06-2.06.94zm10 10l.94 2.06.94-2.06 2.06-.94-2.06-.94-.94-2.06-.94 2.06-2.06.94z\"/><path d=\"M17.41 7.96l-1.37-1.37c-.4-.4-.92-.59-1.43-.59-.52 0-1.04.2-1.43.59L10.3 9.45l-7.72 7.72c-.78.78-.78 2.05 0 2.83L4 21.41c.39.39.9.59 1.41.59.51 0 1.02-.2 1.41-.59l7.78-7.78 2.81-2.81c.8-.78.8-2.07 0-2.86zM5.41 20L4 18.59l7.72-7.72 1.47 1.35L5.41 20z\"/>\n",
              "  </svg>\n",
              "      </button>\n",
              "      \n",
              "  <style>\n",
              "    .colab-df-container {\n",
              "      display:flex;\n",
              "      flex-wrap:wrap;\n",
              "      gap: 12px;\n",
              "    }\n",
              "\n",
              "    .colab-df-convert {\n",
              "      background-color: #E8F0FE;\n",
              "      border: none;\n",
              "      border-radius: 50%;\n",
              "      cursor: pointer;\n",
              "      display: none;\n",
              "      fill: #1967D2;\n",
              "      height: 32px;\n",
              "      padding: 0 0 0 0;\n",
              "      width: 32px;\n",
              "    }\n",
              "\n",
              "    .colab-df-convert:hover {\n",
              "      background-color: #E2EBFA;\n",
              "      box-shadow: 0px 1px 2px rgba(60, 64, 67, 0.3), 0px 1px 3px 1px rgba(60, 64, 67, 0.15);\n",
              "      fill: #174EA6;\n",
              "    }\n",
              "\n",
              "    [theme=dark] .colab-df-convert {\n",
              "      background-color: #3B4455;\n",
              "      fill: #D2E3FC;\n",
              "    }\n",
              "\n",
              "    [theme=dark] .colab-df-convert:hover {\n",
              "      background-color: #434B5C;\n",
              "      box-shadow: 0px 1px 3px 1px rgba(0, 0, 0, 0.15);\n",
              "      filter: drop-shadow(0px 1px 2px rgba(0, 0, 0, 0.3));\n",
              "      fill: #FFFFFF;\n",
              "    }\n",
              "  </style>\n",
              "\n",
              "      <script>\n",
              "        const buttonEl =\n",
              "          document.querySelector('#df-3e69bd2c-9d94-43fc-81c8-efae7924008d button.colab-df-convert');\n",
              "        buttonEl.style.display =\n",
              "          google.colab.kernel.accessAllowed ? 'block' : 'none';\n",
              "\n",
              "        async function convertToInteractive(key) {\n",
              "          const element = document.querySelector('#df-3e69bd2c-9d94-43fc-81c8-efae7924008d');\n",
              "          const dataTable =\n",
              "            await google.colab.kernel.invokeFunction('convertToInteractive',\n",
              "                                                     [key], {});\n",
              "          if (!dataTable) return;\n",
              "\n",
              "          const docLinkHtml = 'Like what you see? Visit the ' +\n",
              "            '<a target=\"_blank\" href=https://colab.research.google.com/notebooks/data_table.ipynb>data table notebook</a>'\n",
              "            + ' to learn more about interactive tables.';\n",
              "          element.innerHTML = '';\n",
              "          dataTable['output_type'] = 'display_data';\n",
              "          await google.colab.output.renderOutput(dataTable, element);\n",
              "          const docLink = document.createElement('div');\n",
              "          docLink.innerHTML = docLinkHtml;\n",
              "          element.appendChild(docLink);\n",
              "        }\n",
              "      </script>\n",
              "    </div>\n",
              "  </div>\n",
              "  "
            ]
          },
          "metadata": {},
          "execution_count": 44
        }
      ]
    },
    {
      "cell_type": "markdown",
      "source": [
        "Hasil dari proses pd.merge diatas adalah sebuah join dataframe yang berisi nama kolom categorical dan value hasil encoding yang disatukan dengan dataset df_1. Namun, kolom name perlu dihapus karena sudah digantikan dengan hasil onehotencoder"
      ],
      "metadata": {
        "id": "heD9X9qi9dhJ"
      }
    },
    {
      "cell_type": "code",
      "source": [
        "# Drop kolom name\n",
        "df_merged_1 = df_merged.drop(['name'],axis=1)\n",
        "df_merged_1.head()"
      ],
      "metadata": {
        "colab": {
          "base_uri": "https://localhost:8080/",
          "height": 305
        },
        "id": "G6xt-GwYJRvj",
        "outputId": "cf496f0e-e166-47ba-bccc-408f4128b87f"
      },
      "execution_count": 45,
      "outputs": [
        {
          "output_type": "execute_result",
          "data": {
            "text/plain": [
              "   price  distance  surge_multiplier  (Black,)  (Black SUV,)  (Lux,)  \\\n",
              "0    5.0      0.44               1.0       0.0           0.0     0.0   \n",
              "1   11.0      0.44               1.0       0.0           0.0     1.0   \n",
              "2    7.0      0.44               1.0       0.0           0.0     0.0   \n",
              "3   26.0      0.44               1.0       0.0           0.0     0.0   \n",
              "4    9.0      0.44               1.0       0.0           0.0     0.0   \n",
              "\n",
              "   (Lux Black,)  (Lux Black XL,)  (Lyft,)  (Lyft XL,)  (Shared,)  (UberPool,)  \\\n",
              "0           0.0              0.0      0.0         0.0        1.0          0.0   \n",
              "1           0.0              0.0      0.0         0.0        0.0          0.0   \n",
              "2           0.0              0.0      1.0         0.0        0.0          0.0   \n",
              "3           0.0              1.0      0.0         0.0        0.0          0.0   \n",
              "4           0.0              0.0      0.0         1.0        0.0          0.0   \n",
              "\n",
              "   (UberX,)  (UberXL,)  (WAV,)  \n",
              "0       0.0        0.0     0.0  \n",
              "1       0.0        0.0     0.0  \n",
              "2       0.0        0.0     0.0  \n",
              "3       0.0        0.0     0.0  \n",
              "4       0.0        0.0     0.0  "
            ],
            "text/html": [
              "\n",
              "  <div id=\"df-4cae3096-4390-4c6b-b6a3-6390f89438f7\">\n",
              "    <div class=\"colab-df-container\">\n",
              "      <div>\n",
              "<style scoped>\n",
              "    .dataframe tbody tr th:only-of-type {\n",
              "        vertical-align: middle;\n",
              "    }\n",
              "\n",
              "    .dataframe tbody tr th {\n",
              "        vertical-align: top;\n",
              "    }\n",
              "\n",
              "    .dataframe thead th {\n",
              "        text-align: right;\n",
              "    }\n",
              "</style>\n",
              "<table border=\"1\" class=\"dataframe\">\n",
              "  <thead>\n",
              "    <tr style=\"text-align: right;\">\n",
              "      <th></th>\n",
              "      <th>price</th>\n",
              "      <th>distance</th>\n",
              "      <th>surge_multiplier</th>\n",
              "      <th>(Black,)</th>\n",
              "      <th>(Black SUV,)</th>\n",
              "      <th>(Lux,)</th>\n",
              "      <th>(Lux Black,)</th>\n",
              "      <th>(Lux Black XL,)</th>\n",
              "      <th>(Lyft,)</th>\n",
              "      <th>(Lyft XL,)</th>\n",
              "      <th>(Shared,)</th>\n",
              "      <th>(UberPool,)</th>\n",
              "      <th>(UberX,)</th>\n",
              "      <th>(UberXL,)</th>\n",
              "      <th>(WAV,)</th>\n",
              "    </tr>\n",
              "  </thead>\n",
              "  <tbody>\n",
              "    <tr>\n",
              "      <th>0</th>\n",
              "      <td>5.0</td>\n",
              "      <td>0.44</td>\n",
              "      <td>1.0</td>\n",
              "      <td>0.0</td>\n",
              "      <td>0.0</td>\n",
              "      <td>0.0</td>\n",
              "      <td>0.0</td>\n",
              "      <td>0.0</td>\n",
              "      <td>0.0</td>\n",
              "      <td>0.0</td>\n",
              "      <td>1.0</td>\n",
              "      <td>0.0</td>\n",
              "      <td>0.0</td>\n",
              "      <td>0.0</td>\n",
              "      <td>0.0</td>\n",
              "    </tr>\n",
              "    <tr>\n",
              "      <th>1</th>\n",
              "      <td>11.0</td>\n",
              "      <td>0.44</td>\n",
              "      <td>1.0</td>\n",
              "      <td>0.0</td>\n",
              "      <td>0.0</td>\n",
              "      <td>1.0</td>\n",
              "      <td>0.0</td>\n",
              "      <td>0.0</td>\n",
              "      <td>0.0</td>\n",
              "      <td>0.0</td>\n",
              "      <td>0.0</td>\n",
              "      <td>0.0</td>\n",
              "      <td>0.0</td>\n",
              "      <td>0.0</td>\n",
              "      <td>0.0</td>\n",
              "    </tr>\n",
              "    <tr>\n",
              "      <th>2</th>\n",
              "      <td>7.0</td>\n",
              "      <td>0.44</td>\n",
              "      <td>1.0</td>\n",
              "      <td>0.0</td>\n",
              "      <td>0.0</td>\n",
              "      <td>0.0</td>\n",
              "      <td>0.0</td>\n",
              "      <td>0.0</td>\n",
              "      <td>1.0</td>\n",
              "      <td>0.0</td>\n",
              "      <td>0.0</td>\n",
              "      <td>0.0</td>\n",
              "      <td>0.0</td>\n",
              "      <td>0.0</td>\n",
              "      <td>0.0</td>\n",
              "    </tr>\n",
              "    <tr>\n",
              "      <th>3</th>\n",
              "      <td>26.0</td>\n",
              "      <td>0.44</td>\n",
              "      <td>1.0</td>\n",
              "      <td>0.0</td>\n",
              "      <td>0.0</td>\n",
              "      <td>0.0</td>\n",
              "      <td>0.0</td>\n",
              "      <td>1.0</td>\n",
              "      <td>0.0</td>\n",
              "      <td>0.0</td>\n",
              "      <td>0.0</td>\n",
              "      <td>0.0</td>\n",
              "      <td>0.0</td>\n",
              "      <td>0.0</td>\n",
              "      <td>0.0</td>\n",
              "    </tr>\n",
              "    <tr>\n",
              "      <th>4</th>\n",
              "      <td>9.0</td>\n",
              "      <td>0.44</td>\n",
              "      <td>1.0</td>\n",
              "      <td>0.0</td>\n",
              "      <td>0.0</td>\n",
              "      <td>0.0</td>\n",
              "      <td>0.0</td>\n",
              "      <td>0.0</td>\n",
              "      <td>0.0</td>\n",
              "      <td>1.0</td>\n",
              "      <td>0.0</td>\n",
              "      <td>0.0</td>\n",
              "      <td>0.0</td>\n",
              "      <td>0.0</td>\n",
              "      <td>0.0</td>\n",
              "    </tr>\n",
              "  </tbody>\n",
              "</table>\n",
              "</div>\n",
              "      <button class=\"colab-df-convert\" onclick=\"convertToInteractive('df-4cae3096-4390-4c6b-b6a3-6390f89438f7')\"\n",
              "              title=\"Convert this dataframe to an interactive table.\"\n",
              "              style=\"display:none;\">\n",
              "        \n",
              "  <svg xmlns=\"http://www.w3.org/2000/svg\" height=\"24px\"viewBox=\"0 0 24 24\"\n",
              "       width=\"24px\">\n",
              "    <path d=\"M0 0h24v24H0V0z\" fill=\"none\"/>\n",
              "    <path d=\"M18.56 5.44l.94 2.06.94-2.06 2.06-.94-2.06-.94-.94-2.06-.94 2.06-2.06.94zm-11 1L8.5 8.5l.94-2.06 2.06-.94-2.06-.94L8.5 2.5l-.94 2.06-2.06.94zm10 10l.94 2.06.94-2.06 2.06-.94-2.06-.94-.94-2.06-.94 2.06-2.06.94z\"/><path d=\"M17.41 7.96l-1.37-1.37c-.4-.4-.92-.59-1.43-.59-.52 0-1.04.2-1.43.59L10.3 9.45l-7.72 7.72c-.78.78-.78 2.05 0 2.83L4 21.41c.39.39.9.59 1.41.59.51 0 1.02-.2 1.41-.59l7.78-7.78 2.81-2.81c.8-.78.8-2.07 0-2.86zM5.41 20L4 18.59l7.72-7.72 1.47 1.35L5.41 20z\"/>\n",
              "  </svg>\n",
              "      </button>\n",
              "      \n",
              "  <style>\n",
              "    .colab-df-container {\n",
              "      display:flex;\n",
              "      flex-wrap:wrap;\n",
              "      gap: 12px;\n",
              "    }\n",
              "\n",
              "    .colab-df-convert {\n",
              "      background-color: #E8F0FE;\n",
              "      border: none;\n",
              "      border-radius: 50%;\n",
              "      cursor: pointer;\n",
              "      display: none;\n",
              "      fill: #1967D2;\n",
              "      height: 32px;\n",
              "      padding: 0 0 0 0;\n",
              "      width: 32px;\n",
              "    }\n",
              "\n",
              "    .colab-df-convert:hover {\n",
              "      background-color: #E2EBFA;\n",
              "      box-shadow: 0px 1px 2px rgba(60, 64, 67, 0.3), 0px 1px 3px 1px rgba(60, 64, 67, 0.15);\n",
              "      fill: #174EA6;\n",
              "    }\n",
              "\n",
              "    [theme=dark] .colab-df-convert {\n",
              "      background-color: #3B4455;\n",
              "      fill: #D2E3FC;\n",
              "    }\n",
              "\n",
              "    [theme=dark] .colab-df-convert:hover {\n",
              "      background-color: #434B5C;\n",
              "      box-shadow: 0px 1px 3px 1px rgba(0, 0, 0, 0.15);\n",
              "      filter: drop-shadow(0px 1px 2px rgba(0, 0, 0, 0.3));\n",
              "      fill: #FFFFFF;\n",
              "    }\n",
              "  </style>\n",
              "\n",
              "      <script>\n",
              "        const buttonEl =\n",
              "          document.querySelector('#df-4cae3096-4390-4c6b-b6a3-6390f89438f7 button.colab-df-convert');\n",
              "        buttonEl.style.display =\n",
              "          google.colab.kernel.accessAllowed ? 'block' : 'none';\n",
              "\n",
              "        async function convertToInteractive(key) {\n",
              "          const element = document.querySelector('#df-4cae3096-4390-4c6b-b6a3-6390f89438f7');\n",
              "          const dataTable =\n",
              "            await google.colab.kernel.invokeFunction('convertToInteractive',\n",
              "                                                     [key], {});\n",
              "          if (!dataTable) return;\n",
              "\n",
              "          const docLinkHtml = 'Like what you see? Visit the ' +\n",
              "            '<a target=\"_blank\" href=https://colab.research.google.com/notebooks/data_table.ipynb>data table notebook</a>'\n",
              "            + ' to learn more about interactive tables.';\n",
              "          element.innerHTML = '';\n",
              "          dataTable['output_type'] = 'display_data';\n",
              "          await google.colab.output.renderOutput(dataTable, element);\n",
              "          const docLink = document.createElement('div');\n",
              "          docLink.innerHTML = docLinkHtml;\n",
              "          element.appendChild(docLink);\n",
              "        }\n",
              "      </script>\n",
              "    </div>\n",
              "  </div>\n",
              "  "
            ]
          },
          "metadata": {},
          "execution_count": 45
        }
      ]
    },
    {
      "cell_type": "markdown",
      "source": [
        "Dataset diatas sudah siap untuk menjalani proses pemodelan. Berikutnya pisahkan antara fitur dengan target"
      ],
      "metadata": {
        "id": "S3l8S7k4902p"
      }
    },
    {
      "cell_type": "code",
      "source": [
        "# Buat variabel fitur\n",
        "X = df_merged_1.drop('price',axis=1)\n",
        "# Buat variabel target\n",
        "y = df_merged_1['price']"
      ],
      "metadata": {
        "id": "uSVrqzuovX8b"
      },
      "execution_count": 46,
      "outputs": []
    },
    {
      "cell_type": "markdown",
      "source": [
        "Lakukan proses train_test_split"
      ],
      "metadata": {
        "id": "EraGNOM_-EPF"
      }
    },
    {
      "cell_type": "code",
      "source": [
        "# Lakukan train_test_split dengan testing set sebanyak 20%\n",
        "X_train, X_test, y_train, y_test = train_test_split(X, y, test_size=0.2, random_state=101)"
      ],
      "metadata": {
        "id": "hVsvrTOevrO2"
      },
      "execution_count": 49,
      "outputs": []
    },
    {
      "cell_type": "markdown",
      "source": [
        "# VI. MODEL DEFINITION"
      ],
      "metadata": {
        "id": "OT6c9Gko1Eq3"
      }
    },
    {
      "cell_type": "markdown",
      "source": [
        "Bagian ini berisi cell untuk mendefinisikan model. Jelaskan alasan menggunakan suatu algoritma/model, hyperparameter yang dipakai, jenis penggunaan metrics yang dipakai, dan hal lain yang terkait dengan model."
      ],
      "metadata": {
        "id": "Qv5E7Ofd-1Rf"
      }
    },
    {
      "cell_type": "markdown",
      "source": [
        "Model yang dipakai untuk proyek ini adalah linear regresi dan linear regresi dengan hyperparameter Lasso dan Ridge. Alasan menggunakan model2 tsb adalah untuk membandingkan performance antar model dan mencari model dengan performance terbaik"
      ],
      "metadata": {
        "id": "GJXNN-cK_Tso"
      }
    },
    {
      "cell_type": "code",
      "source": [
        "# Buat model linear regression\n",
        "regression_model = LinearRegression()"
      ],
      "metadata": {
        "id": "KR3qeN5dwRP0"
      },
      "execution_count": 52,
      "outputs": []
    },
    {
      "cell_type": "code",
      "source": [
        "# Buat model lasso regularization\n",
        "lasso_model = Lasso()"
      ],
      "metadata": {
        "id": "ajNjcJR3-s0a"
      },
      "execution_count": 53,
      "outputs": []
    },
    {
      "cell_type": "code",
      "source": [
        "# Buat model ridge regularization\n",
        "ridge_model = Ridge(alpha=1000)"
      ],
      "metadata": {
        "id": "8pIrVXZ4-wle"
      },
      "execution_count": 54,
      "outputs": []
    },
    {
      "cell_type": "markdown",
      "source": [
        "# VII. MODEL TRAINING"
      ],
      "metadata": {
        "id": "OjwbbFD5SiRU"
      }
    },
    {
      "cell_type": "markdown",
      "source": [
        "Cell pada bagian ini hanya berisi code untuk melatih model dan output yang dihasilkan. Lakukan beberapa kali proses training dengan hyperparameter yang berbeda untuk melihat hasil yang didapatkan. Analisis dan narasikan hasil ini pada bagian Model Evaluation."
      ],
      "metadata": {
        "id": "RQ-u2rFKE-zp"
      }
    },
    {
      "cell_type": "markdown",
      "source": [
        "Pertama, training model linear regresi pada training set fitur dan target."
      ],
      "metadata": {
        "id": "9d-XhcXgGj2e"
      }
    },
    {
      "cell_type": "code",
      "source": [
        "# Training model linear regresi pada X_train dan y_train\n",
        "regmod = regression_model.fit(X_train,y_train)"
      ],
      "metadata": {
        "colab": {
          "base_uri": "https://localhost:8080/"
        },
        "id": "Ze2mHjOAwree",
        "outputId": "e490b95c-ade1-400e-cbf7-2666717b3c38"
      },
      "execution_count": 56,
      "outputs": [
        {
          "output_type": "stream",
          "name": "stderr",
          "text": [
            "/usr/local/lib/python3.8/dist-packages/sklearn/utils/validation.py:1688: FutureWarning: Feature names only support names that are all strings. Got feature names with dtypes: ['str', 'tuple']. An error will be raised in 1.2.\n",
            "  warnings.warn(\n"
          ]
        }
      ]
    },
    {
      "cell_type": "code",
      "source": [
        "# Tamplikan koefisien model linear regresi\n",
        "regmod.coef_"
      ],
      "metadata": {
        "colab": {
          "base_uri": "https://localhost:8080/"
        },
        "id": "I-OPImp-ylGN",
        "outputId": "f91a93ff-dd71-443f-cc39-828a8eec54cf"
      },
      "execution_count": 57,
      "outputs": [
        {
          "output_type": "execute_result",
          "data": {
            "text/plain": [
              "array([  2.79300849,  18.31917746,   4.23332062,  13.99677786,\n",
              "         0.81064732,   6.0971101 ,  15.3546312 ,  -7.36811349,\n",
              "        -1.66269524, -10.24589548,  -7.53840857,  -6.52496595,\n",
              "        -0.62085469,  -6.53155368])"
            ]
          },
          "metadata": {},
          "execution_count": 57
        }
      ]
    },
    {
      "cell_type": "code",
      "source": [
        "# Tampilkan intercept model linear regresi\n",
        "regmod.intercept_"
      ],
      "metadata": {
        "colab": {
          "base_uri": "https://localhost:8080/"
        },
        "id": "KRIf6PAzywx7",
        "outputId": "8f97acc0-feae-481e-a51d-e3472079db38"
      },
      "execution_count": 58,
      "outputs": [
        {
          "output_type": "execute_result",
          "data": {
            "text/plain": [
              "-8.146614958797329"
            ]
          },
          "metadata": {},
          "execution_count": 58
        }
      ]
    },
    {
      "cell_type": "markdown",
      "source": [
        "Arti koefisien dan intercept model akan dijelaskan di bagian terakhir dari laporan ini"
      ],
      "metadata": {
        "id": "8gV6dbiHG9ln"
      }
    },
    {
      "cell_type": "markdown",
      "source": [
        "Berikutnya, prediksi training set dan testing set menggunakan model linear regresi"
      ],
      "metadata": {
        "id": "cG-gnTCjHIbm"
      }
    },
    {
      "cell_type": "code",
      "source": [
        "# Prediksi nilai training set\n",
        "y_pred_train = regmod.predict(X_train)\n",
        "\n",
        "# Prediksi nilai testing set\n",
        "y_pred_test = regmod.predict(X_test)"
      ],
      "metadata": {
        "colab": {
          "base_uri": "https://localhost:8080/"
        },
        "id": "V3MyCDYqwvHT",
        "outputId": "111c7ac0-d989-45b7-caa0-9cb86f3ddec6"
      },
      "execution_count": 59,
      "outputs": [
        {
          "output_type": "stream",
          "name": "stderr",
          "text": [
            "/usr/local/lib/python3.8/dist-packages/sklearn/utils/validation.py:1688: FutureWarning: Feature names only support names that are all strings. Got feature names with dtypes: ['str', 'tuple']. An error will be raised in 1.2.\n",
            "  warnings.warn(\n",
            "/usr/local/lib/python3.8/dist-packages/sklearn/utils/validation.py:1688: FutureWarning: Feature names only support names that are all strings. Got feature names with dtypes: ['str', 'tuple']. An error will be raised in 1.2.\n",
            "  warnings.warn(\n"
          ]
        }
      ]
    },
    {
      "cell_type": "markdown",
      "source": [
        "Selanjutnya akan dicoba pemodelan linear regresi menggunakan hyperparameter Lasso regularization (L1)."
      ],
      "metadata": {
        "id": "W2sm5zuUHcLy"
      }
    },
    {
      "cell_type": "code",
      "source": [
        "# Training model linear regresi dengan Lasso regularization pada training fitur dan target\n",
        "lmod = lasso_model.fit(X_train,y_train)"
      ],
      "metadata": {
        "colab": {
          "base_uri": "https://localhost:8080/"
        },
        "id": "hN0-jyCyWvuK",
        "outputId": "b7e283fb-f01a-4552-a1df-ad9c75a3a88e"
      },
      "execution_count": 61,
      "outputs": [
        {
          "output_type": "stream",
          "name": "stderr",
          "text": [
            "/usr/local/lib/python3.8/dist-packages/sklearn/utils/validation.py:1688: FutureWarning: Feature names only support names that are all strings. Got feature names with dtypes: ['str', 'tuple']. An error will be raised in 1.2.\n",
            "  warnings.warn(\n"
          ]
        }
      ]
    },
    {
      "cell_type": "code",
      "source": [
        "# Tamplikan koefisien model L1\n",
        "lmod.coef_"
      ],
      "metadata": {
        "colab": {
          "base_uri": "https://localhost:8080/"
        },
        "id": "IJ5hVro2IA_G",
        "outputId": "5120df86-6c80-43ec-d6dc-288ba7821ea9"
      },
      "execution_count": 62,
      "outputs": [
        {
          "output_type": "execute_result",
          "data": {
            "text/plain": [
              "array([ 2.05482522,  0.        ,  0.        ,  2.70300563,  0.        ,\n",
              "        0.        ,  3.85717021, -0.        , -0.        , -0.        ,\n",
              "       -0.        , -0.        , -0.        , -0.        ])"
            ]
          },
          "metadata": {},
          "execution_count": 62
        }
      ]
    },
    {
      "cell_type": "code",
      "source": [
        "# Tamplikan koefisien model L1\n",
        "lmod.intercept_"
      ],
      "metadata": {
        "colab": {
          "base_uri": "https://localhost:8080/"
        },
        "id": "9msloMcTIMc9",
        "outputId": "47f33e5e-c435-41f1-c59e-34321e36bffb"
      },
      "execution_count": 63,
      "outputs": [
        {
          "output_type": "execute_result",
          "data": {
            "text/plain": [
              "11.503658038586423"
            ]
          },
          "metadata": {},
          "execution_count": 63
        }
      ]
    },
    {
      "cell_type": "markdown",
      "source": [
        "Jika diamati, terdapat perbedaan koefisien dan intercept model L1 dengan linear regresi biasa"
      ],
      "metadata": {
        "id": "5iqDNlL7IVdQ"
      }
    },
    {
      "cell_type": "markdown",
      "source": [
        "Berikutnya, prediksi training set dan testing set dengan model L1"
      ],
      "metadata": {
        "id": "WX7fQiBfInUl"
      }
    },
    {
      "cell_type": "code",
      "source": [
        "# Prediksi nilai training set\n",
        "y_pred_train_l = lmod.predict(X_train)\n",
        "\n",
        "# Prediksi nilai testing set\n",
        "y_pred_test_l = lmod.predict(X_test)"
      ],
      "metadata": {
        "colab": {
          "base_uri": "https://localhost:8080/"
        },
        "id": "vGhbTiLoW0Gh",
        "outputId": "d2d65773-ae73-4ae0-d123-628cc3b57064"
      },
      "execution_count": 64,
      "outputs": [
        {
          "output_type": "stream",
          "name": "stderr",
          "text": [
            "/usr/local/lib/python3.8/dist-packages/sklearn/utils/validation.py:1688: FutureWarning: Feature names only support names that are all strings. Got feature names with dtypes: ['str', 'tuple']. An error will be raised in 1.2.\n",
            "  warnings.warn(\n",
            "/usr/local/lib/python3.8/dist-packages/sklearn/utils/validation.py:1688: FutureWarning: Feature names only support names that are all strings. Got feature names with dtypes: ['str', 'tuple']. An error will be raised in 1.2.\n",
            "  warnings.warn(\n"
          ]
        }
      ]
    },
    {
      "cell_type": "markdown",
      "source": [
        "Terakhir, akan dicoba pemodelan linear regresi menggunakan hyperparameter Ridge regularization (L2)."
      ],
      "metadata": {
        "id": "8YNSjc1_I356"
      }
    },
    {
      "cell_type": "code",
      "source": [
        "# Training model linear regresi dengan Ridge regularization pada training fitur dan target\n",
        "ridmod = ridge_model.fit(X_train,y_train)"
      ],
      "metadata": {
        "colab": {
          "base_uri": "https://localhost:8080/"
        },
        "id": "0W2r0aIlVl26",
        "outputId": "df84a248-6c62-4770-a26f-01b913bdda34"
      },
      "execution_count": 67,
      "outputs": [
        {
          "output_type": "stream",
          "name": "stderr",
          "text": [
            "/usr/local/lib/python3.8/dist-packages/sklearn/utils/validation.py:1688: FutureWarning: Feature names only support names that are all strings. Got feature names with dtypes: ['str', 'tuple']. An error will be raised in 1.2.\n",
            "  warnings.warn(\n"
          ]
        }
      ]
    },
    {
      "cell_type": "code",
      "source": [
        "# Tamplikan koefisien model L2\n",
        "ridmod.coef_"
      ],
      "metadata": {
        "colab": {
          "base_uri": "https://localhost:8080/"
        },
        "id": "5UU3Ry7YJEBL",
        "outputId": "c16113e1-fc4b-4bba-d461-8fcf87d88029"
      },
      "execution_count": 68,
      "outputs": [
        {
          "output_type": "execute_result",
          "data": {
            "text/plain": [
              "array([  2.79584806,  15.04334151,   4.08990926,  13.63692533,\n",
              "         0.86105724,   6.02013464,  15.0577443 ,  -7.11998742,\n",
              "        -1.55249052, -10.05038252,  -7.42104485,  -6.42912794,\n",
              "        -0.65647481,  -6.43626271])"
            ]
          },
          "metadata": {},
          "execution_count": 68
        }
      ]
    },
    {
      "cell_type": "code",
      "source": [
        "# Tamplikan koefisien model L2\n",
        "ridmod.intercept_"
      ],
      "metadata": {
        "colab": {
          "base_uri": "https://localhost:8080/"
        },
        "id": "jJci38uXJJtw",
        "outputId": "e76c5c29-50c8-4ac5-b719-87d870dd1355"
      },
      "execution_count": 69,
      "outputs": [
        {
          "output_type": "execute_result",
          "data": {
            "text/plain": [
              "-4.826501647532922"
            ]
          },
          "metadata": {},
          "execution_count": 69
        }
      ]
    },
    {
      "cell_type": "markdown",
      "source": [
        "Juga terdapat perbedaan koefisien dan intercept model L2 dengan linear regresi biasa dan model L1"
      ],
      "metadata": {
        "id": "VjI_HSrJJR7x"
      }
    },
    {
      "cell_type": "code",
      "source": [
        "# Prediksi nilai training set\n",
        "y_pred_train_r = ridmod.predict(X_train)\n",
        "\n",
        "# Prediksi nilai testing set\n",
        "y_pred_test_r = ridmod.predict(X_test)"
      ],
      "metadata": {
        "colab": {
          "base_uri": "https://localhost:8080/"
        },
        "id": "RM9D_IzwV43Q",
        "outputId": "06e15cd0-c280-4f82-9398-44eb64b46d3b"
      },
      "execution_count": 70,
      "outputs": [
        {
          "output_type": "stream",
          "name": "stderr",
          "text": [
            "/usr/local/lib/python3.8/dist-packages/sklearn/utils/validation.py:1688: FutureWarning: Feature names only support names that are all strings. Got feature names with dtypes: ['str', 'tuple']. An error will be raised in 1.2.\n",
            "  warnings.warn(\n",
            "/usr/local/lib/python3.8/dist-packages/sklearn/utils/validation.py:1688: FutureWarning: Feature names only support names that are all strings. Got feature names with dtypes: ['str', 'tuple']. An error will be raised in 1.2.\n",
            "  warnings.warn(\n"
          ]
        }
      ]
    },
    {
      "cell_type": "markdown",
      "source": [
        "# VIII. MODEL EVALUATION"
      ],
      "metadata": {
        "id": "X7OxLw3C1Pn6"
      }
    },
    {
      "cell_type": "markdown",
      "source": [
        "Pada bagian ini, dilakukan evaluasi model yang harus menunjukkan bagaimana performa model berdasarkan metrics yang dipilih. Hal ini harus dibuktikan dengan visualisasi tren performa dan/atau tingkat kesalahan model. "
      ],
      "metadata": {
        "id": "d2vbW_AVJpdi"
      }
    },
    {
      "cell_type": "markdown",
      "source": [
        "Masing-masing model akan dianalisa menggunakan metrik MAE, MSE, RMSE dan R^2"
      ],
      "metadata": {
        "id": "dIQbXqkncgEn"
      }
    },
    {
      "cell_type": "code",
      "source": [
        "# Buat dataframe berisi data hasil perhitungan MAE, MSE, RMSE dan R^2 untuk training set dan testing set pada masing2 model\n",
        "model_eval = pd.DataFrame({'Linear Regression': [mean_absolute_error(y_train, y_pred_train),mean_absolute_error(y_test, y_pred_test),\n",
        "mean_squared_error(y_train, y_pred_train),mean_squared_error(y_test, y_pred_test),np.sqrt(mean_squared_error(y_train, y_pred_train)),\n",
        "np.sqrt(mean_squared_error(y_test, y_pred_test)),r2_score(y_train, y_pred_train),r2_score(y_test, y_pred_test)],\n",
        "'Lasso Regularization (L1)': [mean_absolute_error(y_train, y_pred_train_l),mean_absolute_error(y_test, y_pred_test_l),\n",
        "                             mean_squared_error(y_train, y_pred_train_l),mean_squared_error(y_test, y_pred_test_l),\n",
        "                             np.sqrt(mean_squared_error(y_train, y_pred_train_l)),np.sqrt(mean_squared_error(y_test, y_pred_test_l)),\n",
        "                             r2_score(y_train, y_pred_train_l),r2_score(y_test, y_pred_test_l)],\n",
        "'Ridge Regularization (L2)': [mean_absolute_error(y_train, y_pred_train_r),mean_absolute_error(y_test, y_pred_test_r),\n",
        "                             mean_squared_error(y_train, y_pred_train_r),mean_squared_error(y_test, y_pred_test_r),\n",
        "                            np.sqrt(mean_squared_error(y_train, y_pred_train_r)),np.sqrt(mean_squared_error(y_test, y_pred_test_r)),\n",
        "                             r2_score(y_train, y_pred_train_r),r2_score(y_test, y_pred_test_r)]},\n",
        "\tindex=['MAE train','MAE test','MSE train','MSE test','RMSE train','RMSE test','R^2 train','R^2 test'])\n",
        "\n",
        "# Tampilkan dataframe\n",
        "model_eval\n"
      ],
      "metadata": {
        "colab": {
          "base_uri": "https://localhost:8080/",
          "height": 300
        },
        "id": "y8jbkIT6S2uc",
        "outputId": "bab577da-503c-43e9-b7e2-8bd2e2275478"
      },
      "execution_count": 72,
      "outputs": [
        {
          "output_type": "execute_result",
          "data": {
            "text/plain": [
              "            Linear Regression  Lasso Regularization (L1)  \\\n",
              "MAE train            1.775399                   6.547413   \n",
              "MAE test             1.782145                   6.565265   \n",
              "MSE train            6.313170                  62.619943   \n",
              "MSE test             6.363585                  63.082114   \n",
              "RMSE train           2.512602                   7.913276   \n",
              "RMSE test            2.522615                   7.942425   \n",
              "R^2 train            0.927284                   0.278737   \n",
              "R^2 test             0.927222                   0.278552   \n",
              "\n",
              "            Ridge Regularization (L2)  \n",
              "MAE train                    1.766567  \n",
              "MAE test                     1.772950  \n",
              "MSE train                    6.441772  \n",
              "MSE test                     6.502525  \n",
              "RMSE train                   2.538065  \n",
              "RMSE test                    2.550005  \n",
              "R^2 train                    0.925803  \n",
              "R^2 test                     0.925633  "
            ],
            "text/html": [
              "\n",
              "  <div id=\"df-86dd0f6f-b82e-4e95-af6e-35c6fd96c5b1\">\n",
              "    <div class=\"colab-df-container\">\n",
              "      <div>\n",
              "<style scoped>\n",
              "    .dataframe tbody tr th:only-of-type {\n",
              "        vertical-align: middle;\n",
              "    }\n",
              "\n",
              "    .dataframe tbody tr th {\n",
              "        vertical-align: top;\n",
              "    }\n",
              "\n",
              "    .dataframe thead th {\n",
              "        text-align: right;\n",
              "    }\n",
              "</style>\n",
              "<table border=\"1\" class=\"dataframe\">\n",
              "  <thead>\n",
              "    <tr style=\"text-align: right;\">\n",
              "      <th></th>\n",
              "      <th>Linear Regression</th>\n",
              "      <th>Lasso Regularization (L1)</th>\n",
              "      <th>Ridge Regularization (L2)</th>\n",
              "    </tr>\n",
              "  </thead>\n",
              "  <tbody>\n",
              "    <tr>\n",
              "      <th>MAE train</th>\n",
              "      <td>1.775399</td>\n",
              "      <td>6.547413</td>\n",
              "      <td>1.766567</td>\n",
              "    </tr>\n",
              "    <tr>\n",
              "      <th>MAE test</th>\n",
              "      <td>1.782145</td>\n",
              "      <td>6.565265</td>\n",
              "      <td>1.772950</td>\n",
              "    </tr>\n",
              "    <tr>\n",
              "      <th>MSE train</th>\n",
              "      <td>6.313170</td>\n",
              "      <td>62.619943</td>\n",
              "      <td>6.441772</td>\n",
              "    </tr>\n",
              "    <tr>\n",
              "      <th>MSE test</th>\n",
              "      <td>6.363585</td>\n",
              "      <td>63.082114</td>\n",
              "      <td>6.502525</td>\n",
              "    </tr>\n",
              "    <tr>\n",
              "      <th>RMSE train</th>\n",
              "      <td>2.512602</td>\n",
              "      <td>7.913276</td>\n",
              "      <td>2.538065</td>\n",
              "    </tr>\n",
              "    <tr>\n",
              "      <th>RMSE test</th>\n",
              "      <td>2.522615</td>\n",
              "      <td>7.942425</td>\n",
              "      <td>2.550005</td>\n",
              "    </tr>\n",
              "    <tr>\n",
              "      <th>R^2 train</th>\n",
              "      <td>0.927284</td>\n",
              "      <td>0.278737</td>\n",
              "      <td>0.925803</td>\n",
              "    </tr>\n",
              "    <tr>\n",
              "      <th>R^2 test</th>\n",
              "      <td>0.927222</td>\n",
              "      <td>0.278552</td>\n",
              "      <td>0.925633</td>\n",
              "    </tr>\n",
              "  </tbody>\n",
              "</table>\n",
              "</div>\n",
              "      <button class=\"colab-df-convert\" onclick=\"convertToInteractive('df-86dd0f6f-b82e-4e95-af6e-35c6fd96c5b1')\"\n",
              "              title=\"Convert this dataframe to an interactive table.\"\n",
              "              style=\"display:none;\">\n",
              "        \n",
              "  <svg xmlns=\"http://www.w3.org/2000/svg\" height=\"24px\"viewBox=\"0 0 24 24\"\n",
              "       width=\"24px\">\n",
              "    <path d=\"M0 0h24v24H0V0z\" fill=\"none\"/>\n",
              "    <path d=\"M18.56 5.44l.94 2.06.94-2.06 2.06-.94-2.06-.94-.94-2.06-.94 2.06-2.06.94zm-11 1L8.5 8.5l.94-2.06 2.06-.94-2.06-.94L8.5 2.5l-.94 2.06-2.06.94zm10 10l.94 2.06.94-2.06 2.06-.94-2.06-.94-.94-2.06-.94 2.06-2.06.94z\"/><path d=\"M17.41 7.96l-1.37-1.37c-.4-.4-.92-.59-1.43-.59-.52 0-1.04.2-1.43.59L10.3 9.45l-7.72 7.72c-.78.78-.78 2.05 0 2.83L4 21.41c.39.39.9.59 1.41.59.51 0 1.02-.2 1.41-.59l7.78-7.78 2.81-2.81c.8-.78.8-2.07 0-2.86zM5.41 20L4 18.59l7.72-7.72 1.47 1.35L5.41 20z\"/>\n",
              "  </svg>\n",
              "      </button>\n",
              "      \n",
              "  <style>\n",
              "    .colab-df-container {\n",
              "      display:flex;\n",
              "      flex-wrap:wrap;\n",
              "      gap: 12px;\n",
              "    }\n",
              "\n",
              "    .colab-df-convert {\n",
              "      background-color: #E8F0FE;\n",
              "      border: none;\n",
              "      border-radius: 50%;\n",
              "      cursor: pointer;\n",
              "      display: none;\n",
              "      fill: #1967D2;\n",
              "      height: 32px;\n",
              "      padding: 0 0 0 0;\n",
              "      width: 32px;\n",
              "    }\n",
              "\n",
              "    .colab-df-convert:hover {\n",
              "      background-color: #E2EBFA;\n",
              "      box-shadow: 0px 1px 2px rgba(60, 64, 67, 0.3), 0px 1px 3px 1px rgba(60, 64, 67, 0.15);\n",
              "      fill: #174EA6;\n",
              "    }\n",
              "\n",
              "    [theme=dark] .colab-df-convert {\n",
              "      background-color: #3B4455;\n",
              "      fill: #D2E3FC;\n",
              "    }\n",
              "\n",
              "    [theme=dark] .colab-df-convert:hover {\n",
              "      background-color: #434B5C;\n",
              "      box-shadow: 0px 1px 3px 1px rgba(0, 0, 0, 0.15);\n",
              "      filter: drop-shadow(0px 1px 2px rgba(0, 0, 0, 0.3));\n",
              "      fill: #FFFFFF;\n",
              "    }\n",
              "  </style>\n",
              "\n",
              "      <script>\n",
              "        const buttonEl =\n",
              "          document.querySelector('#df-86dd0f6f-b82e-4e95-af6e-35c6fd96c5b1 button.colab-df-convert');\n",
              "        buttonEl.style.display =\n",
              "          google.colab.kernel.accessAllowed ? 'block' : 'none';\n",
              "\n",
              "        async function convertToInteractive(key) {\n",
              "          const element = document.querySelector('#df-86dd0f6f-b82e-4e95-af6e-35c6fd96c5b1');\n",
              "          const dataTable =\n",
              "            await google.colab.kernel.invokeFunction('convertToInteractive',\n",
              "                                                     [key], {});\n",
              "          if (!dataTable) return;\n",
              "\n",
              "          const docLinkHtml = 'Like what you see? Visit the ' +\n",
              "            '<a target=\"_blank\" href=https://colab.research.google.com/notebooks/data_table.ipynb>data table notebook</a>'\n",
              "            + ' to learn more about interactive tables.';\n",
              "          element.innerHTML = '';\n",
              "          dataTable['output_type'] = 'display_data';\n",
              "          await google.colab.output.renderOutput(dataTable, element);\n",
              "          const docLink = document.createElement('div');\n",
              "          docLink.innerHTML = docLinkHtml;\n",
              "          element.appendChild(docLink);\n",
              "        }\n",
              "      </script>\n",
              "    </div>\n",
              "  </div>\n",
              "  "
            ]
          },
          "metadata": {},
          "execution_count": 72
        }
      ]
    },
    {
      "cell_type": "markdown",
      "source": [
        "Performance model akan diukur berdasarkan nilai R^2-nya. Secara keseluruhan, nilai R^2 pada training set dan testing set hampir sama. Model Linear Regression dan Ridge regularization memiliki nilai R^2 berdekatan (~0.92). Model Lasso regularization memiliki R^2 yang kecil, sehingga bisa dikategorikan sebagai model yang buruk. Dilihat dari nilai MAE, MSE dan RMSE pada model Lasso juga cenderung lebih tinggi dari model Linear Regression dan Ridge regularization pada parameter yang sama."
      ],
      "metadata": {
        "id": "bGdKaUu7cGSo"
      }
    },
    {
      "cell_type": "markdown",
      "source": [
        "# IX. MODEL INFERENCE"
      ],
      "metadata": {
        "id": "4pEQckRu1Uow"
      }
    },
    {
      "cell_type": "markdown",
      "source": [
        "Model yang sudah dilatih akan dicoba pada data yang bukan termasuk ke dalam train-set ataupun test-set. Data ini harus dalam format yang asli, bukan data yang sudah di-scaled."
      ],
      "metadata": {
        "id": "eWV7c-HIewZU"
      }
    },
    {
      "cell_type": "markdown",
      "source": [
        "Model inference akan dilakukan terhadap dataset X sebagai dataset original"
      ],
      "metadata": {
        "id": "7EXaJQ9Ifdq-"
      }
    },
    {
      "cell_type": "code",
      "source": [
        "# Prediksi nilai y pada dataset original menggunakan model Linear Regression\n",
        "y_pred_inf = regmod.predict(X)\n",
        "\n",
        "# Prediksi nilai y pada dataset original menggunakan model Lasso regularization\n",
        "y_pred_inf_l = lmod.predict(X)\n",
        "\n",
        "# Prediksi nilai y pada dataset original menggunakan model Ridge regularization\n",
        "y_pred_inf_r = ridmod.predict(X)\n",
        "\n"
      ],
      "metadata": {
        "colab": {
          "base_uri": "https://localhost:8080/"
        },
        "id": "XJwBYSSreQcS",
        "outputId": "c5edc8d4-ab6a-4abc-dd39-5c0c35886044"
      },
      "execution_count": 73,
      "outputs": [
        {
          "output_type": "stream",
          "name": "stderr",
          "text": [
            "/usr/local/lib/python3.8/dist-packages/sklearn/utils/validation.py:1688: FutureWarning: Feature names only support names that are all strings. Got feature names with dtypes: ['str', 'tuple']. An error will be raised in 1.2.\n",
            "  warnings.warn(\n",
            "/usr/local/lib/python3.8/dist-packages/sklearn/utils/validation.py:1688: FutureWarning: Feature names only support names that are all strings. Got feature names with dtypes: ['str', 'tuple']. An error will be raised in 1.2.\n",
            "  warnings.warn(\n",
            "/usr/local/lib/python3.8/dist-packages/sklearn/utils/validation.py:1688: FutureWarning: Feature names only support names that are all strings. Got feature names with dtypes: ['str', 'tuple']. An error will be raised in 1.2.\n",
            "  warnings.warn(\n"
          ]
        }
      ]
    },
    {
      "cell_type": "code",
      "source": [
        "# Buat dataframe berisi data hasil perhitungan MAE, MSE, RMSE dan R^2 untuk dataset original pada masing2 model\n",
        "model_eval_inf = pd.DataFrame({'Linear Regression': [mean_absolute_error(y, y_pred_inf), mean_squared_error(y, y_pred_inf),\n",
        "                                                     np.sqrt(mean_squared_error(y, y_pred_inf)),r2_score(y, y_pred_inf)],\n",
        "'Lasso Regularization (L1)': [mean_absolute_error(y, y_pred_inf_l), mean_squared_error(y, y_pred_inf_l),\n",
        "                                                     np.sqrt(mean_squared_error(y, y_pred_inf_l)),r2_score(y, y_pred_inf_l)],\n",
        "'Ridge Regularization (L2)': [mean_absolute_error(y, y_pred_inf_r), mean_squared_error(y, y_pred_inf_r),\n",
        "                                                     np.sqrt(mean_squared_error(y, y_pred_inf_r)),r2_score(y, y_pred_inf_r)]},\n",
        "\tindex=['MAE','MSE','RMSE','R^2'])\n",
        "\n",
        "model_eval_inf"
      ],
      "metadata": {
        "colab": {
          "base_uri": "https://localhost:8080/",
          "height": 175
        },
        "id": "8IsOMhL0fwgt",
        "outputId": "d843e5b0-9cf7-46f5-fa40-93243fb6e64e"
      },
      "execution_count": 74,
      "outputs": [
        {
          "output_type": "execute_result",
          "data": {
            "text/plain": [
              "      Linear Regression  Lasso Regularization (L1)  Ridge Regularization (L2)\n",
              "MAE            1.776749                   6.550984                   1.767843\n",
              "MSE            6.323253                  62.712377                   6.453922\n",
              "RMSE           2.514608                   7.919115                   2.540457\n",
              "R^2            0.927272                   0.278700                   0.925769"
            ],
            "text/html": [
              "\n",
              "  <div id=\"df-c846f611-623c-4c52-a9aa-c3192fb6e732\">\n",
              "    <div class=\"colab-df-container\">\n",
              "      <div>\n",
              "<style scoped>\n",
              "    .dataframe tbody tr th:only-of-type {\n",
              "        vertical-align: middle;\n",
              "    }\n",
              "\n",
              "    .dataframe tbody tr th {\n",
              "        vertical-align: top;\n",
              "    }\n",
              "\n",
              "    .dataframe thead th {\n",
              "        text-align: right;\n",
              "    }\n",
              "</style>\n",
              "<table border=\"1\" class=\"dataframe\">\n",
              "  <thead>\n",
              "    <tr style=\"text-align: right;\">\n",
              "      <th></th>\n",
              "      <th>Linear Regression</th>\n",
              "      <th>Lasso Regularization (L1)</th>\n",
              "      <th>Ridge Regularization (L2)</th>\n",
              "    </tr>\n",
              "  </thead>\n",
              "  <tbody>\n",
              "    <tr>\n",
              "      <th>MAE</th>\n",
              "      <td>1.776749</td>\n",
              "      <td>6.550984</td>\n",
              "      <td>1.767843</td>\n",
              "    </tr>\n",
              "    <tr>\n",
              "      <th>MSE</th>\n",
              "      <td>6.323253</td>\n",
              "      <td>62.712377</td>\n",
              "      <td>6.453922</td>\n",
              "    </tr>\n",
              "    <tr>\n",
              "      <th>RMSE</th>\n",
              "      <td>2.514608</td>\n",
              "      <td>7.919115</td>\n",
              "      <td>2.540457</td>\n",
              "    </tr>\n",
              "    <tr>\n",
              "      <th>R^2</th>\n",
              "      <td>0.927272</td>\n",
              "      <td>0.278700</td>\n",
              "      <td>0.925769</td>\n",
              "    </tr>\n",
              "  </tbody>\n",
              "</table>\n",
              "</div>\n",
              "      <button class=\"colab-df-convert\" onclick=\"convertToInteractive('df-c846f611-623c-4c52-a9aa-c3192fb6e732')\"\n",
              "              title=\"Convert this dataframe to an interactive table.\"\n",
              "              style=\"display:none;\">\n",
              "        \n",
              "  <svg xmlns=\"http://www.w3.org/2000/svg\" height=\"24px\"viewBox=\"0 0 24 24\"\n",
              "       width=\"24px\">\n",
              "    <path d=\"M0 0h24v24H0V0z\" fill=\"none\"/>\n",
              "    <path d=\"M18.56 5.44l.94 2.06.94-2.06 2.06-.94-2.06-.94-.94-2.06-.94 2.06-2.06.94zm-11 1L8.5 8.5l.94-2.06 2.06-.94-2.06-.94L8.5 2.5l-.94 2.06-2.06.94zm10 10l.94 2.06.94-2.06 2.06-.94-2.06-.94-.94-2.06-.94 2.06-2.06.94z\"/><path d=\"M17.41 7.96l-1.37-1.37c-.4-.4-.92-.59-1.43-.59-.52 0-1.04.2-1.43.59L10.3 9.45l-7.72 7.72c-.78.78-.78 2.05 0 2.83L4 21.41c.39.39.9.59 1.41.59.51 0 1.02-.2 1.41-.59l7.78-7.78 2.81-2.81c.8-.78.8-2.07 0-2.86zM5.41 20L4 18.59l7.72-7.72 1.47 1.35L5.41 20z\"/>\n",
              "  </svg>\n",
              "      </button>\n",
              "      \n",
              "  <style>\n",
              "    .colab-df-container {\n",
              "      display:flex;\n",
              "      flex-wrap:wrap;\n",
              "      gap: 12px;\n",
              "    }\n",
              "\n",
              "    .colab-df-convert {\n",
              "      background-color: #E8F0FE;\n",
              "      border: none;\n",
              "      border-radius: 50%;\n",
              "      cursor: pointer;\n",
              "      display: none;\n",
              "      fill: #1967D2;\n",
              "      height: 32px;\n",
              "      padding: 0 0 0 0;\n",
              "      width: 32px;\n",
              "    }\n",
              "\n",
              "    .colab-df-convert:hover {\n",
              "      background-color: #E2EBFA;\n",
              "      box-shadow: 0px 1px 2px rgba(60, 64, 67, 0.3), 0px 1px 3px 1px rgba(60, 64, 67, 0.15);\n",
              "      fill: #174EA6;\n",
              "    }\n",
              "\n",
              "    [theme=dark] .colab-df-convert {\n",
              "      background-color: #3B4455;\n",
              "      fill: #D2E3FC;\n",
              "    }\n",
              "\n",
              "    [theme=dark] .colab-df-convert:hover {\n",
              "      background-color: #434B5C;\n",
              "      box-shadow: 0px 1px 3px 1px rgba(0, 0, 0, 0.15);\n",
              "      filter: drop-shadow(0px 1px 2px rgba(0, 0, 0, 0.3));\n",
              "      fill: #FFFFFF;\n",
              "    }\n",
              "  </style>\n",
              "\n",
              "      <script>\n",
              "        const buttonEl =\n",
              "          document.querySelector('#df-c846f611-623c-4c52-a9aa-c3192fb6e732 button.colab-df-convert');\n",
              "        buttonEl.style.display =\n",
              "          google.colab.kernel.accessAllowed ? 'block' : 'none';\n",
              "\n",
              "        async function convertToInteractive(key) {\n",
              "          const element = document.querySelector('#df-c846f611-623c-4c52-a9aa-c3192fb6e732');\n",
              "          const dataTable =\n",
              "            await google.colab.kernel.invokeFunction('convertToInteractive',\n",
              "                                                     [key], {});\n",
              "          if (!dataTable) return;\n",
              "\n",
              "          const docLinkHtml = 'Like what you see? Visit the ' +\n",
              "            '<a target=\"_blank\" href=https://colab.research.google.com/notebooks/data_table.ipynb>data table notebook</a>'\n",
              "            + ' to learn more about interactive tables.';\n",
              "          element.innerHTML = '';\n",
              "          dataTable['output_type'] = 'display_data';\n",
              "          await google.colab.output.renderOutput(dataTable, element);\n",
              "          const docLink = document.createElement('div');\n",
              "          docLink.innerHTML = docLinkHtml;\n",
              "          element.appendChild(docLink);\n",
              "        }\n",
              "      </script>\n",
              "    </div>\n",
              "  </div>\n",
              "  "
            ]
          },
          "metadata": {},
          "execution_count": 74
        }
      ]
    },
    {
      "cell_type": "markdown",
      "source": [
        "Secara keseluruhan, nilai R^2 pada inference set (original dataset) dan training set serta testing set hampir sama. Dapat dikatakan ketiga model tsb cukup reliable jika diterapkan pada data real."
      ],
      "metadata": {
        "id": "T2JNy2mnhBcA"
      }
    },
    {
      "cell_type": "markdown",
      "source": [
        "# X. KESIMPULAN"
      ],
      "metadata": {
        "id": "JyMzQKcB1ZRZ"
      }
    },
    {
      "cell_type": "markdown",
      "source": [
        "Analisa dataset rideshare_kaggle.csv untuk memprediksi harga perjalanan platform ride-hailing telah berhasil dilakukan dengan menggunakan model Linear Regression, Lasso Regularization dan Ridge Regularization. Setelah melalui seleksi fitur dengan hanya memakai fitur dengan korelasi cukup besar terhadap target, pemodelan dilakukan dengan 3 fitur: name, distance dan surge_multiplier. Target dari pemodelan adalah price.\n",
        "\n",
        "Performance model diukur berdasarkan nilai R^2-nya. Secara keseluruhan, nilai R^2 pada training set dan testing set hampir sama. Model Linear Regression dan Ridge regularization memiliki nilai R^2 berdekatan (~0.92). Model Lasso regularization memiliki R^2 yang kecil, sehingga bisa dikategorikan sebagai model yang buruk. Dilihat dari nilai MAE, MSE dan RMSE pada model Lasso juga cenderung lebih tinggi dari model Linear Regression dan Ridge regularization pada parameter yang sama.\n",
        "\n",
        "Dilihat dari pengujian terhadap model inference berupa original dataset, nilai R^2 pada inference set, hampir sama dengan training set dan testing set. Oleh karena itu, ketiga model tsb bisa dianggap cukup reliable jika diterapkan pada data real.\n",
        "\n",
        "Rekomendasi dari penelitian ini adalah untuk menggunakan model multiple Linear Regression tanpa menambahkan hyperparameter Lasso atau Ridge, karena model Linear Regression saja sudah cukup baik untuk memprediksi harga perjalanan platform ride-hailing dengan R^2 score 0.92."
      ],
      "metadata": {
        "id": "HdCGggubhYPZ"
      }
    },
    {
      "cell_type": "markdown",
      "source": [
        "# Pertanyaan"
      ],
      "metadata": {
        "id": "kIOFmT3mi1sI"
      }
    },
    {
      "cell_type": "markdown",
      "source": [
        "1. Sebutkan dan jelaskan asumsi yang dipakai oleh Linear Regression !\n",
        "\n",
        "Asumsi pada Linear Regression adalah:\n",
        "\n",
        "-Linearity, yaitu terdapat hubungan linear antara variabel independen (x) dan variabel dependen (y)\n",
        "\n",
        "-Homoskedastis, yaitu variance dari residual sama pada setiap nilai x\n",
        "\n",
        "-Masing-masing nilai x adalah independen satu sama lain dan masing-masing memiliki korelasi terhadap y\n",
        "\n",
        "-Nilai residual terdistribusi secara normal\n",
        "\n",
        "2. Tunjukkan dan tafsirkan arti dari coefficient dan slope yang didapat dari model yang telah Anda bangun !\n",
        "\n",
        "Persamaan Linear Regression hasil pemodelan:\n",
        "\n",
        "Price = -8.14 + 2.8*distance + 18.3*surge_multiplier + 4.2*(Black) + 14*(Black SUV) + 0.81*(Lux) +6*(Lux Black) + 15.35*(Lux Black XL) -7.36*(Lyft) \n",
        "-1.66*(Lyft XL) -10.24*(Shared) -7.53*(UberPool) -6.52*(UberX) -0.62*(UberXL) -6.53*(WAV)\n",
        "\n",
        "Angka positif pada koefisien menunjukkan hubungan berbanding lurus dengan price dan angka negatif menunjukkan hubungan berbanding terbalik. Semakin positif atau negatif nilai koefisien, semakin besar pengaruhnya terhadap harga. Jika dilihat pada model, surge_multiplier memiliki pengaruh terbesar terhadap harga. Pada kolom nama layanan, 'Lux Black XL' adalah layanan yang paling berpengaruh terhadap harga (tidak mengherankan karena layanan ini termasuk yang paling mahal secara rerata harga). \n"
      ],
      "metadata": {
        "id": "EAYKGhz-jiAm"
      }
    },
    {
      "cell_type": "code",
      "source": [
        "mod.coef_"
      ],
      "metadata": {
        "colab": {
          "base_uri": "https://localhost:8080/"
        },
        "id": "oXgubQDBkko8",
        "outputId": "a7de635e-dc80-408f-994a-78853e2ea3bf"
      },
      "execution_count": null,
      "outputs": [
        {
          "output_type": "execute_result",
          "data": {
            "text/plain": [
              "array([  2.79300849,  18.31917746,   4.23332062,  13.99677786,\n",
              "         0.81064732,   6.0971101 ,  15.3546312 ,  -7.36811349,\n",
              "        -1.66269524, -10.24589548,  -7.53840857,  -6.52496595,\n",
              "        -0.62085469,  -6.53155368])"
            ]
          },
          "metadata": {},
          "execution_count": 123
        }
      ]
    },
    {
      "cell_type": "code",
      "source": [
        "mod.intercept_"
      ],
      "metadata": {
        "colab": {
          "base_uri": "https://localhost:8080/"
        },
        "id": "sajFvBAYkmTt",
        "outputId": "4c3a2cc7-8eb4-423d-b05a-c9362e1ea7c6"
      },
      "execution_count": null,
      "outputs": [
        {
          "output_type": "execute_result",
          "data": {
            "text/plain": [
              "-8.146614958797329"
            ]
          },
          "metadata": {},
          "execution_count": 124
        }
      ]
    },
    {
      "cell_type": "code",
      "source": [
        "X.head()"
      ],
      "metadata": {
        "colab": {
          "base_uri": "https://localhost:8080/",
          "height": 268
        },
        "id": "ugoks7l2kq83",
        "outputId": "4e068951-ad65-4fe6-c367-23c47c99caa9"
      },
      "execution_count": null,
      "outputs": [
        {
          "output_type": "execute_result",
          "data": {
            "text/plain": [
              "   distance  surge_multiplier  (Black,)  (Black SUV,)  (Lux,)  (Lux Black,)  \\\n",
              "0      0.44               1.0       0.0           0.0     0.0           0.0   \n",
              "1      0.44               1.0       0.0           0.0     1.0           0.0   \n",
              "2      0.44               1.0       0.0           0.0     0.0           0.0   \n",
              "3      0.44               1.0       0.0           0.0     0.0           0.0   \n",
              "4      0.44               1.0       0.0           0.0     0.0           0.0   \n",
              "\n",
              "   (Lux Black XL,)  (Lyft,)  (Lyft XL,)  (Shared,)  (UberPool,)  (UberX,)  \\\n",
              "0              0.0      0.0         0.0        1.0          0.0       0.0   \n",
              "1              0.0      0.0         0.0        0.0          0.0       0.0   \n",
              "2              0.0      1.0         0.0        0.0          0.0       0.0   \n",
              "3              1.0      0.0         0.0        0.0          0.0       0.0   \n",
              "4              0.0      0.0         1.0        0.0          0.0       0.0   \n",
              "\n",
              "   (UberXL,)  (WAV,)  \n",
              "0        0.0     0.0  \n",
              "1        0.0     0.0  \n",
              "2        0.0     0.0  \n",
              "3        0.0     0.0  \n",
              "4        0.0     0.0  "
            ],
            "text/html": [
              "\n",
              "  <div id=\"df-8298940a-4cbf-4788-9f54-f0e14ab6b1d7\">\n",
              "    <div class=\"colab-df-container\">\n",
              "      <div>\n",
              "<style scoped>\n",
              "    .dataframe tbody tr th:only-of-type {\n",
              "        vertical-align: middle;\n",
              "    }\n",
              "\n",
              "    .dataframe tbody tr th {\n",
              "        vertical-align: top;\n",
              "    }\n",
              "\n",
              "    .dataframe thead th {\n",
              "        text-align: right;\n",
              "    }\n",
              "</style>\n",
              "<table border=\"1\" class=\"dataframe\">\n",
              "  <thead>\n",
              "    <tr style=\"text-align: right;\">\n",
              "      <th></th>\n",
              "      <th>distance</th>\n",
              "      <th>surge_multiplier</th>\n",
              "      <th>(Black,)</th>\n",
              "      <th>(Black SUV,)</th>\n",
              "      <th>(Lux,)</th>\n",
              "      <th>(Lux Black,)</th>\n",
              "      <th>(Lux Black XL,)</th>\n",
              "      <th>(Lyft,)</th>\n",
              "      <th>(Lyft XL,)</th>\n",
              "      <th>(Shared,)</th>\n",
              "      <th>(UberPool,)</th>\n",
              "      <th>(UberX,)</th>\n",
              "      <th>(UberXL,)</th>\n",
              "      <th>(WAV,)</th>\n",
              "    </tr>\n",
              "  </thead>\n",
              "  <tbody>\n",
              "    <tr>\n",
              "      <th>0</th>\n",
              "      <td>0.44</td>\n",
              "      <td>1.0</td>\n",
              "      <td>0.0</td>\n",
              "      <td>0.0</td>\n",
              "      <td>0.0</td>\n",
              "      <td>0.0</td>\n",
              "      <td>0.0</td>\n",
              "      <td>0.0</td>\n",
              "      <td>0.0</td>\n",
              "      <td>1.0</td>\n",
              "      <td>0.0</td>\n",
              "      <td>0.0</td>\n",
              "      <td>0.0</td>\n",
              "      <td>0.0</td>\n",
              "    </tr>\n",
              "    <tr>\n",
              "      <th>1</th>\n",
              "      <td>0.44</td>\n",
              "      <td>1.0</td>\n",
              "      <td>0.0</td>\n",
              "      <td>0.0</td>\n",
              "      <td>1.0</td>\n",
              "      <td>0.0</td>\n",
              "      <td>0.0</td>\n",
              "      <td>0.0</td>\n",
              "      <td>0.0</td>\n",
              "      <td>0.0</td>\n",
              "      <td>0.0</td>\n",
              "      <td>0.0</td>\n",
              "      <td>0.0</td>\n",
              "      <td>0.0</td>\n",
              "    </tr>\n",
              "    <tr>\n",
              "      <th>2</th>\n",
              "      <td>0.44</td>\n",
              "      <td>1.0</td>\n",
              "      <td>0.0</td>\n",
              "      <td>0.0</td>\n",
              "      <td>0.0</td>\n",
              "      <td>0.0</td>\n",
              "      <td>0.0</td>\n",
              "      <td>1.0</td>\n",
              "      <td>0.0</td>\n",
              "      <td>0.0</td>\n",
              "      <td>0.0</td>\n",
              "      <td>0.0</td>\n",
              "      <td>0.0</td>\n",
              "      <td>0.0</td>\n",
              "    </tr>\n",
              "    <tr>\n",
              "      <th>3</th>\n",
              "      <td>0.44</td>\n",
              "      <td>1.0</td>\n",
              "      <td>0.0</td>\n",
              "      <td>0.0</td>\n",
              "      <td>0.0</td>\n",
              "      <td>0.0</td>\n",
              "      <td>1.0</td>\n",
              "      <td>0.0</td>\n",
              "      <td>0.0</td>\n",
              "      <td>0.0</td>\n",
              "      <td>0.0</td>\n",
              "      <td>0.0</td>\n",
              "      <td>0.0</td>\n",
              "      <td>0.0</td>\n",
              "    </tr>\n",
              "    <tr>\n",
              "      <th>4</th>\n",
              "      <td>0.44</td>\n",
              "      <td>1.0</td>\n",
              "      <td>0.0</td>\n",
              "      <td>0.0</td>\n",
              "      <td>0.0</td>\n",
              "      <td>0.0</td>\n",
              "      <td>0.0</td>\n",
              "      <td>0.0</td>\n",
              "      <td>1.0</td>\n",
              "      <td>0.0</td>\n",
              "      <td>0.0</td>\n",
              "      <td>0.0</td>\n",
              "      <td>0.0</td>\n",
              "      <td>0.0</td>\n",
              "    </tr>\n",
              "  </tbody>\n",
              "</table>\n",
              "</div>\n",
              "      <button class=\"colab-df-convert\" onclick=\"convertToInteractive('df-8298940a-4cbf-4788-9f54-f0e14ab6b1d7')\"\n",
              "              title=\"Convert this dataframe to an interactive table.\"\n",
              "              style=\"display:none;\">\n",
              "        \n",
              "  <svg xmlns=\"http://www.w3.org/2000/svg\" height=\"24px\"viewBox=\"0 0 24 24\"\n",
              "       width=\"24px\">\n",
              "    <path d=\"M0 0h24v24H0V0z\" fill=\"none\"/>\n",
              "    <path d=\"M18.56 5.44l.94 2.06.94-2.06 2.06-.94-2.06-.94-.94-2.06-.94 2.06-2.06.94zm-11 1L8.5 8.5l.94-2.06 2.06-.94-2.06-.94L8.5 2.5l-.94 2.06-2.06.94zm10 10l.94 2.06.94-2.06 2.06-.94-2.06-.94-.94-2.06-.94 2.06-2.06.94z\"/><path d=\"M17.41 7.96l-1.37-1.37c-.4-.4-.92-.59-1.43-.59-.52 0-1.04.2-1.43.59L10.3 9.45l-7.72 7.72c-.78.78-.78 2.05 0 2.83L4 21.41c.39.39.9.59 1.41.59.51 0 1.02-.2 1.41-.59l7.78-7.78 2.81-2.81c.8-.78.8-2.07 0-2.86zM5.41 20L4 18.59l7.72-7.72 1.47 1.35L5.41 20z\"/>\n",
              "  </svg>\n",
              "      </button>\n",
              "      \n",
              "  <style>\n",
              "    .colab-df-container {\n",
              "      display:flex;\n",
              "      flex-wrap:wrap;\n",
              "      gap: 12px;\n",
              "    }\n",
              "\n",
              "    .colab-df-convert {\n",
              "      background-color: #E8F0FE;\n",
              "      border: none;\n",
              "      border-radius: 50%;\n",
              "      cursor: pointer;\n",
              "      display: none;\n",
              "      fill: #1967D2;\n",
              "      height: 32px;\n",
              "      padding: 0 0 0 0;\n",
              "      width: 32px;\n",
              "    }\n",
              "\n",
              "    .colab-df-convert:hover {\n",
              "      background-color: #E2EBFA;\n",
              "      box-shadow: 0px 1px 2px rgba(60, 64, 67, 0.3), 0px 1px 3px 1px rgba(60, 64, 67, 0.15);\n",
              "      fill: #174EA6;\n",
              "    }\n",
              "\n",
              "    [theme=dark] .colab-df-convert {\n",
              "      background-color: #3B4455;\n",
              "      fill: #D2E3FC;\n",
              "    }\n",
              "\n",
              "    [theme=dark] .colab-df-convert:hover {\n",
              "      background-color: #434B5C;\n",
              "      box-shadow: 0px 1px 3px 1px rgba(0, 0, 0, 0.15);\n",
              "      filter: drop-shadow(0px 1px 2px rgba(0, 0, 0, 0.3));\n",
              "      fill: #FFFFFF;\n",
              "    }\n",
              "  </style>\n",
              "\n",
              "      <script>\n",
              "        const buttonEl =\n",
              "          document.querySelector('#df-8298940a-4cbf-4788-9f54-f0e14ab6b1d7 button.colab-df-convert');\n",
              "        buttonEl.style.display =\n",
              "          google.colab.kernel.accessAllowed ? 'block' : 'none';\n",
              "\n",
              "        async function convertToInteractive(key) {\n",
              "          const element = document.querySelector('#df-8298940a-4cbf-4788-9f54-f0e14ab6b1d7');\n",
              "          const dataTable =\n",
              "            await google.colab.kernel.invokeFunction('convertToInteractive',\n",
              "                                                     [key], {});\n",
              "          if (!dataTable) return;\n",
              "\n",
              "          const docLinkHtml = 'Like what you see? Visit the ' +\n",
              "            '<a target=\"_blank\" href=https://colab.research.google.com/notebooks/data_table.ipynb>data table notebook</a>'\n",
              "            + ' to learn more about interactive tables.';\n",
              "          element.innerHTML = '';\n",
              "          dataTable['output_type'] = 'display_data';\n",
              "          await google.colab.output.renderOutput(dataTable, element);\n",
              "          const docLink = document.createElement('div');\n",
              "          docLink.innerHTML = docLinkHtml;\n",
              "          element.appendChild(docLink);\n",
              "        }\n",
              "      </script>\n",
              "    </div>\n",
              "  </div>\n",
              "  "
            ]
          },
          "metadata": {},
          "execution_count": 128
        }
      ]
    }
  ]
}