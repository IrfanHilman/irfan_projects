{
  "nbformat": 4,
  "nbformat_minor": 0,
  "metadata": {
    "colab": {
      "provenance": []
    },
    "kernelspec": {
      "name": "python3",
      "display_name": "Python 3"
    },
    "language_info": {
      "name": "python"
    }
  },
  "cells": [
    {
      "cell_type": "markdown",
      "source": [
        "# I. Perkenalan"
      ],
      "metadata": {
        "id": "xlUPs_uoqbxJ"
      }
    },
    {
      "cell_type": "markdown",
      "source": [
        "Pada project ini kita ajan menganalisa dataset mengenai gagal bayar kartu kredit. Kolom dataset tsb diantaranya adalah jumlah kredit (limit balance), gender, tingkat pendidikan, status pernikahan, umur, status pembayaran, jumlah tagihan, jumlah pembayaran dan kasus gagal bayar pada bulan berikutnya. \n",
        "\n",
        "Problem statement dalam laporan ini adalah untuk memprediksi kasus gagal bayar pada bulan berikutnya dengan menggunakan berbagai model machine learning, diantaranya logistic regression, support vector machine (SVM), decision tree, random forest, k-nearest neighbors, naive bayes dan algoritma lain, yaitu XGBoost. Performa model2 tsb akan dievaluasi dan dibandingkan, untuk menemukan model dengan performa terbaik.\n",
        "\n",
        "Dataset berasal dari ml_datasets pada Big Query dengan nama credit_card_default.csv. Dataset tersebut akan diunduh menggunakan line code SQL berikut:"
      ],
      "metadata": {
        "id": "OcUFxsZ2jeUp"
      }
    },
    {
      "cell_type": "markdown",
      "source": [
        "SELECT limit_balance, sex, education_level, marital_status, age, pay_0, pay_2, pay_3, pay_4, pay_5, pay_6, bill_amt_1, bill_amt_2, bill_amt_3, bill_amt_4, bill_amt_5, bill_amt_6, pay_amt_1, pay_amt_2, pay_amt_3, pay_amt_4, pay_amt_5, pay_amt_6, default_payment_next_month\n",
        "\n",
        "FROM bigquery-public-data.ml_datasets.credit_card_default\n",
        "\n",
        "LIMIT 19930"
      ],
      "metadata": {
        "id": "66zMf1flt31Y"
      }
    },
    {
      "cell_type": "markdown",
      "source": [
        "Selanjutnya, dataset di-upload ke github dan akan di-extract menggunakan platform Google Colab - Notebook."
      ],
      "metadata": {
        "id": "g8FQ3LrkmAlH"
      }
    },
    {
      "cell_type": "markdown",
      "source": [
        "# II. Import Libraries"
      ],
      "metadata": {
        "id": "YU1vxCUTqfMX"
      }
    },
    {
      "cell_type": "markdown",
      "source": [
        "Install package dan import seluruh library yg akan digunakan"
      ],
      "metadata": {
        "id": "IWSrVbbwrKik"
      }
    },
    {
      "cell_type": "code",
      "source": [
        "# Install package feature-engine untuk meng-import Winsorizer utk handling outliers\n",
        "!pip install feature-engine"
      ],
      "metadata": {
        "colab": {
          "base_uri": "https://localhost:8080/"
        },
        "id": "0vqvV5TbsG29",
        "outputId": "5c820865-ad64-4e38-c67d-b5d572311279"
      },
      "execution_count": null,
      "outputs": [
        {
          "output_type": "stream",
          "name": "stdout",
          "text": [
            "Looking in indexes: https://pypi.org/simple, https://us-python.pkg.dev/colab-wheels/public/simple/\n",
            "Requirement already satisfied: feature-engine in /usr/local/lib/python3.7/dist-packages (1.4.0)\n",
            "Requirement already satisfied: pandas>=1.0.3 in /usr/local/lib/python3.7/dist-packages (from feature-engine) (1.3.5)\n",
            "Requirement already satisfied: scipy>=1.4.1 in /usr/local/lib/python3.7/dist-packages (from feature-engine) (1.7.3)\n",
            "Requirement already satisfied: scikit-learn>=1.0.0 in /usr/local/lib/python3.7/dist-packages (from feature-engine) (1.0.2)\n",
            "Requirement already satisfied: statsmodels>=0.11.1 in /usr/local/lib/python3.7/dist-packages (from feature-engine) (0.12.2)\n",
            "Requirement already satisfied: numpy>=1.18.2 in /usr/local/lib/python3.7/dist-packages (from feature-engine) (1.21.6)\n",
            "Requirement already satisfied: pytz>=2017.3 in /usr/local/lib/python3.7/dist-packages (from pandas>=1.0.3->feature-engine) (2022.6)\n",
            "Requirement already satisfied: python-dateutil>=2.7.3 in /usr/local/lib/python3.7/dist-packages (from pandas>=1.0.3->feature-engine) (2.8.2)\n",
            "Requirement already satisfied: six>=1.5 in /usr/local/lib/python3.7/dist-packages (from python-dateutil>=2.7.3->pandas>=1.0.3->feature-engine) (1.15.0)\n",
            "Requirement already satisfied: joblib>=0.11 in /usr/local/lib/python3.7/dist-packages (from scikit-learn>=1.0.0->feature-engine) (1.2.0)\n",
            "Requirement already satisfied: threadpoolctl>=2.0.0 in /usr/local/lib/python3.7/dist-packages (from scikit-learn>=1.0.0->feature-engine) (3.1.0)\n",
            "Requirement already satisfied: patsy>=0.5 in /usr/local/lib/python3.7/dist-packages (from statsmodels>=0.11.1->feature-engine) (0.5.3)\n"
          ]
        }
      ]
    },
    {
      "cell_type": "code",
      "source": [
        "# Import seluruh library yg akan digunakan\n",
        "import pandas as pd\n",
        "import numpy as np\n",
        "import matplotlib as mpl\n",
        "import matplotlib.pyplot as plt\n",
        "import seaborn as sns\n",
        "import xgboost as xgb\n",
        "from sklearn.model_selection import train_test_split,GridSearchCV\n",
        "from sklearn.preprocessing import OneHotEncoder,MinMaxScaler\n",
        "from sklearn.feature_selection import chi2\n",
        "from sklearn.impute import SimpleImputer\n",
        "from sklearn.pipeline import Pipeline\n",
        "from sklearn.compose import ColumnTransformer\n",
        "from feature_engine.outliers import Winsorizer\n",
        "from sklearn.metrics import accuracy_score, confusion_matrix, ConfusionMatrixDisplay, classification_report\n",
        "from sklearn.linear_model import LogisticRegression\n",
        "from sklearn.svm import SVC\n",
        "from sklearn.tree import DecisionTreeClassifier\n",
        "from sklearn.ensemble import RandomForestClassifier\n",
        "from sklearn.neighbors import KNeighborsClassifier\n",
        "from sklearn.naive_bayes import GaussianNB\n",
        "from scipy.stats import chi2_contingency"
      ],
      "metadata": {
        "id": "MmAjW61Srxly"
      },
      "execution_count": null,
      "outputs": []
    },
    {
      "cell_type": "markdown",
      "source": [
        "# III. Data Loading"
      ],
      "metadata": {
        "id": "vyOQrgyaqiBo"
      }
    },
    {
      "cell_type": "markdown",
      "source": [
        "Loading dataset dari Github untuk selanjutnya diolah"
      ],
      "metadata": {
        "id": "Ku8KJGAcrMzY"
      }
    },
    {
      "cell_type": "code",
      "source": [
        "# Extract dataset dari Github dan simpan datanya ke dalam df\n",
        "df = pd.read_csv('https://raw.githubusercontent.com/IrfanHilman/FTDS_Hacktiv8_Batch_16/main/h8dsft_P1M1_Irfan-Hilman.csv')"
      ],
      "metadata": {
        "id": "KhKCV6TpuEVZ"
      },
      "execution_count": null,
      "outputs": []
    },
    {
      "cell_type": "code",
      "source": [
        "# Gunakan options untuk menampilkan semua kolom\n",
        "pd.options.display.max_columns = None\n",
        "\n",
        "# Tampilkan 5 baris pertama df\n",
        "df.head()"
      ],
      "metadata": {
        "colab": {
          "base_uri": "https://localhost:8080/",
          "height": 270
        },
        "id": "emxDvxVfuP0R",
        "outputId": "2bb58734-a8f0-4cf0-dd72-ebbe4aba8be8"
      },
      "execution_count": null,
      "outputs": [
        {
          "output_type": "execute_result",
          "data": {
            "text/plain": [
              "   limit_balance  sex  education_level  marital_status   age  pay_0  pay_2  \\\n",
              "0        50000.0    1                3               0  50.0    0.0    0.0   \n",
              "1       200000.0    2                3               0  45.0   -2.0   -2.0   \n",
              "2       130000.0    1                1               1  45.0    0.0    0.0   \n",
              "3       230000.0    1                2               1  41.0    0.0    0.0   \n",
              "4        50000.0    1                2               1  42.0    0.0    0.0   \n",
              "\n",
              "   pay_3  pay_4  pay_5  pay_6  bill_amt_1  bill_amt_2  bill_amt_3  bill_amt_4  \\\n",
              "0    0.0   -1.0     -1     -1     45771.0     23343.0         0.0      3400.0   \n",
              "1   -2.0   -2.0     -2     -2       399.0      2430.0         0.0       399.0   \n",
              "2    0.0    0.0      0      0     58180.0     59134.0     61156.0     62377.0   \n",
              "3    0.0    0.0      0      0    301038.0    305327.0    213058.0    216260.0   \n",
              "4    0.0    0.0      0      2     35892.0     32546.0     30660.0     31320.0   \n",
              "\n",
              "   bill_amt_5  bill_amt_6  pay_amt_1  pay_amt_2  pay_amt_3  pay_amt_4  \\\n",
              "0      2769.0         0.0     2266.0        0.0     3400.0     2769.0   \n",
              "1      1396.0         0.0     2430.0        0.0      399.0     1396.0   \n",
              "2     63832.0     65099.0     2886.0     2908.0     2129.0     2354.0   \n",
              "3    215968.0    174195.0     9405.0     7769.0     7757.0     8030.0   \n",
              "4     36227.0     35569.0     2007.0     2000.0     1500.0     5400.0   \n",
              "\n",
              "   pay_amt_5  pay_amt_6  default_payment_next_month  \n",
              "0     1700.0        0.0                           0  \n",
              "1        0.0        0.0                           0  \n",
              "2     2366.0     2291.0                           0  \n",
              "3     6549.0     5226.0                           1  \n",
              "4        0.0     3000.0                           0  "
            ],
            "text/html": [
              "\n",
              "  <div id=\"df-4a8fc0c7-0343-46d2-b7fd-0802a9228bcc\">\n",
              "    <div class=\"colab-df-container\">\n",
              "      <div>\n",
              "<style scoped>\n",
              "    .dataframe tbody tr th:only-of-type {\n",
              "        vertical-align: middle;\n",
              "    }\n",
              "\n",
              "    .dataframe tbody tr th {\n",
              "        vertical-align: top;\n",
              "    }\n",
              "\n",
              "    .dataframe thead th {\n",
              "        text-align: right;\n",
              "    }\n",
              "</style>\n",
              "<table border=\"1\" class=\"dataframe\">\n",
              "  <thead>\n",
              "    <tr style=\"text-align: right;\">\n",
              "      <th></th>\n",
              "      <th>limit_balance</th>\n",
              "      <th>sex</th>\n",
              "      <th>education_level</th>\n",
              "      <th>marital_status</th>\n",
              "      <th>age</th>\n",
              "      <th>pay_0</th>\n",
              "      <th>pay_2</th>\n",
              "      <th>pay_3</th>\n",
              "      <th>pay_4</th>\n",
              "      <th>pay_5</th>\n",
              "      <th>pay_6</th>\n",
              "      <th>bill_amt_1</th>\n",
              "      <th>bill_amt_2</th>\n",
              "      <th>bill_amt_3</th>\n",
              "      <th>bill_amt_4</th>\n",
              "      <th>bill_amt_5</th>\n",
              "      <th>bill_amt_6</th>\n",
              "      <th>pay_amt_1</th>\n",
              "      <th>pay_amt_2</th>\n",
              "      <th>pay_amt_3</th>\n",
              "      <th>pay_amt_4</th>\n",
              "      <th>pay_amt_5</th>\n",
              "      <th>pay_amt_6</th>\n",
              "      <th>default_payment_next_month</th>\n",
              "    </tr>\n",
              "  </thead>\n",
              "  <tbody>\n",
              "    <tr>\n",
              "      <th>0</th>\n",
              "      <td>50000.0</td>\n",
              "      <td>1</td>\n",
              "      <td>3</td>\n",
              "      <td>0</td>\n",
              "      <td>50.0</td>\n",
              "      <td>0.0</td>\n",
              "      <td>0.0</td>\n",
              "      <td>0.0</td>\n",
              "      <td>-1.0</td>\n",
              "      <td>-1</td>\n",
              "      <td>-1</td>\n",
              "      <td>45771.0</td>\n",
              "      <td>23343.0</td>\n",
              "      <td>0.0</td>\n",
              "      <td>3400.0</td>\n",
              "      <td>2769.0</td>\n",
              "      <td>0.0</td>\n",
              "      <td>2266.0</td>\n",
              "      <td>0.0</td>\n",
              "      <td>3400.0</td>\n",
              "      <td>2769.0</td>\n",
              "      <td>1700.0</td>\n",
              "      <td>0.0</td>\n",
              "      <td>0</td>\n",
              "    </tr>\n",
              "    <tr>\n",
              "      <th>1</th>\n",
              "      <td>200000.0</td>\n",
              "      <td>2</td>\n",
              "      <td>3</td>\n",
              "      <td>0</td>\n",
              "      <td>45.0</td>\n",
              "      <td>-2.0</td>\n",
              "      <td>-2.0</td>\n",
              "      <td>-2.0</td>\n",
              "      <td>-2.0</td>\n",
              "      <td>-2</td>\n",
              "      <td>-2</td>\n",
              "      <td>399.0</td>\n",
              "      <td>2430.0</td>\n",
              "      <td>0.0</td>\n",
              "      <td>399.0</td>\n",
              "      <td>1396.0</td>\n",
              "      <td>0.0</td>\n",
              "      <td>2430.0</td>\n",
              "      <td>0.0</td>\n",
              "      <td>399.0</td>\n",
              "      <td>1396.0</td>\n",
              "      <td>0.0</td>\n",
              "      <td>0.0</td>\n",
              "      <td>0</td>\n",
              "    </tr>\n",
              "    <tr>\n",
              "      <th>2</th>\n",
              "      <td>130000.0</td>\n",
              "      <td>1</td>\n",
              "      <td>1</td>\n",
              "      <td>1</td>\n",
              "      <td>45.0</td>\n",
              "      <td>0.0</td>\n",
              "      <td>0.0</td>\n",
              "      <td>0.0</td>\n",
              "      <td>0.0</td>\n",
              "      <td>0</td>\n",
              "      <td>0</td>\n",
              "      <td>58180.0</td>\n",
              "      <td>59134.0</td>\n",
              "      <td>61156.0</td>\n",
              "      <td>62377.0</td>\n",
              "      <td>63832.0</td>\n",
              "      <td>65099.0</td>\n",
              "      <td>2886.0</td>\n",
              "      <td>2908.0</td>\n",
              "      <td>2129.0</td>\n",
              "      <td>2354.0</td>\n",
              "      <td>2366.0</td>\n",
              "      <td>2291.0</td>\n",
              "      <td>0</td>\n",
              "    </tr>\n",
              "    <tr>\n",
              "      <th>3</th>\n",
              "      <td>230000.0</td>\n",
              "      <td>1</td>\n",
              "      <td>2</td>\n",
              "      <td>1</td>\n",
              "      <td>41.0</td>\n",
              "      <td>0.0</td>\n",
              "      <td>0.0</td>\n",
              "      <td>0.0</td>\n",
              "      <td>0.0</td>\n",
              "      <td>0</td>\n",
              "      <td>0</td>\n",
              "      <td>301038.0</td>\n",
              "      <td>305327.0</td>\n",
              "      <td>213058.0</td>\n",
              "      <td>216260.0</td>\n",
              "      <td>215968.0</td>\n",
              "      <td>174195.0</td>\n",
              "      <td>9405.0</td>\n",
              "      <td>7769.0</td>\n",
              "      <td>7757.0</td>\n",
              "      <td>8030.0</td>\n",
              "      <td>6549.0</td>\n",
              "      <td>5226.0</td>\n",
              "      <td>1</td>\n",
              "    </tr>\n",
              "    <tr>\n",
              "      <th>4</th>\n",
              "      <td>50000.0</td>\n",
              "      <td>1</td>\n",
              "      <td>2</td>\n",
              "      <td>1</td>\n",
              "      <td>42.0</td>\n",
              "      <td>0.0</td>\n",
              "      <td>0.0</td>\n",
              "      <td>0.0</td>\n",
              "      <td>0.0</td>\n",
              "      <td>0</td>\n",
              "      <td>2</td>\n",
              "      <td>35892.0</td>\n",
              "      <td>32546.0</td>\n",
              "      <td>30660.0</td>\n",
              "      <td>31320.0</td>\n",
              "      <td>36227.0</td>\n",
              "      <td>35569.0</td>\n",
              "      <td>2007.0</td>\n",
              "      <td>2000.0</td>\n",
              "      <td>1500.0</td>\n",
              "      <td>5400.0</td>\n",
              "      <td>0.0</td>\n",
              "      <td>3000.0</td>\n",
              "      <td>0</td>\n",
              "    </tr>\n",
              "  </tbody>\n",
              "</table>\n",
              "</div>\n",
              "      <button class=\"colab-df-convert\" onclick=\"convertToInteractive('df-4a8fc0c7-0343-46d2-b7fd-0802a9228bcc')\"\n",
              "              title=\"Convert this dataframe to an interactive table.\"\n",
              "              style=\"display:none;\">\n",
              "        \n",
              "  <svg xmlns=\"http://www.w3.org/2000/svg\" height=\"24px\"viewBox=\"0 0 24 24\"\n",
              "       width=\"24px\">\n",
              "    <path d=\"M0 0h24v24H0V0z\" fill=\"none\"/>\n",
              "    <path d=\"M18.56 5.44l.94 2.06.94-2.06 2.06-.94-2.06-.94-.94-2.06-.94 2.06-2.06.94zm-11 1L8.5 8.5l.94-2.06 2.06-.94-2.06-.94L8.5 2.5l-.94 2.06-2.06.94zm10 10l.94 2.06.94-2.06 2.06-.94-2.06-.94-.94-2.06-.94 2.06-2.06.94z\"/><path d=\"M17.41 7.96l-1.37-1.37c-.4-.4-.92-.59-1.43-.59-.52 0-1.04.2-1.43.59L10.3 9.45l-7.72 7.72c-.78.78-.78 2.05 0 2.83L4 21.41c.39.39.9.59 1.41.59.51 0 1.02-.2 1.41-.59l7.78-7.78 2.81-2.81c.8-.78.8-2.07 0-2.86zM5.41 20L4 18.59l7.72-7.72 1.47 1.35L5.41 20z\"/>\n",
              "  </svg>\n",
              "      </button>\n",
              "      \n",
              "  <style>\n",
              "    .colab-df-container {\n",
              "      display:flex;\n",
              "      flex-wrap:wrap;\n",
              "      gap: 12px;\n",
              "    }\n",
              "\n",
              "    .colab-df-convert {\n",
              "      background-color: #E8F0FE;\n",
              "      border: none;\n",
              "      border-radius: 50%;\n",
              "      cursor: pointer;\n",
              "      display: none;\n",
              "      fill: #1967D2;\n",
              "      height: 32px;\n",
              "      padding: 0 0 0 0;\n",
              "      width: 32px;\n",
              "    }\n",
              "\n",
              "    .colab-df-convert:hover {\n",
              "      background-color: #E2EBFA;\n",
              "      box-shadow: 0px 1px 2px rgba(60, 64, 67, 0.3), 0px 1px 3px 1px rgba(60, 64, 67, 0.15);\n",
              "      fill: #174EA6;\n",
              "    }\n",
              "\n",
              "    [theme=dark] .colab-df-convert {\n",
              "      background-color: #3B4455;\n",
              "      fill: #D2E3FC;\n",
              "    }\n",
              "\n",
              "    [theme=dark] .colab-df-convert:hover {\n",
              "      background-color: #434B5C;\n",
              "      box-shadow: 0px 1px 3px 1px rgba(0, 0, 0, 0.15);\n",
              "      filter: drop-shadow(0px 1px 2px rgba(0, 0, 0, 0.3));\n",
              "      fill: #FFFFFF;\n",
              "    }\n",
              "  </style>\n",
              "\n",
              "      <script>\n",
              "        const buttonEl =\n",
              "          document.querySelector('#df-4a8fc0c7-0343-46d2-b7fd-0802a9228bcc button.colab-df-convert');\n",
              "        buttonEl.style.display =\n",
              "          google.colab.kernel.accessAllowed ? 'block' : 'none';\n",
              "\n",
              "        async function convertToInteractive(key) {\n",
              "          const element = document.querySelector('#df-4a8fc0c7-0343-46d2-b7fd-0802a9228bcc');\n",
              "          const dataTable =\n",
              "            await google.colab.kernel.invokeFunction('convertToInteractive',\n",
              "                                                     [key], {});\n",
              "          if (!dataTable) return;\n",
              "\n",
              "          const docLinkHtml = 'Like what you see? Visit the ' +\n",
              "            '<a target=\"_blank\" href=https://colab.research.google.com/notebooks/data_table.ipynb>data table notebook</a>'\n",
              "            + ' to learn more about interactive tables.';\n",
              "          element.innerHTML = '';\n",
              "          dataTable['output_type'] = 'display_data';\n",
              "          await google.colab.output.renderOutput(dataTable, element);\n",
              "          const docLink = document.createElement('div');\n",
              "          docLink.innerHTML = docLinkHtml;\n",
              "          element.appendChild(docLink);\n",
              "        }\n",
              "      </script>\n",
              "    </div>\n",
              "  </div>\n",
              "  "
            ]
          },
          "metadata": {},
          "execution_count": 4
        }
      ]
    },
    {
      "cell_type": "code",
      "source": [
        "# Tampilkan 5 baris terakhir df\n",
        "df.tail()"
      ],
      "metadata": {
        "colab": {
          "base_uri": "https://localhost:8080/",
          "height": 270
        },
        "id": "gu0K0bmIuSeV",
        "outputId": "49ca8f5d-726a-4959-edc1-24b74f2acd6f"
      },
      "execution_count": null,
      "outputs": [
        {
          "output_type": "execute_result",
          "data": {
            "text/plain": [
              "      limit_balance  sex  education_level  marital_status   age  pay_0  pay_2  \\\n",
              "2960       320000.0    1                2               1  41.0    1.0   -2.0   \n",
              "2961        20000.0    1                1               1  39.0   -1.0   -1.0   \n",
              "2962        20000.0    1                2               2  25.0    0.0    0.0   \n",
              "2963        50000.0    1                2               2  38.0    0.0    0.0   \n",
              "2964       100000.0    2                1               2  28.0    0.0    0.0   \n",
              "\n",
              "      pay_3  pay_4  pay_5  pay_6  bill_amt_1  bill_amt_2  bill_amt_3  \\\n",
              "2960   -2.0   -2.0     -2     -2         0.0         0.0         0.0   \n",
              "2961   -1.0   -1.0     -1     -1       628.0       662.0       596.0   \n",
              "2962    0.0    0.0      0      0     13429.0     14502.0     15564.0   \n",
              "2963    0.0    0.0      0      0     42856.0     29248.0     17775.0   \n",
              "2964    0.0    2.0      0      0     10886.0     11697.0     14479.0   \n",
              "\n",
              "      bill_amt_4  bill_amt_5  bill_amt_6  pay_amt_1  pay_amt_2  pay_amt_3  \\\n",
              "2960         0.0       700.0       860.0        0.0        0.0        0.0   \n",
              "2961       630.0       664.0       598.0      700.0      600.0      700.0   \n",
              "2962     16600.0     17025.0     17381.0     1300.0     1300.0     1300.0   \n",
              "2963     17833.0     18246.0     18642.0     1300.0     1600.0      650.0   \n",
              "2964     10775.0     10998.0     12655.0     1300.0     3005.0        0.0   \n",
              "\n",
              "      pay_amt_4  pay_amt_5  pay_amt_6  default_payment_next_month  \n",
              "2960      700.0      860.0     2420.0                           1  \n",
              "2961      700.0      600.0     1400.0                           0  \n",
              "2962      700.0      630.0      650.0                           0  \n",
              "2963      700.0      700.0      700.0                           0  \n",
              "2964      700.0     2000.0     1500.0                           0  "
            ],
            "text/html": [
              "\n",
              "  <div id=\"df-f8a21e98-e620-4589-9bae-48c4c6c5f82c\">\n",
              "    <div class=\"colab-df-container\">\n",
              "      <div>\n",
              "<style scoped>\n",
              "    .dataframe tbody tr th:only-of-type {\n",
              "        vertical-align: middle;\n",
              "    }\n",
              "\n",
              "    .dataframe tbody tr th {\n",
              "        vertical-align: top;\n",
              "    }\n",
              "\n",
              "    .dataframe thead th {\n",
              "        text-align: right;\n",
              "    }\n",
              "</style>\n",
              "<table border=\"1\" class=\"dataframe\">\n",
              "  <thead>\n",
              "    <tr style=\"text-align: right;\">\n",
              "      <th></th>\n",
              "      <th>limit_balance</th>\n",
              "      <th>sex</th>\n",
              "      <th>education_level</th>\n",
              "      <th>marital_status</th>\n",
              "      <th>age</th>\n",
              "      <th>pay_0</th>\n",
              "      <th>pay_2</th>\n",
              "      <th>pay_3</th>\n",
              "      <th>pay_4</th>\n",
              "      <th>pay_5</th>\n",
              "      <th>pay_6</th>\n",
              "      <th>bill_amt_1</th>\n",
              "      <th>bill_amt_2</th>\n",
              "      <th>bill_amt_3</th>\n",
              "      <th>bill_amt_4</th>\n",
              "      <th>bill_amt_5</th>\n",
              "      <th>bill_amt_6</th>\n",
              "      <th>pay_amt_1</th>\n",
              "      <th>pay_amt_2</th>\n",
              "      <th>pay_amt_3</th>\n",
              "      <th>pay_amt_4</th>\n",
              "      <th>pay_amt_5</th>\n",
              "      <th>pay_amt_6</th>\n",
              "      <th>default_payment_next_month</th>\n",
              "    </tr>\n",
              "  </thead>\n",
              "  <tbody>\n",
              "    <tr>\n",
              "      <th>2960</th>\n",
              "      <td>320000.0</td>\n",
              "      <td>1</td>\n",
              "      <td>2</td>\n",
              "      <td>1</td>\n",
              "      <td>41.0</td>\n",
              "      <td>1.0</td>\n",
              "      <td>-2.0</td>\n",
              "      <td>-2.0</td>\n",
              "      <td>-2.0</td>\n",
              "      <td>-2</td>\n",
              "      <td>-2</td>\n",
              "      <td>0.0</td>\n",
              "      <td>0.0</td>\n",
              "      <td>0.0</td>\n",
              "      <td>0.0</td>\n",
              "      <td>700.0</td>\n",
              "      <td>860.0</td>\n",
              "      <td>0.0</td>\n",
              "      <td>0.0</td>\n",
              "      <td>0.0</td>\n",
              "      <td>700.0</td>\n",
              "      <td>860.0</td>\n",
              "      <td>2420.0</td>\n",
              "      <td>1</td>\n",
              "    </tr>\n",
              "    <tr>\n",
              "      <th>2961</th>\n",
              "      <td>20000.0</td>\n",
              "      <td>1</td>\n",
              "      <td>1</td>\n",
              "      <td>1</td>\n",
              "      <td>39.0</td>\n",
              "      <td>-1.0</td>\n",
              "      <td>-1.0</td>\n",
              "      <td>-1.0</td>\n",
              "      <td>-1.0</td>\n",
              "      <td>-1</td>\n",
              "      <td>-1</td>\n",
              "      <td>628.0</td>\n",
              "      <td>662.0</td>\n",
              "      <td>596.0</td>\n",
              "      <td>630.0</td>\n",
              "      <td>664.0</td>\n",
              "      <td>598.0</td>\n",
              "      <td>700.0</td>\n",
              "      <td>600.0</td>\n",
              "      <td>700.0</td>\n",
              "      <td>700.0</td>\n",
              "      <td>600.0</td>\n",
              "      <td>1400.0</td>\n",
              "      <td>0</td>\n",
              "    </tr>\n",
              "    <tr>\n",
              "      <th>2962</th>\n",
              "      <td>20000.0</td>\n",
              "      <td>1</td>\n",
              "      <td>2</td>\n",
              "      <td>2</td>\n",
              "      <td>25.0</td>\n",
              "      <td>0.0</td>\n",
              "      <td>0.0</td>\n",
              "      <td>0.0</td>\n",
              "      <td>0.0</td>\n",
              "      <td>0</td>\n",
              "      <td>0</td>\n",
              "      <td>13429.0</td>\n",
              "      <td>14502.0</td>\n",
              "      <td>15564.0</td>\n",
              "      <td>16600.0</td>\n",
              "      <td>17025.0</td>\n",
              "      <td>17381.0</td>\n",
              "      <td>1300.0</td>\n",
              "      <td>1300.0</td>\n",
              "      <td>1300.0</td>\n",
              "      <td>700.0</td>\n",
              "      <td>630.0</td>\n",
              "      <td>650.0</td>\n",
              "      <td>0</td>\n",
              "    </tr>\n",
              "    <tr>\n",
              "      <th>2963</th>\n",
              "      <td>50000.0</td>\n",
              "      <td>1</td>\n",
              "      <td>2</td>\n",
              "      <td>2</td>\n",
              "      <td>38.0</td>\n",
              "      <td>0.0</td>\n",
              "      <td>0.0</td>\n",
              "      <td>0.0</td>\n",
              "      <td>0.0</td>\n",
              "      <td>0</td>\n",
              "      <td>0</td>\n",
              "      <td>42856.0</td>\n",
              "      <td>29248.0</td>\n",
              "      <td>17775.0</td>\n",
              "      <td>17833.0</td>\n",
              "      <td>18246.0</td>\n",
              "      <td>18642.0</td>\n",
              "      <td>1300.0</td>\n",
              "      <td>1600.0</td>\n",
              "      <td>650.0</td>\n",
              "      <td>700.0</td>\n",
              "      <td>700.0</td>\n",
              "      <td>700.0</td>\n",
              "      <td>0</td>\n",
              "    </tr>\n",
              "    <tr>\n",
              "      <th>2964</th>\n",
              "      <td>100000.0</td>\n",
              "      <td>2</td>\n",
              "      <td>1</td>\n",
              "      <td>2</td>\n",
              "      <td>28.0</td>\n",
              "      <td>0.0</td>\n",
              "      <td>0.0</td>\n",
              "      <td>0.0</td>\n",
              "      <td>2.0</td>\n",
              "      <td>0</td>\n",
              "      <td>0</td>\n",
              "      <td>10886.0</td>\n",
              "      <td>11697.0</td>\n",
              "      <td>14479.0</td>\n",
              "      <td>10775.0</td>\n",
              "      <td>10998.0</td>\n",
              "      <td>12655.0</td>\n",
              "      <td>1300.0</td>\n",
              "      <td>3005.0</td>\n",
              "      <td>0.0</td>\n",
              "      <td>700.0</td>\n",
              "      <td>2000.0</td>\n",
              "      <td>1500.0</td>\n",
              "      <td>0</td>\n",
              "    </tr>\n",
              "  </tbody>\n",
              "</table>\n",
              "</div>\n",
              "      <button class=\"colab-df-convert\" onclick=\"convertToInteractive('df-f8a21e98-e620-4589-9bae-48c4c6c5f82c')\"\n",
              "              title=\"Convert this dataframe to an interactive table.\"\n",
              "              style=\"display:none;\">\n",
              "        \n",
              "  <svg xmlns=\"http://www.w3.org/2000/svg\" height=\"24px\"viewBox=\"0 0 24 24\"\n",
              "       width=\"24px\">\n",
              "    <path d=\"M0 0h24v24H0V0z\" fill=\"none\"/>\n",
              "    <path d=\"M18.56 5.44l.94 2.06.94-2.06 2.06-.94-2.06-.94-.94-2.06-.94 2.06-2.06.94zm-11 1L8.5 8.5l.94-2.06 2.06-.94-2.06-.94L8.5 2.5l-.94 2.06-2.06.94zm10 10l.94 2.06.94-2.06 2.06-.94-2.06-.94-.94-2.06-.94 2.06-2.06.94z\"/><path d=\"M17.41 7.96l-1.37-1.37c-.4-.4-.92-.59-1.43-.59-.52 0-1.04.2-1.43.59L10.3 9.45l-7.72 7.72c-.78.78-.78 2.05 0 2.83L4 21.41c.39.39.9.59 1.41.59.51 0 1.02-.2 1.41-.59l7.78-7.78 2.81-2.81c.8-.78.8-2.07 0-2.86zM5.41 20L4 18.59l7.72-7.72 1.47 1.35L5.41 20z\"/>\n",
              "  </svg>\n",
              "      </button>\n",
              "      \n",
              "  <style>\n",
              "    .colab-df-container {\n",
              "      display:flex;\n",
              "      flex-wrap:wrap;\n",
              "      gap: 12px;\n",
              "    }\n",
              "\n",
              "    .colab-df-convert {\n",
              "      background-color: #E8F0FE;\n",
              "      border: none;\n",
              "      border-radius: 50%;\n",
              "      cursor: pointer;\n",
              "      display: none;\n",
              "      fill: #1967D2;\n",
              "      height: 32px;\n",
              "      padding: 0 0 0 0;\n",
              "      width: 32px;\n",
              "    }\n",
              "\n",
              "    .colab-df-convert:hover {\n",
              "      background-color: #E2EBFA;\n",
              "      box-shadow: 0px 1px 2px rgba(60, 64, 67, 0.3), 0px 1px 3px 1px rgba(60, 64, 67, 0.15);\n",
              "      fill: #174EA6;\n",
              "    }\n",
              "\n",
              "    [theme=dark] .colab-df-convert {\n",
              "      background-color: #3B4455;\n",
              "      fill: #D2E3FC;\n",
              "    }\n",
              "\n",
              "    [theme=dark] .colab-df-convert:hover {\n",
              "      background-color: #434B5C;\n",
              "      box-shadow: 0px 1px 3px 1px rgba(0, 0, 0, 0.15);\n",
              "      filter: drop-shadow(0px 1px 2px rgba(0, 0, 0, 0.3));\n",
              "      fill: #FFFFFF;\n",
              "    }\n",
              "  </style>\n",
              "\n",
              "      <script>\n",
              "        const buttonEl =\n",
              "          document.querySelector('#df-f8a21e98-e620-4589-9bae-48c4c6c5f82c button.colab-df-convert');\n",
              "        buttonEl.style.display =\n",
              "          google.colab.kernel.accessAllowed ? 'block' : 'none';\n",
              "\n",
              "        async function convertToInteractive(key) {\n",
              "          const element = document.querySelector('#df-f8a21e98-e620-4589-9bae-48c4c6c5f82c');\n",
              "          const dataTable =\n",
              "            await google.colab.kernel.invokeFunction('convertToInteractive',\n",
              "                                                     [key], {});\n",
              "          if (!dataTable) return;\n",
              "\n",
              "          const docLinkHtml = 'Like what you see? Visit the ' +\n",
              "            '<a target=\"_blank\" href=https://colab.research.google.com/notebooks/data_table.ipynb>data table notebook</a>'\n",
              "            + ' to learn more about interactive tables.';\n",
              "          element.innerHTML = '';\n",
              "          dataTable['output_type'] = 'display_data';\n",
              "          await google.colab.output.renderOutput(dataTable, element);\n",
              "          const docLink = document.createElement('div');\n",
              "          docLink.innerHTML = docLinkHtml;\n",
              "          element.appendChild(docLink);\n",
              "        }\n",
              "      </script>\n",
              "    </div>\n",
              "  </div>\n",
              "  "
            ]
          },
          "metadata": {},
          "execution_count": 5
        }
      ]
    },
    {
      "cell_type": "code",
      "source": [
        "# Tampilkan ukuran df\n",
        "df.shape"
      ],
      "metadata": {
        "colab": {
          "base_uri": "https://localhost:8080/"
        },
        "id": "ospFVW_Am6cc",
        "outputId": "d3eb2f7c-3e5b-468a-ad8b-312c6a1cb924"
      },
      "execution_count": null,
      "outputs": [
        {
          "output_type": "execute_result",
          "data": {
            "text/plain": [
              "(2965, 24)"
            ]
          },
          "metadata": {},
          "execution_count": 6
        }
      ]
    },
    {
      "cell_type": "markdown",
      "source": [
        "Terdapat 2965 baris dan 24 kolom pada df"
      ],
      "metadata": {
        "id": "NOkRrRSMm5NQ"
      }
    },
    {
      "cell_type": "code",
      "source": [
        "# Tampilkan nama kolom dan dtype pada df\n",
        "df.info()"
      ],
      "metadata": {
        "colab": {
          "base_uri": "https://localhost:8080/"
        },
        "id": "8r9lOy3tnCE9",
        "outputId": "27b59aad-04f4-4815-fdc7-c3beb830b7d7"
      },
      "execution_count": null,
      "outputs": [
        {
          "output_type": "stream",
          "name": "stdout",
          "text": [
            "<class 'pandas.core.frame.DataFrame'>\n",
            "RangeIndex: 2965 entries, 0 to 2964\n",
            "Data columns (total 24 columns):\n",
            " #   Column                      Non-Null Count  Dtype  \n",
            "---  ------                      --------------  -----  \n",
            " 0   limit_balance               2965 non-null   float64\n",
            " 1   sex                         2965 non-null   int64  \n",
            " 2   education_level             2965 non-null   int64  \n",
            " 3   marital_status              2965 non-null   int64  \n",
            " 4   age                         2965 non-null   float64\n",
            " 5   pay_0                       2965 non-null   float64\n",
            " 6   pay_2                       2965 non-null   float64\n",
            " 7   pay_3                       2965 non-null   float64\n",
            " 8   pay_4                       2965 non-null   float64\n",
            " 9   pay_5                       2965 non-null   int64  \n",
            " 10  pay_6                       2965 non-null   int64  \n",
            " 11  bill_amt_1                  2965 non-null   float64\n",
            " 12  bill_amt_2                  2965 non-null   float64\n",
            " 13  bill_amt_3                  2965 non-null   float64\n",
            " 14  bill_amt_4                  2965 non-null   float64\n",
            " 15  bill_amt_5                  2965 non-null   float64\n",
            " 16  bill_amt_6                  2965 non-null   float64\n",
            " 17  pay_amt_1                   2965 non-null   float64\n",
            " 18  pay_amt_2                   2965 non-null   float64\n",
            " 19  pay_amt_3                   2965 non-null   float64\n",
            " 20  pay_amt_4                   2965 non-null   float64\n",
            " 21  pay_amt_5                   2965 non-null   float64\n",
            " 22  pay_amt_6                   2965 non-null   float64\n",
            " 23  default_payment_next_month  2965 non-null   int64  \n",
            "dtypes: float64(18), int64(6)\n",
            "memory usage: 556.1 KB\n"
          ]
        }
      ]
    },
    {
      "cell_type": "markdown",
      "source": [
        "Kolom limit_balance adalah jumlah kredit tercatat pada masing2 user. \n",
        "\n",
        "Sex adalah gender dgn nilai 1 = Laki2, 2 = Perempuan.\n",
        "\n",
        "education_level adalah tingkat pendidikan user dgn nilai 1=graduate school, 2=university, 3=high school, 4=others, 5=unknown, 6=unknown. \n",
        "\n",
        "marital_status adalah status pernikahan dgn nilai 1 = Married, 2 = Single, 3 = Others. \n",
        "\n",
        "age adalah umur daripada user dgn satuan tahun.\n",
        "\n",
        "pay_n adalah status pembayaran dgn nilai -1=pay duly, 1=payment delay for one month, 2=payment delay for two months, ... 8=payment delay for eight months, 9=payment delay for nine months and above. \n",
        "\n",
        "Ketentuan penamaan kolom adalah pay_0=status pembayaran pada bulan September 2005, pay_2=status pembayaran pada bulan Agustus 2005, pay_3=status pembayaran pada bulan Juli 2005, pay_4=status pembayaran pada bulan Juni 2005, pay_5=status pembayaran pada bulan Mei 2005, pay_6=status pembayaran pada bulan April 2005.\n",
        "\n",
        "bill_amt adalah jumlah tagihan dgn nilai numerik. Ketentuan penamaan kolom adalah bill_amt_1 = jumlah tagihan pada bulan September 2005, bill_amt_2 = bulan Agustus 2005, bill_amt_3 = bulan Juli 2005, bill_amt_4 = bulan Juni 2005, bill_amt_5 = bulan Mei 2005, bill_amt_6 = bulan April 2005\n",
        "\n",
        "pay_amt adalah jumlah pembayaran sebelumnya dgn nilai numerik. Ketentuan penamaan kolom adalah pay_amt_1 = jumlah pembayaran pada bulan September 2005, pay_amt_2 = bulan Agustus 2005, pay_amt_3 = bulan Juli 2005, pay_amt_4 = bulan Juni 2005, pay_amt_5 = bulan Mei 2005, pay_amt_6 = bulan April 2005\n",
        "\n",
        "default_payment_next_month adalah kejadian gagal bayar pada nilai 1=Yes dan 0=No"
      ],
      "metadata": {
        "id": "hEnWLwVUnZZG"
      }
    },
    {
      "cell_type": "markdown",
      "source": [
        "# IV. Exploratory Data Analysis (EDA)"
      ],
      "metadata": {
        "id": "feHh9P8nqmyU"
      }
    },
    {
      "cell_type": "markdown",
      "source": [
        "Bagian ini berisi eksplorasi data pada dataset diatas dengan menggunakan query, grouping, visualisasi sederhana, dan lain sebagainya."
      ],
      "metadata": {
        "id": "3m_QOjPLrPE7"
      }
    },
    {
      "cell_type": "markdown",
      "source": [
        "Pertama2, kita ingin melihat komposisi user yg mengalami default pembayaran:"
      ],
      "metadata": {
        "id": "5DkNIZQ09QGK"
      }
    },
    {
      "cell_type": "code",
      "source": [
        "# Buat label utk legend pada pie chart\n",
        "palette_color = sns.color_palette('bright')\n",
        "labels = list(pd.DataFrame(df['default_payment_next_month'].value_counts()).sort_index().index)\n",
        "\n",
        "# Buat figure dan plot pie chart\n",
        "plt.figure(figsize = (5, 5))\n",
        "plt.title('User With Default Payment For Next Month')\n",
        "plt.pie(pd.DataFrame(df['default_payment_next_month'].value_counts()),colors=palette_color, autopct='%.0f%%', wedgeprops={\"edgecolor\":\"k\"})\n",
        "plt.legend(labels, loc='upper right',bbox_to_anchor=(1.5,1))\n",
        "\n",
        "plt.show()"
      ],
      "metadata": {
        "colab": {
          "base_uri": "https://localhost:8080/",
          "height": 375
        },
        "id": "HcjEbrxF9Olw",
        "outputId": "f1596b67-b2f0-4543-a1cc-caf0aef3d1f3"
      },
      "execution_count": null,
      "outputs": [
        {
          "output_type": "stream",
          "name": "stderr",
          "text": [
            "/usr/local/lib/python3.7/dist-packages/ipykernel_launcher.py:8: MatplotlibDeprecationWarning: Non-1D inputs to pie() are currently squeeze()d, but this behavior is deprecated since 3.1 and will be removed in 3.3; pass a 1D array instead.\n",
            "  \n"
          ]
        },
        {
          "output_type": "display_data",
          "data": {
            "text/plain": [
              "<Figure size 360x360 with 1 Axes>"
            ],
            "image/png": "[encoded data removed]"
          },
          "metadata": {}
        }
      ]
    },
    {
      "cell_type": "markdown",
      "source": [
        "Dari data diatas, sebanyak 21% user mengalami default pada bulan berikutnya."
      ],
      "metadata": {
        "id": "DgdcQvzk9mUw"
      }
    },
    {
      "cell_type": "markdown",
      "source": [
        "Berikutnya, kita ingin mengetahui rata2 jumlah kredit tercatat thd kemungkinan terjadinya default:"
      ],
      "metadata": {
        "id": "VQBEyNO596KT"
      }
    },
    {
      "cell_type": "code",
      "source": [
        "# Kelompokkan data default pada bulan depan dgn rata2 jumlah kredit yg disalurkan\n",
        "df.groupby('default_payment_next_month')['limit_balance'].mean()"
      ],
      "metadata": {
        "colab": {
          "base_uri": "https://localhost:8080/"
        },
        "id": "dHoyKAeSxnfv",
        "outputId": "44fa80c5-4c54-4b12-9a25-5df013c813f6"
      },
      "execution_count": null,
      "outputs": [
        {
          "output_type": "execute_result",
          "data": {
            "text/plain": [
              "default_payment_next_month\n",
              "0    173935.622318\n",
              "1    124598.425197\n",
              "Name: limit_balance, dtype: float64"
            ]
          },
          "metadata": {},
          "execution_count": 9
        }
      ]
    },
    {
      "cell_type": "markdown",
      "source": [
        "Bisa dilihat jika rata2 jumlah kredit tercatat pada kelompok yg mengalami default lebih rendah (124598 USD) dibandingkan pada kelompok yg tidak mengalami default (173935 USD). Hal ini bisa terjadi krn user memang memiliki penghasilan rendah atau mempunyai credit rating yg rendah sehingga tidak mampu membayar kredit dgn cara refinancing. Untuk menggali informasi lbh lanjur, mari kita lihat trend jumlah tagihan setiap bulannya pada user yg default dan tidak default:"
      ],
      "metadata": {
        "id": "UG4b2NqC-Kc8"
      }
    },
    {
      "cell_type": "code",
      "source": [
        "# Buat variabel bill_1 berisi rata2 tagihan per bulan utk user yg default\n",
        "bill_1 = pd.DataFrame(df.loc[df['default_payment_next_month']==1, ['bill_amt_6','bill_amt_5','bill_amt_4','bill_amt_3','bill_amt_2','bill_amt_1']].mean()).rename(columns={0: \"Mean\"})\n",
        "bill_1"
      ],
      "metadata": {
        "colab": {
          "base_uri": "https://localhost:8080/",
          "height": 238
        },
        "id": "D0loPM6sGEZi",
        "outputId": "3ef595ae-f746-41ec-c975-08b84f263c2d"
      },
      "execution_count": null,
      "outputs": [
        {
          "output_type": "execute_result",
          "data": {
            "text/plain": [
              "                    Mean\n",
              "bill_amt_6  40444.259843\n",
              "bill_amt_5  41617.867717\n",
              "bill_amt_4  43530.267717\n",
              "bill_amt_3  48099.437795\n",
              "bill_amt_2  50768.069291\n",
              "bill_amt_1  51292.557480"
            ],
            "text/html": [
              "\n",
              "  <div id=\"df-e92fe20a-1db9-4cfb-a44c-8659661d15c9\">\n",
              "    <div class=\"colab-df-container\">\n",
              "      <div>\n",
              "<style scoped>\n",
              "    .dataframe tbody tr th:only-of-type {\n",
              "        vertical-align: middle;\n",
              "    }\n",
              "\n",
              "    .dataframe tbody tr th {\n",
              "        vertical-align: top;\n",
              "    }\n",
              "\n",
              "    .dataframe thead th {\n",
              "        text-align: right;\n",
              "    }\n",
              "</style>\n",
              "<table border=\"1\" class=\"dataframe\">\n",
              "  <thead>\n",
              "    <tr style=\"text-align: right;\">\n",
              "      <th></th>\n",
              "      <th>Mean</th>\n",
              "    </tr>\n",
              "  </thead>\n",
              "  <tbody>\n",
              "    <tr>\n",
              "      <th>bill_amt_6</th>\n",
              "      <td>40444.259843</td>\n",
              "    </tr>\n",
              "    <tr>\n",
              "      <th>bill_amt_5</th>\n",
              "      <td>41617.867717</td>\n",
              "    </tr>\n",
              "    <tr>\n",
              "      <th>bill_amt_4</th>\n",
              "      <td>43530.267717</td>\n",
              "    </tr>\n",
              "    <tr>\n",
              "      <th>bill_amt_3</th>\n",
              "      <td>48099.437795</td>\n",
              "    </tr>\n",
              "    <tr>\n",
              "      <th>bill_amt_2</th>\n",
              "      <td>50768.069291</td>\n",
              "    </tr>\n",
              "    <tr>\n",
              "      <th>bill_amt_1</th>\n",
              "      <td>51292.557480</td>\n",
              "    </tr>\n",
              "  </tbody>\n",
              "</table>\n",
              "</div>\n",
              "      <button class=\"colab-df-convert\" onclick=\"convertToInteractive('df-e92fe20a-1db9-4cfb-a44c-8659661d15c9')\"\n",
              "              title=\"Convert this dataframe to an interactive table.\"\n",
              "              style=\"display:none;\">\n",
              "        \n",
              "  <svg xmlns=\"http://www.w3.org/2000/svg\" height=\"24px\"viewBox=\"0 0 24 24\"\n",
              "       width=\"24px\">\n",
              "    <path d=\"M0 0h24v24H0V0z\" fill=\"none\"/>\n",
              "    <path d=\"M18.56 5.44l.94 2.06.94-2.06 2.06-.94-2.06-.94-.94-2.06-.94 2.06-2.06.94zm-11 1L8.5 8.5l.94-2.06 2.06-.94-2.06-.94L8.5 2.5l-.94 2.06-2.06.94zm10 10l.94 2.06.94-2.06 2.06-.94-2.06-.94-.94-2.06-.94 2.06-2.06.94z\"/><path d=\"M17.41 7.96l-1.37-1.37c-.4-.4-.92-.59-1.43-.59-.52 0-1.04.2-1.43.59L10.3 9.45l-7.72 7.72c-.78.78-.78 2.05 0 2.83L4 21.41c.39.39.9.59 1.41.59.51 0 1.02-.2 1.41-.59l7.78-7.78 2.81-2.81c.8-.78.8-2.07 0-2.86zM5.41 20L4 18.59l7.72-7.72 1.47 1.35L5.41 20z\"/>\n",
              "  </svg>\n",
              "      </button>\n",
              "      \n",
              "  <style>\n",
              "    .colab-df-container {\n",
              "      display:flex;\n",
              "      flex-wrap:wrap;\n",
              "      gap: 12px;\n",
              "    }\n",
              "\n",
              "    .colab-df-convert {\n",
              "      background-color: #E8F0FE;\n",
              "      border: none;\n",
              "      border-radius: 50%;\n",
              "      cursor: pointer;\n",
              "      display: none;\n",
              "      fill: #1967D2;\n",
              "      height: 32px;\n",
              "      padding: 0 0 0 0;\n",
              "      width: 32px;\n",
              "    }\n",
              "\n",
              "    .colab-df-convert:hover {\n",
              "      background-color: #E2EBFA;\n",
              "      box-shadow: 0px 1px 2px rgba(60, 64, 67, 0.3), 0px 1px 3px 1px rgba(60, 64, 67, 0.15);\n",
              "      fill: #174EA6;\n",
              "    }\n",
              "\n",
              "    [theme=dark] .colab-df-convert {\n",
              "      background-color: #3B4455;\n",
              "      fill: #D2E3FC;\n",
              "    }\n",
              "\n",
              "    [theme=dark] .colab-df-convert:hover {\n",
              "      background-color: #434B5C;\n",
              "      box-shadow: 0px 1px 3px 1px rgba(0, 0, 0, 0.15);\n",
              "      filter: drop-shadow(0px 1px 2px rgba(0, 0, 0, 0.3));\n",
              "      fill: #FFFFFF;\n",
              "    }\n",
              "  </style>\n",
              "\n",
              "      <script>\n",
              "        const buttonEl =\n",
              "          document.querySelector('#df-e92fe20a-1db9-4cfb-a44c-8659661d15c9 button.colab-df-convert');\n",
              "        buttonEl.style.display =\n",
              "          google.colab.kernel.accessAllowed ? 'block' : 'none';\n",
              "\n",
              "        async function convertToInteractive(key) {\n",
              "          const element = document.querySelector('#df-e92fe20a-1db9-4cfb-a44c-8659661d15c9');\n",
              "          const dataTable =\n",
              "            await google.colab.kernel.invokeFunction('convertToInteractive',\n",
              "                                                     [key], {});\n",
              "          if (!dataTable) return;\n",
              "\n",
              "          const docLinkHtml = 'Like what you see? Visit the ' +\n",
              "            '<a target=\"_blank\" href=https://colab.research.google.com/notebooks/data_table.ipynb>data table notebook</a>'\n",
              "            + ' to learn more about interactive tables.';\n",
              "          element.innerHTML = '';\n",
              "          dataTable['output_type'] = 'display_data';\n",
              "          await google.colab.output.renderOutput(dataTable, element);\n",
              "          const docLink = document.createElement('div');\n",
              "          docLink.innerHTML = docLinkHtml;\n",
              "          element.appendChild(docLink);\n",
              "        }\n",
              "      </script>\n",
              "    </div>\n",
              "  </div>\n",
              "  "
            ]
          },
          "metadata": {},
          "execution_count": 10
        }
      ]
    },
    {
      "cell_type": "code",
      "source": [
        "# Buat variabel bill_0 berisi rata2 tagihan per bulan utk user yg tidak default\n",
        "bill_0 = pd.DataFrame(df.loc[df['default_payment_next_month']==0, ['bill_amt_6','bill_amt_5','bill_amt_4','bill_amt_3','bill_amt_2','bill_amt_1']].mean()).rename(columns={0: \"Mean\"})\n",
        "bill_0"
      ],
      "metadata": {
        "colab": {
          "base_uri": "https://localhost:8080/",
          "height": 238
        },
        "id": "2yYcrfmRIF0F",
        "outputId": "1c0522ac-5159-4ad9-e863-b801ae9e703f"
      },
      "execution_count": null,
      "outputs": [
        {
          "output_type": "execute_result",
          "data": {
            "text/plain": [
              "                    Mean\n",
              "bill_amt_6  39590.152361\n",
              "bill_amt_5  40775.722318\n",
              "bill_amt_4  44242.142060\n",
              "bill_amt_3  48277.999142\n",
              "bill_amt_2  50616.744635\n",
              "bill_amt_1  52343.348069"
            ],
            "text/html": [
              "\n",
              "  <div id=\"df-c552f79e-14e5-4f8f-b81d-94ccdc596ef5\">\n",
              "    <div class=\"colab-df-container\">\n",
              "      <div>\n",
              "<style scoped>\n",
              "    .dataframe tbody tr th:only-of-type {\n",
              "        vertical-align: middle;\n",
              "    }\n",
              "\n",
              "    .dataframe tbody tr th {\n",
              "        vertical-align: top;\n",
              "    }\n",
              "\n",
              "    .dataframe thead th {\n",
              "        text-align: right;\n",
              "    }\n",
              "</style>\n",
              "<table border=\"1\" class=\"dataframe\">\n",
              "  <thead>\n",
              "    <tr style=\"text-align: right;\">\n",
              "      <th></th>\n",
              "      <th>Mean</th>\n",
              "    </tr>\n",
              "  </thead>\n",
              "  <tbody>\n",
              "    <tr>\n",
              "      <th>bill_amt_6</th>\n",
              "      <td>39590.152361</td>\n",
              "    </tr>\n",
              "    <tr>\n",
              "      <th>bill_amt_5</th>\n",
              "      <td>40775.722318</td>\n",
              "    </tr>\n",
              "    <tr>\n",
              "      <th>bill_amt_4</th>\n",
              "      <td>44242.142060</td>\n",
              "    </tr>\n",
              "    <tr>\n",
              "      <th>bill_amt_3</th>\n",
              "      <td>48277.999142</td>\n",
              "    </tr>\n",
              "    <tr>\n",
              "      <th>bill_amt_2</th>\n",
              "      <td>50616.744635</td>\n",
              "    </tr>\n",
              "    <tr>\n",
              "      <th>bill_amt_1</th>\n",
              "      <td>52343.348069</td>\n",
              "    </tr>\n",
              "  </tbody>\n",
              "</table>\n",
              "</div>\n",
              "      <button class=\"colab-df-convert\" onclick=\"convertToInteractive('df-c552f79e-14e5-4f8f-b81d-94ccdc596ef5')\"\n",
              "              title=\"Convert this dataframe to an interactive table.\"\n",
              "              style=\"display:none;\">\n",
              "        \n",
              "  <svg xmlns=\"http://www.w3.org/2000/svg\" height=\"24px\"viewBox=\"0 0 24 24\"\n",
              "       width=\"24px\">\n",
              "    <path d=\"M0 0h24v24H0V0z\" fill=\"none\"/>\n",
              "    <path d=\"M18.56 5.44l.94 2.06.94-2.06 2.06-.94-2.06-.94-.94-2.06-.94 2.06-2.06.94zm-11 1L8.5 8.5l.94-2.06 2.06-.94-2.06-.94L8.5 2.5l-.94 2.06-2.06.94zm10 10l.94 2.06.94-2.06 2.06-.94-2.06-.94-.94-2.06-.94 2.06-2.06.94z\"/><path d=\"M17.41 7.96l-1.37-1.37c-.4-.4-.92-.59-1.43-.59-.52 0-1.04.2-1.43.59L10.3 9.45l-7.72 7.72c-.78.78-.78 2.05 0 2.83L4 21.41c.39.39.9.59 1.41.59.51 0 1.02-.2 1.41-.59l7.78-7.78 2.81-2.81c.8-.78.8-2.07 0-2.86zM5.41 20L4 18.59l7.72-7.72 1.47 1.35L5.41 20z\"/>\n",
              "  </svg>\n",
              "      </button>\n",
              "      \n",
              "  <style>\n",
              "    .colab-df-container {\n",
              "      display:flex;\n",
              "      flex-wrap:wrap;\n",
              "      gap: 12px;\n",
              "    }\n",
              "\n",
              "    .colab-df-convert {\n",
              "      background-color: #E8F0FE;\n",
              "      border: none;\n",
              "      border-radius: 50%;\n",
              "      cursor: pointer;\n",
              "      display: none;\n",
              "      fill: #1967D2;\n",
              "      height: 32px;\n",
              "      padding: 0 0 0 0;\n",
              "      width: 32px;\n",
              "    }\n",
              "\n",
              "    .colab-df-convert:hover {\n",
              "      background-color: #E2EBFA;\n",
              "      box-shadow: 0px 1px 2px rgba(60, 64, 67, 0.3), 0px 1px 3px 1px rgba(60, 64, 67, 0.15);\n",
              "      fill: #174EA6;\n",
              "    }\n",
              "\n",
              "    [theme=dark] .colab-df-convert {\n",
              "      background-color: #3B4455;\n",
              "      fill: #D2E3FC;\n",
              "    }\n",
              "\n",
              "    [theme=dark] .colab-df-convert:hover {\n",
              "      background-color: #434B5C;\n",
              "      box-shadow: 0px 1px 3px 1px rgba(0, 0, 0, 0.15);\n",
              "      filter: drop-shadow(0px 1px 2px rgba(0, 0, 0, 0.3));\n",
              "      fill: #FFFFFF;\n",
              "    }\n",
              "  </style>\n",
              "\n",
              "      <script>\n",
              "        const buttonEl =\n",
              "          document.querySelector('#df-c552f79e-14e5-4f8f-b81d-94ccdc596ef5 button.colab-df-convert');\n",
              "        buttonEl.style.display =\n",
              "          google.colab.kernel.accessAllowed ? 'block' : 'none';\n",
              "\n",
              "        async function convertToInteractive(key) {\n",
              "          const element = document.querySelector('#df-c552f79e-14e5-4f8f-b81d-94ccdc596ef5');\n",
              "          const dataTable =\n",
              "            await google.colab.kernel.invokeFunction('convertToInteractive',\n",
              "                                                     [key], {});\n",
              "          if (!dataTable) return;\n",
              "\n",
              "          const docLinkHtml = 'Like what you see? Visit the ' +\n",
              "            '<a target=\"_blank\" href=https://colab.research.google.com/notebooks/data_table.ipynb>data table notebook</a>'\n",
              "            + ' to learn more about interactive tables.';\n",
              "          element.innerHTML = '';\n",
              "          dataTable['output_type'] = 'display_data';\n",
              "          await google.colab.output.renderOutput(dataTable, element);\n",
              "          const docLink = document.createElement('div');\n",
              "          docLink.innerHTML = docLinkHtml;\n",
              "          element.appendChild(docLink);\n",
              "        }\n",
              "      </script>\n",
              "    </div>\n",
              "  </div>\n",
              "  "
            ]
          },
          "metadata": {},
          "execution_count": 11
        }
      ]
    },
    {
      "cell_type": "code",
      "source": [
        "# Plot diagram batang bill_1\n",
        "plt.bar(bill_1.index, bill_1['Mean'], color='r', edgecolor='k')\n",
        "plt.ylabel('Payment')\n",
        "plt.title('Mean of Bill Payment for Defaulted User')\n",
        "\n",
        "plt.show()\n"
      ],
      "metadata": {
        "colab": {
          "base_uri": "https://localhost:8080/",
          "height": 282
        },
        "id": "tUOlSF8HBGQG",
        "outputId": "684254bd-89be-44b2-832c-8eafff7c672d"
      },
      "execution_count": null,
      "outputs": [
        {
          "output_type": "display_data",
          "data": {
            "text/plain": [
              "<Figure size 432x288 with 1 Axes>"
            ],
            "image/png": "[encoded data removed]"
          },
          "metadata": {
            "needs_background": "light"
          }
        }
      ]
    },
    {
      "cell_type": "code",
      "source": [
        "# Plot diagram batang bill_0\n",
        "plt.bar(bill_0.index, bill_0['Mean'], color='g', edgecolor='k')\n",
        "plt.ylabel('Payment')\n",
        "plt.title('Mean of Bill Payment for Non-Defaulted User')\n",
        "\n",
        "plt.show()"
      ],
      "metadata": {
        "colab": {
          "base_uri": "https://localhost:8080/",
          "height": 282
        },
        "id": "Z0N7dR-TIB2E",
        "outputId": "ae190801-f003-4db5-dcdc-11215d09cc12"
      },
      "execution_count": null,
      "outputs": [
        {
          "output_type": "display_data",
          "data": {
            "text/plain": [
              "<Figure size 432x288 with 1 Axes>"
            ],
            "image/png": "[encoded data removed]"
          },
          "metadata": {
            "needs_background": "light"
          }
        }
      ]
    },
    {
      "cell_type": "markdown",
      "source": [
        "Jika dilihat diatas, pada rentang bulan April-Agustus 2005 terjadi kenaikan jumlah tagihan baik pada user yg default dan non-default. Dari sini tidak ditemukan perbedaan berarti antara profil jumlah tagihan bagi user yg default dan non-default. Selanjutnya, mari kita melihat jumlah trend pembayaran per bulan bagi user yg default dan tidak default:"
      ],
      "metadata": {
        "id": "LYxPyMstDhq9"
      }
    },
    {
      "cell_type": "code",
      "source": [
        "# Buat variabel pay_1 berisi rata2 pembayaran per bulan utk user yg default\n",
        "pay_1 = pd.DataFrame(df.loc[df['default_payment_next_month']==1, ['pay_amt_6','pay_amt_5','pay_amt_4','pay_amt_3','pay_amt_2','pay_amt_1']].mean()).rename(columns={0: \"Mean\"})\n",
        "pay_1"
      ],
      "metadata": {
        "colab": {
          "base_uri": "https://localhost:8080/",
          "height": 238
        },
        "id": "X7MJ-RaXJS-R",
        "outputId": "df4afcb3-3e6e-4946-e77b-b022722423c5"
      },
      "execution_count": null,
      "outputs": [
        {
          "output_type": "execute_result",
          "data": {
            "text/plain": [
              "                  Mean\n",
              "pay_amt_6  3166.981102\n",
              "pay_amt_5  2792.908661\n",
              "pay_amt_4  3195.811024\n",
              "pay_amt_3  2681.051969\n",
              "pay_amt_2  2994.491339\n",
              "pay_amt_1  3702.329134"
            ],
            "text/html": [
              "\n",
              "  <div id=\"df-f757c050-9abf-4f76-914e-f0c28fecdbf3\">\n",
              "    <div class=\"colab-df-container\">\n",
              "      <div>\n",
              "<style scoped>\n",
              "    .dataframe tbody tr th:only-of-type {\n",
              "        vertical-align: middle;\n",
              "    }\n",
              "\n",
              "    .dataframe tbody tr th {\n",
              "        vertical-align: top;\n",
              "    }\n",
              "\n",
              "    .dataframe thead th {\n",
              "        text-align: right;\n",
              "    }\n",
              "</style>\n",
              "<table border=\"1\" class=\"dataframe\">\n",
              "  <thead>\n",
              "    <tr style=\"text-align: right;\">\n",
              "      <th></th>\n",
              "      <th>Mean</th>\n",
              "    </tr>\n",
              "  </thead>\n",
              "  <tbody>\n",
              "    <tr>\n",
              "      <th>pay_amt_6</th>\n",
              "      <td>3166.981102</td>\n",
              "    </tr>\n",
              "    <tr>\n",
              "      <th>pay_amt_5</th>\n",
              "      <td>2792.908661</td>\n",
              "    </tr>\n",
              "    <tr>\n",
              "      <th>pay_amt_4</th>\n",
              "      <td>3195.811024</td>\n",
              "    </tr>\n",
              "    <tr>\n",
              "      <th>pay_amt_3</th>\n",
              "      <td>2681.051969</td>\n",
              "    </tr>\n",
              "    <tr>\n",
              "      <th>pay_amt_2</th>\n",
              "      <td>2994.491339</td>\n",
              "    </tr>\n",
              "    <tr>\n",
              "      <th>pay_amt_1</th>\n",
              "      <td>3702.329134</td>\n",
              "    </tr>\n",
              "  </tbody>\n",
              "</table>\n",
              "</div>\n",
              "      <button class=\"colab-df-convert\" onclick=\"convertToInteractive('df-f757c050-9abf-4f76-914e-f0c28fecdbf3')\"\n",
              "              title=\"Convert this dataframe to an interactive table.\"\n",
              "              style=\"display:none;\">\n",
              "        \n",
              "  <svg xmlns=\"http://www.w3.org/2000/svg\" height=\"24px\"viewBox=\"0 0 24 24\"\n",
              "       width=\"24px\">\n",
              "    <path d=\"M0 0h24v24H0V0z\" fill=\"none\"/>\n",
              "    <path d=\"M18.56 5.44l.94 2.06.94-2.06 2.06-.94-2.06-.94-.94-2.06-.94 2.06-2.06.94zm-11 1L8.5 8.5l.94-2.06 2.06-.94-2.06-.94L8.5 2.5l-.94 2.06-2.06.94zm10 10l.94 2.06.94-2.06 2.06-.94-2.06-.94-.94-2.06-.94 2.06-2.06.94z\"/><path d=\"M17.41 7.96l-1.37-1.37c-.4-.4-.92-.59-1.43-.59-.52 0-1.04.2-1.43.59L10.3 9.45l-7.72 7.72c-.78.78-.78 2.05 0 2.83L4 21.41c.39.39.9.59 1.41.59.51 0 1.02-.2 1.41-.59l7.78-7.78 2.81-2.81c.8-.78.8-2.07 0-2.86zM5.41 20L4 18.59l7.72-7.72 1.47 1.35L5.41 20z\"/>\n",
              "  </svg>\n",
              "      </button>\n",
              "      \n",
              "  <style>\n",
              "    .colab-df-container {\n",
              "      display:flex;\n",
              "      flex-wrap:wrap;\n",
              "      gap: 12px;\n",
              "    }\n",
              "\n",
              "    .colab-df-convert {\n",
              "      background-color: #E8F0FE;\n",
              "      border: none;\n",
              "      border-radius: 50%;\n",
              "      cursor: pointer;\n",
              "      display: none;\n",
              "      fill: #1967D2;\n",
              "      height: 32px;\n",
              "      padding: 0 0 0 0;\n",
              "      width: 32px;\n",
              "    }\n",
              "\n",
              "    .colab-df-convert:hover {\n",
              "      background-color: #E2EBFA;\n",
              "      box-shadow: 0px 1px 2px rgba(60, 64, 67, 0.3), 0px 1px 3px 1px rgba(60, 64, 67, 0.15);\n",
              "      fill: #174EA6;\n",
              "    }\n",
              "\n",
              "    [theme=dark] .colab-df-convert {\n",
              "      background-color: #3B4455;\n",
              "      fill: #D2E3FC;\n",
              "    }\n",
              "\n",
              "    [theme=dark] .colab-df-convert:hover {\n",
              "      background-color: #434B5C;\n",
              "      box-shadow: 0px 1px 3px 1px rgba(0, 0, 0, 0.15);\n",
              "      filter: drop-shadow(0px 1px 2px rgba(0, 0, 0, 0.3));\n",
              "      fill: #FFFFFF;\n",
              "    }\n",
              "  </style>\n",
              "\n",
              "      <script>\n",
              "        const buttonEl =\n",
              "          document.querySelector('#df-f757c050-9abf-4f76-914e-f0c28fecdbf3 button.colab-df-convert');\n",
              "        buttonEl.style.display =\n",
              "          google.colab.kernel.accessAllowed ? 'block' : 'none';\n",
              "\n",
              "        async function convertToInteractive(key) {\n",
              "          const element = document.querySelector('#df-f757c050-9abf-4f76-914e-f0c28fecdbf3');\n",
              "          const dataTable =\n",
              "            await google.colab.kernel.invokeFunction('convertToInteractive',\n",
              "                                                     [key], {});\n",
              "          if (!dataTable) return;\n",
              "\n",
              "          const docLinkHtml = 'Like what you see? Visit the ' +\n",
              "            '<a target=\"_blank\" href=https://colab.research.google.com/notebooks/data_table.ipynb>data table notebook</a>'\n",
              "            + ' to learn more about interactive tables.';\n",
              "          element.innerHTML = '';\n",
              "          dataTable['output_type'] = 'display_data';\n",
              "          await google.colab.output.renderOutput(dataTable, element);\n",
              "          const docLink = document.createElement('div');\n",
              "          docLink.innerHTML = docLinkHtml;\n",
              "          element.appendChild(docLink);\n",
              "        }\n",
              "      </script>\n",
              "    </div>\n",
              "  </div>\n",
              "  "
            ]
          },
          "metadata": {},
          "execution_count": 14
        }
      ]
    },
    {
      "cell_type": "code",
      "source": [
        "# Buat variabel pay_0 berisi rata2 pembayaran per bulan utk user yg default\n",
        "pay_0 = pd.DataFrame(df.loc[df['default_payment_next_month']==0, ['pay_amt_6','pay_amt_5','pay_amt_4','pay_amt_3','pay_amt_2','pay_amt_1']].mean()).rename(columns={0: \"Mean\"})\n",
        "pay_0"
      ],
      "metadata": {
        "colab": {
          "base_uri": "https://localhost:8080/",
          "height": 238
        },
        "id": "QEJlbLiRJv1I",
        "outputId": "e2a00c53-6997-4688-a0ee-c1630f02806e"
      },
      "execution_count": null,
      "outputs": [
        {
          "output_type": "execute_result",
          "data": {
            "text/plain": [
              "                  Mean\n",
              "pay_amt_6  5986.556652\n",
              "pay_amt_5  5491.157940\n",
              "pay_amt_4  4933.536481\n",
              "pay_amt_3  5823.500429\n",
              "pay_amt_2  7165.855794\n",
              "pay_amt_1  7070.179399"
            ],
            "text/html": [
              "\n",
              "  <div id=\"df-5a8d3d72-91c2-4d0e-bd19-38e823355803\">\n",
              "    <div class=\"colab-df-container\">\n",
              "      <div>\n",
              "<style scoped>\n",
              "    .dataframe tbody tr th:only-of-type {\n",
              "        vertical-align: middle;\n",
              "    }\n",
              "\n",
              "    .dataframe tbody tr th {\n",
              "        vertical-align: top;\n",
              "    }\n",
              "\n",
              "    .dataframe thead th {\n",
              "        text-align: right;\n",
              "    }\n",
              "</style>\n",
              "<table border=\"1\" class=\"dataframe\">\n",
              "  <thead>\n",
              "    <tr style=\"text-align: right;\">\n",
              "      <th></th>\n",
              "      <th>Mean</th>\n",
              "    </tr>\n",
              "  </thead>\n",
              "  <tbody>\n",
              "    <tr>\n",
              "      <th>pay_amt_6</th>\n",
              "      <td>5986.556652</td>\n",
              "    </tr>\n",
              "    <tr>\n",
              "      <th>pay_amt_5</th>\n",
              "      <td>5491.157940</td>\n",
              "    </tr>\n",
              "    <tr>\n",
              "      <th>pay_amt_4</th>\n",
              "      <td>4933.536481</td>\n",
              "    </tr>\n",
              "    <tr>\n",
              "      <th>pay_amt_3</th>\n",
              "      <td>5823.500429</td>\n",
              "    </tr>\n",
              "    <tr>\n",
              "      <th>pay_amt_2</th>\n",
              "      <td>7165.855794</td>\n",
              "    </tr>\n",
              "    <tr>\n",
              "      <th>pay_amt_1</th>\n",
              "      <td>7070.179399</td>\n",
              "    </tr>\n",
              "  </tbody>\n",
              "</table>\n",
              "</div>\n",
              "      <button class=\"colab-df-convert\" onclick=\"convertToInteractive('df-5a8d3d72-91c2-4d0e-bd19-38e823355803')\"\n",
              "              title=\"Convert this dataframe to an interactive table.\"\n",
              "              style=\"display:none;\">\n",
              "        \n",
              "  <svg xmlns=\"http://www.w3.org/2000/svg\" height=\"24px\"viewBox=\"0 0 24 24\"\n",
              "       width=\"24px\">\n",
              "    <path d=\"M0 0h24v24H0V0z\" fill=\"none\"/>\n",
              "    <path d=\"M18.56 5.44l.94 2.06.94-2.06 2.06-.94-2.06-.94-.94-2.06-.94 2.06-2.06.94zm-11 1L8.5 8.5l.94-2.06 2.06-.94-2.06-.94L8.5 2.5l-.94 2.06-2.06.94zm10 10l.94 2.06.94-2.06 2.06-.94-2.06-.94-.94-2.06-.94 2.06-2.06.94z\"/><path d=\"M17.41 7.96l-1.37-1.37c-.4-.4-.92-.59-1.43-.59-.52 0-1.04.2-1.43.59L10.3 9.45l-7.72 7.72c-.78.78-.78 2.05 0 2.83L4 21.41c.39.39.9.59 1.41.59.51 0 1.02-.2 1.41-.59l7.78-7.78 2.81-2.81c.8-.78.8-2.07 0-2.86zM5.41 20L4 18.59l7.72-7.72 1.47 1.35L5.41 20z\"/>\n",
              "  </svg>\n",
              "      </button>\n",
              "      \n",
              "  <style>\n",
              "    .colab-df-container {\n",
              "      display:flex;\n",
              "      flex-wrap:wrap;\n",
              "      gap: 12px;\n",
              "    }\n",
              "\n",
              "    .colab-df-convert {\n",
              "      background-color: #E8F0FE;\n",
              "      border: none;\n",
              "      border-radius: 50%;\n",
              "      cursor: pointer;\n",
              "      display: none;\n",
              "      fill: #1967D2;\n",
              "      height: 32px;\n",
              "      padding: 0 0 0 0;\n",
              "      width: 32px;\n",
              "    }\n",
              "\n",
              "    .colab-df-convert:hover {\n",
              "      background-color: #E2EBFA;\n",
              "      box-shadow: 0px 1px 2px rgba(60, 64, 67, 0.3), 0px 1px 3px 1px rgba(60, 64, 67, 0.15);\n",
              "      fill: #174EA6;\n",
              "    }\n",
              "\n",
              "    [theme=dark] .colab-df-convert {\n",
              "      background-color: #3B4455;\n",
              "      fill: #D2E3FC;\n",
              "    }\n",
              "\n",
              "    [theme=dark] .colab-df-convert:hover {\n",
              "      background-color: #434B5C;\n",
              "      box-shadow: 0px 1px 3px 1px rgba(0, 0, 0, 0.15);\n",
              "      filter: drop-shadow(0px 1px 2px rgba(0, 0, 0, 0.3));\n",
              "      fill: #FFFFFF;\n",
              "    }\n",
              "  </style>\n",
              "\n",
              "      <script>\n",
              "        const buttonEl =\n",
              "          document.querySelector('#df-5a8d3d72-91c2-4d0e-bd19-38e823355803 button.colab-df-convert');\n",
              "        buttonEl.style.display =\n",
              "          google.colab.kernel.accessAllowed ? 'block' : 'none';\n",
              "\n",
              "        async function convertToInteractive(key) {\n",
              "          const element = document.querySelector('#df-5a8d3d72-91c2-4d0e-bd19-38e823355803');\n",
              "          const dataTable =\n",
              "            await google.colab.kernel.invokeFunction('convertToInteractive',\n",
              "                                                     [key], {});\n",
              "          if (!dataTable) return;\n",
              "\n",
              "          const docLinkHtml = 'Like what you see? Visit the ' +\n",
              "            '<a target=\"_blank\" href=https://colab.research.google.com/notebooks/data_table.ipynb>data table notebook</a>'\n",
              "            + ' to learn more about interactive tables.';\n",
              "          element.innerHTML = '';\n",
              "          dataTable['output_type'] = 'display_data';\n",
              "          await google.colab.output.renderOutput(dataTable, element);\n",
              "          const docLink = document.createElement('div');\n",
              "          docLink.innerHTML = docLinkHtml;\n",
              "          element.appendChild(docLink);\n",
              "        }\n",
              "      </script>\n",
              "    </div>\n",
              "  </div>\n",
              "  "
            ]
          },
          "metadata": {},
          "execution_count": 15
        }
      ]
    },
    {
      "cell_type": "code",
      "source": [
        "# Plot diagram batang pay_1\n",
        "plt.bar(pay_1.index, pay_1['Mean'], color='m', edgecolor='k')\n",
        "plt.ylabel('Payment')\n",
        "plt.title('Mean of Payment for Defaulted User')\n",
        "\n",
        "plt.show()"
      ],
      "metadata": {
        "colab": {
          "base_uri": "https://localhost:8080/",
          "height": 282
        },
        "id": "bzaIInGNJ6ni",
        "outputId": "720acf84-1e2c-47ca-d83d-50daab0f1eae"
      },
      "execution_count": null,
      "outputs": [
        {
          "output_type": "display_data",
          "data": {
            "text/plain": [
              "<Figure size 432x288 with 1 Axes>"
            ],
            "image/png": "[encoded data removed]"
          },
          "metadata": {
            "needs_background": "light"
          }
        }
      ]
    },
    {
      "cell_type": "code",
      "source": [
        "# Plot diagram batang pay_0\n",
        "plt.bar(pay_0.index, pay_0['Mean'], color='b', edgecolor='k')\n",
        "plt.ylabel('Payment')\n",
        "plt.title('Mean of Payment for Non-Defaulted User')\n",
        "\n",
        "plt.show()"
      ],
      "metadata": {
        "colab": {
          "base_uri": "https://localhost:8080/",
          "height": 282
        },
        "id": "kWYhkl-SKEmL",
        "outputId": "8af32625-8d0a-47b8-b419-afdff5195552"
      },
      "execution_count": null,
      "outputs": [
        {
          "output_type": "display_data",
          "data": {
            "text/plain": [
              "<Figure size 432x288 with 1 Axes>"
            ],
            "image/png": "[encoded data removed]"
          },
          "metadata": {
            "needs_background": "light"
          }
        }
      ]
    },
    {
      "cell_type": "markdown",
      "source": [
        "Jika dilihat dari diagram diatas, profil pembayaran cicilan pada user yg default dan non-default hampir sama. Namun bedanya, jumlah pembayaran bagi user yg default relatif lebih sedikir per bulannya dibandingkan bagi user yg tidak default. Ini artinya user yg mengalami default mengalami kesulitan pembayaran cicilan sebelum utang jatuh tempo."
      ],
      "metadata": {
        "id": "wf1PQ8RhKM2O"
      }
    },
    {
      "cell_type": "markdown",
      "source": [
        "Berikutnya, mari kita melihat perbedaan kecenderungan user yg default dan non-default dalam hal ketepatan waktu membayar tagihan."
      ],
      "metadata": {
        "id": "kKKR0PObaAPv"
      }
    },
    {
      "cell_type": "code",
      "source": [
        "# Buat style matplotlib mengikuti ggplot\n",
        "%matplotlib inline \n",
        "print(plt.style.available)\n",
        "mpl.style.use(['ggplot']) "
      ],
      "metadata": {
        "colab": {
          "base_uri": "https://localhost:8080/"
        },
        "id": "0oWUdHAsRbbN",
        "outputId": "6362ab71-a953-43ce-dd70-57141caabeb3"
      },
      "execution_count": null,
      "outputs": [
        {
          "output_type": "stream",
          "name": "stdout",
          "text": [
            "['Solarize_Light2', '_classic_test_patch', 'bmh', 'classic', 'dark_background', 'fast', 'fivethirtyeight', 'ggplot', 'grayscale', 'seaborn', 'seaborn-bright', 'seaborn-colorblind', 'seaborn-dark', 'seaborn-dark-palette', 'seaborn-darkgrid', 'seaborn-deep', 'seaborn-muted', 'seaborn-notebook', 'seaborn-paper', 'seaborn-pastel', 'seaborn-poster', 'seaborn-talk', 'seaborn-ticks', 'seaborn-white', 'seaborn-whitegrid', 'tableau-colorblind10']\n"
          ]
        }
      ]
    },
    {
      "cell_type": "code",
      "source": [
        "# Buat variabel df_00 utk menyimpan dataset pada kasus non-default\n",
        "df_00 = pd.DataFrame(df.loc[df['default_payment_next_month']==0])\n",
        "# Buat variabel df_11 utk menyimpan dataset pada kasus default\n",
        "df_11 = pd.DataFrame(df.loc[df['default_payment_next_month']==1])"
      ],
      "metadata": {
        "id": "P1AhfxrzVdm9"
      },
      "execution_count": null,
      "outputs": []
    },
    {
      "cell_type": "code",
      "source": [
        "# Plot dalam histogram dgn jumlah baris 2 dan kolom 6 untuk masing2 kasus pada user yg default dan non-default\n",
        "fig, ax = plt.subplots(2, 6, figsize=(20, 15))\n",
        "df_00['pay_0'].hist(bins=11, ax=ax[0,0], color ='g',edgecolor='k') \t\t\n",
        "ax[0,0].set_xlim(-2,8)\n",
        "ax[0,0].set_title('pay_0 No Default')\t\n",
        "ax[0,0].set_ylabel('Count')\n",
        "ax[0,0].set_xticks(list(range(-2,9)))\n",
        "\n",
        "df_00['pay_2'].hist(bins=11, ax=ax[0,1], color ='g', edgecolor='k') \t\t\n",
        "ax[0,1].set_xlim(-2,8)\t\n",
        "ax[0,1].set_title('pay_2 No Default')\t\n",
        "ax[0,1].set_xticks(list(range(-2,9)))\n",
        "\n",
        "df_00['pay_3'].hist(bins=11, ax=ax[0,2], color ='g', edgecolor='k') \t\t\n",
        "ax[0,2].set_xlim(-2,8)\t\n",
        "ax[0,2].set_title('pay_3 No Default')\t\n",
        "ax[0,2].set_xticks(list(range(-2,9)))\n",
        "\n",
        "df_00['pay_4'].hist(bins=11, ax=ax[0,3], color ='g', edgecolor='k') \t\t\n",
        "ax[0,3].set_xlim(-2,8)\t\n",
        "ax[0,3].set_title('pay_4 No Default')\t\n",
        "ax[0,3].set_xticks(list(range(-2,9)))\n",
        "\n",
        "df_00['pay_5'].hist(bins=11, ax=ax[0,4], color ='g', edgecolor='k') \t\t\n",
        "ax[0,4].set_xlim(-2,8)\t\n",
        "ax[0,4].set_title('pay_5 No Default')\t\n",
        "ax[0,4].set_xticks(list(range(-2,9)))\n",
        "\n",
        "df_00['pay_6'].hist(bins=11, ax=ax[0,5], color ='g', edgecolor='k') \t\t\n",
        "ax[0,5].set_xlim(-2,8)\t\n",
        "ax[0,5].set_title('pay_6 No Default')\t\n",
        "ax[0,5].set_xticks(list(range(-2,9)))\n",
        "\n",
        "df_11['pay_0'].hist(bins=11, ax=ax[1,0], edgecolor='k') \t\t\n",
        "ax[1,0].set_xlim(-2,8)\t\n",
        "ax[1,0].set_title('pay_0 Default')\t\n",
        "ax[1,0].set_ylabel('Count')\n",
        "ax[1,0].set_xticks(list(range(-2,9)))\n",
        "\n",
        "df_11['pay_2'].hist(bins=11, ax=ax[1,1], edgecolor='k') \t\t\n",
        "ax[1,1].set_xlim(-2,8)\t\n",
        "ax[1,1].set_title('pay_2 Default')\t\n",
        "ax[1,1].set_xticks(list(range(-2,9)))\n",
        "\n",
        "df_11['pay_3'].hist(bins=11, ax=ax[1,2], edgecolor='k') \t\n",
        "ax[1,2].set_xlim(-2,8)\n",
        "ax[1,2].set_title('pay_3 Default')\t\t\t\n",
        "ax[1,2].set_xticks(list(range(-2,9)))\n",
        "\n",
        "df_11['pay_4'].hist(bins=11, ax=ax[1,3], edgecolor='k') \t\t\n",
        "ax[1,3].set_xlim(-2,8)\t\n",
        "ax[1,3].set_title('pay_4 Default')\t\n",
        "ax[1,3].set_xticks(list(range(-2,9)))\n",
        "\n",
        "df_11['pay_5'].hist(bins=11, ax=ax[1,4], edgecolor='k') \t\t\n",
        "ax[1,4].set_xlim(-2,8)\n",
        "ax[1,4].set_title('pay_5 Default')\t\t\n",
        "ax[1,4].set_xticks(list(range(-2,9)))\n",
        "\n",
        "df_11['pay_6'].hist(bins=11, ax=ax[1,5], edgecolor='k') \t\t\n",
        "ax[1,5].set_xlim(-2,8)\t\n",
        "ax[1,5].set_title('pay_6 Default')\t\n",
        "ax[1,5].set_xticks(list(range(-2,9)))\n",
        "\n",
        "plt.show()"
      ],
      "metadata": {
        "colab": {
          "base_uri": "https://localhost:8080/",
          "height": 849
        },
        "id": "narwPPavRjxm",
        "outputId": "a1b1932a-f8d9-42e0-f333-fc87f01f50a8"
      },
      "execution_count": null,
      "outputs": [
        {
          "output_type": "display_data",
          "data": {
            "text/plain": [
              "<Figure size 1440x1080 with 12 Axes>"
            ],
            "image/png": "[encoded data removed]"
          },
          "metadata": {}
        }
      ]
    },
    {
      "cell_type": "markdown",
      "source": [
        "Perbedaan utama antara user yg mengalami default dan non-default adalah adanya nilai label 2 lebih besar pada user yg mengalami default. Label 2 menandakan terlambat membayar selama 2 bulan. Pada user yg non-default, keterlambatan membayar juga terjadi namun intensitasnya jauh dibawah user yg default. Hal ini menandakan bahwa user yg default telah sebelumnya mengalami kesulitan finansial yg menyebabkan terlambat membayar cicilan."
      ],
      "metadata": {
        "id": "PQMfM-ZqX2Fj"
      }
    },
    {
      "cell_type": "markdown",
      "source": [
        "Beralih dari masalah tagihan dan pembayaran cicilan, mari kita lihat profil user dalam dataset ini."
      ],
      "metadata": {
        "id": "nEPKTjfhMPa5"
      }
    },
    {
      "cell_type": "code",
      "source": [
        "# Kelompokkan rata2 jumlah kredit tercatat thd gender \n",
        "df.groupby('sex')['limit_balance'].mean()"
      ],
      "metadata": {
        "colab": {
          "base_uri": "https://localhost:8080/"
        },
        "id": "tW_6fPtDMzix",
        "outputId": "cc6dd4fc-fd8e-4dc6-bd74-9ad3f93b3b87"
      },
      "execution_count": null,
      "outputs": [
        {
          "output_type": "execute_result",
          "data": {
            "text/plain": [
              "sex\n",
              "1    158925.193465\n",
              "2    166237.513873\n",
              "Name: limit_balance, dtype: float64"
            ]
          },
          "metadata": {},
          "execution_count": 21
        }
      ]
    },
    {
      "cell_type": "markdown",
      "source": [
        "Perempuan (sex=2) mempunyai jumlah kredit tercatat lebih besar dibandingkan laki2 (sex=1). Hal ini menandakan jika perempuan dalam dataset ini lebih banyak berbelanja dgn kartu kredit dibanding laki2."
      ],
      "metadata": {
        "id": "fNwH4q67NLIU"
      }
    },
    {
      "cell_type": "code",
      "source": [
        "# Kelompokkan rata2 jumlah kredit tercatat thd tingkat pendidikan\n",
        "df.groupby('education_level')['limit_balance'].mean()"
      ],
      "metadata": {
        "colab": {
          "base_uri": "https://localhost:8080/"
        },
        "id": "xGtU-GCLM7Om",
        "outputId": "bf4e6c1d-29d6-4e60-af0b-4c0638d1de25"
      },
      "execution_count": null,
      "outputs": [
        {
          "output_type": "execute_result",
          "data": {
            "text/plain": [
              "education_level\n",
              "0    175000.000000\n",
              "1    206025.024062\n",
              "2    144964.285714\n",
              "3    124409.937888\n",
              "4    227692.307692\n",
              "5    155416.666667\n",
              "6     62500.000000\n",
              "Name: limit_balance, dtype: float64"
            ]
          },
          "metadata": {},
          "execution_count": 22
        }
      ]
    },
    {
      "cell_type": "markdown",
      "source": [
        "Tingkat pendidikan sedikit banyak berkorelasi dgn kecenderungan utk memakai kartu kredit. Lulusan pascasarjana (label 1) memiliki rata2 jumlah kredit tercatat yakni 206225 dimana lebih besar dibanding lulusan sarjana (label 2) yakni 144964. Namun demikian, lulusan SMA (label 3) memiliki rata2 jumlah kredit tercatat lebih rendah lagi, yaitu 124409. Untuk label2 lain tdk bisa dianalisa krn tidak bisa dikategorikan. Dari sini kita bisa menduga jika semakin tinggi pendidikan seseorang, makin besar income-nya sehingga semakin boros gaya hidupnya yg mengakibatkan org tsb cenderung menggunakan kartu kredit. Namun, krn diimbangi dgn income yg besar, jarang dari org2 berpendidikan tinggi tsb yg mengalami default. Oleh krn itu, user yg tidak mengalami default malah cenderung memiliki balance kredit lbh besar dari user yg default"
      ],
      "metadata": {
        "id": "GqbLwRnnOU7o"
      }
    },
    {
      "cell_type": "markdown",
      "source": [
        "Berikutnya kita akan menyelidiki tingkat pendidikan bagi pemilik kartu kredit dalam dataset ini:"
      ],
      "metadata": {
        "id": "3sT6i3XbPqWo"
      }
    },
    {
      "cell_type": "code",
      "source": [
        "# Hitung jumlah user dgn masing2 tingkat pendidikan\n",
        "df[['education_level']].value_counts().sort_index()"
      ],
      "metadata": {
        "colab": {
          "base_uri": "https://localhost:8080/"
        },
        "id": "uaRB-HUTBNok",
        "outputId": "c55f3760-68ad-4f29-d1ff-122f1f3b201f"
      },
      "execution_count": null,
      "outputs": [
        {
          "output_type": "execute_result",
          "data": {
            "text/plain": [
              "education_level\n",
              "0                     2\n",
              "1                  1039\n",
              "2                  1400\n",
              "3                   483\n",
              "4                    13\n",
              "5                    24\n",
              "6                     4\n",
              "dtype: int64"
            ]
          },
          "metadata": {},
          "execution_count": 23
        }
      ]
    },
    {
      "cell_type": "code",
      "source": [
        "# Plot persebaran tingkat pendidikan user\n",
        "label1 = list(pd.DataFrame(df['education_level'].value_counts()).sort_index().index)\n",
        "plt.figure(figsize = (5, 5))\n",
        "plt.title('Education Level')\n",
        "plt.pie(pd.DataFrame(df['education_level'].value_counts()),colors=palette_color, autopct='%.0f%%', wedgeprops={\"edgecolor\":\"k\"})\n",
        "plt.legend(label1, loc='upper right',bbox_to_anchor=(1.5,1))\n",
        "plt.show()"
      ],
      "metadata": {
        "colab": {
          "base_uri": "https://localhost:8080/",
          "height": 376
        },
        "id": "MN0F-2W2QKR6",
        "outputId": "d1ffd8e8-c494-4090-daa3-9d33d2c9da2a"
      },
      "execution_count": null,
      "outputs": [
        {
          "output_type": "stream",
          "name": "stderr",
          "text": [
            "/usr/local/lib/python3.7/dist-packages/ipykernel_launcher.py:5: MatplotlibDeprecationWarning: Non-1D inputs to pie() are currently squeeze()d, but this behavior is deprecated since 3.1 and will be removed in 3.3; pass a 1D array instead.\n",
            "  \"\"\"\n"
          ]
        },
        {
          "output_type": "display_data",
          "data": {
            "text/plain": [
              "<Figure size 360x360 with 1 Axes>"
            ],
            "image/png": "[encoded data removed]"
          },
          "metadata": {}
        }
      ]
    },
    {
      "cell_type": "markdown",
      "source": [
        "Terlihat jika sebagian besar pengguna kartu kredit adalah lulusan universitas (label 2) dan pascasarjana (label 1)"
      ],
      "metadata": {
        "id": "RW0YfbilP5R1"
      }
    },
    {
      "cell_type": "markdown",
      "source": [
        "Berikutnya kita ingin melihat status pernikahan bagi para pengguna kartu kredit:"
      ],
      "metadata": {
        "id": "C_94R_UEQYf0"
      }
    },
    {
      "cell_type": "code",
      "source": [
        "# Tampilkan status pernikahan berdasarkan jumlah user\n",
        "df[['marital_status']].value_counts().sort_index()"
      ],
      "metadata": {
        "colab": {
          "base_uri": "https://localhost:8080/"
        },
        "id": "o3iUAOMHQiwV",
        "outputId": "7e5297b7-f99d-48ee-c26a-87adabf023d9"
      },
      "execution_count": null,
      "outputs": [
        {
          "output_type": "execute_result",
          "data": {
            "text/plain": [
              "marital_status\n",
              "0                    4\n",
              "1                 1332\n",
              "2                 1594\n",
              "3                   35\n",
              "dtype: int64"
            ]
          },
          "metadata": {},
          "execution_count": 25
        }
      ]
    },
    {
      "cell_type": "markdown",
      "source": [
        "Terlihat jika populasi user yg masih single (label 2) lebih banyak dibanding user yg sudah menikah (label 1) pada dataset ini."
      ],
      "metadata": {
        "id": "Wm5n0e_GQnD2"
      }
    },
    {
      "cell_type": "markdown",
      "source": [
        "Berikutnya kita akan melakukan plot diagram box pada kolom bill_atm dan pay_atm utk melihat distribusi data secara statistik pada masing2 kolom. Kita juga akan melihat apakah banyak terdapat data outliers pada kedua kolom tsb"
      ],
      "metadata": {
        "id": "V2BFSuQ7a1ZD"
      }
    },
    {
      "cell_type": "code",
      "source": [
        "# Buat diagram box pada kolom bill_atm\n",
        "f, axes = plt.subplots(2, 3, figsize=(10, 10))\n",
        "sns.boxplot(y=\"bill_amt_1\", data=df, ax=axes[0,0], color='b')\n",
        "sns.boxplot(y=\"bill_amt_2\", data=df, ax=axes[0,1], color='b')\n",
        "sns.boxplot(y=\"bill_amt_3\", data=df, ax=axes[0,2], color='b')\n",
        "sns.boxplot(y=\"bill_amt_4\", data=df, ax=axes[1,0], color='b')\n",
        "sns.boxplot(y=\"bill_amt_5\", data=df, ax=axes[1,1], color='b')\n",
        "sns.boxplot(y=\"bill_amt_6\", data=df, ax=axes[1,2], color='b')\n",
        "plt.show()"
      ],
      "metadata": {
        "colab": {
          "base_uri": "https://localhost:8080/",
          "height": 579
        },
        "id": "wqgOTVO58Iur",
        "outputId": "9fe7f13f-e183-4b86-ea40-d5038b1ea994"
      },
      "execution_count": null,
      "outputs": [
        {
          "output_type": "display_data",
          "data": {
            "text/plain": [
              "<Figure size 720x720 with 6 Axes>"
            ],
            "image/png": "[encoded data removed]"
          },
          "metadata": {}
        }
      ]
    },
    {
      "cell_type": "markdown",
      "source": [
        "Pada diagram bill_atm cukup banyak outliers pada semua diagram box yg ditampilkan"
      ],
      "metadata": {
        "id": "VAGx1-zTbTpB"
      }
    },
    {
      "cell_type": "code",
      "source": [
        "# Buat diagram box pada kolom pay_atm\n",
        "f, axes = plt.subplots(2, 3, figsize=(10, 10))\n",
        "sns.boxplot(y=\"pay_amt_1\", data=df, ax=axes[0,0], color='g')\n",
        "sns.boxplot(y=\"pay_amt_2\", data=df, ax=axes[0,1], color='g')\n",
        "sns.boxplot(y=\"pay_amt_3\", data=df, ax=axes[0,2], color='g')\n",
        "sns.boxplot(y=\"pay_amt_4\", data=df, ax=axes[1,0], color='g')\n",
        "sns.boxplot(y=\"pay_amt_5\", data=df, ax=axes[1,1], color='g')\n",
        "sns.boxplot(y=\"pay_amt_6\", data=df, ax=axes[1,2], color='g')\n",
        "plt.show()"
      ],
      "metadata": {
        "colab": {
          "base_uri": "https://localhost:8080/",
          "height": 589
        },
        "id": "zPUjqGrfA5xv",
        "outputId": "10679516-a6ef-4981-e843-137686a48649"
      },
      "execution_count": null,
      "outputs": [
        {
          "output_type": "display_data",
          "data": {
            "text/plain": [
              "<Figure size 720x720 with 6 Axes>"
            ],
            "image/png": "[encoded data removed]"
          },
          "metadata": {}
        }
      ]
    },
    {
      "cell_type": "markdown",
      "source": [
        "Pada diagram pay_atm juga cukup banyak terdapat outliers pada semua diagram box yg ditampilkan. Hanya pay_atm_2 yg memiliki relatif lebih sedikit outliers dibanding lainnya."
      ],
      "metadata": {
        "id": "bax2ijjWbbfH"
      }
    },
    {
      "cell_type": "markdown",
      "source": [
        "Keberadaan outliers2 ini akan di-capping karena cukup banyak. Proses capping akan dilakukan pada section selanjutnya."
      ],
      "metadata": {
        "id": "OutfQoEMbp39"
      }
    },
    {
      "cell_type": "markdown",
      "source": [
        "# V. Data Preprocessing"
      ],
      "metadata": {
        "id": "xQCHKwQLqsO_"
      }
    },
    {
      "cell_type": "markdown",
      "source": [
        "Sebelum diproses lbh lanjut, dataset dibagi menjadi fitur (X) dan target (y). Fitur berisi kolom2 yg akan menjadi variabel independen dalam model, sedangkan target berisi satu kolom yg akan menjadi variabel dependen. Pada kolom fitur, kolom 'default_payment_next_month' dihilangkan. Lalu, dataset target akan dibuat dgn berisi kolom 'default_payment_next_month' saja."
      ],
      "metadata": {
        "id": "AITl5ofHWj-E"
      }
    },
    {
      "cell_type": "code",
      "source": [
        "# Buat dataset fitur\n",
        "X = df.drop('default_payment_next_month',axis=1)\n",
        "# Buat dataset target \n",
        "y = df['default_payment_next_month']"
      ],
      "metadata": {
        "id": "0nErFcSNJON_"
      },
      "execution_count": null,
      "outputs": []
    },
    {
      "cell_type": "markdown",
      "source": [
        "Berikutnya lakukan train_test_split untuk membagi dataset menjadi training dan testing set dengan rasio testing set 0.3 dan aktifkan stratify pada dataset target supaya komposisi label seimbang antara training dan testing set. "
      ],
      "metadata": {
        "id": "F-zEkO9DXQGZ"
      }
    },
    {
      "cell_type": "code",
      "source": [
        "# Lakukan train_test_split utk membagi dataset menjadi training (70%) dan testing set (30%). Lakukan stratify pada target agar komposisi label seimbang antara training dan test set \n",
        "X_train, X_test, y_train, y_test = train_test_split(X, y, test_size=0.3, stratify=y, random_state=101)"
      ],
      "metadata": {
        "id": "qn7F-uPtJgxL"
      },
      "execution_count": null,
      "outputs": []
    },
    {
      "cell_type": "markdown",
      "source": [
        "Kemudian akan dilakukan Feature Selection dengan menentukan korelasi antara fitur kategorikal dan target. Sebelumnya, kita akan mengecek kolom kategorikal apa saja pada X_train"
      ],
      "metadata": {
        "id": "FvQabJEKdete"
      }
    },
    {
      "cell_type": "code",
      "source": [
        "# Tampilkan dataset fitur training\n",
        "X_train.head()"
      ],
      "metadata": {
        "colab": {
          "base_uri": "https://localhost:8080/",
          "height": 270
        },
        "id": "EYPbRxCyOxRs",
        "outputId": "734d4248-bb4c-4893-cf83-330a78dde3cf"
      },
      "execution_count": null,
      "outputs": [
        {
          "output_type": "execute_result",
          "data": {
            "text/plain": [
              "      limit_balance  sex  education_level  marital_status   age  pay_0  pay_2  \\\n",
              "1895        80000.0    2                1               2  28.0    0.0    0.0   \n",
              "1559       100000.0    2                3               0  56.0    1.0    2.0   \n",
              "2441       100000.0    2                2               2  40.0    2.0    0.0   \n",
              "681        200000.0    1                1               1  40.0   -1.0   -1.0   \n",
              "2478       170000.0    2                1               2  30.0    0.0    0.0   \n",
              "\n",
              "      pay_3  pay_4  pay_5  pay_6  bill_amt_1  bill_amt_2  bill_amt_3  \\\n",
              "1895    0.0    2.0      2      0     36736.0     38079.0     40805.0   \n",
              "1559    0.0    0.0      2      2     28625.0     27969.0     28812.0   \n",
              "2441    0.0    2.0      2      2     40626.0     41945.0     45247.0   \n",
              "681    -1.0   -1.0     -1     -1       840.0       770.0       386.0   \n",
              "2478    0.0    0.0      0      0     49341.0     49227.0     51798.0   \n",
              "\n",
              "      bill_amt_4  bill_amt_5  bill_amt_6  pay_amt_1  pay_amt_2  pay_amt_3  \\\n",
              "1895     35740.0     32684.0     32605.0     1955.0     3681.0     1300.0   \n",
              "1559     31134.0     30444.0     32460.0        0.0     1500.0     2700.0   \n",
              "2441     45208.0     46160.0     48268.0     2000.0     4000.0     1000.0   \n",
              "681          0.0       475.0       390.0      800.0      396.0        4.0   \n",
              "2478     53332.0     56303.0     59198.0     4000.0     4000.0     3000.0   \n",
              "\n",
              "      pay_amt_4  pay_amt_5  pay_amt_6  \n",
              "1895        0.0     1500.0     1200.0  \n",
              "1559        0.0     2400.0        0.0  \n",
              "2441     2000.0     3000.0        0.0  \n",
              "681       475.0     1170.0      930.0  \n",
              "2478     4000.0     4000.0     4000.0  "
            ],
            "text/html": [
              "\n",
              "  <div id=\"df-b09354d1-d5ce-40ca-84a3-4deb953086d6\">\n",
              "    <div class=\"colab-df-container\">\n",
              "      <div>\n",
              "<style scoped>\n",
              "    .dataframe tbody tr th:only-of-type {\n",
              "        vertical-align: middle;\n",
              "    }\n",
              "\n",
              "    .dataframe tbody tr th {\n",
              "        vertical-align: top;\n",
              "    }\n",
              "\n",
              "    .dataframe thead th {\n",
              "        text-align: right;\n",
              "    }\n",
              "</style>\n",
              "<table border=\"1\" class=\"dataframe\">\n",
              "  <thead>\n",
              "    <tr style=\"text-align: right;\">\n",
              "      <th></th>\n",
              "      <th>limit_balance</th>\n",
              "      <th>sex</th>\n",
              "      <th>education_level</th>\n",
              "      <th>marital_status</th>\n",
              "      <th>age</th>\n",
              "      <th>pay_0</th>\n",
              "      <th>pay_2</th>\n",
              "      <th>pay_3</th>\n",
              "      <th>pay_4</th>\n",
              "      <th>pay_5</th>\n",
              "      <th>pay_6</th>\n",
              "      <th>bill_amt_1</th>\n",
              "      <th>bill_amt_2</th>\n",
              "      <th>bill_amt_3</th>\n",
              "      <th>bill_amt_4</th>\n",
              "      <th>bill_amt_5</th>\n",
              "      <th>bill_amt_6</th>\n",
              "      <th>pay_amt_1</th>\n",
              "      <th>pay_amt_2</th>\n",
              "      <th>pay_amt_3</th>\n",
              "      <th>pay_amt_4</th>\n",
              "      <th>pay_amt_5</th>\n",
              "      <th>pay_amt_6</th>\n",
              "    </tr>\n",
              "  </thead>\n",
              "  <tbody>\n",
              "    <tr>\n",
              "      <th>1895</th>\n",
              "      <td>80000.0</td>\n",
              "      <td>2</td>\n",
              "      <td>1</td>\n",
              "      <td>2</td>\n",
              "      <td>28.0</td>\n",
              "      <td>0.0</td>\n",
              "      <td>0.0</td>\n",
              "      <td>0.0</td>\n",
              "      <td>2.0</td>\n",
              "      <td>2</td>\n",
              "      <td>0</td>\n",
              "      <td>36736.0</td>\n",
              "      <td>38079.0</td>\n",
              "      <td>40805.0</td>\n",
              "      <td>35740.0</td>\n",
              "      <td>32684.0</td>\n",
              "      <td>32605.0</td>\n",
              "      <td>1955.0</td>\n",
              "      <td>3681.0</td>\n",
              "      <td>1300.0</td>\n",
              "      <td>0.0</td>\n",
              "      <td>1500.0</td>\n",
              "      <td>1200.0</td>\n",
              "    </tr>\n",
              "    <tr>\n",
              "      <th>1559</th>\n",
              "      <td>100000.0</td>\n",
              "      <td>2</td>\n",
              "      <td>3</td>\n",
              "      <td>0</td>\n",
              "      <td>56.0</td>\n",
              "      <td>1.0</td>\n",
              "      <td>2.0</td>\n",
              "      <td>0.0</td>\n",
              "      <td>0.0</td>\n",
              "      <td>2</td>\n",
              "      <td>2</td>\n",
              "      <td>28625.0</td>\n",
              "      <td>27969.0</td>\n",
              "      <td>28812.0</td>\n",
              "      <td>31134.0</td>\n",
              "      <td>30444.0</td>\n",
              "      <td>32460.0</td>\n",
              "      <td>0.0</td>\n",
              "      <td>1500.0</td>\n",
              "      <td>2700.0</td>\n",
              "      <td>0.0</td>\n",
              "      <td>2400.0</td>\n",
              "      <td>0.0</td>\n",
              "    </tr>\n",
              "    <tr>\n",
              "      <th>2441</th>\n",
              "      <td>100000.0</td>\n",
              "      <td>2</td>\n",
              "      <td>2</td>\n",
              "      <td>2</td>\n",
              "      <td>40.0</td>\n",
              "      <td>2.0</td>\n",
              "      <td>0.0</td>\n",
              "      <td>0.0</td>\n",
              "      <td>2.0</td>\n",
              "      <td>2</td>\n",
              "      <td>2</td>\n",
              "      <td>40626.0</td>\n",
              "      <td>41945.0</td>\n",
              "      <td>45247.0</td>\n",
              "      <td>45208.0</td>\n",
              "      <td>46160.0</td>\n",
              "      <td>48268.0</td>\n",
              "      <td>2000.0</td>\n",
              "      <td>4000.0</td>\n",
              "      <td>1000.0</td>\n",
              "      <td>2000.0</td>\n",
              "      <td>3000.0</td>\n",
              "      <td>0.0</td>\n",
              "    </tr>\n",
              "    <tr>\n",
              "      <th>681</th>\n",
              "      <td>200000.0</td>\n",
              "      <td>1</td>\n",
              "      <td>1</td>\n",
              "      <td>1</td>\n",
              "      <td>40.0</td>\n",
              "      <td>-1.0</td>\n",
              "      <td>-1.0</td>\n",
              "      <td>-1.0</td>\n",
              "      <td>-1.0</td>\n",
              "      <td>-1</td>\n",
              "      <td>-1</td>\n",
              "      <td>840.0</td>\n",
              "      <td>770.0</td>\n",
              "      <td>386.0</td>\n",
              "      <td>0.0</td>\n",
              "      <td>475.0</td>\n",
              "      <td>390.0</td>\n",
              "      <td>800.0</td>\n",
              "      <td>396.0</td>\n",
              "      <td>4.0</td>\n",
              "      <td>475.0</td>\n",
              "      <td>1170.0</td>\n",
              "      <td>930.0</td>\n",
              "    </tr>\n",
              "    <tr>\n",
              "      <th>2478</th>\n",
              "      <td>170000.0</td>\n",
              "      <td>2</td>\n",
              "      <td>1</td>\n",
              "      <td>2</td>\n",
              "      <td>30.0</td>\n",
              "      <td>0.0</td>\n",
              "      <td>0.0</td>\n",
              "      <td>0.0</td>\n",
              "      <td>0.0</td>\n",
              "      <td>0</td>\n",
              "      <td>0</td>\n",
              "      <td>49341.0</td>\n",
              "      <td>49227.0</td>\n",
              "      <td>51798.0</td>\n",
              "      <td>53332.0</td>\n",
              "      <td>56303.0</td>\n",
              "      <td>59198.0</td>\n",
              "      <td>4000.0</td>\n",
              "      <td>4000.0</td>\n",
              "      <td>3000.0</td>\n",
              "      <td>4000.0</td>\n",
              "      <td>4000.0</td>\n",
              "      <td>4000.0</td>\n",
              "    </tr>\n",
              "  </tbody>\n",
              "</table>\n",
              "</div>\n",
              "      <button class=\"colab-df-convert\" onclick=\"convertToInteractive('df-b09354d1-d5ce-40ca-84a3-4deb953086d6')\"\n",
              "              title=\"Convert this dataframe to an interactive table.\"\n",
              "              style=\"display:none;\">\n",
              "        \n",
              "  <svg xmlns=\"http://www.w3.org/2000/svg\" height=\"24px\"viewBox=\"0 0 24 24\"\n",
              "       width=\"24px\">\n",
              "    <path d=\"M0 0h24v24H0V0z\" fill=\"none\"/>\n",
              "    <path d=\"M18.56 5.44l.94 2.06.94-2.06 2.06-.94-2.06-.94-.94-2.06-.94 2.06-2.06.94zm-11 1L8.5 8.5l.94-2.06 2.06-.94-2.06-.94L8.5 2.5l-.94 2.06-2.06.94zm10 10l.94 2.06.94-2.06 2.06-.94-2.06-.94-.94-2.06-.94 2.06-2.06.94z\"/><path d=\"M17.41 7.96l-1.37-1.37c-.4-.4-.92-.59-1.43-.59-.52 0-1.04.2-1.43.59L10.3 9.45l-7.72 7.72c-.78.78-.78 2.05 0 2.83L4 21.41c.39.39.9.59 1.41.59.51 0 1.02-.2 1.41-.59l7.78-7.78 2.81-2.81c.8-.78.8-2.07 0-2.86zM5.41 20L4 18.59l7.72-7.72 1.47 1.35L5.41 20z\"/>\n",
              "  </svg>\n",
              "      </button>\n",
              "      \n",
              "  <style>\n",
              "    .colab-df-container {\n",
              "      display:flex;\n",
              "      flex-wrap:wrap;\n",
              "      gap: 12px;\n",
              "    }\n",
              "\n",
              "    .colab-df-convert {\n",
              "      background-color: #E8F0FE;\n",
              "      border: none;\n",
              "      border-radius: 50%;\n",
              "      cursor: pointer;\n",
              "      display: none;\n",
              "      fill: #1967D2;\n",
              "      height: 32px;\n",
              "      padding: 0 0 0 0;\n",
              "      width: 32px;\n",
              "    }\n",
              "\n",
              "    .colab-df-convert:hover {\n",
              "      background-color: #E2EBFA;\n",
              "      box-shadow: 0px 1px 2px rgba(60, 64, 67, 0.3), 0px 1px 3px 1px rgba(60, 64, 67, 0.15);\n",
              "      fill: #174EA6;\n",
              "    }\n",
              "\n",
              "    [theme=dark] .colab-df-convert {\n",
              "      background-color: #3B4455;\n",
              "      fill: #D2E3FC;\n",
              "    }\n",
              "\n",
              "    [theme=dark] .colab-df-convert:hover {\n",
              "      background-color: #434B5C;\n",
              "      box-shadow: 0px 1px 3px 1px rgba(0, 0, 0, 0.15);\n",
              "      filter: drop-shadow(0px 1px 2px rgba(0, 0, 0, 0.3));\n",
              "      fill: #FFFFFF;\n",
              "    }\n",
              "  </style>\n",
              "\n",
              "      <script>\n",
              "        const buttonEl =\n",
              "          document.querySelector('#df-b09354d1-d5ce-40ca-84a3-4deb953086d6 button.colab-df-convert');\n",
              "        buttonEl.style.display =\n",
              "          google.colab.kernel.accessAllowed ? 'block' : 'none';\n",
              "\n",
              "        async function convertToInteractive(key) {\n",
              "          const element = document.querySelector('#df-b09354d1-d5ce-40ca-84a3-4deb953086d6');\n",
              "          const dataTable =\n",
              "            await google.colab.kernel.invokeFunction('convertToInteractive',\n",
              "                                                     [key], {});\n",
              "          if (!dataTable) return;\n",
              "\n",
              "          const docLinkHtml = 'Like what you see? Visit the ' +\n",
              "            '<a target=\"_blank\" href=https://colab.research.google.com/notebooks/data_table.ipynb>data table notebook</a>'\n",
              "            + ' to learn more about interactive tables.';\n",
              "          element.innerHTML = '';\n",
              "          dataTable['output_type'] = 'display_data';\n",
              "          await google.colab.output.renderOutput(dataTable, element);\n",
              "          const docLink = document.createElement('div');\n",
              "          docLink.innerHTML = docLinkHtml;\n",
              "          element.appendChild(docLink);\n",
              "        }\n",
              "      </script>\n",
              "    </div>\n",
              "  </div>\n",
              "  "
            ]
          },
          "metadata": {},
          "execution_count": 30
        }
      ]
    },
    {
      "cell_type": "markdown",
      "source": [
        "Fitur kategorikal berupa kolom sex, education_level dan marital_status. Fitur pay_0 - pay_6 sebenarnya juga merupakan kategorikal, tetapi fitur ini tidak akan dihilangkan krn merupakan sumber informasi penting terhadap perilaku user. Uji korelasi Chi-Square akan dilakukan untuk kolom kategorikal untuk memperoleh nilai p-value sebagai ukuran untuk menentukan ada tidaknya korelasi dgn target. Null hypothesis akan di-reject jika nilai p-value < 0.05, dengan begitu berarti cukup bukti untuk menentukan terdapat korelasi antara fitur dan target"
      ],
      "metadata": {
        "id": "xJjnyY-EYMOg"
      }
    },
    {
      "cell_type": "code",
      "source": [
        "# Print hasil p-value uji Chi-Square antara masing2 variabel kategorikal dan target\n",
        "csq1=chi2_contingency(pd.crosstab(y_train,X_train['sex']))\n",
        "print(\"p-value test Chi-Square thd variabel Sex : \",csq1[1])\n",
        "csq2=chi2_contingency(pd.crosstab(y_train,X_train['education_level']))\n",
        "print(\"p-value test Chi-Square thd variabel Education Level : \",csq2[1])\n",
        "csq3=chi2_contingency(pd.crosstab(y_train,X_train['marital_status']))\n",
        "print(\"p-value test Chi-Square thd variabel Marital Status : \",csq3[1])"
      ],
      "metadata": {
        "colab": {
          "base_uri": "https://localhost:8080/"
        },
        "id": "gGRBBykqOwhy",
        "outputId": "6deb891c-d4e4-4801-fdf8-e4c28160e8ec"
      },
      "execution_count": null,
      "outputs": [
        {
          "output_type": "stream",
          "name": "stdout",
          "text": [
            "p-value test Chi-Square thd variabel Sex :  0.48912006646113726\n",
            "p-value test Chi-Square thd variabel Education Level :  0.009974752355639339\n",
            "p-value test Chi-Square thd variabel Marital Status :  0.38957491944571726\n"
          ]
        }
      ]
    },
    {
      "cell_type": "markdown",
      "source": [
        "Fitur sex dan marital_status mempunyai p-value > 0.05 sehingga kedua kolom tsb akan dihapus."
      ],
      "metadata": {
        "id": "lYSubjWhZEwZ"
      }
    },
    {
      "cell_type": "code",
      "source": [
        "# Delete kolom sex dan marital_statu dari dataset X_train dan X_test. Store dataset hasil feature selection ke X_train_fs dan X_test_fs\n",
        "X_train_fs = X_train.drop(['sex','marital_status'], axis=1)\n",
        "X_test_fs = X_test.drop(['sex','marital_status'], axis=1)"
      ],
      "metadata": {
        "id": "d-w5qz42PvI_"
      },
      "execution_count": null,
      "outputs": []
    },
    {
      "cell_type": "markdown",
      "source": [
        "Berikutnya akan dilakukan proses handling outliers menggunakan fungsi Winsorizer. Fungsi ini akan melakukan capping dengan metode di-set sebagai IQR, dgn alasan karena distribusi data tidaklah Gaussian ketika di-plot ke dalam box diagram (lihat EDA). Metode capping dipilih karena jumlah outliers cukup banyak sehingga memerlukan metode untuk meng-handle tanpa harus menghapus data ouliers tsb"
      ],
      "metadata": {
        "id": "6xPg2j3WZOqd"
      }
    },
    {
      "cell_type": "code",
      "source": [
        "# Lakukan pendefinisian model capping dgn metode IQR dan tail kedua sisi menggunakan Winsorizer\n",
        "windsoriser = Winsorizer(capping_method='iqr', #Metode IQR diterapkan krn berdasarkan bentuk boxplot bentuk data tdk menyerupai Gaussian\n",
        "                          tail='both', \n",
        "                          fold=1.5)\n",
        "\n",
        "# Fitting winsorizer ke dataset X_train_fs\n",
        "windsoriser.fit(X_train_fs)\n",
        " \n",
        "# Transformasi dataset X_train_fs dan X_test_fs menggunakan windsoriser\n",
        "X_train_fs_ho = windsoriser.transform(X_train_fs)\n",
        "X_test_fs_ho = windsoriser.transform(X_test_fs)"
      ],
      "metadata": {
        "id": "52m9QhZMJm9y"
      },
      "execution_count": null,
      "outputs": []
    },
    {
      "cell_type": "markdown",
      "source": [
        "Mari kita bandingkan distribusi kolom pay_amt sebelum dan sesudah capping:"
      ],
      "metadata": {
        "id": "WBjXyCJSZmFf"
      }
    },
    {
      "cell_type": "code",
      "source": [
        "# Plot diagram box untuk kolom pay_amt_1 sampai pay_amt6 sebelum handling outliers dgn metode capping dilakukan\n",
        "f, axes = plt.subplots(2, 3, figsize=(8, 8))\n",
        "sns.boxplot(y=\"pay_amt_1\", data=X_train_fs, ax=axes[0,0], color='b')\n",
        "sns.boxplot(y=\"pay_amt_2\", data=X_train_fs, ax=axes[0,1], color='b')\n",
        "sns.boxplot(y=\"pay_amt_3\", data=X_train_fs, ax=axes[0,2], color='b')\n",
        "sns.boxplot(y=\"pay_amt_4\", data=X_train_fs, ax=axes[1,0], color='b')\n",
        "sns.boxplot(y=\"pay_amt_5\", data=X_train_fs, ax=axes[1,1], color='b')\n",
        "sns.boxplot(y=\"pay_amt_6\", data=X_train_fs, ax=axes[1,2], color='b')\n",
        "plt.show()"
      ],
      "metadata": {
        "colab": {
          "base_uri": "https://localhost:8080/",
          "height": 480
        },
        "id": "b17WE-BGMFK1",
        "outputId": "5a4d81bb-db8e-45cf-f073-3b5df64f81ea"
      },
      "execution_count": null,
      "outputs": [
        {
          "output_type": "display_data",
          "data": {
            "text/plain": [
              "<Figure size 576x576 with 6 Axes>"
            ],
            "image/png": "[encoded data removed]"
          },
          "metadata": {}
        }
      ]
    },
    {
      "cell_type": "code",
      "source": [
        "# Plot diagram box untuk kolom pay_amt_1 sampai pay_amt6 setelah handling outliers \n",
        "f, axes = plt.subplots(2, 3, figsize=(8, 8))\n",
        "sns.boxplot(y=\"pay_amt_1\", data=X_train_fs_ho, ax=axes[0,0], color='m')\n",
        "sns.boxplot(y=\"pay_amt_2\", data=X_train_fs_ho, ax=axes[0,1], color='m')\n",
        "sns.boxplot(y=\"pay_amt_3\", data=X_train_fs_ho, ax=axes[0,2], color='m')\n",
        "sns.boxplot(y=\"pay_amt_4\", data=X_train_fs_ho, ax=axes[1,0], color='m')\n",
        "sns.boxplot(y=\"pay_amt_5\", data=X_train_fs_ho, ax=axes[1,1], color='m')\n",
        "sns.boxplot(y=\"pay_amt_6\", data=X_train_fs_ho, ax=axes[1,2], color='m')\n",
        "plt.show()"
      ],
      "metadata": {
        "colab": {
          "base_uri": "https://localhost:8080/",
          "height": 469
        },
        "id": "q4aGefTvLi_4",
        "outputId": "ea084685-7450-4e31-8a13-1cb12e5c8452"
      },
      "execution_count": null,
      "outputs": [
        {
          "output_type": "display_data",
          "data": {
            "text/plain": [
              "<Figure size 576x576 with 6 Axes>"
            ],
            "image/png": "[encoded data removed]"
          },
          "metadata": {}
        }
      ]
    },
    {
      "cell_type": "markdown",
      "source": [
        "Terlihat jika tidak terdapat data outliers yg dianalisa dalam box diagram. Berikutnya, kita akan melakukan proses imputasi, scaling dan encoding menggunakan pipeline. Proses imputasi dan scaling dilakukan thd data numerik. Proses encoding dilakukan thd data kategorikal. Proses imputasi menggunakan SimpleImputer dgn strategy median, artinya missing values akan diganti oleh nilai median. Proses scaling menggunakan MinMaxScaler krn distribusi data adalah skewed. Proses encoding pada data kategorikal menggunakan OneHotEncoder (OHE) krn dapat mentransformasi label menjadi 0 atau 1, sehingga tidak mengakibatkan pembobotan saat nilai2 tsb diproses dalam modelling."
      ],
      "metadata": {
        "id": "g6-SpWt4Zvx3"
      }
    },
    {
      "cell_type": "code",
      "source": [
        "# Buat variabel numeric_features berisi nama kolom2 numerik\n",
        "numeric_features = ['limit_balance', 'age','bill_amt_1','bill_amt_2','bill_amt_3','bill_amt_4','bill_amt_5','bill_amt_6',\n",
        "                    'pay_amt_1','pay_amt_2','pay_amt_3','pay_amt_4','pay_amt_5','pay_amt_6']\n",
        "# Buat pipeline dgn nama numeric_transformer berisi step imputasi dan scaling\n",
        "numeric_transformer = Pipeline(steps=[\n",
        "    ('imputer', SimpleImputer(strategy='median')),  #SimpleImputer digunakan utk imputasi nilai missing values dan menggantinya dgn nilai median\n",
        "    ('scaler', MinMaxScaler())])  #MinMaxScaler digunakan untuk scaling krn berdasarkan boxplot terlihat jika bentuk distribusi data numerik adlh skewed\n",
        "\n",
        "# Buat variabel categorical_features berisi nama kolom2 kategorikal\n",
        "categorical_features = ['education_level','pay_0','pay_2','pay_3','pay_4','pay_5','pay_6']\n",
        "# Buat pipeline dgn nama numeric_transformer berisi step encoding\n",
        "categorical_transformer = OneHotEncoder(handle_unknown='ignore')  #OHE digunakan untuk encoding nilai kategorikal menjadi 0 atau 1. \n",
        "                                                                  #Penggunaan bilangan biner ini berguna untuk menghilangkan pembobotan seperti pada OrdinalEncoder atau LabelEncoder\n"
      ],
      "metadata": {
        "id": "2mfLzWuqRLW-"
      },
      "execution_count": null,
      "outputs": []
    },
    {
      "cell_type": "markdown",
      "source": [
        "Berikutnya, pipeline untuk data numerik dan kategorikal disatukan dalam fungsi ColumnTransformer yg di-assign ke dalam variabel preprocessor. Fungsi ColumnTransformer akan melakukan preprocessing data numerik dan kategorik secara sekaligus dgn membedakan treatment pada masing2 jenis data."
      ],
      "metadata": {
        "id": "eKuQ5NvMbEHe"
      }
    },
    {
      "cell_type": "code",
      "source": [
        "# Buat variabel preprocessor berisi fungsi ColumnTransformer utk melakukan preprocessing data numerik dan kategorik secara terpisah\n",
        "preprocessor = ColumnTransformer(\n",
        "    transformers=[\n",
        "        ('num', numeric_transformer, numeric_features),\n",
        "        ('cat', categorical_transformer, categorical_features)])"
      ],
      "metadata": {
        "id": "3eaXLCrc3Qqp"
      },
      "execution_count": null,
      "outputs": []
    },
    {
      "cell_type": "markdown",
      "source": [
        "# VI. Model Definition"
      ],
      "metadata": {
        "id": "1RWdFi0MqxBw"
      }
    },
    {
      "cell_type": "markdown",
      "source": [
        "Pendefinisian model akan dilakukan satu per satu pada masing2 model. Kemudian model tsb akan dimasukkan ke dalam pipeline bersama variabel preprocessor, agar data dapat menjalani proses preprocessing lalu training model secara berurutan. Masing2 model (kecuali Gaussian Naive Bayes) akan menggunakan bbrp kombinasi nilai hyperparameter. Dari kombinasi tsb akan dicari hyperparameter yg memberikan performance model terbaik. Proses optimasi ini menggunakan GridSearchCV. Kelebihan dari grid search dibandingkan random search adalah seluruh kombinasi hyperparameter akan diuji satu per satu, lalu kombinasi hyperparameter yg terbaik akan dipilih."
      ],
      "metadata": {
        "id": "AlGK-9ROcB6q"
      }
    },
    {
      "cell_type": "markdown",
      "source": [
        "LOGISTIC REGRESSION\n",
        "\n",
        "Model Logistic Regression di-definisikan sebagai log. "
      ],
      "metadata": {
        "id": "kEGO49-bcYTt"
      }
    },
    {
      "cell_type": "code",
      "source": [
        "# Mendefinisikan model Logistic Regression ke dalam variabel log\n",
        "log = LogisticRegression(random_state = 101)"
      ],
      "metadata": {
        "id": "Mryt5mCuZKMq"
      },
      "execution_count": null,
      "outputs": []
    },
    {
      "cell_type": "markdown",
      "source": [
        "Berikutnya, model Logistic Regression dimasukkan ke dalam pipeline"
      ],
      "metadata": {
        "id": "ZK-Uz74jcgWx"
      }
    },
    {
      "cell_type": "code",
      "source": [
        "# Buat pipeline berisi step preprocessing (preprocessor) lalu step Logistic Regression (log). Pipeline disimpan ke dalam variabel clf_log\n",
        "clf_log = Pipeline(steps=[('preprocessor', preprocessor),\n",
        "                      ('log', LogisticRegression())])\n"
      ],
      "metadata": {
        "id": "inCIC2lTYH2W"
      },
      "execution_count": null,
      "outputs": []
    },
    {
      "cell_type": "markdown",
      "source": [
        "Hyperparameter ditentukan sebagai penalty : l2 atau none, dan max_iter : 1000. Penalty menentukan regularisasi pada model regresi. l2 adalah ridge regularization. l1 (Lasso) tidak digunakan krn tidak terdapat pada model Logistic Regression. None berarti model regresi tdk dikenakan regularisasi. Sedangkan max_iteration menentukan maksimum batas iterasi yg dilakukan. Nilai max_iteration harus dinaikkan diatas nilai default utk mencegah error."
      ],
      "metadata": {
        "id": "20iSKSc_clXB"
      }
    },
    {
      "cell_type": "code",
      "source": [
        "# Buat variabel param_log berisi hyperparameter beserta value yang hendak dioptimasi \n",
        "param_log = {'log__penalty' : ['l2','none'],'log__max_iter' : [1000]}"
      ],
      "metadata": {
        "id": "Z2QoyjtPlWVs"
      },
      "execution_count": null,
      "outputs": []
    },
    {
      "cell_type": "markdown",
      "source": [
        "Proses grid search dilakukan pada pipeline clf_log berdasarkan kombinasi hyperparameter yg telah di-set. Angka cross-validation di-set di angka 5 (cv=5), artinya terdapat 5 fold validation set untuk menguji tingkat keabsahan model sebelum model diuji pada testing dataset."
      ],
      "metadata": {
        "id": "GIupJ-7keURe"
      }
    },
    {
      "cell_type": "code",
      "source": [
        "# Buat variabel grid_log berisi fungsi GridSearchCV untuk mencari hyperparameter dgn nilai optimal pada Logistic Regression. Set nilai cross-validation = 5\n",
        "grid_log = GridSearchCV(clf_log, param_log, cv=5)"
      ],
      "metadata": {
        "id": "NZu3kEL2lGog"
      },
      "execution_count": null,
      "outputs": []
    },
    {
      "cell_type": "markdown",
      "source": [
        "SUPPORT VECTOR MACHINE"
      ],
      "metadata": {
        "id": "ut3SNNCVlDan"
      }
    },
    {
      "cell_type": "markdown",
      "source": [
        "Alur proses utk model2 lain sama dgn model Logistic Regression. Berikutnya, model Support Vector Classifier (SVC) dimasukkan ke dalam variabel svm."
      ],
      "metadata": {
        "id": "E5Gv6U6pe331"
      }
    },
    {
      "cell_type": "code",
      "source": [
        "# Mendefinisikan model SVC ke dalam variabel svc\n",
        "svm = SVC(random_state = 101)"
      ],
      "metadata": {
        "id": "jVRnJw-TZRMU"
      },
      "execution_count": null,
      "outputs": []
    },
    {
      "cell_type": "markdown",
      "source": [
        "Model dimasukkan ke dalam pipeline"
      ],
      "metadata": {
        "id": "LcXqgu1lfCTf"
      }
    },
    {
      "cell_type": "code",
      "source": [
        "# Buat pipeline berisi step preprocessing (preprocessor) lalu step SVC (svm). Pipeline disimpan ke dalam variabel clf_svm\n",
        "clf_svm = Pipeline(steps=[('preprocessor', preprocessor),\n",
        "                      ('svm', SVC())])"
      ],
      "metadata": {
        "id": "hXzGx6iUYMIk"
      },
      "execution_count": null,
      "outputs": []
    },
    {
      "cell_type": "markdown",
      "source": [
        "Penentuan hyperparameter utk SVC adalah C=0.1, 1, 10; gamma: 0,1, 1, 10; kernel: rbf, linear, poly. C adalah hyperparameter utk regularisasi. Semakin besar nilai C, maka margin (jarak antara data point ke hyperplane) akan semakin kecil. Gamma menentukan seberapa banyak data point yg dapat mempengaruhi hyperplane. Semakin besar gamma, akan semakin sedikit data point yg dapat mempengaruhi hyperplane, sehingga hanya data point di sekitar hyperplane saja yg memiliki pengaruh. Kedua hyperparameter ini dipilih krn sangat penting dalam menentukan bentuk dan orientasi hyperplane. Sedangkan kernel merupakan fungsi untuk menentukan bentuk dan metode pemisahan oleh hyperplane. Kernel linear memiliki hyperplane linear dan polynomial memiliki hyperplane non-linear. Kernel rbf akan mentransformasi data ke dalam dimensi lebih tinggi sehingga persebaran data berbentuk lingkaran dapat dipisahkan."
      ],
      "metadata": {
        "id": "wxJEPKhZfGaz"
      }
    },
    {
      "cell_type": "code",
      "source": [
        "# Buat variabel param_svm berisi hyperparameter beserta value yang hendak dioptimasi \n",
        "param_svm = {'svm__C': [0.1, 1, 10],\n",
        "              'svm__gamma': [0.1, 1, 10],\n",
        "             'svm__kernel': ['rbf','linear','poly']}"
      ],
      "metadata": {
        "id": "du8XisyTl9XZ"
      },
      "execution_count": null,
      "outputs": []
    },
    {
      "cell_type": "markdown",
      "source": [
        "Lakukan optimasi hyperparameter grid search menggunakan cross-validation 5."
      ],
      "metadata": {
        "id": "QuzDFHBCh_ww"
      }
    },
    {
      "cell_type": "code",
      "source": [
        "# Buat variabel grid_svm berisi fungsi GridSearchCV untuk mencari hyperparameter dgn nilai optimal pada model SVC. Set nilai cross-validation = 5\n",
        "grid_svm = GridSearchCV(clf_svm, param_grid=param_svm, cv=5)"
      ],
      "metadata": {
        "id": "AbLRenHlmLBG"
      },
      "execution_count": null,
      "outputs": []
    },
    {
      "cell_type": "markdown",
      "source": [
        "DECISION TREE"
      ],
      "metadata": {
        "id": "lWj73V1ulHFO"
      }
    },
    {
      "cell_type": "markdown",
      "source": [
        "Berikutnya, model Decision Tree dimasukkan ke dalam variabel dtc"
      ],
      "metadata": {
        "id": "3gQaZ3euiJnt"
      }
    },
    {
      "cell_type": "code",
      "source": [
        "# Mendefinisikan model Decision Tree ke dalam variabel dtc\n",
        "dtc = DecisionTreeClassifier(random_state = 101)"
      ],
      "metadata": {
        "id": "sx4Y4SaPYp1U"
      },
      "execution_count": null,
      "outputs": []
    },
    {
      "cell_type": "markdown",
      "source": [
        "Model dimasukkan ke dalam pipeline"
      ],
      "metadata": {
        "id": "HTTeisKTinLD"
      }
    },
    {
      "cell_type": "code",
      "source": [
        "# Buat pipeline berisi step preprocessing (preprocessor) lalu step Decision Tree (dtc). Pipeline disimpan ke dalam variabel clf_dtc\n",
        "clf_dtc = Pipeline(steps=[('preprocessor', preprocessor),\n",
        "                      ('dtc', DecisionTreeClassifier())])"
      ],
      "metadata": {
        "id": "f8jc4Fh7aOuS"
      },
      "execution_count": null,
      "outputs": []
    },
    {
      "cell_type": "markdown",
      "source": [
        "Hyperparameter untuk model Decision Tree ditentukan sebagai Criterion: Gini, Entropy dan max_depth: range antara 5 dan 100 dgn step 5. Criterion menentukan fitur yg digunakan saat pohon melakukan proses splitting. Criterion Gini berarti pohon akan memilih fitur berdasarkan Gini Index terendah. Criterion Entropy berarti pohon akan memilih fitur berdasarkan pertambahan informasi yg dihitung dari selisih nilai entropi. Criterion dipilih karena sangat menentukan strategi pohon dalam membuat keputusan. Sedangkan max_depth adalah jarak antara root dan leaf terakhir. Max_depth berguna utk membatasi tingkat percabangan pohon sehingga model dapat di-running secara lbh efisien."
      ],
      "metadata": {
        "id": "6THld4uui26H"
      }
    },
    {
      "cell_type": "code",
      "source": [
        "# Buat variabel param_dtc berisi hyperparameter beserta value yang hendak dioptimasi \n",
        "param_dtc = {'dtc__criterion':['gini','entropy'],'dtc__max_depth':list(range(5,101,5))}"
      ],
      "metadata": {
        "id": "BriXBdMAnsFJ"
      },
      "execution_count": null,
      "outputs": []
    },
    {
      "cell_type": "markdown",
      "source": [
        "Lakukan optimasi hyperparameter grid search menggunakan cross-validation 5."
      ],
      "metadata": {
        "id": "yk8-EbfCkqTw"
      }
    },
    {
      "cell_type": "code",
      "source": [
        "# Buat variabel grid_dtc berisi fungsi GridSearchCV untuk mencari hyperparameter dgn nilai optimal pada model Decision Tree. Set nilai cross-validation = 5\n",
        "grid_dtc = GridSearchCV(clf_dtc, param_grid=param_dtc, cv=5)"
      ],
      "metadata": {
        "id": "scuMWWvPo90d"
      },
      "execution_count": null,
      "outputs": []
    },
    {
      "cell_type": "markdown",
      "source": [
        "RANDOM FOREST"
      ],
      "metadata": {
        "id": "vyZgWu5ElJZa"
      }
    },
    {
      "cell_type": "markdown",
      "source": [
        "Berikutnya, model Random Forest dimasukkan ke dalam variabel rfc."
      ],
      "metadata": {
        "id": "G64ADQINks_J"
      }
    },
    {
      "cell_type": "code",
      "source": [
        "# Mendefinisikan model Random Forest ke dalam variabel rfc\n",
        "rfc = RandomForestClassifier(random_state = 101)"
      ],
      "metadata": {
        "id": "ZGA-oMIcaaLW"
      },
      "execution_count": null,
      "outputs": []
    },
    {
      "cell_type": "markdown",
      "source": [
        "Model dimasukkan ke dalam pipeline"
      ],
      "metadata": {
        "id": "qz6bgS-9wJoE"
      }
    },
    {
      "cell_type": "code",
      "source": [
        "# Buat pipeline berisi step preprocessing (preprocessor) lalu step Random Forest (rfc). Pipeline disimpan ke dalam variabel clf_rfc\n",
        "clf_rfc = Pipeline(steps=[('preprocessor', preprocessor),\n",
        "                      ('rfc', RandomForestClassifier())])"
      ],
      "metadata": {
        "id": "Gzzymv2XahI7"
      },
      "execution_count": null,
      "outputs": []
    },
    {
      "cell_type": "markdown",
      "source": [
        "Hyperparameter untuk model Random Forest ditentukan sebagai Criterion: gini, entropy, max_depth: 5, 10 ; n_estimators: 50, 100. Random Forest terdiri dari banyak pohon Decision Tree. Jumlah pohon tsb dapat di-set oleh n_estimators. Banyak pohon dapat memperbaiki performance model, namun memperlama computation time. Sehingga hyperparameter n_estimators akan dioptimasi pada laporan ini. Alasan penggunaan hyperparameter criterion dan max_depth sama dengan model Decision Tree."
      ],
      "metadata": {
        "id": "kyiq65gMwY4S"
      }
    },
    {
      "cell_type": "code",
      "source": [
        "# Buat variabel param_rfc berisi hyperparameter beserta value yang hendak dioptimasi \n",
        "param_rfc = { \n",
        "    'rfc__n_estimators': [50, 100],\n",
        "    'rfc__max_depth' : [5,10],\n",
        "    'rfc__criterion' :['gini', 'entropy']}"
      ],
      "metadata": {
        "id": "8JG0RLc9o4Ly"
      },
      "execution_count": null,
      "outputs": []
    },
    {
      "cell_type": "markdown",
      "source": [
        "Lakukan optimasi hyperparameter grid search menggunakan cross-validation 5."
      ],
      "metadata": {
        "id": "KRPQbeSvxDwT"
      }
    },
    {
      "cell_type": "code",
      "source": [
        "# Buat variabel grid_rfc berisi fungsi GridSearchCV untuk mencari hyperparameter dgn nilai optimal pada model Random Forest. Set nilai cross-validation = 5\n",
        "grid_rfc = GridSearchCV(clf_rfc, param_grid=param_rfc, cv=5)"
      ],
      "metadata": {
        "id": "3Q0AvFzKpdYQ"
      },
      "execution_count": null,
      "outputs": []
    },
    {
      "cell_type": "markdown",
      "source": [
        "K-NEAREST NEIGHBORS"
      ],
      "metadata": {
        "id": "PwenHm5SlLOU"
      }
    },
    {
      "cell_type": "markdown",
      "source": [
        "Berikutnya, model k-Nearest Neighbors dimasukkan ke dalam variabel knn."
      ],
      "metadata": {
        "id": "WIjQVSKzxGMC"
      }
    },
    {
      "cell_type": "code",
      "source": [
        "# Mendefinisikan model k-Nearest Neighbors ke dalam variabel knn\n",
        "knn = KNeighborsClassifier()"
      ],
      "metadata": {
        "id": "Gg9cXARIazg8"
      },
      "execution_count": null,
      "outputs": []
    },
    {
      "cell_type": "markdown",
      "source": [
        "Model dimasukkan ke dalam pipeline"
      ],
      "metadata": {
        "id": "D-lBvCYwxNb3"
      }
    },
    {
      "cell_type": "code",
      "source": [
        "# Buat pipeline berisi step preprocessing (preprocessor) lalu step K-Nearest Neighbors (knn). Pipeline disimpan ke dalam variabel clf_knn\n",
        "clf_knn = Pipeline(steps=[('preprocessor', preprocessor),\n",
        "                      ('knn', KNeighborsClassifier())])"
      ],
      "metadata": {
        "id": "IlfztTXlbAf7"
      },
      "execution_count": null,
      "outputs": []
    },
    {
      "cell_type": "markdown",
      "source": [
        "Hyperparameter yg akan di-tuning adalah n_neighbors dgn range 1-20. n_neighbors dipilih krn menentukan jumlah tetangga terdekat pada data point baru yg ingin di-klasifikasi sehingga berpengaruh besar pada decision boundary. "
      ],
      "metadata": {
        "id": "qKSHk9sGxRzB"
      }
    },
    {
      "cell_type": "code",
      "source": [
        "# Buat variabel param_knn berisi hyperparameter beserta value yang hendak dioptimasi \n",
        "param_knn = {'knn__n_neighbors': list(range(1,21))}"
      ],
      "metadata": {
        "id": "jIYQBvYhqGiq"
      },
      "execution_count": null,
      "outputs": []
    },
    {
      "cell_type": "markdown",
      "source": [
        "Lakukan optimasi hyperparameter grid search menggunakan cross-validation 5."
      ],
      "metadata": {
        "id": "FxANLkDPzdWl"
      }
    },
    {
      "cell_type": "code",
      "source": [
        "# Buat variabel grid_knn berisi fungsi GridSearchCV untuk mencari hyperparameter dgn nilai optimal pada K-Nearest Neighbors. Set nilai cross-validation = 5\n",
        "grid_knn = GridSearchCV(clf_knn, param_grid=param_knn, cv=5)"
      ],
      "metadata": {
        "id": "KyN0S5ykqWiH"
      },
      "execution_count": null,
      "outputs": []
    },
    {
      "cell_type": "markdown",
      "source": [
        "GAUSSIAN NAIVE BAYES"
      ],
      "metadata": {
        "id": "MUOhhQJalNMn"
      }
    },
    {
      "cell_type": "markdown",
      "source": [
        "Model Gaussian Naive Bayes dimasukkan ke dalam variabel gnb."
      ],
      "metadata": {
        "id": "L-wAUuGlznh6"
      }
    },
    {
      "cell_type": "code",
      "source": [
        "# Mendefinisikan model Gaussian Naive Bayes ke dalam variabel gnb\n",
        "gnb = GaussianNB()"
      ],
      "metadata": {
        "id": "T5xPk4JabsDp"
      },
      "execution_count": null,
      "outputs": []
    },
    {
      "cell_type": "markdown",
      "source": [
        "Model Gaussian Naive Bayes tdk melalui proses hyperparameter tuning krn tidak memiliki hyperparameter utk dioptimasi. Selanjutnya, model langsung dimasukkan ke dalam pipeline"
      ],
      "metadata": {
        "id": "Vnp58IGUzzOY"
      }
    },
    {
      "cell_type": "code",
      "source": [
        "# Buat pipeline berisi step preprocessing (preprocessor) lalu step Gaussian Naive Bayes (gnb). Pipeline disimpan ke dalam variabel clf_gnb\n",
        "clf_gnb = Pipeline(steps=[('preprocessor', preprocessor),\n",
        "                      ('gnb', GaussianNB())])"
      ],
      "metadata": {
        "id": "gu3Sz2GtbtfY"
      },
      "execution_count": null,
      "outputs": []
    },
    {
      "cell_type": "markdown",
      "source": [
        "XGBOOST"
      ],
      "metadata": {
        "id": "jIL5gSSflOzO"
      }
    },
    {
      "cell_type": "markdown",
      "source": [
        "Model XGBoost dimasukkan ke dalam variabel xbs. Model XGBoost dipilih sebagai algoritma machine learning alternatif dalam laporan ini krn: \n",
        "\n",
        "1. Model ini sangat populer di kompetisi Kaggle dan dunia industri\n",
        "\n",
        "2. XGBoost menggunakan algoritma gradient boosting utk problem klasifikasi dan regresi serta memiliki performance cukup baik dan computing time cukup cepat dibanding model2 sejenis"
      ],
      "metadata": {
        "id": "UzM_y70t0hBG"
      }
    },
    {
      "cell_type": "code",
      "source": [
        "# Mendefinisikan model XGBoost ke dalam variabel xgb\n",
        "xbs = xgb.XGBClassifier(random_state = 101)"
      ],
      "metadata": {
        "id": "5iruybflb733"
      },
      "execution_count": null,
      "outputs": []
    },
    {
      "cell_type": "markdown",
      "source": [
        "Model dimasukkan ke dalam pipeline"
      ],
      "metadata": {
        "id": "j35bwY3j1kPu"
      }
    },
    {
      "cell_type": "code",
      "source": [
        "# Buat pipeline berisi step preprocessing (preprocessor) lalu step XGBoost (xbs). Pipeline disimpan ke dalam variabel clf_xbs\n",
        "clf_xbs = Pipeline(steps=[('preprocessor', preprocessor),\n",
        "                      ('xbs', xgb.XGBClassifier())])"
      ],
      "metadata": {
        "id": "-BDkyzfFb70w"
      },
      "execution_count": null,
      "outputs": []
    },
    {
      "cell_type": "markdown",
      "source": [
        "Hyperparameter yg akan di-tuning adalah max_depth dgn range 2-10 dan step 2; min_child_weight dgn range 2-10 dan step 2; learning_rate : 0.1, 0.2. max_depth adalah tingkat kedalaman pohon, sama halnya dgn pohon pada model Decision Tree. learning_rate adalah kecepatan model XGBoost dalam belajar. Parameter ini menentukan jumlah pohon baru yg ditambahkan kepada model utk mengkoreksi error dari urutan pohon sebelumnya. Semakin kecil learning_rate, diperlukan semakin banyak pohon baru utk ditambahkan. Hasilnya performance model dapat semakin bagus namun computation time semakin lama"
      ],
      "metadata": {
        "id": "Uhl0piGA1np6"
      }
    },
    {
      "cell_type": "code",
      "source": [
        "# Buat variabel param_xbs berisi hyperparameter beserta value yang hendak dioptimasi \n",
        "param_xbs = {'xbs__max_depth': list(range(2,11,2)),\n",
        "             'xbs__learning_rate': [0.1,0.2]}"
      ],
      "metadata": {
        "id": "xJu6wYiRsJCl"
      },
      "execution_count": null,
      "outputs": []
    },
    {
      "cell_type": "markdown",
      "source": [
        "Lakukan optimasi hyperparameter grid search menggunakan cross-validation 5."
      ],
      "metadata": {
        "id": "zcXCT11m5gAN"
      }
    },
    {
      "cell_type": "code",
      "source": [
        "# Buat variabel grid_xbs yg berisi fungsi GridSearchCV untuk mencari hyperparameter dgn nilai optimal pada XGBoost. Set nilai cross-validation = 5\n",
        "grid_xbs = GridSearchCV(clf_xbs, param_grid=param_xbs, cv=5)"
      ],
      "metadata": {
        "id": "UDVtGBaIBlpe"
      },
      "execution_count": null,
      "outputs": []
    },
    {
      "cell_type": "markdown",
      "source": [
        "# VII. Model Training"
      ],
      "metadata": {
        "id": "U6_L7esOq1iE"
      }
    },
    {
      "cell_type": "markdown",
      "source": [
        "Pada bagian ini, masing2 model akan di-training pada dataset training fitur dan target. Kemudian, model hasil training akan digunakan untuk memprediksi dataset training dan testing fitur. Supaya analisa semakin lengkap, perbandingan antara based model dgn model hasil tuning hyperparameter (tuned model) akan disajikan\n",
        "\n"
      ],
      "metadata": {
        "id": "3lXpSqeNrVg7"
      }
    },
    {
      "cell_type": "markdown",
      "source": [
        "# Base Model"
      ],
      "metadata": {
        "id": "VVSb5ginpuIY"
      }
    },
    {
      "cell_type": "markdown",
      "source": [
        "Base model akan dibuat menggunakan pipeline masing2 model tanpa melalui grid search. Base model ini selanjutnya akan digunakan utk memprediksi training set dan test set."
      ],
      "metadata": {
        "id": "wnLtAQknqLaO"
      }
    },
    {
      "cell_type": "code",
      "source": [
        "base_log = clf_log.fit(X_train_fs_ho, y_train)"
      ],
      "metadata": {
        "id": "AlDqXBq4NQlo"
      },
      "execution_count": null,
      "outputs": []
    },
    {
      "cell_type": "code",
      "source": [
        "y_base_pred_train_log = base_log.predict(X_train_fs_ho)\n",
        "y_base_pred_test_log = base_log.predict(X_test_fs_ho)"
      ],
      "metadata": {
        "id": "rTQebCCQOfbS"
      },
      "execution_count": null,
      "outputs": []
    },
    {
      "cell_type": "code",
      "source": [
        "base_svm = clf_svm.fit(X_train_fs_ho, y_train)"
      ],
      "metadata": {
        "id": "S-AVONYaN6Zp"
      },
      "execution_count": null,
      "outputs": []
    },
    {
      "cell_type": "code",
      "source": [
        "y_base_pred_train_svm = base_svm.predict(X_train_fs_ho)\n",
        "y_base_pred_test_svm = base_svm.predict(X_test_fs_ho)"
      ],
      "metadata": {
        "id": "6sf9FUXjOoN-"
      },
      "execution_count": null,
      "outputs": []
    },
    {
      "cell_type": "code",
      "source": [
        "base_dtc = clf_dtc.fit(X_train_fs_ho, y_train)"
      ],
      "metadata": {
        "id": "sY4EanjFN-ia"
      },
      "execution_count": null,
      "outputs": []
    },
    {
      "cell_type": "code",
      "source": [
        "y_base_pred_train_dtc = base_dtc.predict(X_train_fs_ho)\n",
        "y_base_pred_test_dtc = base_dtc.predict(X_test_fs_ho)"
      ],
      "metadata": {
        "id": "PoeJCLaXOzNw"
      },
      "execution_count": null,
      "outputs": []
    },
    {
      "cell_type": "code",
      "source": [
        "base_rfc = clf_rfc.fit(X_train_fs_ho, y_train)"
      ],
      "metadata": {
        "id": "-rlVqBakOFFx"
      },
      "execution_count": null,
      "outputs": []
    },
    {
      "cell_type": "code",
      "source": [
        "y_base_pred_train_rfc = base_rfc.predict(X_train_fs_ho)\n",
        "y_base_pred_test_rfc = base_rfc.predict(X_test_fs_ho)"
      ],
      "metadata": {
        "id": "8ubP8nZsO5J5"
      },
      "execution_count": null,
      "outputs": []
    },
    {
      "cell_type": "code",
      "source": [
        "base_knn = clf_knn.fit(X_train_fs_ho, y_train)"
      ],
      "metadata": {
        "id": "hGDJjr9fOO1R"
      },
      "execution_count": null,
      "outputs": []
    },
    {
      "cell_type": "code",
      "source": [
        "y_base_pred_train_knn = base_knn.predict(X_train_fs_ho)\n",
        "y_base_pred_test_knn = base_knn.predict(X_test_fs_ho)"
      ],
      "metadata": {
        "id": "DrV82OtjO9EV"
      },
      "execution_count": null,
      "outputs": []
    },
    {
      "cell_type": "code",
      "source": [
        "base_xbs = clf_xbs.fit(X_train_fs_ho, y_train)"
      ],
      "metadata": {
        "id": "cRbx7r9QOUgj"
      },
      "execution_count": null,
      "outputs": []
    },
    {
      "cell_type": "code",
      "source": [
        "y_base_pred_train_xbs = base_xbs.predict(X_train_fs_ho)\n",
        "y_base_pred_test_xbs = base_xbs.predict(X_test_fs_ho)"
      ],
      "metadata": {
        "id": "_4YmPYnuPGec"
      },
      "execution_count": null,
      "outputs": []
    },
    {
      "cell_type": "markdown",
      "source": [
        "# Tuned Model"
      ],
      "metadata": {
        "id": "c36ehOydNIuJ"
      }
    },
    {
      "cell_type": "markdown",
      "source": [
        "Pada bagian ini, model akan melalui grid search untuk mencari hyperparameter terbaik. Proses pemodelan adalah training model pada training set fitur dan target, lalu prediksi."
      ],
      "metadata": {
        "id": "1NB4GnxOq2pw"
      }
    },
    {
      "cell_type": "markdown",
      "source": [
        "LOGISTIC REGRESSION "
      ],
      "metadata": {
        "id": "OPsofnCE-H7F"
      }
    },
    {
      "cell_type": "markdown",
      "source": [
        "Training model Logistic Regression pada training set fitur dan target"
      ],
      "metadata": {
        "id": "htQoCAPp-Xu4"
      }
    },
    {
      "cell_type": "code",
      "source": [
        "# Tampilkan CPU time dan Wall time\n",
        "%%time\n",
        "# Training model Logistic Regression dlm bentuk grid pipeline pada dataset training hasil feature selection dan handling outliers serta dataset target\n",
        "grid_log.fit(X_train_fs_ho, y_train)"
      ],
      "metadata": {
        "colab": {
          "base_uri": "https://localhost:8080/"
        },
        "id": "H2cU6xetwrDd",
        "outputId": "07b5e24a-af04-49e5-dcbb-45f2d7b4cc27"
      },
      "execution_count": null,
      "outputs": [
        {
          "output_type": "stream",
          "name": "stdout",
          "text": [
            "CPU times: user 1.8 s, sys: 1.33 s, total: 3.13 s\n",
            "Wall time: 1.7 s\n"
          ]
        },
        {
          "output_type": "execute_result",
          "data": {
            "text/plain": [
              "GridSearchCV(cv=5,\n",
              "             estimator=Pipeline(steps=[('preprocessor',\n",
              "                                        ColumnTransformer(transformers=[('num',\n",
              "                                                                         Pipeline(steps=[('imputer',\n",
              "                                                                                          SimpleImputer(strategy='median')),\n",
              "                                                                                         ('scaler',\n",
              "                                                                                          MinMaxScaler())]),\n",
              "                                                                         ['limit_balance',\n",
              "                                                                          'age',\n",
              "                                                                          'bill_amt_1',\n",
              "                                                                          'bill_amt_2',\n",
              "                                                                          'bill_amt_3',\n",
              "                                                                          'bill_amt_4',\n",
              "                                                                          'bill_amt_5',\n",
              "                                                                          'bill_amt_6',\n",
              "                                                                          'pay_amt_1',\n",
              "                                                                          'pay_amt_2',\n",
              "                                                                          'pay_amt_3',\n",
              "                                                                          'pay_amt_4',\n",
              "                                                                          'pay_amt_5',\n",
              "                                                                          'pay_amt_6']),\n",
              "                                                                        ('cat',\n",
              "                                                                         OneHotEncoder(handle_unknown='ignore'),\n",
              "                                                                         ['education_level',\n",
              "                                                                          'pay_0',\n",
              "                                                                          'pay_2',\n",
              "                                                                          'pay_3',\n",
              "                                                                          'pay_4',\n",
              "                                                                          'pay_5',\n",
              "                                                                          'pay_6'])])),\n",
              "                                       ('log', LogisticRegression())]),\n",
              "             param_grid={'log__max_iter': [1000],\n",
              "                         'log__penalty': ['l2', 'none']})"
            ]
          },
          "metadata": {},
          "execution_count": 76
        }
      ]
    },
    {
      "cell_type": "markdown",
      "source": [
        "Prediksi model Logistic Regression hasil training pada fitur set training dan testing"
      ],
      "metadata": {
        "id": "LnH9FLgY-hS1"
      }
    },
    {
      "cell_type": "code",
      "source": [
        "# Prediksi nilai target pada training set dan testing set menggunakan model Logistic Regression hasil training\n",
        "y_pred_train_log = grid_log.best_estimator_.predict(X_train_fs_ho)\n",
        "y_pred_test_log = grid_log.best_estimator_.predict(X_test_fs_ho)"
      ],
      "metadata": {
        "id": "fmRFDZeonvA9"
      },
      "execution_count": null,
      "outputs": []
    },
    {
      "cell_type": "markdown",
      "source": [
        "SUPPORT VECTOR MACHINE"
      ],
      "metadata": {
        "id": "OHLEjq-1-pkA"
      }
    },
    {
      "cell_type": "markdown",
      "source": [
        "Training model SVC pada training set fitur dan target"
      ],
      "metadata": {
        "id": "Ftd3BkR5-sW4"
      }
    },
    {
      "cell_type": "code",
      "source": [
        "%%time\n",
        "# Training model SVC dlm bentuk grid pipeline pada dataset training hasil feature selection dan handling outliers serta dataset target\n",
        "grid_svm.fit(X_train_fs_ho, y_train)"
      ],
      "metadata": {
        "colab": {
          "base_uri": "https://localhost:8080/"
        },
        "id": "iAP5mIORAluT",
        "outputId": "95438e6b-5aaa-421d-aad7-7ca1ad8999ca"
      },
      "execution_count": null,
      "outputs": [
        {
          "output_type": "stream",
          "name": "stdout",
          "text": [
            "CPU times: user 5min 49s, sys: 338 ms, total: 5min 49s\n",
            "Wall time: 6min 5s\n"
          ]
        },
        {
          "output_type": "execute_result",
          "data": {
            "text/plain": [
              "GridSearchCV(cv=5,\n",
              "             estimator=Pipeline(steps=[('preprocessor',\n",
              "                                        ColumnTransformer(transformers=[('num',\n",
              "                                                                         Pipeline(steps=[('imputer',\n",
              "                                                                                          SimpleImputer(strategy='median')),\n",
              "                                                                                         ('scaler',\n",
              "                                                                                          MinMaxScaler())]),\n",
              "                                                                         ['limit_balance',\n",
              "                                                                          'age',\n",
              "                                                                          'bill_amt_1',\n",
              "                                                                          'bill_amt_2',\n",
              "                                                                          'bill_amt_3',\n",
              "                                                                          'bill_amt_4',\n",
              "                                                                          'bill_amt_5',\n",
              "                                                                          'bill_amt_6',\n",
              "                                                                          'pay_amt_1',\n",
              "                                                                          'pay_amt_2',\n",
              "                                                                          'pay_amt_3',\n",
              "                                                                          'pay_amt_4',\n",
              "                                                                          'pay_amt_5',\n",
              "                                                                          'pay_amt_6']),\n",
              "                                                                        ('cat',\n",
              "                                                                         OneHotEncoder(handle_unknown='ignore'),\n",
              "                                                                         ['education_level',\n",
              "                                                                          'pay_0',\n",
              "                                                                          'pay_2',\n",
              "                                                                          'pay_3',\n",
              "                                                                          'pay_4',\n",
              "                                                                          'pay_5',\n",
              "                                                                          'pay_6'])])),\n",
              "                                       ('svm', SVC())]),\n",
              "             param_grid={'svm__C': [0.1, 1, 10], 'svm__gamma': [0.1, 1, 10],\n",
              "                         'svm__kernel': ['rbf', 'linear', 'poly']})"
            ]
          },
          "metadata": {},
          "execution_count": 78
        }
      ]
    },
    {
      "cell_type": "markdown",
      "source": [
        "Prediksi model SVC hasil training pada fitur set training dan testing"
      ],
      "metadata": {
        "id": "wFi86ldz-wYR"
      }
    },
    {
      "cell_type": "code",
      "source": [
        "# Prediksi nilai target pada training set dan testing set menggunakan model SVC hasil training\n",
        "y_pred_train_svm = grid_svm.best_estimator_.predict(X_train_fs_ho)\n",
        "y_pred_test_svm = grid_svm.best_estimator_.predict(X_test_fs_ho)"
      ],
      "metadata": {
        "id": "V6e6jblWpPCZ"
      },
      "execution_count": null,
      "outputs": []
    },
    {
      "cell_type": "markdown",
      "source": [
        "DECISION TREE"
      ],
      "metadata": {
        "id": "TXBJyiij-5nT"
      }
    },
    {
      "cell_type": "markdown",
      "source": [
        "Training model Decision Tree pada training set fitur dan target"
      ],
      "metadata": {
        "id": "r-iyU5h5--K-"
      }
    },
    {
      "cell_type": "code",
      "source": [
        "%%time\n",
        "# Training model Decision Tree dlm bentuk grid pipeline pada dataset training hasil feature selection dan handling outliers serta dataset target\n",
        "grid_dtc.fit(X_train_fs_ho, y_train)"
      ],
      "metadata": {
        "colab": {
          "base_uri": "https://localhost:8080/"
        },
        "id": "GsrjtvVgBQW8",
        "outputId": "3d63b930-b0ab-4c42-c893-49edb8548960"
      },
      "execution_count": null,
      "outputs": [
        {
          "output_type": "stream",
          "name": "stdout",
          "text": [
            "CPU times: user 11.9 s, sys: 40.9 ms, total: 11.9 s\n",
            "Wall time: 12 s\n"
          ]
        },
        {
          "output_type": "execute_result",
          "data": {
            "text/plain": [
              "GridSearchCV(cv=5,\n",
              "             estimator=Pipeline(steps=[('preprocessor',\n",
              "                                        ColumnTransformer(transformers=[('num',\n",
              "                                                                         Pipeline(steps=[('imputer',\n",
              "                                                                                          SimpleImputer(strategy='median')),\n",
              "                                                                                         ('scaler',\n",
              "                                                                                          MinMaxScaler())]),\n",
              "                                                                         ['limit_balance',\n",
              "                                                                          'age',\n",
              "                                                                          'bill_amt_1',\n",
              "                                                                          'bill_amt_2',\n",
              "                                                                          'bill_amt_3',\n",
              "                                                                          'bill_amt_4',\n",
              "                                                                          'bill_amt_5',\n",
              "                                                                          'bill_amt_6',\n",
              "                                                                          'pay_amt_1',\n",
              "                                                                          'pay_amt_2',\n",
              "                                                                          'pay_amt_3',\n",
              "                                                                          'pay_amt_4',\n",
              "                                                                          'pay_amt_5',\n",
              "                                                                          'pay_amt_6']),\n",
              "                                                                        ('cat',\n",
              "                                                                         OneHotEncoder(handle_unknown='ignore'),\n",
              "                                                                         ['education_level',\n",
              "                                                                          'pay_0',\n",
              "                                                                          'pay_2',\n",
              "                                                                          'pay_3',\n",
              "                                                                          'pay_4',\n",
              "                                                                          'pay_5',\n",
              "                                                                          'pay_6'])])),\n",
              "                                       ('dtc', DecisionTreeClassifier())]),\n",
              "             param_grid={'dtc__criterion': ['gini', 'entropy'],\n",
              "                         'dtc__max_depth': [5, 10, 15, 20, 25, 30, 35, 40, 45,\n",
              "                                            50, 55, 60, 65, 70, 75, 80, 85, 90,\n",
              "                                            95, 100]})"
            ]
          },
          "metadata": {},
          "execution_count": 80
        }
      ]
    },
    {
      "cell_type": "markdown",
      "source": [
        "Prediksi model Decision Tree pada training dan testing set fitur "
      ],
      "metadata": {
        "id": "w_bMvkJo_B85"
      }
    },
    {
      "cell_type": "code",
      "source": [
        "# Prediksi nilai target pada training set dan testing set menggunakan model Decision Tree hasil training\n",
        "y_pred_train_dtc = grid_dtc.best_estimator_.predict(X_train_fs_ho)\n",
        "y_pred_test_dtc = grid_dtc.best_estimator_.predict(X_test_fs_ho)"
      ],
      "metadata": {
        "id": "U-JraxE3pY_A"
      },
      "execution_count": null,
      "outputs": []
    },
    {
      "cell_type": "markdown",
      "source": [
        "RANDOM FOREST"
      ],
      "metadata": {
        "id": "_sqsLOX8_KIW"
      }
    },
    {
      "cell_type": "markdown",
      "source": [
        "Training model Random Forest pada training set fitur dan target"
      ],
      "metadata": {
        "id": "bIZ9nuU1_LZF"
      }
    },
    {
      "cell_type": "code",
      "source": [
        "%%time\n",
        "# Training model Random Forest dlm bentuk grid pipeline pada dataset training hasil feature selection dan handling outliers serta dataset target\n",
        "grid_rfc.fit(X_train_fs_ho, y_train)"
      ],
      "metadata": {
        "colab": {
          "base_uri": "https://localhost:8080/"
        },
        "id": "9lqkyr97BW2B",
        "outputId": "4ee17e4a-c48b-4c8a-997e-688e5eeb53e9"
      },
      "execution_count": null,
      "outputs": [
        {
          "output_type": "stream",
          "name": "stdout",
          "text": [
            "CPU times: user 12.8 s, sys: 40.8 ms, total: 12.9 s\n",
            "Wall time: 13 s\n"
          ]
        },
        {
          "output_type": "execute_result",
          "data": {
            "text/plain": [
              "GridSearchCV(cv=5,\n",
              "             estimator=Pipeline(steps=[('preprocessor',\n",
              "                                        ColumnTransformer(transformers=[('num',\n",
              "                                                                         Pipeline(steps=[('imputer',\n",
              "                                                                                          SimpleImputer(strategy='median')),\n",
              "                                                                                         ('scaler',\n",
              "                                                                                          MinMaxScaler())]),\n",
              "                                                                         ['limit_balance',\n",
              "                                                                          'age',\n",
              "                                                                          'bill_amt_1',\n",
              "                                                                          'bill_amt_2',\n",
              "                                                                          'bill_amt_3',\n",
              "                                                                          'bill_amt_4',\n",
              "                                                                          'bill_amt_5',\n",
              "                                                                          'bill_amt_6',\n",
              "                                                                          'pay_amt_1',\n",
              "                                                                          'pay_amt_2',\n",
              "                                                                          'pay_amt_3',\n",
              "                                                                          'pay_amt_4',\n",
              "                                                                          'pay_amt_5',\n",
              "                                                                          'pay_amt_6']),\n",
              "                                                                        ('cat',\n",
              "                                                                         OneHotEncoder(handle_unknown='ignore'),\n",
              "                                                                         ['education_level',\n",
              "                                                                          'pay_0',\n",
              "                                                                          'pay_2',\n",
              "                                                                          'pay_3',\n",
              "                                                                          'pay_4',\n",
              "                                                                          'pay_5',\n",
              "                                                                          'pay_6'])])),\n",
              "                                       ('rfc', RandomForestClassifier())]),\n",
              "             param_grid={'rfc__criterion': ['gini', 'entropy'],\n",
              "                         'rfc__max_depth': [5, 10],\n",
              "                         'rfc__n_estimators': [50, 100]})"
            ]
          },
          "metadata": {},
          "execution_count": 82
        }
      ]
    },
    {
      "cell_type": "markdown",
      "source": [
        "Prediksi model Random Forest pada training dan testing set fitur "
      ],
      "metadata": {
        "id": "GIlcPySC_QgJ"
      }
    },
    {
      "cell_type": "code",
      "source": [
        "# Prediksi nilai target pada training set dan testing set menggunakan model Random Forest hasil training\n",
        "y_pred_train_rfc = grid_rfc.best_estimator_.predict(X_train_fs_ho)\n",
        "y_pred_test_rfc = grid_rfc.best_estimator_.predict(X_test_fs_ho)"
      ],
      "metadata": {
        "id": "KFLKIGENpf1S"
      },
      "execution_count": null,
      "outputs": []
    },
    {
      "cell_type": "markdown",
      "source": [
        "K-NEAREST NEIGHBORS"
      ],
      "metadata": {
        "id": "JHkhlc23_Yel"
      }
    },
    {
      "cell_type": "markdown",
      "source": [
        "Training model KNN pada training set fitur dan target"
      ],
      "metadata": {
        "id": "W2ppXPKp_bLv"
      }
    },
    {
      "cell_type": "code",
      "source": [
        "%%time\n",
        "# Training model k-Nearest Neigbors dlm bentuk grid pipeline pada dataset training hasil feature selection dan handling outliers serta dataset target\n",
        "grid_knn.fit(X_train_fs_ho, y_train)"
      ],
      "metadata": {
        "colab": {
          "base_uri": "https://localhost:8080/"
        },
        "id": "-3eJ13IsBhA1",
        "outputId": "236cc9a9-5793-4205-eef3-df51e92b1d9a"
      },
      "execution_count": null,
      "outputs": [
        {
          "output_type": "stream",
          "name": "stdout",
          "text": [
            "CPU times: user 7.74 s, sys: 5.69 s, total: 13.4 s\n",
            "Wall time: 6.89 s\n"
          ]
        },
        {
          "output_type": "execute_result",
          "data": {
            "text/plain": [
              "GridSearchCV(cv=5,\n",
              "             estimator=Pipeline(steps=[('preprocessor',\n",
              "                                        ColumnTransformer(transformers=[('num',\n",
              "                                                                         Pipeline(steps=[('imputer',\n",
              "                                                                                          SimpleImputer(strategy='median')),\n",
              "                                                                                         ('scaler',\n",
              "                                                                                          MinMaxScaler())]),\n",
              "                                                                         ['limit_balance',\n",
              "                                                                          'age',\n",
              "                                                                          'bill_amt_1',\n",
              "                                                                          'bill_amt_2',\n",
              "                                                                          'bill_amt_3',\n",
              "                                                                          'bill_amt_4',\n",
              "                                                                          'bill_amt_5',\n",
              "                                                                          'bill_amt_6',\n",
              "                                                                          'pay_amt_1',\n",
              "                                                                          'pay_amt_2',\n",
              "                                                                          'pay_amt_3',\n",
              "                                                                          'pay_amt_4',\n",
              "                                                                          'pay_amt_5',\n",
              "                                                                          'pay_amt_6']),\n",
              "                                                                        ('cat',\n",
              "                                                                         OneHotEncoder(handle_unknown='ignore'),\n",
              "                                                                         ['education_level',\n",
              "                                                                          'pay_0',\n",
              "                                                                          'pay_2',\n",
              "                                                                          'pay_3',\n",
              "                                                                          'pay_4',\n",
              "                                                                          'pay_5',\n",
              "                                                                          'pay_6'])])),\n",
              "                                       ('knn', KNeighborsClassifier())]),\n",
              "             param_grid={'knn__n_neighbors': [1, 2, 3, 4, 5, 6, 7, 8, 9, 10, 11,\n",
              "                                              12, 13, 14, 15, 16, 17, 18, 19,\n",
              "                                              20]})"
            ]
          },
          "metadata": {},
          "execution_count": 84
        }
      ]
    },
    {
      "cell_type": "markdown",
      "source": [
        "Prediksi model KNN pada training dan testing set fitur "
      ],
      "metadata": {
        "id": "UDr3aKfP_gg5"
      }
    },
    {
      "cell_type": "code",
      "source": [
        "# Prediksi nilai target pada training set dan testing set menggunak4an model k-Nearest Neighbors hasil training\n",
        "y_pred_train_knn = grid_knn.best_estimator_.predict(X_train_fs_ho)\n",
        "y_pred_test_knn = grid_knn.best_estimator_.predict(X_test_fs_ho)"
      ],
      "metadata": {
        "id": "JInOa-K2pmMk"
      },
      "execution_count": null,
      "outputs": []
    },
    {
      "cell_type": "markdown",
      "source": [
        "GAUSSIAN NAIVE BAYES "
      ],
      "metadata": {
        "id": "Ou0T2Zr1_jva"
      }
    },
    {
      "cell_type": "markdown",
      "source": [
        "Training model Gaussian Naive Bayes pada training set fitur dan target"
      ],
      "metadata": {
        "id": "llK5ocG1_pMP"
      }
    },
    {
      "cell_type": "code",
      "source": [
        "%%time\n",
        "# Training model Gaussian Naive Bayes pada dataset training hasil feature selection dan handling outliers serta dataset target. Store model hasil training ke dalam model_gnb\n",
        "gnb_model = clf_gnb.fit(X_train_fs_ho, y_train)"
      ],
      "metadata": {
        "colab": {
          "base_uri": "https://localhost:8080/"
        },
        "id": "__V4qOvVCSb1",
        "outputId": "cac66582-7583-4b91-9c49-cc71468744e3"
      },
      "execution_count": null,
      "outputs": [
        {
          "output_type": "stream",
          "name": "stdout",
          "text": [
            "CPU times: user 26.6 ms, sys: 17 ms, total: 43.6 ms\n",
            "Wall time: 27.1 ms\n"
          ]
        }
      ]
    },
    {
      "cell_type": "markdown",
      "source": [
        "Prediksi model Gaussian Naive Bayes pada training dan testing set fitur "
      ],
      "metadata": {
        "id": "Q8jExJ67_w5E"
      }
    },
    {
      "cell_type": "code",
      "source": [
        "# Prediksi nilai target pada training set dan testing set menggunakan model Gaussian Naive Bayes hasil training\n",
        "y_pred_train_gnb = gnb_model.predict(X_train_fs_ho)\n",
        "y_pred_test_gnb = gnb_model.predict(X_test_fs_ho)"
      ],
      "metadata": {
        "id": "mAUw7FmVpqT2"
      },
      "execution_count": null,
      "outputs": []
    },
    {
      "cell_type": "markdown",
      "source": [
        "XGBOOST"
      ],
      "metadata": {
        "id": "-PvQR1_Z_zaC"
      }
    },
    {
      "cell_type": "markdown",
      "source": [
        "Training model XGBoost pada training set fitur dan target"
      ],
      "metadata": {
        "id": "dMKaGtAu_4UG"
      }
    },
    {
      "cell_type": "code",
      "source": [
        "%%time\n",
        "# Training model XG Boost dlm bentuk grid pipeline pada dataset training hasil feature selection dan handling outliers serta dataset target\n",
        "grid_xbs.fit(X_train_fs_ho, y_train)"
      ],
      "metadata": {
        "colab": {
          "base_uri": "https://localhost:8080/"
        },
        "id": "rPgkJtAPCl1e",
        "outputId": "fb304457-20ff-495b-ae2d-1bc2a1e723ff"
      },
      "execution_count": null,
      "outputs": [
        {
          "output_type": "stream",
          "name": "stdout",
          "text": [
            "CPU times: user 26.6 s, sys: 122 ms, total: 26.7 s\n",
            "Wall time: 26.8 s\n"
          ]
        },
        {
          "output_type": "execute_result",
          "data": {
            "text/plain": [
              "GridSearchCV(cv=5,\n",
              "             estimator=Pipeline(steps=[('preprocessor',\n",
              "                                        ColumnTransformer(transformers=[('num',\n",
              "                                                                         Pipeline(steps=[('imputer',\n",
              "                                                                                          SimpleImputer(strategy='median')),\n",
              "                                                                                         ('scaler',\n",
              "                                                                                          MinMaxScaler())]),\n",
              "                                                                         ['limit_balance',\n",
              "                                                                          'age',\n",
              "                                                                          'bill_amt_1',\n",
              "                                                                          'bill_amt_2',\n",
              "                                                                          'bill_amt_3',\n",
              "                                                                          'bill_amt_4',\n",
              "                                                                          'bill_amt_5',\n",
              "                                                                          'bill_amt_6',\n",
              "                                                                          'pay_amt_1',\n",
              "                                                                          'pay_amt_2',\n",
              "                                                                          'pay_amt_3',\n",
              "                                                                          'pay_amt_4',\n",
              "                                                                          'pay_amt_5',\n",
              "                                                                          'pay_amt_6']),\n",
              "                                                                        ('cat',\n",
              "                                                                         OneHotEncoder(handle_unknown='ignore'),\n",
              "                                                                         ['education_level',\n",
              "                                                                          'pay_0',\n",
              "                                                                          'pay_2',\n",
              "                                                                          'pay_3',\n",
              "                                                                          'pay_4',\n",
              "                                                                          'pay_5',\n",
              "                                                                          'pay_6'])])),\n",
              "                                       ('xbs', XGBClassifier())]),\n",
              "             param_grid={'xbs__learning_rate': [0.1, 0.2],\n",
              "                         'xbs__max_depth': [2, 4, 6, 8, 10]})"
            ]
          },
          "metadata": {},
          "execution_count": 88
        }
      ]
    },
    {
      "cell_type": "markdown",
      "source": [
        "Prediksi model XGBoosr pada training dan testing set fitur"
      ],
      "metadata": {
        "id": "wmM-OabA_9ji"
      }
    },
    {
      "cell_type": "code",
      "source": [
        "# Prediksi nilai target pada training set dan testing set menggunakan model XGBoost hasil training\n",
        "y_pred_train_xbs = grid_xbs.best_estimator_.predict(X_train_fs_ho)\n",
        "y_pred_test_xbs = grid_xbs.best_estimator_.predict(X_test_fs_ho)"
      ],
      "metadata": {
        "id": "gr9MvhZSqJ6h"
      },
      "execution_count": null,
      "outputs": []
    },
    {
      "cell_type": "markdown",
      "source": [
        "Selanjutnya untuk mengukur dan membandingkan computation time masing2 model yg melalui hyperparameter tuning dibuatlah tabel berisi kolom CPU Time dan Wall Time"
      ],
      "metadata": {
        "id": "MpgAGf19AGD0"
      }
    },
    {
      "cell_type": "code",
      "source": [
        "# Buat tabel berisi list CPU time dan Wall time pada proses training masing2 model\n",
        "pd.DataFrame({'CPU Time' : ['1.8s','5min 49s','11.9s','12.8s','7.74s','26.6 ms','26.6s'],\n",
        "              'Wall Time': ['1.7s','6min 5s','12s','13s','6.89s','27.1 ms','26.8s'],\n",
        "                                        }, index=['Logistic Regression','SVM',\n",
        "                                                   'Decision Tree',\n",
        "                                                   'Random Forest',\n",
        "                                                   'K-Nearest Neighbors','Gaussian Naive Bayes',\n",
        "                                                   'XGBoost'])"
      ],
      "metadata": {
        "colab": {
          "base_uri": "https://localhost:8080/",
          "height": 269
        },
        "id": "KFEaXwfUPhcl",
        "outputId": "0e7ced97-33b0-4bf0-8084-459706f9099e"
      },
      "execution_count": null,
      "outputs": [
        {
          "output_type": "execute_result",
          "data": {
            "text/plain": [
              "                      CPU Time Wall Time\n",
              "Logistic Regression       1.8s      1.7s\n",
              "SVM                   5min 49s   6min 5s\n",
              "Decision Tree            11.9s       12s\n",
              "Random Forest            12.8s       13s\n",
              "K-Nearest Neighbors      7.74s     6.89s\n",
              "Gaussian Naive Bayes   26.6 ms   27.1 ms\n",
              "XGBoost                  26.6s     26.8s"
            ],
            "text/html": [
              "\n",
              "  <div id=\"df-2fa26620-c6d9-438b-9620-d2dd7fd6feda\">\n",
              "    <div class=\"colab-df-container\">\n",
              "      <div>\n",
              "<style scoped>\n",
              "    .dataframe tbody tr th:only-of-type {\n",
              "        vertical-align: middle;\n",
              "    }\n",
              "\n",
              "    .dataframe tbody tr th {\n",
              "        vertical-align: top;\n",
              "    }\n",
              "\n",
              "    .dataframe thead th {\n",
              "        text-align: right;\n",
              "    }\n",
              "</style>\n",
              "<table border=\"1\" class=\"dataframe\">\n",
              "  <thead>\n",
              "    <tr style=\"text-align: right;\">\n",
              "      <th></th>\n",
              "      <th>CPU Time</th>\n",
              "      <th>Wall Time</th>\n",
              "    </tr>\n",
              "  </thead>\n",
              "  <tbody>\n",
              "    <tr>\n",
              "      <th>Logistic Regression</th>\n",
              "      <td>1.8s</td>\n",
              "      <td>1.7s</td>\n",
              "    </tr>\n",
              "    <tr>\n",
              "      <th>SVM</th>\n",
              "      <td>5min 49s</td>\n",
              "      <td>6min 5s</td>\n",
              "    </tr>\n",
              "    <tr>\n",
              "      <th>Decision Tree</th>\n",
              "      <td>11.9s</td>\n",
              "      <td>12s</td>\n",
              "    </tr>\n",
              "    <tr>\n",
              "      <th>Random Forest</th>\n",
              "      <td>12.8s</td>\n",
              "      <td>13s</td>\n",
              "    </tr>\n",
              "    <tr>\n",
              "      <th>K-Nearest Neighbors</th>\n",
              "      <td>7.74s</td>\n",
              "      <td>6.89s</td>\n",
              "    </tr>\n",
              "    <tr>\n",
              "      <th>Gaussian Naive Bayes</th>\n",
              "      <td>26.6 ms</td>\n",
              "      <td>27.1 ms</td>\n",
              "    </tr>\n",
              "    <tr>\n",
              "      <th>XGBoost</th>\n",
              "      <td>26.6s</td>\n",
              "      <td>26.8s</td>\n",
              "    </tr>\n",
              "  </tbody>\n",
              "</table>\n",
              "</div>\n",
              "      <button class=\"colab-df-convert\" onclick=\"convertToInteractive('df-2fa26620-c6d9-438b-9620-d2dd7fd6feda')\"\n",
              "              title=\"Convert this dataframe to an interactive table.\"\n",
              "              style=\"display:none;\">\n",
              "        \n",
              "  <svg xmlns=\"http://www.w3.org/2000/svg\" height=\"24px\"viewBox=\"0 0 24 24\"\n",
              "       width=\"24px\">\n",
              "    <path d=\"M0 0h24v24H0V0z\" fill=\"none\"/>\n",
              "    <path d=\"M18.56 5.44l.94 2.06.94-2.06 2.06-.94-2.06-.94-.94-2.06-.94 2.06-2.06.94zm-11 1L8.5 8.5l.94-2.06 2.06-.94-2.06-.94L8.5 2.5l-.94 2.06-2.06.94zm10 10l.94 2.06.94-2.06 2.06-.94-2.06-.94-.94-2.06-.94 2.06-2.06.94z\"/><path d=\"M17.41 7.96l-1.37-1.37c-.4-.4-.92-.59-1.43-.59-.52 0-1.04.2-1.43.59L10.3 9.45l-7.72 7.72c-.78.78-.78 2.05 0 2.83L4 21.41c.39.39.9.59 1.41.59.51 0 1.02-.2 1.41-.59l7.78-7.78 2.81-2.81c.8-.78.8-2.07 0-2.86zM5.41 20L4 18.59l7.72-7.72 1.47 1.35L5.41 20z\"/>\n",
              "  </svg>\n",
              "      </button>\n",
              "      \n",
              "  <style>\n",
              "    .colab-df-container {\n",
              "      display:flex;\n",
              "      flex-wrap:wrap;\n",
              "      gap: 12px;\n",
              "    }\n",
              "\n",
              "    .colab-df-convert {\n",
              "      background-color: #E8F0FE;\n",
              "      border: none;\n",
              "      border-radius: 50%;\n",
              "      cursor: pointer;\n",
              "      display: none;\n",
              "      fill: #1967D2;\n",
              "      height: 32px;\n",
              "      padding: 0 0 0 0;\n",
              "      width: 32px;\n",
              "    }\n",
              "\n",
              "    .colab-df-convert:hover {\n",
              "      background-color: #E2EBFA;\n",
              "      box-shadow: 0px 1px 2px rgba(60, 64, 67, 0.3), 0px 1px 3px 1px rgba(60, 64, 67, 0.15);\n",
              "      fill: #174EA6;\n",
              "    }\n",
              "\n",
              "    [theme=dark] .colab-df-convert {\n",
              "      background-color: #3B4455;\n",
              "      fill: #D2E3FC;\n",
              "    }\n",
              "\n",
              "    [theme=dark] .colab-df-convert:hover {\n",
              "      background-color: #434B5C;\n",
              "      box-shadow: 0px 1px 3px 1px rgba(0, 0, 0, 0.15);\n",
              "      filter: drop-shadow(0px 1px 2px rgba(0, 0, 0, 0.3));\n",
              "      fill: #FFFFFF;\n",
              "    }\n",
              "  </style>\n",
              "\n",
              "      <script>\n",
              "        const buttonEl =\n",
              "          document.querySelector('#df-2fa26620-c6d9-438b-9620-d2dd7fd6feda button.colab-df-convert');\n",
              "        buttonEl.style.display =\n",
              "          google.colab.kernel.accessAllowed ? 'block' : 'none';\n",
              "\n",
              "        async function convertToInteractive(key) {\n",
              "          const element = document.querySelector('#df-2fa26620-c6d9-438b-9620-d2dd7fd6feda');\n",
              "          const dataTable =\n",
              "            await google.colab.kernel.invokeFunction('convertToInteractive',\n",
              "                                                     [key], {});\n",
              "          if (!dataTable) return;\n",
              "\n",
              "          const docLinkHtml = 'Like what you see? Visit the ' +\n",
              "            '<a target=\"_blank\" href=https://colab.research.google.com/notebooks/data_table.ipynb>data table notebook</a>'\n",
              "            + ' to learn more about interactive tables.';\n",
              "          element.innerHTML = '';\n",
              "          dataTable['output_type'] = 'display_data';\n",
              "          await google.colab.output.renderOutput(dataTable, element);\n",
              "          const docLink = document.createElement('div');\n",
              "          docLink.innerHTML = docLinkHtml;\n",
              "          element.appendChild(docLink);\n",
              "        }\n",
              "      </script>\n",
              "    </div>\n",
              "  </div>\n",
              "  "
            ]
          },
          "metadata": {},
          "execution_count": 167
        }
      ]
    },
    {
      "cell_type": "markdown",
      "source": [
        "Secara keseluruhan, algoritma Gaussian Naive Bayes mempunyai running time paling cepat (CPU = 26.6 ms, Wall = 27.1). Namun, hal ini dikarenakan fungsi grid search tidak diterapkan pada algoritma ini. Jika memperhitungkan tuning hyperparameter menggunakan grid search, model Logistic Regression mempunyai running time tercepat (CPU = 1.8s, Wall = 1.7s). Hal ini dikarenakan Logistic Regression merupakan model paling sederhana dibandingkan model machine learning lainnya. Selain itu, tuning hanya dilakukan pada parameter penalty. Model dgn running time terlama adalah SVM (CPU = 5min 49s, Wall = 6min 5s) dikarenakan terdapat 3 hyperparameter (C, gamma, kernel) dan 3 value utk masing2 hyperparameter tsb utk di-tuning, sehingga menghasilkan 27 kombinasi."
      ],
      "metadata": {
        "id": "sYTe2xtx_Sno"
      }
    },
    {
      "cell_type": "markdown",
      "source": [
        "# VIII. Model Evaluation"
      ],
      "metadata": {
        "id": "8u063mf8q51C"
      }
    },
    {
      "cell_type": "markdown",
      "source": [
        "Pada bagian ini, dilakukan evaluasi model utk menunjukkan bagaimana performa model berdasarkan metrics yang dipilih. Hal ini dibuktikan dengan visualisasi tren performa dan/atau tingkat kesalahan model."
      ],
      "metadata": {
        "id": "QVJ-8xNHrYC5"
      }
    },
    {
      "cell_type": "markdown",
      "source": [
        "Pertama, kita akan melihat kombinasi hyperparameter terbaik setelah proses tuning menggunakan grid search."
      ],
      "metadata": {
        "id": "fjj9pJLSAXlt"
      }
    },
    {
      "cell_type": "code",
      "source": [
        "# Print hasil hyperparameter terbaik untuk model Logistic Regression berdasarkan grid search\n",
        "print(\"Hyperparameter terbaik untuk Logistic Regression adalah: {}\".format(grid_log.best_params_))"
      ],
      "metadata": {
        "colab": {
          "base_uri": "https://localhost:8080/"
        },
        "id": "UO3h4G5NqQf5",
        "outputId": "d8cc7eb0-76b0-4404-e6a1-a8f8afcb5060"
      },
      "execution_count": null,
      "outputs": [
        {
          "output_type": "stream",
          "name": "stdout",
          "text": [
            "Hyperparameter terbaik untuk Logistic Regression adalah: {'log__max_iter': 1000, 'log__penalty': 'l2'}\n"
          ]
        }
      ]
    },
    {
      "cell_type": "markdown",
      "source": [
        "Ridge regularization (l2) meningkatkan performance model Logistic Regression pada kasus ini, dibandingkan tanpa regularisasi."
      ],
      "metadata": {
        "id": "bgk66hLkA92a"
      }
    },
    {
      "cell_type": "code",
      "source": [
        "# Print hasil hyperparameter terbaik untuk model SVC berdasarkan grid search\n",
        "print(\"Hyperparameter terbaik untuk SVM adalah: {}\".format(grid_svm.best_params_))"
      ],
      "metadata": {
        "colab": {
          "base_uri": "https://localhost:8080/"
        },
        "id": "FM26An9uqZuv",
        "outputId": "4f1e6c2d-bd6f-4c73-f85e-6cfee0ef4a45"
      },
      "execution_count": null,
      "outputs": [
        {
          "output_type": "stream",
          "name": "stdout",
          "text": [
            "Hyperparameter terbaik untuk SVM adalah: {'svm__C': 1, 'svm__gamma': 0.1, 'svm__kernel': 'rbf'}\n"
          ]
        }
      ]
    },
    {
      "cell_type": "markdown",
      "source": [
        "Kernel rbf dgn C=1 dan Gamma =0.1 adalah hyperparameter terbaik utk SVM. Berarti persebaran data berbentuk lingkaran sehingga lebih baik utk dipisahkan menggunakan decision boundary stlh data ditransform menuju dimensi lbh besar oleh kernel rbf. Gamma harus di-set dgn angka kecil (0.1) krn nilai gamma besar membuat decision boundary terlalu terkonsentrasi pada cluster tertentu."
      ],
      "metadata": {
        "id": "U1XyFVb3BHSm"
      }
    },
    {
      "cell_type": "code",
      "source": [
        "# Print hasil hyperparameter terbaik untuk model Decision Tree berdasarkan grid search\n",
        "print(\"Hyperparameter terbaik untuk Decision Tree adalah: {}\".format(grid_dtc.best_params_))"
      ],
      "metadata": {
        "colab": {
          "base_uri": "https://localhost:8080/"
        },
        "id": "TH-p9jhLqjJ3",
        "outputId": "80cfbb44-e078-4142-b08c-7b9f47e5a7d3"
      },
      "execution_count": null,
      "outputs": [
        {
          "output_type": "stream",
          "name": "stdout",
          "text": [
            "Hyperparameter terbaik untuk Decision Tree adalah: {'dtc__criterion': 'entropy', 'dtc__max_depth': 5}\n"
          ]
        }
      ]
    },
    {
      "cell_type": "markdown",
      "source": [
        "Kriteria entropy dgn kedalaman maksimum pohon adlh 5 adlh hyperparameter terbaik utk model Decision Tree. Hal ini berarti pohon dpt mengambil keputusan lbh baik menggunakan kriteria information gain dari tingkat keacakan informasi. Sedangkan kedalaman maksimum 5 menandakan model tdk memerlukan struktur percabangan pohon yg terlalu kompleks utk memberikan hasil terbaik."
      ],
      "metadata": {
        "id": "kTaWy3zPBwJa"
      }
    },
    {
      "cell_type": "code",
      "source": [
        "# Print hasil hyperparameter terbaik untuk model Random Forest berdasarkan grid search\n",
        "print(\"Hyperparameter terbaik untuk Random Forest adalah: {}\".format(grid_rfc.best_params_))"
      ],
      "metadata": {
        "colab": {
          "base_uri": "https://localhost:8080/"
        },
        "id": "gdNb6AaXqpUZ",
        "outputId": "9e075102-8dba-489b-c917-4edaf82220a1"
      },
      "execution_count": null,
      "outputs": [
        {
          "output_type": "stream",
          "name": "stdout",
          "text": [
            "Hyperparameter terbaik untuk Random Forest adalah: {'rfc__criterion': 'gini', 'rfc__max_depth': 10, 'rfc__n_estimators': 100}\n"
          ]
        }
      ]
    },
    {
      "cell_type": "markdown",
      "source": [
        "Kriteria gini dgn kedalaman max pohon adlh 10 dan n_estimators 100 adlh kombinasi hyperparameter terbaik utk Random Forest. Dalam hal kriteria, Random Forest berbeda dari Decision Tree krn menggunakan kriteria gini bagi pohon utk melakukan decision. Kriteria gini berarti pohon akan memutuskan fitur berdasarkan angka gini index yg mengukur probabilitas salah klasifikasi pada suatu fitur. Fitur dgn gini index yg lebih rendah akan dijadikan cabang bagi pohon. Kedalaman pohon (max_depth) lbh besar dibanding model Decision Tree dan n_estimators menandakan perlu 100 pohon dalam Random Forest utk menghasilkan model terbaik. Namun secara trade-off,semakin dalam pohon dan semakin banyak jumlah pohon bisa meningkatkan resiko overfitting pada training set dan computation time lbh lama. "
      ],
      "metadata": {
        "id": "xsbDKoEQCSFk"
      }
    },
    {
      "cell_type": "code",
      "source": [
        "# Print hasil hyperparameter terbaik untuk model KNN berdasarkan grid search\n",
        "print(\"Hyperparameter terbaik untuk K-Nearest Neighbor adalah: {}\".format(grid_knn.best_params_))"
      ],
      "metadata": {
        "colab": {
          "base_uri": "https://localhost:8080/"
        },
        "id": "V5XTscjlqyb-",
        "outputId": "ad913e9b-3d0a-43a2-feac-ece8fff10728"
      },
      "execution_count": null,
      "outputs": [
        {
          "output_type": "stream",
          "name": "stdout",
          "text": [
            "Hyperparameter terbaik untuk K-Nearest Neighbor adalah: {'knn__n_neighbors': 14}\n"
          ]
        }
      ]
    },
    {
      "cell_type": "markdown",
      "source": [
        "Jumlah tetangga terbaik utk model KNN adalah 14 dari range 1-20. "
      ],
      "metadata": {
        "id": "AcDhYYEuDCq1"
      }
    },
    {
      "cell_type": "code",
      "source": [
        "# Print hasil hyperparameter terbaik untuk model XGBoost berdasarkan grid search\n",
        "print(\"Hyperparameter terbaik untuk XGBoost adalah: {}\".format(grid_xbs.best_params_))"
      ],
      "metadata": {
        "colab": {
          "base_uri": "https://localhost:8080/"
        },
        "id": "f9sYA_u_q5yk",
        "outputId": "7f358c73-6cdf-44a7-b310-1ba2e0d88681"
      },
      "execution_count": null,
      "outputs": [
        {
          "output_type": "stream",
          "name": "stdout",
          "text": [
            "Hyperparameter terbaik untuk XGBoost adalah: {'xbs__learning_rate': 0.1, 'xbs__max_depth': 2}\n"
          ]
        }
      ]
    },
    {
      "cell_type": "markdown",
      "source": [
        "Hyperparameter terbaik utk XGBoost adlh learning rate = 0.1 dan max kedalaman pohon = 2. Max kedalaman pohon ini tdk lebih dalam dari model Decision Tree dan Random Forest, menandakan algoritma XGBoost dapat lbh efisien dibandingkan kedua model tsb. Umumnya, semakin kecil learning rate akan menghasilkan performance lebih baik, namun hal tsb juga akan meningkatkan computing time."
      ],
      "metadata": {
        "id": "f0vz8ym5DawW"
      }
    },
    {
      "cell_type": "markdown",
      "source": [
        "Selanjutnya, kita buat tabel mengenai accuracy score training dan testing set model2 dgn hyperparameter terbaik "
      ],
      "metadata": {
        "id": "OySoVtIbAkNW"
      }
    },
    {
      "cell_type": "code",
      "source": [
        "# Buat tabel mengenai summary hyperparameter terbaik masing2 model beserta skor accuracy pada training dan testing set\n",
        "summary_table = pd.DataFrame({'Best Hyperparameter': ['max_iter=1000,penalty=l2','C=1, gamma=0.1, kernel=rbf','criterion=entropy, max_depth=5',\n",
        "                                      'criterion=gini, max_depth=10, n_estimators=100','n_neighbors=14','',\n",
        "                                      'learning_rate=0.1, max_depth=2'],\n",
        "              'Accuracy Score (Train-Base)': [accuracy_score(y_train,y_base_pred_train_log), accuracy_score(y_train,y_base_pred_train_svm),\n",
        "                                        accuracy_score(y_train,y_base_pred_train_dtc), accuracy_score(y_train,y_base_pred_train_rfc),\n",
        "                                        accuracy_score(y_train,y_base_pred_train_knn), '',\n",
        "                                        accuracy_score(y_train,y_base_pred_train_xbs)], \n",
        "              'Accuracy Score (Test-Base)': [accuracy_score(y_test,y_base_pred_test_log), accuracy_score(y_test,y_base_pred_test_svm),\n",
        "                                       accuracy_score(y_train,y_base_pred_train_dtc), accuracy_score(y_test,y_base_pred_test_rfc),\n",
        "                                       accuracy_score(y_test,y_base_pred_test_knn), '',\n",
        "                                       accuracy_score(y_test,y_base_pred_test_xbs)],\n",
        "              'Accuracy Score (Train-Tuned)': [accuracy_score(y_train,y_pred_train_log), accuracy_score(y_train,y_pred_train_svm),\n",
        "                                        accuracy_score(y_train,y_pred_train_dtc), accuracy_score(y_train,y_pred_train_rfc),\n",
        "                                        accuracy_score(y_train,y_pred_train_knn), accuracy_score(y_train,y_pred_train_gnb),\n",
        "                                        accuracy_score(y_train,y_pred_train_xbs)], \n",
        "              'Accuracy Score (Test-Tuned)': [accuracy_score(y_test,y_pred_test_log), accuracy_score(y_test,y_pred_test_svm),\n",
        "                                       accuracy_score(y_test,y_pred_test_dtc), accuracy_score(y_test,y_pred_test_rfc),\n",
        "                                       accuracy_score(y_test,y_pred_test_knn), accuracy_score(y_test,y_pred_test_gnb),\n",
        "                                       accuracy_score(y_test,y_pred_test_xbs)\n",
        "                                        ]}, index=['Logistic Regression','SVM', 'Decision Tree','Random Forest',\n",
        "                                                   'K-Nearest Neighbors','Gaussian Naive Bayes', 'XGBoost'])\n",
        "# Pilih option untuk menampilkan maksimum lebar kolom = 80 agar semua isi kolom terbaca\n",
        "pd.set_option('display.max_colwidth',80)\n",
        "summary_table"
      ],
      "metadata": {
        "colab": {
          "base_uri": "https://localhost:8080/",
          "height": 400
        },
        "id": "4NJkaxZgrS2c",
        "outputId": "38403b53-a3fd-4ce1-d5c2-a118452a87e4"
      },
      "execution_count": null,
      "outputs": [
        {
          "output_type": "execute_result",
          "data": {
            "text/plain": [
              "                                                 Best Hyperparameter  \\\n",
              "Logistic Regression                         max_iter=1000,penalty=l2   \n",
              "SVM                                       C=1, gamma=0.1, kernel=rbf   \n",
              "Decision Tree                         criterion=entropy, max_depth=5   \n",
              "Random Forest         criterion=gini, max_depth=10, n_estimators=100   \n",
              "K-Nearest Neighbors                                   n_neighbors=14   \n",
              "Gaussian Naive Bayes                                                   \n",
              "XGBoost                               learning_rate=0.1, max_depth=2   \n",
              "\n",
              "                     Accuracy Score (Train-Base) Accuracy Score (Test-Base)  \\\n",
              "Logistic Regression                     0.836145                   0.839326   \n",
              "SVM                                     0.849639                   0.835955   \n",
              "Decision Tree                           0.999518                   0.999518   \n",
              "Random Forest                           0.999518                   0.829213   \n",
              "K-Nearest Neighbors                      0.85494                   0.821348   \n",
              "Gaussian Naive Bayes                                                          \n",
              "XGBoost                                 0.873735                   0.840449   \n",
              "\n",
              "                      Accuracy Score (Train-Tuned)  \\\n",
              "Logistic Regression                       0.836145   \n",
              "SVM                                       0.842892   \n",
              "Decision Tree                             0.853012   \n",
              "Random Forest                             0.914217   \n",
              "K-Nearest Neighbors                       0.839518   \n",
              "Gaussian Naive Bayes                      0.304096   \n",
              "XGBoost                                   0.851084   \n",
              "\n",
              "                      Accuracy Score (Test-Tuned)  \n",
              "Logistic Regression                      0.839326  \n",
              "SVM                                      0.834831  \n",
              "Decision Tree                            0.815730  \n",
              "Random Forest                            0.828090  \n",
              "K-Nearest Neighbors                      0.821348  \n",
              "Gaussian Naive Bayes                     0.321348  \n",
              "XGBoost                                  0.837079  "
            ],
            "text/html": [
              "\n",
              "  <div id=\"df-c0caf9ea-5f4d-4b36-8ded-34d87fcb7ed9\">\n",
              "    <div class=\"colab-df-container\">\n",
              "      <div>\n",
              "<style scoped>\n",
              "    .dataframe tbody tr th:only-of-type {\n",
              "        vertical-align: middle;\n",
              "    }\n",
              "\n",
              "    .dataframe tbody tr th {\n",
              "        vertical-align: top;\n",
              "    }\n",
              "\n",
              "    .dataframe thead th {\n",
              "        text-align: right;\n",
              "    }\n",
              "</style>\n",
              "<table border=\"1\" class=\"dataframe\">\n",
              "  <thead>\n",
              "    <tr style=\"text-align: right;\">\n",
              "      <th></th>\n",
              "      <th>Best Hyperparameter</th>\n",
              "      <th>Accuracy Score (Train-Base)</th>\n",
              "      <th>Accuracy Score (Test-Base)</th>\n",
              "      <th>Accuracy Score (Train-Tuned)</th>\n",
              "      <th>Accuracy Score (Test-Tuned)</th>\n",
              "    </tr>\n",
              "  </thead>\n",
              "  <tbody>\n",
              "    <tr>\n",
              "      <th>Logistic Regression</th>\n",
              "      <td>max_iter=1000,penalty=l2</td>\n",
              "      <td>0.836145</td>\n",
              "      <td>0.839326</td>\n",
              "      <td>0.836145</td>\n",
              "      <td>0.839326</td>\n",
              "    </tr>\n",
              "    <tr>\n",
              "      <th>SVM</th>\n",
              "      <td>C=1, gamma=0.1, kernel=rbf</td>\n",
              "      <td>0.849639</td>\n",
              "      <td>0.835955</td>\n",
              "      <td>0.842892</td>\n",
              "      <td>0.834831</td>\n",
              "    </tr>\n",
              "    <tr>\n",
              "      <th>Decision Tree</th>\n",
              "      <td>criterion=entropy, max_depth=5</td>\n",
              "      <td>0.999518</td>\n",
              "      <td>0.999518</td>\n",
              "      <td>0.853012</td>\n",
              "      <td>0.815730</td>\n",
              "    </tr>\n",
              "    <tr>\n",
              "      <th>Random Forest</th>\n",
              "      <td>criterion=gini, max_depth=10, n_estimators=100</td>\n",
              "      <td>0.999518</td>\n",
              "      <td>0.829213</td>\n",
              "      <td>0.914217</td>\n",
              "      <td>0.828090</td>\n",
              "    </tr>\n",
              "    <tr>\n",
              "      <th>K-Nearest Neighbors</th>\n",
              "      <td>n_neighbors=14</td>\n",
              "      <td>0.85494</td>\n",
              "      <td>0.821348</td>\n",
              "      <td>0.839518</td>\n",
              "      <td>0.821348</td>\n",
              "    </tr>\n",
              "    <tr>\n",
              "      <th>Gaussian Naive Bayes</th>\n",
              "      <td></td>\n",
              "      <td></td>\n",
              "      <td></td>\n",
              "      <td>0.304096</td>\n",
              "      <td>0.321348</td>\n",
              "    </tr>\n",
              "    <tr>\n",
              "      <th>XGBoost</th>\n",
              "      <td>learning_rate=0.1, max_depth=2</td>\n",
              "      <td>0.873735</td>\n",
              "      <td>0.840449</td>\n",
              "      <td>0.851084</td>\n",
              "      <td>0.837079</td>\n",
              "    </tr>\n",
              "  </tbody>\n",
              "</table>\n",
              "</div>\n",
              "      <button class=\"colab-df-convert\" onclick=\"convertToInteractive('df-c0caf9ea-5f4d-4b36-8ded-34d87fcb7ed9')\"\n",
              "              title=\"Convert this dataframe to an interactive table.\"\n",
              "              style=\"display:none;\">\n",
              "        \n",
              "  <svg xmlns=\"http://www.w3.org/2000/svg\" height=\"24px\"viewBox=\"0 0 24 24\"\n",
              "       width=\"24px\">\n",
              "    <path d=\"M0 0h24v24H0V0z\" fill=\"none\"/>\n",
              "    <path d=\"M18.56 5.44l.94 2.06.94-2.06 2.06-.94-2.06-.94-.94-2.06-.94 2.06-2.06.94zm-11 1L8.5 8.5l.94-2.06 2.06-.94-2.06-.94L8.5 2.5l-.94 2.06-2.06.94zm10 10l.94 2.06.94-2.06 2.06-.94-2.06-.94-.94-2.06-.94 2.06-2.06.94z\"/><path d=\"M17.41 7.96l-1.37-1.37c-.4-.4-.92-.59-1.43-.59-.52 0-1.04.2-1.43.59L10.3 9.45l-7.72 7.72c-.78.78-.78 2.05 0 2.83L4 21.41c.39.39.9.59 1.41.59.51 0 1.02-.2 1.41-.59l7.78-7.78 2.81-2.81c.8-.78.8-2.07 0-2.86zM5.41 20L4 18.59l7.72-7.72 1.47 1.35L5.41 20z\"/>\n",
              "  </svg>\n",
              "      </button>\n",
              "      \n",
              "  <style>\n",
              "    .colab-df-container {\n",
              "      display:flex;\n",
              "      flex-wrap:wrap;\n",
              "      gap: 12px;\n",
              "    }\n",
              "\n",
              "    .colab-df-convert {\n",
              "      background-color: #E8F0FE;\n",
              "      border: none;\n",
              "      border-radius: 50%;\n",
              "      cursor: pointer;\n",
              "      display: none;\n",
              "      fill: #1967D2;\n",
              "      height: 32px;\n",
              "      padding: 0 0 0 0;\n",
              "      width: 32px;\n",
              "    }\n",
              "\n",
              "    .colab-df-convert:hover {\n",
              "      background-color: #E2EBFA;\n",
              "      box-shadow: 0px 1px 2px rgba(60, 64, 67, 0.3), 0px 1px 3px 1px rgba(60, 64, 67, 0.15);\n",
              "      fill: #174EA6;\n",
              "    }\n",
              "\n",
              "    [theme=dark] .colab-df-convert {\n",
              "      background-color: #3B4455;\n",
              "      fill: #D2E3FC;\n",
              "    }\n",
              "\n",
              "    [theme=dark] .colab-df-convert:hover {\n",
              "      background-color: #434B5C;\n",
              "      box-shadow: 0px 1px 3px 1px rgba(0, 0, 0, 0.15);\n",
              "      filter: drop-shadow(0px 1px 2px rgba(0, 0, 0, 0.3));\n",
              "      fill: #FFFFFF;\n",
              "    }\n",
              "  </style>\n",
              "\n",
              "      <script>\n",
              "        const buttonEl =\n",
              "          document.querySelector('#df-c0caf9ea-5f4d-4b36-8ded-34d87fcb7ed9 button.colab-df-convert');\n",
              "        buttonEl.style.display =\n",
              "          google.colab.kernel.accessAllowed ? 'block' : 'none';\n",
              "\n",
              "        async function convertToInteractive(key) {\n",
              "          const element = document.querySelector('#df-c0caf9ea-5f4d-4b36-8ded-34d87fcb7ed9');\n",
              "          const dataTable =\n",
              "            await google.colab.kernel.invokeFunction('convertToInteractive',\n",
              "                                                     [key], {});\n",
              "          if (!dataTable) return;\n",
              "\n",
              "          const docLinkHtml = 'Like what you see? Visit the ' +\n",
              "            '<a target=\"_blank\" href=https://colab.research.google.com/notebooks/data_table.ipynb>data table notebook</a>'\n",
              "            + ' to learn more about interactive tables.';\n",
              "          element.innerHTML = '';\n",
              "          dataTable['output_type'] = 'display_data';\n",
              "          await google.colab.output.renderOutput(dataTable, element);\n",
              "          const docLink = document.createElement('div');\n",
              "          docLink.innerHTML = docLinkHtml;\n",
              "          element.appendChild(docLink);\n",
              "        }\n",
              "      </script>\n",
              "    </div>\n",
              "  </div>\n",
              "  "
            ]
          },
          "metadata": {},
          "execution_count": 177
        }
      ]
    },
    {
      "cell_type": "markdown",
      "source": [
        "Secara keseluruhan performance model sudah cukup baik pada training dan testing set dgn skor akurasi > 0.8, kecuali Gaussian Naïve Bayes (GNB) dimana hanya mempunyai skor akurasi ~0.3. Buruknya performa GNB bisa dikarenakan bbrp factor: GNB mengasumsikan setiap kelas memiliki distribusi Gaussian dimana distribusi sebenarnya adalah skewed (lihat boxplot). Selain itu, GNB lebih cocok diterapkan pada data continuous (numerik), sedangkan beberapa kolom pada dataset ini berisi data kategorikal. Ditambah lagi, GNB tidak menjalani cross-validation dan tidak terdapat hyperparameter utk di-tuning. \n",
        "\n",
        "Base model dgn skor akurasi terbaik adalah Decision Tree dgn skor hampir sempurna (0.99). Namun keabsahan skor ini sangatlah diragukan krn berada diatas Random Forest. Ditambah lagi, skor utk model tsb pada hasil tuning jauh lebih rendah disbanding base model, dimana hal sb cukup aneh. Proses model inference akan dilakukan untuk mengetahui validity skor tsb.\n",
        "\n",
        "Secara keseluruhan, base model memiliki skor akurasi lbh baik dibandingkan model dgn hyperparameter tuning, kecuali untuk Logistic Regression dan SVM dimana performance kedua model kurang lebih sama. Namun, base model belum tentu lebih baik dibandingkan model dgn hyperparameter tuning setelah kita melakukan uji model inference. Kondisi overfitting juga terlihat dari table secara keseluruhan karena skor akurasi pada testing set lebih rendah dibanding pada training set pada base model dan tuned model.\n"
      ],
      "metadata": {
        "id": "FfGFolySA5_k"
      }
    },
    {
      "cell_type": "markdown",
      "source": [
        "Berikutnya, kita akan menampilkan hasil confusion matrix dan classification report pada masing2 model. Confusion matrix berisi jumlah true positive (TP), true negative (TN), false positive (FP) dan false negative (FN) yg di-plot dalam bentuk matrix utk mempermudah visualisasi. Sedangkan classification report berisi nilai precision, recall dan f-1 score masing2 label beserta nilai macro-average dan weighted-average dari model. "
      ],
      "metadata": {
        "id": "67On2LN9A8GM"
      }
    },
    {
      "cell_type": "markdown",
      "source": [
        "LOGISTIC REGRESSION"
      ],
      "metadata": {
        "id": "8kuSJk9yBJcF"
      }
    },
    {
      "cell_type": "markdown",
      "source": [
        "Confusion matrix utk Logistic Regression pada hasil prediksi training set:"
      ],
      "metadata": {
        "id": "D-gAPWDufuJJ"
      }
    },
    {
      "cell_type": "code",
      "source": [
        "# Buat confusion matrix untuk hasil prediksi Logistic Regression dgn hyperparameter terbaik menggunakan training set\n",
        "cm_train_log = confusion_matrix(y_train,y_pred_train_log, labels=grid_log.best_estimator_.classes_)\n",
        "disp_train_log = ConfusionMatrixDisplay(confusion_matrix=cm_train_log, display_labels=grid_log.best_estimator_.classes_)\n",
        "\n",
        "# Tampilkan confusion matrix\n",
        "disp_train_log.plot()\n",
        "plt.show()"
      ],
      "metadata": {
        "colab": {
          "base_uri": "https://localhost:8080/",
          "height": 282
        },
        "id": "tKc5dZ7k1fko",
        "outputId": "94489984-7b43-4319-8ded-b5728e4a0867"
      },
      "execution_count": null,
      "outputs": [
        {
          "output_type": "display_data",
          "data": {
            "text/plain": [
              "<Figure size 432x288 with 2 Axes>"
            ],
            "image/png": "[encoded data removed]"
          },
          "metadata": {}
        }
      ]
    },
    {
      "cell_type": "markdown",
      "source": [
        "Hasil confusion matrix utk training set:\n",
        "TP = 175, TN = 1560, FP = 71, FN = 269"
      ],
      "metadata": {
        "id": "yUEwuECpgeec"
      }
    },
    {
      "cell_type": "markdown",
      "source": [
        "Hasil classification report utk training set:"
      ],
      "metadata": {
        "id": "u6DISPNJg8S1"
      }
    },
    {
      "cell_type": "code",
      "source": [
        "# Tampilkan hasil classification report berupa nilai precision, recall, f-1 score dan support\n",
        "print(classification_report(y_train,y_pred_train_log))"
      ],
      "metadata": {
        "colab": {
          "base_uri": "https://localhost:8080/"
        },
        "id": "2vzc1WtG3Xus",
        "outputId": "66cd4375-1092-41c6-9452-6875aec824e0"
      },
      "execution_count": null,
      "outputs": [
        {
          "output_type": "stream",
          "name": "stdout",
          "text": [
            "              precision    recall  f1-score   support\n",
            "\n",
            "           0       0.85      0.96      0.90      1631\n",
            "           1       0.71      0.39      0.51       444\n",
            "\n",
            "    accuracy                           0.84      2075\n",
            "   macro avg       0.78      0.68      0.70      2075\n",
            "weighted avg       0.82      0.84      0.82      2075\n",
            "\n"
          ]
        }
      ]
    },
    {
      "cell_type": "markdown",
      "source": [
        "Confusion matrix utk Logistic Regression pada hasil prediksi testing set:"
      ],
      "metadata": {
        "id": "-GmOQSauhEp-"
      }
    },
    {
      "cell_type": "code",
      "source": [
        "# Buat confusion matrix untuk hasil prediksi Logistic Regression dgn hyperparameter terbaik menggunakan testing set\n",
        "cm_test_log = confusion_matrix(y_test,y_pred_test_log, labels=grid_log.best_estimator_.classes_)\n",
        "disp_test_log = ConfusionMatrixDisplay(confusion_matrix=cm_test_log, display_labels=grid_log.best_estimator_.classes_)\n",
        "\n",
        "disp_test_log.plot()\n",
        "plt.show()"
      ],
      "metadata": {
        "colab": {
          "base_uri": "https://localhost:8080/",
          "height": 282
        },
        "id": "WDbBWhf8J2Si",
        "outputId": "6f7f422f-71c0-4080-ae94-8b856ccaa40c"
      },
      "execution_count": null,
      "outputs": [
        {
          "output_type": "display_data",
          "data": {
            "text/plain": [
              "<Figure size 432x288 with 2 Axes>"
            ],
            "image/png": "[encoded data removed]"
          },
          "metadata": {}
        }
      ]
    },
    {
      "cell_type": "markdown",
      "source": [
        "Hasil confusion matrix utk testing set:\n",
        "TP = 60, TN = 678, FP = 21, FN = 122"
      ],
      "metadata": {
        "id": "XCr1H6Sqpov-"
      }
    },
    {
      "cell_type": "markdown",
      "source": [
        "Hasil classification report utk test set:"
      ],
      "metadata": {
        "id": "ABetEBhchIA2"
      }
    },
    {
      "cell_type": "code",
      "source": [
        "# Tampilkan hasil classification report\n",
        "print(classification_report(y_test,y_pred_test_log))"
      ],
      "metadata": {
        "colab": {
          "base_uri": "https://localhost:8080/"
        },
        "id": "kT0q-n9MKC3d",
        "outputId": "fe910593-9da6-407d-b68b-e323ecda5121"
      },
      "execution_count": null,
      "outputs": [
        {
          "output_type": "stream",
          "name": "stdout",
          "text": [
            "              precision    recall  f1-score   support\n",
            "\n",
            "           0       0.85      0.97      0.90       699\n",
            "           1       0.77      0.36      0.49       191\n",
            "\n",
            "    accuracy                           0.84       890\n",
            "   macro avg       0.81      0.67      0.70       890\n",
            "weighted avg       0.83      0.84      0.82       890\n",
            "\n"
          ]
        }
      ]
    },
    {
      "cell_type": "markdown",
      "source": [
        "SUPPORT VECTOR MACHINE"
      ],
      "metadata": {
        "id": "qUB5HhRRBOn3"
      }
    },
    {
      "cell_type": "markdown",
      "source": [
        "Confusion matrix utk Support Vector Machine pada hasil prediksi training set:"
      ],
      "metadata": {
        "id": "xZfnwDMwhVtK"
      }
    },
    {
      "cell_type": "code",
      "source": [
        "# Buat confusion matrix untuk hasil prediksi model SVC dgn hyperparameter terbaik menggunakan training set\n",
        "cm_train_svm = confusion_matrix(y_train,y_pred_train_svm, labels=grid_svm.best_estimator_.classes_)\n",
        "disp_train_svm = ConfusionMatrixDisplay(confusion_matrix=cm_train_svm, display_labels=grid_svm.best_estimator_.classes_)\n",
        "\n",
        "disp_train_svm.plot()\n",
        "plt.show()"
      ],
      "metadata": {
        "colab": {
          "base_uri": "https://localhost:8080/",
          "height": 282
        },
        "id": "VIadSzAF2UB5",
        "outputId": "aa0b7ef7-b411-4809-a5ee-9ee89a8589e1"
      },
      "execution_count": null,
      "outputs": [
        {
          "output_type": "display_data",
          "data": {
            "text/plain": [
              "<Figure size 432x288 with 2 Axes>"
            ],
            "image/png": "[encoded data removed]"
          },
          "metadata": {}
        }
      ]
    },
    {
      "cell_type": "markdown",
      "source": [
        "Hasil confusion matrix utk training set:\n",
        "TP = 182, TN = 1567, FP = 64, FN = 262"
      ],
      "metadata": {
        "id": "2MthYWGmpzcV"
      }
    },
    {
      "cell_type": "markdown",
      "source": [
        "Hasil classification report utk training set:"
      ],
      "metadata": {
        "id": "4nWEaBPviIJ2"
      }
    },
    {
      "cell_type": "code",
      "source": [
        "# Tampilkan hasil classification report\n",
        "print(classification_report(y_train,y_pred_train_svm))"
      ],
      "metadata": {
        "colab": {
          "base_uri": "https://localhost:8080/"
        },
        "id": "tDF5Z8B7Pqpy",
        "outputId": "26e6c615-fa17-4fb9-c87f-b219d0b9b0df"
      },
      "execution_count": null,
      "outputs": [
        {
          "output_type": "stream",
          "name": "stdout",
          "text": [
            "              precision    recall  f1-score   support\n",
            "\n",
            "           0       0.86      0.96      0.91      1631\n",
            "           1       0.74      0.41      0.53       444\n",
            "\n",
            "    accuracy                           0.84      2075\n",
            "   macro avg       0.80      0.69      0.72      2075\n",
            "weighted avg       0.83      0.84      0.82      2075\n",
            "\n"
          ]
        }
      ]
    },
    {
      "cell_type": "markdown",
      "source": [
        "Confusion matrix utk pada hasil prediksi testing set:"
      ],
      "metadata": {
        "id": "afjp9qH5haQc"
      }
    },
    {
      "cell_type": "code",
      "source": [
        "# Buat confusion matrix untuk hasil prediksi model SVC dgn hyperparameter terbaik menggunakan testing set\n",
        "cm_test_svm = confusion_matrix(y_test,y_pred_test_svm, labels=grid_svm.best_estimator_.classes_)\n",
        "disp_test_svm = ConfusionMatrixDisplay(confusion_matrix=cm_test_svm, display_labels=grid_svm.best_estimator_.classes_)\n",
        "\n",
        "disp_test_svm.plot()\n",
        "plt.show()"
      ],
      "metadata": {
        "colab": {
          "base_uri": "https://localhost:8080/",
          "height": 282
        },
        "id": "42X46mzMP2We",
        "outputId": "67c139cb-f227-4930-c975-8414e8e009cd"
      },
      "execution_count": null,
      "outputs": [
        {
          "output_type": "display_data",
          "data": {
            "text/plain": [
              "<Figure size 432x288 with 2 Axes>"
            ],
            "image/png": "[encoded data removed]"
          },
          "metadata": {}
        }
      ]
    },
    {
      "cell_type": "markdown",
      "source": [
        "Hasil confusion matrix utk testing set:\n",
        "TP = 68, TN = 675, FP = 24, FN = 123"
      ],
      "metadata": {
        "id": "ZgvzvFScp8B2"
      }
    },
    {
      "cell_type": "markdown",
      "source": [
        "Hasil classification report utk testing set:"
      ],
      "metadata": {
        "id": "lg2T_CaliJdL"
      }
    },
    {
      "cell_type": "code",
      "source": [
        "# Tampilkan hasil classification report\n",
        "print(classification_report(y_test,y_pred_test_svm))"
      ],
      "metadata": {
        "colab": {
          "base_uri": "https://localhost:8080/"
        },
        "id": "2OMRFRB3P9xP",
        "outputId": "261be9e5-1c2f-4b6f-c89a-3759d72e245e"
      },
      "execution_count": null,
      "outputs": [
        {
          "output_type": "stream",
          "name": "stdout",
          "text": [
            "              precision    recall  f1-score   support\n",
            "\n",
            "           0       0.85      0.97      0.90       699\n",
            "           1       0.74      0.36      0.48       191\n",
            "\n",
            "    accuracy                           0.83       890\n",
            "   macro avg       0.79      0.66      0.69       890\n",
            "weighted avg       0.82      0.83      0.81       890\n",
            "\n"
          ]
        }
      ]
    },
    {
      "cell_type": "markdown",
      "source": [
        "DECISION TREE"
      ],
      "metadata": {
        "id": "GkGofarjBRVC"
      }
    },
    {
      "cell_type": "markdown",
      "source": [
        "Confusion matrix utk Decision Tree pada hasil prediksi training set:"
      ],
      "metadata": {
        "id": "MI1b6FI-hePx"
      }
    },
    {
      "cell_type": "code",
      "source": [
        "# Buat confusion matrix untuk hasil prediksi model Decision Tree dgn hyperparameter terbaik menggunakan training set\n",
        "cm_train_dtc = confusion_matrix(y_train,y_pred_train_dtc, labels=grid_dtc.best_estimator_.classes_)\n",
        "disp_train_dtc = ConfusionMatrixDisplay(confusion_matrix=cm_train_dtc, display_labels=grid_dtc.best_estimator_.classes_)\n",
        "\n",
        "disp_train_dtc.plot()\n",
        "plt.show()"
      ],
      "metadata": {
        "colab": {
          "base_uri": "https://localhost:8080/",
          "height": 282
        },
        "id": "7RAbVlo5QBzV",
        "outputId": "e432764a-c6c2-4633-e903-4b4511295ed8"
      },
      "execution_count": null,
      "outputs": [
        {
          "output_type": "display_data",
          "data": {
            "text/plain": [
              "<Figure size 432x288 with 2 Axes>"
            ],
            "image/png": "[encoded data removed]"
          },
          "metadata": {}
        }
      ]
    },
    {
      "cell_type": "markdown",
      "source": [
        "Hasil confusion matrix utk training set:\n",
        "TP = 212, TN = 1558, FP = 73, FN = 232"
      ],
      "metadata": {
        "id": "CqVcJ1yxqF7d"
      }
    },
    {
      "cell_type": "markdown",
      "source": [
        "Hasil classification report utk training set:"
      ],
      "metadata": {
        "id": "leMTxaY0iOXO"
      }
    },
    {
      "cell_type": "code",
      "source": [
        "# Tampilkan hasil classification report\n",
        "print(classification_report(y_train,y_pred_train_dtc))"
      ],
      "metadata": {
        "colab": {
          "base_uri": "https://localhost:8080/"
        },
        "id": "F5ItBI8yQLeE",
        "outputId": "f09a9c21-b451-4d0b-81d4-40d52027c383"
      },
      "execution_count": null,
      "outputs": [
        {
          "output_type": "stream",
          "name": "stdout",
          "text": [
            "              precision    recall  f1-score   support\n",
            "\n",
            "           0       0.87      0.96      0.91      1631\n",
            "           1       0.74      0.48      0.58       444\n",
            "\n",
            "    accuracy                           0.85      2075\n",
            "   macro avg       0.81      0.72      0.75      2075\n",
            "weighted avg       0.84      0.85      0.84      2075\n",
            "\n"
          ]
        }
      ]
    },
    {
      "cell_type": "markdown",
      "source": [
        "Confusion matrix utk hasil prediksi testing set:"
      ],
      "metadata": {
        "id": "0xDmMzA1hgqD"
      }
    },
    {
      "cell_type": "code",
      "source": [
        "# Buat confusion matrix untuk hasil prediksi model Decision Tree dgn hyperparameter terbaik menggunakan testing set\n",
        "cm_test_dtc = confusion_matrix(y_test,y_pred_test_dtc, labels=grid_dtc.best_estimator_.classes_)\n",
        "disp_test_dtc = ConfusionMatrixDisplay(confusion_matrix=cm_test_dtc, display_labels=grid_dtc.best_estimator_.classes_)\n",
        "\n",
        "disp_test_dtc.plot()\n",
        "plt.show()"
      ],
      "metadata": {
        "colab": {
          "base_uri": "https://localhost:8080/",
          "height": 282
        },
        "id": "zSNgHe-fQNyx",
        "outputId": "612cd2b1-1515-43a8-fe63-61947db982b0"
      },
      "execution_count": null,
      "outputs": [
        {
          "output_type": "display_data",
          "data": {
            "text/plain": [
              "<Figure size 432x288 with 2 Axes>"
            ],
            "image/png": "[encoded data removed]"
          },
          "metadata": {}
        }
      ]
    },
    {
      "cell_type": "markdown",
      "source": [
        "Hasil confusion matrix utk testing set:\n",
        "TP = 72, TN = 654, FP = 45, FN = 119"
      ],
      "metadata": {
        "id": "ZA3Lv9v1qVqv"
      }
    },
    {
      "cell_type": "markdown",
      "source": [
        "Hasil classification report utk testing set:"
      ],
      "metadata": {
        "id": "O16UHMjwiPxX"
      }
    },
    {
      "cell_type": "code",
      "source": [
        "# Tampilkan hasil classification report\n",
        "print(classification_report(y_test,y_pred_test_dtc))"
      ],
      "metadata": {
        "colab": {
          "base_uri": "https://localhost:8080/"
        },
        "id": "UN8123oyQbYl",
        "outputId": "0368a53d-a3ce-4892-c303-e5b1ec12cb2e"
      },
      "execution_count": null,
      "outputs": [
        {
          "output_type": "stream",
          "name": "stdout",
          "text": [
            "              precision    recall  f1-score   support\n",
            "\n",
            "           0       0.85      0.94      0.89       699\n",
            "           1       0.62      0.38      0.47       191\n",
            "\n",
            "    accuracy                           0.82       890\n",
            "   macro avg       0.73      0.66      0.68       890\n",
            "weighted avg       0.80      0.82      0.80       890\n",
            "\n"
          ]
        }
      ]
    },
    {
      "cell_type": "markdown",
      "source": [
        "RANDOM FOREST"
      ],
      "metadata": {
        "id": "apjuCOE-BUcg"
      }
    },
    {
      "cell_type": "markdown",
      "source": [
        "Confusion matrix utk Random Forest pada hasil prediksi training set:"
      ],
      "metadata": {
        "id": "MEZjf36ehlu8"
      }
    },
    {
      "cell_type": "code",
      "source": [
        "# Buat confusion matrix untuk hasil prediksi model Random Forest dgn hyperparameter terbaik menggunakan training set\n",
        "cm_train_rfc = confusion_matrix(y_train,y_pred_train_rfc, labels=grid_rfc.best_estimator_.classes_)\n",
        "disp_train_rfc = ConfusionMatrixDisplay(confusion_matrix=cm_train_rfc, display_labels=grid_rfc.best_estimator_.classes_)\n",
        "\n",
        "disp_train_rfc.plot()\n",
        "plt.show()"
      ],
      "metadata": {
        "colab": {
          "base_uri": "https://localhost:8080/",
          "height": 283
        },
        "id": "-zKRBcI2QZbl",
        "outputId": "f12862c1-80ed-479e-d1fd-ed253537c262"
      },
      "execution_count": null,
      "outputs": [
        {
          "output_type": "display_data",
          "data": {
            "text/plain": [
              "<Figure size 432x288 with 2 Axes>"
            ],
            "image/png": "[encoded data removed]"
          },
          "metadata": {}
        }
      ]
    },
    {
      "cell_type": "markdown",
      "source": [
        "Hasil confusion matrix utk training set:\n",
        "TP = 269, TN = 1628, FP = 3, FN = 175"
      ],
      "metadata": {
        "id": "joEzlCQ9qkdo"
      }
    },
    {
      "cell_type": "markdown",
      "source": [
        "Hasil classification report utk training set:"
      ],
      "metadata": {
        "id": "nL6zj46yiRu4"
      }
    },
    {
      "cell_type": "code",
      "source": [
        "# Tampilkan hasil classification report\n",
        "print(classification_report(y_train,y_pred_train_rfc))"
      ],
      "metadata": {
        "colab": {
          "base_uri": "https://localhost:8080/"
        },
        "id": "E5UMK_LJQqn1",
        "outputId": "91064a57-5f13-4c7d-aeaa-7d4292311842"
      },
      "execution_count": null,
      "outputs": [
        {
          "output_type": "stream",
          "name": "stdout",
          "text": [
            "              precision    recall  f1-score   support\n",
            "\n",
            "           0       0.90      1.00      0.95      1631\n",
            "           1       0.99      0.61      0.75       444\n",
            "\n",
            "    accuracy                           0.91      2075\n",
            "   macro avg       0.95      0.80      0.85      2075\n",
            "weighted avg       0.92      0.91      0.91      2075\n",
            "\n"
          ]
        }
      ]
    },
    {
      "cell_type": "markdown",
      "source": [
        "Confusion matrix pada hasil prediksi testing set:"
      ],
      "metadata": {
        "id": "_1J_BMQGhn_N"
      }
    },
    {
      "cell_type": "code",
      "source": [
        "# Buat confusion matrix untuk hasil prediksi model Random Forest dgn hyperparameter terbaik menggunakan testing set\n",
        "cm_test_rfc = confusion_matrix(y_test,y_pred_test_rfc, labels=grid_rfc.best_estimator_.classes_)\n",
        "disp_test_rfc = ConfusionMatrixDisplay(confusion_matrix=cm_test_rfc, display_labels=grid_rfc.best_estimator_.classes_)\n",
        "\n",
        "disp_test_rfc.plot()\n",
        "plt.show()"
      ],
      "metadata": {
        "colab": {
          "base_uri": "https://localhost:8080/",
          "height": 282
        },
        "id": "cotEAhxmQt82",
        "outputId": "380fe868-2d91-4be3-89af-2ffdcd7e563e"
      },
      "execution_count": null,
      "outputs": [
        {
          "output_type": "display_data",
          "data": {
            "text/plain": [
              "<Figure size 432x288 with 2 Axes>"
            ],
            "image/png": "[encoded data removed]"
          },
          "metadata": {}
        }
      ]
    },
    {
      "cell_type": "markdown",
      "source": [
        "Hasil confusion matrix utk testing set:\n",
        "TP = 64, TN = 673, FP = 26, FN = 127"
      ],
      "metadata": {
        "id": "foIdQtz6qspS"
      }
    },
    {
      "cell_type": "markdown",
      "source": [
        "Hasil classification report utk testing set:"
      ],
      "metadata": {
        "id": "9KojamM8iS4l"
      }
    },
    {
      "cell_type": "code",
      "source": [
        "# Tampilkan hasil classification report\n",
        "print(classification_report(y_test,y_pred_test_rfc))"
      ],
      "metadata": {
        "colab": {
          "base_uri": "https://localhost:8080/"
        },
        "id": "WwW8GIA1Q1ux",
        "outputId": "b8026703-0f7a-4ed8-fec1-0ef29f73430e"
      },
      "execution_count": null,
      "outputs": [
        {
          "output_type": "stream",
          "name": "stdout",
          "text": [
            "              precision    recall  f1-score   support\n",
            "\n",
            "           0       0.84      0.96      0.90       699\n",
            "           1       0.71      0.34      0.46       191\n",
            "\n",
            "    accuracy                           0.83       890\n",
            "   macro avg       0.78      0.65      0.68       890\n",
            "weighted avg       0.81      0.83      0.80       890\n",
            "\n"
          ]
        }
      ]
    },
    {
      "cell_type": "markdown",
      "source": [
        "K-NEAREST NEIGHBORS"
      ],
      "metadata": {
        "id": "Uwuxr38YBWrs"
      }
    },
    {
      "cell_type": "markdown",
      "source": [
        "Confusion matrix utk k-Nearest Neighbors pada hasil prediksi training set:"
      ],
      "metadata": {
        "id": "3aIxIKaNhrOY"
      }
    },
    {
      "cell_type": "code",
      "source": [
        "# Buat confusion matrix untuk hasil prediksi model k-Nearest Neighbors dgn hyperparameter terbaik menggunakan training set\n",
        "cm_train_knn = confusion_matrix(y_train,y_pred_train_knn, labels=grid_knn.best_estimator_.classes_)\n",
        "disp_train_knn = ConfusionMatrixDisplay(confusion_matrix=cm_train_knn, display_labels=grid_knn.best_estimator_.classes_)\n",
        "\n",
        "disp_train_knn.plot()\n",
        "plt.show()"
      ],
      "metadata": {
        "colab": {
          "base_uri": "https://localhost:8080/",
          "height": 282
        },
        "id": "ZmMewmrnQ_p8",
        "outputId": "d504df0f-da9e-4948-dc4d-3243155bb497"
      },
      "execution_count": null,
      "outputs": [
        {
          "output_type": "display_data",
          "data": {
            "text/plain": [
              "<Figure size 432x288 with 2 Axes>"
            ],
            "image/png": "[encoded data removed]"
          },
          "metadata": {}
        }
      ]
    },
    {
      "cell_type": "markdown",
      "source": [
        "Hasil confusion matrix utk training set:\n",
        "TP = 168, TN = 1574, FP = 57, FN = 276"
      ],
      "metadata": {
        "id": "rXT3_8CWq3wS"
      }
    },
    {
      "cell_type": "markdown",
      "source": [
        "Hasil classification report utk training set:"
      ],
      "metadata": {
        "id": "Qkk0mikIiUyu"
      }
    },
    {
      "cell_type": "code",
      "source": [
        "# Tampilkan hasil classification report\n",
        "print(classification_report(y_train,y_pred_train_knn))"
      ],
      "metadata": {
        "colab": {
          "base_uri": "https://localhost:8080/"
        },
        "id": "aAjpEzl_RInp",
        "outputId": "098559c1-2b08-4f07-f813-2a358d60c08e"
      },
      "execution_count": null,
      "outputs": [
        {
          "output_type": "stream",
          "name": "stdout",
          "text": [
            "              precision    recall  f1-score   support\n",
            "\n",
            "           0       0.85      0.97      0.90      1631\n",
            "           1       0.75      0.38      0.50       444\n",
            "\n",
            "    accuracy                           0.84      2075\n",
            "   macro avg       0.80      0.67      0.70      2075\n",
            "weighted avg       0.83      0.84      0.82      2075\n",
            "\n"
          ]
        }
      ]
    },
    {
      "cell_type": "markdown",
      "source": [
        "Confusion matrix pada hasil prediksi testing set:"
      ],
      "metadata": {
        "id": "iMixHfehhurm"
      }
    },
    {
      "cell_type": "code",
      "source": [
        "# Buat confusion matrix untuk hasil prediksi model k-Nearest Neighbors dgn hyperparameter terbaik menggunakan testing set\n",
        "cm_test_knn = confusion_matrix(y_test,y_pred_test_knn, labels=grid_knn.best_estimator_.classes_)\n",
        "disp_test_knn = ConfusionMatrixDisplay(confusion_matrix=cm_test_knn, display_labels=grid_knn.best_estimator_.classes_)\n",
        "\n",
        "disp_test_knn.plot()\n",
        "plt.show()"
      ],
      "metadata": {
        "colab": {
          "base_uri": "https://localhost:8080/",
          "height": 282
        },
        "id": "FuN5WNRYRLwr",
        "outputId": "2b5399e0-98ca-4f34-f06a-2128873212dd"
      },
      "execution_count": null,
      "outputs": [
        {
          "output_type": "display_data",
          "data": {
            "text/plain": [
              "<Figure size 432x288 with 2 Axes>"
            ],
            "image/png": "[encoded data removed]"
          },
          "metadata": {}
        }
      ]
    },
    {
      "cell_type": "markdown",
      "source": [
        "Hasil confusion matrix utk testing set:\n",
        "TP = 56, TN = 675, FP = 24, FN = 135"
      ],
      "metadata": {
        "id": "8P0-X8u6q_ah"
      }
    },
    {
      "cell_type": "markdown",
      "source": [
        "Hasil classification report utk testing set:"
      ],
      "metadata": {
        "id": "Zt2HMa9NiVxM"
      }
    },
    {
      "cell_type": "code",
      "source": [
        "# Tampilkan hasil classification report\n",
        "print(classification_report(y_test,y_pred_test_knn))"
      ],
      "metadata": {
        "colab": {
          "base_uri": "https://localhost:8080/"
        },
        "id": "vf5W4KF8RTK6",
        "outputId": "185af3c4-5c23-4ee5-8089-6c412587cc8f"
      },
      "execution_count": null,
      "outputs": [
        {
          "output_type": "stream",
          "name": "stdout",
          "text": [
            "              precision    recall  f1-score   support\n",
            "\n",
            "           0       0.83      0.97      0.89       699\n",
            "           1       0.70      0.29      0.41       191\n",
            "\n",
            "    accuracy                           0.82       890\n",
            "   macro avg       0.77      0.63      0.65       890\n",
            "weighted avg       0.80      0.82      0.79       890\n",
            "\n"
          ]
        }
      ]
    },
    {
      "cell_type": "markdown",
      "source": [
        "GAUSSIAN NAIVE BAYES"
      ],
      "metadata": {
        "id": "4m49aBJhBZ4c"
      }
    },
    {
      "cell_type": "markdown",
      "source": [
        "Confusion matrix utk Gaussian Naive Bayes pada hasil prediksi training set:"
      ],
      "metadata": {
        "id": "7KjrlsxAh0Gw"
      }
    },
    {
      "cell_type": "code",
      "source": [
        "# Buat confusion matrix untuk hasil prediksi model Gaussian Naive Bayes menggunakan training set\n",
        "cm_train_gnb = confusion_matrix(y_train,y_pred_train_gnb, labels=gnb_model.classes_)\n",
        "disp_train_gnb = ConfusionMatrixDisplay(confusion_matrix=cm_train_gnb, display_labels=gnb_model.classes_)\n",
        "\n",
        "disp_train_gnb.plot()\n",
        "plt.show()"
      ],
      "metadata": {
        "colab": {
          "base_uri": "https://localhost:8080/",
          "height": 282
        },
        "id": "bvIJX_bxTJ5S",
        "outputId": "229d6db9-7f80-4c70-9a60-8a686f9a5587"
      },
      "execution_count": null,
      "outputs": [
        {
          "output_type": "display_data",
          "data": {
            "text/plain": [
              "<Figure size 432x288 with 2 Axes>"
            ],
            "image/png": "[encoded data removed]"
          },
          "metadata": {}
        }
      ]
    },
    {
      "cell_type": "markdown",
      "source": [
        "Hasil confusion matrix utk training set:\n",
        "TP = 437, TN = 194, FP = 1437, FN = 7"
      ],
      "metadata": {
        "id": "buupdIRzrR4o"
      }
    },
    {
      "cell_type": "markdown",
      "source": [
        "Hasil classification report utk training set:"
      ],
      "metadata": {
        "id": "zLtK8bqeiXyM"
      }
    },
    {
      "cell_type": "code",
      "source": [
        "# Tampilkan hasil classification report\n",
        "print(classification_report(y_train,y_pred_train_gnb))"
      ],
      "metadata": {
        "colab": {
          "base_uri": "https://localhost:8080/"
        },
        "id": "6ALC8zAiTdwq",
        "outputId": "29374c06-3d29-4e66-c3b8-6cba9f8fe357"
      },
      "execution_count": null,
      "outputs": [
        {
          "output_type": "stream",
          "name": "stdout",
          "text": [
            "              precision    recall  f1-score   support\n",
            "\n",
            "           0       0.97      0.12      0.21      1631\n",
            "           1       0.23      0.98      0.38       444\n",
            "\n",
            "    accuracy                           0.30      2075\n",
            "   macro avg       0.60      0.55      0.29      2075\n",
            "weighted avg       0.81      0.30      0.25      2075\n",
            "\n"
          ]
        }
      ]
    },
    {
      "cell_type": "markdown",
      "source": [
        "Confusion matrix pada hasil prediksi testing set:"
      ],
      "metadata": {
        "id": "Krz2RqQ_h3kY"
      }
    },
    {
      "cell_type": "code",
      "source": [
        "# Buat confusion matrix untuk hasil prediksi Gaussian Naive Bayes menggunakan testing set\n",
        "cm_test_gnb = confusion_matrix(y_test,y_pred_test_gnb, labels=gnb_model.classes_)\n",
        "disp_test_gnb = ConfusionMatrixDisplay(confusion_matrix=cm_test_gnb, display_labels=gnb_model.classes_)\n",
        "\n",
        "disp_test_gnb.plot()\n",
        "plt.show()"
      ],
      "metadata": {
        "colab": {
          "base_uri": "https://localhost:8080/",
          "height": 286
        },
        "id": "UVT49Q-ETg5K",
        "outputId": "d2e8eaf4-71d7-4e0e-dd09-eb6abe9b1af6"
      },
      "execution_count": null,
      "outputs": [
        {
          "output_type": "display_data",
          "data": {
            "text/plain": [
              "<Figure size 432x288 with 2 Axes>"
            ],
            "image/png": "[encoded data removed]"
          },
          "metadata": {}
        }
      ]
    },
    {
      "cell_type": "markdown",
      "source": [
        "Hasil confusion matrix utk testing set:\n",
        "TP = 187, TN = 99, FP = 600, FN = 4"
      ],
      "metadata": {
        "id": "17PubyF2rcCm"
      }
    },
    {
      "cell_type": "markdown",
      "source": [
        "Hasil classification report utk testing set:"
      ],
      "metadata": {
        "id": "egpGxUagiZeR"
      }
    },
    {
      "cell_type": "code",
      "source": [
        "# Tampilkan hasil classification report\n",
        "print(classification_report(y_test,y_pred_test_gnb))"
      ],
      "metadata": {
        "colab": {
          "base_uri": "https://localhost:8080/"
        },
        "id": "xFYaABfnTn6p",
        "outputId": "9433ddc2-ce0b-440d-e892-ed7c7a30724a"
      },
      "execution_count": null,
      "outputs": [
        {
          "output_type": "stream",
          "name": "stdout",
          "text": [
            "              precision    recall  f1-score   support\n",
            "\n",
            "           0       0.96      0.14      0.25       699\n",
            "           1       0.24      0.98      0.38       191\n",
            "\n",
            "    accuracy                           0.32       890\n",
            "   macro avg       0.60      0.56      0.31       890\n",
            "weighted avg       0.81      0.32      0.28       890\n",
            "\n"
          ]
        }
      ]
    },
    {
      "cell_type": "markdown",
      "source": [
        "XGBOOST"
      ],
      "metadata": {
        "id": "-eCJZkLKBb2s"
      }
    },
    {
      "cell_type": "markdown",
      "source": [
        "Confusion matrix utk XGBoost pada hasil prediksi training set:"
      ],
      "metadata": {
        "id": "kkDgl0Vdh6uN"
      }
    },
    {
      "cell_type": "code",
      "source": [
        "# Buat confusion matrix untuk hasil prediksi XGBoost dgn hyperparameter terbaik menggunakan training set\n",
        "cm_train_xbs = confusion_matrix(y_train,y_pred_train_xbs, labels=grid_xbs.best_estimator_.classes_)\n",
        "disp_train_xbs = ConfusionMatrixDisplay(confusion_matrix=cm_train_xbs, display_labels=grid_xbs.best_estimator_.classes_)\n",
        "\n",
        "disp_train_xbs.plot()\n",
        "plt.show()"
      ],
      "metadata": {
        "colab": {
          "base_uri": "https://localhost:8080/",
          "height": 282
        },
        "id": "5DnhFRyZRhKR",
        "outputId": "7690879b-5d50-4d55-f4c9-9451b0a47ed3"
      },
      "execution_count": null,
      "outputs": [
        {
          "output_type": "display_data",
          "data": {
            "text/plain": [
              "<Figure size 432x288 with 2 Axes>"
            ],
            "image/png": "[encoded data removed]"
          },
          "metadata": {}
        }
      ]
    },
    {
      "cell_type": "markdown",
      "source": [
        "Hasil confusion matrix utk training set:\n",
        "TP = 188, TN = 1578, FP = 58, FN = 256"
      ],
      "metadata": {
        "id": "ApQnyHgGrj9F"
      }
    },
    {
      "cell_type": "markdown",
      "source": [
        "Hasil classification report utk training set:"
      ],
      "metadata": {
        "id": "CRWIbUFgibPe"
      }
    },
    {
      "cell_type": "code",
      "source": [
        "# Tampilkan hasil classification report\n",
        "print(classification_report(y_train,y_pred_train_xbs))"
      ],
      "metadata": {
        "colab": {
          "base_uri": "https://localhost:8080/"
        },
        "id": "WNSTBwlzRp0y",
        "outputId": "af93aad7-9f6c-4533-f285-07dd1128e77c"
      },
      "execution_count": null,
      "outputs": [
        {
          "output_type": "stream",
          "name": "stdout",
          "text": [
            "              precision    recall  f1-score   support\n",
            "\n",
            "           0       0.86      0.97      0.91      1631\n",
            "           1       0.78      0.42      0.55       444\n",
            "\n",
            "    accuracy                           0.85      2075\n",
            "   macro avg       0.82      0.70      0.73      2075\n",
            "weighted avg       0.84      0.85      0.83      2075\n",
            "\n"
          ]
        }
      ]
    },
    {
      "cell_type": "markdown",
      "source": [
        "Confusion matrix pada hasil prediksi testing set:"
      ],
      "metadata": {
        "id": "KNY2HnQ-h9X9"
      }
    },
    {
      "cell_type": "code",
      "source": [
        "# Buat confusion matrix untuk hasil prediksi XGBoost dgn hyperparameter terbaik menggunakan testing set\n",
        "cm_test_xbs = confusion_matrix(y_test,y_pred_test_xbs, labels=grid_xbs.best_estimator_.classes_)\n",
        "disp_test_xbs = ConfusionMatrixDisplay(confusion_matrix=cm_test_xbs, display_labels=grid_xbs.best_estimator_.classes_)\n",
        "\n",
        "disp_test_xbs.plot()\n",
        "plt.show()"
      ],
      "metadata": {
        "colab": {
          "base_uri": "https://localhost:8080/",
          "height": 282
        },
        "id": "50DAerZARuUG",
        "outputId": "749bc931-ed9a-42ad-801c-1d6f172990d0"
      },
      "execution_count": null,
      "outputs": [
        {
          "output_type": "display_data",
          "data": {
            "text/plain": [
              "<Figure size 432x288 with 2 Axes>"
            ],
            "image/png": "[encoded data removed]"
          },
          "metadata": {}
        }
      ]
    },
    {
      "cell_type": "markdown",
      "source": [
        "Hasil confusion matrix utk training set:\n",
        "TP = 65, TN = 679, FP = 20, FN = 125"
      ],
      "metadata": {
        "id": "-ljOLI-lrzAo"
      }
    },
    {
      "cell_type": "markdown",
      "source": [
        "Hasil classification report utk testing set:"
      ],
      "metadata": {
        "id": "9b0-4_QSicIz"
      }
    },
    {
      "cell_type": "code",
      "source": [
        "# Tampilkan hasil classification report\n",
        "print(classification_report(y_test,y_pred_test_xbs))"
      ],
      "metadata": {
        "colab": {
          "base_uri": "https://localhost:8080/"
        },
        "id": "g8fHQK5cR3mL",
        "outputId": "090f770c-5126-4132-e977-70f5f342d569"
      },
      "execution_count": null,
      "outputs": [
        {
          "output_type": "stream",
          "name": "stdout",
          "text": [
            "              precision    recall  f1-score   support\n",
            "\n",
            "           0       0.84      0.97      0.90       699\n",
            "           1       0.77      0.35      0.48       191\n",
            "\n",
            "    accuracy                           0.84       890\n",
            "   macro avg       0.81      0.66      0.69       890\n",
            "weighted avg       0.83      0.84      0.81       890\n",
            "\n"
          ]
        }
      ]
    },
    {
      "cell_type": "markdown",
      "source": [
        "KESIMPULAN CONFUSION MATRIX DAN CLASSIFICATION REPORT PADA DATA TRAINING DAN TESTING SET"
      ],
      "metadata": {
        "id": "iS9WFMtP3iXc"
      }
    },
    {
      "cell_type": "markdown",
      "source": [
        "Skor recall utk semua model lebih rendah dibandingkan skor precision. Artinya, model jarang memprediksi dgn benar suatu target, namun sekalinya prediksi tsb benar hasilnya terpercaya. Dengan kata lain, porsi false positive (FP) cenderung lbh kecil dibandingkan dgn false negative (FN), membuat prediksi benar (dalam konteks predicted label 0 dan 1) lebih bisa dipercaya. Di sisi lain, f-1 score utk label 0 lbh besar dibandingkan dgn label 1. Artinya, performance model lbh baik dalam memprediksi consumer yg tidak default (0) dibandingkan consumer yg default (1).\n",
        "\n",
        "Model dgn skor precision terbaik utk training set adalah Random Forest dgn nilai macro-average 0.95. Namun, nilai ini turun drastic menjadi 0.78 ketika diuji pada test set, sehingga menandakan nilai yg tinggi tsb adalah hasil overfitting. Di sisi lain, nilai precision paling stabil adalah pada XGBoost dgn nilai utk training set 0.81 dan testing set 0.82. \n",
        "\n",
        "Model dgn skor recall terbaik utk training set adalah Random Forest yaitu 0.8 namun nilai ini juga turun drastic menjadi 0.65. Model dgn skor recall terbaik utk testing set adalah Logistic Regression dgn macro-average 0.67. Namun demikian, angka ini tidak jauh berbeda dgn skor recall model2 lain di test set yg memiliki skor sekitar 0.65-0.67.\n",
        "\n",
        "Model dgn f-1 score terbaik pada training set adalah Random Forest dgn macro-average 0.85, namun Ketika diuji pada testing set, nilai macro-average turun ke 0.68. Menariknya, model dgn f-1 score terbaik pada test set adalah Logistic Regression dgn nilai macro-average 0.7. Nilai ini juga cenderung stabil krn sama dgn hasil pada training set. Sedangkan, model dgn performa terburuk utk semua kategori adalah Gaussian Naïve Bayes dgn skor hanya sekitar 0.3.\n"
      ],
      "metadata": {
        "id": "-p5lGioZVodt"
      }
    },
    {
      "cell_type": "markdown",
      "source": [
        "# IX. Model Inference"
      ],
      "metadata": {
        "id": "w_dHxBybq96P"
      }
    },
    {
      "cell_type": "markdown",
      "source": [
        "Kita perlu memastikan model yg telah di-training di training set dan digunakan untuk memprediksi testing set menghasilkan skor performance model yg valid. Untuk itu diperlukan prediksi ulang model thd inference set. Inference set diambil dari dataset fitur original yg telah menjalani feature selection (X_fs). Berdasarkan hasil feature selection sebelumnya, kolom sex dan marital_status tidak berkorelasi dgn target, sehingga akan di-drop dari inference set."
      ],
      "metadata": {
        "id": "FzL-hqtzraGp"
      }
    },
    {
      "cell_type": "code",
      "source": [
        "# Buat dataset inference dari dataset original X. Hapus kolom sex dan marital_status sesuai hasil feature selection sebelumnya\n",
        "X_fs = X.drop(['sex','marital_status'], axis=1)"
      ],
      "metadata": {
        "id": "mRrU4Xqlzkqy"
      },
      "execution_count": null,
      "outputs": []
    },
    {
      "cell_type": "code",
      "source": [
        "# Lakukan handling outliers utk dataset inference hasil feature selection\n",
        "windsoriser_inf = Winsorizer(capping_method='iqr', \n",
        "                          tail='both', \n",
        "                          fold=1.5)\n",
        "\n",
        "# Fitting winsorizer ke dataset X_fs\n",
        "windsoriser_inf.fit(X_fs)\n",
        "\n",
        "# Transformasi dataset X_fs \n",
        "X_fs_ho = windsoriser_inf.transform(X_fs)"
      ],
      "metadata": {
        "id": "1N6KOdrow3ec"
      },
      "execution_count": null,
      "outputs": []
    },
    {
      "cell_type": "markdown",
      "source": [
        "# Base Model"
      ],
      "metadata": {
        "id": "WkgNaDep5WrP"
      }
    },
    {
      "cell_type": "markdown",
      "source": [
        "Kita akan memprediksi base model pada inference set"
      ],
      "metadata": {
        "id": "ib2hgMO9b6vR"
      }
    },
    {
      "cell_type": "code",
      "source": [
        "y_base_pred_inf_log = base_log.predict(X_fs_ho)"
      ],
      "metadata": {
        "id": "TCT8jBXW5eDQ"
      },
      "execution_count": null,
      "outputs": []
    },
    {
      "cell_type": "code",
      "source": [
        "y_base_pred_inf_svm = base_svm.predict(X_fs_ho)"
      ],
      "metadata": {
        "id": "BAAkJvVr5yat"
      },
      "execution_count": null,
      "outputs": []
    },
    {
      "cell_type": "code",
      "source": [
        "y_base_pred_inf_dtc = base_dtc.predict(X_fs_ho)"
      ],
      "metadata": {
        "id": "2xZy_RfX53GK"
      },
      "execution_count": null,
      "outputs": []
    },
    {
      "cell_type": "code",
      "source": [
        "y_base_pred_inf_rfc = base_rfc.predict(X_fs_ho)"
      ],
      "metadata": {
        "id": "JKhLfhcC556L"
      },
      "execution_count": null,
      "outputs": []
    },
    {
      "cell_type": "code",
      "source": [
        "y_base_pred_inf_knn = base_knn.predict(X_fs_ho)"
      ],
      "metadata": {
        "id": "zB_Q0goz5879"
      },
      "execution_count": null,
      "outputs": []
    },
    {
      "cell_type": "code",
      "source": [
        "y_base_pred_inf_xbs = base_xbs.predict(X_fs_ho)"
      ],
      "metadata": {
        "id": "HcIS4aAy6Arz"
      },
      "execution_count": null,
      "outputs": []
    },
    {
      "cell_type": "code",
      "source": [
        "# Tambahkan kolom baru ke tabel summary_table berisi skor hasil prediksi masing2 model inferencepada inference set\n",
        "summary_table['Accuracy Score (Inference-Base)'] = [accuracy_score(y,y_base_pred_inf_log), accuracy_score(y,y_base_pred_inf_svm),\n",
        "                                       accuracy_score(y,y_base_pred_inf_dtc), accuracy_score(y,y_base_pred_inf_rfc),\n",
        "                                      accuracy_score(y,y_base_pred_inf_knn), '',\n",
        "                                       accuracy_score(y,y_base_pred_inf_xbs)]"
      ],
      "metadata": {
        "id": "TuFmjHJR6UCp"
      },
      "execution_count": null,
      "outputs": []
    },
    {
      "cell_type": "markdown",
      "source": [
        "# Tuned Model"
      ],
      "metadata": {
        "id": "MJ3oOMw_5aTQ"
      }
    },
    {
      "cell_type": "markdown",
      "source": [
        "Berikutnya, kita langsung memprediksi model hasil hyperparameter tuning pada inference set"
      ],
      "metadata": {
        "id": "Cvw89hvWo_0Z"
      }
    },
    {
      "cell_type": "code",
      "source": [
        "# Prediksi nilai target pada inference set menggunakan model Logistic Regression dgn hyperparameter terbaik\n",
        "y_pred_inf_log = grid_log.best_estimator_.predict(X_fs_ho)"
      ],
      "metadata": {
        "id": "KB3ekfNPzvu3"
      },
      "execution_count": null,
      "outputs": []
    },
    {
      "cell_type": "code",
      "source": [
        "# Prediksi nilai target pada inference set menggunakan model SVC dgn hyperparameter terbaik\n",
        "y_pred_inf_svm = grid_svm.best_estimator_.predict(X_fs_ho)"
      ],
      "metadata": {
        "id": "1fxJCrPaz7JE"
      },
      "execution_count": null,
      "outputs": []
    },
    {
      "cell_type": "code",
      "source": [
        "# Prediksi nilai target pada inference set menggunakan model Decision Tree dgn hyperparameter terbaik\n",
        "y_pred_inf_dtc = grid_dtc.best_estimator_.predict(X_fs_ho)"
      ],
      "metadata": {
        "id": "MxdQUcc1z_uk"
      },
      "execution_count": null,
      "outputs": []
    },
    {
      "cell_type": "code",
      "source": [
        "# Prediksi nilai target pada inference set menggunakan model Random Forest dgn hyperparameter terbaik\n",
        "y_pred_inf_rfc = grid_rfc.best_estimator_.predict(X_fs_ho)"
      ],
      "metadata": {
        "id": "bqBUcZGI0E1p"
      },
      "execution_count": null,
      "outputs": []
    },
    {
      "cell_type": "code",
      "source": [
        "# Prediksi nilai target pada inference set menggunakan model k-Nearest Neighbors dgn hyperparameter terbaik\n",
        "y_pred_inf_knn = grid_knn.best_estimator_.predict(X_fs_ho)"
      ],
      "metadata": {
        "id": "4MRi4o5i0IQe"
      },
      "execution_count": null,
      "outputs": []
    },
    {
      "cell_type": "code",
      "source": [
        "# Prediksi nilai target pada inference set menggunakan model Gaussian Naive Bayes\n",
        "y_pred_inf_gnb = gnb_model.predict(X_fs_ho)"
      ],
      "metadata": {
        "id": "gRDga16o0Kyn"
      },
      "execution_count": null,
      "outputs": []
    },
    {
      "cell_type": "code",
      "source": [
        "# Prediksi nilai target pada inference set menggunakan model XGBoost dgn hyperparameter terbaik\n",
        "y_pred_inf_xbs = grid_xbs.best_estimator_.predict(X_fs_ho)"
      ],
      "metadata": {
        "id": "lSF58tll0VAy"
      },
      "execution_count": null,
      "outputs": []
    },
    {
      "cell_type": "markdown",
      "source": [
        "Hasil prediksi model pada inference set mempunyai nilai accuracy score. Tambahkan kolom tsb pada summary_table."
      ],
      "metadata": {
        "id": "nQ0J_CLopNjD"
      }
    },
    {
      "cell_type": "code",
      "source": [
        "# Tambahkan kolom baru ke tabel summary_table berisi skor hasil prediksi masing2 model tuned pada inference set\n",
        "summary_table['Accuracy Score (Inference-Tuned)'] = [accuracy_score(y,y_pred_inf_log), accuracy_score(y,y_pred_inf_svm),\n",
        "                                       accuracy_score(y,y_pred_inf_dtc), accuracy_score(y,y_pred_inf_rfc),\n",
        "                                      accuracy_score(y,y_pred_inf_knn), accuracy_score(y,y_pred_inf_gnb),\n",
        "                                       accuracy_score(y,y_pred_inf_xbs)]\n",
        "# Tampilkan summary_table\n",
        "summary_table"
      ],
      "metadata": {
        "colab": {
          "base_uri": "https://localhost:8080/",
          "height": 434
        },
        "id": "lSI1-vZ00gIg",
        "outputId": "4c7ab352-6a49-448b-ca5f-333c7875b267"
      },
      "execution_count": null,
      "outputs": [
        {
          "output_type": "execute_result",
          "data": {
            "text/plain": [
              "                                                 Best Hyperparameter  \\\n",
              "Logistic Regression                         max_iter=1000,penalty=l2   \n",
              "SVM                                       C=1, gamma=0.1, kernel=rbf   \n",
              "Decision Tree                         criterion=entropy, max_depth=5   \n",
              "Random Forest         criterion=gini, max_depth=10, n_estimators=100   \n",
              "K-Nearest Neighbors                                   n_neighbors=14   \n",
              "Gaussian Naive Bayes                                                   \n",
              "XGBoost                               learning_rate=0.1, max_depth=2   \n",
              "\n",
              "                     Accuracy Score (Train-Base) Accuracy Score (Test-Base)  \\\n",
              "Logistic Regression                     0.836145                   0.839326   \n",
              "SVM                                     0.849639                   0.835955   \n",
              "Decision Tree                           0.999518                   0.999518   \n",
              "Random Forest                           0.999518                   0.829213   \n",
              "K-Nearest Neighbors                      0.85494                   0.821348   \n",
              "Gaussian Naive Bayes                                                          \n",
              "XGBoost                                 0.873735                   0.840449   \n",
              "\n",
              "                      Accuracy Score (Train-Tuned)  \\\n",
              "Logistic Regression                       0.836145   \n",
              "SVM                                       0.842892   \n",
              "Decision Tree                             0.853012   \n",
              "Random Forest                             0.914217   \n",
              "K-Nearest Neighbors                       0.839518   \n",
              "Gaussian Naive Bayes                      0.304096   \n",
              "XGBoost                                   0.851084   \n",
              "\n",
              "                      Accuracy Score (Test-Tuned)  \\\n",
              "Logistic Regression                      0.839326   \n",
              "SVM                                      0.834831   \n",
              "Decision Tree                            0.815730   \n",
              "Random Forest                            0.828090   \n",
              "K-Nearest Neighbors                      0.821348   \n",
              "Gaussian Naive Bayes                     0.321348   \n",
              "XGBoost                                  0.837079   \n",
              "\n",
              "                     Accuracy Score (Inference-Base)  \\\n",
              "Logistic Regression                         0.837437   \n",
              "SVM                                         0.845531   \n",
              "Decision Tree                               0.915008   \n",
              "Random Forest                               0.944351   \n",
              "K-Nearest Neighbors                         0.844519   \n",
              "Gaussian Naive Bayes                                   \n",
              "XGBoost                                     0.861383   \n",
              "\n",
              "                      Accuracy Score (Inference-Tuned)  \n",
              "Logistic Regression                           0.837437  \n",
              "SVM                                           0.840472  \n",
              "Decision Tree                                 0.839460  \n",
              "Random Forest                                 0.887690  \n",
              "K-Nearest Neighbors                           0.834064  \n",
              "Gaussian Naive Bayes                          0.308263  \n",
              "XGBoost                                       0.846206  "
            ],
            "text/html": [
              "\n",
              "  <div id=\"df-0b9181bb-f8d7-44fc-bc03-de903b66a42b\">\n",
              "    <div class=\"colab-df-container\">\n",
              "      <div>\n",
              "<style scoped>\n",
              "    .dataframe tbody tr th:only-of-type {\n",
              "        vertical-align: middle;\n",
              "    }\n",
              "\n",
              "    .dataframe tbody tr th {\n",
              "        vertical-align: top;\n",
              "    }\n",
              "\n",
              "    .dataframe thead th {\n",
              "        text-align: right;\n",
              "    }\n",
              "</style>\n",
              "<table border=\"1\" class=\"dataframe\">\n",
              "  <thead>\n",
              "    <tr style=\"text-align: right;\">\n",
              "      <th></th>\n",
              "      <th>Best Hyperparameter</th>\n",
              "      <th>Accuracy Score (Train-Base)</th>\n",
              "      <th>Accuracy Score (Test-Base)</th>\n",
              "      <th>Accuracy Score (Train-Tuned)</th>\n",
              "      <th>Accuracy Score (Test-Tuned)</th>\n",
              "      <th>Accuracy Score (Inference-Base)</th>\n",
              "      <th>Accuracy Score (Inference-Tuned)</th>\n",
              "    </tr>\n",
              "  </thead>\n",
              "  <tbody>\n",
              "    <tr>\n",
              "      <th>Logistic Regression</th>\n",
              "      <td>max_iter=1000,penalty=l2</td>\n",
              "      <td>0.836145</td>\n",
              "      <td>0.839326</td>\n",
              "      <td>0.836145</td>\n",
              "      <td>0.839326</td>\n",
              "      <td>0.837437</td>\n",
              "      <td>0.837437</td>\n",
              "    </tr>\n",
              "    <tr>\n",
              "      <th>SVM</th>\n",
              "      <td>C=1, gamma=0.1, kernel=rbf</td>\n",
              "      <td>0.849639</td>\n",
              "      <td>0.835955</td>\n",
              "      <td>0.842892</td>\n",
              "      <td>0.834831</td>\n",
              "      <td>0.845531</td>\n",
              "      <td>0.840472</td>\n",
              "    </tr>\n",
              "    <tr>\n",
              "      <th>Decision Tree</th>\n",
              "      <td>criterion=entropy, max_depth=5</td>\n",
              "      <td>0.999518</td>\n",
              "      <td>0.999518</td>\n",
              "      <td>0.853012</td>\n",
              "      <td>0.815730</td>\n",
              "      <td>0.915008</td>\n",
              "      <td>0.839460</td>\n",
              "    </tr>\n",
              "    <tr>\n",
              "      <th>Random Forest</th>\n",
              "      <td>criterion=gini, max_depth=10, n_estimators=100</td>\n",
              "      <td>0.999518</td>\n",
              "      <td>0.829213</td>\n",
              "      <td>0.914217</td>\n",
              "      <td>0.828090</td>\n",
              "      <td>0.944351</td>\n",
              "      <td>0.887690</td>\n",
              "    </tr>\n",
              "    <tr>\n",
              "      <th>K-Nearest Neighbors</th>\n",
              "      <td>n_neighbors=14</td>\n",
              "      <td>0.85494</td>\n",
              "      <td>0.821348</td>\n",
              "      <td>0.839518</td>\n",
              "      <td>0.821348</td>\n",
              "      <td>0.844519</td>\n",
              "      <td>0.834064</td>\n",
              "    </tr>\n",
              "    <tr>\n",
              "      <th>Gaussian Naive Bayes</th>\n",
              "      <td></td>\n",
              "      <td></td>\n",
              "      <td></td>\n",
              "      <td>0.304096</td>\n",
              "      <td>0.321348</td>\n",
              "      <td></td>\n",
              "      <td>0.308263</td>\n",
              "    </tr>\n",
              "    <tr>\n",
              "      <th>XGBoost</th>\n",
              "      <td>learning_rate=0.1, max_depth=2</td>\n",
              "      <td>0.873735</td>\n",
              "      <td>0.840449</td>\n",
              "      <td>0.851084</td>\n",
              "      <td>0.837079</td>\n",
              "      <td>0.861383</td>\n",
              "      <td>0.846206</td>\n",
              "    </tr>\n",
              "  </tbody>\n",
              "</table>\n",
              "</div>\n",
              "      <button class=\"colab-df-convert\" onclick=\"convertToInteractive('df-0b9181bb-f8d7-44fc-bc03-de903b66a42b')\"\n",
              "              title=\"Convert this dataframe to an interactive table.\"\n",
              "              style=\"display:none;\">\n",
              "        \n",
              "  <svg xmlns=\"http://www.w3.org/2000/svg\" height=\"24px\"viewBox=\"0 0 24 24\"\n",
              "       width=\"24px\">\n",
              "    <path d=\"M0 0h24v24H0V0z\" fill=\"none\"/>\n",
              "    <path d=\"M18.56 5.44l.94 2.06.94-2.06 2.06-.94-2.06-.94-.94-2.06-.94 2.06-2.06.94zm-11 1L8.5 8.5l.94-2.06 2.06-.94-2.06-.94L8.5 2.5l-.94 2.06-2.06.94zm10 10l.94 2.06.94-2.06 2.06-.94-2.06-.94-.94-2.06-.94 2.06-2.06.94z\"/><path d=\"M17.41 7.96l-1.37-1.37c-.4-.4-.92-.59-1.43-.59-.52 0-1.04.2-1.43.59L10.3 9.45l-7.72 7.72c-.78.78-.78 2.05 0 2.83L4 21.41c.39.39.9.59 1.41.59.51 0 1.02-.2 1.41-.59l7.78-7.78 2.81-2.81c.8-.78.8-2.07 0-2.86zM5.41 20L4 18.59l7.72-7.72 1.47 1.35L5.41 20z\"/>\n",
              "  </svg>\n",
              "      </button>\n",
              "      \n",
              "  <style>\n",
              "    .colab-df-container {\n",
              "      display:flex;\n",
              "      flex-wrap:wrap;\n",
              "      gap: 12px;\n",
              "    }\n",
              "\n",
              "    .colab-df-convert {\n",
              "      background-color: #E8F0FE;\n",
              "      border: none;\n",
              "      border-radius: 50%;\n",
              "      cursor: pointer;\n",
              "      display: none;\n",
              "      fill: #1967D2;\n",
              "      height: 32px;\n",
              "      padding: 0 0 0 0;\n",
              "      width: 32px;\n",
              "    }\n",
              "\n",
              "    .colab-df-convert:hover {\n",
              "      background-color: #E2EBFA;\n",
              "      box-shadow: 0px 1px 2px rgba(60, 64, 67, 0.3), 0px 1px 3px 1px rgba(60, 64, 67, 0.15);\n",
              "      fill: #174EA6;\n",
              "    }\n",
              "\n",
              "    [theme=dark] .colab-df-convert {\n",
              "      background-color: #3B4455;\n",
              "      fill: #D2E3FC;\n",
              "    }\n",
              "\n",
              "    [theme=dark] .colab-df-convert:hover {\n",
              "      background-color: #434B5C;\n",
              "      box-shadow: 0px 1px 3px 1px rgba(0, 0, 0, 0.15);\n",
              "      filter: drop-shadow(0px 1px 2px rgba(0, 0, 0, 0.3));\n",
              "      fill: #FFFFFF;\n",
              "    }\n",
              "  </style>\n",
              "\n",
              "      <script>\n",
              "        const buttonEl =\n",
              "          document.querySelector('#df-0b9181bb-f8d7-44fc-bc03-de903b66a42b button.colab-df-convert');\n",
              "        buttonEl.style.display =\n",
              "          google.colab.kernel.accessAllowed ? 'block' : 'none';\n",
              "\n",
              "        async function convertToInteractive(key) {\n",
              "          const element = document.querySelector('#df-0b9181bb-f8d7-44fc-bc03-de903b66a42b');\n",
              "          const dataTable =\n",
              "            await google.colab.kernel.invokeFunction('convertToInteractive',\n",
              "                                                     [key], {});\n",
              "          if (!dataTable) return;\n",
              "\n",
              "          const docLinkHtml = 'Like what you see? Visit the ' +\n",
              "            '<a target=\"_blank\" href=https://colab.research.google.com/notebooks/data_table.ipynb>data table notebook</a>'\n",
              "            + ' to learn more about interactive tables.';\n",
              "          element.innerHTML = '';\n",
              "          dataTable['output_type'] = 'display_data';\n",
              "          await google.colab.output.renderOutput(dataTable, element);\n",
              "          const docLink = document.createElement('div');\n",
              "          docLink.innerHTML = docLinkHtml;\n",
              "          element.appendChild(docLink);\n",
              "        }\n",
              "      </script>\n",
              "    </div>\n",
              "  </div>\n",
              "  "
            ]
          },
          "metadata": {},
          "execution_count": 225
        }
      ]
    },
    {
      "cell_type": "markdown",
      "source": [
        "Secara keseluruhan, skor akurasi base model dan tuned model cukup robust ketika model diaplikasikan pada inference set. Performance sangat baik ditunjukkan oleh model Random Forest dgn accuracy model base hasil inference 0.94 dan accuracy model tuned hasil inference 0.88. Dengan hasil ini, berdasarkan accuracy score model Random Forest tanpa hyperparameter tuning merupakan model terbaik dari seluruh kategori."
      ],
      "metadata": {
        "id": "RGWQCCPzcxlY"
      }
    },
    {
      "cell_type": "markdown",
      "source": [
        "Berikutnya kita akan menganalisa confusion matrix dan classification report untuk mengetahui skor precision, recall dan f-1 score."
      ],
      "metadata": {
        "id": "3fcSiBl_exYt"
      }
    },
    {
      "cell_type": "markdown",
      "source": [
        "LOGISTIC REGRESSION"
      ],
      "metadata": {
        "id": "CEY9wpAMmyQa"
      }
    },
    {
      "cell_type": "markdown",
      "source": [
        "Confusion matrix utk model Logistic Regression pada hasil prediksi inference set:"
      ],
      "metadata": {
        "id": "xT1vbLM8m2up"
      }
    },
    {
      "cell_type": "code",
      "source": [
        "# Buat confusion matrix untuk hasil prediksi model Logistic Regression menggunakan inference set\n",
        "cm_inf_log = confusion_matrix(y,y_pred_inf_log, labels=grid_log.best_estimator_.classes_)\n",
        "disp_inf_log = ConfusionMatrixDisplay(confusion_matrix=cm_inf_log, display_labels=grid_log.best_estimator_.classes_)\n",
        "\n",
        "disp_inf_log.plot()\n",
        "plt.show()"
      ],
      "metadata": {
        "colab": {
          "base_uri": "https://localhost:8080/",
          "height": 282
        },
        "id": "sxR8jSPXSKpG",
        "outputId": "7252550b-9686-4af2-854b-f5ef59169e01"
      },
      "execution_count": null,
      "outputs": [
        {
          "output_type": "display_data",
          "data": {
            "text/plain": [
              "<Figure size 432x288 with 2 Axes>"
            ],
            "image/png": "[encoded data removed]"
          },
          "metadata": {}
        }
      ]
    },
    {
      "cell_type": "markdown",
      "source": [
        "Hasil confusion matrix utk inference set:\n",
        "TP = 245, TN = 2238, FP = 92, FN = 390"
      ],
      "metadata": {
        "id": "W2zuKW64tfeY"
      }
    },
    {
      "cell_type": "markdown",
      "source": [
        "Hasil classification report utk inference set:"
      ],
      "metadata": {
        "id": "sWnxGb9onu3y"
      }
    },
    {
      "cell_type": "code",
      "source": [
        "# Tampilkan classification report\n",
        "print(classification_report(y,y_pred_inf_log))"
      ],
      "metadata": {
        "colab": {
          "base_uri": "https://localhost:8080/"
        },
        "id": "LeirLWstSWqo",
        "outputId": "aa9aedf0-8cf3-4551-e5cb-666f796a5724"
      },
      "execution_count": null,
      "outputs": [
        {
          "output_type": "stream",
          "name": "stdout",
          "text": [
            "              precision    recall  f1-score   support\n",
            "\n",
            "           0       0.85      0.96      0.90      2330\n",
            "           1       0.73      0.39      0.50       635\n",
            "\n",
            "    accuracy                           0.84      2965\n",
            "   macro avg       0.79      0.67      0.70      2965\n",
            "weighted avg       0.82      0.84      0.82      2965\n",
            "\n"
          ]
        }
      ]
    },
    {
      "cell_type": "markdown",
      "source": [
        "SUPPORT VECTOR MACHINE"
      ],
      "metadata": {
        "id": "EKoYbswYnEyt"
      }
    },
    {
      "cell_type": "markdown",
      "source": [
        "Confusion matrix utk model SVC pada hasil prediksi inference set:"
      ],
      "metadata": {
        "id": "8NiNSeyIm8hd"
      }
    },
    {
      "cell_type": "code",
      "source": [
        "# Buat confusion matrix untuk hasil prediksi model SVC menggunakan inference set\n",
        "cm_inf_svm = confusion_matrix(y,y_pred_inf_svm, labels=grid_svm.best_estimator_.classes_)\n",
        "disp_inf_svm = ConfusionMatrixDisplay(confusion_matrix=cm_inf_log, display_labels=grid_svm.best_estimator_.classes_)\n",
        "\n",
        "disp_inf_svm.plot()\n",
        "plt.show()"
      ],
      "metadata": {
        "colab": {
          "base_uri": "https://localhost:8080/",
          "height": 282
        },
        "id": "EaW3h0HxScEf",
        "outputId": "723ed09f-37e5-4308-dffa-7b072ecc6516"
      },
      "execution_count": null,
      "outputs": [
        {
          "output_type": "display_data",
          "data": {
            "text/plain": [
              "<Figure size 432x288 with 2 Axes>"
            ],
            "image/png": "[encoded data removed]"
          },
          "metadata": {}
        }
      ]
    },
    {
      "cell_type": "markdown",
      "source": [
        "Hasil confusion matrix utk inference set:\n",
        "TP = 245, TN = 2238, FP = 92, FN = 390"
      ],
      "metadata": {
        "id": "3_0eDCW8toXq"
      }
    },
    {
      "cell_type": "markdown",
      "source": [
        "Hasil classification report utk inference set:"
      ],
      "metadata": {
        "id": "b-Or9RCrnxdt"
      }
    },
    {
      "cell_type": "code",
      "source": [
        "# Tampilkan classification report\n",
        "print(classification_report(y,y_pred_inf_svm))"
      ],
      "metadata": {
        "colab": {
          "base_uri": "https://localhost:8080/"
        },
        "id": "znbM9iaeUIVa",
        "outputId": "b2915ff8-39f9-4b4c-92ee-3cdb70062b55"
      },
      "execution_count": null,
      "outputs": [
        {
          "output_type": "stream",
          "name": "stdout",
          "text": [
            "              precision    recall  f1-score   support\n",
            "\n",
            "           0       0.85      0.96      0.90      2330\n",
            "           1       0.74      0.39      0.51       635\n",
            "\n",
            "    accuracy                           0.84      2965\n",
            "   macro avg       0.80      0.68      0.71      2965\n",
            "weighted avg       0.83      0.84      0.82      2965\n",
            "\n"
          ]
        }
      ]
    },
    {
      "cell_type": "markdown",
      "source": [
        "DECISION TREE"
      ],
      "metadata": {
        "id": "Pr0N_o9mnPQx"
      }
    },
    {
      "cell_type": "markdown",
      "source": [
        "Confusion matrix utk model Decision Tree pada hasil prediksi inference set:"
      ],
      "metadata": {
        "id": "DQaNnJfcnJbe"
      }
    },
    {
      "cell_type": "code",
      "source": [
        "# Buat confusion matrix untuk hasil prediksi model Decision Tree menggunakan inference set\n",
        "cm_inf_dtc = confusion_matrix(y,y_pred_inf_dtc, labels=grid_dtc.best_estimator_.classes_)\n",
        "disp_inf_dtc = ConfusionMatrixDisplay(confusion_matrix=cm_inf_dtc, display_labels=grid_dtc.best_estimator_.classes_)\n",
        "\n",
        "disp_inf_dtc.plot()\n",
        "plt.show()"
      ],
      "metadata": {
        "colab": {
          "base_uri": "https://localhost:8080/",
          "height": 282
        },
        "id": "DE8WYH5GSoWJ",
        "outputId": "d23fa6ac-6599-420a-a7b1-0ede51a3bd4b"
      },
      "execution_count": null,
      "outputs": [
        {
          "output_type": "display_data",
          "data": {
            "text/plain": [
              "<Figure size 432x288 with 2 Axes>"
            ],
            "image/png": "[encoded data removed]"
          },
          "metadata": {}
        }
      ]
    },
    {
      "cell_type": "markdown",
      "source": [
        "Hasil confusion matrix utk inference set:\n",
        "TP = 277, TN = 2212, FP = 118, FN = 358"
      ],
      "metadata": {
        "id": "FrEfckqQt2a9"
      }
    },
    {
      "cell_type": "markdown",
      "source": [
        "Hasil classification report utk inference set:"
      ],
      "metadata": {
        "id": "ZugtwTbmnzPH"
      }
    },
    {
      "cell_type": "code",
      "source": [
        "# Tampilkan classification report\n",
        "print(classification_report(y,y_pred_inf_dtc))"
      ],
      "metadata": {
        "colab": {
          "base_uri": "https://localhost:8080/"
        },
        "id": "8Dyj5CvxUNNq",
        "outputId": "0f3e23d8-7a18-427f-ad9c-47db711f8711"
      },
      "execution_count": null,
      "outputs": [
        {
          "output_type": "stream",
          "name": "stdout",
          "text": [
            "              precision    recall  f1-score   support\n",
            "\n",
            "           0       0.86      0.95      0.90      2330\n",
            "           1       0.70      0.44      0.54       635\n",
            "\n",
            "    accuracy                           0.84      2965\n",
            "   macro avg       0.78      0.69      0.72      2965\n",
            "weighted avg       0.83      0.84      0.82      2965\n",
            "\n"
          ]
        }
      ]
    },
    {
      "cell_type": "markdown",
      "source": [
        "RANDOM FOREST"
      ],
      "metadata": {
        "id": "sKVEpyUXnV-0"
      }
    },
    {
      "cell_type": "markdown",
      "source": [
        "Confusion matrix utk model Random Forest pada hasil prediksi inference set:"
      ],
      "metadata": {
        "id": "CbxpTY34nRs7"
      }
    },
    {
      "cell_type": "code",
      "source": [
        "# Buat confusion matrix untuk hasil prediksi model Random Forest menggunakan inference set\n",
        "cm_inf_rfc = confusion_matrix(y,y_pred_inf_rfc, labels=grid_rfc.best_estimator_.classes_)\n",
        "disp_inf_rfc = ConfusionMatrixDisplay(confusion_matrix=cm_inf_rfc, display_labels=grid_rfc.best_estimator_.classes_)\n",
        "\n",
        "disp_inf_rfc.plot()\n",
        "plt.show()"
      ],
      "metadata": {
        "colab": {
          "base_uri": "https://localhost:8080/",
          "height": 282
        },
        "id": "Ms3tzBtZSyHq",
        "outputId": "9e55b029-34ed-4db5-bc9d-36b7a7e81aa4"
      },
      "execution_count": null,
      "outputs": [
        {
          "output_type": "display_data",
          "data": {
            "text/plain": [
              "<Figure size 432x288 with 2 Axes>"
            ],
            "image/png": "[encoded data removed]"
          },
          "metadata": {}
        }
      ]
    },
    {
      "cell_type": "markdown",
      "source": [
        "Hasil confusion matrix utk inference set:\n",
        "TP = 331, TN = 2301 FP = 29, FN = 304"
      ],
      "metadata": {
        "id": "zu30v5j5t_Kt"
      }
    },
    {
      "cell_type": "markdown",
      "source": [
        "Hasil classification report utk inference set:"
      ],
      "metadata": {
        "id": "Fir5XjTVn0uk"
      }
    },
    {
      "cell_type": "code",
      "source": [
        "# Tampilkan classification report\n",
        "print(classification_report(y,y_pred_inf_rfc))"
      ],
      "metadata": {
        "colab": {
          "base_uri": "https://localhost:8080/"
        },
        "id": "zRk16BWgUVjh",
        "outputId": "f6256c85-1cfb-48d1-ad20-9a5c51761bb4"
      },
      "execution_count": null,
      "outputs": [
        {
          "output_type": "stream",
          "name": "stdout",
          "text": [
            "              precision    recall  f1-score   support\n",
            "\n",
            "           0       0.88      0.99      0.93      2330\n",
            "           1       0.92      0.52      0.67       635\n",
            "\n",
            "    accuracy                           0.89      2965\n",
            "   macro avg       0.90      0.75      0.80      2965\n",
            "weighted avg       0.89      0.89      0.88      2965\n",
            "\n"
          ]
        }
      ]
    },
    {
      "cell_type": "markdown",
      "source": [
        "K-NEAREST NEIGHBORS"
      ],
      "metadata": {
        "id": "BtEdCmMqnYRH"
      }
    },
    {
      "cell_type": "markdown",
      "source": [
        "Confusion matrix utk model k-Nearest Neighbors pada hasil prediksi inference set:"
      ],
      "metadata": {
        "id": "6Nt1v3mcna3o"
      }
    },
    {
      "cell_type": "code",
      "source": [
        "# Buat confusion matrix untuk hasil prediksi model k-Nearest Neighbors menggunakan inference set\n",
        "cm_inf_knn = confusion_matrix(y,y_pred_inf_knn, labels=grid_knn.best_estimator_.classes_)\n",
        "disp_inf_knn = ConfusionMatrixDisplay(confusion_matrix=cm_inf_knn, display_labels=grid_knn.best_estimator_.classes_)\n",
        "\n",
        "disp_inf_knn.plot()\n",
        "plt.show()"
      ],
      "metadata": {
        "colab": {
          "base_uri": "https://localhost:8080/",
          "height": 282
        },
        "id": "PJUTBFusS4rN",
        "outputId": "e7ffddd3-5370-44c2-9b14-597f97d15ea8"
      },
      "execution_count": null,
      "outputs": [
        {
          "output_type": "display_data",
          "data": {
            "text/plain": [
              "<Figure size 432x288 with 2 Axes>"
            ],
            "image/png": "[encoded data removed]"
          },
          "metadata": {}
        }
      ]
    },
    {
      "cell_type": "markdown",
      "source": [
        "Hasil confusion matrix utk inference set:\n",
        "TP = 224, TN = 2249, FP = 81, FN = 411"
      ],
      "metadata": {
        "id": "7vlfPQFluEpW"
      }
    },
    {
      "cell_type": "markdown",
      "source": [
        "Hasil classification report utk inference set:"
      ],
      "metadata": {
        "id": "s1jXwhwxn14g"
      }
    },
    {
      "cell_type": "code",
      "source": [
        "# Tampilkan classification report\n",
        "print(classification_report(y,y_pred_inf_knn))"
      ],
      "metadata": {
        "colab": {
          "base_uri": "https://localhost:8080/"
        },
        "id": "82f4bJz6UYE-",
        "outputId": "726be15a-9811-42dd-c027-7f5761ae40db"
      },
      "execution_count": null,
      "outputs": [
        {
          "output_type": "stream",
          "name": "stdout",
          "text": [
            "              precision    recall  f1-score   support\n",
            "\n",
            "           0       0.85      0.97      0.90      2330\n",
            "           1       0.73      0.35      0.48       635\n",
            "\n",
            "    accuracy                           0.83      2965\n",
            "   macro avg       0.79      0.66      0.69      2965\n",
            "weighted avg       0.82      0.83      0.81      2965\n",
            "\n"
          ]
        }
      ]
    },
    {
      "cell_type": "markdown",
      "source": [
        "GAUSSIAN NAIVE BAYES"
      ],
      "metadata": {
        "id": "81rEJHGpnflc"
      }
    },
    {
      "cell_type": "markdown",
      "source": [
        "Confusion matrix utk model Gaussian Naive Bayes pada hasil prediksi inference set:"
      ],
      "metadata": {
        "id": "Bz3jcwkxnhgl"
      }
    },
    {
      "cell_type": "code",
      "source": [
        "# Buat confusion matrix untuk hasil prediksi model Gaussian Naive Bayes menggunakan inference set\n",
        "cm_inf_gnb = confusion_matrix(y,y_pred_inf_gnb, labels=gnb_model.classes_)\n",
        "disp_inf_gnb = ConfusionMatrixDisplay(confusion_matrix=cm_inf_gnb, display_labels=gnb_model.classes_)\n",
        "\n",
        "disp_inf_gnb.plot()\n",
        "plt.show()"
      ],
      "metadata": {
        "colab": {
          "base_uri": "https://localhost:8080/",
          "height": 282
        },
        "id": "JRkfpTkqTuXM",
        "outputId": "dda6809c-2046-42e2-ea37-62e314ba7672"
      },
      "execution_count": null,
      "outputs": [
        {
          "output_type": "display_data",
          "data": {
            "text/plain": [
              "<Figure size 432x288 with 2 Axes>"
            ],
            "image/png": "[encoded data removed]"
          },
          "metadata": {}
        }
      ]
    },
    {
      "cell_type": "markdown",
      "source": [
        "Hasil confusion matrix utk inference set:\n",
        "TP = 624, TN = 290, FP = 2040, FN = 11"
      ],
      "metadata": {
        "id": "lQRMz4zKuUe2"
      }
    },
    {
      "cell_type": "markdown",
      "source": [
        "Hasil classification report utk inference set:"
      ],
      "metadata": {
        "id": "6ktHOPZ3n3JP"
      }
    },
    {
      "cell_type": "code",
      "source": [
        "# Tampilkan classification report\n",
        "print(classification_report(y,y_pred_inf_gnb))"
      ],
      "metadata": {
        "colab": {
          "base_uri": "https://localhost:8080/"
        },
        "id": "dzht1t7cUcLO",
        "outputId": "d36e48ec-05d9-4378-d1b0-7cffb38c52a0"
      },
      "execution_count": null,
      "outputs": [
        {
          "output_type": "stream",
          "name": "stdout",
          "text": [
            "              precision    recall  f1-score   support\n",
            "\n",
            "           0       0.96      0.12      0.22      2330\n",
            "           1       0.23      0.98      0.38       635\n",
            "\n",
            "    accuracy                           0.31      2965\n",
            "   macro avg       0.60      0.55      0.30      2965\n",
            "weighted avg       0.81      0.31      0.25      2965\n",
            "\n"
          ]
        }
      ]
    },
    {
      "cell_type": "markdown",
      "source": [
        "XGBOOST"
      ],
      "metadata": {
        "id": "hlgfKUXInk2o"
      }
    },
    {
      "cell_type": "markdown",
      "source": [
        "Confusion matrix utk model XGBoost pada hasil prediksi inference set:"
      ],
      "metadata": {
        "id": "DZzeHFMgnorR"
      }
    },
    {
      "cell_type": "code",
      "source": [
        "# Buat confusion matrix untuk hasil prediksi model XGBoost menggunakan inference set\n",
        "cm_inf_xbs = confusion_matrix(y,y_pred_inf_xbs, labels=grid_xbs.best_estimator_.classes_)\n",
        "disp_inf_xbs = ConfusionMatrixDisplay(confusion_matrix=cm_inf_xbs, display_labels=grid_xbs.best_estimator_.classes_)\n",
        "\n",
        "disp_inf_xbs.plot()\n",
        "plt.show()"
      ],
      "metadata": {
        "colab": {
          "base_uri": "https://localhost:8080/",
          "height": 286
        },
        "id": "sbSO0ot3T4Ho",
        "outputId": "ca6991ff-0809-4197-86a8-c642d41676e9"
      },
      "execution_count": null,
      "outputs": [
        {
          "output_type": "display_data",
          "data": {
            "text/plain": [
              "<Figure size 432x288 with 2 Axes>"
            ],
            "image/png": "[encoded data removed]"
          },
          "metadata": {}
        }
      ]
    },
    {
      "cell_type": "markdown",
      "source": [
        "Hasil confusion matrix utk inference set:\n",
        "TP = 256, TN = 2253, FP = 77, FN = 379"
      ],
      "metadata": {
        "id": "cKajAmjmubqg"
      }
    },
    {
      "cell_type": "markdown",
      "source": [
        "Hasil classification report utk inference set:"
      ],
      "metadata": {
        "id": "lzlXvAu6n5IU"
      }
    },
    {
      "cell_type": "code",
      "source": [
        "# Tampilkan classification report\n",
        "print(classification_report(y,y_pred_inf_xbs))"
      ],
      "metadata": {
        "colab": {
          "base_uri": "https://localhost:8080/"
        },
        "id": "FK8b7OKsUfc1",
        "outputId": "574a773c-ba67-4b06-92fa-3a45ed07e03f"
      },
      "execution_count": null,
      "outputs": [
        {
          "output_type": "stream",
          "name": "stdout",
          "text": [
            "              precision    recall  f1-score   support\n",
            "\n",
            "           0       0.86      0.97      0.91      2330\n",
            "           1       0.77      0.40      0.53       635\n",
            "\n",
            "    accuracy                           0.85      2965\n",
            "   macro avg       0.81      0.69      0.72      2965\n",
            "weighted avg       0.84      0.85      0.83      2965\n",
            "\n"
          ]
        }
      ]
    },
    {
      "cell_type": "markdown",
      "source": [
        "KESIMPULAN CONFUSION MATRIX DAN CLASSIFICATION REPORT PADA DATA INFERENCE SET"
      ],
      "metadata": {
        "id": "bv9VYP-H3vjM"
      }
    },
    {
      "cell_type": "markdown",
      "source": [
        "Secara keseluruhan, nilai precision, recall dan f-1 hasil model inference tidak jauh beda dengan hasil training dan testing set. Model Random Forest menjadi model terbaik dalam kategori Precision dan f-1 score."
      ],
      "metadata": {
        "id": "pR6YaB2cfR21"
      }
    },
    {
      "cell_type": "markdown",
      "source": [
        "# X. Kesimpulan"
      ],
      "metadata": {
        "id": "ojVTNegOrBgt"
      }
    },
    {
      "cell_type": "markdown",
      "source": [
        "Performance model sudah cukup baik pada training dan testing set secara keseluruhan dgn skor akurasi > 0.8, kecuali Gaussian Naïve Bayes (GNB) dimana hanya mempunyai skor akurasi ~0.3. Buruknya performa GNB bisa dikarenakan bbrp factor: GNB mengasumsikan setiap kelas memiliki distribusi Gaussian dimana distribusi sebenarnya adalah skewed. Selain itu, GNB lebih cocok diterapkan pada data continuous (numerik), sedangkan beberapa kolom pada dataset ini berisi data kategorikal. Ditambah lagi, GNB tidak menjalani cross-validation dan tidak terdapat hyperparameter utk di-tuning. \n",
        "\n",
        "Secara keseluruhan, base model memiliki skor akurasi lbh baik dibandingkan model dgn hyperparameter tuning, kecuali untuk Logistic Regression dan SVM dimana performance kedua model kurang lebih sama. Kondisi overfitting juga terlihat dari table secara keseluruhan karena skor akurasi pada testing set lebih rendah dibanding pada training set pada base model dan tuned model. Sementara itu, base model dgn skor akurasi terbaik adalah Decision Tree dgn skor hampir sempurna (0.99). \n",
        "\n",
        "\n",
        "Berdasarkan classification report, skor recall utk semua model lebih rendah dibandingkan skor precision. Artinya, model jarang memprediksi dgn benar suatu target, namun sekalinya prediksi tsb benar hasilnya terpercaya. Dengan kata lain, porsi false positive (FP) cenderung lbh kecil dibandingkan dgn false negative (FN), membuat prediksi benar (dalam konteks predicted label 0 dan 1) lebih bisa dipercaya. Di sisi lain, f-1 score utk label 0 lbh besar dibandingkan dgn label 1. Artinya, performance model lbh baik dalam memprediksi consumer yg tidak default (0) dibandingkan consumer yg default (1).\n",
        "\n",
        "Model dgn skor precision terbaik utk training set adalah Random Forest dgn nilai macro-average 0.95. Namun, nilai ini turun drastic menjadi 0.78 ketika diuji pada test set, sehingga menandakan nilai yg tinggi tsb dipengaruhi oleh overfitting. Meskipun demikian, nilai ini tidaklah jauh dari nilai precision pada model lain pada test set, dimana nilai terbaik hanya mencapai 0.81. Di sisi lain, nilai precision paling stabil adalah pada XGBoost dgn nilai utk training set 0.81 dan testing set 0.82. \n",
        "\n",
        "Model dgn skor recall terbaik utk training set adalah Random Forest yaitu 0.8 namun nilai ini juga turun drastic menjadi 0.65. Model dgn skor recall terbaik utk testing set adalah Logistic Regression dgn macro-average 0.67. Namun demikian, angka ini tidak jauh berbeda dgn skor recall model2 lain di test set yg memiliki skor sekitar 0.65-0.67.\n",
        "\n",
        "Model dgn f-1 score terbaik pada training set adalah Random Forest dgn macro-average 0.85, namun Ketika diuji pada testing set, nilai macro-average turun ke 0.68. Menariknya, model dgn f-1 score terbaik pada test set adalah Logistic Regression dgn nilai macro-average 0.7. Nilai ini juga cenderung stabil krn sama dgn hasil pada training set. Sedangkan, model dgn performa terburuk utk semua kategori adalah Gaussian Naïve Bayes dgn skor hanya sekitar 0.3.\n",
        "\n",
        "Secara keseluruhan, seluruh metrics untuk model performance (accuracy score, precision, recall dan f-1 score) cukup robust ketika model diaplikasikan pada inference set. Performance sangat baik ditunjukkan oleh model Random Forest dgn accuracy model base hasil inference 0.94 dan accuracy model tuned hasil inference 0.88. Dengan hasil ini, berdasarkan accuracy score model Random Forest tanpa hyperparameter tuning merupakan model terbaik dari seluruh kategori.\n",
        "\n",
        "Setelah mempertimbangkan berbagai factor diatas, model Random Forest tanpa hyperparameter tuning dinyatakan sebagai model terbaik untuk diaplikasikan sebagai algoritma utk memprediksi kemungkinan default user kartu kredit pada dataset credit_card_default.csv. Model ini mempunyai tingkat accuracy score dan precision sangat baik (> 0.9) dan f-1 score yg baik (> 0.8). Kelemahan dari model ini adalah adanya overfitting pada training set. Namun, ketika diuji pada test dan inference set, performa model ini masih sangat baik. Kekurangan lainnya adalah model ini mempunyai skor recall cukup rendah (< 0.7). Namun untuk kasus spesifik seperti memprediksi kemungkinan default pada kartu kredit, skor precision lebih tepat dijadikan acuan dibandingkan skor recall dalam menilai performance model. Mengapa? Karena kesalahan dalam memprediksi bangkrut user yg ternyata tidak bangkrut, lebih dihindari daripada kesalahan dalam memprediksi tidak bangkrut user yg ternyata bangkrut. Pada kasus pertama, kesalahan dapat mengurangi profit margin dari penyedia kartu kredit, tetapi dampak tsb masih minimal. Pada kasus kedua, kesalahan dapat mengakibatkan perusahaan menolak calon2 konsumen yg sebenarnya layak mendapat jasa kartu kredit.  Akibatnya, perusahaan dapat kalah bersaing dgn perusahaan lain yg lbh longgar dalam syarat memberikan kredit pada konsumen2 yg membutuhkan. Oleh karena itu, model Random Forest tanpa hyperparameter tuning (pakai parameter default) direkomendasikan untuk penggunaan credit card default prediction di masa depan.\n"
      ],
      "metadata": {
        "id": "z-dnfaVx7XTS"
      }
    },
    {
      "cell_type": "markdown",
      "source": [
        "# Pertanyaan"
      ],
      "metadata": {
        "id": "EWDa2wyOEhLk"
      }
    },
    {
      "cell_type": "markdown",
      "source": [
        "1. Apakah fungsi parameter criterion pada Decision Tree? Jelaskan salah satu criterion yang kalian pahami!\n",
        "\n",
        "Parameter criterion pada Decision Tree adalah metode yg digunakan oleh pohon utk menentukan fitur utk root dan fitur saat melakukan splitting node. Criterion dibagi menjadi gini dan entropy. Gini adalah probability untuk melakukan salah klasifikasi label pada suatu fitur jika sampel diambil secara acak. Criterion gini pada Decision Tree berarti pohon akan mencari fitur dgn gini index terendah utk dijadikan node. Sedangkan entropy adalah tingkat keacakan data. Semakin data teracak maka semakin tinggi entropy. Pada criterion entropy, pohon akan mencari fitur dgn information gain terbesar (dihitung dari selisih entropi) untuk dijadikan node.\n",
        "\n",
        "2. Apakah fungsi dari pruning pada Tree model?\n",
        "\n",
        "Pruning adalah membatasi ukuran pohon pada Decision Tree atau model2 turunannya dgn cara meniadakan bagian pohon yg tidak critical sehingga algoritma berjalan lebih efisien\n",
        "\n",
        "3. Bagaimana cara memilih K yang optimal pada KNN?\n",
        "\n",
        "Nilai k yg optimal dari KNN adalah jarak terdekat antara data point tetangga dgn data point baru yg ditambahkan. Jarak tsb bisa dicari menggunakan Manhattan, Euclidean atau Minkowski distance. Manhattan distance adalah menggunakan penjumlahan dari nilai absolut dari setiap koordinat jarak antar titik. Euclidean distance menggunakan akar penjumlahan nilai kuadrat dari setiap koordinat jarak antar titik. Sedangkan Minkowski distance menggunakan akar bilangan n dari penjumlahan nilai yg dipangkatkan n dari setiap koordinat jarak antar titik. Euclidean distance adalah default pada model sklearn krn paling sering digunakan. Sedangkan jumlah k dari KNN menunjukkan jumlah tetangga yg digunakan utk menarik decision boundary utk melakukan klasifikasi pada target. Jumlah tetangga yg optimal dapat dicari menggunakan hyperparameter tuning spt grid search atau random search, yg akan meng-compare performance masing2 model dgn k_neighbors yg berbeda2.\n",
        "\n",
        "4. Jelaskan apa yang kalian ketahui tentang Cross Validation!\n",
        "\n",
        "Cross-validation adalah melakukan resampling dari data training utk membaginya menjadi bbrp fold utk dilakukan training set baru dan validation set. Misalnya kita atur cv=5, maka training set akan dibagi menjadi 5 fold dgn training set baru masing2 fold sebesar 4/5 dari fold dan validation set masing2 fold sebesar 1/5  dari fold. Resampling tsb dilakukan secara acak. Kemudian model akan di-training pada masing2 training set baru dan gunakan utk memprediksi validation set utk diperoleh performance dari model2 tsb. Kemudian performance dari model2 tsb akan dirata2kan untuk mencari rata2 validation score. Validation score tsb akan dibandingkan dgn model yg di-training di training set asal dan diuji di testing set untuk mendeteksi adanya overfitting.\n",
        "\n",
        "5. Jelaskan apa yang kalian ketahui tentang Accuracy, Precision, Recall, F1 Score!\n",
        "Precision adalah jumlah true positive (TP) dibagi dengan jumlah TP dan false positive (FP). Precision menentukan tingkat akurasi prediksi dari model, diukur dari perbandingan antara prediksi benar yg sesuai dgn data benar dan total prediksi benar yg telah dilakukan.\n",
        "\n",
        "Precision=  TP/(TP+FP)\n",
        "\n",
        "Recall adalah jumlah TP dibagi dengan jumlah TP dan false negative (FN). Recall menentukan\n",
        "tingkat akurasi prediksi dari model, diukur dari perbandingan antara prediksi benar yg sesuai dgn data benar dan total data benar yg ada.\n",
        "\n",
        "Recall=  TP/(TP+FN)\n",
        "\n",
        "Accuracy adalah total jumlah prediksi benar dan salah yg sesuai dengan data dibagi dengan total jumlah prediksi yg telah dilakukan.\n",
        "\n",
        "Accuracy=  (TP+TN)/(TP+TN+FP+FN)\n",
        "\n",
        "F-1 score adalah jumlah prediksi benar yg sesuai dgn data benar, dibagi dengan jumlah prediksi benar yg sesuai ditambah dengan rata2 dari prediksi yg salah. F-1 score merupakan metrik utk mengukur tingkat akurasi model dlm memprediksi benar dgn mempertimbangkan juga antara kesalahan prediksi benar dan kesalahan prediksi salah. \n",
        "\n",
        "F1 Score=  TP/(TP+0.5*(FP+FN))\n",
        "\n"
      ],
      "metadata": {
        "id": "oph1ks-HEj1Z"
      }
    }
  ]
}